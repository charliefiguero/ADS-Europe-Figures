{
 "cells": [
  {
   "cell_type": "code",
   "execution_count": 1,
   "metadata": {},
   "outputs": [],
   "source": [
    "import pandas as pd"
   ]
  },
  {
   "cell_type": "code",
   "execution_count": 2,
   "metadata": {
    "scrolled": true
   },
   "outputs": [
    {
     "name": "stdout",
     "output_type": "stream",
     "text": [
      "                                 Country Name Country Code   2009  2010  2011  \\\n",
      "0                                     Austria          AUT   4.15  4.34  4.12   \n",
      "1                                     Belgium          BEL   3.91  3.92  3.86   \n",
      "2                                    Bulgaria          BGR   5.91  5.86  6.46   \n",
      "3                                 Switzerland          CHE   4.76  4.48  4.52   \n",
      "4                                      Cyprus          CYP   4.37  4.54  4.34   \n",
      "5                                     Czechia          CZE   3.47  3.47  3.54   \n",
      "6                                     Germany          DEU   4.48  4.49  4.46   \n",
      "7                                     Denmark          DNK   4.61  4.41  3.98   \n",
      "8                                   Euro Area           EA   4.82  4.86  4.98   \n",
      "9             Euro Area - 18 countries (2014)         EA18   4.84  4.87  4.99   \n",
      "10       Euro Area - 19 countries (from 2015)         EA19   4.85  4.90  5.00   \n",
      "11                                    Estonia          EST   5.01  5.01  5.35   \n",
      "12                                     Greece          GRC   5.76  5.61  5.96   \n",
      "13                                      Spain          ESP   5.87  6.16  6.28   \n",
      "14                             European Union           EU   4.92  4.94  5.03   \n",
      "15  European Union - 27 countries (from 2007)    EU27_2007   4.92  4.94  5.03   \n",
      "16  European Union - 27 countries (from 2020)    EU27_2020    NaN  4.89  4.99   \n",
      "17  European Union - 28 countries (2013-2020)         EU28    NaN  4.94  5.03   \n",
      "18                                    Finland          FIN   3.71  3.61  3.69   \n",
      "19                                     France          FRA   4.42  4.43  4.61   \n",
      "20                                    Croatia          HRV    NaN  5.54  5.58   \n",
      "21                                    Hungary          HUN   3.51  3.41  3.94   \n",
      "22                                    Ireland          IRL   4.24  4.70  4.63   \n",
      "23                                    Iceland          ISL   4.22  3.61  3.32   \n",
      "24                                      Italy          ITA   5.31  5.38  5.73   \n",
      "25                                  Lithuania          LTU   6.39  7.35  5.84   \n",
      "26                                 Luxembourg          LUX   4.31  4.10  3.97   \n",
      "27                                     Latvia          LVA   7.40  6.84  6.50   \n",
      "28                                 Montenegro          MNE    NaN   NaN   NaN   \n",
      "29                            North Macedonia          MKD    NaN   NaN   NaN   \n",
      "30                                      Malta          MLT   3.99  4.33  4.01   \n",
      "31                                Netherlands          NLD   3.97  3.65  3.75   \n",
      "32                                     Norway          NOR   3.51  3.42  3.28   \n",
      "33                                     Poland          POL   4.97  4.98  4.95   \n",
      "34                                   Portugal          PRT   6.01  5.56  5.68   \n",
      "35                                    Romania          ROU   6.53  6.11  6.24   \n",
      "36                                     Serbia          SRB    NaN   NaN   NaN   \n",
      "37                                     Sweden          SWE   3.96  3.85  3.95   \n",
      "38                                   Slovenia          SVN   3.24  3.42  3.46   \n",
      "39                                   Slovakia          SVK   3.56  3.80  3.81   \n",
      "40                                     Turkey          TUR  10.35  9.93  9.51   \n",
      "41                             United Kingdom          GBR   5.25  5.35  5.34   \n",
      "42                                     Kosovo          XKX    NaN   NaN   NaN   \n",
      "\n",
      "     2012  2013  2014   2015   2016  2017   2018  2019  2020  \n",
      "0    4.20  4.11  4.13   4.05   4.09  4.29   4.04  4.17   NaN  \n",
      "1    3.95  3.81  3.81   3.83   3.85  3.84   3.79  3.61   NaN  \n",
      "2    6.12  6.59  6.81   7.11   7.69  8.23   7.66  8.10  8.01  \n",
      "3    4.40  4.22  4.42   4.48   4.42  4.63   4.50  4.75   NaN  \n",
      "4    4.67  4.91  5.37   5.20   4.88  4.56   4.29  4.58   NaN  \n",
      "5    3.49  3.40  3.50   3.51   3.50  3.40   3.32  3.34   NaN  \n",
      "6    4.30  4.60  5.12   4.80   4.62  4.49   5.07  4.89   NaN  \n",
      "7    3.94  4.01  4.12   4.08   4.06  4.08   4.11  4.09   NaN  \n",
      "8    4.97  5.04  5.22   5.16   5.15  5.05   5.07  4.98   NaN  \n",
      "9    4.97  5.04  5.22   5.14   5.14  5.03   5.05  4.97   NaN  \n",
      "10   4.98  5.05  5.23   5.16   5.15  5.05   5.07  4.98   NaN  \n",
      "11   5.41  5.54  6.48   6.21   5.56  5.42   5.07  5.08   NaN  \n",
      "12   6.63  6.60  6.46   6.51   6.55  6.11   5.51  5.11   NaN  \n",
      "13   6.47  6.29  6.81   6.87   6.60  6.59   6.03  5.94   NaN  \n",
      "14   4.98  5.00  5.20   5.22   5.16  5.08   5.12  5.09   NaN  \n",
      "15   4.98  5.00  5.20   5.22   5.16  5.08   5.12   NaN   NaN  \n",
      "16   4.98  5.05  5.22   5.22   5.16  5.03   5.05  4.99   NaN  \n",
      "17   4.98  5.00  5.20   5.22   5.16  5.08   5.12  5.09   NaN  \n",
      "18   3.69  3.59  3.62   3.56   3.58  3.54   3.65  3.69  3.72  \n",
      "19   4.54  4.48  4.27   4.29   4.32  4.31   4.23  4.27   NaN  \n",
      "20   5.36  5.34  5.12   5.16   5.00  5.03   5.00  4.76   NaN  \n",
      "21   4.00  4.29  4.33   4.30   4.26  4.27   4.35  4.23   NaN  \n",
      "22   4.82  4.73  4.90   4.50   4.45  4.63   4.23  4.03   NaN  \n",
      "23   3.36  3.36  3.12   3.43   3.33  3.59   3.21   NaN   NaN  \n",
      "24   5.64  5.85  5.78   5.84   6.27  5.92   6.09  6.01   NaN  \n",
      "25   5.32  6.05  6.10   7.46   7.06  7.28   7.09  6.44   NaN  \n",
      "26   4.13  4.59  4.42   4.26   4.62  4.56   5.18  5.34   NaN  \n",
      "27   6.47  6.32  6.48   6.51   6.20  6.30   6.78  6.54   NaN  \n",
      "28    NaN  8.54  7.27   7.48   7.38  7.57   7.37  6.72   NaN  \n",
      "29  10.20  8.37  7.22   6.62   6.63  6.38   6.16  5.56   NaN  \n",
      "30   3.94  4.14  4.05   4.15   4.22  4.21   4.28  4.18   NaN  \n",
      "31   3.61  3.58  3.83   3.82   3.93  3.99   4.05  3.94  4.04  \n",
      "32   3.21  3.25  3.41   3.50   3.69  3.90   3.71  3.81   NaN  \n",
      "33   4.92  4.88  4.91   4.92   4.76  4.56   4.25  4.37   NaN  \n",
      "34   5.82  6.01  6.23   6.01   5.88  5.75   5.22  5.16   NaN  \n",
      "35   6.60  6.83  7.24   8.32   7.20  6.45   7.21  7.08   NaN  \n",
      "36    NaN  8.59  9.41  10.70  11.02  9.38   8.58  6.46   NaN  \n",
      "37   3.98  3.97  4.15   4.06   4.25  4.27   4.13  4.33   NaN  \n",
      "38   3.44  3.60  3.70   3.60   3.56  3.42   3.38  3.39   NaN  \n",
      "39   3.73  3.58  3.93   3.54   3.63  3.49   3.03  3.34   NaN  \n",
      "40   9.33  8.70  8.35   8.61   8.65  8.68   8.66  8.35   NaN  \n",
      "41   4.98  4.63  5.06   5.23   5.12  5.40   5.63   NaN   NaN  \n",
      "42    NaN   NaN   NaN    NaN    NaN   NaN  15.58   NaN   NaN  \n"
     ]
    }
   ],
   "source": [
    "gdpdelta_file = 'gdp_delta_updated.csv'\n",
    "gdpdelta_df = pd.read_csv(gdpdelta_file)\n",
    "gdpdelta_df = gdpdelta_df.applymap(lambda x: 'NaN' if x == ':' else x)\n",
    "\n",
    "labour_productivity_file = 'LabourProductivity.csv'\n",
    "labour_df = pd.read_csv(labour_productivity_file)\n",
    "\n",
    "gdp_file = \"gdp_updated.csv\"\n",
    "gdp_df = pd.read_csv(gdp_file)\n",
    "\n",
    "income_inequality_file = \"incomeinequality_reformatted.csv\"\n",
    "income_ineq_df = pd.read_csv(income_inequality_file)\n",
    "\n",
    "print(income_ineq_df)\n",
    "# print(gdpdelta_df)\n",
    "# print(gdp_df)\n",
    "# print(labour_df)"
   ]
  },
  {
   "cell_type": "code",
   "execution_count": 13,
   "metadata": {
    "scrolled": true
   },
   "outputs": [
    {
     "name": "stderr",
     "output_type": "stream",
     "text": [
      "/Users/charlesfiguero/opt/anaconda3/envs/myenv/lib/python3.7/site-packages/ipykernel_launcher.py:33: UserWarning:\n",
      "\n",
      "FixedFormatter should only be used together with FixedLocator\n",
      "\n",
      "/Users/charlesfiguero/opt/anaconda3/envs/myenv/lib/python3.7/site-packages/ipykernel_launcher.py:34: UserWarning:\n",
      "\n",
      "FixedFormatter should only be used together with FixedLocator\n",
      "\n"
     ]
    },
    {
     "data": {
      "image/png": "[encoded data removed]",
      "text/plain": [
       "<Figure size 432x288 with 1 Axes>"
      ]
     },
     "metadata": {
      "needs_background": "light"
     },
     "output_type": "display_data"
    }
   ],
   "source": [
    "# Calculate correlations for UK...\n",
    "\n",
    "# find UK data\n",
    "uk_gdp_delta = gdpdelta_df.iloc[35]\n",
    "uk_labour = labour_df.iloc[12]\n",
    "uk_gdp = gdp_df.iloc[38]\n",
    "uk_income_ineq = income_ineq_df.iloc[41]\n",
    "\n",
    "# initialise correlation dataframe from 2009 to 2019\n",
    "corr_df = pd.DataFrame()\n",
    "corr_df[\"labour\"] = uk_labour[6:].values\n",
    "corr_df[\"gdp_delta\"] = uk_gdp_delta[1:-1].values\n",
    "# corr_df[\"gdp\"] = uk_gdp[-11:].values\n",
    "corr_df[\"gdp\"] = uk_gdp[-11:].values\n",
    "corr_df[\"income_ineq\"] = uk_income_ineq[2:-1].values\n",
    "\n",
    "# calculate correlation\n",
    "corr_df[:-1].astype(\"float\").corr(\"pearson\")\n",
    "\n",
    "# Plotting\n",
    "import matplotlib.pyplot as plt\n",
    "import numpy as np\n",
    "from matplotlib.colors import ListedColormap\n",
    "\n",
    "uk_corr_data = corr_df[:-1].astype(\"float\").corr(\"pearson\")\n",
    "    \n",
    "fig = plt.figure()\n",
    "ax = fig.add_subplot(111)\n",
    "cax = ax.matshow(uk_corr_data, cmap=\"Pastel1\")\n",
    "\n",
    "ax.set_title('UK Correlation Matrix')\n",
    "axis_labels = ['L. Prod.', 'GDP_Delta', 'GDP', 'Income_Ineq']\n",
    "ax.set_xticklabels(['']+axis_labels)\n",
    "ax.set_yticklabels(['']+axis_labels)\n",
    "\n",
    "for (i, j), z in np.ndenumerate(uk_corr_data):\n",
    "    ax.text(j, i, '{:0.3f}'.format(z), ha='center', va='center')\n",
    "\n",
    "plt.show()"
   ]
  },
  {
   "cell_type": "code",
   "execution_count": 14,
   "metadata": {
    "scrolled": true
   },
   "outputs": [
    {
     "name": "stderr",
     "output_type": "stream",
     "text": [
      "/Users/charlesfiguero/opt/anaconda3/envs/myenv/lib/python3.7/site-packages/ipykernel_launcher.py:29: UserWarning:\n",
      "\n",
      "FixedFormatter should only be used together with FixedLocator\n",
      "\n",
      "/Users/charlesfiguero/opt/anaconda3/envs/myenv/lib/python3.7/site-packages/ipykernel_launcher.py:30: UserWarning:\n",
      "\n",
      "FixedFormatter should only be used together with FixedLocator\n",
      "\n"
     ]
    },
    {
     "data": {
      "image/png": "[encoded data removed]",
      "text/plain": [
       "<Figure size 432x288 with 1 Axes>"
      ]
     },
     "metadata": {
      "needs_background": "light"
     },
     "output_type": "display_data"
    }
   ],
   "source": [
    "# same again for Bulgaria...\n",
    "\n",
    "bulgaria_gdp_delta = gdpdelta_df.iloc[5]\n",
    "bulgaria_labour = labour_df.iloc[2]\n",
    "bulgaria_gdp = gdp_df.iloc[8]\n",
    "bulgaria_income_ineq = income_ineq_df.iloc[8]\n",
    "\n",
    "# initialise correlation dataframe from 2009 to 2019\n",
    "corr_df_bulgaria = pd.DataFrame()\n",
    "corr_df_bulgaria[\"labour\"] = bulgaria_labour[6:].values\n",
    "corr_df_bulgaria[\"gdp_delta\"] = bulgaria_gdp_delta[1:-1].values \n",
    "corr_df_bulgaria[\"gdp\"] = bulgaria_gdp[-11:].values\n",
    "corr_df_bulgaria[\"income_ineq\"]  = bulgaria_income_ineq[2:-1].values\n",
    "\n",
    "# calculate correlation\n",
    "bulgaria_corr_data = corr_df_bulgaria[:-1].astype(\"float\").corr(\"pearson\")\n",
    "\n",
    "# Plotting\n",
    "import matplotlib.pyplot as plt\n",
    "import numpy as np\n",
    "from matplotlib.colors import ListedColormap\n",
    "\n",
    "fig = plt.figure()\n",
    "ax = fig.add_subplot(111)\n",
    "cax = ax.matshow(bulgaria_corr_data, cmap=\"Pastel1\")\n",
    "\n",
    "ax.set_title(\"Bulgaria Correlation Matrix\")\n",
    "axis_labels = ['L. Prod.', 'GDP_Delta', 'GDP', 'Income_Ineq']\n",
    "ax.set_xticklabels(['']+axis_labels)\n",
    "ax.set_yticklabels(['']+axis_labels)\n",
    "\n",
    "for (i, j), z in np.ndenumerate(bulgaria_corr_data):\n",
    "    ax.text(j, i, '{:0.3f}'.format(z), ha='center', va='center')\n",
    "\n",
    "plt.show()"
   ]
  },
  {
   "cell_type": "code",
   "execution_count": 5,
   "metadata": {},
   "outputs": [
    {
     "name": "stderr",
     "output_type": "stream",
     "text": [
      "/Users/charlesfiguero/opt/anaconda3/envs/myenv/lib/python3.7/site-packages/ipykernel_launcher.py:31: UserWarning: FixedFormatter should only be used together with FixedLocator\n",
      "/Users/charlesfiguero/opt/anaconda3/envs/myenv/lib/python3.7/site-packages/ipykernel_launcher.py:32: UserWarning: FixedFormatter should only be used together with FixedLocator\n"
     ]
    },
    {
     "data": {
      "image/png": "[encoded data removed]",
      "text/plain": [
       "<Figure size 432x288 with 1 Axes>"
      ]
     },
     "metadata": {
      "needs_background": "light"
     },
     "output_type": "display_data"
    }
   ],
   "source": [
    "# And France...\n",
    "\n",
    "france_income_ineq = income_ineq_df.iloc[19]\n",
    "france_gdp_delta = gdpdelta_df.iloc[13]\n",
    "france_gdp = gdp_df.iloc[16]\n",
    "france_labour = labour_df.iloc[11]\n",
    "\n",
    "# initialise correlation dataframe from 2009 to 2019\n",
    "corr_df_france = pd.DataFrame()\n",
    "corr_df_france[\"labour\"] = france_labour[-11:-1].values\n",
    "corr_df_france[\"gdp_delta\"] = france_gdp_delta[1:-2].values\n",
    "corr_df_france[\"gdp\"] = list(map(lambda x: str.replace(str(x), \",\", \"\"), france_gdp[-12:-2].values))\n",
    "# corr_df_france[\"gdp\"] = france_gdp[-12:-1].values\n",
    "corr_df_france[\"income_ineq\"] = france_income_ineq[2:-2].values\n",
    "\n",
    "# calculate correlation\n",
    "france_corr_data = corr_df_france[:-1].astype(\"float\").corr(\"pearson\")\n",
    "\n",
    "\n",
    "# Plotting\n",
    "import matplotlib.pyplot as plt\n",
    "import numpy as np\n",
    "from matplotlib.colors import ListedColormap\n",
    "\n",
    "fig = plt.figure()\n",
    "ax = fig.add_subplot(111)\n",
    "cax = ax.matshow(france_corr_data, cmap=\"Pastel1\")\n",
    "\n",
    "ax.set_title(\"France Correlation Matrix\")\n",
    "axis_labels = ['Labour', 'GDP_Delta', 'GDP', 'Income_Ineq']\n",
    "ax.set_xticklabels(['']+axis_labels)\n",
    "ax.set_yticklabels(['']+axis_labels)\n",
    "\n",
    "for (i, j), z in np.ndenumerate(france_corr_data):\n",
    "    ax.text(j, i, '{:0.3f}'.format(z), ha='center', va='center')\n",
    "\n",
    "plt.show()"
   ]
  },
  {
   "cell_type": "code",
   "execution_count": 6,
   "metadata": {
    "scrolled": true
   },
   "outputs": [
    {
     "name": "stderr",
     "output_type": "stream",
     "text": [
      "/Users/charlesfiguero/opt/anaconda3/envs/myenv/lib/python3.7/site-packages/ipykernel_launcher.py:32: UserWarning: FixedFormatter should only be used together with FixedLocator\n",
      "/Users/charlesfiguero/opt/anaconda3/envs/myenv/lib/python3.7/site-packages/ipykernel_launcher.py:33: UserWarning: FixedFormatter should only be used together with FixedLocator\n"
     ]
    },
    {
     "data": {
      "image/png": "[encoded data removed]",
      "text/plain": [
       "<Figure size 432x288 with 1 Axes>"
      ]
     },
     "metadata": {
      "needs_background": "light"
     },
     "output_type": "display_data"
    }
   ],
   "source": [
    "# And Italy\n",
    "\n",
    "italy_income_ineq = income_ineq_df.iloc[24]\n",
    "italy_gdp_delta = gdpdelta_df.iloc[15]\n",
    "italy_gdp = gdp_df.iloc[18]\n",
    "italy_labour = labour_df.iloc[18]\n",
    "\n",
    "corr_df_italy = pd.DataFrame()\n",
    "corr_df_italy[\"labour\"] = italy_labour[-11:].values\n",
    "corr_df_italy[\"gdp_delta\"] = italy_gdp_delta[1:-1].values\n",
    "corr_df_italy[\"gdp\"] = list(map(lambda x: str.replace(str(x), \",\", \"\"), italy_gdp[-12:-1].values))\n",
    "# corr_df_france[\"gdp\"] = france_gdp[-12:-1].values\n",
    "corr_df_italy[\"income_ineq\"] = italy_income_ineq[2:-1].values\n",
    "\n",
    "# print(corr_df_france)\n",
    "\n",
    "# calculate correlation\n",
    "italy_corr_data = corr_df_italy[:-1].astype(\"float\").corr(\"pearson\")\n",
    "\n",
    "\n",
    "# Plotting\n",
    "import matplotlib.pyplot as plt\n",
    "import numpy as np\n",
    "from matplotlib.colors import ListedColormap\n",
    "\n",
    "fig = plt.figure()\n",
    "ax = fig.add_subplot(111)\n",
    "cax = ax.matshow(italy_corr_data, cmap=\"Pastel1\")\n",
    "\n",
    "ax.set_title(\"Italy Correlation Matrix\")\n",
    "axis_labels = ['Labour', 'GDP_Delta', 'GDP', 'Income_Ineq']\n",
    "ax.set_xticklabels(['']+axis_labels)\n",
    "ax.set_yticklabels(['']+axis_labels)\n",
    "\n",
    "for (i, j), z in np.ndenumerate(italy_corr_data):\n",
    "    ax.text(j, i, '{:0.3f}'.format(z), ha='center', va='center')\n",
    "\n",
    "plt.show()"
   ]
  },
  {
   "cell_type": "code",
   "execution_count": 7,
   "metadata": {},
   "outputs": [],
   "source": [
    "# generalise covariance plot\n",
    "\n",
    "# # find correlations\n",
    "# def covariance_plot(country: str):\n",
    "#     # series for country\n",
    "#     ineq_series = c_ineq_df[c_ineq_df['Country Name'] == country].squeeze()\n",
    "#     labour_series = c_labour_df[c_labour_df['Country Name'] == country].squeeze()\n",
    "#     gdpdelta_series = c_gdpdelta_df[c_gdpdelta_df['Country Name'] == country].squeeze()\n",
    "#     gdp_series = c_gdp_df[c_gdp_df['Country Name'] == country].squeeze()\n",
    "    \n",
    "#     aligned = ineq_series.align(labour_series, join='inner')\n",
    "#     print(aligned)\n",
    "#     next_aligned = aligned[0].align(gdpdelta_series, join='inner')\n",
    "#     final_aligned = aligned[0].align(gdp_series, join='inner')\n",
    "    \n",
    "#     print(aligned.corr())\n",
    "        \n",
    "#     def get_corr(a: pd.Series, b: pd.Series):\n",
    "#         aligned = a.align(b, join='inner')\n",
    "#         df = pd.DataFrame()\n",
    "#         df['a'] = aligned[0]\n",
    "#         df['b'] = aligned[1]\n",
    "\n",
    "#         if 'Country Name' in df.index:\n",
    "#             df = df.drop('Country Name')\n",
    "#         if 'Country Code' in df.index:\n",
    "#             df = df.drop('Country Code')\n",
    "\n",
    "#         for column in df:\n",
    "#             df[column] = df[column].astype(float)\n",
    "\n",
    "#         return df.corr().values[0][1]\n",
    "        \n",
    "#     values = {}\n",
    "#     values['ineq/labour'] = get_corr(ineq_series, labour_series)\n",
    "#     values['ineq/gdp'] = get_corr(ineq_series, gdp_series)\n",
    "#     values['ineq/gdpdelta'] = get_corr(ineq_series, gdpdelta_series)\n",
    "#     values['labour/gdp'] = get_corr(labour_series, gdp_series)\n",
    "#     values['labour/gdpdelta'] = get_corr(labour_series, gdpdelta_series)\n",
    "#     values['gdp/gdpdelta'] = get_corr(gdp_series, gdpdelta_series)\n",
    "\n",
    "#     return values\n",
    "\n",
    "# covariance_plot('Germany')"
   ]
  },
  {
   "cell_type": "code",
   "execution_count": 8,
   "metadata": {},
   "outputs": [],
   "source": [
    "# Generalise and cluster...\n",
    "\n",
    "# get intersecting countries\n",
    "ineq_cs = income_ineq_df[\"Country Name\"]\n",
    "not_countries = [8, 9, 10, 14, 15, 16, 17]\n",
    "ineq_cs = ineq_cs.drop(not_countries)\n",
    "\n",
    "labour_cs = labour_df['Country Name']\n",
    "gdp_cs = gdp_df['Country Name']\n",
    "gdpdelta_cs = gdpdelta_df['Country Name']\n",
    "\n",
    "# print(gdp_cs)\n",
    "\n",
    "countries = set(ineq_cs).intersection(set(labour_cs))\n",
    "countries = countries.intersection(set(gdp_cs))\n",
    "countries = countries.intersection(set(gdpdelta_cs))\n",
    "\n",
    "countries = pd.Series(list(countries))\n",
    "\n",
    "\n",
    "# get dataframes\n",
    "c_ineq_df = income_ineq_df.loc[income_ineq_df['Country Name'].isin(countries)]\n",
    "c_labour_df = labour_df.loc[labour_df['Country Name'].isin(countries)]\n",
    "c_gdp_df = gdp_df.loc[gdp_df['Country Name'].isin(countries)]\n",
    "c_gdpdelta_df = gdpdelta_df.loc[gdpdelta_df['Country Name'].isin(countries)]\n",
    "\n",
    "\n",
    "# find correlations\n",
    "def find_corrs(country: str):\n",
    "    # series for country\n",
    "    ineq_series = c_ineq_df[c_ineq_df['Country Name'] == country].squeeze()\n",
    "    labour_series = c_labour_df[c_labour_df['Country Name'] == country].squeeze()\n",
    "    gdpdelta_series = c_gdpdelta_df[c_gdpdelta_df['Country Name'] == country].squeeze()\n",
    "    gdp_series = c_gdp_df[c_gdp_df['Country Name'] == country].squeeze()\n",
    "        \n",
    "    def get_corr(a: pd.Series, b: pd.Series):\n",
    "        aligned = a.align(b, join='inner')\n",
    "        df = pd.DataFrame()\n",
    "        df['a'] = aligned[0]\n",
    "        df['b'] = aligned[1]\n",
    "\n",
    "        if 'Country Name' in df.index:\n",
    "            df = df.drop('Country Name')\n",
    "        if 'Country Code' in df.index:\n",
    "            df = df.drop('Country Code')\n",
    "\n",
    "        for column in df:\n",
    "            df[column] = df[column].astype(float)\n",
    "\n",
    "        return df.corr().values[0][1]\n",
    "        \n",
    "    values = {}\n",
    "    values['ineq/labour'] = get_corr(ineq_series, labour_series)\n",
    "    values['ineq/gdp'] = get_corr(ineq_series, gdp_series)\n",
    "    values['ineq/gdpdelta'] = get_corr(ineq_series, gdpdelta_series)\n",
    "    values['labour/gdp'] = get_corr(labour_series, gdp_series)\n",
    "    values['labour/gdpdelta'] = get_corr(labour_series, gdpdelta_series)\n",
    "    values['gdp/gdpdelta'] = get_corr(gdp_series, gdpdelta_series)\n",
    "\n",
    "    return values\n",
    "        \n",
    "\n",
    "country_corrs = {}\n",
    "for country in countries.values:\n",
    "    country_corrs[country] = find_corrs(country)\n",
    "    \n",
    "# convert to np array\n",
    "country_names = []\n",
    "country_data = []\n",
    "for country in country_corrs.items():\n",
    "    country_names.append(country[0])\n",
    "    data = list(country[1].values())\n",
    "    country_data.append(data)\n",
    "    \n",
    "# print(country_data)\n",
    "\n",
    "# # testing that covariances are < 1 and > -1 ... \n",
    "\n",
    "# flatten = lambda t: [item for sublist in t for item in sublist] \n",
    "# flattened = flatten(country_data)\n",
    "# test = [x for x in flattened if x > 1 or x < -1]\n",
    "# print(test)\n",
    "\n",
    "np_country_data = np.array([np.array(xi) for xi in country_data])\n",
    "# print(np_country_data)"
   ]
  },
  {
   "cell_type": "code",
   "execution_count": 9,
   "metadata": {},
   "outputs": [
    {
     "name": "stdout",
     "output_type": "stream",
     "text": [
      "eps      num_clusters    num_not_noise (out of 32)\n",
      "0.31          0              0     \n",
      "0.33          1              2     \n",
      "0.35          2              4     \n",
      "0.37          3              6     \n",
      "0.39          3              6     \n",
      "0.41          3              7     \n",
      "0.43          4              9     \n",
      "0.45          5              11    \n",
      "0.47          5              11    \n",
      "0.49          6              15    \n",
      "0.51          6              15    \n",
      "0.53          6              15    \n",
      "0.55          6              15    \n",
      "0.57          6              15    \n",
      "0.59          6              15    \n",
      "0.61          6              15    \n",
      "0.63          6              15    \n",
      "0.65          6              16    \n",
      "0.67          7              19    \n",
      "0.69          7              20    \n",
      "0.71          7              20    \n",
      "0.73          8              22    \n",
      "0.75          8              23    \n",
      "0.77          7              25    \n",
      "0.79          7              25    \n",
      "0.81          7              26    \n",
      "0.83          7              28    \n",
      "0.85          5              28    \n",
      "0.87          3              29    \n",
      "0.89          3              29    \n",
      "0.91          2              29    \n",
      "0.93          2              30    \n",
      "0.95          2              30    \n",
      "0.97          2              31    \n",
      "0.99          2              31    \n"
     ]
    }
   ],
   "source": [
    "# DBSCAN clustering\n",
    "from sklearn.cluster import DBSCAN\n",
    "from sklearn.preprocessing import StandardScaler\n",
    "\n",
    "\n",
    "# trialling differnt eps values (max neighbour distance) for DBSCAN clustering\n",
    "ticks = 100\n",
    "min_samples = 2\n",
    "print(f\"{'eps' : <5}{'num_clusters' : ^20}{f'num_not_noise (out of {len(np_country_data)})' : ^10}\")\n",
    "for i in range(30, ticks, 2):\n",
    "    eps = (i+1) / (ticks)\n",
    "    standard_clustering = DBSCAN(eps=eps, min_samples=min_samples).fit(np_country_data)\n",
    "    \n",
    "    not_noise = list(filter(lambda x: x != -1, standard_clustering.labels_))\n",
    "    \n",
    "    num_not_noise = len(not_noise)\n",
    "    num_labels = len(set(not_noise))\n",
    "    \n",
    "    print(f\"{eps : <5}{num_labels : ^20}{num_not_noise : ^10}\")"
   ]
  },
  {
   "cell_type": "code",
   "execution_count": 12,
   "metadata": {
    "scrolled": false
   },
   "outputs": [
    {
     "name": "stdout",
     "output_type": "stream",
     "text": [
      "Clusters...\n",
      "(0, ['Hungary', 'Sweden', 'Italy'])\n",
      "(1, ['Romania', 'Slovenia', 'Estonia', 'Lithuania'])\n",
      "(2, ['Luxembourg', 'Germany', 'Malta'])\n",
      "(3, ['North Macedonia', 'Slovakia', 'Portugal', 'France'])\n",
      "(4, ['Czechia', 'Poland', 'Ireland'])\n",
      "(-1, ['Finland', 'Netherlands', 'Iceland', 'Spain', 'Greece', 'Croatia', 'Norway', 'Bulgaria', 'Belgium'])\n",
      "(5, ['Latvia', 'Denmark'])\n",
      "(6, ['Austria', 'Cyprus'])\n",
      "(7, ['Switzerland', 'United Kingdom'])\n",
      "\n",
      "Means...\n",
      "key   ineq                 labour               gdp                  gdp_delta           \n",
      "  0   4.654848484848485    99.62444444444444    739253.2277777777    0.6277777777777778  \n",
      "  1   5.6031818181818185   69.48499999999999    65825.95208333332    1.4145833333333335  \n",
      "  2   4.433333333333334    123.14666666666666   1013161.5972222221   2.2694444444444444  \n",
      "  3   5.046363636363636    80.2311111111111     612976.0854166667    0.8416666666666667  \n",
      "  4   4.250606060606061    102.45777777777779   283584.3222222222    3.0944444444444446  \n",
      " -1   4.809328703703704    101.20879629629628   341824.9351851851    0.1425925925925926  \n",
      "  5   5.3559090909090905   87.44999999999999    148675.35            0.7749999999999998  \n",
      "  6   4.427272727272727    103.56333333333332   180579.32499999998   0.4875000000000001  \n",
      "  7   4.832727272727272    116.41666666666666   1329543.5291666666   1.1                 \n",
      "\n",
      "Average Covariance... \n",
      "key   ineq/labour     ineq/gdp        ineq/gdp_delta  labour/gdp      labour/gdp_delta gdp/gdp_delta  \n",
      "  0   -0.78325        0.68533         0.42573         -0.74610        -0.37337        0.33774        \n",
      "  1   0.11478         0.11257         0.23417         0.89122         0.69273         0.32974        \n",
      "  2   0.15809         0.64480         0.22241         0.11868         0.44926         0.05679        \n",
      "  3   0.43701         -0.77130        -0.29620        -0.58435        -0.19348        0.06040        \n",
      "  4   -0.66255        -0.77357        -0.23168        0.92516         0.45132         0.12427        \n",
      " -1   0.05573         -0.14877        -0.19741        -0.01325        -0.14471        0.21274        \n",
      "  5   -0.61810        -0.43561        -0.74069        0.85787         0.80125         0.33809        \n",
      "  6   -0.43544        -0.48190        -0.06956        -0.27420        -0.44744        0.18118        \n",
      "  7   -0.41848        0.02742         -0.36265        -0.69397        -0.23720        0.29515        \n",
      "\n",
      "Variance of Covariance Matrices... \n",
      "key   ineq/labour     ineq/gdp        ineq/gdp_delta  labour/gdp      labour/gdp_delta gdp/gdp_delta  \n",
      "  0   0.01738         0.00864         0.14443         0.00071         0.07383         0.00711        \n",
      "  1   0.02195         0.07374         0.04146         0.00462         0.01410         0.00102        \n",
      "  2   0.14965         0.02798         0.04117         0.00552         0.01383         0.00653        \n",
      "  3   0.08644         0.00994         0.08517         0.01302         0.06138         0.01782        \n",
      "  4   0.01001         0.01381         0.08300         0.00165         0.02248         0.05117        \n",
      " -1   0.37326         0.34279         0.20115         0.49394         0.32049         0.10098        \n",
      "  5   0.00000         0.00031         0.01631         0.01768         0.01677         0.00121        \n",
      "  6   0.00412         0.09236         0.03008         0.01187         0.08963         0.02504        \n",
      "  7   0.00105         0.01084         0.07288         0.00423         0.00244         0.12550        \n"
     ]
    },
    {
     "data": {
      "application/vnd.plotly.v1+json": {
       "config": {
        "plotlyServerURL": "https://plot.ly"
       },
       "data": [
        {
         "coloraxis": "coloraxis",
         "geo": "geo",
         "hovertemplate": "<b>%{hovertext}</b><br><br>Country Code=%{location}<br>Cluster Index=%{z}<extra></extra>",
         "hovertext": [
          "Hungary",
          "Romania",
          "Sweden",
          "Luxembourg",
          "North Macedonia",
          "Czechia",
          "Finland",
          "Netherlands",
          "Iceland",
          "Poland",
          "Germany",
          "Spain",
          "Slovenia",
          "Estonia",
          "Ireland",
          "Italy",
          "Slovakia",
          "Greece",
          "Portugal",
          "Croatia",
          "Latvia",
          "Norway",
          "Austria",
          "Bulgaria",
          "Belgium",
          "Switzerland",
          "France",
          "Cyprus",
          "United Kingdom",
          "Malta",
          "Lithuania",
          "Denmark"
         ],
         "locations": [
          "HUN",
          "ROU",
          "SWE",
          "LUX",
          "MKD",
          "CZE",
          "FIN",
          "NLD",
          "ISL",
          "POL",
          "DEU",
          "ESP",
          "SVN",
          "EST",
          "IRL",
          "ITA",
          "SVK",
          "GRC",
          "PRT",
          "HRV",
          "LVA",
          "NOR",
          "AUT",
          "BGR",
          "BEL",
          "CHE",
          "FRA",
          "CYP",
          "GBR",
          "MLT",
          "LTU",
          "DNK"
         ],
         "name": "",
         "type": "choropleth",
         "z": [
          0,
          1,
          0,
          2,
          3,
          4,
          -1,
          -1,
          -1,
          4,
          2,
          -1,
          1,
          1,
          4,
          0,
          3,
          -1,
          3,
          -1,
          5,
          -1,
          6,
          -1,
          -1,
          7,
          3,
          6,
          7,
          2,
          1,
          5
         ]
        }
       ],
       "layout": {
        "coloraxis": {
         "colorbar": {
          "title": {
           "text": "Cluster Index"
          }
         },
         "colorscale": [
          [
           0,
           "#0d0887"
          ],
          [
           0.1111111111111111,
           "#46039f"
          ],
          [
           0.2222222222222222,
           "#7201a8"
          ],
          [
           0.3333333333333333,
           "#9c179e"
          ],
          [
           0.4444444444444444,
           "#bd3786"
          ],
          [
           0.5555555555555556,
           "#d8576b"
          ],
          [
           0.6666666666666666,
           "#ed7953"
          ],
          [
           0.7777777777777778,
           "#fb9f3a"
          ],
          [
           0.8888888888888888,
           "#fdca26"
          ],
          [
           1,
           "#f0f921"
          ]
         ]
        },
        "geo": {
         "center": {},
         "domain": {
          "x": [
           0,
           1
          ],
          "y": [
           0,
           1
          ]
         }
        },
        "legend": {
         "tracegroupgap": 0
        },
        "margin": {
         "t": 60
        },
        "template": {
         "data": {
          "bar": [
           {
            "error_x": {
             "color": "#2a3f5f"
            },
            "error_y": {
             "color": "#2a3f5f"
            },
            "marker": {
             "line": {
              "color": "#E5ECF6",
              "width": 0.5
             }
            },
            "type": "bar"
           }
          ],
          "barpolar": [
           {
            "marker": {
             "line": {
              "color": "#E5ECF6",
              "width": 0.5
             }
            },
            "type": "barpolar"
           }
          ],
          "carpet": [
           {
            "aaxis": {
             "endlinecolor": "#2a3f5f",
             "gridcolor": "white",
             "linecolor": "white",
             "minorgridcolor": "white",
             "startlinecolor": "#2a3f5f"
            },
            "baxis": {
             "endlinecolor": "#2a3f5f",
             "gridcolor": "white",
             "linecolor": "white",
             "minorgridcolor": "white",
             "startlinecolor": "#2a3f5f"
            },
            "type": "carpet"
           }
          ],
          "choropleth": [
           {
            "colorbar": {
             "outlinewidth": 0,
             "ticks": ""
            },
            "type": "choropleth"
           }
          ],
          "contour": [
           {
            "colorbar": {
             "outlinewidth": 0,
             "ticks": ""
            },
            "colorscale": [
             [
              0,
              "#0d0887"
             ],
             [
              0.1111111111111111,
              "#46039f"
             ],
             [
              0.2222222222222222,
              "#7201a8"
             ],
             [
              0.3333333333333333,
              "#9c179e"
             ],
             [
              0.4444444444444444,
              "#bd3786"
             ],
             [
              0.5555555555555556,
              "#d8576b"
             ],
             [
              0.6666666666666666,
              "#ed7953"
             ],
             [
              0.7777777777777778,
              "#fb9f3a"
             ],
             [
              0.8888888888888888,
              "#fdca26"
             ],
             [
              1,
              "#f0f921"
             ]
            ],
            "type": "contour"
           }
          ],
          "contourcarpet": [
           {
            "colorbar": {
             "outlinewidth": 0,
             "ticks": ""
            },
            "type": "contourcarpet"
           }
          ],
          "heatmap": [
           {
            "colorbar": {
             "outlinewidth": 0,
             "ticks": ""
            },
            "colorscale": [
             [
              0,
              "#0d0887"
             ],
             [
              0.1111111111111111,
              "#46039f"
             ],
             [
              0.2222222222222222,
              "#7201a8"
             ],
             [
              0.3333333333333333,
              "#9c179e"
             ],
             [
              0.4444444444444444,
              "#bd3786"
             ],
             [
              0.5555555555555556,
              "#d8576b"
             ],
             [
              0.6666666666666666,
              "#ed7953"
             ],
             [
              0.7777777777777778,
              "#fb9f3a"
             ],
             [
              0.8888888888888888,
              "#fdca26"
             ],
             [
              1,
              "#f0f921"
             ]
            ],
            "type": "heatmap"
           }
          ],
          "heatmapgl": [
           {
            "colorbar": {
             "outlinewidth": 0,
             "ticks": ""
            },
            "colorscale": [
             [
              0,
              "#0d0887"
             ],
             [
              0.1111111111111111,
              "#46039f"
             ],
             [
              0.2222222222222222,
              "#7201a8"
             ],
             [
              0.3333333333333333,
              "#9c179e"
             ],
             [
              0.4444444444444444,
              "#bd3786"
             ],
             [
              0.5555555555555556,
              "#d8576b"
             ],
             [
              0.6666666666666666,
              "#ed7953"
             ],
             [
              0.7777777777777778,
              "#fb9f3a"
             ],
             [
              0.8888888888888888,
              "#fdca26"
             ],
             [
              1,
              "#f0f921"
             ]
            ],
            "type": "heatmapgl"
           }
          ],
          "histogram": [
           {
            "marker": {
             "colorbar": {
              "outlinewidth": 0,
              "ticks": ""
             }
            },
            "type": "histogram"
           }
          ],
          "histogram2d": [
           {
            "colorbar": {
             "outlinewidth": 0,
             "ticks": ""
            },
            "colorscale": [
             [
              0,
              "#0d0887"
             ],
             [
              0.1111111111111111,
              "#46039f"
             ],
             [
              0.2222222222222222,
              "#7201a8"
             ],
             [
              0.3333333333333333,
              "#9c179e"
             ],
             [
              0.4444444444444444,
              "#bd3786"
             ],
             [
              0.5555555555555556,
              "#d8576b"
             ],
             [
              0.6666666666666666,
              "#ed7953"
             ],
             [
              0.7777777777777778,
              "#fb9f3a"
             ],
             [
              0.8888888888888888,
              "#fdca26"
             ],
             [
              1,
              "#f0f921"
             ]
            ],
            "type": "histogram2d"
           }
          ],
          "histogram2dcontour": [
           {
            "colorbar": {
             "outlinewidth": 0,
             "ticks": ""
            },
            "colorscale": [
             [
              0,
              "#0d0887"
             ],
             [
              0.1111111111111111,
              "#46039f"
             ],
             [
              0.2222222222222222,
              "#7201a8"
             ],
             [
              0.3333333333333333,
              "#9c179e"
             ],
             [
              0.4444444444444444,
              "#bd3786"
             ],
             [
              0.5555555555555556,
              "#d8576b"
             ],
             [
              0.6666666666666666,
              "#ed7953"
             ],
             [
              0.7777777777777778,
              "#fb9f3a"
             ],
             [
              0.8888888888888888,
              "#fdca26"
             ],
             [
              1,
              "#f0f921"
             ]
            ],
            "type": "histogram2dcontour"
           }
          ],
          "mesh3d": [
           {
            "colorbar": {
             "outlinewidth": 0,
             "ticks": ""
            },
            "type": "mesh3d"
           }
          ],
          "parcoords": [
           {
            "line": {
             "colorbar": {
              "outlinewidth": 0,
              "ticks": ""
             }
            },
            "type": "parcoords"
           }
          ],
          "pie": [
           {
            "automargin": true,
            "type": "pie"
           }
          ],
          "scatter": [
           {
            "marker": {
             "colorbar": {
              "outlinewidth": 0,
              "ticks": ""
             }
            },
            "type": "scatter"
           }
          ],
          "scatter3d": [
           {
            "line": {
             "colorbar": {
              "outlinewidth": 0,
              "ticks": ""
             }
            },
            "marker": {
             "colorbar": {
              "outlinewidth": 0,
              "ticks": ""
             }
            },
            "type": "scatter3d"
           }
          ],
          "scattercarpet": [
           {
            "marker": {
             "colorbar": {
              "outlinewidth": 0,
              "ticks": ""
             }
            },
            "type": "scattercarpet"
           }
          ],
          "scattergeo": [
           {
            "marker": {
             "colorbar": {
              "outlinewidth": 0,
              "ticks": ""
             }
            },
            "type": "scattergeo"
           }
          ],
          "scattergl": [
           {
            "marker": {
             "colorbar": {
              "outlinewidth": 0,
              "ticks": ""
             }
            },
            "type": "scattergl"
           }
          ],
          "scattermapbox": [
           {
            "marker": {
             "colorbar": {
              "outlinewidth": 0,
              "ticks": ""
             }
            },
            "type": "scattermapbox"
           }
          ],
          "scatterpolar": [
           {
            "marker": {
             "colorbar": {
              "outlinewidth": 0,
              "ticks": ""
             }
            },
            "type": "scatterpolar"
           }
          ],
          "scatterpolargl": [
           {
            "marker": {
             "colorbar": {
              "outlinewidth": 0,
              "ticks": ""
             }
            },
            "type": "scatterpolargl"
           }
          ],
          "scatterternary": [
           {
            "marker": {
             "colorbar": {
              "outlinewidth": 0,
              "ticks": ""
             }
            },
            "type": "scatterternary"
           }
          ],
          "surface": [
           {
            "colorbar": {
             "outlinewidth": 0,
             "ticks": ""
            },
            "colorscale": [
             [
              0,
              "#0d0887"
             ],
             [
              0.1111111111111111,
              "#46039f"
             ],
             [
              0.2222222222222222,
              "#7201a8"
             ],
             [
              0.3333333333333333,
              "#9c179e"
             ],
             [
              0.4444444444444444,
              "#bd3786"
             ],
             [
              0.5555555555555556,
              "#d8576b"
             ],
             [
              0.6666666666666666,
              "#ed7953"
             ],
             [
              0.7777777777777778,
              "#fb9f3a"
             ],
             [
              0.8888888888888888,
              "#fdca26"
             ],
             [
              1,
              "#f0f921"
             ]
            ],
            "type": "surface"
           }
          ],
          "table": [
           {
            "cells": {
             "fill": {
              "color": "#EBF0F8"
             },
             "line": {
              "color": "white"
             }
            },
            "header": {
             "fill": {
              "color": "#C8D4E3"
             },
             "line": {
              "color": "white"
             }
            },
            "type": "table"
           }
          ]
         },
         "layout": {
          "annotationdefaults": {
           "arrowcolor": "#2a3f5f",
           "arrowhead": 0,
           "arrowwidth": 1
          },
          "autotypenumbers": "strict",
          "coloraxis": {
           "colorbar": {
            "outlinewidth": 0,
            "ticks": ""
           }
          },
          "colorscale": {
           "diverging": [
            [
             0,
             "#8e0152"
            ],
            [
             0.1,
             "#c51b7d"
            ],
            [
             0.2,
             "#de77ae"
            ],
            [
             0.3,
             "#f1b6da"
            ],
            [
             0.4,
             "#fde0ef"
            ],
            [
             0.5,
             "#f7f7f7"
            ],
            [
             0.6,
             "#e6f5d0"
            ],
            [
             0.7,
             "#b8e186"
            ],
            [
             0.8,
             "#7fbc41"
            ],
            [
             0.9,
             "#4d9221"
            ],
            [
             1,
             "#276419"
            ]
           ],
           "sequential": [
            [
             0,
             "#0d0887"
            ],
            [
             0.1111111111111111,
             "#46039f"
            ],
            [
             0.2222222222222222,
             "#7201a8"
            ],
            [
             0.3333333333333333,
             "#9c179e"
            ],
            [
             0.4444444444444444,
             "#bd3786"
            ],
            [
             0.5555555555555556,
             "#d8576b"
            ],
            [
             0.6666666666666666,
             "#ed7953"
            ],
            [
             0.7777777777777778,
             "#fb9f3a"
            ],
            [
             0.8888888888888888,
             "#fdca26"
            ],
            [
             1,
             "#f0f921"
            ]
           ],
           "sequentialminus": [
            [
             0,
             "#0d0887"
            ],
            [
             0.1111111111111111,
             "#46039f"
            ],
            [
             0.2222222222222222,
             "#7201a8"
            ],
            [
             0.3333333333333333,
             "#9c179e"
            ],
            [
             0.4444444444444444,
             "#bd3786"
            ],
            [
             0.5555555555555556,
             "#d8576b"
            ],
            [
             0.6666666666666666,
             "#ed7953"
            ],
            [
             0.7777777777777778,
             "#fb9f3a"
            ],
            [
             0.8888888888888888,
             "#fdca26"
            ],
            [
             1,
             "#f0f921"
            ]
           ]
          },
          "colorway": [
           "#636efa",
           "#EF553B",
           "#00cc96",
           "#ab63fa",
           "#FFA15A",
           "#19d3f3",
           "#FF6692",
           "#B6E880",
           "#FF97FF",
           "#FECB52"
          ],
          "font": {
           "color": "#2a3f5f"
          },
          "geo": {
           "bgcolor": "white",
           "lakecolor": "white",
           "landcolor": "#E5ECF6",
           "showlakes": true,
           "showland": true,
           "subunitcolor": "white"
          },
          "hoverlabel": {
           "align": "left"
          },
          "hovermode": "closest",
          "mapbox": {
           "style": "light"
          },
          "paper_bgcolor": "white",
          "plot_bgcolor": "#E5ECF6",
          "polar": {
           "angularaxis": {
            "gridcolor": "white",
            "linecolor": "white",
            "ticks": ""
           },
           "bgcolor": "#E5ECF6",
           "radialaxis": {
            "gridcolor": "white",
            "linecolor": "white",
            "ticks": ""
           }
          },
          "scene": {
           "xaxis": {
            "backgroundcolor": "#E5ECF6",
            "gridcolor": "white",
            "gridwidth": 2,
            "linecolor": "white",
            "showbackground": true,
            "ticks": "",
            "zerolinecolor": "white"
           },
           "yaxis": {
            "backgroundcolor": "#E5ECF6",
            "gridcolor": "white",
            "gridwidth": 2,
            "linecolor": "white",
            "showbackground": true,
            "ticks": "",
            "zerolinecolor": "white"
           },
           "zaxis": {
            "backgroundcolor": "#E5ECF6",
            "gridcolor": "white",
            "gridwidth": 2,
            "linecolor": "white",
            "showbackground": true,
            "ticks": "",
            "zerolinecolor": "white"
           }
          },
          "shapedefaults": {
           "line": {
            "color": "#2a3f5f"
           }
          },
          "ternary": {
           "aaxis": {
            "gridcolor": "white",
            "linecolor": "white",
            "ticks": ""
           },
           "baxis": {
            "gridcolor": "white",
            "linecolor": "white",
            "ticks": ""
           },
           "bgcolor": "#E5ECF6",
           "caxis": {
            "gridcolor": "white",
            "linecolor": "white",
            "ticks": ""
           }
          },
          "title": {
           "x": 0.05
          },
          "xaxis": {
           "automargin": true,
           "gridcolor": "white",
           "linecolor": "white",
           "ticks": "",
           "title": {
            "standoff": 15
           },
           "zerolinecolor": "white",
           "zerolinewidth": 2
          },
          "yaxis": {
           "automargin": true,
           "gridcolor": "white",
           "linecolor": "white",
           "ticks": "",
           "title": {
            "standoff": 15
           },
           "zerolinecolor": "white",
           "zerolinewidth": 2
          }
         }
        }
       }
      },
      "text/html": [
       "<div>                            <div id=\"90518d5c-0d74-4846-9fe4-5dc4d478dcd8\" class=\"plotly-graph-div\" style=\"height:525px; width:100%;\"></div>            <script type=\"text/javascript\">                require([\"plotly\"], function(Plotly) {                    window.PLOTLYENV=window.PLOTLYENV || {};                                    if (document.getElementById(\"90518d5c-0d74-4846-9fe4-5dc4d478dcd8\")) {                    Plotly.newPlot(                        \"90518d5c-0d74-4846-9fe4-5dc4d478dcd8\",                        [{\"coloraxis\": \"coloraxis\", \"geo\": \"geo\", \"hovertemplate\": \"<b>%{hovertext}</b><br><br>Country Code=%{location}<br>Cluster Index=%{z}<extra></extra>\", \"hovertext\": [\"Hungary\", \"Romania\", \"Sweden\", \"Luxembourg\", \"North Macedonia\", \"Czechia\", \"Finland\", \"Netherlands\", \"Iceland\", \"Poland\", \"Germany\", \"Spain\", \"Slovenia\", \"Estonia\", \"Ireland\", \"Italy\", \"Slovakia\", \"Greece\", \"Portugal\", \"Croatia\", \"Latvia\", \"Norway\", \"Austria\", \"Bulgaria\", \"Belgium\", \"Switzerland\", \"France\", \"Cyprus\", \"United Kingdom\", \"Malta\", \"Lithuania\", \"Denmark\"], \"locations\": [\"HUN\", \"ROU\", \"SWE\", \"LUX\", \"MKD\", \"CZE\", \"FIN\", \"NLD\", \"ISL\", \"POL\", \"DEU\", \"ESP\", \"SVN\", \"EST\", \"IRL\", \"ITA\", \"SVK\", \"GRC\", \"PRT\", \"HRV\", \"LVA\", \"NOR\", \"AUT\", \"BGR\", \"BEL\", \"CHE\", \"FRA\", \"CYP\", \"GBR\", \"MLT\", \"LTU\", \"DNK\"], \"name\": \"\", \"type\": \"choropleth\", \"z\": [0, 1, 0, 2, 3, 4, -1, -1, -1, 4, 2, -1, 1, 1, 4, 0, 3, -1, 3, -1, 5, -1, 6, -1, -1, 7, 3, 6, 7, 2, 1, 5]}],                        {\"coloraxis\": {\"colorbar\": {\"title\": {\"text\": \"Cluster Index\"}}, \"colorscale\": [[0.0, \"#0d0887\"], [0.1111111111111111, \"#46039f\"], [0.2222222222222222, \"#7201a8\"], [0.3333333333333333, \"#9c179e\"], [0.4444444444444444, \"#bd3786\"], [0.5555555555555556, \"#d8576b\"], [0.6666666666666666, \"#ed7953\"], [0.7777777777777778, \"#fb9f3a\"], [0.8888888888888888, \"#fdca26\"], [1.0, \"#f0f921\"]]}, \"geo\": {\"center\": {}, \"domain\": {\"x\": [0.0, 1.0], \"y\": [0.0, 1.0]}}, \"legend\": {\"tracegroupgap\": 0}, \"margin\": {\"t\": 60}, \"template\": {\"data\": {\"bar\": [{\"error_x\": {\"color\": \"#2a3f5f\"}, \"error_y\": {\"color\": \"#2a3f5f\"}, \"marker\": {\"line\": {\"color\": \"#E5ECF6\", \"width\": 0.5}}, \"type\": \"bar\"}], \"barpolar\": [{\"marker\": {\"line\": {\"color\": \"#E5ECF6\", \"width\": 0.5}}, \"type\": \"barpolar\"}], \"carpet\": [{\"aaxis\": {\"endlinecolor\": \"#2a3f5f\", \"gridcolor\": \"white\", \"linecolor\": \"white\", \"minorgridcolor\": \"white\", \"startlinecolor\": \"#2a3f5f\"}, \"baxis\": {\"endlinecolor\": \"#2a3f5f\", \"gridcolor\": \"white\", \"linecolor\": \"white\", \"minorgridcolor\": \"white\", \"startlinecolor\": \"#2a3f5f\"}, \"type\": \"carpet\"}], \"choropleth\": [{\"colorbar\": {\"outlinewidth\": 0, \"ticks\": \"\"}, \"type\": \"choropleth\"}], \"contour\": [{\"colorbar\": {\"outlinewidth\": 0, \"ticks\": \"\"}, \"colorscale\": [[0.0, \"#0d0887\"], [0.1111111111111111, \"#46039f\"], [0.2222222222222222, \"#7201a8\"], [0.3333333333333333, \"#9c179e\"], [0.4444444444444444, \"#bd3786\"], [0.5555555555555556, \"#d8576b\"], [0.6666666666666666, \"#ed7953\"], [0.7777777777777778, \"#fb9f3a\"], [0.8888888888888888, \"#fdca26\"], [1.0, \"#f0f921\"]], \"type\": \"contour\"}], \"contourcarpet\": [{\"colorbar\": {\"outlinewidth\": 0, \"ticks\": \"\"}, \"type\": \"contourcarpet\"}], \"heatmap\": [{\"colorbar\": {\"outlinewidth\": 0, \"ticks\": \"\"}, \"colorscale\": [[0.0, \"#0d0887\"], [0.1111111111111111, \"#46039f\"], [0.2222222222222222, \"#7201a8\"], [0.3333333333333333, \"#9c179e\"], [0.4444444444444444, \"#bd3786\"], [0.5555555555555556, \"#d8576b\"], [0.6666666666666666, \"#ed7953\"], [0.7777777777777778, \"#fb9f3a\"], [0.8888888888888888, \"#fdca26\"], [1.0, \"#f0f921\"]], \"type\": \"heatmap\"}], \"heatmapgl\": [{\"colorbar\": {\"outlinewidth\": 0, \"ticks\": \"\"}, \"colorscale\": [[0.0, \"#0d0887\"], [0.1111111111111111, \"#46039f\"], [0.2222222222222222, \"#7201a8\"], [0.3333333333333333, \"#9c179e\"], [0.4444444444444444, \"#bd3786\"], [0.5555555555555556, \"#d8576b\"], [0.6666666666666666, \"#ed7953\"], [0.7777777777777778, \"#fb9f3a\"], [0.8888888888888888, \"#fdca26\"], [1.0, \"#f0f921\"]], \"type\": \"heatmapgl\"}], \"histogram\": [{\"marker\": {\"colorbar\": {\"outlinewidth\": 0, \"ticks\": \"\"}}, \"type\": \"histogram\"}], \"histogram2d\": [{\"colorbar\": {\"outlinewidth\": 0, \"ticks\": \"\"}, \"colorscale\": [[0.0, \"#0d0887\"], [0.1111111111111111, \"#46039f\"], [0.2222222222222222, \"#7201a8\"], [0.3333333333333333, \"#9c179e\"], [0.4444444444444444, \"#bd3786\"], [0.5555555555555556, \"#d8576b\"], [0.6666666666666666, \"#ed7953\"], [0.7777777777777778, \"#fb9f3a\"], [0.8888888888888888, \"#fdca26\"], [1.0, \"#f0f921\"]], \"type\": \"histogram2d\"}], \"histogram2dcontour\": [{\"colorbar\": {\"outlinewidth\": 0, \"ticks\": \"\"}, \"colorscale\": [[0.0, \"#0d0887\"], [0.1111111111111111, \"#46039f\"], [0.2222222222222222, \"#7201a8\"], [0.3333333333333333, \"#9c179e\"], [0.4444444444444444, \"#bd3786\"], [0.5555555555555556, \"#d8576b\"], [0.6666666666666666, \"#ed7953\"], [0.7777777777777778, \"#fb9f3a\"], [0.8888888888888888, \"#fdca26\"], [1.0, \"#f0f921\"]], \"type\": \"histogram2dcontour\"}], \"mesh3d\": [{\"colorbar\": {\"outlinewidth\": 0, \"ticks\": \"\"}, \"type\": \"mesh3d\"}], \"parcoords\": [{\"line\": {\"colorbar\": {\"outlinewidth\": 0, \"ticks\": \"\"}}, \"type\": \"parcoords\"}], \"pie\": [{\"automargin\": true, \"type\": \"pie\"}], \"scatter\": [{\"marker\": {\"colorbar\": {\"outlinewidth\": 0, \"ticks\": \"\"}}, \"type\": \"scatter\"}], \"scatter3d\": [{\"line\": {\"colorbar\": {\"outlinewidth\": 0, \"ticks\": \"\"}}, \"marker\": {\"colorbar\": {\"outlinewidth\": 0, \"ticks\": \"\"}}, \"type\": \"scatter3d\"}], \"scattercarpet\": [{\"marker\": {\"colorbar\": {\"outlinewidth\": 0, \"ticks\": \"\"}}, \"type\": \"scattercarpet\"}], \"scattergeo\": [{\"marker\": {\"colorbar\": {\"outlinewidth\": 0, \"ticks\": \"\"}}, \"type\": \"scattergeo\"}], \"scattergl\": [{\"marker\": {\"colorbar\": {\"outlinewidth\": 0, \"ticks\": \"\"}}, \"type\": \"scattergl\"}], \"scattermapbox\": [{\"marker\": {\"colorbar\": {\"outlinewidth\": 0, \"ticks\": \"\"}}, \"type\": \"scattermapbox\"}], \"scatterpolar\": [{\"marker\": {\"colorbar\": {\"outlinewidth\": 0, \"ticks\": \"\"}}, \"type\": \"scatterpolar\"}], \"scatterpolargl\": [{\"marker\": {\"colorbar\": {\"outlinewidth\": 0, \"ticks\": \"\"}}, \"type\": \"scatterpolargl\"}], \"scatterternary\": [{\"marker\": {\"colorbar\": {\"outlinewidth\": 0, \"ticks\": \"\"}}, \"type\": \"scatterternary\"}], \"surface\": [{\"colorbar\": {\"outlinewidth\": 0, \"ticks\": \"\"}, \"colorscale\": [[0.0, \"#0d0887\"], [0.1111111111111111, \"#46039f\"], [0.2222222222222222, \"#7201a8\"], [0.3333333333333333, \"#9c179e\"], [0.4444444444444444, \"#bd3786\"], [0.5555555555555556, \"#d8576b\"], [0.6666666666666666, \"#ed7953\"], [0.7777777777777778, \"#fb9f3a\"], [0.8888888888888888, \"#fdca26\"], [1.0, \"#f0f921\"]], \"type\": \"surface\"}], \"table\": [{\"cells\": {\"fill\": {\"color\": \"#EBF0F8\"}, \"line\": {\"color\": \"white\"}}, \"header\": {\"fill\": {\"color\": \"#C8D4E3\"}, \"line\": {\"color\": \"white\"}}, \"type\": \"table\"}]}, \"layout\": {\"annotationdefaults\": {\"arrowcolor\": \"#2a3f5f\", \"arrowhead\": 0, \"arrowwidth\": 1}, \"autotypenumbers\": \"strict\", \"coloraxis\": {\"colorbar\": {\"outlinewidth\": 0, \"ticks\": \"\"}}, \"colorscale\": {\"diverging\": [[0, \"#8e0152\"], [0.1, \"#c51b7d\"], [0.2, \"#de77ae\"], [0.3, \"#f1b6da\"], [0.4, \"#fde0ef\"], [0.5, \"#f7f7f7\"], [0.6, \"#e6f5d0\"], [0.7, \"#b8e186\"], [0.8, \"#7fbc41\"], [0.9, \"#4d9221\"], [1, \"#276419\"]], \"sequential\": [[0.0, \"#0d0887\"], [0.1111111111111111, \"#46039f\"], [0.2222222222222222, \"#7201a8\"], [0.3333333333333333, \"#9c179e\"], [0.4444444444444444, \"#bd3786\"], [0.5555555555555556, \"#d8576b\"], [0.6666666666666666, \"#ed7953\"], [0.7777777777777778, \"#fb9f3a\"], [0.8888888888888888, \"#fdca26\"], [1.0, \"#f0f921\"]], \"sequentialminus\": [[0.0, \"#0d0887\"], [0.1111111111111111, \"#46039f\"], [0.2222222222222222, \"#7201a8\"], [0.3333333333333333, \"#9c179e\"], [0.4444444444444444, \"#bd3786\"], [0.5555555555555556, \"#d8576b\"], [0.6666666666666666, \"#ed7953\"], [0.7777777777777778, \"#fb9f3a\"], [0.8888888888888888, \"#fdca26\"], [1.0, \"#f0f921\"]]}, \"colorway\": [\"#636efa\", \"#EF553B\", \"#00cc96\", \"#ab63fa\", \"#FFA15A\", \"#19d3f3\", \"#FF6692\", \"#B6E880\", \"#FF97FF\", \"#FECB52\"], \"font\": {\"color\": \"#2a3f5f\"}, \"geo\": {\"bgcolor\": \"white\", \"lakecolor\": \"white\", \"landcolor\": \"#E5ECF6\", \"showlakes\": true, \"showland\": true, \"subunitcolor\": \"white\"}, \"hoverlabel\": {\"align\": \"left\"}, \"hovermode\": \"closest\", \"mapbox\": {\"style\": \"light\"}, \"paper_bgcolor\": \"white\", \"plot_bgcolor\": \"#E5ECF6\", \"polar\": {\"angularaxis\": {\"gridcolor\": \"white\", \"linecolor\": \"white\", \"ticks\": \"\"}, \"bgcolor\": \"#E5ECF6\", \"radialaxis\": {\"gridcolor\": \"white\", \"linecolor\": \"white\", \"ticks\": \"\"}}, \"scene\": {\"xaxis\": {\"backgroundcolor\": \"#E5ECF6\", \"gridcolor\": \"white\", \"gridwidth\": 2, \"linecolor\": \"white\", \"showbackground\": true, \"ticks\": \"\", \"zerolinecolor\": \"white\"}, \"yaxis\": {\"backgroundcolor\": \"#E5ECF6\", \"gridcolor\": \"white\", \"gridwidth\": 2, \"linecolor\": \"white\", \"showbackground\": true, \"ticks\": \"\", \"zerolinecolor\": \"white\"}, \"zaxis\": {\"backgroundcolor\": \"#E5ECF6\", \"gridcolor\": \"white\", \"gridwidth\": 2, \"linecolor\": \"white\", \"showbackground\": true, \"ticks\": \"\", \"zerolinecolor\": \"white\"}}, \"shapedefaults\": {\"line\": {\"color\": \"#2a3f5f\"}}, \"ternary\": {\"aaxis\": {\"gridcolor\": \"white\", \"linecolor\": \"white\", \"ticks\": \"\"}, \"baxis\": {\"gridcolor\": \"white\", \"linecolor\": \"white\", \"ticks\": \"\"}, \"bgcolor\": \"#E5ECF6\", \"caxis\": {\"gridcolor\": \"white\", \"linecolor\": \"white\", \"ticks\": \"\"}}, \"title\": {\"x\": 0.05}, \"xaxis\": {\"automargin\": true, \"gridcolor\": \"white\", \"linecolor\": \"white\", \"ticks\": \"\", \"title\": {\"standoff\": 15}, \"zerolinecolor\": \"white\", \"zerolinewidth\": 2}, \"yaxis\": {\"automargin\": true, \"gridcolor\": \"white\", \"linecolor\": \"white\", \"ticks\": \"\", \"title\": {\"standoff\": 15}, \"zerolinecolor\": \"white\", \"zerolinewidth\": 2}}}},                        {\"responsive\": true}                    ).then(function(){\n",
       "                            \n",
       "var gd = document.getElementById('90518d5c-0d74-4846-9fe4-5dc4d478dcd8');\n",
       "var x = new MutationObserver(function (mutations, observer) {{\n",
       "        var display = window.getComputedStyle(gd).display;\n",
       "        if (!display || display === 'none') {{\n",
       "            console.log([gd, 'removed!']);\n",
       "            Plotly.purge(gd);\n",
       "            observer.disconnect();\n",
       "        }}\n",
       "}});\n",
       "\n",
       "// Listen for the removal of the full notebook cells\n",
       "var notebookContainer = gd.closest('#notebook-container');\n",
       "if (notebookContainer) {{\n",
       "    x.observe(notebookContainer, {childList: true});\n",
       "}}\n",
       "\n",
       "// Listen for the clearing of the current output cell\n",
       "var outputEl = gd.closest('.output');\n",
       "if (outputEl) {{\n",
       "    x.observe(outputEl, {childList: true});\n",
       "}}\n",
       "\n",
       "                        })                };                });            </script>        </div>"
      ]
     },
     "metadata": {},
     "output_type": "display_data"
    }
   ],
   "source": [
    "# Lets choose an eps and min_samples...\n",
    "\n",
    "eps = 0.87\n",
    "eps = 0.75\n",
    "# eps = 0.5\n",
    "min_samples = 2\n",
    "standard_clustering = DBSCAN(eps=eps, min_samples=min_samples).fit(np_country_data)\n",
    "\n",
    "country_labels = zip(country_names, standard_clustering.labels_)\n",
    "\n",
    "# find countries in each cluster\n",
    "country_nut_clusters = {k: [] for k in standard_clustering.labels_}\n",
    "for index, (c_name, label) in enumerate(country_labels):\n",
    "#     print(f'{name}, {label}')\n",
    "    country_nut_clusters[label].append(c_name)\n",
    "    \n",
    "\n",
    "# Now lets find the means and average covariance for each cluster...\n",
    "\n",
    "from statistics import mean, variance\n",
    "\n",
    "def find_means(c_list):\n",
    "    temp_ineq_df = income_ineq_df.loc[income_ineq_df['Country Name'].isin(c_list)]\n",
    "    temp_labour_df = labour_df.loc[labour_df['Country Name'].isin(c_list)]\n",
    "    temp_gdp_df = gdp_df.loc[gdp_df['Country Name'].isin(c_list)]\n",
    "    temp_gdpdelta_df = gdpdelta_df.loc[gdpdelta_df['Country Name'].isin(c_list)]\n",
    "    \n",
    "    def means(df):\n",
    "        return df.mean().mean()\n",
    "    \n",
    "    return means(temp_ineq_df), means(temp_labour_df), means(temp_gdp_df), means(temp_gdpdelta_df)\n",
    "\n",
    "def variance_of_covariance(c_list):\n",
    "    ineq_labour = []\n",
    "    ineq_gdp = []\n",
    "    ineq_gdpdelta = []\n",
    "    labour_gdp = []\n",
    "    labour_gdpdelta = [] \n",
    "    gdp_gdpdelta = []\n",
    "    \n",
    "    for country in c_list:\n",
    "        ineq_labour.append(country_corrs[country]['ineq/labour'])\n",
    "        ineq_gdp.append(country_corrs[country]['ineq/gdp'])\n",
    "        ineq_gdpdelta.append(country_corrs[country]['ineq/gdpdelta'])\n",
    "        labour_gdp.append(country_corrs[country]['labour/gdp'])\n",
    "        labour_gdpdelta.append(country_corrs[country]['labour/gdpdelta'])\n",
    "        gdp_gdpdelta.append(country_corrs[country]['gdp/gdpdelta'])\n",
    "        \n",
    "    return (variance(ineq_labour),variance(ineq_gdp),variance(ineq_gdpdelta),variance(labour_gdp),variance(labour_gdpdelta),variance(gdp_gdpdelta))\n",
    "\n",
    "def average_covariance(c_list):\n",
    "    ineq_labour = []\n",
    "    ineq_gdp = []\n",
    "    ineq_gdpdelta = []\n",
    "    labour_gdp = []\n",
    "    labour_gdpdelta = [] \n",
    "    gdp_gdpdelta = []\n",
    "    \n",
    "    for country in c_list:\n",
    "        ineq_labour.append(country_corrs[country]['ineq/labour'])\n",
    "        ineq_gdp.append(country_corrs[country]['ineq/gdp'])\n",
    "        ineq_gdpdelta.append(country_corrs[country]['ineq/gdpdelta'])\n",
    "        labour_gdp.append(country_corrs[country]['labour/gdp'])\n",
    "        labour_gdpdelta.append(country_corrs[country]['labour/gdpdelta'])\n",
    "        gdp_gdpdelta.append(country_corrs[country]['gdp/gdpdelta'])\n",
    "    \n",
    "    return (mean(ineq_labour),mean(ineq_gdp),mean(ineq_gdpdelta),mean(labour_gdp),mean(labour_gdpdelta),mean(gdp_gdpdelta))\n",
    "           \n",
    "print('Clusters...')\n",
    "\n",
    "# -1 represents means a point has been described as noise\n",
    "for i in country_nut_clusters.items():\n",
    "    print(i)\n",
    "        \n",
    "print()\n",
    "print(f'Means...')\n",
    "cluster_keys = list(country_nut_clusters.keys())\n",
    "print(f\"{'key' : >3}   {'ineq' : <20} {'labour' : <20} {'gdp' : <20} {'gdp_delta' : <20}\")\n",
    "for key in cluster_keys:\n",
    "    a_mean = find_means(country_nut_clusters[key])\n",
    "    print(f\"{key : >3}   {a_mean[0] : <20} {a_mean[1] : <20} {a_mean[2] : <20} {a_mean[3] : <20}\")\n",
    "\n",
    "print()\n",
    "print('Average Covariance... ')\n",
    "print(f\"{'key' : >3}   {'ineq/labour' : <15} {'ineq/gdp' : <15} {'ineq/gdp_delta' : <15} {'labour/gdp' : <15} {'labour/gdp_delta' : <15} {'gdp/gdp_delta' : <15}\")\n",
    "for key in cluster_keys:\n",
    "    an_average_covariance = average_covariance(country_nut_clusters[key])\n",
    "    \n",
    "    ineq_labour_formatted = \"{:.5f}\".format(an_average_covariance[0])\n",
    "    ineq_gdp_formatted = \"{:.5f}\".format(an_average_covariance[1])\n",
    "    ineq_gdpdelta_formatted = \"{:.5f}\".format(an_average_covariance[2])\n",
    "    labour_gdp_formatted = \"{:.5f}\".format(an_average_covariance[3])\n",
    "    labour_gdpdelta_formatted = \"{:.5f}\".format(an_average_covariance[4])\n",
    "    gdp_gdpdelta_formatted = \"{:.5f}\".format(an_average_covariance[5])\n",
    "    \n",
    "    print(f\"{key : >3}   {ineq_labour_formatted:<15} {ineq_gdp_formatted:<15} {ineq_gdpdelta_formatted:<15} {labour_gdp_formatted:<15} {labour_gdpdelta_formatted:<15} {gdp_gdpdelta_formatted:<15}\")\n",
    "    \n",
    "print()\n",
    "print('Variance of Covariance Matrices... ')\n",
    "print(f\"{'key' : >3}   {'ineq/labour' : <15} {'ineq/gdp' : <15} {'ineq/gdp_delta' : <15} {'labour/gdp' : <15} {'labour/gdp_delta' : <15} {'gdp/gdp_delta' : <15}\")\n",
    "for key in cluster_keys:\n",
    "    an_var_covariance = variance_of_covariance(country_nut_clusters[key])\n",
    "    \n",
    "    ineq_labour_formatted = \"{:.5f}\".format(an_var_covariance[0])\n",
    "    ineq_gdp_formatted = \"{:.5f}\".format(an_var_covariance[1])\n",
    "    ineq_gdpdelta_formatted = \"{:.5f}\".format(an_var_covariance[2])\n",
    "    labour_gdp_formatted = \"{:.5f}\".format(an_var_covariance[3])\n",
    "    labour_gdpdelta_formatted = \"{:.5f}\".format(an_var_covariance[4])\n",
    "    gdp_gdpdelta_formatted = \"{:.5f}\".format(an_var_covariance[5])\n",
    "    \n",
    "    print(f\"{key : >3}   {ineq_labour_formatted:<15} {ineq_gdp_formatted:<15} {ineq_gdpdelta_formatted:<15} {labour_gdp_formatted:<15} {labour_gdpdelta_formatted:<15} {gdp_gdpdelta_formatted:<15}\")\n",
    "\n",
    "# choropleth map plot...\n",
    "\n",
    "countries_cluster_df = pd.DataFrame()\n",
    "\n",
    "\n",
    "country_names = country_corrs.keys()\n",
    "countries_cluster_df['Country Name'] = country_names\n",
    "\n",
    "countries_cluster_df = countries_cluster_df.merge(c_ineq_df, on='Country Name')\n",
    "year_vals = list(range(2009,2021))\n",
    "year_vals = list(map(lambda x: str(x), year_vals))\n",
    "countries_cluster_df = countries_cluster_df.drop(columns=year_vals)\n",
    "\n",
    "\n",
    "country_cluster = {}\n",
    "for k, v in country_nut_clusters.items():\n",
    "    for country in v:\n",
    "        country_cluster[country] = k\n",
    "    \n",
    "cluster_index = list(map(lambda x: country_cluster[x], country_names))\n",
    "countries_cluster_df['Cluster Index'] = cluster_index\n",
    "\n",
    "\n",
    "# plotting\n",
    "import plotly.express as px\n",
    "\n",
    "fig = px.choropleth(countries_cluster_df, # dataset to use\n",
    "                    locations= countries_cluster_df[\"Country Code\"], # column which includes 3 letter country code\n",
    "                    color=countries_cluster_df[\"Cluster Index\"], # column which dictates the colour of the map\n",
    "                    hover_name=countries_cluster_df[\"Country Name\"]) # column to add to hover information)\n",
    "fig.show()"
   ]
  },
  {
   "cell_type": "code",
   "execution_count": null,
   "metadata": {},
   "outputs": [],
   "source": []
  }
 ],
 "metadata": {
  "kernelspec": {
   "display_name": "Python 3",
   "language": "python",
   "name": "python3"
  },
  "language_info": {
   "codemirror_mode": {
    "name": "ipython",
    "version": 3
   },
   "file_extension": ".py",
   "mimetype": "text/x-python",
   "name": "python",
   "nbconvert_exporter": "python",
   "pygments_lexer": "ipython3",
   "version": "3.7.7"
  }
 },
 "nbformat": 4,
 "nbformat_minor": 4
}
