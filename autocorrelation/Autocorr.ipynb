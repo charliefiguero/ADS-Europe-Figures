{
 "cells": [
  {
   "cell_type": "code",
   "execution_count": 58,
   "id": "million-twenty",
   "metadata": {
    "scrolled": true
   },
   "outputs": [],
   "source": [
    "import pandas as pd\n",
    "import plotly.express as px\n",
    "import matplotlib.pyplot as plt\n",
    "import plotly.graph_objects as go\n",
    "import numpy as np\n",
    "from functools import reduce\n",
    "# import statsmodels.stats.diagnostic.acorr_ljungbox\n",
    "import statsmodels as stats\n",
    "from statsmodels.stats.diagnostic import acorr_ljungbox\n",
    "\n",
    "from statsmodels.graphics.tsaplots import plot_acf\n",
    "\n",
    "labour_csv = pd.read_csv('LabourProductivity.csv')\n",
    "# labour_csv\n",
    "\n",
    "# !python3 -m pip install statsmodels\n",
    "# !pip install statsmodels"
   ]
  },
  {
   "cell_type": "code",
   "execution_count": 35,
   "id": "received-trauma",
   "metadata": {},
   "outputs": [],
   "source": [
    "# econ_csv   = pd.read_csv('EconomicSentiment.csv')\n",
    "# econ_csv\n",
    "\n",
    "gdp_csv = pd.read_csv('gdp_from_1975.csv')\n",
    "# gdp_csv"
   ]
  },
  {
   "cell_type": "code",
   "execution_count": 36,
   "id": "excessive-sapphire",
   "metadata": {},
   "outputs": [],
   "source": [
    "incomeineq_csv = pd.read_csv('incomeinequality_reformatted.csv')\n",
    "# incomeineq_csv"
   ]
  },
  {
   "cell_type": "code",
   "execution_count": 37,
   "id": "demonstrated-tamil",
   "metadata": {},
   "outputs": [],
   "source": [
    "STRONG_CORR_THRESHOLD = 0.7\n",
    "def within_threshold(x, t):\n",
    "    return x >= t or x <= -t\n",
    "\n",
    "def c_data(country_name):\n",
    "    return labour_csv[labour_csv['Country Name'] == country_name].iloc[0][2:].astype(float)\n",
    "\n",
    "def calc_autocorr(country_name, lag=1):\n",
    "    return c_data(country_name).autocorr(lag=lag)\n",
    "\n",
    "lags   = list(range(2, 10))\n",
    "acorrs = [ calc_autocorr('United Kingdom', l) for l in lags ]\n",
    "# print(acorrs)\n",
    "\n",
    "# print(c_data('United Kingdom'))\n",
    "\n",
    "# fig = plt.plot(lags, acorrs)\n",
    "# plt.suptitle('Lag vs Correlation for Norway')\n",
    "# plt.xlabel('Lag')\n",
    "# plt.ylabel('Correlation')\n",
    "\n",
    "default_lag = 1\n",
    "\n",
    "def calc_autocorr_all(data, lag=default_lag):\n",
    "    return data.apply(lambda row: row[2:].astype(float).autocorr(lag=lag), axis='columns')\n",
    "\n",
    "def calc_labour_autocorr(lag):\n",
    "    labour_autocorr     = pd.DataFrame(calc_autocorr_all(labour_csv, lag=lag), columns=['Labour Productivity Autocorrelation'])\n",
    "    labour_autocorr.insert(0, 'Country Code', labour_csv['Country Code'])\n",
    "    return labour_autocorr\n",
    "labour_autocorr = calc_labour_autocorr(lag=default_lag)\n",
    "\n",
    "# econ_autocorr       = pd.DataFrame(calc_autocorr_all(econ_csv), columns=['Economic Sentiment Autocorrelation'])\n",
    "# econ_autocorr.insert(0, 'Country Code', econ_csv['Country Code'])\n",
    "def calc_gdp_autocorr(lag):\n",
    "    gdp_autocorr        = pd.DataFrame(calc_autocorr_all(gdp_csv, lag=lag), columns=['GDP Autocorrelation'])\n",
    "    gdp_autocorr.insert(0, 'Country Code', gdp_csv['Country Code'])\n",
    "    return gdp_autocorr\n",
    "gdp_autocorr = calc_gdp_autocorr(lag=default_lag)\n",
    "    \n",
    "def calc_incomeineq_autocorr(lag):\n",
    "    incomeineq_autocorr = pd.DataFrame(calc_autocorr_all(incomeineq_csv, lag=lag), columns=['Income Inequality Autocorrelation'])\n",
    "    incomeineq_autocorr.insert(0, 'Country Code', incomeineq_csv['Country Code'])\n",
    "    return incomeineq_autocorr\n",
    "incomeineq_autocorr = calc_incomeineq_autocorr(lag=default_lag)\n",
    "\n",
    "# labour_autocorr\n",
    "# econ_autocorr\n",
    "# merged"
   ]
  },
  {
   "cell_type": "code",
   "execution_count": 38,
   "id": "pressing-bailey",
   "metadata": {},
   "outputs": [
    {
     "name": "stderr",
     "output_type": "stream",
     "text": [
      "/home/adam/.local/lib/python3.8/site-packages/pandas/core/generic.py:4153: PerformanceWarning:\n",
      "\n",
      "dropping on a non-lexsorted multi-index without a level parameter may impact performance.\n",
      "\n"
     ]
    },
    {
     "data": {
      "text/html": [
       "<div>\n",
       "<style scoped>\n",
       "    .dataframe tbody tr th:only-of-type {\n",
       "        vertical-align: middle;\n",
       "    }\n",
       "\n",
       "    .dataframe tbody tr th {\n",
       "        vertical-align: top;\n",
       "    }\n",
       "\n",
       "    .dataframe thead tr th {\n",
       "        text-align: left;\n",
       "    }\n",
       "</style>\n",
       "<table border=\"1\" class=\"dataframe\">\n",
       "  <thead>\n",
       "    <tr>\n",
       "      <th></th>\n",
       "      <th>_x</th>\n",
       "      <th colspan=\"3\" halign=\"left\">Labour Productivity Autocorrelation</th>\n",
       "      <th colspan=\"3\" halign=\"left\">GDP Autocorrelation</th>\n",
       "      <th colspan=\"3\" halign=\"left\">Income Inequality Autocorrelation</th>\n",
       "    </tr>\n",
       "    <tr>\n",
       "      <th></th>\n",
       "      <th>Country Code</th>\n",
       "      <th>Lag 1</th>\n",
       "      <th>Lag 2</th>\n",
       "      <th>Lag 3</th>\n",
       "      <th>Lag 1</th>\n",
       "      <th>Lag 2</th>\n",
       "      <th>Lag 3</th>\n",
       "      <th>Lag 1</th>\n",
       "      <th>Lag 2</th>\n",
       "      <th>Lag 3</th>\n",
       "    </tr>\n",
       "  </thead>\n",
       "  <tbody>\n",
       "    <tr>\n",
       "      <th>0</th>\n",
       "      <td>AUT</td>\n",
       "      <td>0.756414</td>\n",
       "      <td>0.513981</td>\n",
       "      <td>0.373920</td>\n",
       "      <td>0.992916</td>\n",
       "      <td>0.988406</td>\n",
       "      <td>0.987116</td>\n",
       "      <td>-0.304718</td>\n",
       "      <td>0.209556</td>\n",
       "      <td>-0.053258</td>\n",
       "    </tr>\n",
       "    <tr>\n",
       "      <th>1</th>\n",
       "      <td>BEL</td>\n",
       "      <td>0.482716</td>\n",
       "      <td>-0.028158</td>\n",
       "      <td>-0.409866</td>\n",
       "      <td>0.993343</td>\n",
       "      <td>0.990495</td>\n",
       "      <td>0.988965</td>\n",
       "      <td>0.480234</td>\n",
       "      <td>0.300085</td>\n",
       "      <td>0.222034</td>\n",
       "    </tr>\n",
       "    <tr>\n",
       "      <th>2</th>\n",
       "      <td>BGR</td>\n",
       "      <td>0.976329</td>\n",
       "      <td>0.971854</td>\n",
       "      <td>0.962031</td>\n",
       "      <td>0.991607</td>\n",
       "      <td>0.982830</td>\n",
       "      <td>0.974641</td>\n",
       "      <td>0.889667</td>\n",
       "      <td>0.874531</td>\n",
       "      <td>0.793500</td>\n",
       "    </tr>\n",
       "    <tr>\n",
       "      <th>3</th>\n",
       "      <td>CHE</td>\n",
       "      <td>0.692498</td>\n",
       "      <td>0.102782</td>\n",
       "      <td>-0.272142</td>\n",
       "      <td>0.994718</td>\n",
       "      <td>0.987371</td>\n",
       "      <td>0.981857</td>\n",
       "      <td>0.179517</td>\n",
       "      <td>0.267679</td>\n",
       "      <td>-0.207335</td>\n",
       "    </tr>\n",
       "    <tr>\n",
       "      <th>4</th>\n",
       "      <td>CYP</td>\n",
       "      <td>0.910665</td>\n",
       "      <td>0.733632</td>\n",
       "      <td>0.561454</td>\n",
       "      <td>0.988008</td>\n",
       "      <td>0.957839</td>\n",
       "      <td>0.916928</td>\n",
       "      <td>0.645813</td>\n",
       "      <td>0.091592</td>\n",
       "      <td>-0.681226</td>\n",
       "    </tr>\n",
       "    <tr>\n",
       "      <th>5</th>\n",
       "      <td>CZE</td>\n",
       "      <td>0.890026</td>\n",
       "      <td>0.691392</td>\n",
       "      <td>0.446937</td>\n",
       "      <td>0.987535</td>\n",
       "      <td>0.972913</td>\n",
       "      <td>0.953600</td>\n",
       "      <td>0.564593</td>\n",
       "      <td>-0.101407</td>\n",
       "      <td>-0.301860</td>\n",
       "    </tr>\n",
       "    <tr>\n",
       "      <th>6</th>\n",
       "      <td>DEU</td>\n",
       "      <td>0.670293</td>\n",
       "      <td>0.307743</td>\n",
       "      <td>0.101392</td>\n",
       "      <td>0.998257</td>\n",
       "      <td>0.996232</td>\n",
       "      <td>0.994039</td>\n",
       "      <td>0.335558</td>\n",
       "      <td>-0.251663</td>\n",
       "      <td>-0.126440</td>\n",
       "    </tr>\n",
       "    <tr>\n",
       "      <th>7</th>\n",
       "      <td>DNK</td>\n",
       "      <td>0.856207</td>\n",
       "      <td>0.721130</td>\n",
       "      <td>0.576021</td>\n",
       "      <td>0.998984</td>\n",
       "      <td>0.998163</td>\n",
       "      <td>0.996998</td>\n",
       "      <td>0.663341</td>\n",
       "      <td>-0.763491</td>\n",
       "      <td>-0.916309</td>\n",
       "    </tr>\n",
       "    <tr>\n",
       "      <th>8</th>\n",
       "      <td>ESP</td>\n",
       "      <td>0.314582</td>\n",
       "      <td>-0.118712</td>\n",
       "      <td>0.108771</td>\n",
       "      <td>0.990962</td>\n",
       "      <td>0.969426</td>\n",
       "      <td>0.935630</td>\n",
       "      <td>0.554757</td>\n",
       "      <td>0.043804</td>\n",
       "      <td>-0.304365</td>\n",
       "    </tr>\n",
       "    <tr>\n",
       "      <th>9</th>\n",
       "      <td>EST</td>\n",
       "      <td>0.911567</td>\n",
       "      <td>0.832620</td>\n",
       "      <td>0.825945</td>\n",
       "      <td>0.990091</td>\n",
       "      <td>0.975155</td>\n",
       "      <td>0.965121</td>\n",
       "      <td>0.612771</td>\n",
       "      <td>0.014720</td>\n",
       "      <td>-0.349438</td>\n",
       "    </tr>\n",
       "    <tr>\n",
       "      <th>10</th>\n",
       "      <td>FIN</td>\n",
       "      <td>0.883792</td>\n",
       "      <td>0.732228</td>\n",
       "      <td>0.655377</td>\n",
       "      <td>0.993016</td>\n",
       "      <td>0.979869</td>\n",
       "      <td>0.968966</td>\n",
       "      <td>0.341330</td>\n",
       "      <td>0.171381</td>\n",
       "      <td>-0.286708</td>\n",
       "    </tr>\n",
       "    <tr>\n",
       "      <th>11</th>\n",
       "      <td>FRA</td>\n",
       "      <td>0.798160</td>\n",
       "      <td>0.651524</td>\n",
       "      <td>0.584933</td>\n",
       "      <td>0.999326</td>\n",
       "      <td>0.998503</td>\n",
       "      <td>0.998000</td>\n",
       "      <td>0.689732</td>\n",
       "      <td>0.350250</td>\n",
       "      <td>0.071277</td>\n",
       "    </tr>\n",
       "    <tr>\n",
       "      <th>12</th>\n",
       "      <td>GBR</td>\n",
       "      <td>0.958998</td>\n",
       "      <td>0.948042</td>\n",
       "      <td>0.873370</td>\n",
       "      <td>0.988589</td>\n",
       "      <td>0.972983</td>\n",
       "      <td>0.960673</td>\n",
       "      <td>0.473846</td>\n",
       "      <td>-0.251405</td>\n",
       "      <td>-0.245792</td>\n",
       "    </tr>\n",
       "    <tr>\n",
       "      <th>13</th>\n",
       "      <td>GRC</td>\n",
       "      <td>0.954632</td>\n",
       "      <td>0.895021</td>\n",
       "      <td>0.831573</td>\n",
       "      <td>0.971015</td>\n",
       "      <td>0.898002</td>\n",
       "      <td>0.762112</td>\n",
       "      <td>0.717922</td>\n",
       "      <td>-0.043116</td>\n",
       "      <td>-0.496630</td>\n",
       "    </tr>\n",
       "    <tr>\n",
       "      <th>14</th>\n",
       "      <td>HRV</td>\n",
       "      <td>0.662465</td>\n",
       "      <td>0.116810</td>\n",
       "      <td>0.071831</td>\n",
       "      <td>0.987785</td>\n",
       "      <td>0.960764</td>\n",
       "      <td>0.921525</td>\n",
       "      <td>0.869809</td>\n",
       "      <td>0.921329</td>\n",
       "      <td>0.824937</td>\n",
       "    </tr>\n",
       "    <tr>\n",
       "      <th>15</th>\n",
       "      <td>HUN</td>\n",
       "      <td>0.761571</td>\n",
       "      <td>0.395089</td>\n",
       "      <td>-0.151136</td>\n",
       "      <td>0.982024</td>\n",
       "      <td>0.964793</td>\n",
       "      <td>0.943000</td>\n",
       "      <td>0.823789</td>\n",
       "      <td>0.846245</td>\n",
       "      <td>0.456453</td>\n",
       "    </tr>\n",
       "    <tr>\n",
       "      <th>16</th>\n",
       "      <td>IRL</td>\n",
       "      <td>0.875385</td>\n",
       "      <td>0.780880</td>\n",
       "      <td>0.700472</td>\n",
       "      <td>0.983929</td>\n",
       "      <td>0.954718</td>\n",
       "      <td>0.906909</td>\n",
       "      <td>0.392818</td>\n",
       "      <td>0.153427</td>\n",
       "      <td>0.097418</td>\n",
       "    </tr>\n",
       "    <tr>\n",
       "      <th>17</th>\n",
       "      <td>ISL</td>\n",
       "      <td>0.466883</td>\n",
       "      <td>-0.181265</td>\n",
       "      <td>-0.443899</td>\n",
       "      <td>0.935764</td>\n",
       "      <td>0.831576</td>\n",
       "      <td>0.690482</td>\n",
       "      <td>0.335635</td>\n",
       "      <td>0.033174</td>\n",
       "      <td>-0.126960</td>\n",
       "    </tr>\n",
       "    <tr>\n",
       "      <th>18</th>\n",
       "      <td>ITA</td>\n",
       "      <td>0.971029</td>\n",
       "      <td>0.927739</td>\n",
       "      <td>0.881028</td>\n",
       "      <td>0.992202</td>\n",
       "      <td>0.980227</td>\n",
       "      <td>0.970643</td>\n",
       "      <td>0.642853</td>\n",
       "      <td>0.692602</td>\n",
       "      <td>0.630433</td>\n",
       "    </tr>\n",
       "    <tr>\n",
       "      <th>19</th>\n",
       "      <td>LTU</td>\n",
       "      <td>0.923558</td>\n",
       "      <td>0.834205</td>\n",
       "      <td>0.784287</td>\n",
       "      <td>0.988822</td>\n",
       "      <td>0.974450</td>\n",
       "      <td>0.967105</td>\n",
       "      <td>0.350133</td>\n",
       "      <td>0.045899</td>\n",
       "      <td>-0.277323</td>\n",
       "    </tr>\n",
       "    <tr>\n",
       "      <th>20</th>\n",
       "      <td>LUX</td>\n",
       "      <td>0.617692</td>\n",
       "      <td>0.063432</td>\n",
       "      <td>-0.434639</td>\n",
       "      <td>0.996810</td>\n",
       "      <td>0.993129</td>\n",
       "      <td>0.992426</td>\n",
       "      <td>0.754600</td>\n",
       "      <td>0.487749</td>\n",
       "      <td>0.478455</td>\n",
       "    </tr>\n",
       "    <tr>\n",
       "      <th>21</th>\n",
       "      <td>LVA</td>\n",
       "      <td>0.978372</td>\n",
       "      <td>0.965543</td>\n",
       "      <td>0.961814</td>\n",
       "      <td>0.974094</td>\n",
       "      <td>0.926751</td>\n",
       "      <td>0.896916</td>\n",
       "      <td>0.527060</td>\n",
       "      <td>-0.155907</td>\n",
       "      <td>-0.007882</td>\n",
       "    </tr>\n",
       "    <tr>\n",
       "      <th>22</th>\n",
       "      <td>MKD</td>\n",
       "      <td>0.385586</td>\n",
       "      <td>0.371659</td>\n",
       "      <td>-0.147962</td>\n",
       "      <td>0.996044</td>\n",
       "      <td>0.991295</td>\n",
       "      <td>0.985111</td>\n",
       "      <td>0.963609</td>\n",
       "      <td>0.856179</td>\n",
       "      <td>0.725426</td>\n",
       "    </tr>\n",
       "    <tr>\n",
       "      <th>23</th>\n",
       "      <td>MLT</td>\n",
       "      <td>0.277277</td>\n",
       "      <td>-0.200805</td>\n",
       "      <td>-0.458627</td>\n",
       "      <td>0.992072</td>\n",
       "      <td>0.988176</td>\n",
       "      <td>0.980866</td>\n",
       "      <td>-0.037949</td>\n",
       "      <td>0.045013</td>\n",
       "      <td>0.406053</td>\n",
       "    </tr>\n",
       "    <tr>\n",
       "      <th>24</th>\n",
       "      <td>NLD</td>\n",
       "      <td>0.938924</td>\n",
       "      <td>0.853752</td>\n",
       "      <td>0.763853</td>\n",
       "      <td>0.994553</td>\n",
       "      <td>0.983475</td>\n",
       "      <td>0.971016</td>\n",
       "      <td>0.574627</td>\n",
       "      <td>0.547757</td>\n",
       "      <td>0.213765</td>\n",
       "    </tr>\n",
       "    <tr>\n",
       "      <th>25</th>\n",
       "      <td>NOR</td>\n",
       "      <td>0.790845</td>\n",
       "      <td>0.607768</td>\n",
       "      <td>0.394122</td>\n",
       "      <td>0.989229</td>\n",
       "      <td>0.975227</td>\n",
       "      <td>0.963372</td>\n",
       "      <td>0.816802</td>\n",
       "      <td>0.564821</td>\n",
       "      <td>0.194991</td>\n",
       "    </tr>\n",
       "    <tr>\n",
       "      <th>26</th>\n",
       "      <td>POL</td>\n",
       "      <td>0.964460</td>\n",
       "      <td>0.887533</td>\n",
       "      <td>0.791747</td>\n",
       "      <td>0.984486</td>\n",
       "      <td>0.974361</td>\n",
       "      <td>0.965840</td>\n",
       "      <td>0.876541</td>\n",
       "      <td>0.783586</td>\n",
       "      <td>0.608895</td>\n",
       "    </tr>\n",
       "    <tr>\n",
       "      <th>27</th>\n",
       "      <td>PRT</td>\n",
       "      <td>0.354543</td>\n",
       "      <td>-0.289345</td>\n",
       "      <td>-0.056281</td>\n",
       "      <td>0.990364</td>\n",
       "      <td>0.965787</td>\n",
       "      <td>0.928685</td>\n",
       "      <td>0.666364</td>\n",
       "      <td>0.074543</td>\n",
       "      <td>-0.422414</td>\n",
       "    </tr>\n",
       "    <tr>\n",
       "      <th>28</th>\n",
       "      <td>ROU</td>\n",
       "      <td>0.973335</td>\n",
       "      <td>0.913561</td>\n",
       "      <td>0.822865</td>\n",
       "      <td>0.986284</td>\n",
       "      <td>0.959722</td>\n",
       "      <td>0.929987</td>\n",
       "      <td>0.454850</td>\n",
       "      <td>-0.039434</td>\n",
       "      <td>-0.048056</td>\n",
       "    </tr>\n",
       "    <tr>\n",
       "      <th>29</th>\n",
       "      <td>SVK</td>\n",
       "      <td>0.803360</td>\n",
       "      <td>0.443763</td>\n",
       "      <td>-0.052390</td>\n",
       "      <td>0.993670</td>\n",
       "      <td>0.983724</td>\n",
       "      <td>0.971143</td>\n",
       "      <td>0.409577</td>\n",
       "      <td>0.343209</td>\n",
       "      <td>0.352795</td>\n",
       "    </tr>\n",
       "    <tr>\n",
       "      <th>30</th>\n",
       "      <td>SVN</td>\n",
       "      <td>0.653418</td>\n",
       "      <td>0.313862</td>\n",
       "      <td>0.080677</td>\n",
       "      <td>0.989591</td>\n",
       "      <td>0.973751</td>\n",
       "      <td>0.954547</td>\n",
       "      <td>0.637199</td>\n",
       "      <td>0.123187</td>\n",
       "      <td>-0.296178</td>\n",
       "    </tr>\n",
       "    <tr>\n",
       "      <th>31</th>\n",
       "      <td>SWE</td>\n",
       "      <td>0.878684</td>\n",
       "      <td>0.738832</td>\n",
       "      <td>0.743971</td>\n",
       "      <td>0.982230</td>\n",
       "      <td>0.964730</td>\n",
       "      <td>0.958108</td>\n",
       "      <td>0.639439</td>\n",
       "      <td>0.756968</td>\n",
       "      <td>0.801737</td>\n",
       "    </tr>\n",
       "    <tr>\n",
       "      <th>32</th>\n",
       "      <td>0</td>\n",
       "      <td>21.000000</td>\n",
       "      <td>15.000000</td>\n",
       "      <td>12.000000</td>\n",
       "      <td>45.000000</td>\n",
       "      <td>45.000000</td>\n",
       "      <td>44.000000</td>\n",
       "      <td>10.000000</td>\n",
       "      <td>8.000000</td>\n",
       "      <td>6.000000</td>\n",
       "    </tr>\n",
       "  </tbody>\n",
       "</table>\n",
       "</div>"
      ],
      "text/plain": [
       "             _x Labour Productivity Autocorrelation                        \\\n",
       "   Country Code                               Lag 1      Lag 2      Lag 3   \n",
       "0           AUT                            0.756414   0.513981   0.373920   \n",
       "1           BEL                            0.482716  -0.028158  -0.409866   \n",
       "2           BGR                            0.976329   0.971854   0.962031   \n",
       "3           CHE                            0.692498   0.102782  -0.272142   \n",
       "4           CYP                            0.910665   0.733632   0.561454   \n",
       "5           CZE                            0.890026   0.691392   0.446937   \n",
       "6           DEU                            0.670293   0.307743   0.101392   \n",
       "7           DNK                            0.856207   0.721130   0.576021   \n",
       "8           ESP                            0.314582  -0.118712   0.108771   \n",
       "9           EST                            0.911567   0.832620   0.825945   \n",
       "10          FIN                            0.883792   0.732228   0.655377   \n",
       "11          FRA                            0.798160   0.651524   0.584933   \n",
       "12          GBR                            0.958998   0.948042   0.873370   \n",
       "13          GRC                            0.954632   0.895021   0.831573   \n",
       "14          HRV                            0.662465   0.116810   0.071831   \n",
       "15          HUN                            0.761571   0.395089  -0.151136   \n",
       "16          IRL                            0.875385   0.780880   0.700472   \n",
       "17          ISL                            0.466883  -0.181265  -0.443899   \n",
       "18          ITA                            0.971029   0.927739   0.881028   \n",
       "19          LTU                            0.923558   0.834205   0.784287   \n",
       "20          LUX                            0.617692   0.063432  -0.434639   \n",
       "21          LVA                            0.978372   0.965543   0.961814   \n",
       "22          MKD                            0.385586   0.371659  -0.147962   \n",
       "23          MLT                            0.277277  -0.200805  -0.458627   \n",
       "24          NLD                            0.938924   0.853752   0.763853   \n",
       "25          NOR                            0.790845   0.607768   0.394122   \n",
       "26          POL                            0.964460   0.887533   0.791747   \n",
       "27          PRT                            0.354543  -0.289345  -0.056281   \n",
       "28          ROU                            0.973335   0.913561   0.822865   \n",
       "29          SVK                            0.803360   0.443763  -0.052390   \n",
       "30          SVN                            0.653418   0.313862   0.080677   \n",
       "31          SWE                            0.878684   0.738832   0.743971   \n",
       "32            0                           21.000000  15.000000  12.000000   \n",
       "\n",
       "   GDP Autocorrelation                        \\\n",
       "                 Lag 1      Lag 2      Lag 3   \n",
       "0             0.992916   0.988406   0.987116   \n",
       "1             0.993343   0.990495   0.988965   \n",
       "2             0.991607   0.982830   0.974641   \n",
       "3             0.994718   0.987371   0.981857   \n",
       "4             0.988008   0.957839   0.916928   \n",
       "5             0.987535   0.972913   0.953600   \n",
       "6             0.998257   0.996232   0.994039   \n",
       "7             0.998984   0.998163   0.996998   \n",
       "8             0.990962   0.969426   0.935630   \n",
       "9             0.990091   0.975155   0.965121   \n",
       "10            0.993016   0.979869   0.968966   \n",
       "11            0.999326   0.998503   0.998000   \n",
       "12            0.988589   0.972983   0.960673   \n",
       "13            0.971015   0.898002   0.762112   \n",
       "14            0.987785   0.960764   0.921525   \n",
       "15            0.982024   0.964793   0.943000   \n",
       "16            0.983929   0.954718   0.906909   \n",
       "17            0.935764   0.831576   0.690482   \n",
       "18            0.992202   0.980227   0.970643   \n",
       "19            0.988822   0.974450   0.967105   \n",
       "20            0.996810   0.993129   0.992426   \n",
       "21            0.974094   0.926751   0.896916   \n",
       "22            0.996044   0.991295   0.985111   \n",
       "23            0.992072   0.988176   0.980866   \n",
       "24            0.994553   0.983475   0.971016   \n",
       "25            0.989229   0.975227   0.963372   \n",
       "26            0.984486   0.974361   0.965840   \n",
       "27            0.990364   0.965787   0.928685   \n",
       "28            0.986284   0.959722   0.929987   \n",
       "29            0.993670   0.983724   0.971143   \n",
       "30            0.989591   0.973751   0.954547   \n",
       "31            0.982230   0.964730   0.958108   \n",
       "32           45.000000  45.000000  44.000000   \n",
       "\n",
       "   Income Inequality Autocorrelation                      \n",
       "                               Lag 1     Lag 2     Lag 3  \n",
       "0                          -0.304718  0.209556 -0.053258  \n",
       "1                           0.480234  0.300085  0.222034  \n",
       "2                           0.889667  0.874531  0.793500  \n",
       "3                           0.179517  0.267679 -0.207335  \n",
       "4                           0.645813  0.091592 -0.681226  \n",
       "5                           0.564593 -0.101407 -0.301860  \n",
       "6                           0.335558 -0.251663 -0.126440  \n",
       "7                           0.663341 -0.763491 -0.916309  \n",
       "8                           0.554757  0.043804 -0.304365  \n",
       "9                           0.612771  0.014720 -0.349438  \n",
       "10                          0.341330  0.171381 -0.286708  \n",
       "11                          0.689732  0.350250  0.071277  \n",
       "12                          0.473846 -0.251405 -0.245792  \n",
       "13                          0.717922 -0.043116 -0.496630  \n",
       "14                          0.869809  0.921329  0.824937  \n",
       "15                          0.823789  0.846245  0.456453  \n",
       "16                          0.392818  0.153427  0.097418  \n",
       "17                          0.335635  0.033174 -0.126960  \n",
       "18                          0.642853  0.692602  0.630433  \n",
       "19                          0.350133  0.045899 -0.277323  \n",
       "20                          0.754600  0.487749  0.478455  \n",
       "21                          0.527060 -0.155907 -0.007882  \n",
       "22                          0.963609  0.856179  0.725426  \n",
       "23                         -0.037949  0.045013  0.406053  \n",
       "24                          0.574627  0.547757  0.213765  \n",
       "25                          0.816802  0.564821  0.194991  \n",
       "26                          0.876541  0.783586  0.608895  \n",
       "27                          0.666364  0.074543 -0.422414  \n",
       "28                          0.454850 -0.039434 -0.048056  \n",
       "29                          0.409577  0.343209  0.352795  \n",
       "30                          0.637199  0.123187 -0.296178  \n",
       "31                          0.639439  0.756968  0.801737  \n",
       "32                         10.000000  8.000000  6.000000  "
      ]
     },
     "execution_count": 38,
     "metadata": {},
     "output_type": "execute_result"
    }
   ],
   "source": [
    "def calc_merged(labour_autocorr, gdp_autocorr, incomeineq_autocorr):    \n",
    "    merged = pd.merge(left=labour_autocorr, right=gdp_autocorr, left_on='Country Code', right_on='Country Code')\n",
    "    merged = pd.merge(left=merged, right=incomeineq_autocorr, left_on='Country Code', right_on='Country Code')\n",
    "    return merged\n",
    "\n",
    "def calc_merged_lag(lag):\n",
    "    labour_autocorr     = calc_labour_autocorr(lag)\n",
    "    gdp_autocorr        = calc_gdp_autocorr(lag)\n",
    "    incomeineq_autocorr = calc_incomeineq_autocorr(lag)\n",
    "    return calc_merged(labour_autocorr, gdp_autocorr, incomeineq_autocorr)\n",
    "\n",
    "def calc_merged_multi(lags):\n",
    "    merged = pd.DataFrame()\n",
    "    \n",
    "    labour_lags     = calc_labour_autocorr(lags[0])\n",
    "    gdp_lags        = calc_gdp_autocorr(lags[0])\n",
    "    incomeineq_lags = calc_incomeineq_autocorr(lags[0])\n",
    "    \n",
    "    for data, calc_f, label in [(labour_lags,     calc_labour_autocorr,     'Labour Productivity Autocorrelation'),\n",
    "                                (gdp_lags,        calc_gdp_autocorr,        'GDP Autocorrelation'),\n",
    "                                (incomeineq_lags, calc_incomeineq_autocorr, 'Income Inequality Autocorrelation')]:\n",
    "        for l in lags[1:]:\n",
    "            z                    = calc_f(l)\n",
    "            data[f'{label} {l}'] = z[label]\n",
    "        stats_ = data.apply(lambda x: len([ xx for xx in x if within_threshold(xx, STRONG_CORR_THRESHOLD) ] if x.name != \"Country Code\" else ''), axis=0, result_type='reduce')\n",
    "#         print(stats)\n",
    "#         data = data.append(stats, ignore_index=True)\n",
    "        data.loc['Stats'] = stats_\n",
    "        \n",
    "        labels = [('', 'Country Code')] + [ (label, f'Lag {l}') for l in lags ]\n",
    "        data.columns = pd.MultiIndex.from_tuples( tuple(labels) )\n",
    "\n",
    "    \n",
    "#         stats = data.apply(lambda x: len([ xx for xx in x if within_threshold(xx, STRONG_CORR_THRESHOLD) ] if x.name != \"_x\" else ''), axis=0, result_type='reduce')\n",
    "#         stats = data.apply(lambda x: x if x.name != \"_x\" else '', axis=0, result_type='reduce')\n",
    "    #     stats['Country Code'] = '# Countries Within Threshold'\n",
    "    \n",
    "    # this is so messy\n",
    "    \n",
    "    merged = labour_lags\n",
    "    merged = pd.merge(left=merged, right=gdp_lags, left_on=merged['']['Country Code'], right_on=gdp_lags['']['Country Code'])\n",
    "    \n",
    "    merged = merged.drop('key_0', axis=1)\n",
    "    \n",
    "    merged = pd.merge(left=merged, right=incomeineq_lags, left_on=merged['_x']['Country Code'], right_on=incomeineq_lags['']['Country Code'])\n",
    "    \n",
    "    merged = merged.drop('_y', axis=1)\n",
    "    merged = merged.drop('', axis=1)\n",
    "    merged = merged.drop('key_0', axis=1)\n",
    "    \n",
    "    return merged        \n",
    "\n",
    "merged = calc_merged(labour_autocorr, gdp_autocorr, incomeineq_autocorr)\n",
    "# merged\n",
    "\n",
    "multim = calc_merged_multi([1, 2, 3])\n",
    "multim"
   ]
  },
  {
   "cell_type": "code",
   "execution_count": 39,
   "id": "driven-entity",
   "metadata": {
    "scrolled": true
   },
   "outputs": [
    {
     "data": {
      "application/vnd.plotly.v1+json": {
       "config": {
        "plotlyServerURL": "https://plot.ly"
       },
       "data": [
        {
         "hovertemplate": "Country Code=AUT<br>Labour Productivity Autocorrelation=%{x}<br>Income Inequality Autocorrelation=%{y}<br>GDP Autocorrelation=%{z}<extra></extra>",
         "legendgroup": "AUT",
         "marker": {
          "color": "#636efa",
          "symbol": "circle"
         },
         "mode": "markers",
         "name": "AUT",
         "scene": "scene",
         "showlegend": true,
         "type": "scatter3d",
         "x": [
          0.7564142760317699
         ],
         "y": [
          -0.30471846218791176
         ],
         "z": [
          0.9929162388126868
         ]
        },
        {
         "hovertemplate": "Country Code=BEL<br>Labour Productivity Autocorrelation=%{x}<br>Income Inequality Autocorrelation=%{y}<br>GDP Autocorrelation=%{z}<extra></extra>",
         "legendgroup": "BEL",
         "marker": {
          "color": "#EF553B",
          "symbol": "circle"
         },
         "mode": "markers",
         "name": "BEL",
         "scene": "scene",
         "showlegend": true,
         "type": "scatter3d",
         "x": [
          0.4827162599480111
         ],
         "y": [
          0.48023430514198734
         ],
         "z": [
          0.9933426772284569
         ]
        },
        {
         "hovertemplate": "Country Code=BGR<br>Labour Productivity Autocorrelation=%{x}<br>Income Inequality Autocorrelation=%{y}<br>GDP Autocorrelation=%{z}<extra></extra>",
         "legendgroup": "BGR",
         "marker": {
          "color": "#00cc96",
          "symbol": "circle"
         },
         "mode": "markers",
         "name": "BGR",
         "scene": "scene",
         "showlegend": true,
         "type": "scatter3d",
         "x": [
          0.9763294733965735
         ],
         "y": [
          0.8896672026353005
         ],
         "z": [
          0.991607287903296
         ]
        },
        {
         "hovertemplate": "Country Code=CHE<br>Labour Productivity Autocorrelation=%{x}<br>Income Inequality Autocorrelation=%{y}<br>GDP Autocorrelation=%{z}<extra></extra>",
         "legendgroup": "CHE",
         "marker": {
          "color": "#ab63fa",
          "symbol": "circle"
         },
         "mode": "markers",
         "name": "CHE",
         "scene": "scene",
         "showlegend": true,
         "type": "scatter3d",
         "x": [
          0.692497917646872
         ],
         "y": [
          0.17951665501042502
         ],
         "z": [
          0.9947179136890746
         ]
        },
        {
         "hovertemplate": "Country Code=CYP<br>Labour Productivity Autocorrelation=%{x}<br>Income Inequality Autocorrelation=%{y}<br>GDP Autocorrelation=%{z}<extra></extra>",
         "legendgroup": "CYP",
         "marker": {
          "color": "#FFA15A",
          "symbol": "circle"
         },
         "mode": "markers",
         "name": "CYP",
         "scene": "scene",
         "showlegend": true,
         "type": "scatter3d",
         "x": [
          0.9106652623250543
         ],
         "y": [
          0.6458125636801998
         ],
         "z": [
          0.9880083192989408
         ]
        },
        {
         "hovertemplate": "Country Code=CZE<br>Labour Productivity Autocorrelation=%{x}<br>Income Inequality Autocorrelation=%{y}<br>GDP Autocorrelation=%{z}<extra></extra>",
         "legendgroup": "CZE",
         "marker": {
          "color": "#19d3f3",
          "symbol": "circle"
         },
         "mode": "markers",
         "name": "CZE",
         "scene": "scene",
         "showlegend": true,
         "type": "scatter3d",
         "x": [
          0.8900262450129283
         ],
         "y": [
          0.5645931666536281
         ],
         "z": [
          0.9875353550960803
         ]
        },
        {
         "hovertemplate": "Country Code=DEU<br>Labour Productivity Autocorrelation=%{x}<br>Income Inequality Autocorrelation=%{y}<br>GDP Autocorrelation=%{z}<extra></extra>",
         "legendgroup": "DEU",
         "marker": {
          "color": "#FF6692",
          "symbol": "circle"
         },
         "mode": "markers",
         "name": "DEU",
         "scene": "scene",
         "showlegend": true,
         "type": "scatter3d",
         "x": [
          0.6702934069944856
         ],
         "y": [
          0.33555813753678176
         ],
         "z": [
          0.9982567871806954
         ]
        },
        {
         "hovertemplate": "Country Code=DNK<br>Labour Productivity Autocorrelation=%{x}<br>Income Inequality Autocorrelation=%{y}<br>GDP Autocorrelation=%{z}<extra></extra>",
         "legendgroup": "DNK",
         "marker": {
          "color": "#B6E880",
          "symbol": "circle"
         },
         "mode": "markers",
         "name": "DNK",
         "scene": "scene",
         "showlegend": true,
         "type": "scatter3d",
         "x": [
          0.8562070227691037
         ],
         "y": [
          0.6633405925453868
         ],
         "z": [
          0.9989836175235671
         ]
        },
        {
         "hovertemplate": "Country Code=ESP<br>Labour Productivity Autocorrelation=%{x}<br>Income Inequality Autocorrelation=%{y}<br>GDP Autocorrelation=%{z}<extra></extra>",
         "legendgroup": "ESP",
         "marker": {
          "color": "#FF97FF",
          "symbol": "circle"
         },
         "mode": "markers",
         "name": "ESP",
         "scene": "scene",
         "showlegend": true,
         "type": "scatter3d",
         "x": [
          0.3145820276590971
         ],
         "y": [
          0.5547565274885683
         ],
         "z": [
          0.9909624797952111
         ]
        },
        {
         "hovertemplate": "Country Code=EST<br>Labour Productivity Autocorrelation=%{x}<br>Income Inequality Autocorrelation=%{y}<br>GDP Autocorrelation=%{z}<extra></extra>",
         "legendgroup": "EST",
         "marker": {
          "color": "#FECB52",
          "symbol": "circle"
         },
         "mode": "markers",
         "name": "EST",
         "scene": "scene",
         "showlegend": true,
         "type": "scatter3d",
         "x": [
          0.9115666805446735
         ],
         "y": [
          0.6127711110144035
         ],
         "z": [
          0.9900906098581351
         ]
        },
        {
         "hovertemplate": "Country Code=FIN<br>Labour Productivity Autocorrelation=%{x}<br>Income Inequality Autocorrelation=%{y}<br>GDP Autocorrelation=%{z}<extra></extra>",
         "legendgroup": "FIN",
         "marker": {
          "color": "#636efa",
          "symbol": "circle"
         },
         "mode": "markers",
         "name": "FIN",
         "scene": "scene",
         "showlegend": true,
         "type": "scatter3d",
         "x": [
          0.8837924283208126
         ],
         "y": [
          0.3413297172092869
         ],
         "z": [
          0.9930164696868825
         ]
        },
        {
         "hovertemplate": "Country Code=FRA<br>Labour Productivity Autocorrelation=%{x}<br>Income Inequality Autocorrelation=%{y}<br>GDP Autocorrelation=%{z}<extra></extra>",
         "legendgroup": "FRA",
         "marker": {
          "color": "#EF553B",
          "symbol": "circle"
         },
         "mode": "markers",
         "name": "FRA",
         "scene": "scene",
         "showlegend": true,
         "type": "scatter3d",
         "x": [
          0.7981600865799925
         ],
         "y": [
          0.6897324815162176
         ],
         "z": [
          0.999325983674869
         ]
        },
        {
         "hovertemplate": "Country Code=GBR<br>Labour Productivity Autocorrelation=%{x}<br>Income Inequality Autocorrelation=%{y}<br>GDP Autocorrelation=%{z}<extra></extra>",
         "legendgroup": "GBR",
         "marker": {
          "color": "#00cc96",
          "symbol": "circle"
         },
         "mode": "markers",
         "name": "GBR",
         "scene": "scene",
         "showlegend": true,
         "type": "scatter3d",
         "x": [
          0.9589980182377172
         ],
         "y": [
          0.4738458367205582
         ],
         "z": [
          0.9885886784304001
         ]
        },
        {
         "hovertemplate": "Country Code=GRC<br>Labour Productivity Autocorrelation=%{x}<br>Income Inequality Autocorrelation=%{y}<br>GDP Autocorrelation=%{z}<extra></extra>",
         "legendgroup": "GRC",
         "marker": {
          "color": "#ab63fa",
          "symbol": "circle"
         },
         "mode": "markers",
         "name": "GRC",
         "scene": "scene",
         "showlegend": true,
         "type": "scatter3d",
         "x": [
          0.9546323547546568
         ],
         "y": [
          0.7179224795208049
         ],
         "z": [
          0.9710153026381708
         ]
        },
        {
         "hovertemplate": "Country Code=HRV<br>Labour Productivity Autocorrelation=%{x}<br>Income Inequality Autocorrelation=%{y}<br>GDP Autocorrelation=%{z}<extra></extra>",
         "legendgroup": "HRV",
         "marker": {
          "color": "#FFA15A",
          "symbol": "circle"
         },
         "mode": "markers",
         "name": "HRV",
         "scene": "scene",
         "showlegend": true,
         "type": "scatter3d",
         "x": [
          0.6624646718987345
         ],
         "y": [
          0.8698088530607464
         ],
         "z": [
          0.9877848892564057
         ]
        },
        {
         "hovertemplate": "Country Code=HUN<br>Labour Productivity Autocorrelation=%{x}<br>Income Inequality Autocorrelation=%{y}<br>GDP Autocorrelation=%{z}<extra></extra>",
         "legendgroup": "HUN",
         "marker": {
          "color": "#19d3f3",
          "symbol": "circle"
         },
         "mode": "markers",
         "name": "HUN",
         "scene": "scene",
         "showlegend": true,
         "type": "scatter3d",
         "x": [
          0.7615708331256992
         ],
         "y": [
          0.8237893064296705
         ],
         "z": [
          0.9820239421023768
         ]
        },
        {
         "hovertemplate": "Country Code=IRL<br>Labour Productivity Autocorrelation=%{x}<br>Income Inequality Autocorrelation=%{y}<br>GDP Autocorrelation=%{z}<extra></extra>",
         "legendgroup": "IRL",
         "marker": {
          "color": "#FF6692",
          "symbol": "circle"
         },
         "mode": "markers",
         "name": "IRL",
         "scene": "scene",
         "showlegend": true,
         "type": "scatter3d",
         "x": [
          0.8753848925370877
         ],
         "y": [
          0.3928181744738459
         ],
         "z": [
          0.9839292604950326
         ]
        },
        {
         "hovertemplate": "Country Code=ISL<br>Labour Productivity Autocorrelation=%{x}<br>Income Inequality Autocorrelation=%{y}<br>GDP Autocorrelation=%{z}<extra></extra>",
         "legendgroup": "ISL",
         "marker": {
          "color": "#B6E880",
          "symbol": "circle"
         },
         "mode": "markers",
         "name": "ISL",
         "scene": "scene",
         "showlegend": true,
         "type": "scatter3d",
         "x": [
          0.4668834635959775
         ],
         "y": [
          0.3356350213580277
         ],
         "z": [
          0.9357642903803811
         ]
        },
        {
         "hovertemplate": "Country Code=ITA<br>Labour Productivity Autocorrelation=%{x}<br>Income Inequality Autocorrelation=%{y}<br>GDP Autocorrelation=%{z}<extra></extra>",
         "legendgroup": "ITA",
         "marker": {
          "color": "#FF97FF",
          "symbol": "circle"
         },
         "mode": "markers",
         "name": "ITA",
         "scene": "scene",
         "showlegend": true,
         "type": "scatter3d",
         "x": [
          0.971028509749334
         ],
         "y": [
          0.6428526840400363
         ],
         "z": [
          0.9922015437742264
         ]
        },
        {
         "hovertemplate": "Country Code=LTU<br>Labour Productivity Autocorrelation=%{x}<br>Income Inequality Autocorrelation=%{y}<br>GDP Autocorrelation=%{z}<extra></extra>",
         "legendgroup": "LTU",
         "marker": {
          "color": "#FECB52",
          "symbol": "circle"
         },
         "mode": "markers",
         "name": "LTU",
         "scene": "scene",
         "showlegend": true,
         "type": "scatter3d",
         "x": [
          0.9235578336730096
         ],
         "y": [
          0.350132511266997
         ],
         "z": [
          0.9888224371562093
         ]
        },
        {
         "hovertemplate": "Country Code=LUX<br>Labour Productivity Autocorrelation=%{x}<br>Income Inequality Autocorrelation=%{y}<br>GDP Autocorrelation=%{z}<extra></extra>",
         "legendgroup": "LUX",
         "marker": {
          "color": "#636efa",
          "symbol": "circle"
         },
         "mode": "markers",
         "name": "LUX",
         "scene": "scene",
         "showlegend": true,
         "type": "scatter3d",
         "x": [
          0.6176917652482103
         ],
         "y": [
          0.7546000626198924
         ],
         "z": [
          0.9968097385906922
         ]
        },
        {
         "hovertemplate": "Country Code=LVA<br>Labour Productivity Autocorrelation=%{x}<br>Income Inequality Autocorrelation=%{y}<br>GDP Autocorrelation=%{z}<extra></extra>",
         "legendgroup": "LVA",
         "marker": {
          "color": "#EF553B",
          "symbol": "circle"
         },
         "mode": "markers",
         "name": "LVA",
         "scene": "scene",
         "showlegend": true,
         "type": "scatter3d",
         "x": [
          0.9783719573117837
         ],
         "y": [
          0.5270596498928773
         ],
         "z": [
          0.9740941516381765
         ]
        },
        {
         "hovertemplate": "Country Code=MKD<br>Labour Productivity Autocorrelation=%{x}<br>Income Inequality Autocorrelation=%{y}<br>GDP Autocorrelation=%{z}<extra></extra>",
         "legendgroup": "MKD",
         "marker": {
          "color": "#00cc96",
          "symbol": "circle"
         },
         "mode": "markers",
         "name": "MKD",
         "scene": "scene",
         "showlegend": true,
         "type": "scatter3d",
         "x": [
          0.385585696160985
         ],
         "y": [
          0.9636085249284845
         ],
         "z": [
          0.9960438226053145
         ]
        },
        {
         "hovertemplate": "Country Code=MLT<br>Labour Productivity Autocorrelation=%{x}<br>Income Inequality Autocorrelation=%{y}<br>GDP Autocorrelation=%{z}<extra></extra>",
         "legendgroup": "MLT",
         "marker": {
          "color": "#ab63fa",
          "symbol": "circle"
         },
         "mode": "markers",
         "name": "MLT",
         "scene": "scene",
         "showlegend": true,
         "type": "scatter3d",
         "x": [
          0.27727659053512244
         ],
         "y": [
          -0.03794930138276475
         ],
         "z": [
          0.99207237145589
         ]
        },
        {
         "hovertemplate": "Country Code=NLD<br>Labour Productivity Autocorrelation=%{x}<br>Income Inequality Autocorrelation=%{y}<br>GDP Autocorrelation=%{z}<extra></extra>",
         "legendgroup": "NLD",
         "marker": {
          "color": "#FFA15A",
          "symbol": "circle"
         },
         "mode": "markers",
         "name": "NLD",
         "scene": "scene",
         "showlegend": true,
         "type": "scatter3d",
         "x": [
          0.9389244596361843
         ],
         "y": [
          0.5746267302327063
         ],
         "z": [
          0.9945532693058405
         ]
        },
        {
         "hovertemplate": "Country Code=NOR<br>Labour Productivity Autocorrelation=%{x}<br>Income Inequality Autocorrelation=%{y}<br>GDP Autocorrelation=%{z}<extra></extra>",
         "legendgroup": "NOR",
         "marker": {
          "color": "#19d3f3",
          "symbol": "circle"
         },
         "mode": "markers",
         "name": "NOR",
         "scene": "scene",
         "showlegend": true,
         "type": "scatter3d",
         "x": [
          0.7908449813864004
         ],
         "y": [
          0.8168020741983147
         ],
         "z": [
          0.9892287547809059
         ]
        },
        {
         "hovertemplate": "Country Code=POL<br>Labour Productivity Autocorrelation=%{x}<br>Income Inequality Autocorrelation=%{y}<br>GDP Autocorrelation=%{z}<extra></extra>",
         "legendgroup": "POL",
         "marker": {
          "color": "#FF6692",
          "symbol": "circle"
         },
         "mode": "markers",
         "name": "POL",
         "scene": "scene",
         "showlegend": true,
         "type": "scatter3d",
         "x": [
          0.9644595297105014
         ],
         "y": [
          0.8765411047594043
         ],
         "z": [
          0.9844857774633186
         ]
        },
        {
         "hovertemplate": "Country Code=PRT<br>Labour Productivity Autocorrelation=%{x}<br>Income Inequality Autocorrelation=%{y}<br>GDP Autocorrelation=%{z}<extra></extra>",
         "legendgroup": "PRT",
         "marker": {
          "color": "#B6E880",
          "symbol": "circle"
         },
         "mode": "markers",
         "name": "PRT",
         "scene": "scene",
         "showlegend": true,
         "type": "scatter3d",
         "x": [
          0.3545425650632407
         ],
         "y": [
          0.666363604259566
         ],
         "z": [
          0.9903638573798226
         ]
        },
        {
         "hovertemplate": "Country Code=ROU<br>Labour Productivity Autocorrelation=%{x}<br>Income Inequality Autocorrelation=%{y}<br>GDP Autocorrelation=%{z}<extra></extra>",
         "legendgroup": "ROU",
         "marker": {
          "color": "#FF97FF",
          "symbol": "circle"
         },
         "mode": "markers",
         "name": "ROU",
         "scene": "scene",
         "showlegend": true,
         "type": "scatter3d",
         "x": [
          0.9733347357160748
         ],
         "y": [
          0.4548501041235741
         ],
         "z": [
          0.9862842393137433
         ]
        },
        {
         "hovertemplate": "Country Code=SVK<br>Labour Productivity Autocorrelation=%{x}<br>Income Inequality Autocorrelation=%{y}<br>GDP Autocorrelation=%{z}<extra></extra>",
         "legendgroup": "SVK",
         "marker": {
          "color": "#FECB52",
          "symbol": "circle"
         },
         "mode": "markers",
         "name": "SVK",
         "scene": "scene",
         "showlegend": true,
         "type": "scatter3d",
         "x": [
          0.8033597750120434
         ],
         "y": [
          0.4095771139042091
         ],
         "z": [
          0.9936697950893846
         ]
        },
        {
         "hovertemplate": "Country Code=SVN<br>Labour Productivity Autocorrelation=%{x}<br>Income Inequality Autocorrelation=%{y}<br>GDP Autocorrelation=%{z}<extra></extra>",
         "legendgroup": "SVN",
         "marker": {
          "color": "#636efa",
          "symbol": "circle"
         },
         "mode": "markers",
         "name": "SVN",
         "scene": "scene",
         "showlegend": true,
         "type": "scatter3d",
         "x": [
          0.6534183375007304
         ],
         "y": [
          0.637198656201745
         ],
         "z": [
          0.9895908289651891
         ]
        },
        {
         "hovertemplate": "Country Code=SWE<br>Labour Productivity Autocorrelation=%{x}<br>Income Inequality Autocorrelation=%{y}<br>GDP Autocorrelation=%{z}<extra></extra>",
         "legendgroup": "SWE",
         "marker": {
          "color": "#EF553B",
          "symbol": "circle"
         },
         "mode": "markers",
         "name": "SWE",
         "scene": "scene",
         "showlegend": true,
         "type": "scatter3d",
         "x": [
          0.8786842122486934
         ],
         "y": [
          0.6394388871329674
         ],
         "z": [
          0.982230434381454
         ]
        }
       ],
       "layout": {
        "font": {
         "size": 10
        },
        "legend": {
         "title": {
          "text": "Country Code"
         },
         "tracegroupgap": 0
        },
        "margin": {
         "b": 0,
         "l": 0,
         "r": 0,
         "t": 0
        },
        "scene": {
         "aspectmode": "cube",
         "domain": {
          "x": [
           0,
           1
          ],
          "y": [
           0,
           1
          ]
         },
         "xaxis": {
          "range": [
           -1,
           1
          ],
          "title": {
           "text": "Labour Productivity Autocorrelation"
          }
         },
         "yaxis": {
          "range": [
           -1,
           1
          ],
          "title": {
           "text": "Income Inequality Autocorrelation"
          }
         },
         "zaxis": {
          "range": [
           -1,
           1
          ],
          "title": {
           "text": "GDP Autocorrelation"
          }
         }
        },
        "showlegend": false,
        "template": {
         "data": {
          "bar": [
           {
            "error_x": {
             "color": "#2a3f5f"
            },
            "error_y": {
             "color": "#2a3f5f"
            },
            "marker": {
             "line": {
              "color": "#E5ECF6",
              "width": 0.5
             }
            },
            "type": "bar"
           }
          ],
          "barpolar": [
           {
            "marker": {
             "line": {
              "color": "#E5ECF6",
              "width": 0.5
             }
            },
            "type": "barpolar"
           }
          ],
          "carpet": [
           {
            "aaxis": {
             "endlinecolor": "#2a3f5f",
             "gridcolor": "white",
             "linecolor": "white",
             "minorgridcolor": "white",
             "startlinecolor": "#2a3f5f"
            },
            "baxis": {
             "endlinecolor": "#2a3f5f",
             "gridcolor": "white",
             "linecolor": "white",
             "minorgridcolor": "white",
             "startlinecolor": "#2a3f5f"
            },
            "type": "carpet"
           }
          ],
          "choropleth": [
           {
            "colorbar": {
             "outlinewidth": 0,
             "ticks": ""
            },
            "type": "choropleth"
           }
          ],
          "contour": [
           {
            "colorbar": {
             "outlinewidth": 0,
             "ticks": ""
            },
            "colorscale": [
             [
              0,
              "#0d0887"
             ],
             [
              0.1111111111111111,
              "#46039f"
             ],
             [
              0.2222222222222222,
              "#7201a8"
             ],
             [
              0.3333333333333333,
              "#9c179e"
             ],
             [
              0.4444444444444444,
              "#bd3786"
             ],
             [
              0.5555555555555556,
              "#d8576b"
             ],
             [
              0.6666666666666666,
              "#ed7953"
             ],
             [
              0.7777777777777778,
              "#fb9f3a"
             ],
             [
              0.8888888888888888,
              "#fdca26"
             ],
             [
              1,
              "#f0f921"
             ]
            ],
            "type": "contour"
           }
          ],
          "contourcarpet": [
           {
            "colorbar": {
             "outlinewidth": 0,
             "ticks": ""
            },
            "type": "contourcarpet"
           }
          ],
          "heatmap": [
           {
            "colorbar": {
             "outlinewidth": 0,
             "ticks": ""
            },
            "colorscale": [
             [
              0,
              "#0d0887"
             ],
             [
              0.1111111111111111,
              "#46039f"
             ],
             [
              0.2222222222222222,
              "#7201a8"
             ],
             [
              0.3333333333333333,
              "#9c179e"
             ],
             [
              0.4444444444444444,
              "#bd3786"
             ],
             [
              0.5555555555555556,
              "#d8576b"
             ],
             [
              0.6666666666666666,
              "#ed7953"
             ],
             [
              0.7777777777777778,
              "#fb9f3a"
             ],
             [
              0.8888888888888888,
              "#fdca26"
             ],
             [
              1,
              "#f0f921"
             ]
            ],
            "type": "heatmap"
           }
          ],
          "heatmapgl": [
           {
            "colorbar": {
             "outlinewidth": 0,
             "ticks": ""
            },
            "colorscale": [
             [
              0,
              "#0d0887"
             ],
             [
              0.1111111111111111,
              "#46039f"
             ],
             [
              0.2222222222222222,
              "#7201a8"
             ],
             [
              0.3333333333333333,
              "#9c179e"
             ],
             [
              0.4444444444444444,
              "#bd3786"
             ],
             [
              0.5555555555555556,
              "#d8576b"
             ],
             [
              0.6666666666666666,
              "#ed7953"
             ],
             [
              0.7777777777777778,
              "#fb9f3a"
             ],
             [
              0.8888888888888888,
              "#fdca26"
             ],
             [
              1,
              "#f0f921"
             ]
            ],
            "type": "heatmapgl"
           }
          ],
          "histogram": [
           {
            "marker": {
             "colorbar": {
              "outlinewidth": 0,
              "ticks": ""
             }
            },
            "type": "histogram"
           }
          ],
          "histogram2d": [
           {
            "colorbar": {
             "outlinewidth": 0,
             "ticks": ""
            },
            "colorscale": [
             [
              0,
              "#0d0887"
             ],
             [
              0.1111111111111111,
              "#46039f"
             ],
             [
              0.2222222222222222,
              "#7201a8"
             ],
             [
              0.3333333333333333,
              "#9c179e"
             ],
             [
              0.4444444444444444,
              "#bd3786"
             ],
             [
              0.5555555555555556,
              "#d8576b"
             ],
             [
              0.6666666666666666,
              "#ed7953"
             ],
             [
              0.7777777777777778,
              "#fb9f3a"
             ],
             [
              0.8888888888888888,
              "#fdca26"
             ],
             [
              1,
              "#f0f921"
             ]
            ],
            "type": "histogram2d"
           }
          ],
          "histogram2dcontour": [
           {
            "colorbar": {
             "outlinewidth": 0,
             "ticks": ""
            },
            "colorscale": [
             [
              0,
              "#0d0887"
             ],
             [
              0.1111111111111111,
              "#46039f"
             ],
             [
              0.2222222222222222,
              "#7201a8"
             ],
             [
              0.3333333333333333,
              "#9c179e"
             ],
             [
              0.4444444444444444,
              "#bd3786"
             ],
             [
              0.5555555555555556,
              "#d8576b"
             ],
             [
              0.6666666666666666,
              "#ed7953"
             ],
             [
              0.7777777777777778,
              "#fb9f3a"
             ],
             [
              0.8888888888888888,
              "#fdca26"
             ],
             [
              1,
              "#f0f921"
             ]
            ],
            "type": "histogram2dcontour"
           }
          ],
          "mesh3d": [
           {
            "colorbar": {
             "outlinewidth": 0,
             "ticks": ""
            },
            "type": "mesh3d"
           }
          ],
          "parcoords": [
           {
            "line": {
             "colorbar": {
              "outlinewidth": 0,
              "ticks": ""
             }
            },
            "type": "parcoords"
           }
          ],
          "pie": [
           {
            "automargin": true,
            "type": "pie"
           }
          ],
          "scatter": [
           {
            "marker": {
             "colorbar": {
              "outlinewidth": 0,
              "ticks": ""
             }
            },
            "type": "scatter"
           }
          ],
          "scatter3d": [
           {
            "line": {
             "colorbar": {
              "outlinewidth": 0,
              "ticks": ""
             }
            },
            "marker": {
             "colorbar": {
              "outlinewidth": 0,
              "ticks": ""
             }
            },
            "type": "scatter3d"
           }
          ],
          "scattercarpet": [
           {
            "marker": {
             "colorbar": {
              "outlinewidth": 0,
              "ticks": ""
             }
            },
            "type": "scattercarpet"
           }
          ],
          "scattergeo": [
           {
            "marker": {
             "colorbar": {
              "outlinewidth": 0,
              "ticks": ""
             }
            },
            "type": "scattergeo"
           }
          ],
          "scattergl": [
           {
            "marker": {
             "colorbar": {
              "outlinewidth": 0,
              "ticks": ""
             }
            },
            "type": "scattergl"
           }
          ],
          "scattermapbox": [
           {
            "marker": {
             "colorbar": {
              "outlinewidth": 0,
              "ticks": ""
             }
            },
            "type": "scattermapbox"
           }
          ],
          "scatterpolar": [
           {
            "marker": {
             "colorbar": {
              "outlinewidth": 0,
              "ticks": ""
             }
            },
            "type": "scatterpolar"
           }
          ],
          "scatterpolargl": [
           {
            "marker": {
             "colorbar": {
              "outlinewidth": 0,
              "ticks": ""
             }
            },
            "type": "scatterpolargl"
           }
          ],
          "scatterternary": [
           {
            "marker": {
             "colorbar": {
              "outlinewidth": 0,
              "ticks": ""
             }
            },
            "type": "scatterternary"
           }
          ],
          "surface": [
           {
            "colorbar": {
             "outlinewidth": 0,
             "ticks": ""
            },
            "colorscale": [
             [
              0,
              "#0d0887"
             ],
             [
              0.1111111111111111,
              "#46039f"
             ],
             [
              0.2222222222222222,
              "#7201a8"
             ],
             [
              0.3333333333333333,
              "#9c179e"
             ],
             [
              0.4444444444444444,
              "#bd3786"
             ],
             [
              0.5555555555555556,
              "#d8576b"
             ],
             [
              0.6666666666666666,
              "#ed7953"
             ],
             [
              0.7777777777777778,
              "#fb9f3a"
             ],
             [
              0.8888888888888888,
              "#fdca26"
             ],
             [
              1,
              "#f0f921"
             ]
            ],
            "type": "surface"
           }
          ],
          "table": [
           {
            "cells": {
             "fill": {
              "color": "#EBF0F8"
             },
             "line": {
              "color": "white"
             }
            },
            "header": {
             "fill": {
              "color": "#C8D4E3"
             },
             "line": {
              "color": "white"
             }
            },
            "type": "table"
           }
          ]
         },
         "layout": {
          "annotationdefaults": {
           "arrowcolor": "#2a3f5f",
           "arrowhead": 0,
           "arrowwidth": 1
          },
          "autotypenumbers": "strict",
          "coloraxis": {
           "colorbar": {
            "outlinewidth": 0,
            "ticks": ""
           }
          },
          "colorscale": {
           "diverging": [
            [
             0,
             "#8e0152"
            ],
            [
             0.1,
             "#c51b7d"
            ],
            [
             0.2,
             "#de77ae"
            ],
            [
             0.3,
             "#f1b6da"
            ],
            [
             0.4,
             "#fde0ef"
            ],
            [
             0.5,
             "#f7f7f7"
            ],
            [
             0.6,
             "#e6f5d0"
            ],
            [
             0.7,
             "#b8e186"
            ],
            [
             0.8,
             "#7fbc41"
            ],
            [
             0.9,
             "#4d9221"
            ],
            [
             1,
             "#276419"
            ]
           ],
           "sequential": [
            [
             0,
             "#0d0887"
            ],
            [
             0.1111111111111111,
             "#46039f"
            ],
            [
             0.2222222222222222,
             "#7201a8"
            ],
            [
             0.3333333333333333,
             "#9c179e"
            ],
            [
             0.4444444444444444,
             "#bd3786"
            ],
            [
             0.5555555555555556,
             "#d8576b"
            ],
            [
             0.6666666666666666,
             "#ed7953"
            ],
            [
             0.7777777777777778,
             "#fb9f3a"
            ],
            [
             0.8888888888888888,
             "#fdca26"
            ],
            [
             1,
             "#f0f921"
            ]
           ],
           "sequentialminus": [
            [
             0,
             "#0d0887"
            ],
            [
             0.1111111111111111,
             "#46039f"
            ],
            [
             0.2222222222222222,
             "#7201a8"
            ],
            [
             0.3333333333333333,
             "#9c179e"
            ],
            [
             0.4444444444444444,
             "#bd3786"
            ],
            [
             0.5555555555555556,
             "#d8576b"
            ],
            [
             0.6666666666666666,
             "#ed7953"
            ],
            [
             0.7777777777777778,
             "#fb9f3a"
            ],
            [
             0.8888888888888888,
             "#fdca26"
            ],
            [
             1,
             "#f0f921"
            ]
           ]
          },
          "colorway": [
           "#636efa",
           "#EF553B",
           "#00cc96",
           "#ab63fa",
           "#FFA15A",
           "#19d3f3",
           "#FF6692",
           "#B6E880",
           "#FF97FF",
           "#FECB52"
          ],
          "font": {
           "color": "#2a3f5f"
          },
          "geo": {
           "bgcolor": "white",
           "lakecolor": "white",
           "landcolor": "#E5ECF6",
           "showlakes": true,
           "showland": true,
           "subunitcolor": "white"
          },
          "hoverlabel": {
           "align": "left"
          },
          "hovermode": "closest",
          "mapbox": {
           "style": "light"
          },
          "paper_bgcolor": "white",
          "plot_bgcolor": "#E5ECF6",
          "polar": {
           "angularaxis": {
            "gridcolor": "white",
            "linecolor": "white",
            "ticks": ""
           },
           "bgcolor": "#E5ECF6",
           "radialaxis": {
            "gridcolor": "white",
            "linecolor": "white",
            "ticks": ""
           }
          },
          "scene": {
           "xaxis": {
            "backgroundcolor": "#E5ECF6",
            "gridcolor": "white",
            "gridwidth": 2,
            "linecolor": "white",
            "showbackground": true,
            "ticks": "",
            "zerolinecolor": "white"
           },
           "yaxis": {
            "backgroundcolor": "#E5ECF6",
            "gridcolor": "white",
            "gridwidth": 2,
            "linecolor": "white",
            "showbackground": true,
            "ticks": "",
            "zerolinecolor": "white"
           },
           "zaxis": {
            "backgroundcolor": "#E5ECF6",
            "gridcolor": "white",
            "gridwidth": 2,
            "linecolor": "white",
            "showbackground": true,
            "ticks": "",
            "zerolinecolor": "white"
           }
          },
          "shapedefaults": {
           "line": {
            "color": "#2a3f5f"
           }
          },
          "ternary": {
           "aaxis": {
            "gridcolor": "white",
            "linecolor": "white",
            "ticks": ""
           },
           "baxis": {
            "gridcolor": "white",
            "linecolor": "white",
            "ticks": ""
           },
           "bgcolor": "#E5ECF6",
           "caxis": {
            "gridcolor": "white",
            "linecolor": "white",
            "ticks": ""
           }
          },
          "title": {
           "x": 0.05
          },
          "xaxis": {
           "automargin": true,
           "gridcolor": "white",
           "linecolor": "white",
           "ticks": "",
           "title": {
            "standoff": 15
           },
           "zerolinecolor": "white",
           "zerolinewidth": 2
          },
          "yaxis": {
           "automargin": true,
           "gridcolor": "white",
           "linecolor": "white",
           "ticks": "",
           "title": {
            "standoff": 15
           },
           "zerolinecolor": "white",
           "zerolinewidth": 2
          }
         }
        },
        "title": {
         "text": "Autocorrelation of Labour Productivity<br> vs Autocorrelation of GDP<br> vs Autocorrelation of Income Inequality<br> (per Country, Lag = 1)",
         "x": 0.5,
         "y": 0.9
        }
       }
      },
      "text/html": [
       "<div>                            <div id=\"4226462d-e0b4-423c-a25d-8014eec7e2d8\" class=\"plotly-graph-div\" style=\"height:525px; width:100%;\"></div>            <script type=\"text/javascript\">                require([\"plotly\"], function(Plotly) {                    window.PLOTLYENV=window.PLOTLYENV || {};                                    if (document.getElementById(\"4226462d-e0b4-423c-a25d-8014eec7e2d8\")) {                    Plotly.newPlot(                        \"4226462d-e0b4-423c-a25d-8014eec7e2d8\",                        [{\"hovertemplate\": \"Country Code=AUT<br>Labour Productivity Autocorrelation=%{x}<br>Income Inequality Autocorrelation=%{y}<br>GDP Autocorrelation=%{z}<extra></extra>\", \"legendgroup\": \"AUT\", \"marker\": {\"color\": \"#636efa\", \"symbol\": \"circle\"}, \"mode\": \"markers\", \"name\": \"AUT\", \"scene\": \"scene\", \"showlegend\": true, \"type\": \"scatter3d\", \"x\": [0.7564142760317699], \"y\": [-0.30471846218791176], \"z\": [0.9929162388126868]}, {\"hovertemplate\": \"Country Code=BEL<br>Labour Productivity Autocorrelation=%{x}<br>Income Inequality Autocorrelation=%{y}<br>GDP Autocorrelation=%{z}<extra></extra>\", \"legendgroup\": \"BEL\", \"marker\": {\"color\": \"#EF553B\", \"symbol\": \"circle\"}, \"mode\": \"markers\", \"name\": \"BEL\", \"scene\": \"scene\", \"showlegend\": true, \"type\": \"scatter3d\", \"x\": [0.4827162599480111], \"y\": [0.48023430514198734], \"z\": [0.9933426772284569]}, {\"hovertemplate\": \"Country Code=BGR<br>Labour Productivity Autocorrelation=%{x}<br>Income Inequality Autocorrelation=%{y}<br>GDP Autocorrelation=%{z}<extra></extra>\", \"legendgroup\": \"BGR\", \"marker\": {\"color\": \"#00cc96\", \"symbol\": \"circle\"}, \"mode\": \"markers\", \"name\": \"BGR\", \"scene\": \"scene\", \"showlegend\": true, \"type\": \"scatter3d\", \"x\": [0.9763294733965735], \"y\": [0.8896672026353005], \"z\": [0.991607287903296]}, {\"hovertemplate\": \"Country Code=CHE<br>Labour Productivity Autocorrelation=%{x}<br>Income Inequality Autocorrelation=%{y}<br>GDP Autocorrelation=%{z}<extra></extra>\", \"legendgroup\": \"CHE\", \"marker\": {\"color\": \"#ab63fa\", \"symbol\": \"circle\"}, \"mode\": \"markers\", \"name\": \"CHE\", \"scene\": \"scene\", \"showlegend\": true, \"type\": \"scatter3d\", \"x\": [0.692497917646872], \"y\": [0.17951665501042502], \"z\": [0.9947179136890746]}, {\"hovertemplate\": \"Country Code=CYP<br>Labour Productivity Autocorrelation=%{x}<br>Income Inequality Autocorrelation=%{y}<br>GDP Autocorrelation=%{z}<extra></extra>\", \"legendgroup\": \"CYP\", \"marker\": {\"color\": \"#FFA15A\", \"symbol\": \"circle\"}, \"mode\": \"markers\", \"name\": \"CYP\", \"scene\": \"scene\", \"showlegend\": true, \"type\": \"scatter3d\", \"x\": [0.9106652623250543], \"y\": [0.6458125636801998], \"z\": [0.9880083192989408]}, {\"hovertemplate\": \"Country Code=CZE<br>Labour Productivity Autocorrelation=%{x}<br>Income Inequality Autocorrelation=%{y}<br>GDP Autocorrelation=%{z}<extra></extra>\", \"legendgroup\": \"CZE\", \"marker\": {\"color\": \"#19d3f3\", \"symbol\": \"circle\"}, \"mode\": \"markers\", \"name\": \"CZE\", \"scene\": \"scene\", \"showlegend\": true, \"type\": \"scatter3d\", \"x\": [0.8900262450129283], \"y\": [0.5645931666536281], \"z\": [0.9875353550960803]}, {\"hovertemplate\": \"Country Code=DEU<br>Labour Productivity Autocorrelation=%{x}<br>Income Inequality Autocorrelation=%{y}<br>GDP Autocorrelation=%{z}<extra></extra>\", \"legendgroup\": \"DEU\", \"marker\": {\"color\": \"#FF6692\", \"symbol\": \"circle\"}, \"mode\": \"markers\", \"name\": \"DEU\", \"scene\": \"scene\", \"showlegend\": true, \"type\": \"scatter3d\", \"x\": [0.6702934069944856], \"y\": [0.33555813753678176], \"z\": [0.9982567871806954]}, {\"hovertemplate\": \"Country Code=DNK<br>Labour Productivity Autocorrelation=%{x}<br>Income Inequality Autocorrelation=%{y}<br>GDP Autocorrelation=%{z}<extra></extra>\", \"legendgroup\": \"DNK\", \"marker\": {\"color\": \"#B6E880\", \"symbol\": \"circle\"}, \"mode\": \"markers\", \"name\": \"DNK\", \"scene\": \"scene\", \"showlegend\": true, \"type\": \"scatter3d\", \"x\": [0.8562070227691037], \"y\": [0.6633405925453868], \"z\": [0.9989836175235671]}, {\"hovertemplate\": \"Country Code=ESP<br>Labour Productivity Autocorrelation=%{x}<br>Income Inequality Autocorrelation=%{y}<br>GDP Autocorrelation=%{z}<extra></extra>\", \"legendgroup\": \"ESP\", \"marker\": {\"color\": \"#FF97FF\", \"symbol\": \"circle\"}, \"mode\": \"markers\", \"name\": \"ESP\", \"scene\": \"scene\", \"showlegend\": true, \"type\": \"scatter3d\", \"x\": [0.3145820276590971], \"y\": [0.5547565274885683], \"z\": [0.9909624797952111]}, {\"hovertemplate\": \"Country Code=EST<br>Labour Productivity Autocorrelation=%{x}<br>Income Inequality Autocorrelation=%{y}<br>GDP Autocorrelation=%{z}<extra></extra>\", \"legendgroup\": \"EST\", \"marker\": {\"color\": \"#FECB52\", \"symbol\": \"circle\"}, \"mode\": \"markers\", \"name\": \"EST\", \"scene\": \"scene\", \"showlegend\": true, \"type\": \"scatter3d\", \"x\": [0.9115666805446735], \"y\": [0.6127711110144035], \"z\": [0.9900906098581351]}, {\"hovertemplate\": \"Country Code=FIN<br>Labour Productivity Autocorrelation=%{x}<br>Income Inequality Autocorrelation=%{y}<br>GDP Autocorrelation=%{z}<extra></extra>\", \"legendgroup\": \"FIN\", \"marker\": {\"color\": \"#636efa\", \"symbol\": \"circle\"}, \"mode\": \"markers\", \"name\": \"FIN\", \"scene\": \"scene\", \"showlegend\": true, \"type\": \"scatter3d\", \"x\": [0.8837924283208126], \"y\": [0.3413297172092869], \"z\": [0.9930164696868825]}, {\"hovertemplate\": \"Country Code=FRA<br>Labour Productivity Autocorrelation=%{x}<br>Income Inequality Autocorrelation=%{y}<br>GDP Autocorrelation=%{z}<extra></extra>\", \"legendgroup\": \"FRA\", \"marker\": {\"color\": \"#EF553B\", \"symbol\": \"circle\"}, \"mode\": \"markers\", \"name\": \"FRA\", \"scene\": \"scene\", \"showlegend\": true, \"type\": \"scatter3d\", \"x\": [0.7981600865799925], \"y\": [0.6897324815162176], \"z\": [0.999325983674869]}, {\"hovertemplate\": \"Country Code=GBR<br>Labour Productivity Autocorrelation=%{x}<br>Income Inequality Autocorrelation=%{y}<br>GDP Autocorrelation=%{z}<extra></extra>\", \"legendgroup\": \"GBR\", \"marker\": {\"color\": \"#00cc96\", \"symbol\": \"circle\"}, \"mode\": \"markers\", \"name\": \"GBR\", \"scene\": \"scene\", \"showlegend\": true, \"type\": \"scatter3d\", \"x\": [0.9589980182377172], \"y\": [0.4738458367205582], \"z\": [0.9885886784304001]}, {\"hovertemplate\": \"Country Code=GRC<br>Labour Productivity Autocorrelation=%{x}<br>Income Inequality Autocorrelation=%{y}<br>GDP Autocorrelation=%{z}<extra></extra>\", \"legendgroup\": \"GRC\", \"marker\": {\"color\": \"#ab63fa\", \"symbol\": \"circle\"}, \"mode\": \"markers\", \"name\": \"GRC\", \"scene\": \"scene\", \"showlegend\": true, \"type\": \"scatter3d\", \"x\": [0.9546323547546568], \"y\": [0.7179224795208049], \"z\": [0.9710153026381708]}, {\"hovertemplate\": \"Country Code=HRV<br>Labour Productivity Autocorrelation=%{x}<br>Income Inequality Autocorrelation=%{y}<br>GDP Autocorrelation=%{z}<extra></extra>\", \"legendgroup\": \"HRV\", \"marker\": {\"color\": \"#FFA15A\", \"symbol\": \"circle\"}, \"mode\": \"markers\", \"name\": \"HRV\", \"scene\": \"scene\", \"showlegend\": true, \"type\": \"scatter3d\", \"x\": [0.6624646718987345], \"y\": [0.8698088530607464], \"z\": [0.9877848892564057]}, {\"hovertemplate\": \"Country Code=HUN<br>Labour Productivity Autocorrelation=%{x}<br>Income Inequality Autocorrelation=%{y}<br>GDP Autocorrelation=%{z}<extra></extra>\", \"legendgroup\": \"HUN\", \"marker\": {\"color\": \"#19d3f3\", \"symbol\": \"circle\"}, \"mode\": \"markers\", \"name\": \"HUN\", \"scene\": \"scene\", \"showlegend\": true, \"type\": \"scatter3d\", \"x\": [0.7615708331256992], \"y\": [0.8237893064296705], \"z\": [0.9820239421023768]}, {\"hovertemplate\": \"Country Code=IRL<br>Labour Productivity Autocorrelation=%{x}<br>Income Inequality Autocorrelation=%{y}<br>GDP Autocorrelation=%{z}<extra></extra>\", \"legendgroup\": \"IRL\", \"marker\": {\"color\": \"#FF6692\", \"symbol\": \"circle\"}, \"mode\": \"markers\", \"name\": \"IRL\", \"scene\": \"scene\", \"showlegend\": true, \"type\": \"scatter3d\", \"x\": [0.8753848925370877], \"y\": [0.3928181744738459], \"z\": [0.9839292604950326]}, {\"hovertemplate\": \"Country Code=ISL<br>Labour Productivity Autocorrelation=%{x}<br>Income Inequality Autocorrelation=%{y}<br>GDP Autocorrelation=%{z}<extra></extra>\", \"legendgroup\": \"ISL\", \"marker\": {\"color\": \"#B6E880\", \"symbol\": \"circle\"}, \"mode\": \"markers\", \"name\": \"ISL\", \"scene\": \"scene\", \"showlegend\": true, \"type\": \"scatter3d\", \"x\": [0.4668834635959775], \"y\": [0.3356350213580277], \"z\": [0.9357642903803811]}, {\"hovertemplate\": \"Country Code=ITA<br>Labour Productivity Autocorrelation=%{x}<br>Income Inequality Autocorrelation=%{y}<br>GDP Autocorrelation=%{z}<extra></extra>\", \"legendgroup\": \"ITA\", \"marker\": {\"color\": \"#FF97FF\", \"symbol\": \"circle\"}, \"mode\": \"markers\", \"name\": \"ITA\", \"scene\": \"scene\", \"showlegend\": true, \"type\": \"scatter3d\", \"x\": [0.971028509749334], \"y\": [0.6428526840400363], \"z\": [0.9922015437742264]}, {\"hovertemplate\": \"Country Code=LTU<br>Labour Productivity Autocorrelation=%{x}<br>Income Inequality Autocorrelation=%{y}<br>GDP Autocorrelation=%{z}<extra></extra>\", \"legendgroup\": \"LTU\", \"marker\": {\"color\": \"#FECB52\", \"symbol\": \"circle\"}, \"mode\": \"markers\", \"name\": \"LTU\", \"scene\": \"scene\", \"showlegend\": true, \"type\": \"scatter3d\", \"x\": [0.9235578336730096], \"y\": [0.350132511266997], \"z\": [0.9888224371562093]}, {\"hovertemplate\": \"Country Code=LUX<br>Labour Productivity Autocorrelation=%{x}<br>Income Inequality Autocorrelation=%{y}<br>GDP Autocorrelation=%{z}<extra></extra>\", \"legendgroup\": \"LUX\", \"marker\": {\"color\": \"#636efa\", \"symbol\": \"circle\"}, \"mode\": \"markers\", \"name\": \"LUX\", \"scene\": \"scene\", \"showlegend\": true, \"type\": \"scatter3d\", \"x\": [0.6176917652482103], \"y\": [0.7546000626198924], \"z\": [0.9968097385906922]}, {\"hovertemplate\": \"Country Code=LVA<br>Labour Productivity Autocorrelation=%{x}<br>Income Inequality Autocorrelation=%{y}<br>GDP Autocorrelation=%{z}<extra></extra>\", \"legendgroup\": \"LVA\", \"marker\": {\"color\": \"#EF553B\", \"symbol\": \"circle\"}, \"mode\": \"markers\", \"name\": \"LVA\", \"scene\": \"scene\", \"showlegend\": true, \"type\": \"scatter3d\", \"x\": [0.9783719573117837], \"y\": [0.5270596498928773], \"z\": [0.9740941516381765]}, {\"hovertemplate\": \"Country Code=MKD<br>Labour Productivity Autocorrelation=%{x}<br>Income Inequality Autocorrelation=%{y}<br>GDP Autocorrelation=%{z}<extra></extra>\", \"legendgroup\": \"MKD\", \"marker\": {\"color\": \"#00cc96\", \"symbol\": \"circle\"}, \"mode\": \"markers\", \"name\": \"MKD\", \"scene\": \"scene\", \"showlegend\": true, \"type\": \"scatter3d\", \"x\": [0.385585696160985], \"y\": [0.9636085249284845], \"z\": [0.9960438226053145]}, {\"hovertemplate\": \"Country Code=MLT<br>Labour Productivity Autocorrelation=%{x}<br>Income Inequality Autocorrelation=%{y}<br>GDP Autocorrelation=%{z}<extra></extra>\", \"legendgroup\": \"MLT\", \"marker\": {\"color\": \"#ab63fa\", \"symbol\": \"circle\"}, \"mode\": \"markers\", \"name\": \"MLT\", \"scene\": \"scene\", \"showlegend\": true, \"type\": \"scatter3d\", \"x\": [0.27727659053512244], \"y\": [-0.03794930138276475], \"z\": [0.99207237145589]}, {\"hovertemplate\": \"Country Code=NLD<br>Labour Productivity Autocorrelation=%{x}<br>Income Inequality Autocorrelation=%{y}<br>GDP Autocorrelation=%{z}<extra></extra>\", \"legendgroup\": \"NLD\", \"marker\": {\"color\": \"#FFA15A\", \"symbol\": \"circle\"}, \"mode\": \"markers\", \"name\": \"NLD\", \"scene\": \"scene\", \"showlegend\": true, \"type\": \"scatter3d\", \"x\": [0.9389244596361843], \"y\": [0.5746267302327063], \"z\": [0.9945532693058405]}, {\"hovertemplate\": \"Country Code=NOR<br>Labour Productivity Autocorrelation=%{x}<br>Income Inequality Autocorrelation=%{y}<br>GDP Autocorrelation=%{z}<extra></extra>\", \"legendgroup\": \"NOR\", \"marker\": {\"color\": \"#19d3f3\", \"symbol\": \"circle\"}, \"mode\": \"markers\", \"name\": \"NOR\", \"scene\": \"scene\", \"showlegend\": true, \"type\": \"scatter3d\", \"x\": [0.7908449813864004], \"y\": [0.8168020741983147], \"z\": [0.9892287547809059]}, {\"hovertemplate\": \"Country Code=POL<br>Labour Productivity Autocorrelation=%{x}<br>Income Inequality Autocorrelation=%{y}<br>GDP Autocorrelation=%{z}<extra></extra>\", \"legendgroup\": \"POL\", \"marker\": {\"color\": \"#FF6692\", \"symbol\": \"circle\"}, \"mode\": \"markers\", \"name\": \"POL\", \"scene\": \"scene\", \"showlegend\": true, \"type\": \"scatter3d\", \"x\": [0.9644595297105014], \"y\": [0.8765411047594043], \"z\": [0.9844857774633186]}, {\"hovertemplate\": \"Country Code=PRT<br>Labour Productivity Autocorrelation=%{x}<br>Income Inequality Autocorrelation=%{y}<br>GDP Autocorrelation=%{z}<extra></extra>\", \"legendgroup\": \"PRT\", \"marker\": {\"color\": \"#B6E880\", \"symbol\": \"circle\"}, \"mode\": \"markers\", \"name\": \"PRT\", \"scene\": \"scene\", \"showlegend\": true, \"type\": \"scatter3d\", \"x\": [0.3545425650632407], \"y\": [0.666363604259566], \"z\": [0.9903638573798226]}, {\"hovertemplate\": \"Country Code=ROU<br>Labour Productivity Autocorrelation=%{x}<br>Income Inequality Autocorrelation=%{y}<br>GDP Autocorrelation=%{z}<extra></extra>\", \"legendgroup\": \"ROU\", \"marker\": {\"color\": \"#FF97FF\", \"symbol\": \"circle\"}, \"mode\": \"markers\", \"name\": \"ROU\", \"scene\": \"scene\", \"showlegend\": true, \"type\": \"scatter3d\", \"x\": [0.9733347357160748], \"y\": [0.4548501041235741], \"z\": [0.9862842393137433]}, {\"hovertemplate\": \"Country Code=SVK<br>Labour Productivity Autocorrelation=%{x}<br>Income Inequality Autocorrelation=%{y}<br>GDP Autocorrelation=%{z}<extra></extra>\", \"legendgroup\": \"SVK\", \"marker\": {\"color\": \"#FECB52\", \"symbol\": \"circle\"}, \"mode\": \"markers\", \"name\": \"SVK\", \"scene\": \"scene\", \"showlegend\": true, \"type\": \"scatter3d\", \"x\": [0.8033597750120434], \"y\": [0.4095771139042091], \"z\": [0.9936697950893846]}, {\"hovertemplate\": \"Country Code=SVN<br>Labour Productivity Autocorrelation=%{x}<br>Income Inequality Autocorrelation=%{y}<br>GDP Autocorrelation=%{z}<extra></extra>\", \"legendgroup\": \"SVN\", \"marker\": {\"color\": \"#636efa\", \"symbol\": \"circle\"}, \"mode\": \"markers\", \"name\": \"SVN\", \"scene\": \"scene\", \"showlegend\": true, \"type\": \"scatter3d\", \"x\": [0.6534183375007304], \"y\": [0.637198656201745], \"z\": [0.9895908289651891]}, {\"hovertemplate\": \"Country Code=SWE<br>Labour Productivity Autocorrelation=%{x}<br>Income Inequality Autocorrelation=%{y}<br>GDP Autocorrelation=%{z}<extra></extra>\", \"legendgroup\": \"SWE\", \"marker\": {\"color\": \"#EF553B\", \"symbol\": \"circle\"}, \"mode\": \"markers\", \"name\": \"SWE\", \"scene\": \"scene\", \"showlegend\": true, \"type\": \"scatter3d\", \"x\": [0.8786842122486934], \"y\": [0.6394388871329674], \"z\": [0.982230434381454]}],                        {\"font\": {\"size\": 10}, \"legend\": {\"title\": {\"text\": \"Country Code\"}, \"tracegroupgap\": 0}, \"margin\": {\"b\": 0, \"l\": 0, \"r\": 0, \"t\": 0}, \"scene\": {\"aspectmode\": \"cube\", \"domain\": {\"x\": [0.0, 1.0], \"y\": [0.0, 1.0]}, \"xaxis\": {\"range\": [-1, 1], \"title\": {\"text\": \"Labour Productivity Autocorrelation\"}}, \"yaxis\": {\"range\": [-1, 1], \"title\": {\"text\": \"Income Inequality Autocorrelation\"}}, \"zaxis\": {\"range\": [-1, 1], \"title\": {\"text\": \"GDP Autocorrelation\"}}}, \"showlegend\": false, \"template\": {\"data\": {\"bar\": [{\"error_x\": {\"color\": \"#2a3f5f\"}, \"error_y\": {\"color\": \"#2a3f5f\"}, \"marker\": {\"line\": {\"color\": \"#E5ECF6\", \"width\": 0.5}}, \"type\": \"bar\"}], \"barpolar\": [{\"marker\": {\"line\": {\"color\": \"#E5ECF6\", \"width\": 0.5}}, \"type\": \"barpolar\"}], \"carpet\": [{\"aaxis\": {\"endlinecolor\": \"#2a3f5f\", \"gridcolor\": \"white\", \"linecolor\": \"white\", \"minorgridcolor\": \"white\", \"startlinecolor\": \"#2a3f5f\"}, \"baxis\": {\"endlinecolor\": \"#2a3f5f\", \"gridcolor\": \"white\", \"linecolor\": \"white\", \"minorgridcolor\": \"white\", \"startlinecolor\": \"#2a3f5f\"}, \"type\": \"carpet\"}], \"choropleth\": [{\"colorbar\": {\"outlinewidth\": 0, \"ticks\": \"\"}, \"type\": \"choropleth\"}], \"contour\": [{\"colorbar\": {\"outlinewidth\": 0, \"ticks\": \"\"}, \"colorscale\": [[0.0, \"#0d0887\"], [0.1111111111111111, \"#46039f\"], [0.2222222222222222, \"#7201a8\"], [0.3333333333333333, \"#9c179e\"], [0.4444444444444444, \"#bd3786\"], [0.5555555555555556, \"#d8576b\"], [0.6666666666666666, \"#ed7953\"], [0.7777777777777778, \"#fb9f3a\"], [0.8888888888888888, \"#fdca26\"], [1.0, \"#f0f921\"]], \"type\": \"contour\"}], \"contourcarpet\": [{\"colorbar\": {\"outlinewidth\": 0, \"ticks\": \"\"}, \"type\": \"contourcarpet\"}], \"heatmap\": [{\"colorbar\": {\"outlinewidth\": 0, \"ticks\": \"\"}, \"colorscale\": [[0.0, \"#0d0887\"], [0.1111111111111111, \"#46039f\"], [0.2222222222222222, \"#7201a8\"], [0.3333333333333333, \"#9c179e\"], [0.4444444444444444, \"#bd3786\"], [0.5555555555555556, \"#d8576b\"], [0.6666666666666666, \"#ed7953\"], [0.7777777777777778, \"#fb9f3a\"], [0.8888888888888888, \"#fdca26\"], [1.0, \"#f0f921\"]], \"type\": \"heatmap\"}], \"heatmapgl\": [{\"colorbar\": {\"outlinewidth\": 0, \"ticks\": \"\"}, \"colorscale\": [[0.0, \"#0d0887\"], [0.1111111111111111, \"#46039f\"], [0.2222222222222222, \"#7201a8\"], [0.3333333333333333, \"#9c179e\"], [0.4444444444444444, \"#bd3786\"], [0.5555555555555556, \"#d8576b\"], [0.6666666666666666, \"#ed7953\"], [0.7777777777777778, \"#fb9f3a\"], [0.8888888888888888, \"#fdca26\"], [1.0, \"#f0f921\"]], \"type\": \"heatmapgl\"}], \"histogram\": [{\"marker\": {\"colorbar\": {\"outlinewidth\": 0, \"ticks\": \"\"}}, \"type\": \"histogram\"}], \"histogram2d\": [{\"colorbar\": {\"outlinewidth\": 0, \"ticks\": \"\"}, \"colorscale\": [[0.0, \"#0d0887\"], [0.1111111111111111, \"#46039f\"], [0.2222222222222222, \"#7201a8\"], [0.3333333333333333, \"#9c179e\"], [0.4444444444444444, \"#bd3786\"], [0.5555555555555556, \"#d8576b\"], [0.6666666666666666, \"#ed7953\"], [0.7777777777777778, \"#fb9f3a\"], [0.8888888888888888, \"#fdca26\"], [1.0, \"#f0f921\"]], \"type\": \"histogram2d\"}], \"histogram2dcontour\": [{\"colorbar\": {\"outlinewidth\": 0, \"ticks\": \"\"}, \"colorscale\": [[0.0, \"#0d0887\"], [0.1111111111111111, \"#46039f\"], [0.2222222222222222, \"#7201a8\"], [0.3333333333333333, \"#9c179e\"], [0.4444444444444444, \"#bd3786\"], [0.5555555555555556, \"#d8576b\"], [0.6666666666666666, \"#ed7953\"], [0.7777777777777778, \"#fb9f3a\"], [0.8888888888888888, \"#fdca26\"], [1.0, \"#f0f921\"]], \"type\": \"histogram2dcontour\"}], \"mesh3d\": [{\"colorbar\": {\"outlinewidth\": 0, \"ticks\": \"\"}, \"type\": \"mesh3d\"}], \"parcoords\": [{\"line\": {\"colorbar\": {\"outlinewidth\": 0, \"ticks\": \"\"}}, \"type\": \"parcoords\"}], \"pie\": [{\"automargin\": true, \"type\": \"pie\"}], \"scatter\": [{\"marker\": {\"colorbar\": {\"outlinewidth\": 0, \"ticks\": \"\"}}, \"type\": \"scatter\"}], \"scatter3d\": [{\"line\": {\"colorbar\": {\"outlinewidth\": 0, \"ticks\": \"\"}}, \"marker\": {\"colorbar\": {\"outlinewidth\": 0, \"ticks\": \"\"}}, \"type\": \"scatter3d\"}], \"scattercarpet\": [{\"marker\": {\"colorbar\": {\"outlinewidth\": 0, \"ticks\": \"\"}}, \"type\": \"scattercarpet\"}], \"scattergeo\": [{\"marker\": {\"colorbar\": {\"outlinewidth\": 0, \"ticks\": \"\"}}, \"type\": \"scattergeo\"}], \"scattergl\": [{\"marker\": {\"colorbar\": {\"outlinewidth\": 0, \"ticks\": \"\"}}, \"type\": \"scattergl\"}], \"scattermapbox\": [{\"marker\": {\"colorbar\": {\"outlinewidth\": 0, \"ticks\": \"\"}}, \"type\": \"scattermapbox\"}], \"scatterpolar\": [{\"marker\": {\"colorbar\": {\"outlinewidth\": 0, \"ticks\": \"\"}}, \"type\": \"scatterpolar\"}], \"scatterpolargl\": [{\"marker\": {\"colorbar\": {\"outlinewidth\": 0, \"ticks\": \"\"}}, \"type\": \"scatterpolargl\"}], \"scatterternary\": [{\"marker\": {\"colorbar\": {\"outlinewidth\": 0, \"ticks\": \"\"}}, \"type\": \"scatterternary\"}], \"surface\": [{\"colorbar\": {\"outlinewidth\": 0, \"ticks\": \"\"}, \"colorscale\": [[0.0, \"#0d0887\"], [0.1111111111111111, \"#46039f\"], [0.2222222222222222, \"#7201a8\"], [0.3333333333333333, \"#9c179e\"], [0.4444444444444444, \"#bd3786\"], [0.5555555555555556, \"#d8576b\"], [0.6666666666666666, \"#ed7953\"], [0.7777777777777778, \"#fb9f3a\"], [0.8888888888888888, \"#fdca26\"], [1.0, \"#f0f921\"]], \"type\": \"surface\"}], \"table\": [{\"cells\": {\"fill\": {\"color\": \"#EBF0F8\"}, \"line\": {\"color\": \"white\"}}, \"header\": {\"fill\": {\"color\": \"#C8D4E3\"}, \"line\": {\"color\": \"white\"}}, \"type\": \"table\"}]}, \"layout\": {\"annotationdefaults\": {\"arrowcolor\": \"#2a3f5f\", \"arrowhead\": 0, \"arrowwidth\": 1}, \"autotypenumbers\": \"strict\", \"coloraxis\": {\"colorbar\": {\"outlinewidth\": 0, \"ticks\": \"\"}}, \"colorscale\": {\"diverging\": [[0, \"#8e0152\"], [0.1, \"#c51b7d\"], [0.2, \"#de77ae\"], [0.3, \"#f1b6da\"], [0.4, \"#fde0ef\"], [0.5, \"#f7f7f7\"], [0.6, \"#e6f5d0\"], [0.7, \"#b8e186\"], [0.8, \"#7fbc41\"], [0.9, \"#4d9221\"], [1, \"#276419\"]], \"sequential\": [[0.0, \"#0d0887\"], [0.1111111111111111, \"#46039f\"], [0.2222222222222222, \"#7201a8\"], [0.3333333333333333, \"#9c179e\"], [0.4444444444444444, \"#bd3786\"], [0.5555555555555556, \"#d8576b\"], [0.6666666666666666, \"#ed7953\"], [0.7777777777777778, \"#fb9f3a\"], [0.8888888888888888, \"#fdca26\"], [1.0, \"#f0f921\"]], \"sequentialminus\": [[0.0, \"#0d0887\"], [0.1111111111111111, \"#46039f\"], [0.2222222222222222, \"#7201a8\"], [0.3333333333333333, \"#9c179e\"], [0.4444444444444444, \"#bd3786\"], [0.5555555555555556, \"#d8576b\"], [0.6666666666666666, \"#ed7953\"], [0.7777777777777778, \"#fb9f3a\"], [0.8888888888888888, \"#fdca26\"], [1.0, \"#f0f921\"]]}, \"colorway\": [\"#636efa\", \"#EF553B\", \"#00cc96\", \"#ab63fa\", \"#FFA15A\", \"#19d3f3\", \"#FF6692\", \"#B6E880\", \"#FF97FF\", \"#FECB52\"], \"font\": {\"color\": \"#2a3f5f\"}, \"geo\": {\"bgcolor\": \"white\", \"lakecolor\": \"white\", \"landcolor\": \"#E5ECF6\", \"showlakes\": true, \"showland\": true, \"subunitcolor\": \"white\"}, \"hoverlabel\": {\"align\": \"left\"}, \"hovermode\": \"closest\", \"mapbox\": {\"style\": \"light\"}, \"paper_bgcolor\": \"white\", \"plot_bgcolor\": \"#E5ECF6\", \"polar\": {\"angularaxis\": {\"gridcolor\": \"white\", \"linecolor\": \"white\", \"ticks\": \"\"}, \"bgcolor\": \"#E5ECF6\", \"radialaxis\": {\"gridcolor\": \"white\", \"linecolor\": \"white\", \"ticks\": \"\"}}, \"scene\": {\"xaxis\": {\"backgroundcolor\": \"#E5ECF6\", \"gridcolor\": \"white\", \"gridwidth\": 2, \"linecolor\": \"white\", \"showbackground\": true, \"ticks\": \"\", \"zerolinecolor\": \"white\"}, \"yaxis\": {\"backgroundcolor\": \"#E5ECF6\", \"gridcolor\": \"white\", \"gridwidth\": 2, \"linecolor\": \"white\", \"showbackground\": true, \"ticks\": \"\", \"zerolinecolor\": \"white\"}, \"zaxis\": {\"backgroundcolor\": \"#E5ECF6\", \"gridcolor\": \"white\", \"gridwidth\": 2, \"linecolor\": \"white\", \"showbackground\": true, \"ticks\": \"\", \"zerolinecolor\": \"white\"}}, \"shapedefaults\": {\"line\": {\"color\": \"#2a3f5f\"}}, \"ternary\": {\"aaxis\": {\"gridcolor\": \"white\", \"linecolor\": \"white\", \"ticks\": \"\"}, \"baxis\": {\"gridcolor\": \"white\", \"linecolor\": \"white\", \"ticks\": \"\"}, \"bgcolor\": \"#E5ECF6\", \"caxis\": {\"gridcolor\": \"white\", \"linecolor\": \"white\", \"ticks\": \"\"}}, \"title\": {\"x\": 0.05}, \"xaxis\": {\"automargin\": true, \"gridcolor\": \"white\", \"linecolor\": \"white\", \"ticks\": \"\", \"title\": {\"standoff\": 15}, \"zerolinecolor\": \"white\", \"zerolinewidth\": 2}, \"yaxis\": {\"automargin\": true, \"gridcolor\": \"white\", \"linecolor\": \"white\", \"ticks\": \"\", \"title\": {\"standoff\": 15}, \"zerolinecolor\": \"white\", \"zerolinewidth\": 2}}}, \"title\": {\"text\": \"Autocorrelation of Labour Productivity<br> vs Autocorrelation of GDP<br> vs Autocorrelation of Income Inequality<br> (per Country, Lag = 1)\", \"x\": 0.5, \"y\": 0.9}},                        {\"responsive\": true}                    ).then(function(){\n",
       "                            \n",
       "var gd = document.getElementById('4226462d-e0b4-423c-a25d-8014eec7e2d8');\n",
       "var x = new MutationObserver(function (mutations, observer) {{\n",
       "        var display = window.getComputedStyle(gd).display;\n",
       "        if (!display || display === 'none') {{\n",
       "            console.log([gd, 'removed!']);\n",
       "            Plotly.purge(gd);\n",
       "            observer.disconnect();\n",
       "        }}\n",
       "}});\n",
       "\n",
       "// Listen for the removal of the full notebook cells\n",
       "var notebookContainer = gd.closest('#notebook-container');\n",
       "if (notebookContainer) {{\n",
       "    x.observe(notebookContainer, {childList: true});\n",
       "}}\n",
       "\n",
       "// Listen for the clearing of the current output cell\n",
       "var outputEl = gd.closest('.output');\n",
       "if (outputEl) {{\n",
       "    x.observe(outputEl, {childList: true});\n",
       "}}\n",
       "\n",
       "                        })                };                });            </script>        </div>"
      ]
     },
     "metadata": {},
     "output_type": "display_data"
    }
   ],
   "source": [
    "# fig = px.scatter(merged, x='Labour Productivity Autocorrelation', y='Economic Sentiment Autocorrelation', title='Comparison of Autocorrelations Between Datasets', color = \"Country Code\")\n",
    "# fig = px.scatter(merged, x='Labour Productivity Autocorrelation', y='Income Inequality Autocorrelation', title='Comparison of Autocorrelations Between Datasets', color = \"Country Code\")\n",
    "fig = px.scatter_3d(merged, x='Labour Productivity Autocorrelation',\n",
    "                            y='Income Inequality Autocorrelation',\n",
    "                            z=\"GDP Autocorrelation\",\n",
    "                            title='Comparison of Autocorrelations Between Datasets',\n",
    "                            color = \"Country Code\",\n",
    "                            color_continuous_scale='Inferno')\n",
    "fig.update_layout()\n",
    "# fig.update_layout(xaxis_range=[-1,1])\n",
    "# fig.update_layout(yaxis_range=[-1,1])\n",
    "fig.update_layout(\n",
    "    scene = {\n",
    "    \"xaxis\": { \"range\": [-1, 1] },\n",
    "    \"yaxis\": { \"range\": [-1 ,1] },\n",
    "    \"zaxis\": { \"range\": [-1, 1] },\n",
    "    \"aspectmode\": \"cube\"},\n",
    "    margin = dict(l=0, r=0, b=0, t=0),\n",
    "#     legend = {'orientation': 'h'},\n",
    "    showlegend=False)\n",
    "# fig.update_layout(zaxis_range=[-1,1])\n",
    "\n",
    "fig.update_layout(title_text=(f'Autocorrelation of Labour Productivity'\n",
    "                               '<br> vs Autocorrelation of GDP'\n",
    "                               '<br> vs Autocorrelation of Income Inequality'\n",
    "                              f'<br> (per Country, Lag = {default_lag})'),\n",
    "                 title_x=0.5,\n",
    "                 title_y=0.9,\n",
    "                 font = { 'size': 10 })\n",
    "\n",
    "\n",
    "# fig.update_layout(\n",
    "#     margin=dict(l=0, r=50, t=0, b=50)\n",
    "# )\n",
    "\n",
    "fig.show()"
   ]
  },
  {
   "cell_type": "code",
   "execution_count": 40,
   "id": "designed-greece",
   "metadata": {},
   "outputs": [
    {
     "data": {
      "application/vnd.plotly.v1+json": {
       "config": {
        "plotlyServerURL": "https://plot.ly"
       },
       "data": [
        {
         "marker": {
          "color": "rgb(15, 114, 121)",
          "line": {
           "color": "Blue",
           "width": 2
          },
          "size": 9
         },
         "mode": "markers",
         "name": "Lag = 1",
         "opacity": 1,
         "type": "scatter",
         "x": [
          0.7564142760317699,
          0.4827162599480111,
          0.9763294733965735,
          0.692497917646872,
          0.9106652623250543,
          0.8900262450129283,
          0.6702934069944856,
          0.8562070227691037,
          0.3145820276590971,
          0.9115666805446735,
          0.8837924283208126,
          0.7981600865799925,
          0.9589980182377172,
          0.9546323547546568,
          0.6624646718987345,
          0.7615708331256992,
          0.8753848925370877,
          0.4668834635959775,
          0.971028509749334,
          0.9235578336730096,
          0.6176917652482103,
          0.9783719573117837,
          0.385585696160985,
          0.27727659053512244,
          0.9389244596361843,
          0.7908449813864004,
          0.9644595297105014,
          0.3545425650632407,
          0.9733347357160748,
          0.8033597750120434,
          0.6534183375007304,
          0.8786842122486934
         ],
         "y": [
          -0.30471846218791176,
          0.48023430514198734,
          0.8896672026353005,
          0.17951665501042502,
          0.6458125636801998,
          0.5645931666536281,
          0.33555813753678176,
          0.6633405925453868,
          0.5547565274885683,
          0.6127711110144035,
          0.3413297172092869,
          0.6897324815162176,
          0.4738458367205582,
          0.7179224795208049,
          0.8698088530607464,
          0.8237893064296705,
          0.3928181744738459,
          0.3356350213580277,
          0.6428526840400363,
          0.350132511266997,
          0.7546000626198924,
          0.5270596498928773,
          0.9636085249284845,
          -0.03794930138276475,
          0.5746267302327063,
          0.8168020741983147,
          0.8765411047594043,
          0.666363604259566,
          0.4548501041235741,
          0.4095771139042091,
          0.637198656201745,
          0.6394388871329674
         ]
        },
        {
         "marker": {
          "color": "rgb(13, 143, 129)"
         },
         "mode": "markers",
         "name": "Lag = 2",
         "opacity": 0.8,
         "type": "scatter",
         "x": [
          0.5139812868236856,
          -0.028157667297367028,
          0.971853672152066,
          0.10278229001210525,
          0.7336318679624556,
          0.6913915403483009,
          0.3077430830695456,
          0.7211300633751325,
          -0.11871243652303164,
          0.8326197441095742,
          0.7322280581630967,
          0.6515239919209705,
          0.9480420574718532,
          0.8950214754027023,
          0.11681009933729229,
          0.39508865168434987,
          0.7808802840319244,
          -0.18126500639640009,
          0.9277387546873281,
          0.8342053275698874,
          0.0634321085835887,
          0.9655430518770783,
          0.37165899589984175,
          -0.20080453959899985,
          0.853751652275267,
          0.6077678738487917,
          0.8875334480269543,
          -0.28934510067031255,
          0.9135608262085464,
          0.44376286290786165,
          0.3138619066631043,
          0.7388317540874897
         ],
         "y": [
          0.20955607189266795,
          0.30008508600599354,
          0.8745308988977243,
          0.26767916957378013,
          0.09159224665329324,
          -0.1014071766081878,
          -0.25166309306849255,
          -0.7634906313621733,
          0.04380435096284847,
          0.014720416496229327,
          0.17138072919706496,
          0.35025047064798154,
          -0.25140470723873787,
          -0.043116034913806355,
          0.9213294074779512,
          0.8462450045187232,
          0.15342663932447562,
          0.03317423902540133,
          0.6926022363167903,
          0.0458990079738317,
          0.48774916951668384,
          -0.15590672369056843,
          0.8561787240142505,
          0.04501286171921135,
          0.5477570619853263,
          0.5648205967918319,
          0.7835856480979086,
          0.07454286812406281,
          -0.03943444864581141,
          0.34320850682919257,
          0.12318748012284482,
          0.7569684970987713
         ]
        },
        {
         "marker": {
          "color": "rgb(57, 171, 126)"
         },
         "mode": "markers",
         "name": "Lag = 3",
         "opacity": 0.6,
         "type": "scatter",
         "x": [
          0.3739197873222303,
          -0.40986628158155003,
          0.9620310869320589,
          -0.2721417134395719,
          0.5614543539614503,
          0.44693737862544186,
          0.10139164185365653,
          0.5760213712692875,
          0.10877146666166349,
          0.8259452243956883,
          0.6553772430947004,
          0.5849333325312339,
          0.8733698317159745,
          0.8315727533564182,
          0.07183064954943269,
          -0.15113586300253865,
          0.700472174331727,
          -0.4438993726468584,
          0.8810275953953333,
          0.7842866627066892,
          -0.4346391226041728,
          0.9618137850384704,
          -0.14796215066580792,
          -0.45862710070641133,
          0.7638531521596915,
          0.394121991271756,
          0.7917474520481141,
          -0.0562808665810401,
          0.8228650510514273,
          -0.05238980391830489,
          0.08067712876960872,
          0.7439706791571308
         ],
         "y": [
          -0.05325783174056437,
          0.22203356448681683,
          0.7935000961901477,
          -0.207335017848814,
          -0.6812255095013102,
          -0.30185999404234864,
          -0.12643977058654052,
          -0.916308889137368,
          -0.3043653163873222,
          -0.34943849180449355,
          -0.2867080775347495,
          0.07127746292144227,
          -0.24579216795393738,
          -0.49662957842706335,
          0.8249365942816512,
          0.45645314908082807,
          0.097417556447724,
          -0.12695969993313494,
          0.6304331051541614,
          -0.2773232491586277,
          0.47845498218996996,
          -0.007882096856649737,
          0.7254257467769731,
          0.4060525992778924,
          0.21376488139465452,
          0.1949913085400477,
          0.6088947421633344,
          -0.42241352115410485,
          -0.04805576285908754,
          0.3527953466851599,
          -0.2961784852824359,
          0.8017369799973177
         ]
        },
        {
         "marker": {
          "color": "rgb(110, 197, 116)"
         },
         "mode": "markers",
         "name": "Lag = 4",
         "opacity": 0.4,
         "type": "scatter",
         "x": [
          0.08220102355138743,
          -0.4987531971754503,
          0.9619576484390795,
          -0.3647571620909008,
          0.44643754518748846,
          0.3968680330054955,
          -0.1903481018020612,
          0.5635643982587394,
          -0.2066995889007909,
          0.7633867148231686,
          0.520508047219386,
          0.6750134677196691,
          0.805388142689218,
          0.7764131259374992,
          0.5626976282052678,
          -0.5783435768149798,
          0.5767958172394815,
          -0.5953813087148502,
          0.8385179911282838,
          0.7799651251144608,
          -0.5507806949345451,
          0.9477071285824721,
          -0.010580486591534854,
          -0.5244318961050929,
          0.753904735766933,
          0.34044563888586704,
          0.7319179346001291,
          -0.07290308635077422,
          0.7758835508133802,
          -0.41699739958286275,
          -0.6352209398471669,
          0.7370780323364309
         ],
         "y": [
          -0.16916884138433994,
          0.3692722559773899,
          0.7361847993246902,
          -0.6585936726728303,
          -0.8612940529326019,
          0.12964937641881505,
          0.5079773393956623,
          -0.3499003424303723,
          -0.5982036518459766,
          -0.7623097460910961,
          -0.6021189952178435,
          0.23684154284309358,
          -0.4600342540900206,
          -0.5257847013023106,
          0.7950810504734859,
          -0.2997214000175327,
          -0.17766744256006453,
          -0.03196560501335628,
          0.4081153820558309,
          -0.7163977268699715,
          0.41656264909687063,
          -0.17645016337769762,
          0.8948627238986426,
          -0.5804002044891031,
          -0.2710424622187181,
          -0.402863118071536,
          0.7121111800667648,
          -0.7824224232050846,
          -0.29102061220585823,
          -0.16708520026080897,
          -0.8057529971521065,
          0.2123525749258118
         ]
        },
        {
         "marker": {
          "color": "rgb(169, 220, 103)"
         },
         "mode": "markers",
         "name": "Lag = 5",
         "opacity": 0.2,
         "type": "scatter",
         "x": [
          -0.4139234283766781,
          -0.45459273098032554,
          0.9255077474188994,
          -0.16785051780718424,
          0.33300832365386124,
          0.4271880417422346,
          -0.2660662961733167,
          0.5445021007591926,
          -0.16050216572245501,
          0.7039549708260993,
          0.307897109622405,
          0.5507505304612806,
          0.8082600060951909,
          0.8312508088391531,
          0.7480004797856669,
          -0.7950841598343791,
          0.7257305093237458,
          -0.7636145146626174,
          0.805423374367558,
          0.7762199145533184,
          -0.5158854291486065,
          0.941575735762423,
          -0.16714079846532764,
          0.2291062148863297,
          0.8498068793233725,
          0.4267363186321061,
          0.7395610467054876,
          -0.07730280646598588,
          0.7776324792804472,
          -0.6348858205063874,
          -0.4634496029812545,
          0.6012724944300426
         ],
         "y": [
          -0.07297988730128607,
          0.6405873074417328,
          0.6634580816961406,
          -0.4167374227841116,
          -0.6556051693827311,
          0.47016076899998394,
          0.3742263773247954,
          0.5250055820971609,
          -0.726016998594156,
          -0.774578822780671,
          -0.643115286385537,
          0.4972349095028309,
          -0.9281402204008341,
          -0.7471759934381246,
          0.82683261347445,
          -0.30047118305443943,
          -0.783357430027839,
          -0.5796939789888511,
          0.7910533369242724,
          0.066713380748235,
          0.7260399783561703,
          -0.06924041498854487,
          0.9239865723952452,
          0.058893093429334305,
          -0.39634038043130393,
          -0.7639352087765096,
          0.9866725338916735,
          -0.6043281112000799,
          -0.5056250804931152,
          -0.09871666835337463,
          -0.868557654187502,
          0.823086032122774
         ]
        }
       ],
       "layout": {
        "template": {
         "data": {
          "bar": [
           {
            "error_x": {
             "color": "#2a3f5f"
            },
            "error_y": {
             "color": "#2a3f5f"
            },
            "marker": {
             "line": {
              "color": "#E5ECF6",
              "width": 0.5
             }
            },
            "type": "bar"
           }
          ],
          "barpolar": [
           {
            "marker": {
             "line": {
              "color": "#E5ECF6",
              "width": 0.5
             }
            },
            "type": "barpolar"
           }
          ],
          "carpet": [
           {
            "aaxis": {
             "endlinecolor": "#2a3f5f",
             "gridcolor": "white",
             "linecolor": "white",
             "minorgridcolor": "white",
             "startlinecolor": "#2a3f5f"
            },
            "baxis": {
             "endlinecolor": "#2a3f5f",
             "gridcolor": "white",
             "linecolor": "white",
             "minorgridcolor": "white",
             "startlinecolor": "#2a3f5f"
            },
            "type": "carpet"
           }
          ],
          "choropleth": [
           {
            "colorbar": {
             "outlinewidth": 0,
             "ticks": ""
            },
            "type": "choropleth"
           }
          ],
          "contour": [
           {
            "colorbar": {
             "outlinewidth": 0,
             "ticks": ""
            },
            "colorscale": [
             [
              0,
              "#0d0887"
             ],
             [
              0.1111111111111111,
              "#46039f"
             ],
             [
              0.2222222222222222,
              "#7201a8"
             ],
             [
              0.3333333333333333,
              "#9c179e"
             ],
             [
              0.4444444444444444,
              "#bd3786"
             ],
             [
              0.5555555555555556,
              "#d8576b"
             ],
             [
              0.6666666666666666,
              "#ed7953"
             ],
             [
              0.7777777777777778,
              "#fb9f3a"
             ],
             [
              0.8888888888888888,
              "#fdca26"
             ],
             [
              1,
              "#f0f921"
             ]
            ],
            "type": "contour"
           }
          ],
          "contourcarpet": [
           {
            "colorbar": {
             "outlinewidth": 0,
             "ticks": ""
            },
            "type": "contourcarpet"
           }
          ],
          "heatmap": [
           {
            "colorbar": {
             "outlinewidth": 0,
             "ticks": ""
            },
            "colorscale": [
             [
              0,
              "#0d0887"
             ],
             [
              0.1111111111111111,
              "#46039f"
             ],
             [
              0.2222222222222222,
              "#7201a8"
             ],
             [
              0.3333333333333333,
              "#9c179e"
             ],
             [
              0.4444444444444444,
              "#bd3786"
             ],
             [
              0.5555555555555556,
              "#d8576b"
             ],
             [
              0.6666666666666666,
              "#ed7953"
             ],
             [
              0.7777777777777778,
              "#fb9f3a"
             ],
             [
              0.8888888888888888,
              "#fdca26"
             ],
             [
              1,
              "#f0f921"
             ]
            ],
            "type": "heatmap"
           }
          ],
          "heatmapgl": [
           {
            "colorbar": {
             "outlinewidth": 0,
             "ticks": ""
            },
            "colorscale": [
             [
              0,
              "#0d0887"
             ],
             [
              0.1111111111111111,
              "#46039f"
             ],
             [
              0.2222222222222222,
              "#7201a8"
             ],
             [
              0.3333333333333333,
              "#9c179e"
             ],
             [
              0.4444444444444444,
              "#bd3786"
             ],
             [
              0.5555555555555556,
              "#d8576b"
             ],
             [
              0.6666666666666666,
              "#ed7953"
             ],
             [
              0.7777777777777778,
              "#fb9f3a"
             ],
             [
              0.8888888888888888,
              "#fdca26"
             ],
             [
              1,
              "#f0f921"
             ]
            ],
            "type": "heatmapgl"
           }
          ],
          "histogram": [
           {
            "marker": {
             "colorbar": {
              "outlinewidth": 0,
              "ticks": ""
             }
            },
            "type": "histogram"
           }
          ],
          "histogram2d": [
           {
            "colorbar": {
             "outlinewidth": 0,
             "ticks": ""
            },
            "colorscale": [
             [
              0,
              "#0d0887"
             ],
             [
              0.1111111111111111,
              "#46039f"
             ],
             [
              0.2222222222222222,
              "#7201a8"
             ],
             [
              0.3333333333333333,
              "#9c179e"
             ],
             [
              0.4444444444444444,
              "#bd3786"
             ],
             [
              0.5555555555555556,
              "#d8576b"
             ],
             [
              0.6666666666666666,
              "#ed7953"
             ],
             [
              0.7777777777777778,
              "#fb9f3a"
             ],
             [
              0.8888888888888888,
              "#fdca26"
             ],
             [
              1,
              "#f0f921"
             ]
            ],
            "type": "histogram2d"
           }
          ],
          "histogram2dcontour": [
           {
            "colorbar": {
             "outlinewidth": 0,
             "ticks": ""
            },
            "colorscale": [
             [
              0,
              "#0d0887"
             ],
             [
              0.1111111111111111,
              "#46039f"
             ],
             [
              0.2222222222222222,
              "#7201a8"
             ],
             [
              0.3333333333333333,
              "#9c179e"
             ],
             [
              0.4444444444444444,
              "#bd3786"
             ],
             [
              0.5555555555555556,
              "#d8576b"
             ],
             [
              0.6666666666666666,
              "#ed7953"
             ],
             [
              0.7777777777777778,
              "#fb9f3a"
             ],
             [
              0.8888888888888888,
              "#fdca26"
             ],
             [
              1,
              "#f0f921"
             ]
            ],
            "type": "histogram2dcontour"
           }
          ],
          "mesh3d": [
           {
            "colorbar": {
             "outlinewidth": 0,
             "ticks": ""
            },
            "type": "mesh3d"
           }
          ],
          "parcoords": [
           {
            "line": {
             "colorbar": {
              "outlinewidth": 0,
              "ticks": ""
             }
            },
            "type": "parcoords"
           }
          ],
          "pie": [
           {
            "automargin": true,
            "type": "pie"
           }
          ],
          "scatter": [
           {
            "marker": {
             "colorbar": {
              "outlinewidth": 0,
              "ticks": ""
             }
            },
            "type": "scatter"
           }
          ],
          "scatter3d": [
           {
            "line": {
             "colorbar": {
              "outlinewidth": 0,
              "ticks": ""
             }
            },
            "marker": {
             "colorbar": {
              "outlinewidth": 0,
              "ticks": ""
             }
            },
            "type": "scatter3d"
           }
          ],
          "scattercarpet": [
           {
            "marker": {
             "colorbar": {
              "outlinewidth": 0,
              "ticks": ""
             }
            },
            "type": "scattercarpet"
           }
          ],
          "scattergeo": [
           {
            "marker": {
             "colorbar": {
              "outlinewidth": 0,
              "ticks": ""
             }
            },
            "type": "scattergeo"
           }
          ],
          "scattergl": [
           {
            "marker": {
             "colorbar": {
              "outlinewidth": 0,
              "ticks": ""
             }
            },
            "type": "scattergl"
           }
          ],
          "scattermapbox": [
           {
            "marker": {
             "colorbar": {
              "outlinewidth": 0,
              "ticks": ""
             }
            },
            "type": "scattermapbox"
           }
          ],
          "scatterpolar": [
           {
            "marker": {
             "colorbar": {
              "outlinewidth": 0,
              "ticks": ""
             }
            },
            "type": "scatterpolar"
           }
          ],
          "scatterpolargl": [
           {
            "marker": {
             "colorbar": {
              "outlinewidth": 0,
              "ticks": ""
             }
            },
            "type": "scatterpolargl"
           }
          ],
          "scatterternary": [
           {
            "marker": {
             "colorbar": {
              "outlinewidth": 0,
              "ticks": ""
             }
            },
            "type": "scatterternary"
           }
          ],
          "surface": [
           {
            "colorbar": {
             "outlinewidth": 0,
             "ticks": ""
            },
            "colorscale": [
             [
              0,
              "#0d0887"
             ],
             [
              0.1111111111111111,
              "#46039f"
             ],
             [
              0.2222222222222222,
              "#7201a8"
             ],
             [
              0.3333333333333333,
              "#9c179e"
             ],
             [
              0.4444444444444444,
              "#bd3786"
             ],
             [
              0.5555555555555556,
              "#d8576b"
             ],
             [
              0.6666666666666666,
              "#ed7953"
             ],
             [
              0.7777777777777778,
              "#fb9f3a"
             ],
             [
              0.8888888888888888,
              "#fdca26"
             ],
             [
              1,
              "#f0f921"
             ]
            ],
            "type": "surface"
           }
          ],
          "table": [
           {
            "cells": {
             "fill": {
              "color": "#EBF0F8"
             },
             "line": {
              "color": "white"
             }
            },
            "header": {
             "fill": {
              "color": "#C8D4E3"
             },
             "line": {
              "color": "white"
             }
            },
            "type": "table"
           }
          ]
         },
         "layout": {
          "annotationdefaults": {
           "arrowcolor": "#2a3f5f",
           "arrowhead": 0,
           "arrowwidth": 1
          },
          "autotypenumbers": "strict",
          "coloraxis": {
           "colorbar": {
            "outlinewidth": 0,
            "ticks": ""
           }
          },
          "colorscale": {
           "diverging": [
            [
             0,
             "#8e0152"
            ],
            [
             0.1,
             "#c51b7d"
            ],
            [
             0.2,
             "#de77ae"
            ],
            [
             0.3,
             "#f1b6da"
            ],
            [
             0.4,
             "#fde0ef"
            ],
            [
             0.5,
             "#f7f7f7"
            ],
            [
             0.6,
             "#e6f5d0"
            ],
            [
             0.7,
             "#b8e186"
            ],
            [
             0.8,
             "#7fbc41"
            ],
            [
             0.9,
             "#4d9221"
            ],
            [
             1,
             "#276419"
            ]
           ],
           "sequential": [
            [
             0,
             "#0d0887"
            ],
            [
             0.1111111111111111,
             "#46039f"
            ],
            [
             0.2222222222222222,
             "#7201a8"
            ],
            [
             0.3333333333333333,
             "#9c179e"
            ],
            [
             0.4444444444444444,
             "#bd3786"
            ],
            [
             0.5555555555555556,
             "#d8576b"
            ],
            [
             0.6666666666666666,
             "#ed7953"
            ],
            [
             0.7777777777777778,
             "#fb9f3a"
            ],
            [
             0.8888888888888888,
             "#fdca26"
            ],
            [
             1,
             "#f0f921"
            ]
           ],
           "sequentialminus": [
            [
             0,
             "#0d0887"
            ],
            [
             0.1111111111111111,
             "#46039f"
            ],
            [
             0.2222222222222222,
             "#7201a8"
            ],
            [
             0.3333333333333333,
             "#9c179e"
            ],
            [
             0.4444444444444444,
             "#bd3786"
            ],
            [
             0.5555555555555556,
             "#d8576b"
            ],
            [
             0.6666666666666666,
             "#ed7953"
            ],
            [
             0.7777777777777778,
             "#fb9f3a"
            ],
            [
             0.8888888888888888,
             "#fdca26"
            ],
            [
             1,
             "#f0f921"
            ]
           ]
          },
          "colorway": [
           "#636efa",
           "#EF553B",
           "#00cc96",
           "#ab63fa",
           "#FFA15A",
           "#19d3f3",
           "#FF6692",
           "#B6E880",
           "#FF97FF",
           "#FECB52"
          ],
          "font": {
           "color": "#2a3f5f"
          },
          "geo": {
           "bgcolor": "white",
           "lakecolor": "white",
           "landcolor": "#E5ECF6",
           "showlakes": true,
           "showland": true,
           "subunitcolor": "white"
          },
          "hoverlabel": {
           "align": "left"
          },
          "hovermode": "closest",
          "mapbox": {
           "style": "light"
          },
          "paper_bgcolor": "white",
          "plot_bgcolor": "#E5ECF6",
          "polar": {
           "angularaxis": {
            "gridcolor": "white",
            "linecolor": "white",
            "ticks": ""
           },
           "bgcolor": "#E5ECF6",
           "radialaxis": {
            "gridcolor": "white",
            "linecolor": "white",
            "ticks": ""
           }
          },
          "scene": {
           "xaxis": {
            "backgroundcolor": "#E5ECF6",
            "gridcolor": "white",
            "gridwidth": 2,
            "linecolor": "white",
            "showbackground": true,
            "ticks": "",
            "zerolinecolor": "white"
           },
           "yaxis": {
            "backgroundcolor": "#E5ECF6",
            "gridcolor": "white",
            "gridwidth": 2,
            "linecolor": "white",
            "showbackground": true,
            "ticks": "",
            "zerolinecolor": "white"
           },
           "zaxis": {
            "backgroundcolor": "#E5ECF6",
            "gridcolor": "white",
            "gridwidth": 2,
            "linecolor": "white",
            "showbackground": true,
            "ticks": "",
            "zerolinecolor": "white"
           }
          },
          "shapedefaults": {
           "line": {
            "color": "#2a3f5f"
           }
          },
          "ternary": {
           "aaxis": {
            "gridcolor": "white",
            "linecolor": "white",
            "ticks": ""
           },
           "baxis": {
            "gridcolor": "white",
            "linecolor": "white",
            "ticks": ""
           },
           "bgcolor": "#E5ECF6",
           "caxis": {
            "gridcolor": "white",
            "linecolor": "white",
            "ticks": ""
           }
          },
          "title": {
           "x": 0.05
          },
          "xaxis": {
           "automargin": true,
           "gridcolor": "white",
           "linecolor": "white",
           "ticks": "",
           "title": {
            "standoff": 15
           },
           "zerolinecolor": "white",
           "zerolinewidth": 2
          },
          "yaxis": {
           "automargin": true,
           "gridcolor": "white",
           "linecolor": "white",
           "ticks": "",
           "title": {
            "standoff": 15
           },
           "zerolinecolor": "white",
           "zerolinewidth": 2
          }
         }
        },
        "title": {
         "text": "Autocorrelation of Labour Productivity vs Autocorrelation of <br>Income Inequality (per Country) for Different Lag Values",
         "x": 0.5
        },
        "xaxis": {
         "range": [
          -1,
          1
         ],
         "title": {
          "text": "Labour Productivity Autocorrelation"
         }
        },
        "yaxis": {
         "range": [
          -1,
          1
         ],
         "title": {
          "text": "Income Inequality Autocorrelation"
         }
        }
       }
      },
      "text/html": [
       "<div>                            <div id=\"9b84a54f-61d3-4dbf-8ee2-0cc22a4f825a\" class=\"plotly-graph-div\" style=\"height:525px; width:100%;\"></div>            <script type=\"text/javascript\">                require([\"plotly\"], function(Plotly) {                    window.PLOTLYENV=window.PLOTLYENV || {};                                    if (document.getElementById(\"9b84a54f-61d3-4dbf-8ee2-0cc22a4f825a\")) {                    Plotly.newPlot(                        \"9b84a54f-61d3-4dbf-8ee2-0cc22a4f825a\",                        [{\"marker\": {\"color\": \"rgb(15, 114, 121)\", \"line\": {\"color\": \"Blue\", \"width\": 2}, \"size\": 9}, \"mode\": \"markers\", \"name\": \"Lag = 1\", \"opacity\": 1.0, \"type\": \"scatter\", \"x\": [0.7564142760317699, 0.4827162599480111, 0.9763294733965735, 0.692497917646872, 0.9106652623250543, 0.8900262450129283, 0.6702934069944856, 0.8562070227691037, 0.3145820276590971, 0.9115666805446735, 0.8837924283208126, 0.7981600865799925, 0.9589980182377172, 0.9546323547546568, 0.6624646718987345, 0.7615708331256992, 0.8753848925370877, 0.4668834635959775, 0.971028509749334, 0.9235578336730096, 0.6176917652482103, 0.9783719573117837, 0.385585696160985, 0.27727659053512244, 0.9389244596361843, 0.7908449813864004, 0.9644595297105014, 0.3545425650632407, 0.9733347357160748, 0.8033597750120434, 0.6534183375007304, 0.8786842122486934], \"y\": [-0.30471846218791176, 0.48023430514198734, 0.8896672026353005, 0.17951665501042502, 0.6458125636801998, 0.5645931666536281, 0.33555813753678176, 0.6633405925453868, 0.5547565274885683, 0.6127711110144035, 0.3413297172092869, 0.6897324815162176, 0.4738458367205582, 0.7179224795208049, 0.8698088530607464, 0.8237893064296705, 0.3928181744738459, 0.3356350213580277, 0.6428526840400363, 0.350132511266997, 0.7546000626198924, 0.5270596498928773, 0.9636085249284845, -0.03794930138276475, 0.5746267302327063, 0.8168020741983147, 0.8765411047594043, 0.666363604259566, 0.4548501041235741, 0.4095771139042091, 0.637198656201745, 0.6394388871329674]}, {\"marker\": {\"color\": \"rgb(13, 143, 129)\"}, \"mode\": \"markers\", \"name\": \"Lag = 2\", \"opacity\": 0.8, \"type\": \"scatter\", \"x\": [0.5139812868236856, -0.028157667297367028, 0.971853672152066, 0.10278229001210525, 0.7336318679624556, 0.6913915403483009, 0.3077430830695456, 0.7211300633751325, -0.11871243652303164, 0.8326197441095742, 0.7322280581630967, 0.6515239919209705, 0.9480420574718532, 0.8950214754027023, 0.11681009933729229, 0.39508865168434987, 0.7808802840319244, -0.18126500639640009, 0.9277387546873281, 0.8342053275698874, 0.0634321085835887, 0.9655430518770783, 0.37165899589984175, -0.20080453959899985, 0.853751652275267, 0.6077678738487917, 0.8875334480269543, -0.28934510067031255, 0.9135608262085464, 0.44376286290786165, 0.3138619066631043, 0.7388317540874897], \"y\": [0.20955607189266795, 0.30008508600599354, 0.8745308988977243, 0.26767916957378013, 0.09159224665329324, -0.1014071766081878, -0.25166309306849255, -0.7634906313621733, 0.04380435096284847, 0.014720416496229327, 0.17138072919706496, 0.35025047064798154, -0.25140470723873787, -0.043116034913806355, 0.9213294074779512, 0.8462450045187232, 0.15342663932447562, 0.03317423902540133, 0.6926022363167903, 0.0458990079738317, 0.48774916951668384, -0.15590672369056843, 0.8561787240142505, 0.04501286171921135, 0.5477570619853263, 0.5648205967918319, 0.7835856480979086, 0.07454286812406281, -0.03943444864581141, 0.34320850682919257, 0.12318748012284482, 0.7569684970987713]}, {\"marker\": {\"color\": \"rgb(57, 171, 126)\"}, \"mode\": \"markers\", \"name\": \"Lag = 3\", \"opacity\": 0.6, \"type\": \"scatter\", \"x\": [0.3739197873222303, -0.40986628158155003, 0.9620310869320589, -0.2721417134395719, 0.5614543539614503, 0.44693737862544186, 0.10139164185365653, 0.5760213712692875, 0.10877146666166349, 0.8259452243956883, 0.6553772430947004, 0.5849333325312339, 0.8733698317159745, 0.8315727533564182, 0.07183064954943269, -0.15113586300253865, 0.700472174331727, -0.4438993726468584, 0.8810275953953333, 0.7842866627066892, -0.4346391226041728, 0.9618137850384704, -0.14796215066580792, -0.45862710070641133, 0.7638531521596915, 0.394121991271756, 0.7917474520481141, -0.0562808665810401, 0.8228650510514273, -0.05238980391830489, 0.08067712876960872, 0.7439706791571308], \"y\": [-0.05325783174056437, 0.22203356448681683, 0.7935000961901477, -0.207335017848814, -0.6812255095013102, -0.30185999404234864, -0.12643977058654052, -0.916308889137368, -0.3043653163873222, -0.34943849180449355, -0.2867080775347495, 0.07127746292144227, -0.24579216795393738, -0.49662957842706335, 0.8249365942816512, 0.45645314908082807, 0.097417556447724, -0.12695969993313494, 0.6304331051541614, -0.2773232491586277, 0.47845498218996996, -0.007882096856649737, 0.7254257467769731, 0.4060525992778924, 0.21376488139465452, 0.1949913085400477, 0.6088947421633344, -0.42241352115410485, -0.04805576285908754, 0.3527953466851599, -0.2961784852824359, 0.8017369799973177]}, {\"marker\": {\"color\": \"rgb(110, 197, 116)\"}, \"mode\": \"markers\", \"name\": \"Lag = 4\", \"opacity\": 0.4, \"type\": \"scatter\", \"x\": [0.08220102355138743, -0.4987531971754503, 0.9619576484390795, -0.3647571620909008, 0.44643754518748846, 0.3968680330054955, -0.1903481018020612, 0.5635643982587394, -0.2066995889007909, 0.7633867148231686, 0.520508047219386, 0.6750134677196691, 0.805388142689218, 0.7764131259374992, 0.5626976282052678, -0.5783435768149798, 0.5767958172394815, -0.5953813087148502, 0.8385179911282838, 0.7799651251144608, -0.5507806949345451, 0.9477071285824721, -0.010580486591534854, -0.5244318961050929, 0.753904735766933, 0.34044563888586704, 0.7319179346001291, -0.07290308635077422, 0.7758835508133802, -0.41699739958286275, -0.6352209398471669, 0.7370780323364309], \"y\": [-0.16916884138433994, 0.3692722559773899, 0.7361847993246902, -0.6585936726728303, -0.8612940529326019, 0.12964937641881505, 0.5079773393956623, -0.3499003424303723, -0.5982036518459766, -0.7623097460910961, -0.6021189952178435, 0.23684154284309358, -0.4600342540900206, -0.5257847013023106, 0.7950810504734859, -0.2997214000175327, -0.17766744256006453, -0.03196560501335628, 0.4081153820558309, -0.7163977268699715, 0.41656264909687063, -0.17645016337769762, 0.8948627238986426, -0.5804002044891031, -0.2710424622187181, -0.402863118071536, 0.7121111800667648, -0.7824224232050846, -0.29102061220585823, -0.16708520026080897, -0.8057529971521065, 0.2123525749258118]}, {\"marker\": {\"color\": \"rgb(169, 220, 103)\"}, \"mode\": \"markers\", \"name\": \"Lag = 5\", \"opacity\": 0.2, \"type\": \"scatter\", \"x\": [-0.4139234283766781, -0.45459273098032554, 0.9255077474188994, -0.16785051780718424, 0.33300832365386124, 0.4271880417422346, -0.2660662961733167, 0.5445021007591926, -0.16050216572245501, 0.7039549708260993, 0.307897109622405, 0.5507505304612806, 0.8082600060951909, 0.8312508088391531, 0.7480004797856669, -0.7950841598343791, 0.7257305093237458, -0.7636145146626174, 0.805423374367558, 0.7762199145533184, -0.5158854291486065, 0.941575735762423, -0.16714079846532764, 0.2291062148863297, 0.8498068793233725, 0.4267363186321061, 0.7395610467054876, -0.07730280646598588, 0.7776324792804472, -0.6348858205063874, -0.4634496029812545, 0.6012724944300426], \"y\": [-0.07297988730128607, 0.6405873074417328, 0.6634580816961406, -0.4167374227841116, -0.6556051693827311, 0.47016076899998394, 0.3742263773247954, 0.5250055820971609, -0.726016998594156, -0.774578822780671, -0.643115286385537, 0.4972349095028309, -0.9281402204008341, -0.7471759934381246, 0.82683261347445, -0.30047118305443943, -0.783357430027839, -0.5796939789888511, 0.7910533369242724, 0.066713380748235, 0.7260399783561703, -0.06924041498854487, 0.9239865723952452, 0.058893093429334305, -0.39634038043130393, -0.7639352087765096, 0.9866725338916735, -0.6043281112000799, -0.5056250804931152, -0.09871666835337463, -0.868557654187502, 0.823086032122774]}],                        {\"template\": {\"data\": {\"bar\": [{\"error_x\": {\"color\": \"#2a3f5f\"}, \"error_y\": {\"color\": \"#2a3f5f\"}, \"marker\": {\"line\": {\"color\": \"#E5ECF6\", \"width\": 0.5}}, \"type\": \"bar\"}], \"barpolar\": [{\"marker\": {\"line\": {\"color\": \"#E5ECF6\", \"width\": 0.5}}, \"type\": \"barpolar\"}], \"carpet\": [{\"aaxis\": {\"endlinecolor\": \"#2a3f5f\", \"gridcolor\": \"white\", \"linecolor\": \"white\", \"minorgridcolor\": \"white\", \"startlinecolor\": \"#2a3f5f\"}, \"baxis\": {\"endlinecolor\": \"#2a3f5f\", \"gridcolor\": \"white\", \"linecolor\": \"white\", \"minorgridcolor\": \"white\", \"startlinecolor\": \"#2a3f5f\"}, \"type\": \"carpet\"}], \"choropleth\": [{\"colorbar\": {\"outlinewidth\": 0, \"ticks\": \"\"}, \"type\": \"choropleth\"}], \"contour\": [{\"colorbar\": {\"outlinewidth\": 0, \"ticks\": \"\"}, \"colorscale\": [[0.0, \"#0d0887\"], [0.1111111111111111, \"#46039f\"], [0.2222222222222222, \"#7201a8\"], [0.3333333333333333, \"#9c179e\"], [0.4444444444444444, \"#bd3786\"], [0.5555555555555556, \"#d8576b\"], [0.6666666666666666, \"#ed7953\"], [0.7777777777777778, \"#fb9f3a\"], [0.8888888888888888, \"#fdca26\"], [1.0, \"#f0f921\"]], \"type\": \"contour\"}], \"contourcarpet\": [{\"colorbar\": {\"outlinewidth\": 0, \"ticks\": \"\"}, \"type\": \"contourcarpet\"}], \"heatmap\": [{\"colorbar\": {\"outlinewidth\": 0, \"ticks\": \"\"}, \"colorscale\": [[0.0, \"#0d0887\"], [0.1111111111111111, \"#46039f\"], [0.2222222222222222, \"#7201a8\"], [0.3333333333333333, \"#9c179e\"], [0.4444444444444444, \"#bd3786\"], [0.5555555555555556, \"#d8576b\"], [0.6666666666666666, \"#ed7953\"], [0.7777777777777778, \"#fb9f3a\"], [0.8888888888888888, \"#fdca26\"], [1.0, \"#f0f921\"]], \"type\": \"heatmap\"}], \"heatmapgl\": [{\"colorbar\": {\"outlinewidth\": 0, \"ticks\": \"\"}, \"colorscale\": [[0.0, \"#0d0887\"], [0.1111111111111111, \"#46039f\"], [0.2222222222222222, \"#7201a8\"], [0.3333333333333333, \"#9c179e\"], [0.4444444444444444, \"#bd3786\"], [0.5555555555555556, \"#d8576b\"], [0.6666666666666666, \"#ed7953\"], [0.7777777777777778, \"#fb9f3a\"], [0.8888888888888888, \"#fdca26\"], [1.0, \"#f0f921\"]], \"type\": \"heatmapgl\"}], \"histogram\": [{\"marker\": {\"colorbar\": {\"outlinewidth\": 0, \"ticks\": \"\"}}, \"type\": \"histogram\"}], \"histogram2d\": [{\"colorbar\": {\"outlinewidth\": 0, \"ticks\": \"\"}, \"colorscale\": [[0.0, \"#0d0887\"], [0.1111111111111111, \"#46039f\"], [0.2222222222222222, \"#7201a8\"], [0.3333333333333333, \"#9c179e\"], [0.4444444444444444, \"#bd3786\"], [0.5555555555555556, \"#d8576b\"], [0.6666666666666666, \"#ed7953\"], [0.7777777777777778, \"#fb9f3a\"], [0.8888888888888888, \"#fdca26\"], [1.0, \"#f0f921\"]], \"type\": \"histogram2d\"}], \"histogram2dcontour\": [{\"colorbar\": {\"outlinewidth\": 0, \"ticks\": \"\"}, \"colorscale\": [[0.0, \"#0d0887\"], [0.1111111111111111, \"#46039f\"], [0.2222222222222222, \"#7201a8\"], [0.3333333333333333, \"#9c179e\"], [0.4444444444444444, \"#bd3786\"], [0.5555555555555556, \"#d8576b\"], [0.6666666666666666, \"#ed7953\"], [0.7777777777777778, \"#fb9f3a\"], [0.8888888888888888, \"#fdca26\"], [1.0, \"#f0f921\"]], \"type\": \"histogram2dcontour\"}], \"mesh3d\": [{\"colorbar\": {\"outlinewidth\": 0, \"ticks\": \"\"}, \"type\": \"mesh3d\"}], \"parcoords\": [{\"line\": {\"colorbar\": {\"outlinewidth\": 0, \"ticks\": \"\"}}, \"type\": \"parcoords\"}], \"pie\": [{\"automargin\": true, \"type\": \"pie\"}], \"scatter\": [{\"marker\": {\"colorbar\": {\"outlinewidth\": 0, \"ticks\": \"\"}}, \"type\": \"scatter\"}], \"scatter3d\": [{\"line\": {\"colorbar\": {\"outlinewidth\": 0, \"ticks\": \"\"}}, \"marker\": {\"colorbar\": {\"outlinewidth\": 0, \"ticks\": \"\"}}, \"type\": \"scatter3d\"}], \"scattercarpet\": [{\"marker\": {\"colorbar\": {\"outlinewidth\": 0, \"ticks\": \"\"}}, \"type\": \"scattercarpet\"}], \"scattergeo\": [{\"marker\": {\"colorbar\": {\"outlinewidth\": 0, \"ticks\": \"\"}}, \"type\": \"scattergeo\"}], \"scattergl\": [{\"marker\": {\"colorbar\": {\"outlinewidth\": 0, \"ticks\": \"\"}}, \"type\": \"scattergl\"}], \"scattermapbox\": [{\"marker\": {\"colorbar\": {\"outlinewidth\": 0, \"ticks\": \"\"}}, \"type\": \"scattermapbox\"}], \"scatterpolar\": [{\"marker\": {\"colorbar\": {\"outlinewidth\": 0, \"ticks\": \"\"}}, \"type\": \"scatterpolar\"}], \"scatterpolargl\": [{\"marker\": {\"colorbar\": {\"outlinewidth\": 0, \"ticks\": \"\"}}, \"type\": \"scatterpolargl\"}], \"scatterternary\": [{\"marker\": {\"colorbar\": {\"outlinewidth\": 0, \"ticks\": \"\"}}, \"type\": \"scatterternary\"}], \"surface\": [{\"colorbar\": {\"outlinewidth\": 0, \"ticks\": \"\"}, \"colorscale\": [[0.0, \"#0d0887\"], [0.1111111111111111, \"#46039f\"], [0.2222222222222222, \"#7201a8\"], [0.3333333333333333, \"#9c179e\"], [0.4444444444444444, \"#bd3786\"], [0.5555555555555556, \"#d8576b\"], [0.6666666666666666, \"#ed7953\"], [0.7777777777777778, \"#fb9f3a\"], [0.8888888888888888, \"#fdca26\"], [1.0, \"#f0f921\"]], \"type\": \"surface\"}], \"table\": [{\"cells\": {\"fill\": {\"color\": \"#EBF0F8\"}, \"line\": {\"color\": \"white\"}}, \"header\": {\"fill\": {\"color\": \"#C8D4E3\"}, \"line\": {\"color\": \"white\"}}, \"type\": \"table\"}]}, \"layout\": {\"annotationdefaults\": {\"arrowcolor\": \"#2a3f5f\", \"arrowhead\": 0, \"arrowwidth\": 1}, \"autotypenumbers\": \"strict\", \"coloraxis\": {\"colorbar\": {\"outlinewidth\": 0, \"ticks\": \"\"}}, \"colorscale\": {\"diverging\": [[0, \"#8e0152\"], [0.1, \"#c51b7d\"], [0.2, \"#de77ae\"], [0.3, \"#f1b6da\"], [0.4, \"#fde0ef\"], [0.5, \"#f7f7f7\"], [0.6, \"#e6f5d0\"], [0.7, \"#b8e186\"], [0.8, \"#7fbc41\"], [0.9, \"#4d9221\"], [1, \"#276419\"]], \"sequential\": [[0.0, \"#0d0887\"], [0.1111111111111111, \"#46039f\"], [0.2222222222222222, \"#7201a8\"], [0.3333333333333333, \"#9c179e\"], [0.4444444444444444, \"#bd3786\"], [0.5555555555555556, \"#d8576b\"], [0.6666666666666666, \"#ed7953\"], [0.7777777777777778, \"#fb9f3a\"], [0.8888888888888888, \"#fdca26\"], [1.0, \"#f0f921\"]], \"sequentialminus\": [[0.0, \"#0d0887\"], [0.1111111111111111, \"#46039f\"], [0.2222222222222222, \"#7201a8\"], [0.3333333333333333, \"#9c179e\"], [0.4444444444444444, \"#bd3786\"], [0.5555555555555556, \"#d8576b\"], [0.6666666666666666, \"#ed7953\"], [0.7777777777777778, \"#fb9f3a\"], [0.8888888888888888, \"#fdca26\"], [1.0, \"#f0f921\"]]}, \"colorway\": [\"#636efa\", \"#EF553B\", \"#00cc96\", \"#ab63fa\", \"#FFA15A\", \"#19d3f3\", \"#FF6692\", \"#B6E880\", \"#FF97FF\", \"#FECB52\"], \"font\": {\"color\": \"#2a3f5f\"}, \"geo\": {\"bgcolor\": \"white\", \"lakecolor\": \"white\", \"landcolor\": \"#E5ECF6\", \"showlakes\": true, \"showland\": true, \"subunitcolor\": \"white\"}, \"hoverlabel\": {\"align\": \"left\"}, \"hovermode\": \"closest\", \"mapbox\": {\"style\": \"light\"}, \"paper_bgcolor\": \"white\", \"plot_bgcolor\": \"#E5ECF6\", \"polar\": {\"angularaxis\": {\"gridcolor\": \"white\", \"linecolor\": \"white\", \"ticks\": \"\"}, \"bgcolor\": \"#E5ECF6\", \"radialaxis\": {\"gridcolor\": \"white\", \"linecolor\": \"white\", \"ticks\": \"\"}}, \"scene\": {\"xaxis\": {\"backgroundcolor\": \"#E5ECF6\", \"gridcolor\": \"white\", \"gridwidth\": 2, \"linecolor\": \"white\", \"showbackground\": true, \"ticks\": \"\", \"zerolinecolor\": \"white\"}, \"yaxis\": {\"backgroundcolor\": \"#E5ECF6\", \"gridcolor\": \"white\", \"gridwidth\": 2, \"linecolor\": \"white\", \"showbackground\": true, \"ticks\": \"\", \"zerolinecolor\": \"white\"}, \"zaxis\": {\"backgroundcolor\": \"#E5ECF6\", \"gridcolor\": \"white\", \"gridwidth\": 2, \"linecolor\": \"white\", \"showbackground\": true, \"ticks\": \"\", \"zerolinecolor\": \"white\"}}, \"shapedefaults\": {\"line\": {\"color\": \"#2a3f5f\"}}, \"ternary\": {\"aaxis\": {\"gridcolor\": \"white\", \"linecolor\": \"white\", \"ticks\": \"\"}, \"baxis\": {\"gridcolor\": \"white\", \"linecolor\": \"white\", \"ticks\": \"\"}, \"bgcolor\": \"#E5ECF6\", \"caxis\": {\"gridcolor\": \"white\", \"linecolor\": \"white\", \"ticks\": \"\"}}, \"title\": {\"x\": 0.05}, \"xaxis\": {\"automargin\": true, \"gridcolor\": \"white\", \"linecolor\": \"white\", \"ticks\": \"\", \"title\": {\"standoff\": 15}, \"zerolinecolor\": \"white\", \"zerolinewidth\": 2}, \"yaxis\": {\"automargin\": true, \"gridcolor\": \"white\", \"linecolor\": \"white\", \"ticks\": \"\", \"title\": {\"standoff\": 15}, \"zerolinecolor\": \"white\", \"zerolinewidth\": 2}}}, \"title\": {\"text\": \"Autocorrelation of Labour Productivity vs Autocorrelation of <br>Income Inequality (per Country) for Different Lag Values\", \"x\": 0.5}, \"xaxis\": {\"range\": [-1, 1], \"title\": {\"text\": \"Labour Productivity Autocorrelation\"}}, \"yaxis\": {\"range\": [-1, 1], \"title\": {\"text\": \"Income Inequality Autocorrelation\"}}},                        {\"responsive\": true}                    ).then(function(){\n",
       "                            \n",
       "var gd = document.getElementById('9b84a54f-61d3-4dbf-8ee2-0cc22a4f825a');\n",
       "var x = new MutationObserver(function (mutations, observer) {{\n",
       "        var display = window.getComputedStyle(gd).display;\n",
       "        if (!display || display === 'none') {{\n",
       "            console.log([gd, 'removed!']);\n",
       "            Plotly.purge(gd);\n",
       "            observer.disconnect();\n",
       "        }}\n",
       "}});\n",
       "\n",
       "// Listen for the removal of the full notebook cells\n",
       "var notebookContainer = gd.closest('#notebook-container');\n",
       "if (notebookContainer) {{\n",
       "    x.observe(notebookContainer, {childList: true});\n",
       "}}\n",
       "\n",
       "// Listen for the clearing of the current output cell\n",
       "var outputEl = gd.closest('.output');\n",
       "if (outputEl) {{\n",
       "    x.observe(outputEl, {childList: true});\n",
       "}}\n",
       "\n",
       "                        })                };                });            </script>        </div>"
      ]
     },
     "metadata": {},
     "output_type": "display_data"
    },
    {
     "data": {
      "application/vnd.plotly.v1+json": {
       "config": {
        "plotlyServerURL": "https://plot.ly"
       },
       "data": [
        {
         "marker": {
          "color": "rgb(15, 114, 121)",
          "line": {
           "color": "Blue",
           "width": 2
          },
          "size": 9
         },
         "mode": "markers",
         "name": "Lag = 1",
         "opacity": 1,
         "type": "scatter",
         "x": [
          0.9929162388126868,
          0.9933426772284569,
          0.991607287903296,
          0.9947179136890746,
          0.9880083192989408,
          0.9875353550960803,
          0.9982567871806954,
          0.9989836175235671,
          0.9909624797952111,
          0.9900906098581351,
          0.9930164696868825,
          0.999325983674869,
          0.9885886784304001,
          0.9710153026381708,
          0.9877848892564057,
          0.9820239421023768,
          0.9839292604950326,
          0.9357642903803811,
          0.9922015437742264,
          0.9888224371562093,
          0.9968097385906922,
          0.9740941516381765,
          0.9960438226053145,
          0.99207237145589,
          0.9945532693058405,
          0.9892287547809059,
          0.9844857774633186,
          0.9903638573798226,
          0.9862842393137433,
          0.9936697950893846,
          0.9895908289651891,
          0.982230434381454
         ],
         "y": [
          -0.30471846218791176,
          0.48023430514198734,
          0.8896672026353005,
          0.17951665501042502,
          0.6458125636801998,
          0.5645931666536281,
          0.33555813753678176,
          0.6633405925453868,
          0.5547565274885683,
          0.6127711110144035,
          0.3413297172092869,
          0.6897324815162176,
          0.4738458367205582,
          0.7179224795208049,
          0.8698088530607464,
          0.8237893064296705,
          0.3928181744738459,
          0.3356350213580277,
          0.6428526840400363,
          0.350132511266997,
          0.7546000626198924,
          0.5270596498928773,
          0.9636085249284845,
          -0.03794930138276475,
          0.5746267302327063,
          0.8168020741983147,
          0.8765411047594043,
          0.666363604259566,
          0.4548501041235741,
          0.4095771139042091,
          0.637198656201745,
          0.6394388871329674
         ]
        },
        {
         "marker": {
          "color": "rgb(13, 143, 129)"
         },
         "mode": "markers",
         "name": "Lag = 2",
         "opacity": 0.8,
         "type": "scatter",
         "x": [
          0.9884061473820106,
          0.9904952206929523,
          0.9828302213611921,
          0.9873705863212376,
          0.9578387483941212,
          0.9729131977434824,
          0.9962317160551436,
          0.9981634501919496,
          0.9694256856686078,
          0.975155273261154,
          0.9798693709525659,
          0.998502719046965,
          0.9729829804747616,
          0.898002063131599,
          0.960764335930289,
          0.9647929578679557,
          0.9547175056651446,
          0.8315758050953125,
          0.9802271080247149,
          0.9744497741354611,
          0.9931290449111702,
          0.926751122100362,
          0.9912950563726177,
          0.9881762421803457,
          0.9834745315959641,
          0.9752271632762726,
          0.97436125499972,
          0.9657874261092751,
          0.9597221286577297,
          0.9837235096054233,
          0.9737510368519618,
          0.9647298155519526
         ],
         "y": [
          0.20955607189266795,
          0.30008508600599354,
          0.8745308988977243,
          0.26767916957378013,
          0.09159224665329324,
          -0.1014071766081878,
          -0.25166309306849255,
          -0.7634906313621733,
          0.04380435096284847,
          0.014720416496229327,
          0.17138072919706496,
          0.35025047064798154,
          -0.25140470723873787,
          -0.043116034913806355,
          0.9213294074779512,
          0.8462450045187232,
          0.15342663932447562,
          0.03317423902540133,
          0.6926022363167903,
          0.0458990079738317,
          0.48774916951668384,
          -0.15590672369056843,
          0.8561787240142505,
          0.04501286171921135,
          0.5477570619853263,
          0.5648205967918319,
          0.7835856480979086,
          0.07454286812406281,
          -0.03943444864581141,
          0.34320850682919257,
          0.12318748012284482,
          0.7569684970987713
         ]
        },
        {
         "marker": {
          "color": "rgb(57, 171, 126)"
         },
         "mode": "markers",
         "name": "Lag = 3",
         "opacity": 0.6,
         "type": "scatter",
         "x": [
          0.9871157678405708,
          0.9889650976785301,
          0.9746409614322493,
          0.9818574367169217,
          0.9169276498927327,
          0.953600299145968,
          0.9940388910098145,
          0.9969984740721132,
          0.9356300738687005,
          0.9651213868843226,
          0.9689655896107354,
          0.9979995096016586,
          0.9606726913814759,
          0.7621120609489099,
          0.9215245572990317,
          0.9430004758045477,
          0.9069089462052711,
          0.6904818760467493,
          0.970642653338129,
          0.9671053407965603,
          0.9924259244052148,
          0.8969160972320281,
          0.9851110867945139,
          0.9808662413610892,
          0.9710163826041295,
          0.9633719285035731,
          0.9658397990621495,
          0.928685296041837,
          0.929986738753123,
          0.9711426905471675,
          0.954547118337034,
          0.9581078684273441
         ],
         "y": [
          -0.05325783174056437,
          0.22203356448681683,
          0.7935000961901477,
          -0.207335017848814,
          -0.6812255095013102,
          -0.30185999404234864,
          -0.12643977058654052,
          -0.916308889137368,
          -0.3043653163873222,
          -0.34943849180449355,
          -0.2867080775347495,
          0.07127746292144227,
          -0.24579216795393738,
          -0.49662957842706335,
          0.8249365942816512,
          0.45645314908082807,
          0.097417556447724,
          -0.12695969993313494,
          0.6304331051541614,
          -0.2773232491586277,
          0.47845498218996996,
          -0.007882096856649737,
          0.7254257467769731,
          0.4060525992778924,
          0.21376488139465452,
          0.1949913085400477,
          0.6088947421633344,
          -0.42241352115410485,
          -0.04805576285908754,
          0.3527953466851599,
          -0.2961784852824359,
          0.8017369799973177
         ]
        },
        {
         "marker": {
          "color": "rgb(110, 197, 116)"
         },
         "mode": "markers",
         "name": "Lag = 4",
         "opacity": 0.4,
         "type": "scatter",
         "x": [
          0.9856779399592247,
          0.9883586821720687,
          0.9590208812381933,
          0.9777967504436548,
          0.8742492267482084,
          0.9305237059442791,
          0.9910458659735973,
          0.9964521223145301,
          0.8915721876773925,
          0.9612677566305221,
          0.9613413716330291,
          0.9975394531355044,
          0.9489040123016699,
          0.5512692539405063,
          0.8755776410777077,
          0.9059872491147772,
          0.8379978588706173,
          0.5561800188646401,
          0.9576936814718983,
          0.9634911620273972,
          0.9925923992090161,
          0.888039775232667,
          0.9757275494762073,
          0.9754267030859763,
          0.9605817222863451,
          0.9566782890920772,
          0.9585512177392211,
          0.8826728831500172,
          0.8988127450211234,
          0.9538061036096062,
          0.9314924411432062,
          0.9591220765287939
         ],
         "y": [
          -0.16916884138433994,
          0.3692722559773899,
          0.7361847993246902,
          -0.6585936726728303,
          -0.8612940529326019,
          0.12964937641881505,
          0.5079773393956623,
          -0.3499003424303723,
          -0.5982036518459766,
          -0.7623097460910961,
          -0.6021189952178435,
          0.23684154284309358,
          -0.4600342540900206,
          -0.5257847013023106,
          0.7950810504734859,
          -0.2997214000175327,
          -0.17766744256006453,
          -0.03196560501335628,
          0.4081153820558309,
          -0.7163977268699715,
          0.41656264909687063,
          -0.17645016337769762,
          0.8948627238986426,
          -0.5804002044891031,
          -0.2710424622187181,
          -0.402863118071536,
          0.7121111800667648,
          -0.7824224232050846,
          -0.29102061220585823,
          -0.16708520026080897,
          -0.8057529971521065,
          0.2123525749258118
         ]
        },
        {
         "marker": {
          "color": "rgb(169, 220, 103)"
         },
         "mode": "markers",
         "name": "Lag = 5",
         "opacity": 0.2,
         "type": "scatter",
         "x": [
          0.9849100954716702,
          0.9872532107772328,
          0.9440076029693951,
          0.9696884207822201,
          0.8373673075625212,
          0.9091344385587194,
          0.9862860650341916,
          0.9959455217051948,
          0.84545364128009,
          0.9591943122369905,
          0.9566979589480341,
          0.9968455483934219,
          0.9415369721253041,
          0.30347915704436756,
          0.8288268739033243,
          0.8656286697721394,
          0.7447448358374421,
          0.4352630602422235,
          0.939111856106934,
          0.9629195819789262,
          0.9917948776589192,
          0.8852696014191513,
          0.9741097137855095,
          0.9648347118931022,
          0.952282994347879,
          0.9489062839585442,
          0.9532729838029561,
          0.8393201384720252,
          0.8759386675014568,
          0.9325094007181755,
          0.9089235633139202,
          0.9522038618748522
         ],
         "y": [
          -0.07297988730128607,
          0.6405873074417328,
          0.6634580816961406,
          -0.4167374227841116,
          -0.6556051693827311,
          0.47016076899998394,
          0.3742263773247954,
          0.5250055820971609,
          -0.726016998594156,
          -0.774578822780671,
          -0.643115286385537,
          0.4972349095028309,
          -0.9281402204008341,
          -0.7471759934381246,
          0.82683261347445,
          -0.30047118305443943,
          -0.783357430027839,
          -0.5796939789888511,
          0.7910533369242724,
          0.066713380748235,
          0.7260399783561703,
          -0.06924041498854487,
          0.9239865723952452,
          0.058893093429334305,
          -0.39634038043130393,
          -0.7639352087765096,
          0.9866725338916735,
          -0.6043281112000799,
          -0.5056250804931152,
          -0.09871666835337463,
          -0.868557654187502,
          0.823086032122774
         ]
        }
       ],
       "layout": {
        "template": {
         "data": {
          "bar": [
           {
            "error_x": {
             "color": "#2a3f5f"
            },
            "error_y": {
             "color": "#2a3f5f"
            },
            "marker": {
             "line": {
              "color": "#E5ECF6",
              "width": 0.5
             }
            },
            "type": "bar"
           }
          ],
          "barpolar": [
           {
            "marker": {
             "line": {
              "color": "#E5ECF6",
              "width": 0.5
             }
            },
            "type": "barpolar"
           }
          ],
          "carpet": [
           {
            "aaxis": {
             "endlinecolor": "#2a3f5f",
             "gridcolor": "white",
             "linecolor": "white",
             "minorgridcolor": "white",
             "startlinecolor": "#2a3f5f"
            },
            "baxis": {
             "endlinecolor": "#2a3f5f",
             "gridcolor": "white",
             "linecolor": "white",
             "minorgridcolor": "white",
             "startlinecolor": "#2a3f5f"
            },
            "type": "carpet"
           }
          ],
          "choropleth": [
           {
            "colorbar": {
             "outlinewidth": 0,
             "ticks": ""
            },
            "type": "choropleth"
           }
          ],
          "contour": [
           {
            "colorbar": {
             "outlinewidth": 0,
             "ticks": ""
            },
            "colorscale": [
             [
              0,
              "#0d0887"
             ],
             [
              0.1111111111111111,
              "#46039f"
             ],
             [
              0.2222222222222222,
              "#7201a8"
             ],
             [
              0.3333333333333333,
              "#9c179e"
             ],
             [
              0.4444444444444444,
              "#bd3786"
             ],
             [
              0.5555555555555556,
              "#d8576b"
             ],
             [
              0.6666666666666666,
              "#ed7953"
             ],
             [
              0.7777777777777778,
              "#fb9f3a"
             ],
             [
              0.8888888888888888,
              "#fdca26"
             ],
             [
              1,
              "#f0f921"
             ]
            ],
            "type": "contour"
           }
          ],
          "contourcarpet": [
           {
            "colorbar": {
             "outlinewidth": 0,
             "ticks": ""
            },
            "type": "contourcarpet"
           }
          ],
          "heatmap": [
           {
            "colorbar": {
             "outlinewidth": 0,
             "ticks": ""
            },
            "colorscale": [
             [
              0,
              "#0d0887"
             ],
             [
              0.1111111111111111,
              "#46039f"
             ],
             [
              0.2222222222222222,
              "#7201a8"
             ],
             [
              0.3333333333333333,
              "#9c179e"
             ],
             [
              0.4444444444444444,
              "#bd3786"
             ],
             [
              0.5555555555555556,
              "#d8576b"
             ],
             [
              0.6666666666666666,
              "#ed7953"
             ],
             [
              0.7777777777777778,
              "#fb9f3a"
             ],
             [
              0.8888888888888888,
              "#fdca26"
             ],
             [
              1,
              "#f0f921"
             ]
            ],
            "type": "heatmap"
           }
          ],
          "heatmapgl": [
           {
            "colorbar": {
             "outlinewidth": 0,
             "ticks": ""
            },
            "colorscale": [
             [
              0,
              "#0d0887"
             ],
             [
              0.1111111111111111,
              "#46039f"
             ],
             [
              0.2222222222222222,
              "#7201a8"
             ],
             [
              0.3333333333333333,
              "#9c179e"
             ],
             [
              0.4444444444444444,
              "#bd3786"
             ],
             [
              0.5555555555555556,
              "#d8576b"
             ],
             [
              0.6666666666666666,
              "#ed7953"
             ],
             [
              0.7777777777777778,
              "#fb9f3a"
             ],
             [
              0.8888888888888888,
              "#fdca26"
             ],
             [
              1,
              "#f0f921"
             ]
            ],
            "type": "heatmapgl"
           }
          ],
          "histogram": [
           {
            "marker": {
             "colorbar": {
              "outlinewidth": 0,
              "ticks": ""
             }
            },
            "type": "histogram"
           }
          ],
          "histogram2d": [
           {
            "colorbar": {
             "outlinewidth": 0,
             "ticks": ""
            },
            "colorscale": [
             [
              0,
              "#0d0887"
             ],
             [
              0.1111111111111111,
              "#46039f"
             ],
             [
              0.2222222222222222,
              "#7201a8"
             ],
             [
              0.3333333333333333,
              "#9c179e"
             ],
             [
              0.4444444444444444,
              "#bd3786"
             ],
             [
              0.5555555555555556,
              "#d8576b"
             ],
             [
              0.6666666666666666,
              "#ed7953"
             ],
             [
              0.7777777777777778,
              "#fb9f3a"
             ],
             [
              0.8888888888888888,
              "#fdca26"
             ],
             [
              1,
              "#f0f921"
             ]
            ],
            "type": "histogram2d"
           }
          ],
          "histogram2dcontour": [
           {
            "colorbar": {
             "outlinewidth": 0,
             "ticks": ""
            },
            "colorscale": [
             [
              0,
              "#0d0887"
             ],
             [
              0.1111111111111111,
              "#46039f"
             ],
             [
              0.2222222222222222,
              "#7201a8"
             ],
             [
              0.3333333333333333,
              "#9c179e"
             ],
             [
              0.4444444444444444,
              "#bd3786"
             ],
             [
              0.5555555555555556,
              "#d8576b"
             ],
             [
              0.6666666666666666,
              "#ed7953"
             ],
             [
              0.7777777777777778,
              "#fb9f3a"
             ],
             [
              0.8888888888888888,
              "#fdca26"
             ],
             [
              1,
              "#f0f921"
             ]
            ],
            "type": "histogram2dcontour"
           }
          ],
          "mesh3d": [
           {
            "colorbar": {
             "outlinewidth": 0,
             "ticks": ""
            },
            "type": "mesh3d"
           }
          ],
          "parcoords": [
           {
            "line": {
             "colorbar": {
              "outlinewidth": 0,
              "ticks": ""
             }
            },
            "type": "parcoords"
           }
          ],
          "pie": [
           {
            "automargin": true,
            "type": "pie"
           }
          ],
          "scatter": [
           {
            "marker": {
             "colorbar": {
              "outlinewidth": 0,
              "ticks": ""
             }
            },
            "type": "scatter"
           }
          ],
          "scatter3d": [
           {
            "line": {
             "colorbar": {
              "outlinewidth": 0,
              "ticks": ""
             }
            },
            "marker": {
             "colorbar": {
              "outlinewidth": 0,
              "ticks": ""
             }
            },
            "type": "scatter3d"
           }
          ],
          "scattercarpet": [
           {
            "marker": {
             "colorbar": {
              "outlinewidth": 0,
              "ticks": ""
             }
            },
            "type": "scattercarpet"
           }
          ],
          "scattergeo": [
           {
            "marker": {
             "colorbar": {
              "outlinewidth": 0,
              "ticks": ""
             }
            },
            "type": "scattergeo"
           }
          ],
          "scattergl": [
           {
            "marker": {
             "colorbar": {
              "outlinewidth": 0,
              "ticks": ""
             }
            },
            "type": "scattergl"
           }
          ],
          "scattermapbox": [
           {
            "marker": {
             "colorbar": {
              "outlinewidth": 0,
              "ticks": ""
             }
            },
            "type": "scattermapbox"
           }
          ],
          "scatterpolar": [
           {
            "marker": {
             "colorbar": {
              "outlinewidth": 0,
              "ticks": ""
             }
            },
            "type": "scatterpolar"
           }
          ],
          "scatterpolargl": [
           {
            "marker": {
             "colorbar": {
              "outlinewidth": 0,
              "ticks": ""
             }
            },
            "type": "scatterpolargl"
           }
          ],
          "scatterternary": [
           {
            "marker": {
             "colorbar": {
              "outlinewidth": 0,
              "ticks": ""
             }
            },
            "type": "scatterternary"
           }
          ],
          "surface": [
           {
            "colorbar": {
             "outlinewidth": 0,
             "ticks": ""
            },
            "colorscale": [
             [
              0,
              "#0d0887"
             ],
             [
              0.1111111111111111,
              "#46039f"
             ],
             [
              0.2222222222222222,
              "#7201a8"
             ],
             [
              0.3333333333333333,
              "#9c179e"
             ],
             [
              0.4444444444444444,
              "#bd3786"
             ],
             [
              0.5555555555555556,
              "#d8576b"
             ],
             [
              0.6666666666666666,
              "#ed7953"
             ],
             [
              0.7777777777777778,
              "#fb9f3a"
             ],
             [
              0.8888888888888888,
              "#fdca26"
             ],
             [
              1,
              "#f0f921"
             ]
            ],
            "type": "surface"
           }
          ],
          "table": [
           {
            "cells": {
             "fill": {
              "color": "#EBF0F8"
             },
             "line": {
              "color": "white"
             }
            },
            "header": {
             "fill": {
              "color": "#C8D4E3"
             },
             "line": {
              "color": "white"
             }
            },
            "type": "table"
           }
          ]
         },
         "layout": {
          "annotationdefaults": {
           "arrowcolor": "#2a3f5f",
           "arrowhead": 0,
           "arrowwidth": 1
          },
          "autotypenumbers": "strict",
          "coloraxis": {
           "colorbar": {
            "outlinewidth": 0,
            "ticks": ""
           }
          },
          "colorscale": {
           "diverging": [
            [
             0,
             "#8e0152"
            ],
            [
             0.1,
             "#c51b7d"
            ],
            [
             0.2,
             "#de77ae"
            ],
            [
             0.3,
             "#f1b6da"
            ],
            [
             0.4,
             "#fde0ef"
            ],
            [
             0.5,
             "#f7f7f7"
            ],
            [
             0.6,
             "#e6f5d0"
            ],
            [
             0.7,
             "#b8e186"
            ],
            [
             0.8,
             "#7fbc41"
            ],
            [
             0.9,
             "#4d9221"
            ],
            [
             1,
             "#276419"
            ]
           ],
           "sequential": [
            [
             0,
             "#0d0887"
            ],
            [
             0.1111111111111111,
             "#46039f"
            ],
            [
             0.2222222222222222,
             "#7201a8"
            ],
            [
             0.3333333333333333,
             "#9c179e"
            ],
            [
             0.4444444444444444,
             "#bd3786"
            ],
            [
             0.5555555555555556,
             "#d8576b"
            ],
            [
             0.6666666666666666,
             "#ed7953"
            ],
            [
             0.7777777777777778,
             "#fb9f3a"
            ],
            [
             0.8888888888888888,
             "#fdca26"
            ],
            [
             1,
             "#f0f921"
            ]
           ],
           "sequentialminus": [
            [
             0,
             "#0d0887"
            ],
            [
             0.1111111111111111,
             "#46039f"
            ],
            [
             0.2222222222222222,
             "#7201a8"
            ],
            [
             0.3333333333333333,
             "#9c179e"
            ],
            [
             0.4444444444444444,
             "#bd3786"
            ],
            [
             0.5555555555555556,
             "#d8576b"
            ],
            [
             0.6666666666666666,
             "#ed7953"
            ],
            [
             0.7777777777777778,
             "#fb9f3a"
            ],
            [
             0.8888888888888888,
             "#fdca26"
            ],
            [
             1,
             "#f0f921"
            ]
           ]
          },
          "colorway": [
           "#636efa",
           "#EF553B",
           "#00cc96",
           "#ab63fa",
           "#FFA15A",
           "#19d3f3",
           "#FF6692",
           "#B6E880",
           "#FF97FF",
           "#FECB52"
          ],
          "font": {
           "color": "#2a3f5f"
          },
          "geo": {
           "bgcolor": "white",
           "lakecolor": "white",
           "landcolor": "#E5ECF6",
           "showlakes": true,
           "showland": true,
           "subunitcolor": "white"
          },
          "hoverlabel": {
           "align": "left"
          },
          "hovermode": "closest",
          "mapbox": {
           "style": "light"
          },
          "paper_bgcolor": "white",
          "plot_bgcolor": "#E5ECF6",
          "polar": {
           "angularaxis": {
            "gridcolor": "white",
            "linecolor": "white",
            "ticks": ""
           },
           "bgcolor": "#E5ECF6",
           "radialaxis": {
            "gridcolor": "white",
            "linecolor": "white",
            "ticks": ""
           }
          },
          "scene": {
           "xaxis": {
            "backgroundcolor": "#E5ECF6",
            "gridcolor": "white",
            "gridwidth": 2,
            "linecolor": "white",
            "showbackground": true,
            "ticks": "",
            "zerolinecolor": "white"
           },
           "yaxis": {
            "backgroundcolor": "#E5ECF6",
            "gridcolor": "white",
            "gridwidth": 2,
            "linecolor": "white",
            "showbackground": true,
            "ticks": "",
            "zerolinecolor": "white"
           },
           "zaxis": {
            "backgroundcolor": "#E5ECF6",
            "gridcolor": "white",
            "gridwidth": 2,
            "linecolor": "white",
            "showbackground": true,
            "ticks": "",
            "zerolinecolor": "white"
           }
          },
          "shapedefaults": {
           "line": {
            "color": "#2a3f5f"
           }
          },
          "ternary": {
           "aaxis": {
            "gridcolor": "white",
            "linecolor": "white",
            "ticks": ""
           },
           "baxis": {
            "gridcolor": "white",
            "linecolor": "white",
            "ticks": ""
           },
           "bgcolor": "#E5ECF6",
           "caxis": {
            "gridcolor": "white",
            "linecolor": "white",
            "ticks": ""
           }
          },
          "title": {
           "x": 0.05
          },
          "xaxis": {
           "automargin": true,
           "gridcolor": "white",
           "linecolor": "white",
           "ticks": "",
           "title": {
            "standoff": 15
           },
           "zerolinecolor": "white",
           "zerolinewidth": 2
          },
          "yaxis": {
           "automargin": true,
           "gridcolor": "white",
           "linecolor": "white",
           "ticks": "",
           "title": {
            "standoff": 15
           },
           "zerolinecolor": "white",
           "zerolinewidth": 2
          }
         }
        },
        "title": {
         "text": "Autocorrelation of GDP vs Autocorrelation of <br>Income Inequality (per Country) for Different Lag Values",
         "x": 0.5
        },
        "xaxis": {
         "range": [
          -1,
          1
         ],
         "title": {
          "text": "GDP Autocorrelation"
         }
        },
        "yaxis": {
         "range": [
          -1,
          1
         ],
         "title": {
          "text": "Income Inequality Autocorrelation"
         }
        }
       }
      },
      "text/html": [
       "<div>                            <div id=\"ee2093db-7fc1-40c1-b789-110f1e0c6b42\" class=\"plotly-graph-div\" style=\"height:525px; width:100%;\"></div>            <script type=\"text/javascript\">                require([\"plotly\"], function(Plotly) {                    window.PLOTLYENV=window.PLOTLYENV || {};                                    if (document.getElementById(\"ee2093db-7fc1-40c1-b789-110f1e0c6b42\")) {                    Plotly.newPlot(                        \"ee2093db-7fc1-40c1-b789-110f1e0c6b42\",                        [{\"marker\": {\"color\": \"rgb(15, 114, 121)\", \"line\": {\"color\": \"Blue\", \"width\": 2}, \"size\": 9}, \"mode\": \"markers\", \"name\": \"Lag = 1\", \"opacity\": 1.0, \"type\": \"scatter\", \"x\": [0.9929162388126868, 0.9933426772284569, 0.991607287903296, 0.9947179136890746, 0.9880083192989408, 0.9875353550960803, 0.9982567871806954, 0.9989836175235671, 0.9909624797952111, 0.9900906098581351, 0.9930164696868825, 0.999325983674869, 0.9885886784304001, 0.9710153026381708, 0.9877848892564057, 0.9820239421023768, 0.9839292604950326, 0.9357642903803811, 0.9922015437742264, 0.9888224371562093, 0.9968097385906922, 0.9740941516381765, 0.9960438226053145, 0.99207237145589, 0.9945532693058405, 0.9892287547809059, 0.9844857774633186, 0.9903638573798226, 0.9862842393137433, 0.9936697950893846, 0.9895908289651891, 0.982230434381454], \"y\": [-0.30471846218791176, 0.48023430514198734, 0.8896672026353005, 0.17951665501042502, 0.6458125636801998, 0.5645931666536281, 0.33555813753678176, 0.6633405925453868, 0.5547565274885683, 0.6127711110144035, 0.3413297172092869, 0.6897324815162176, 0.4738458367205582, 0.7179224795208049, 0.8698088530607464, 0.8237893064296705, 0.3928181744738459, 0.3356350213580277, 0.6428526840400363, 0.350132511266997, 0.7546000626198924, 0.5270596498928773, 0.9636085249284845, -0.03794930138276475, 0.5746267302327063, 0.8168020741983147, 0.8765411047594043, 0.666363604259566, 0.4548501041235741, 0.4095771139042091, 0.637198656201745, 0.6394388871329674]}, {\"marker\": {\"color\": \"rgb(13, 143, 129)\"}, \"mode\": \"markers\", \"name\": \"Lag = 2\", \"opacity\": 0.8, \"type\": \"scatter\", \"x\": [0.9884061473820106, 0.9904952206929523, 0.9828302213611921, 0.9873705863212376, 0.9578387483941212, 0.9729131977434824, 0.9962317160551436, 0.9981634501919496, 0.9694256856686078, 0.975155273261154, 0.9798693709525659, 0.998502719046965, 0.9729829804747616, 0.898002063131599, 0.960764335930289, 0.9647929578679557, 0.9547175056651446, 0.8315758050953125, 0.9802271080247149, 0.9744497741354611, 0.9931290449111702, 0.926751122100362, 0.9912950563726177, 0.9881762421803457, 0.9834745315959641, 0.9752271632762726, 0.97436125499972, 0.9657874261092751, 0.9597221286577297, 0.9837235096054233, 0.9737510368519618, 0.9647298155519526], \"y\": [0.20955607189266795, 0.30008508600599354, 0.8745308988977243, 0.26767916957378013, 0.09159224665329324, -0.1014071766081878, -0.25166309306849255, -0.7634906313621733, 0.04380435096284847, 0.014720416496229327, 0.17138072919706496, 0.35025047064798154, -0.25140470723873787, -0.043116034913806355, 0.9213294074779512, 0.8462450045187232, 0.15342663932447562, 0.03317423902540133, 0.6926022363167903, 0.0458990079738317, 0.48774916951668384, -0.15590672369056843, 0.8561787240142505, 0.04501286171921135, 0.5477570619853263, 0.5648205967918319, 0.7835856480979086, 0.07454286812406281, -0.03943444864581141, 0.34320850682919257, 0.12318748012284482, 0.7569684970987713]}, {\"marker\": {\"color\": \"rgb(57, 171, 126)\"}, \"mode\": \"markers\", \"name\": \"Lag = 3\", \"opacity\": 0.6, \"type\": \"scatter\", \"x\": [0.9871157678405708, 0.9889650976785301, 0.9746409614322493, 0.9818574367169217, 0.9169276498927327, 0.953600299145968, 0.9940388910098145, 0.9969984740721132, 0.9356300738687005, 0.9651213868843226, 0.9689655896107354, 0.9979995096016586, 0.9606726913814759, 0.7621120609489099, 0.9215245572990317, 0.9430004758045477, 0.9069089462052711, 0.6904818760467493, 0.970642653338129, 0.9671053407965603, 0.9924259244052148, 0.8969160972320281, 0.9851110867945139, 0.9808662413610892, 0.9710163826041295, 0.9633719285035731, 0.9658397990621495, 0.928685296041837, 0.929986738753123, 0.9711426905471675, 0.954547118337034, 0.9581078684273441], \"y\": [-0.05325783174056437, 0.22203356448681683, 0.7935000961901477, -0.207335017848814, -0.6812255095013102, -0.30185999404234864, -0.12643977058654052, -0.916308889137368, -0.3043653163873222, -0.34943849180449355, -0.2867080775347495, 0.07127746292144227, -0.24579216795393738, -0.49662957842706335, 0.8249365942816512, 0.45645314908082807, 0.097417556447724, -0.12695969993313494, 0.6304331051541614, -0.2773232491586277, 0.47845498218996996, -0.007882096856649737, 0.7254257467769731, 0.4060525992778924, 0.21376488139465452, 0.1949913085400477, 0.6088947421633344, -0.42241352115410485, -0.04805576285908754, 0.3527953466851599, -0.2961784852824359, 0.8017369799973177]}, {\"marker\": {\"color\": \"rgb(110, 197, 116)\"}, \"mode\": \"markers\", \"name\": \"Lag = 4\", \"opacity\": 0.4, \"type\": \"scatter\", \"x\": [0.9856779399592247, 0.9883586821720687, 0.9590208812381933, 0.9777967504436548, 0.8742492267482084, 0.9305237059442791, 0.9910458659735973, 0.9964521223145301, 0.8915721876773925, 0.9612677566305221, 0.9613413716330291, 0.9975394531355044, 0.9489040123016699, 0.5512692539405063, 0.8755776410777077, 0.9059872491147772, 0.8379978588706173, 0.5561800188646401, 0.9576936814718983, 0.9634911620273972, 0.9925923992090161, 0.888039775232667, 0.9757275494762073, 0.9754267030859763, 0.9605817222863451, 0.9566782890920772, 0.9585512177392211, 0.8826728831500172, 0.8988127450211234, 0.9538061036096062, 0.9314924411432062, 0.9591220765287939], \"y\": [-0.16916884138433994, 0.3692722559773899, 0.7361847993246902, -0.6585936726728303, -0.8612940529326019, 0.12964937641881505, 0.5079773393956623, -0.3499003424303723, -0.5982036518459766, -0.7623097460910961, -0.6021189952178435, 0.23684154284309358, -0.4600342540900206, -0.5257847013023106, 0.7950810504734859, -0.2997214000175327, -0.17766744256006453, -0.03196560501335628, 0.4081153820558309, -0.7163977268699715, 0.41656264909687063, -0.17645016337769762, 0.8948627238986426, -0.5804002044891031, -0.2710424622187181, -0.402863118071536, 0.7121111800667648, -0.7824224232050846, -0.29102061220585823, -0.16708520026080897, -0.8057529971521065, 0.2123525749258118]}, {\"marker\": {\"color\": \"rgb(169, 220, 103)\"}, \"mode\": \"markers\", \"name\": \"Lag = 5\", \"opacity\": 0.2, \"type\": \"scatter\", \"x\": [0.9849100954716702, 0.9872532107772328, 0.9440076029693951, 0.9696884207822201, 0.8373673075625212, 0.9091344385587194, 0.9862860650341916, 0.9959455217051948, 0.84545364128009, 0.9591943122369905, 0.9566979589480341, 0.9968455483934219, 0.9415369721253041, 0.30347915704436756, 0.8288268739033243, 0.8656286697721394, 0.7447448358374421, 0.4352630602422235, 0.939111856106934, 0.9629195819789262, 0.9917948776589192, 0.8852696014191513, 0.9741097137855095, 0.9648347118931022, 0.952282994347879, 0.9489062839585442, 0.9532729838029561, 0.8393201384720252, 0.8759386675014568, 0.9325094007181755, 0.9089235633139202, 0.9522038618748522], \"y\": [-0.07297988730128607, 0.6405873074417328, 0.6634580816961406, -0.4167374227841116, -0.6556051693827311, 0.47016076899998394, 0.3742263773247954, 0.5250055820971609, -0.726016998594156, -0.774578822780671, -0.643115286385537, 0.4972349095028309, -0.9281402204008341, -0.7471759934381246, 0.82683261347445, -0.30047118305443943, -0.783357430027839, -0.5796939789888511, 0.7910533369242724, 0.066713380748235, 0.7260399783561703, -0.06924041498854487, 0.9239865723952452, 0.058893093429334305, -0.39634038043130393, -0.7639352087765096, 0.9866725338916735, -0.6043281112000799, -0.5056250804931152, -0.09871666835337463, -0.868557654187502, 0.823086032122774]}],                        {\"template\": {\"data\": {\"bar\": [{\"error_x\": {\"color\": \"#2a3f5f\"}, \"error_y\": {\"color\": \"#2a3f5f\"}, \"marker\": {\"line\": {\"color\": \"#E5ECF6\", \"width\": 0.5}}, \"type\": \"bar\"}], \"barpolar\": [{\"marker\": {\"line\": {\"color\": \"#E5ECF6\", \"width\": 0.5}}, \"type\": \"barpolar\"}], \"carpet\": [{\"aaxis\": {\"endlinecolor\": \"#2a3f5f\", \"gridcolor\": \"white\", \"linecolor\": \"white\", \"minorgridcolor\": \"white\", \"startlinecolor\": \"#2a3f5f\"}, \"baxis\": {\"endlinecolor\": \"#2a3f5f\", \"gridcolor\": \"white\", \"linecolor\": \"white\", \"minorgridcolor\": \"white\", \"startlinecolor\": \"#2a3f5f\"}, \"type\": \"carpet\"}], \"choropleth\": [{\"colorbar\": {\"outlinewidth\": 0, \"ticks\": \"\"}, \"type\": \"choropleth\"}], \"contour\": [{\"colorbar\": {\"outlinewidth\": 0, \"ticks\": \"\"}, \"colorscale\": [[0.0, \"#0d0887\"], [0.1111111111111111, \"#46039f\"], [0.2222222222222222, \"#7201a8\"], [0.3333333333333333, \"#9c179e\"], [0.4444444444444444, \"#bd3786\"], [0.5555555555555556, \"#d8576b\"], [0.6666666666666666, \"#ed7953\"], [0.7777777777777778, \"#fb9f3a\"], [0.8888888888888888, \"#fdca26\"], [1.0, \"#f0f921\"]], \"type\": \"contour\"}], \"contourcarpet\": [{\"colorbar\": {\"outlinewidth\": 0, \"ticks\": \"\"}, \"type\": \"contourcarpet\"}], \"heatmap\": [{\"colorbar\": {\"outlinewidth\": 0, \"ticks\": \"\"}, \"colorscale\": [[0.0, \"#0d0887\"], [0.1111111111111111, \"#46039f\"], [0.2222222222222222, \"#7201a8\"], [0.3333333333333333, \"#9c179e\"], [0.4444444444444444, \"#bd3786\"], [0.5555555555555556, \"#d8576b\"], [0.6666666666666666, \"#ed7953\"], [0.7777777777777778, \"#fb9f3a\"], [0.8888888888888888, \"#fdca26\"], [1.0, \"#f0f921\"]], \"type\": \"heatmap\"}], \"heatmapgl\": [{\"colorbar\": {\"outlinewidth\": 0, \"ticks\": \"\"}, \"colorscale\": [[0.0, \"#0d0887\"], [0.1111111111111111, \"#46039f\"], [0.2222222222222222, \"#7201a8\"], [0.3333333333333333, \"#9c179e\"], [0.4444444444444444, \"#bd3786\"], [0.5555555555555556, \"#d8576b\"], [0.6666666666666666, \"#ed7953\"], [0.7777777777777778, \"#fb9f3a\"], [0.8888888888888888, \"#fdca26\"], [1.0, \"#f0f921\"]], \"type\": \"heatmapgl\"}], \"histogram\": [{\"marker\": {\"colorbar\": {\"outlinewidth\": 0, \"ticks\": \"\"}}, \"type\": \"histogram\"}], \"histogram2d\": [{\"colorbar\": {\"outlinewidth\": 0, \"ticks\": \"\"}, \"colorscale\": [[0.0, \"#0d0887\"], [0.1111111111111111, \"#46039f\"], [0.2222222222222222, \"#7201a8\"], [0.3333333333333333, \"#9c179e\"], [0.4444444444444444, \"#bd3786\"], [0.5555555555555556, \"#d8576b\"], [0.6666666666666666, \"#ed7953\"], [0.7777777777777778, \"#fb9f3a\"], [0.8888888888888888, \"#fdca26\"], [1.0, \"#f0f921\"]], \"type\": \"histogram2d\"}], \"histogram2dcontour\": [{\"colorbar\": {\"outlinewidth\": 0, \"ticks\": \"\"}, \"colorscale\": [[0.0, \"#0d0887\"], [0.1111111111111111, \"#46039f\"], [0.2222222222222222, \"#7201a8\"], [0.3333333333333333, \"#9c179e\"], [0.4444444444444444, \"#bd3786\"], [0.5555555555555556, \"#d8576b\"], [0.6666666666666666, \"#ed7953\"], [0.7777777777777778, \"#fb9f3a\"], [0.8888888888888888, \"#fdca26\"], [1.0, \"#f0f921\"]], \"type\": \"histogram2dcontour\"}], \"mesh3d\": [{\"colorbar\": {\"outlinewidth\": 0, \"ticks\": \"\"}, \"type\": \"mesh3d\"}], \"parcoords\": [{\"line\": {\"colorbar\": {\"outlinewidth\": 0, \"ticks\": \"\"}}, \"type\": \"parcoords\"}], \"pie\": [{\"automargin\": true, \"type\": \"pie\"}], \"scatter\": [{\"marker\": {\"colorbar\": {\"outlinewidth\": 0, \"ticks\": \"\"}}, \"type\": \"scatter\"}], \"scatter3d\": [{\"line\": {\"colorbar\": {\"outlinewidth\": 0, \"ticks\": \"\"}}, \"marker\": {\"colorbar\": {\"outlinewidth\": 0, \"ticks\": \"\"}}, \"type\": \"scatter3d\"}], \"scattercarpet\": [{\"marker\": {\"colorbar\": {\"outlinewidth\": 0, \"ticks\": \"\"}}, \"type\": \"scattercarpet\"}], \"scattergeo\": [{\"marker\": {\"colorbar\": {\"outlinewidth\": 0, \"ticks\": \"\"}}, \"type\": \"scattergeo\"}], \"scattergl\": [{\"marker\": {\"colorbar\": {\"outlinewidth\": 0, \"ticks\": \"\"}}, \"type\": \"scattergl\"}], \"scattermapbox\": [{\"marker\": {\"colorbar\": {\"outlinewidth\": 0, \"ticks\": \"\"}}, \"type\": \"scattermapbox\"}], \"scatterpolar\": [{\"marker\": {\"colorbar\": {\"outlinewidth\": 0, \"ticks\": \"\"}}, \"type\": \"scatterpolar\"}], \"scatterpolargl\": [{\"marker\": {\"colorbar\": {\"outlinewidth\": 0, \"ticks\": \"\"}}, \"type\": \"scatterpolargl\"}], \"scatterternary\": [{\"marker\": {\"colorbar\": {\"outlinewidth\": 0, \"ticks\": \"\"}}, \"type\": \"scatterternary\"}], \"surface\": [{\"colorbar\": {\"outlinewidth\": 0, \"ticks\": \"\"}, \"colorscale\": [[0.0, \"#0d0887\"], [0.1111111111111111, \"#46039f\"], [0.2222222222222222, \"#7201a8\"], [0.3333333333333333, \"#9c179e\"], [0.4444444444444444, \"#bd3786\"], [0.5555555555555556, \"#d8576b\"], [0.6666666666666666, \"#ed7953\"], [0.7777777777777778, \"#fb9f3a\"], [0.8888888888888888, \"#fdca26\"], [1.0, \"#f0f921\"]], \"type\": \"surface\"}], \"table\": [{\"cells\": {\"fill\": {\"color\": \"#EBF0F8\"}, \"line\": {\"color\": \"white\"}}, \"header\": {\"fill\": {\"color\": \"#C8D4E3\"}, \"line\": {\"color\": \"white\"}}, \"type\": \"table\"}]}, \"layout\": {\"annotationdefaults\": {\"arrowcolor\": \"#2a3f5f\", \"arrowhead\": 0, \"arrowwidth\": 1}, \"autotypenumbers\": \"strict\", \"coloraxis\": {\"colorbar\": {\"outlinewidth\": 0, \"ticks\": \"\"}}, \"colorscale\": {\"diverging\": [[0, \"#8e0152\"], [0.1, \"#c51b7d\"], [0.2, \"#de77ae\"], [0.3, \"#f1b6da\"], [0.4, \"#fde0ef\"], [0.5, \"#f7f7f7\"], [0.6, \"#e6f5d0\"], [0.7, \"#b8e186\"], [0.8, \"#7fbc41\"], [0.9, \"#4d9221\"], [1, \"#276419\"]], \"sequential\": [[0.0, \"#0d0887\"], [0.1111111111111111, \"#46039f\"], [0.2222222222222222, \"#7201a8\"], [0.3333333333333333, \"#9c179e\"], [0.4444444444444444, \"#bd3786\"], [0.5555555555555556, \"#d8576b\"], [0.6666666666666666, \"#ed7953\"], [0.7777777777777778, \"#fb9f3a\"], [0.8888888888888888, \"#fdca26\"], [1.0, \"#f0f921\"]], \"sequentialminus\": [[0.0, \"#0d0887\"], [0.1111111111111111, \"#46039f\"], [0.2222222222222222, \"#7201a8\"], [0.3333333333333333, \"#9c179e\"], [0.4444444444444444, \"#bd3786\"], [0.5555555555555556, \"#d8576b\"], [0.6666666666666666, \"#ed7953\"], [0.7777777777777778, \"#fb9f3a\"], [0.8888888888888888, \"#fdca26\"], [1.0, \"#f0f921\"]]}, \"colorway\": [\"#636efa\", \"#EF553B\", \"#00cc96\", \"#ab63fa\", \"#FFA15A\", \"#19d3f3\", \"#FF6692\", \"#B6E880\", \"#FF97FF\", \"#FECB52\"], \"font\": {\"color\": \"#2a3f5f\"}, \"geo\": {\"bgcolor\": \"white\", \"lakecolor\": \"white\", \"landcolor\": \"#E5ECF6\", \"showlakes\": true, \"showland\": true, \"subunitcolor\": \"white\"}, \"hoverlabel\": {\"align\": \"left\"}, \"hovermode\": \"closest\", \"mapbox\": {\"style\": \"light\"}, \"paper_bgcolor\": \"white\", \"plot_bgcolor\": \"#E5ECF6\", \"polar\": {\"angularaxis\": {\"gridcolor\": \"white\", \"linecolor\": \"white\", \"ticks\": \"\"}, \"bgcolor\": \"#E5ECF6\", \"radialaxis\": {\"gridcolor\": \"white\", \"linecolor\": \"white\", \"ticks\": \"\"}}, \"scene\": {\"xaxis\": {\"backgroundcolor\": \"#E5ECF6\", \"gridcolor\": \"white\", \"gridwidth\": 2, \"linecolor\": \"white\", \"showbackground\": true, \"ticks\": \"\", \"zerolinecolor\": \"white\"}, \"yaxis\": {\"backgroundcolor\": \"#E5ECF6\", \"gridcolor\": \"white\", \"gridwidth\": 2, \"linecolor\": \"white\", \"showbackground\": true, \"ticks\": \"\", \"zerolinecolor\": \"white\"}, \"zaxis\": {\"backgroundcolor\": \"#E5ECF6\", \"gridcolor\": \"white\", \"gridwidth\": 2, \"linecolor\": \"white\", \"showbackground\": true, \"ticks\": \"\", \"zerolinecolor\": \"white\"}}, \"shapedefaults\": {\"line\": {\"color\": \"#2a3f5f\"}}, \"ternary\": {\"aaxis\": {\"gridcolor\": \"white\", \"linecolor\": \"white\", \"ticks\": \"\"}, \"baxis\": {\"gridcolor\": \"white\", \"linecolor\": \"white\", \"ticks\": \"\"}, \"bgcolor\": \"#E5ECF6\", \"caxis\": {\"gridcolor\": \"white\", \"linecolor\": \"white\", \"ticks\": \"\"}}, \"title\": {\"x\": 0.05}, \"xaxis\": {\"automargin\": true, \"gridcolor\": \"white\", \"linecolor\": \"white\", \"ticks\": \"\", \"title\": {\"standoff\": 15}, \"zerolinecolor\": \"white\", \"zerolinewidth\": 2}, \"yaxis\": {\"automargin\": true, \"gridcolor\": \"white\", \"linecolor\": \"white\", \"ticks\": \"\", \"title\": {\"standoff\": 15}, \"zerolinecolor\": \"white\", \"zerolinewidth\": 2}}}, \"title\": {\"text\": \"Autocorrelation of GDP vs Autocorrelation of <br>Income Inequality (per Country) for Different Lag Values\", \"x\": 0.5}, \"xaxis\": {\"range\": [-1, 1], \"title\": {\"text\": \"GDP Autocorrelation\"}}, \"yaxis\": {\"range\": [-1, 1], \"title\": {\"text\": \"Income Inequality Autocorrelation\"}}},                        {\"responsive\": true}                    ).then(function(){\n",
       "                            \n",
       "var gd = document.getElementById('ee2093db-7fc1-40c1-b789-110f1e0c6b42');\n",
       "var x = new MutationObserver(function (mutations, observer) {{\n",
       "        var display = window.getComputedStyle(gd).display;\n",
       "        if (!display || display === 'none') {{\n",
       "            console.log([gd, 'removed!']);\n",
       "            Plotly.purge(gd);\n",
       "            observer.disconnect();\n",
       "        }}\n",
       "}});\n",
       "\n",
       "// Listen for the removal of the full notebook cells\n",
       "var notebookContainer = gd.closest('#notebook-container');\n",
       "if (notebookContainer) {{\n",
       "    x.observe(notebookContainer, {childList: true});\n",
       "}}\n",
       "\n",
       "// Listen for the clearing of the current output cell\n",
       "var outputEl = gd.closest('.output');\n",
       "if (outputEl) {{\n",
       "    x.observe(outputEl, {childList: true});\n",
       "}}\n",
       "\n",
       "                        })                };                });            </script>        </div>"
      ]
     },
     "metadata": {},
     "output_type": "display_data"
    },
    {
     "data": {
      "application/vnd.plotly.v1+json": {
       "config": {
        "plotlyServerURL": "https://plot.ly"
       },
       "data": [
        {
         "marker": {
          "color": "rgb(15, 114, 121)",
          "line": {
           "color": "Blue",
           "width": 2
          },
          "size": 9
         },
         "mode": "markers",
         "name": "Lag = 1",
         "opacity": 1,
         "type": "scatter",
         "x": [
          0.7564142760317699,
          0.4827162599480111,
          0.9763294733965735,
          0.692497917646872,
          0.9106652623250543,
          0.8900262450129283,
          0.6702934069944856,
          0.8562070227691037,
          0.3145820276590971,
          0.9115666805446735,
          0.8837924283208126,
          0.7981600865799925,
          0.9589980182377172,
          0.9546323547546568,
          0.6624646718987345,
          0.7615708331256992,
          0.8753848925370877,
          0.4668834635959775,
          0.971028509749334,
          0.9235578336730096,
          0.6176917652482103,
          0.9783719573117837,
          0.385585696160985,
          0.27727659053512244,
          0.9389244596361843,
          0.7908449813864004,
          0.9644595297105014,
          0.3545425650632407,
          0.9733347357160748,
          0.8033597750120434,
          0.6534183375007304,
          0.8786842122486934
         ],
         "y": [
          0.9929162388126868,
          0.9933426772284569,
          0.991607287903296,
          0.9947179136890746,
          0.9880083192989408,
          0.9875353550960803,
          0.9982567871806954,
          0.9989836175235671,
          0.9909624797952111,
          0.9900906098581351,
          0.9930164696868825,
          0.999325983674869,
          0.9885886784304001,
          0.9710153026381708,
          0.9877848892564057,
          0.9820239421023768,
          0.9839292604950326,
          0.9357642903803811,
          0.9922015437742264,
          0.9888224371562093,
          0.9968097385906922,
          0.9740941516381765,
          0.9960438226053145,
          0.99207237145589,
          0.9945532693058405,
          0.9892287547809059,
          0.9844857774633186,
          0.9903638573798226,
          0.9862842393137433,
          0.9936697950893846,
          0.9895908289651891,
          0.982230434381454
         ]
        },
        {
         "marker": {
          "color": "rgb(13, 143, 129)"
         },
         "mode": "markers",
         "name": "Lag = 2",
         "opacity": 0.8,
         "type": "scatter",
         "x": [
          0.5139812868236856,
          -0.028157667297367028,
          0.971853672152066,
          0.10278229001210525,
          0.7336318679624556,
          0.6913915403483009,
          0.3077430830695456,
          0.7211300633751325,
          -0.11871243652303164,
          0.8326197441095742,
          0.7322280581630967,
          0.6515239919209705,
          0.9480420574718532,
          0.8950214754027023,
          0.11681009933729229,
          0.39508865168434987,
          0.7808802840319244,
          -0.18126500639640009,
          0.9277387546873281,
          0.8342053275698874,
          0.0634321085835887,
          0.9655430518770783,
          0.37165899589984175,
          -0.20080453959899985,
          0.853751652275267,
          0.6077678738487917,
          0.8875334480269543,
          -0.28934510067031255,
          0.9135608262085464,
          0.44376286290786165,
          0.3138619066631043,
          0.7388317540874897
         ],
         "y": [
          0.9884061473820106,
          0.9904952206929523,
          0.9828302213611921,
          0.9873705863212376,
          0.9578387483941212,
          0.9729131977434824,
          0.9962317160551436,
          0.9981634501919496,
          0.9694256856686078,
          0.975155273261154,
          0.9798693709525659,
          0.998502719046965,
          0.9729829804747616,
          0.898002063131599,
          0.960764335930289,
          0.9647929578679557,
          0.9547175056651446,
          0.8315758050953125,
          0.9802271080247149,
          0.9744497741354611,
          0.9931290449111702,
          0.926751122100362,
          0.9912950563726177,
          0.9881762421803457,
          0.9834745315959641,
          0.9752271632762726,
          0.97436125499972,
          0.9657874261092751,
          0.9597221286577297,
          0.9837235096054233,
          0.9737510368519618,
          0.9647298155519526
         ]
        },
        {
         "marker": {
          "color": "rgb(57, 171, 126)"
         },
         "mode": "markers",
         "name": "Lag = 3",
         "opacity": 0.6,
         "type": "scatter",
         "x": [
          0.3739197873222303,
          -0.40986628158155003,
          0.9620310869320589,
          -0.2721417134395719,
          0.5614543539614503,
          0.44693737862544186,
          0.10139164185365653,
          0.5760213712692875,
          0.10877146666166349,
          0.8259452243956883,
          0.6553772430947004,
          0.5849333325312339,
          0.8733698317159745,
          0.8315727533564182,
          0.07183064954943269,
          -0.15113586300253865,
          0.700472174331727,
          -0.4438993726468584,
          0.8810275953953333,
          0.7842866627066892,
          -0.4346391226041728,
          0.9618137850384704,
          -0.14796215066580792,
          -0.45862710070641133,
          0.7638531521596915,
          0.394121991271756,
          0.7917474520481141,
          -0.0562808665810401,
          0.8228650510514273,
          -0.05238980391830489,
          0.08067712876960872,
          0.7439706791571308
         ],
         "y": [
          0.9871157678405708,
          0.9889650976785301,
          0.9746409614322493,
          0.9818574367169217,
          0.9169276498927327,
          0.953600299145968,
          0.9940388910098145,
          0.9969984740721132,
          0.9356300738687005,
          0.9651213868843226,
          0.9689655896107354,
          0.9979995096016586,
          0.9606726913814759,
          0.7621120609489099,
          0.9215245572990317,
          0.9430004758045477,
          0.9069089462052711,
          0.6904818760467493,
          0.970642653338129,
          0.9671053407965603,
          0.9924259244052148,
          0.8969160972320281,
          0.9851110867945139,
          0.9808662413610892,
          0.9710163826041295,
          0.9633719285035731,
          0.9658397990621495,
          0.928685296041837,
          0.929986738753123,
          0.9711426905471675,
          0.954547118337034,
          0.9581078684273441
         ]
        },
        {
         "marker": {
          "color": "rgb(110, 197, 116)"
         },
         "mode": "markers",
         "name": "Lag = 4",
         "opacity": 0.4,
         "type": "scatter",
         "x": [
          0.08220102355138743,
          -0.4987531971754503,
          0.9619576484390795,
          -0.3647571620909008,
          0.44643754518748846,
          0.3968680330054955,
          -0.1903481018020612,
          0.5635643982587394,
          -0.2066995889007909,
          0.7633867148231686,
          0.520508047219386,
          0.6750134677196691,
          0.805388142689218,
          0.7764131259374992,
          0.5626976282052678,
          -0.5783435768149798,
          0.5767958172394815,
          -0.5953813087148502,
          0.8385179911282838,
          0.7799651251144608,
          -0.5507806949345451,
          0.9477071285824721,
          -0.010580486591534854,
          -0.5244318961050929,
          0.753904735766933,
          0.34044563888586704,
          0.7319179346001291,
          -0.07290308635077422,
          0.7758835508133802,
          -0.41699739958286275,
          -0.6352209398471669,
          0.7370780323364309
         ],
         "y": [
          0.9856779399592247,
          0.9883586821720687,
          0.9590208812381933,
          0.9777967504436548,
          0.8742492267482084,
          0.9305237059442791,
          0.9910458659735973,
          0.9964521223145301,
          0.8915721876773925,
          0.9612677566305221,
          0.9613413716330291,
          0.9975394531355044,
          0.9489040123016699,
          0.5512692539405063,
          0.8755776410777077,
          0.9059872491147772,
          0.8379978588706173,
          0.5561800188646401,
          0.9576936814718983,
          0.9634911620273972,
          0.9925923992090161,
          0.888039775232667,
          0.9757275494762073,
          0.9754267030859763,
          0.9605817222863451,
          0.9566782890920772,
          0.9585512177392211,
          0.8826728831500172,
          0.8988127450211234,
          0.9538061036096062,
          0.9314924411432062,
          0.9591220765287939
         ]
        },
        {
         "marker": {
          "color": "rgb(169, 220, 103)"
         },
         "mode": "markers",
         "name": "Lag = 5",
         "opacity": 0.2,
         "type": "scatter",
         "x": [
          -0.4139234283766781,
          -0.45459273098032554,
          0.9255077474188994,
          -0.16785051780718424,
          0.33300832365386124,
          0.4271880417422346,
          -0.2660662961733167,
          0.5445021007591926,
          -0.16050216572245501,
          0.7039549708260993,
          0.307897109622405,
          0.5507505304612806,
          0.8082600060951909,
          0.8312508088391531,
          0.7480004797856669,
          -0.7950841598343791,
          0.7257305093237458,
          -0.7636145146626174,
          0.805423374367558,
          0.7762199145533184,
          -0.5158854291486065,
          0.941575735762423,
          -0.16714079846532764,
          0.2291062148863297,
          0.8498068793233725,
          0.4267363186321061,
          0.7395610467054876,
          -0.07730280646598588,
          0.7776324792804472,
          -0.6348858205063874,
          -0.4634496029812545,
          0.6012724944300426
         ],
         "y": [
          0.9849100954716702,
          0.9872532107772328,
          0.9440076029693951,
          0.9696884207822201,
          0.8373673075625212,
          0.9091344385587194,
          0.9862860650341916,
          0.9959455217051948,
          0.84545364128009,
          0.9591943122369905,
          0.9566979589480341,
          0.9968455483934219,
          0.9415369721253041,
          0.30347915704436756,
          0.8288268739033243,
          0.8656286697721394,
          0.7447448358374421,
          0.4352630602422235,
          0.939111856106934,
          0.9629195819789262,
          0.9917948776589192,
          0.8852696014191513,
          0.9741097137855095,
          0.9648347118931022,
          0.952282994347879,
          0.9489062839585442,
          0.9532729838029561,
          0.8393201384720252,
          0.8759386675014568,
          0.9325094007181755,
          0.9089235633139202,
          0.9522038618748522
         ]
        }
       ],
       "layout": {
        "template": {
         "data": {
          "bar": [
           {
            "error_x": {
             "color": "#2a3f5f"
            },
            "error_y": {
             "color": "#2a3f5f"
            },
            "marker": {
             "line": {
              "color": "#E5ECF6",
              "width": 0.5
             }
            },
            "type": "bar"
           }
          ],
          "barpolar": [
           {
            "marker": {
             "line": {
              "color": "#E5ECF6",
              "width": 0.5
             }
            },
            "type": "barpolar"
           }
          ],
          "carpet": [
           {
            "aaxis": {
             "endlinecolor": "#2a3f5f",
             "gridcolor": "white",
             "linecolor": "white",
             "minorgridcolor": "white",
             "startlinecolor": "#2a3f5f"
            },
            "baxis": {
             "endlinecolor": "#2a3f5f",
             "gridcolor": "white",
             "linecolor": "white",
             "minorgridcolor": "white",
             "startlinecolor": "#2a3f5f"
            },
            "type": "carpet"
           }
          ],
          "choropleth": [
           {
            "colorbar": {
             "outlinewidth": 0,
             "ticks": ""
            },
            "type": "choropleth"
           }
          ],
          "contour": [
           {
            "colorbar": {
             "outlinewidth": 0,
             "ticks": ""
            },
            "colorscale": [
             [
              0,
              "#0d0887"
             ],
             [
              0.1111111111111111,
              "#46039f"
             ],
             [
              0.2222222222222222,
              "#7201a8"
             ],
             [
              0.3333333333333333,
              "#9c179e"
             ],
             [
              0.4444444444444444,
              "#bd3786"
             ],
             [
              0.5555555555555556,
              "#d8576b"
             ],
             [
              0.6666666666666666,
              "#ed7953"
             ],
             [
              0.7777777777777778,
              "#fb9f3a"
             ],
             [
              0.8888888888888888,
              "#fdca26"
             ],
             [
              1,
              "#f0f921"
             ]
            ],
            "type": "contour"
           }
          ],
          "contourcarpet": [
           {
            "colorbar": {
             "outlinewidth": 0,
             "ticks": ""
            },
            "type": "contourcarpet"
           }
          ],
          "heatmap": [
           {
            "colorbar": {
             "outlinewidth": 0,
             "ticks": ""
            },
            "colorscale": [
             [
              0,
              "#0d0887"
             ],
             [
              0.1111111111111111,
              "#46039f"
             ],
             [
              0.2222222222222222,
              "#7201a8"
             ],
             [
              0.3333333333333333,
              "#9c179e"
             ],
             [
              0.4444444444444444,
              "#bd3786"
             ],
             [
              0.5555555555555556,
              "#d8576b"
             ],
             [
              0.6666666666666666,
              "#ed7953"
             ],
             [
              0.7777777777777778,
              "#fb9f3a"
             ],
             [
              0.8888888888888888,
              "#fdca26"
             ],
             [
              1,
              "#f0f921"
             ]
            ],
            "type": "heatmap"
           }
          ],
          "heatmapgl": [
           {
            "colorbar": {
             "outlinewidth": 0,
             "ticks": ""
            },
            "colorscale": [
             [
              0,
              "#0d0887"
             ],
             [
              0.1111111111111111,
              "#46039f"
             ],
             [
              0.2222222222222222,
              "#7201a8"
             ],
             [
              0.3333333333333333,
              "#9c179e"
             ],
             [
              0.4444444444444444,
              "#bd3786"
             ],
             [
              0.5555555555555556,
              "#d8576b"
             ],
             [
              0.6666666666666666,
              "#ed7953"
             ],
             [
              0.7777777777777778,
              "#fb9f3a"
             ],
             [
              0.8888888888888888,
              "#fdca26"
             ],
             [
              1,
              "#f0f921"
             ]
            ],
            "type": "heatmapgl"
           }
          ],
          "histogram": [
           {
            "marker": {
             "colorbar": {
              "outlinewidth": 0,
              "ticks": ""
             }
            },
            "type": "histogram"
           }
          ],
          "histogram2d": [
           {
            "colorbar": {
             "outlinewidth": 0,
             "ticks": ""
            },
            "colorscale": [
             [
              0,
              "#0d0887"
             ],
             [
              0.1111111111111111,
              "#46039f"
             ],
             [
              0.2222222222222222,
              "#7201a8"
             ],
             [
              0.3333333333333333,
              "#9c179e"
             ],
             [
              0.4444444444444444,
              "#bd3786"
             ],
             [
              0.5555555555555556,
              "#d8576b"
             ],
             [
              0.6666666666666666,
              "#ed7953"
             ],
             [
              0.7777777777777778,
              "#fb9f3a"
             ],
             [
              0.8888888888888888,
              "#fdca26"
             ],
             [
              1,
              "#f0f921"
             ]
            ],
            "type": "histogram2d"
           }
          ],
          "histogram2dcontour": [
           {
            "colorbar": {
             "outlinewidth": 0,
             "ticks": ""
            },
            "colorscale": [
             [
              0,
              "#0d0887"
             ],
             [
              0.1111111111111111,
              "#46039f"
             ],
             [
              0.2222222222222222,
              "#7201a8"
             ],
             [
              0.3333333333333333,
              "#9c179e"
             ],
             [
              0.4444444444444444,
              "#bd3786"
             ],
             [
              0.5555555555555556,
              "#d8576b"
             ],
             [
              0.6666666666666666,
              "#ed7953"
             ],
             [
              0.7777777777777778,
              "#fb9f3a"
             ],
             [
              0.8888888888888888,
              "#fdca26"
             ],
             [
              1,
              "#f0f921"
             ]
            ],
            "type": "histogram2dcontour"
           }
          ],
          "mesh3d": [
           {
            "colorbar": {
             "outlinewidth": 0,
             "ticks": ""
            },
            "type": "mesh3d"
           }
          ],
          "parcoords": [
           {
            "line": {
             "colorbar": {
              "outlinewidth": 0,
              "ticks": ""
             }
            },
            "type": "parcoords"
           }
          ],
          "pie": [
           {
            "automargin": true,
            "type": "pie"
           }
          ],
          "scatter": [
           {
            "marker": {
             "colorbar": {
              "outlinewidth": 0,
              "ticks": ""
             }
            },
            "type": "scatter"
           }
          ],
          "scatter3d": [
           {
            "line": {
             "colorbar": {
              "outlinewidth": 0,
              "ticks": ""
             }
            },
            "marker": {
             "colorbar": {
              "outlinewidth": 0,
              "ticks": ""
             }
            },
            "type": "scatter3d"
           }
          ],
          "scattercarpet": [
           {
            "marker": {
             "colorbar": {
              "outlinewidth": 0,
              "ticks": ""
             }
            },
            "type": "scattercarpet"
           }
          ],
          "scattergeo": [
           {
            "marker": {
             "colorbar": {
              "outlinewidth": 0,
              "ticks": ""
             }
            },
            "type": "scattergeo"
           }
          ],
          "scattergl": [
           {
            "marker": {
             "colorbar": {
              "outlinewidth": 0,
              "ticks": ""
             }
            },
            "type": "scattergl"
           }
          ],
          "scattermapbox": [
           {
            "marker": {
             "colorbar": {
              "outlinewidth": 0,
              "ticks": ""
             }
            },
            "type": "scattermapbox"
           }
          ],
          "scatterpolar": [
           {
            "marker": {
             "colorbar": {
              "outlinewidth": 0,
              "ticks": ""
             }
            },
            "type": "scatterpolar"
           }
          ],
          "scatterpolargl": [
           {
            "marker": {
             "colorbar": {
              "outlinewidth": 0,
              "ticks": ""
             }
            },
            "type": "scatterpolargl"
           }
          ],
          "scatterternary": [
           {
            "marker": {
             "colorbar": {
              "outlinewidth": 0,
              "ticks": ""
             }
            },
            "type": "scatterternary"
           }
          ],
          "surface": [
           {
            "colorbar": {
             "outlinewidth": 0,
             "ticks": ""
            },
            "colorscale": [
             [
              0,
              "#0d0887"
             ],
             [
              0.1111111111111111,
              "#46039f"
             ],
             [
              0.2222222222222222,
              "#7201a8"
             ],
             [
              0.3333333333333333,
              "#9c179e"
             ],
             [
              0.4444444444444444,
              "#bd3786"
             ],
             [
              0.5555555555555556,
              "#d8576b"
             ],
             [
              0.6666666666666666,
              "#ed7953"
             ],
             [
              0.7777777777777778,
              "#fb9f3a"
             ],
             [
              0.8888888888888888,
              "#fdca26"
             ],
             [
              1,
              "#f0f921"
             ]
            ],
            "type": "surface"
           }
          ],
          "table": [
           {
            "cells": {
             "fill": {
              "color": "#EBF0F8"
             },
             "line": {
              "color": "white"
             }
            },
            "header": {
             "fill": {
              "color": "#C8D4E3"
             },
             "line": {
              "color": "white"
             }
            },
            "type": "table"
           }
          ]
         },
         "layout": {
          "annotationdefaults": {
           "arrowcolor": "#2a3f5f",
           "arrowhead": 0,
           "arrowwidth": 1
          },
          "autotypenumbers": "strict",
          "coloraxis": {
           "colorbar": {
            "outlinewidth": 0,
            "ticks": ""
           }
          },
          "colorscale": {
           "diverging": [
            [
             0,
             "#8e0152"
            ],
            [
             0.1,
             "#c51b7d"
            ],
            [
             0.2,
             "#de77ae"
            ],
            [
             0.3,
             "#f1b6da"
            ],
            [
             0.4,
             "#fde0ef"
            ],
            [
             0.5,
             "#f7f7f7"
            ],
            [
             0.6,
             "#e6f5d0"
            ],
            [
             0.7,
             "#b8e186"
            ],
            [
             0.8,
             "#7fbc41"
            ],
            [
             0.9,
             "#4d9221"
            ],
            [
             1,
             "#276419"
            ]
           ],
           "sequential": [
            [
             0,
             "#0d0887"
            ],
            [
             0.1111111111111111,
             "#46039f"
            ],
            [
             0.2222222222222222,
             "#7201a8"
            ],
            [
             0.3333333333333333,
             "#9c179e"
            ],
            [
             0.4444444444444444,
             "#bd3786"
            ],
            [
             0.5555555555555556,
             "#d8576b"
            ],
            [
             0.6666666666666666,
             "#ed7953"
            ],
            [
             0.7777777777777778,
             "#fb9f3a"
            ],
            [
             0.8888888888888888,
             "#fdca26"
            ],
            [
             1,
             "#f0f921"
            ]
           ],
           "sequentialminus": [
            [
             0,
             "#0d0887"
            ],
            [
             0.1111111111111111,
             "#46039f"
            ],
            [
             0.2222222222222222,
             "#7201a8"
            ],
            [
             0.3333333333333333,
             "#9c179e"
            ],
            [
             0.4444444444444444,
             "#bd3786"
            ],
            [
             0.5555555555555556,
             "#d8576b"
            ],
            [
             0.6666666666666666,
             "#ed7953"
            ],
            [
             0.7777777777777778,
             "#fb9f3a"
            ],
            [
             0.8888888888888888,
             "#fdca26"
            ],
            [
             1,
             "#f0f921"
            ]
           ]
          },
          "colorway": [
           "#636efa",
           "#EF553B",
           "#00cc96",
           "#ab63fa",
           "#FFA15A",
           "#19d3f3",
           "#FF6692",
           "#B6E880",
           "#FF97FF",
           "#FECB52"
          ],
          "font": {
           "color": "#2a3f5f"
          },
          "geo": {
           "bgcolor": "white",
           "lakecolor": "white",
           "landcolor": "#E5ECF6",
           "showlakes": true,
           "showland": true,
           "subunitcolor": "white"
          },
          "hoverlabel": {
           "align": "left"
          },
          "hovermode": "closest",
          "mapbox": {
           "style": "light"
          },
          "paper_bgcolor": "white",
          "plot_bgcolor": "#E5ECF6",
          "polar": {
           "angularaxis": {
            "gridcolor": "white",
            "linecolor": "white",
            "ticks": ""
           },
           "bgcolor": "#E5ECF6",
           "radialaxis": {
            "gridcolor": "white",
            "linecolor": "white",
            "ticks": ""
           }
          },
          "scene": {
           "xaxis": {
            "backgroundcolor": "#E5ECF6",
            "gridcolor": "white",
            "gridwidth": 2,
            "linecolor": "white",
            "showbackground": true,
            "ticks": "",
            "zerolinecolor": "white"
           },
           "yaxis": {
            "backgroundcolor": "#E5ECF6",
            "gridcolor": "white",
            "gridwidth": 2,
            "linecolor": "white",
            "showbackground": true,
            "ticks": "",
            "zerolinecolor": "white"
           },
           "zaxis": {
            "backgroundcolor": "#E5ECF6",
            "gridcolor": "white",
            "gridwidth": 2,
            "linecolor": "white",
            "showbackground": true,
            "ticks": "",
            "zerolinecolor": "white"
           }
          },
          "shapedefaults": {
           "line": {
            "color": "#2a3f5f"
           }
          },
          "ternary": {
           "aaxis": {
            "gridcolor": "white",
            "linecolor": "white",
            "ticks": ""
           },
           "baxis": {
            "gridcolor": "white",
            "linecolor": "white",
            "ticks": ""
           },
           "bgcolor": "#E5ECF6",
           "caxis": {
            "gridcolor": "white",
            "linecolor": "white",
            "ticks": ""
           }
          },
          "title": {
           "x": 0.05
          },
          "xaxis": {
           "automargin": true,
           "gridcolor": "white",
           "linecolor": "white",
           "ticks": "",
           "title": {
            "standoff": 15
           },
           "zerolinecolor": "white",
           "zerolinewidth": 2
          },
          "yaxis": {
           "automargin": true,
           "gridcolor": "white",
           "linecolor": "white",
           "ticks": "",
           "title": {
            "standoff": 15
           },
           "zerolinecolor": "white",
           "zerolinewidth": 2
          }
         }
        },
        "title": {
         "text": "Autocorrelation of Labour Productivity vs Autocorrelation of <br>GDP (per Country) for Different Lag Values",
         "x": 0.5
        },
        "xaxis": {
         "range": [
          -1,
          1
         ],
         "title": {
          "text": "Labour Productivity Autocorrelation"
         }
        },
        "yaxis": {
         "range": [
          -1,
          1
         ],
         "title": {
          "text": "GDP Autocorrelation"
         }
        }
       }
      },
      "text/html": [
       "<div>                            <div id=\"34164ff6-e203-45ad-a385-24bf0530c66d\" class=\"plotly-graph-div\" style=\"height:525px; width:100%;\"></div>            <script type=\"text/javascript\">                require([\"plotly\"], function(Plotly) {                    window.PLOTLYENV=window.PLOTLYENV || {};                                    if (document.getElementById(\"34164ff6-e203-45ad-a385-24bf0530c66d\")) {                    Plotly.newPlot(                        \"34164ff6-e203-45ad-a385-24bf0530c66d\",                        [{\"marker\": {\"color\": \"rgb(15, 114, 121)\", \"line\": {\"color\": \"Blue\", \"width\": 2}, \"size\": 9}, \"mode\": \"markers\", \"name\": \"Lag = 1\", \"opacity\": 1.0, \"type\": \"scatter\", \"x\": [0.7564142760317699, 0.4827162599480111, 0.9763294733965735, 0.692497917646872, 0.9106652623250543, 0.8900262450129283, 0.6702934069944856, 0.8562070227691037, 0.3145820276590971, 0.9115666805446735, 0.8837924283208126, 0.7981600865799925, 0.9589980182377172, 0.9546323547546568, 0.6624646718987345, 0.7615708331256992, 0.8753848925370877, 0.4668834635959775, 0.971028509749334, 0.9235578336730096, 0.6176917652482103, 0.9783719573117837, 0.385585696160985, 0.27727659053512244, 0.9389244596361843, 0.7908449813864004, 0.9644595297105014, 0.3545425650632407, 0.9733347357160748, 0.8033597750120434, 0.6534183375007304, 0.8786842122486934], \"y\": [0.9929162388126868, 0.9933426772284569, 0.991607287903296, 0.9947179136890746, 0.9880083192989408, 0.9875353550960803, 0.9982567871806954, 0.9989836175235671, 0.9909624797952111, 0.9900906098581351, 0.9930164696868825, 0.999325983674869, 0.9885886784304001, 0.9710153026381708, 0.9877848892564057, 0.9820239421023768, 0.9839292604950326, 0.9357642903803811, 0.9922015437742264, 0.9888224371562093, 0.9968097385906922, 0.9740941516381765, 0.9960438226053145, 0.99207237145589, 0.9945532693058405, 0.9892287547809059, 0.9844857774633186, 0.9903638573798226, 0.9862842393137433, 0.9936697950893846, 0.9895908289651891, 0.982230434381454]}, {\"marker\": {\"color\": \"rgb(13, 143, 129)\"}, \"mode\": \"markers\", \"name\": \"Lag = 2\", \"opacity\": 0.8, \"type\": \"scatter\", \"x\": [0.5139812868236856, -0.028157667297367028, 0.971853672152066, 0.10278229001210525, 0.7336318679624556, 0.6913915403483009, 0.3077430830695456, 0.7211300633751325, -0.11871243652303164, 0.8326197441095742, 0.7322280581630967, 0.6515239919209705, 0.9480420574718532, 0.8950214754027023, 0.11681009933729229, 0.39508865168434987, 0.7808802840319244, -0.18126500639640009, 0.9277387546873281, 0.8342053275698874, 0.0634321085835887, 0.9655430518770783, 0.37165899589984175, -0.20080453959899985, 0.853751652275267, 0.6077678738487917, 0.8875334480269543, -0.28934510067031255, 0.9135608262085464, 0.44376286290786165, 0.3138619066631043, 0.7388317540874897], \"y\": [0.9884061473820106, 0.9904952206929523, 0.9828302213611921, 0.9873705863212376, 0.9578387483941212, 0.9729131977434824, 0.9962317160551436, 0.9981634501919496, 0.9694256856686078, 0.975155273261154, 0.9798693709525659, 0.998502719046965, 0.9729829804747616, 0.898002063131599, 0.960764335930289, 0.9647929578679557, 0.9547175056651446, 0.8315758050953125, 0.9802271080247149, 0.9744497741354611, 0.9931290449111702, 0.926751122100362, 0.9912950563726177, 0.9881762421803457, 0.9834745315959641, 0.9752271632762726, 0.97436125499972, 0.9657874261092751, 0.9597221286577297, 0.9837235096054233, 0.9737510368519618, 0.9647298155519526]}, {\"marker\": {\"color\": \"rgb(57, 171, 126)\"}, \"mode\": \"markers\", \"name\": \"Lag = 3\", \"opacity\": 0.6, \"type\": \"scatter\", \"x\": [0.3739197873222303, -0.40986628158155003, 0.9620310869320589, -0.2721417134395719, 0.5614543539614503, 0.44693737862544186, 0.10139164185365653, 0.5760213712692875, 0.10877146666166349, 0.8259452243956883, 0.6553772430947004, 0.5849333325312339, 0.8733698317159745, 0.8315727533564182, 0.07183064954943269, -0.15113586300253865, 0.700472174331727, -0.4438993726468584, 0.8810275953953333, 0.7842866627066892, -0.4346391226041728, 0.9618137850384704, -0.14796215066580792, -0.45862710070641133, 0.7638531521596915, 0.394121991271756, 0.7917474520481141, -0.0562808665810401, 0.8228650510514273, -0.05238980391830489, 0.08067712876960872, 0.7439706791571308], \"y\": [0.9871157678405708, 0.9889650976785301, 0.9746409614322493, 0.9818574367169217, 0.9169276498927327, 0.953600299145968, 0.9940388910098145, 0.9969984740721132, 0.9356300738687005, 0.9651213868843226, 0.9689655896107354, 0.9979995096016586, 0.9606726913814759, 0.7621120609489099, 0.9215245572990317, 0.9430004758045477, 0.9069089462052711, 0.6904818760467493, 0.970642653338129, 0.9671053407965603, 0.9924259244052148, 0.8969160972320281, 0.9851110867945139, 0.9808662413610892, 0.9710163826041295, 0.9633719285035731, 0.9658397990621495, 0.928685296041837, 0.929986738753123, 0.9711426905471675, 0.954547118337034, 0.9581078684273441]}, {\"marker\": {\"color\": \"rgb(110, 197, 116)\"}, \"mode\": \"markers\", \"name\": \"Lag = 4\", \"opacity\": 0.4, \"type\": \"scatter\", \"x\": [0.08220102355138743, -0.4987531971754503, 0.9619576484390795, -0.3647571620909008, 0.44643754518748846, 0.3968680330054955, -0.1903481018020612, 0.5635643982587394, -0.2066995889007909, 0.7633867148231686, 0.520508047219386, 0.6750134677196691, 0.805388142689218, 0.7764131259374992, 0.5626976282052678, -0.5783435768149798, 0.5767958172394815, -0.5953813087148502, 0.8385179911282838, 0.7799651251144608, -0.5507806949345451, 0.9477071285824721, -0.010580486591534854, -0.5244318961050929, 0.753904735766933, 0.34044563888586704, 0.7319179346001291, -0.07290308635077422, 0.7758835508133802, -0.41699739958286275, -0.6352209398471669, 0.7370780323364309], \"y\": [0.9856779399592247, 0.9883586821720687, 0.9590208812381933, 0.9777967504436548, 0.8742492267482084, 0.9305237059442791, 0.9910458659735973, 0.9964521223145301, 0.8915721876773925, 0.9612677566305221, 0.9613413716330291, 0.9975394531355044, 0.9489040123016699, 0.5512692539405063, 0.8755776410777077, 0.9059872491147772, 0.8379978588706173, 0.5561800188646401, 0.9576936814718983, 0.9634911620273972, 0.9925923992090161, 0.888039775232667, 0.9757275494762073, 0.9754267030859763, 0.9605817222863451, 0.9566782890920772, 0.9585512177392211, 0.8826728831500172, 0.8988127450211234, 0.9538061036096062, 0.9314924411432062, 0.9591220765287939]}, {\"marker\": {\"color\": \"rgb(169, 220, 103)\"}, \"mode\": \"markers\", \"name\": \"Lag = 5\", \"opacity\": 0.2, \"type\": \"scatter\", \"x\": [-0.4139234283766781, -0.45459273098032554, 0.9255077474188994, -0.16785051780718424, 0.33300832365386124, 0.4271880417422346, -0.2660662961733167, 0.5445021007591926, -0.16050216572245501, 0.7039549708260993, 0.307897109622405, 0.5507505304612806, 0.8082600060951909, 0.8312508088391531, 0.7480004797856669, -0.7950841598343791, 0.7257305093237458, -0.7636145146626174, 0.805423374367558, 0.7762199145533184, -0.5158854291486065, 0.941575735762423, -0.16714079846532764, 0.2291062148863297, 0.8498068793233725, 0.4267363186321061, 0.7395610467054876, -0.07730280646598588, 0.7776324792804472, -0.6348858205063874, -0.4634496029812545, 0.6012724944300426], \"y\": [0.9849100954716702, 0.9872532107772328, 0.9440076029693951, 0.9696884207822201, 0.8373673075625212, 0.9091344385587194, 0.9862860650341916, 0.9959455217051948, 0.84545364128009, 0.9591943122369905, 0.9566979589480341, 0.9968455483934219, 0.9415369721253041, 0.30347915704436756, 0.8288268739033243, 0.8656286697721394, 0.7447448358374421, 0.4352630602422235, 0.939111856106934, 0.9629195819789262, 0.9917948776589192, 0.8852696014191513, 0.9741097137855095, 0.9648347118931022, 0.952282994347879, 0.9489062839585442, 0.9532729838029561, 0.8393201384720252, 0.8759386675014568, 0.9325094007181755, 0.9089235633139202, 0.9522038618748522]}],                        {\"template\": {\"data\": {\"bar\": [{\"error_x\": {\"color\": \"#2a3f5f\"}, \"error_y\": {\"color\": \"#2a3f5f\"}, \"marker\": {\"line\": {\"color\": \"#E5ECF6\", \"width\": 0.5}}, \"type\": \"bar\"}], \"barpolar\": [{\"marker\": {\"line\": {\"color\": \"#E5ECF6\", \"width\": 0.5}}, \"type\": \"barpolar\"}], \"carpet\": [{\"aaxis\": {\"endlinecolor\": \"#2a3f5f\", \"gridcolor\": \"white\", \"linecolor\": \"white\", \"minorgridcolor\": \"white\", \"startlinecolor\": \"#2a3f5f\"}, \"baxis\": {\"endlinecolor\": \"#2a3f5f\", \"gridcolor\": \"white\", \"linecolor\": \"white\", \"minorgridcolor\": \"white\", \"startlinecolor\": \"#2a3f5f\"}, \"type\": \"carpet\"}], \"choropleth\": [{\"colorbar\": {\"outlinewidth\": 0, \"ticks\": \"\"}, \"type\": \"choropleth\"}], \"contour\": [{\"colorbar\": {\"outlinewidth\": 0, \"ticks\": \"\"}, \"colorscale\": [[0.0, \"#0d0887\"], [0.1111111111111111, \"#46039f\"], [0.2222222222222222, \"#7201a8\"], [0.3333333333333333, \"#9c179e\"], [0.4444444444444444, \"#bd3786\"], [0.5555555555555556, \"#d8576b\"], [0.6666666666666666, \"#ed7953\"], [0.7777777777777778, \"#fb9f3a\"], [0.8888888888888888, \"#fdca26\"], [1.0, \"#f0f921\"]], \"type\": \"contour\"}], \"contourcarpet\": [{\"colorbar\": {\"outlinewidth\": 0, \"ticks\": \"\"}, \"type\": \"contourcarpet\"}], \"heatmap\": [{\"colorbar\": {\"outlinewidth\": 0, \"ticks\": \"\"}, \"colorscale\": [[0.0, \"#0d0887\"], [0.1111111111111111, \"#46039f\"], [0.2222222222222222, \"#7201a8\"], [0.3333333333333333, \"#9c179e\"], [0.4444444444444444, \"#bd3786\"], [0.5555555555555556, \"#d8576b\"], [0.6666666666666666, \"#ed7953\"], [0.7777777777777778, \"#fb9f3a\"], [0.8888888888888888, \"#fdca26\"], [1.0, \"#f0f921\"]], \"type\": \"heatmap\"}], \"heatmapgl\": [{\"colorbar\": {\"outlinewidth\": 0, \"ticks\": \"\"}, \"colorscale\": [[0.0, \"#0d0887\"], [0.1111111111111111, \"#46039f\"], [0.2222222222222222, \"#7201a8\"], [0.3333333333333333, \"#9c179e\"], [0.4444444444444444, \"#bd3786\"], [0.5555555555555556, \"#d8576b\"], [0.6666666666666666, \"#ed7953\"], [0.7777777777777778, \"#fb9f3a\"], [0.8888888888888888, \"#fdca26\"], [1.0, \"#f0f921\"]], \"type\": \"heatmapgl\"}], \"histogram\": [{\"marker\": {\"colorbar\": {\"outlinewidth\": 0, \"ticks\": \"\"}}, \"type\": \"histogram\"}], \"histogram2d\": [{\"colorbar\": {\"outlinewidth\": 0, \"ticks\": \"\"}, \"colorscale\": [[0.0, \"#0d0887\"], [0.1111111111111111, \"#46039f\"], [0.2222222222222222, \"#7201a8\"], [0.3333333333333333, \"#9c179e\"], [0.4444444444444444, \"#bd3786\"], [0.5555555555555556, \"#d8576b\"], [0.6666666666666666, \"#ed7953\"], [0.7777777777777778, \"#fb9f3a\"], [0.8888888888888888, \"#fdca26\"], [1.0, \"#f0f921\"]], \"type\": \"histogram2d\"}], \"histogram2dcontour\": [{\"colorbar\": {\"outlinewidth\": 0, \"ticks\": \"\"}, \"colorscale\": [[0.0, \"#0d0887\"], [0.1111111111111111, \"#46039f\"], [0.2222222222222222, \"#7201a8\"], [0.3333333333333333, \"#9c179e\"], [0.4444444444444444, \"#bd3786\"], [0.5555555555555556, \"#d8576b\"], [0.6666666666666666, \"#ed7953\"], [0.7777777777777778, \"#fb9f3a\"], [0.8888888888888888, \"#fdca26\"], [1.0, \"#f0f921\"]], \"type\": \"histogram2dcontour\"}], \"mesh3d\": [{\"colorbar\": {\"outlinewidth\": 0, \"ticks\": \"\"}, \"type\": \"mesh3d\"}], \"parcoords\": [{\"line\": {\"colorbar\": {\"outlinewidth\": 0, \"ticks\": \"\"}}, \"type\": \"parcoords\"}], \"pie\": [{\"automargin\": true, \"type\": \"pie\"}], \"scatter\": [{\"marker\": {\"colorbar\": {\"outlinewidth\": 0, \"ticks\": \"\"}}, \"type\": \"scatter\"}], \"scatter3d\": [{\"line\": {\"colorbar\": {\"outlinewidth\": 0, \"ticks\": \"\"}}, \"marker\": {\"colorbar\": {\"outlinewidth\": 0, \"ticks\": \"\"}}, \"type\": \"scatter3d\"}], \"scattercarpet\": [{\"marker\": {\"colorbar\": {\"outlinewidth\": 0, \"ticks\": \"\"}}, \"type\": \"scattercarpet\"}], \"scattergeo\": [{\"marker\": {\"colorbar\": {\"outlinewidth\": 0, \"ticks\": \"\"}}, \"type\": \"scattergeo\"}], \"scattergl\": [{\"marker\": {\"colorbar\": {\"outlinewidth\": 0, \"ticks\": \"\"}}, \"type\": \"scattergl\"}], \"scattermapbox\": [{\"marker\": {\"colorbar\": {\"outlinewidth\": 0, \"ticks\": \"\"}}, \"type\": \"scattermapbox\"}], \"scatterpolar\": [{\"marker\": {\"colorbar\": {\"outlinewidth\": 0, \"ticks\": \"\"}}, \"type\": \"scatterpolar\"}], \"scatterpolargl\": [{\"marker\": {\"colorbar\": {\"outlinewidth\": 0, \"ticks\": \"\"}}, \"type\": \"scatterpolargl\"}], \"scatterternary\": [{\"marker\": {\"colorbar\": {\"outlinewidth\": 0, \"ticks\": \"\"}}, \"type\": \"scatterternary\"}], \"surface\": [{\"colorbar\": {\"outlinewidth\": 0, \"ticks\": \"\"}, \"colorscale\": [[0.0, \"#0d0887\"], [0.1111111111111111, \"#46039f\"], [0.2222222222222222, \"#7201a8\"], [0.3333333333333333, \"#9c179e\"], [0.4444444444444444, \"#bd3786\"], [0.5555555555555556, \"#d8576b\"], [0.6666666666666666, \"#ed7953\"], [0.7777777777777778, \"#fb9f3a\"], [0.8888888888888888, \"#fdca26\"], [1.0, \"#f0f921\"]], \"type\": \"surface\"}], \"table\": [{\"cells\": {\"fill\": {\"color\": \"#EBF0F8\"}, \"line\": {\"color\": \"white\"}}, \"header\": {\"fill\": {\"color\": \"#C8D4E3\"}, \"line\": {\"color\": \"white\"}}, \"type\": \"table\"}]}, \"layout\": {\"annotationdefaults\": {\"arrowcolor\": \"#2a3f5f\", \"arrowhead\": 0, \"arrowwidth\": 1}, \"autotypenumbers\": \"strict\", \"coloraxis\": {\"colorbar\": {\"outlinewidth\": 0, \"ticks\": \"\"}}, \"colorscale\": {\"diverging\": [[0, \"#8e0152\"], [0.1, \"#c51b7d\"], [0.2, \"#de77ae\"], [0.3, \"#f1b6da\"], [0.4, \"#fde0ef\"], [0.5, \"#f7f7f7\"], [0.6, \"#e6f5d0\"], [0.7, \"#b8e186\"], [0.8, \"#7fbc41\"], [0.9, \"#4d9221\"], [1, \"#276419\"]], \"sequential\": [[0.0, \"#0d0887\"], [0.1111111111111111, \"#46039f\"], [0.2222222222222222, \"#7201a8\"], [0.3333333333333333, \"#9c179e\"], [0.4444444444444444, \"#bd3786\"], [0.5555555555555556, \"#d8576b\"], [0.6666666666666666, \"#ed7953\"], [0.7777777777777778, \"#fb9f3a\"], [0.8888888888888888, \"#fdca26\"], [1.0, \"#f0f921\"]], \"sequentialminus\": [[0.0, \"#0d0887\"], [0.1111111111111111, \"#46039f\"], [0.2222222222222222, \"#7201a8\"], [0.3333333333333333, \"#9c179e\"], [0.4444444444444444, \"#bd3786\"], [0.5555555555555556, \"#d8576b\"], [0.6666666666666666, \"#ed7953\"], [0.7777777777777778, \"#fb9f3a\"], [0.8888888888888888, \"#fdca26\"], [1.0, \"#f0f921\"]]}, \"colorway\": [\"#636efa\", \"#EF553B\", \"#00cc96\", \"#ab63fa\", \"#FFA15A\", \"#19d3f3\", \"#FF6692\", \"#B6E880\", \"#FF97FF\", \"#FECB52\"], \"font\": {\"color\": \"#2a3f5f\"}, \"geo\": {\"bgcolor\": \"white\", \"lakecolor\": \"white\", \"landcolor\": \"#E5ECF6\", \"showlakes\": true, \"showland\": true, \"subunitcolor\": \"white\"}, \"hoverlabel\": {\"align\": \"left\"}, \"hovermode\": \"closest\", \"mapbox\": {\"style\": \"light\"}, \"paper_bgcolor\": \"white\", \"plot_bgcolor\": \"#E5ECF6\", \"polar\": {\"angularaxis\": {\"gridcolor\": \"white\", \"linecolor\": \"white\", \"ticks\": \"\"}, \"bgcolor\": \"#E5ECF6\", \"radialaxis\": {\"gridcolor\": \"white\", \"linecolor\": \"white\", \"ticks\": \"\"}}, \"scene\": {\"xaxis\": {\"backgroundcolor\": \"#E5ECF6\", \"gridcolor\": \"white\", \"gridwidth\": 2, \"linecolor\": \"white\", \"showbackground\": true, \"ticks\": \"\", \"zerolinecolor\": \"white\"}, \"yaxis\": {\"backgroundcolor\": \"#E5ECF6\", \"gridcolor\": \"white\", \"gridwidth\": 2, \"linecolor\": \"white\", \"showbackground\": true, \"ticks\": \"\", \"zerolinecolor\": \"white\"}, \"zaxis\": {\"backgroundcolor\": \"#E5ECF6\", \"gridcolor\": \"white\", \"gridwidth\": 2, \"linecolor\": \"white\", \"showbackground\": true, \"ticks\": \"\", \"zerolinecolor\": \"white\"}}, \"shapedefaults\": {\"line\": {\"color\": \"#2a3f5f\"}}, \"ternary\": {\"aaxis\": {\"gridcolor\": \"white\", \"linecolor\": \"white\", \"ticks\": \"\"}, \"baxis\": {\"gridcolor\": \"white\", \"linecolor\": \"white\", \"ticks\": \"\"}, \"bgcolor\": \"#E5ECF6\", \"caxis\": {\"gridcolor\": \"white\", \"linecolor\": \"white\", \"ticks\": \"\"}}, \"title\": {\"x\": 0.05}, \"xaxis\": {\"automargin\": true, \"gridcolor\": \"white\", \"linecolor\": \"white\", \"ticks\": \"\", \"title\": {\"standoff\": 15}, \"zerolinecolor\": \"white\", \"zerolinewidth\": 2}, \"yaxis\": {\"automargin\": true, \"gridcolor\": \"white\", \"linecolor\": \"white\", \"ticks\": \"\", \"title\": {\"standoff\": 15}, \"zerolinecolor\": \"white\", \"zerolinewidth\": 2}}}, \"title\": {\"text\": \"Autocorrelation of Labour Productivity vs Autocorrelation of <br>GDP (per Country) for Different Lag Values\", \"x\": 0.5}, \"xaxis\": {\"range\": [-1, 1], \"title\": {\"text\": \"Labour Productivity Autocorrelation\"}}, \"yaxis\": {\"range\": [-1, 1], \"title\": {\"text\": \"GDP Autocorrelation\"}}},                        {\"responsive\": true}                    ).then(function(){\n",
       "                            \n",
       "var gd = document.getElementById('34164ff6-e203-45ad-a385-24bf0530c66d');\n",
       "var x = new MutationObserver(function (mutations, observer) {{\n",
       "        var display = window.getComputedStyle(gd).display;\n",
       "        if (!display || display === 'none') {{\n",
       "            console.log([gd, 'removed!']);\n",
       "            Plotly.purge(gd);\n",
       "            observer.disconnect();\n",
       "        }}\n",
       "}});\n",
       "\n",
       "// Listen for the removal of the full notebook cells\n",
       "var notebookContainer = gd.closest('#notebook-container');\n",
       "if (notebookContainer) {{\n",
       "    x.observe(notebookContainer, {childList: true});\n",
       "}}\n",
       "\n",
       "// Listen for the clearing of the current output cell\n",
       "var outputEl = gd.closest('.output');\n",
       "if (outputEl) {{\n",
       "    x.observe(outputEl, {childList: true});\n",
       "}}\n",
       "\n",
       "                        })                };                });            </script>        </div>"
      ]
     },
     "metadata": {},
     "output_type": "display_data"
    }
   ],
   "source": [
    "def scatter_2d_data(x, y, lag=default_lag):\n",
    "    str_x = x[:x.find(' Autocorrelation')]\n",
    "    str_y = y[:y.find(' Autocorrelation')]\n",
    "    fig = px.scatter(merged, x=x, y=y,\n",
    "                     title=f'Autocorrelation of {str_x} vs Autocorrelation of <br>{str_y} (per Country), Lag = {lag}')\n",
    "    fig.update_xaxes(range=[-1, 1])\n",
    "    fig.update_yaxes(range=[-1, 1])\n",
    "    fig.update_layout(title_x=0.5)\n",
    "    fig.show()\n",
    "\n",
    "def scatter_2d_data_lags(x, y, lags):\n",
    "    str_x = x[:x.find(' Autocorrelation')]\n",
    "    str_y = y[:y.find(' Autocorrelation')]\n",
    "    \n",
    "    # for diff lags\n",
    "    mergeds = [ (l, calc_merged_lag(l)) for l in lags ]\n",
    "    \n",
    "    fig = go.Figure()\n",
    "#     print(px.colors.sequential.Agsunset)\n",
    "    for l, m in mergeds:\n",
    "        opacity_level = (max(lags) - l + 1) / (max(lags))\n",
    "#         opacity_level = opacity_level / 2 + 0.5\n",
    "#         opacity_level = (max(lags) - l) / (max(lags))\n",
    "#         if l == 1: opacity_level = 1\n",
    "#         print(opacity_level)\n",
    "        fig.add_trace(go.Scatter(x=m[x],\n",
    "                                 y=m[y],\n",
    "                                 mode='markers',\n",
    "                                 name=f'Lag = {l}',\n",
    "                                 opacity=opacity_level,\n",
    "#                                  marker={ 'color': (px.colors.sequential.Sunsetdark[l]) }\n",
    "                                 marker={ 'color': (px.colors.sequential.Aggrnyl[l]) },\n",
    "#                                  line=dict(width=2, color='DarkSlateGrey')\n",
    "                                 )\n",
    "                     )\n",
    "        if l == 1:\n",
    "            fig.update_traces(marker=dict(size=9,\n",
    "                          line=dict(width=2,\n",
    "                                        color='Blue')),\n",
    "                  selector=dict(mode='markers'))\n",
    "    \n",
    "    fig.update_xaxes(range=[-1, 1])\n",
    "    fig.update_yaxes(range=[-1, 1])\n",
    "    fig.update_layout(title_x=0.5,\n",
    "                     title_text=f'Autocorrelation of {str_x} vs Autocorrelation of <br>{str_y} (per Country) for Different Lag Values')\n",
    "    fig.update_xaxes(title_text=x)\n",
    "    fig.update_yaxes(title_text=y)\n",
    "    fig.show()\n",
    "    \n",
    "# scatter_2d_data('Labour Productivity Autocorrelation', 'Income Inequality Autocorrelation')\n",
    "# scatter_2d_data('GDP Autocorrelation', 'Income Inequality Autocorrelation')\n",
    "# scatter_2d_data('Labour Productivity Autocorrelation', 'GDP Autocorrelation')\n",
    "\n",
    "target_lags = range(1, 6)\n",
    "\n",
    "scatter_2d_data_lags('Labour Productivity Autocorrelation', 'Income Inequality Autocorrelation', lags=target_lags)\n",
    "scatter_2d_data_lags('GDP Autocorrelation', 'Income Inequality Autocorrelation', lags=target_lags)\n",
    "scatter_2d_data_lags('Labour Productivity Autocorrelation', 'GDP Autocorrelation', lags=target_lags)"
   ]
  },
  {
   "cell_type": "code",
   "execution_count": 41,
   "id": "united-balance",
   "metadata": {},
   "outputs": [
    {
     "name": "stdout",
     "output_type": "stream",
     "text": [
      "\\begin{tabular}{c|ccccccccc}\n",
      "\\toprule\n",
      "          _x & \\multicolumn{3}{l}{Labour Productivity Autocorrelation} & \\multicolumn{3}{l}{GDP Autocorrelation} & \\multicolumn{3}{l}{Income Inequality Autocorrelation} \\\\\n",
      "Country Code &                               Lag 1 &                          Lag 2 &                          Lag 3 &               Lag 1 & Lag 2 &                         Lag 3 &                             Lag 1 &                          Lag 2 &                          Lag 3 \\\\\n",
      "\\midrule\n",
      "         AUT &                                0.76 &  {\\textcolor{lightgray}{0.51}} &  {\\textcolor{lightgray}{0.37}} &                0.99 &  0.99 &                          0.99 &    {\\textcolor{lightgray}{-0.30}} &  {\\textcolor{lightgray}{0.21}} & {\\textcolor{lightgray}{-0.05}} \\\\\n",
      "         BEL &       {\\textcolor{lightgray}{0.48}} & {\\textcolor{lightgray}{-0.03}} & {\\textcolor{lightgray}{-0.41}} &                0.99 &  0.99 &                          0.99 &     {\\textcolor{lightgray}{0.48}} &  {\\textcolor{lightgray}{0.30}} &  {\\textcolor{lightgray}{0.22}} \\\\\n",
      "         BGR &                                0.98 &                           0.97 &                           0.96 &                0.99 &  0.98 &                          0.97 &                              0.89 &                           0.87 &                           0.79 \\\\\n",
      "         CHE &       {\\textcolor{lightgray}{0.69}} &  {\\textcolor{lightgray}{0.10}} & {\\textcolor{lightgray}{-0.27}} &                0.99 &  0.99 &                          0.98 &     {\\textcolor{lightgray}{0.18}} &  {\\textcolor{lightgray}{0.27}} & {\\textcolor{lightgray}{-0.21}} \\\\\n",
      "         CYP &                                0.91 &                           0.73 &  {\\textcolor{lightgray}{0.56}} &                0.99 &  0.96 &                          0.92 &     {\\textcolor{lightgray}{0.65}} &  {\\textcolor{lightgray}{0.09}} & {\\textcolor{lightgray}{-0.68}} \\\\\n",
      "         CZE &                                0.89 &  {\\textcolor{lightgray}{0.69}} &  {\\textcolor{lightgray}{0.45}} &                0.99 &  0.97 &                          0.95 &     {\\textcolor{lightgray}{0.56}} & {\\textcolor{lightgray}{-0.10}} & {\\textcolor{lightgray}{-0.30}} \\\\\n",
      "         DEU &       {\\textcolor{lightgray}{0.67}} &  {\\textcolor{lightgray}{0.31}} &  {\\textcolor{lightgray}{0.10}} &                1.00 &  1.00 &                          0.99 &     {\\textcolor{lightgray}{0.34}} & {\\textcolor{lightgray}{-0.25}} & {\\textcolor{lightgray}{-0.13}} \\\\\n",
      "         DNK &                                0.86 &                           0.72 &  {\\textcolor{lightgray}{0.58}} &                1.00 &  1.00 &                          1.00 &     {\\textcolor{lightgray}{0.66}} &                          -0.76 &                          -0.92 \\\\\n",
      "         ESP &       {\\textcolor{lightgray}{0.31}} & {\\textcolor{lightgray}{-0.12}} &  {\\textcolor{lightgray}{0.11}} &                0.99 &  0.97 &                          0.94 &     {\\textcolor{lightgray}{0.55}} &  {\\textcolor{lightgray}{0.04}} & {\\textcolor{lightgray}{-0.30}} \\\\\n",
      "         EST &                                0.91 &                           0.83 &                           0.83 &                0.99 &  0.98 &                          0.97 &     {\\textcolor{lightgray}{0.61}} &  {\\textcolor{lightgray}{0.01}} & {\\textcolor{lightgray}{-0.35}} \\\\\n",
      "         FIN &                                0.88 &                           0.73 &  {\\textcolor{lightgray}{0.66}} &                0.99 &  0.98 &                          0.97 &     {\\textcolor{lightgray}{0.34}} &  {\\textcolor{lightgray}{0.17}} & {\\textcolor{lightgray}{-0.29}} \\\\\n",
      "         FRA &                                0.80 &  {\\textcolor{lightgray}{0.65}} &  {\\textcolor{lightgray}{0.58}} &                1.00 &  1.00 &                          1.00 &     {\\textcolor{lightgray}{0.69}} &  {\\textcolor{lightgray}{0.35}} &  {\\textcolor{lightgray}{0.07}} \\\\\n",
      "         GBR &                                0.96 &                           0.95 &                           0.87 &                0.99 &  0.97 &                          0.96 &     {\\textcolor{lightgray}{0.47}} & {\\textcolor{lightgray}{-0.25}} & {\\textcolor{lightgray}{-0.25}} \\\\\n",
      "         GRC &                                0.95 &                           0.90 &                           0.83 &                0.97 &  0.90 &                          0.76 &                              0.72 & {\\textcolor{lightgray}{-0.04}} & {\\textcolor{lightgray}{-0.50}} \\\\\n",
      "         HRV &       {\\textcolor{lightgray}{0.66}} &  {\\textcolor{lightgray}{0.12}} &  {\\textcolor{lightgray}{0.07}} &                0.99 &  0.96 &                          0.92 &                              0.87 &                           0.92 &                           0.82 \\\\\n",
      "         HUN &                                0.76 &  {\\textcolor{lightgray}{0.40}} & {\\textcolor{lightgray}{-0.15}} &                0.98 &  0.96 &                          0.94 &                              0.82 &                           0.85 &  {\\textcolor{lightgray}{0.46}} \\\\\n",
      "         IRL &                                0.88 &                           0.78 &                           0.70 &                0.98 &  0.95 &                          0.91 &     {\\textcolor{lightgray}{0.39}} &  {\\textcolor{lightgray}{0.15}} &  {\\textcolor{lightgray}{0.10}} \\\\\n",
      "         ISL &       {\\textcolor{lightgray}{0.47}} & {\\textcolor{lightgray}{-0.18}} & {\\textcolor{lightgray}{-0.44}} &                0.94 &  0.83 & {\\textcolor{lightgray}{0.69}} &     {\\textcolor{lightgray}{0.34}} &  {\\textcolor{lightgray}{0.03}} & {\\textcolor{lightgray}{-0.13}} \\\\\n",
      "         ITA &                                0.97 &                           0.93 &                           0.88 &                0.99 &  0.98 &                          0.97 &     {\\textcolor{lightgray}{0.64}} &  {\\textcolor{lightgray}{0.69}} &  {\\textcolor{lightgray}{0.63}} \\\\\n",
      "         LTU &                                0.92 &                           0.83 &                           0.78 &                0.99 &  0.97 &                          0.97 &     {\\textcolor{lightgray}{0.35}} &  {\\textcolor{lightgray}{0.05}} & {\\textcolor{lightgray}{-0.28}} \\\\\n",
      "         LUX &       {\\textcolor{lightgray}{0.62}} &  {\\textcolor{lightgray}{0.06}} & {\\textcolor{lightgray}{-0.43}} &                1.00 &  0.99 &                          0.99 &                              0.75 &  {\\textcolor{lightgray}{0.49}} &  {\\textcolor{lightgray}{0.48}} \\\\\n",
      "         LVA &                                0.98 &                           0.97 &                           0.96 &                0.97 &  0.93 &                          0.90 &     {\\textcolor{lightgray}{0.53}} & {\\textcolor{lightgray}{-0.16}} & {\\textcolor{lightgray}{-0.01}} \\\\\n",
      "         MKD &       {\\textcolor{lightgray}{0.39}} &  {\\textcolor{lightgray}{0.37}} & {\\textcolor{lightgray}{-0.15}} &                1.00 &  0.99 &                          0.99 &                              0.96 &                           0.86 &                           0.73 \\\\\n",
      "         MLT &       {\\textcolor{lightgray}{0.28}} & {\\textcolor{lightgray}{-0.20}} & {\\textcolor{lightgray}{-0.46}} &                0.99 &  0.99 &                          0.98 &    {\\textcolor{lightgray}{-0.04}} &  {\\textcolor{lightgray}{0.05}} &  {\\textcolor{lightgray}{0.41}} \\\\\n",
      "         NLD &                                0.94 &                           0.85 &                           0.76 &                0.99 &  0.98 &                          0.97 &     {\\textcolor{lightgray}{0.57}} &  {\\textcolor{lightgray}{0.55}} &  {\\textcolor{lightgray}{0.21}} \\\\\n",
      "         NOR &                                0.79 &  {\\textcolor{lightgray}{0.61}} &  {\\textcolor{lightgray}{0.39}} &                0.99 &  0.98 &                          0.96 &                              0.82 &  {\\textcolor{lightgray}{0.56}} &  {\\textcolor{lightgray}{0.19}} \\\\\n",
      "         POL &                                0.96 &                           0.89 &                           0.79 &                0.98 &  0.97 &                          0.97 &                              0.88 &                           0.78 &  {\\textcolor{lightgray}{0.61}} \\\\\n",
      "         PRT &       {\\textcolor{lightgray}{0.35}} & {\\textcolor{lightgray}{-0.29}} & {\\textcolor{lightgray}{-0.06}} &                0.99 &  0.97 &                          0.93 &     {\\textcolor{lightgray}{0.67}} &  {\\textcolor{lightgray}{0.07}} & {\\textcolor{lightgray}{-0.42}} \\\\\n",
      "         ROU &                                0.97 &                           0.91 &                           0.82 &                0.99 &  0.96 &                          0.93 &     {\\textcolor{lightgray}{0.45}} & {\\textcolor{lightgray}{-0.04}} & {\\textcolor{lightgray}{-0.05}} \\\\\n",
      "         SVK &                                0.80 &  {\\textcolor{lightgray}{0.44}} & {\\textcolor{lightgray}{-0.05}} &                0.99 &  0.98 &                          0.97 &     {\\textcolor{lightgray}{0.41}} &  {\\textcolor{lightgray}{0.34}} &  {\\textcolor{lightgray}{0.35}} \\\\\n",
      "         SVN &       {\\textcolor{lightgray}{0.65}} &  {\\textcolor{lightgray}{0.31}} &  {\\textcolor{lightgray}{0.08}} &                0.99 &  0.97 &                          0.95 &     {\\textcolor{lightgray}{0.64}} &  {\\textcolor{lightgray}{0.12}} & {\\textcolor{lightgray}{-0.30}} \\\\\n",
      "         SWE &                                0.88 &                           0.74 &                           0.74 &                0.98 &  0.96 &                          0.96 &     {\\textcolor{lightgray}{0.64}} &                           0.76 &                           0.80 \\\\\n",
      "           0 &                               21.00 &                          15.00 &                          12.00 &               45.00 & 45.00 &                         44.00 &                             10.00 &                           8.00 &                           6.00 \\\\\n",
      "\\bottomrule\n",
      "\\end{tabular}\n",
      "\n"
     ]
    }
   ],
   "source": [
    "def threshold_data(data, column): \n",
    "    return data [(data[column] > STRONG_CORR_THRESHOLD) | (data[column] < -STRONG_CORR_THRESHOLD)]\n",
    "\n",
    "def latex_table(data):\n",
    "    tt = data.transpose()\n",
    "#     print(tt)\n",
    "#     stats = data.apply(lambda x: len([ xx for xx in x if within_threshold(xx, STRONG_CORR_THRESHOLD) ] if x.name != \"Country Code\" else ''), axis=0, result_type='reduce')\n",
    "#     stats = data.apply(lambda x: len([ xx for xx in x if within_threshold(xx, STRONG_CORR_THRESHOLD) ] if x.name != \"_x\" else ''), axis=0, result_type='reduce')\n",
    "#     stats = data.apply(lambda x: x if x.name != \"_x\" else '', axis=0, result_type='reduce')\n",
    "#     stats['Country Code'] = '# Countries Within Threshold'\n",
    "    \n",
    "#     data = data.append(stats, ignore_index=True)\n",
    "    \n",
    "    f = lambda s: '{:.2f}'.format(s) if within_threshold(float(s), STRONG_CORR_THRESHOLD) else '{\\\\textcolor{lightgray}{' + '{:.2f}'.format(s) + '}}'\n",
    "    g = lambda s: s\n",
    "    return data.to_latex(index=False, column_format='c|ccccccccc', float_format=\"%.2f\", formatters=[g, f, f, f, f, f, f, f, f, f], escape=False)\n",
    "#     return data.to_latex(index=False, column_format='c|ccc', float_format=\"%.2f\")\n",
    "\n",
    "# labour_autocorr = threshold_data(labour_autocorr, 'Labour Productivity Autocorrelation')\n",
    "# labour_autocorr\n",
    "\n",
    "# print(latex_table(labour_autocorr))\n",
    "\n",
    "print(latex_table(multim))"
   ]
  },
  {
   "cell_type": "code",
   "execution_count": 42,
   "id": "flush-syria",
   "metadata": {},
   "outputs": [],
   "source": [
    "# econ_autocorr = threshold_data(gdp_autocorr, 'GDP Autocorrelation')\n",
    "# econ_autocorr\n",
    "\n",
    "# print(latex_table(econ_autocorr))"
   ]
  },
  {
   "cell_type": "code",
   "execution_count": 43,
   "id": "amateur-brand",
   "metadata": {},
   "outputs": [],
   "source": [
    "# incomeineq_autocorr = threshold_data(incomeineq_autocorr, 'Income Inequality Autocorrelation')\n",
    "# incomeineq_autocorr\n",
    "\n",
    "# print(latex_table(incomeineq_autocorr))"
   ]
  },
  {
   "cell_type": "code",
   "execution_count": 44,
   "id": "transsexual-permission",
   "metadata": {},
   "outputs": [],
   "source": [
    "# mmm = threshold_data(merged, 'Income Inequality Autocorrelation')\n",
    "\n",
    "# print(latex_table(mmm))"
   ]
  },
  {
   "cell_type": "code",
   "execution_count": 45,
   "id": "assigned-waterproof",
   "metadata": {},
   "outputs": [
    {
     "data": {
      "text/html": [
       "<div>\n",
       "<style scoped>\n",
       "    .dataframe tbody tr th:only-of-type {\n",
       "        vertical-align: middle;\n",
       "    }\n",
       "\n",
       "    .dataframe tbody tr th {\n",
       "        vertical-align: top;\n",
       "    }\n",
       "\n",
       "    .dataframe thead th {\n",
       "        text-align: right;\n",
       "    }\n",
       "</style>\n",
       "<table border=\"1\" class=\"dataframe\">\n",
       "  <thead>\n",
       "    <tr style=\"text-align: right;\">\n",
       "      <th></th>\n",
       "      <th>Lag 1</th>\n",
       "      <th>Lag 2</th>\n",
       "      <th>Lag 3</th>\n",
       "      <th>Lag 4</th>\n",
       "      <th>Lag 5</th>\n",
       "      <th>Lag 6</th>\n",
       "      <th>Lag 7</th>\n",
       "      <th>Lag 8</th>\n",
       "      <th>Lag 9</th>\n",
       "      <th>Lag 10</th>\n",
       "    </tr>\n",
       "  </thead>\n",
       "  <tbody>\n",
       "    <tr>\n",
       "      <th>0</th>\n",
       "      <td>0.756414</td>\n",
       "      <td>0.513981</td>\n",
       "      <td>0.373920</td>\n",
       "      <td>0.082201</td>\n",
       "      <td>-0.413923</td>\n",
       "      <td>0.074176</td>\n",
       "      <td>0.647381</td>\n",
       "      <td>0.610497</td>\n",
       "      <td>0.740865</td>\n",
       "      <td>0.806031</td>\n",
       "    </tr>\n",
       "    <tr>\n",
       "      <th>1</th>\n",
       "      <td>0.482716</td>\n",
       "      <td>-0.028158</td>\n",
       "      <td>-0.409866</td>\n",
       "      <td>-0.498753</td>\n",
       "      <td>-0.454593</td>\n",
       "      <td>-0.629595</td>\n",
       "      <td>-0.211885</td>\n",
       "      <td>0.387327</td>\n",
       "      <td>0.768555</td>\n",
       "      <td>0.902929</td>\n",
       "    </tr>\n",
       "    <tr>\n",
       "      <th>2</th>\n",
       "      <td>0.976329</td>\n",
       "      <td>0.971854</td>\n",
       "      <td>0.962031</td>\n",
       "      <td>0.961958</td>\n",
       "      <td>0.925508</td>\n",
       "      <td>0.927028</td>\n",
       "      <td>0.971702</td>\n",
       "      <td>0.979066</td>\n",
       "      <td>0.942858</td>\n",
       "      <td>0.912219</td>\n",
       "    </tr>\n",
       "    <tr>\n",
       "      <th>3</th>\n",
       "      <td>0.692498</td>\n",
       "      <td>0.102782</td>\n",
       "      <td>-0.272142</td>\n",
       "      <td>-0.364757</td>\n",
       "      <td>-0.167851</td>\n",
       "      <td>-0.103941</td>\n",
       "      <td>-0.269061</td>\n",
       "      <td>-0.402704</td>\n",
       "      <td>-0.771463</td>\n",
       "      <td>-0.955803</td>\n",
       "    </tr>\n",
       "    <tr>\n",
       "      <th>4</th>\n",
       "      <td>0.910665</td>\n",
       "      <td>0.733632</td>\n",
       "      <td>0.561454</td>\n",
       "      <td>0.446438</td>\n",
       "      <td>0.333008</td>\n",
       "      <td>0.201695</td>\n",
       "      <td>0.281284</td>\n",
       "      <td>0.763533</td>\n",
       "      <td>0.711321</td>\n",
       "      <td>-0.520242</td>\n",
       "    </tr>\n",
       "    <tr>\n",
       "      <th>5</th>\n",
       "      <td>0.890026</td>\n",
       "      <td>0.691392</td>\n",
       "      <td>0.446937</td>\n",
       "      <td>0.396868</td>\n",
       "      <td>0.427188</td>\n",
       "      <td>0.357829</td>\n",
       "      <td>0.426162</td>\n",
       "      <td>0.586151</td>\n",
       "      <td>0.709815</td>\n",
       "      <td>0.993952</td>\n",
       "    </tr>\n",
       "    <tr>\n",
       "      <th>6</th>\n",
       "      <td>0.670293</td>\n",
       "      <td>0.307743</td>\n",
       "      <td>0.101392</td>\n",
       "      <td>-0.190348</td>\n",
       "      <td>-0.266066</td>\n",
       "      <td>0.213291</td>\n",
       "      <td>-0.006748</td>\n",
       "      <td>-0.014483</td>\n",
       "      <td>0.619477</td>\n",
       "      <td>0.891129</td>\n",
       "    </tr>\n",
       "    <tr>\n",
       "      <th>7</th>\n",
       "      <td>0.856207</td>\n",
       "      <td>0.721130</td>\n",
       "      <td>0.576021</td>\n",
       "      <td>0.563564</td>\n",
       "      <td>0.544502</td>\n",
       "      <td>0.582829</td>\n",
       "      <td>0.850919</td>\n",
       "      <td>0.736694</td>\n",
       "      <td>0.619070</td>\n",
       "      <td>-0.286912</td>\n",
       "    </tr>\n",
       "    <tr>\n",
       "      <th>8</th>\n",
       "      <td>0.314582</td>\n",
       "      <td>-0.118712</td>\n",
       "      <td>0.108771</td>\n",
       "      <td>-0.206700</td>\n",
       "      <td>-0.160502</td>\n",
       "      <td>-0.239878</td>\n",
       "      <td>-0.178913</td>\n",
       "      <td>0.003254</td>\n",
       "      <td>-0.624686</td>\n",
       "      <td>-0.797843</td>\n",
       "    </tr>\n",
       "    <tr>\n",
       "      <th>9</th>\n",
       "      <td>0.911567</td>\n",
       "      <td>0.832620</td>\n",
       "      <td>0.825945</td>\n",
       "      <td>0.763387</td>\n",
       "      <td>0.703955</td>\n",
       "      <td>0.675099</td>\n",
       "      <td>0.693680</td>\n",
       "      <td>0.560853</td>\n",
       "      <td>0.590647</td>\n",
       "      <td>0.759748</td>\n",
       "    </tr>\n",
       "    <tr>\n",
       "      <th>10</th>\n",
       "      <td>0.883792</td>\n",
       "      <td>0.732228</td>\n",
       "      <td>0.655377</td>\n",
       "      <td>0.520508</td>\n",
       "      <td>0.307897</td>\n",
       "      <td>0.202330</td>\n",
       "      <td>0.091921</td>\n",
       "      <td>0.099506</td>\n",
       "      <td>0.779863</td>\n",
       "      <td>0.674969</td>\n",
       "    </tr>\n",
       "    <tr>\n",
       "      <th>11</th>\n",
       "      <td>0.798160</td>\n",
       "      <td>0.651524</td>\n",
       "      <td>0.584933</td>\n",
       "      <td>0.675013</td>\n",
       "      <td>0.550751</td>\n",
       "      <td>0.438207</td>\n",
       "      <td>-0.063049</td>\n",
       "      <td>0.280209</td>\n",
       "      <td>0.193894</td>\n",
       "      <td>-0.027099</td>\n",
       "    </tr>\n",
       "    <tr>\n",
       "      <th>12</th>\n",
       "      <td>0.958998</td>\n",
       "      <td>0.948042</td>\n",
       "      <td>0.873370</td>\n",
       "      <td>0.805388</td>\n",
       "      <td>0.808260</td>\n",
       "      <td>0.779655</td>\n",
       "      <td>0.930908</td>\n",
       "      <td>0.957090</td>\n",
       "      <td>0.976912</td>\n",
       "      <td>0.922543</td>\n",
       "    </tr>\n",
       "    <tr>\n",
       "      <th>13</th>\n",
       "      <td>0.954632</td>\n",
       "      <td>0.895021</td>\n",
       "      <td>0.831573</td>\n",
       "      <td>0.776413</td>\n",
       "      <td>0.831251</td>\n",
       "      <td>0.913263</td>\n",
       "      <td>0.784499</td>\n",
       "      <td>0.623134</td>\n",
       "      <td>0.613050</td>\n",
       "      <td>-0.084490</td>\n",
       "    </tr>\n",
       "    <tr>\n",
       "      <th>14</th>\n",
       "      <td>0.662465</td>\n",
       "      <td>0.116810</td>\n",
       "      <td>0.071831</td>\n",
       "      <td>0.562698</td>\n",
       "      <td>0.748000</td>\n",
       "      <td>0.203316</td>\n",
       "      <td>-0.622790</td>\n",
       "      <td>-0.630300</td>\n",
       "      <td>0.812841</td>\n",
       "      <td>0.828833</td>\n",
       "    </tr>\n",
       "    <tr>\n",
       "      <th>15</th>\n",
       "      <td>0.761571</td>\n",
       "      <td>0.395089</td>\n",
       "      <td>-0.151136</td>\n",
       "      <td>-0.578344</td>\n",
       "      <td>-0.795084</td>\n",
       "      <td>-0.902091</td>\n",
       "      <td>-0.854402</td>\n",
       "      <td>-0.686679</td>\n",
       "      <td>-0.203718</td>\n",
       "      <td>0.413285</td>\n",
       "    </tr>\n",
       "    <tr>\n",
       "      <th>16</th>\n",
       "      <td>0.875385</td>\n",
       "      <td>0.780880</td>\n",
       "      <td>0.700472</td>\n",
       "      <td>0.576796</td>\n",
       "      <td>0.725731</td>\n",
       "      <td>0.434092</td>\n",
       "      <td>0.011972</td>\n",
       "      <td>-0.103043</td>\n",
       "      <td>-0.285882</td>\n",
       "      <td>-0.795195</td>\n",
       "    </tr>\n",
       "    <tr>\n",
       "      <th>17</th>\n",
       "      <td>0.466883</td>\n",
       "      <td>-0.181265</td>\n",
       "      <td>-0.443899</td>\n",
       "      <td>-0.595381</td>\n",
       "      <td>-0.763615</td>\n",
       "      <td>-0.318842</td>\n",
       "      <td>-0.212101</td>\n",
       "      <td>-0.839438</td>\n",
       "      <td>-0.630218</td>\n",
       "      <td>1.000000</td>\n",
       "    </tr>\n",
       "    <tr>\n",
       "      <th>18</th>\n",
       "      <td>0.971029</td>\n",
       "      <td>0.927739</td>\n",
       "      <td>0.881028</td>\n",
       "      <td>0.838518</td>\n",
       "      <td>0.805423</td>\n",
       "      <td>0.746728</td>\n",
       "      <td>0.780318</td>\n",
       "      <td>0.897361</td>\n",
       "      <td>0.753456</td>\n",
       "      <td>-0.023313</td>\n",
       "    </tr>\n",
       "    <tr>\n",
       "      <th>19</th>\n",
       "      <td>0.923558</td>\n",
       "      <td>0.834205</td>\n",
       "      <td>0.784287</td>\n",
       "      <td>0.779965</td>\n",
       "      <td>0.776220</td>\n",
       "      <td>0.820506</td>\n",
       "      <td>0.768715</td>\n",
       "      <td>0.493759</td>\n",
       "      <td>0.501118</td>\n",
       "      <td>0.686967</td>\n",
       "    </tr>\n",
       "    <tr>\n",
       "      <th>20</th>\n",
       "      <td>0.617692</td>\n",
       "      <td>0.063432</td>\n",
       "      <td>-0.434639</td>\n",
       "      <td>-0.550781</td>\n",
       "      <td>-0.515885</td>\n",
       "      <td>-0.348255</td>\n",
       "      <td>0.171129</td>\n",
       "      <td>0.737608</td>\n",
       "      <td>0.868351</td>\n",
       "      <td>0.600148</td>\n",
       "    </tr>\n",
       "    <tr>\n",
       "      <th>21</th>\n",
       "      <td>0.978372</td>\n",
       "      <td>0.965543</td>\n",
       "      <td>0.961814</td>\n",
       "      <td>0.947707</td>\n",
       "      <td>0.941576</td>\n",
       "      <td>0.966997</td>\n",
       "      <td>0.976152</td>\n",
       "      <td>0.908943</td>\n",
       "      <td>0.927130</td>\n",
       "      <td>0.983345</td>\n",
       "    </tr>\n",
       "    <tr>\n",
       "      <th>22</th>\n",
       "      <td>0.385586</td>\n",
       "      <td>0.371659</td>\n",
       "      <td>-0.147962</td>\n",
       "      <td>-0.010580</td>\n",
       "      <td>-0.167141</td>\n",
       "      <td>0.238667</td>\n",
       "      <td>-0.236630</td>\n",
       "      <td>0.487014</td>\n",
       "      <td>0.299938</td>\n",
       "      <td>-0.334997</td>\n",
       "    </tr>\n",
       "    <tr>\n",
       "      <th>23</th>\n",
       "      <td>0.277277</td>\n",
       "      <td>-0.200805</td>\n",
       "      <td>-0.458627</td>\n",
       "      <td>-0.524432</td>\n",
       "      <td>0.229106</td>\n",
       "      <td>0.135515</td>\n",
       "      <td>0.113526</td>\n",
       "      <td>-0.127647</td>\n",
       "      <td>-0.894133</td>\n",
       "      <td>0.270754</td>\n",
       "    </tr>\n",
       "    <tr>\n",
       "      <th>24</th>\n",
       "      <td>0.938924</td>\n",
       "      <td>0.853752</td>\n",
       "      <td>0.763853</td>\n",
       "      <td>0.753905</td>\n",
       "      <td>0.849807</td>\n",
       "      <td>0.821200</td>\n",
       "      <td>0.897920</td>\n",
       "      <td>0.811833</td>\n",
       "      <td>0.815275</td>\n",
       "      <td>0.819313</td>\n",
       "    </tr>\n",
       "    <tr>\n",
       "      <th>25</th>\n",
       "      <td>0.790845</td>\n",
       "      <td>0.607768</td>\n",
       "      <td>0.394122</td>\n",
       "      <td>0.340446</td>\n",
       "      <td>0.426736</td>\n",
       "      <td>0.669382</td>\n",
       "      <td>0.506421</td>\n",
       "      <td>0.258685</td>\n",
       "      <td>0.030646</td>\n",
       "      <td>0.195170</td>\n",
       "    </tr>\n",
       "    <tr>\n",
       "      <th>26</th>\n",
       "      <td>0.964460</td>\n",
       "      <td>0.887533</td>\n",
       "      <td>0.791747</td>\n",
       "      <td>0.731918</td>\n",
       "      <td>0.739561</td>\n",
       "      <td>0.778314</td>\n",
       "      <td>0.876881</td>\n",
       "      <td>0.957391</td>\n",
       "      <td>0.973158</td>\n",
       "      <td>0.962892</td>\n",
       "    </tr>\n",
       "    <tr>\n",
       "      <th>27</th>\n",
       "      <td>0.354543</td>\n",
       "      <td>-0.289345</td>\n",
       "      <td>-0.056281</td>\n",
       "      <td>-0.072903</td>\n",
       "      <td>-0.077303</td>\n",
       "      <td>0.452013</td>\n",
       "      <td>0.313834</td>\n",
       "      <td>-0.376353</td>\n",
       "      <td>-0.498300</td>\n",
       "      <td>-0.107649</td>\n",
       "    </tr>\n",
       "    <tr>\n",
       "      <th>28</th>\n",
       "      <td>0.973335</td>\n",
       "      <td>0.913561</td>\n",
       "      <td>0.822865</td>\n",
       "      <td>0.775884</td>\n",
       "      <td>0.777632</td>\n",
       "      <td>0.790606</td>\n",
       "      <td>0.839816</td>\n",
       "      <td>0.914827</td>\n",
       "      <td>0.947154</td>\n",
       "      <td>0.957540</td>\n",
       "    </tr>\n",
       "    <tr>\n",
       "      <th>29</th>\n",
       "      <td>0.803360</td>\n",
       "      <td>0.443763</td>\n",
       "      <td>-0.052390</td>\n",
       "      <td>-0.416997</td>\n",
       "      <td>-0.634886</td>\n",
       "      <td>-0.709811</td>\n",
       "      <td>-0.820637</td>\n",
       "      <td>-0.897403</td>\n",
       "      <td>-0.946592</td>\n",
       "      <td>-0.922768</td>\n",
       "    </tr>\n",
       "    <tr>\n",
       "      <th>30</th>\n",
       "      <td>0.653418</td>\n",
       "      <td>0.313862</td>\n",
       "      <td>0.080677</td>\n",
       "      <td>-0.635221</td>\n",
       "      <td>-0.463450</td>\n",
       "      <td>-0.273076</td>\n",
       "      <td>-0.641386</td>\n",
       "      <td>-0.756214</td>\n",
       "      <td>-0.733952</td>\n",
       "      <td>-0.755054</td>\n",
       "    </tr>\n",
       "    <tr>\n",
       "      <th>31</th>\n",
       "      <td>0.878684</td>\n",
       "      <td>0.738832</td>\n",
       "      <td>0.743971</td>\n",
       "      <td>0.737078</td>\n",
       "      <td>0.601272</td>\n",
       "      <td>0.259391</td>\n",
       "      <td>0.046012</td>\n",
       "      <td>0.227643</td>\n",
       "      <td>-0.244836</td>\n",
       "      <td>-0.725701</td>\n",
       "    </tr>\n",
       "  </tbody>\n",
       "</table>\n",
       "</div>"
      ],
      "text/plain": [
       "       Lag 1     Lag 2     Lag 3     Lag 4     Lag 5     Lag 6     Lag 7  \\\n",
       "0   0.756414  0.513981  0.373920  0.082201 -0.413923  0.074176  0.647381   \n",
       "1   0.482716 -0.028158 -0.409866 -0.498753 -0.454593 -0.629595 -0.211885   \n",
       "2   0.976329  0.971854  0.962031  0.961958  0.925508  0.927028  0.971702   \n",
       "3   0.692498  0.102782 -0.272142 -0.364757 -0.167851 -0.103941 -0.269061   \n",
       "4   0.910665  0.733632  0.561454  0.446438  0.333008  0.201695  0.281284   \n",
       "5   0.890026  0.691392  0.446937  0.396868  0.427188  0.357829  0.426162   \n",
       "6   0.670293  0.307743  0.101392 -0.190348 -0.266066  0.213291 -0.006748   \n",
       "7   0.856207  0.721130  0.576021  0.563564  0.544502  0.582829  0.850919   \n",
       "8   0.314582 -0.118712  0.108771 -0.206700 -0.160502 -0.239878 -0.178913   \n",
       "9   0.911567  0.832620  0.825945  0.763387  0.703955  0.675099  0.693680   \n",
       "10  0.883792  0.732228  0.655377  0.520508  0.307897  0.202330  0.091921   \n",
       "11  0.798160  0.651524  0.584933  0.675013  0.550751  0.438207 -0.063049   \n",
       "12  0.958998  0.948042  0.873370  0.805388  0.808260  0.779655  0.930908   \n",
       "13  0.954632  0.895021  0.831573  0.776413  0.831251  0.913263  0.784499   \n",
       "14  0.662465  0.116810  0.071831  0.562698  0.748000  0.203316 -0.622790   \n",
       "15  0.761571  0.395089 -0.151136 -0.578344 -0.795084 -0.902091 -0.854402   \n",
       "16  0.875385  0.780880  0.700472  0.576796  0.725731  0.434092  0.011972   \n",
       "17  0.466883 -0.181265 -0.443899 -0.595381 -0.763615 -0.318842 -0.212101   \n",
       "18  0.971029  0.927739  0.881028  0.838518  0.805423  0.746728  0.780318   \n",
       "19  0.923558  0.834205  0.784287  0.779965  0.776220  0.820506  0.768715   \n",
       "20  0.617692  0.063432 -0.434639 -0.550781 -0.515885 -0.348255  0.171129   \n",
       "21  0.978372  0.965543  0.961814  0.947707  0.941576  0.966997  0.976152   \n",
       "22  0.385586  0.371659 -0.147962 -0.010580 -0.167141  0.238667 -0.236630   \n",
       "23  0.277277 -0.200805 -0.458627 -0.524432  0.229106  0.135515  0.113526   \n",
       "24  0.938924  0.853752  0.763853  0.753905  0.849807  0.821200  0.897920   \n",
       "25  0.790845  0.607768  0.394122  0.340446  0.426736  0.669382  0.506421   \n",
       "26  0.964460  0.887533  0.791747  0.731918  0.739561  0.778314  0.876881   \n",
       "27  0.354543 -0.289345 -0.056281 -0.072903 -0.077303  0.452013  0.313834   \n",
       "28  0.973335  0.913561  0.822865  0.775884  0.777632  0.790606  0.839816   \n",
       "29  0.803360  0.443763 -0.052390 -0.416997 -0.634886 -0.709811 -0.820637   \n",
       "30  0.653418  0.313862  0.080677 -0.635221 -0.463450 -0.273076 -0.641386   \n",
       "31  0.878684  0.738832  0.743971  0.737078  0.601272  0.259391  0.046012   \n",
       "\n",
       "       Lag 8     Lag 9    Lag 10  \n",
       "0   0.610497  0.740865  0.806031  \n",
       "1   0.387327  0.768555  0.902929  \n",
       "2   0.979066  0.942858  0.912219  \n",
       "3  -0.402704 -0.771463 -0.955803  \n",
       "4   0.763533  0.711321 -0.520242  \n",
       "5   0.586151  0.709815  0.993952  \n",
       "6  -0.014483  0.619477  0.891129  \n",
       "7   0.736694  0.619070 -0.286912  \n",
       "8   0.003254 -0.624686 -0.797843  \n",
       "9   0.560853  0.590647  0.759748  \n",
       "10  0.099506  0.779863  0.674969  \n",
       "11  0.280209  0.193894 -0.027099  \n",
       "12  0.957090  0.976912  0.922543  \n",
       "13  0.623134  0.613050 -0.084490  \n",
       "14 -0.630300  0.812841  0.828833  \n",
       "15 -0.686679 -0.203718  0.413285  \n",
       "16 -0.103043 -0.285882 -0.795195  \n",
       "17 -0.839438 -0.630218  1.000000  \n",
       "18  0.897361  0.753456 -0.023313  \n",
       "19  0.493759  0.501118  0.686967  \n",
       "20  0.737608  0.868351  0.600148  \n",
       "21  0.908943  0.927130  0.983345  \n",
       "22  0.487014  0.299938 -0.334997  \n",
       "23 -0.127647 -0.894133  0.270754  \n",
       "24  0.811833  0.815275  0.819313  \n",
       "25  0.258685  0.030646  0.195170  \n",
       "26  0.957391  0.973158  0.962892  \n",
       "27 -0.376353 -0.498300 -0.107649  \n",
       "28  0.914827  0.947154  0.957540  \n",
       "29 -0.897403 -0.946592 -0.922768  \n",
       "30 -0.756214 -0.733952 -0.755054  \n",
       "31  0.227643 -0.244836 -0.725701  "
      ]
     },
     "execution_count": 45,
     "metadata": {},
     "output_type": "execute_result"
    }
   ],
   "source": [
    "autocorr_plot_country      = 6\n",
    "autocorr_plot_country_name = labour_csv.iloc[6]['Country Name']\n",
    "autocorr_plot_dataset      = 'Labour Productivity'\n",
    "# how one dataset changes as lag is increased\n",
    "lagged_data = pd.DataFrame()\n",
    "for lag in range(1,11):\n",
    "    labour_autocorr = calc_autocorr_all(labour_csv, lag=lag)\n",
    "    lagged_data[f'Lag {lag}'] = labour_autocorr\n",
    "\n",
    "lagged_data"
   ]
  },
  {
   "cell_type": "code",
   "execution_count": 46,
   "id": "seasonal-northeast",
   "metadata": {},
   "outputs": [
    {
     "data": {
      "application/vnd.plotly.v1+json": {
       "config": {
        "plotlyServerURL": "https://plot.ly"
       },
       "data": [
        {
         "hovertemplate": "variable=6<br>Autocorrelation Lag=%{x}<br>Autocorrelation=%{y}<extra></extra>",
         "legendgroup": "6",
         "line": {
          "color": "#636efa",
          "dash": "solid"
         },
         "mode": "lines",
         "name": "6",
         "orientation": "v",
         "showlegend": true,
         "type": "scatter",
         "x": [
          "Lag 1",
          "Lag 2",
          "Lag 3",
          "Lag 4",
          "Lag 5",
          "Lag 6",
          "Lag 7",
          "Lag 8",
          "Lag 9",
          "Lag 10"
         ],
         "xaxis": "x",
         "y": [
          0.6702934069944856,
          0.3077430830695456,
          0.10139164185365653,
          -0.1903481018020612,
          -0.2660662961733167,
          0.21329109988717485,
          -0.006747648024022204,
          -0.014482791574674659,
          0.6194770360428903,
          0.8911289180647393
         ],
         "yaxis": "y"
        }
       ],
       "layout": {
        "legend": {
         "title": {
          "text": "variable"
         },
         "tracegroupgap": 0
        },
        "margin": {
         "t": 60
        },
        "showlegend": false,
        "template": {
         "data": {
          "bar": [
           {
            "error_x": {
             "color": "#2a3f5f"
            },
            "error_y": {
             "color": "#2a3f5f"
            },
            "marker": {
             "line": {
              "color": "#E5ECF6",
              "width": 0.5
             }
            },
            "type": "bar"
           }
          ],
          "barpolar": [
           {
            "marker": {
             "line": {
              "color": "#E5ECF6",
              "width": 0.5
             }
            },
            "type": "barpolar"
           }
          ],
          "carpet": [
           {
            "aaxis": {
             "endlinecolor": "#2a3f5f",
             "gridcolor": "white",
             "linecolor": "white",
             "minorgridcolor": "white",
             "startlinecolor": "#2a3f5f"
            },
            "baxis": {
             "endlinecolor": "#2a3f5f",
             "gridcolor": "white",
             "linecolor": "white",
             "minorgridcolor": "white",
             "startlinecolor": "#2a3f5f"
            },
            "type": "carpet"
           }
          ],
          "choropleth": [
           {
            "colorbar": {
             "outlinewidth": 0,
             "ticks": ""
            },
            "type": "choropleth"
           }
          ],
          "contour": [
           {
            "colorbar": {
             "outlinewidth": 0,
             "ticks": ""
            },
            "colorscale": [
             [
              0,
              "#0d0887"
             ],
             [
              0.1111111111111111,
              "#46039f"
             ],
             [
              0.2222222222222222,
              "#7201a8"
             ],
             [
              0.3333333333333333,
              "#9c179e"
             ],
             [
              0.4444444444444444,
              "#bd3786"
             ],
             [
              0.5555555555555556,
              "#d8576b"
             ],
             [
              0.6666666666666666,
              "#ed7953"
             ],
             [
              0.7777777777777778,
              "#fb9f3a"
             ],
             [
              0.8888888888888888,
              "#fdca26"
             ],
             [
              1,
              "#f0f921"
             ]
            ],
            "type": "contour"
           }
          ],
          "contourcarpet": [
           {
            "colorbar": {
             "outlinewidth": 0,
             "ticks": ""
            },
            "type": "contourcarpet"
           }
          ],
          "heatmap": [
           {
            "colorbar": {
             "outlinewidth": 0,
             "ticks": ""
            },
            "colorscale": [
             [
              0,
              "#0d0887"
             ],
             [
              0.1111111111111111,
              "#46039f"
             ],
             [
              0.2222222222222222,
              "#7201a8"
             ],
             [
              0.3333333333333333,
              "#9c179e"
             ],
             [
              0.4444444444444444,
              "#bd3786"
             ],
             [
              0.5555555555555556,
              "#d8576b"
             ],
             [
              0.6666666666666666,
              "#ed7953"
             ],
             [
              0.7777777777777778,
              "#fb9f3a"
             ],
             [
              0.8888888888888888,
              "#fdca26"
             ],
             [
              1,
              "#f0f921"
             ]
            ],
            "type": "heatmap"
           }
          ],
          "heatmapgl": [
           {
            "colorbar": {
             "outlinewidth": 0,
             "ticks": ""
            },
            "colorscale": [
             [
              0,
              "#0d0887"
             ],
             [
              0.1111111111111111,
              "#46039f"
             ],
             [
              0.2222222222222222,
              "#7201a8"
             ],
             [
              0.3333333333333333,
              "#9c179e"
             ],
             [
              0.4444444444444444,
              "#bd3786"
             ],
             [
              0.5555555555555556,
              "#d8576b"
             ],
             [
              0.6666666666666666,
              "#ed7953"
             ],
             [
              0.7777777777777778,
              "#fb9f3a"
             ],
             [
              0.8888888888888888,
              "#fdca26"
             ],
             [
              1,
              "#f0f921"
             ]
            ],
            "type": "heatmapgl"
           }
          ],
          "histogram": [
           {
            "marker": {
             "colorbar": {
              "outlinewidth": 0,
              "ticks": ""
             }
            },
            "type": "histogram"
           }
          ],
          "histogram2d": [
           {
            "colorbar": {
             "outlinewidth": 0,
             "ticks": ""
            },
            "colorscale": [
             [
              0,
              "#0d0887"
             ],
             [
              0.1111111111111111,
              "#46039f"
             ],
             [
              0.2222222222222222,
              "#7201a8"
             ],
             [
              0.3333333333333333,
              "#9c179e"
             ],
             [
              0.4444444444444444,
              "#bd3786"
             ],
             [
              0.5555555555555556,
              "#d8576b"
             ],
             [
              0.6666666666666666,
              "#ed7953"
             ],
             [
              0.7777777777777778,
              "#fb9f3a"
             ],
             [
              0.8888888888888888,
              "#fdca26"
             ],
             [
              1,
              "#f0f921"
             ]
            ],
            "type": "histogram2d"
           }
          ],
          "histogram2dcontour": [
           {
            "colorbar": {
             "outlinewidth": 0,
             "ticks": ""
            },
            "colorscale": [
             [
              0,
              "#0d0887"
             ],
             [
              0.1111111111111111,
              "#46039f"
             ],
             [
              0.2222222222222222,
              "#7201a8"
             ],
             [
              0.3333333333333333,
              "#9c179e"
             ],
             [
              0.4444444444444444,
              "#bd3786"
             ],
             [
              0.5555555555555556,
              "#d8576b"
             ],
             [
              0.6666666666666666,
              "#ed7953"
             ],
             [
              0.7777777777777778,
              "#fb9f3a"
             ],
             [
              0.8888888888888888,
              "#fdca26"
             ],
             [
              1,
              "#f0f921"
             ]
            ],
            "type": "histogram2dcontour"
           }
          ],
          "mesh3d": [
           {
            "colorbar": {
             "outlinewidth": 0,
             "ticks": ""
            },
            "type": "mesh3d"
           }
          ],
          "parcoords": [
           {
            "line": {
             "colorbar": {
              "outlinewidth": 0,
              "ticks": ""
             }
            },
            "type": "parcoords"
           }
          ],
          "pie": [
           {
            "automargin": true,
            "type": "pie"
           }
          ],
          "scatter": [
           {
            "marker": {
             "colorbar": {
              "outlinewidth": 0,
              "ticks": ""
             }
            },
            "type": "scatter"
           }
          ],
          "scatter3d": [
           {
            "line": {
             "colorbar": {
              "outlinewidth": 0,
              "ticks": ""
             }
            },
            "marker": {
             "colorbar": {
              "outlinewidth": 0,
              "ticks": ""
             }
            },
            "type": "scatter3d"
           }
          ],
          "scattercarpet": [
           {
            "marker": {
             "colorbar": {
              "outlinewidth": 0,
              "ticks": ""
             }
            },
            "type": "scattercarpet"
           }
          ],
          "scattergeo": [
           {
            "marker": {
             "colorbar": {
              "outlinewidth": 0,
              "ticks": ""
             }
            },
            "type": "scattergeo"
           }
          ],
          "scattergl": [
           {
            "marker": {
             "colorbar": {
              "outlinewidth": 0,
              "ticks": ""
             }
            },
            "type": "scattergl"
           }
          ],
          "scattermapbox": [
           {
            "marker": {
             "colorbar": {
              "outlinewidth": 0,
              "ticks": ""
             }
            },
            "type": "scattermapbox"
           }
          ],
          "scatterpolar": [
           {
            "marker": {
             "colorbar": {
              "outlinewidth": 0,
              "ticks": ""
             }
            },
            "type": "scatterpolar"
           }
          ],
          "scatterpolargl": [
           {
            "marker": {
             "colorbar": {
              "outlinewidth": 0,
              "ticks": ""
             }
            },
            "type": "scatterpolargl"
           }
          ],
          "scatterternary": [
           {
            "marker": {
             "colorbar": {
              "outlinewidth": 0,
              "ticks": ""
             }
            },
            "type": "scatterternary"
           }
          ],
          "surface": [
           {
            "colorbar": {
             "outlinewidth": 0,
             "ticks": ""
            },
            "colorscale": [
             [
              0,
              "#0d0887"
             ],
             [
              0.1111111111111111,
              "#46039f"
             ],
             [
              0.2222222222222222,
              "#7201a8"
             ],
             [
              0.3333333333333333,
              "#9c179e"
             ],
             [
              0.4444444444444444,
              "#bd3786"
             ],
             [
              0.5555555555555556,
              "#d8576b"
             ],
             [
              0.6666666666666666,
              "#ed7953"
             ],
             [
              0.7777777777777778,
              "#fb9f3a"
             ],
             [
              0.8888888888888888,
              "#fdca26"
             ],
             [
              1,
              "#f0f921"
             ]
            ],
            "type": "surface"
           }
          ],
          "table": [
           {
            "cells": {
             "fill": {
              "color": "#EBF0F8"
             },
             "line": {
              "color": "white"
             }
            },
            "header": {
             "fill": {
              "color": "#C8D4E3"
             },
             "line": {
              "color": "white"
             }
            },
            "type": "table"
           }
          ]
         },
         "layout": {
          "annotationdefaults": {
           "arrowcolor": "#2a3f5f",
           "arrowhead": 0,
           "arrowwidth": 1
          },
          "autotypenumbers": "strict",
          "coloraxis": {
           "colorbar": {
            "outlinewidth": 0,
            "ticks": ""
           }
          },
          "colorscale": {
           "diverging": [
            [
             0,
             "#8e0152"
            ],
            [
             0.1,
             "#c51b7d"
            ],
            [
             0.2,
             "#de77ae"
            ],
            [
             0.3,
             "#f1b6da"
            ],
            [
             0.4,
             "#fde0ef"
            ],
            [
             0.5,
             "#f7f7f7"
            ],
            [
             0.6,
             "#e6f5d0"
            ],
            [
             0.7,
             "#b8e186"
            ],
            [
             0.8,
             "#7fbc41"
            ],
            [
             0.9,
             "#4d9221"
            ],
            [
             1,
             "#276419"
            ]
           ],
           "sequential": [
            [
             0,
             "#0d0887"
            ],
            [
             0.1111111111111111,
             "#46039f"
            ],
            [
             0.2222222222222222,
             "#7201a8"
            ],
            [
             0.3333333333333333,
             "#9c179e"
            ],
            [
             0.4444444444444444,
             "#bd3786"
            ],
            [
             0.5555555555555556,
             "#d8576b"
            ],
            [
             0.6666666666666666,
             "#ed7953"
            ],
            [
             0.7777777777777778,
             "#fb9f3a"
            ],
            [
             0.8888888888888888,
             "#fdca26"
            ],
            [
             1,
             "#f0f921"
            ]
           ],
           "sequentialminus": [
            [
             0,
             "#0d0887"
            ],
            [
             0.1111111111111111,
             "#46039f"
            ],
            [
             0.2222222222222222,
             "#7201a8"
            ],
            [
             0.3333333333333333,
             "#9c179e"
            ],
            [
             0.4444444444444444,
             "#bd3786"
            ],
            [
             0.5555555555555556,
             "#d8576b"
            ],
            [
             0.6666666666666666,
             "#ed7953"
            ],
            [
             0.7777777777777778,
             "#fb9f3a"
            ],
            [
             0.8888888888888888,
             "#fdca26"
            ],
            [
             1,
             "#f0f921"
            ]
           ]
          },
          "colorway": [
           "#636efa",
           "#EF553B",
           "#00cc96",
           "#ab63fa",
           "#FFA15A",
           "#19d3f3",
           "#FF6692",
           "#B6E880",
           "#FF97FF",
           "#FECB52"
          ],
          "font": {
           "color": "#2a3f5f"
          },
          "geo": {
           "bgcolor": "white",
           "lakecolor": "white",
           "landcolor": "#E5ECF6",
           "showlakes": true,
           "showland": true,
           "subunitcolor": "white"
          },
          "hoverlabel": {
           "align": "left"
          },
          "hovermode": "closest",
          "mapbox": {
           "style": "light"
          },
          "paper_bgcolor": "white",
          "plot_bgcolor": "#E5ECF6",
          "polar": {
           "angularaxis": {
            "gridcolor": "white",
            "linecolor": "white",
            "ticks": ""
           },
           "bgcolor": "#E5ECF6",
           "radialaxis": {
            "gridcolor": "white",
            "linecolor": "white",
            "ticks": ""
           }
          },
          "scene": {
           "xaxis": {
            "backgroundcolor": "#E5ECF6",
            "gridcolor": "white",
            "gridwidth": 2,
            "linecolor": "white",
            "showbackground": true,
            "ticks": "",
            "zerolinecolor": "white"
           },
           "yaxis": {
            "backgroundcolor": "#E5ECF6",
            "gridcolor": "white",
            "gridwidth": 2,
            "linecolor": "white",
            "showbackground": true,
            "ticks": "",
            "zerolinecolor": "white"
           },
           "zaxis": {
            "backgroundcolor": "#E5ECF6",
            "gridcolor": "white",
            "gridwidth": 2,
            "linecolor": "white",
            "showbackground": true,
            "ticks": "",
            "zerolinecolor": "white"
           }
          },
          "shapedefaults": {
           "line": {
            "color": "#2a3f5f"
           }
          },
          "ternary": {
           "aaxis": {
            "gridcolor": "white",
            "linecolor": "white",
            "ticks": ""
           },
           "baxis": {
            "gridcolor": "white",
            "linecolor": "white",
            "ticks": ""
           },
           "bgcolor": "#E5ECF6",
           "caxis": {
            "gridcolor": "white",
            "linecolor": "white",
            "ticks": ""
           }
          },
          "title": {
           "x": 0.05
          },
          "xaxis": {
           "automargin": true,
           "gridcolor": "white",
           "linecolor": "white",
           "ticks": "",
           "title": {
            "standoff": 15
           },
           "zerolinecolor": "white",
           "zerolinewidth": 2
          },
          "yaxis": {
           "automargin": true,
           "gridcolor": "white",
           "linecolor": "white",
           "ticks": "",
           "title": {
            "standoff": 15
           },
           "zerolinecolor": "white",
           "zerolinewidth": 2
          }
         }
        },
        "title": {
         "text": "Autocorrelation Plot for Germany's Labour Productivity<br>with an Increasing Lag",
         "x": 0.5
        },
        "xaxis": {
         "anchor": "y",
         "domain": [
          0,
          1
         ],
         "title": {
          "text": "Autocorrelation Lag"
         }
        },
        "yaxis": {
         "anchor": "x",
         "domain": [
          0,
          1
         ],
         "range": [
          -1,
          1
         ],
         "title": {
          "text": "Autocorrelation"
         }
        }
       }
      },
      "text/html": [
       "<div>                            <div id=\"b71b1346-c779-483b-bc1a-ef8250c47c08\" class=\"plotly-graph-div\" style=\"height:525px; width:100%;\"></div>            <script type=\"text/javascript\">                require([\"plotly\"], function(Plotly) {                    window.PLOTLYENV=window.PLOTLYENV || {};                                    if (document.getElementById(\"b71b1346-c779-483b-bc1a-ef8250c47c08\")) {                    Plotly.newPlot(                        \"b71b1346-c779-483b-bc1a-ef8250c47c08\",                        [{\"hovertemplate\": \"variable=6<br>Autocorrelation Lag=%{x}<br>Autocorrelation=%{y}<extra></extra>\", \"legendgroup\": \"6\", \"line\": {\"color\": \"#636efa\", \"dash\": \"solid\"}, \"mode\": \"lines\", \"name\": \"6\", \"orientation\": \"v\", \"showlegend\": true, \"type\": \"scatter\", \"x\": [\"Lag 1\", \"Lag 2\", \"Lag 3\", \"Lag 4\", \"Lag 5\", \"Lag 6\", \"Lag 7\", \"Lag 8\", \"Lag 9\", \"Lag 10\"], \"xaxis\": \"x\", \"y\": [0.6702934069944856, 0.3077430830695456, 0.10139164185365653, -0.1903481018020612, -0.2660662961733167, 0.21329109988717485, -0.006747648024022204, -0.014482791574674659, 0.6194770360428903, 0.8911289180647393], \"yaxis\": \"y\"}],                        {\"legend\": {\"title\": {\"text\": \"variable\"}, \"tracegroupgap\": 0}, \"margin\": {\"t\": 60}, \"showlegend\": false, \"template\": {\"data\": {\"bar\": [{\"error_x\": {\"color\": \"#2a3f5f\"}, \"error_y\": {\"color\": \"#2a3f5f\"}, \"marker\": {\"line\": {\"color\": \"#E5ECF6\", \"width\": 0.5}}, \"type\": \"bar\"}], \"barpolar\": [{\"marker\": {\"line\": {\"color\": \"#E5ECF6\", \"width\": 0.5}}, \"type\": \"barpolar\"}], \"carpet\": [{\"aaxis\": {\"endlinecolor\": \"#2a3f5f\", \"gridcolor\": \"white\", \"linecolor\": \"white\", \"minorgridcolor\": \"white\", \"startlinecolor\": \"#2a3f5f\"}, \"baxis\": {\"endlinecolor\": \"#2a3f5f\", \"gridcolor\": \"white\", \"linecolor\": \"white\", \"minorgridcolor\": \"white\", \"startlinecolor\": \"#2a3f5f\"}, \"type\": \"carpet\"}], \"choropleth\": [{\"colorbar\": {\"outlinewidth\": 0, \"ticks\": \"\"}, \"type\": \"choropleth\"}], \"contour\": [{\"colorbar\": {\"outlinewidth\": 0, \"ticks\": \"\"}, \"colorscale\": [[0.0, \"#0d0887\"], [0.1111111111111111, \"#46039f\"], [0.2222222222222222, \"#7201a8\"], [0.3333333333333333, \"#9c179e\"], [0.4444444444444444, \"#bd3786\"], [0.5555555555555556, \"#d8576b\"], [0.6666666666666666, \"#ed7953\"], [0.7777777777777778, \"#fb9f3a\"], [0.8888888888888888, \"#fdca26\"], [1.0, \"#f0f921\"]], \"type\": \"contour\"}], \"contourcarpet\": [{\"colorbar\": {\"outlinewidth\": 0, \"ticks\": \"\"}, \"type\": \"contourcarpet\"}], \"heatmap\": [{\"colorbar\": {\"outlinewidth\": 0, \"ticks\": \"\"}, \"colorscale\": [[0.0, \"#0d0887\"], [0.1111111111111111, \"#46039f\"], [0.2222222222222222, \"#7201a8\"], [0.3333333333333333, \"#9c179e\"], [0.4444444444444444, \"#bd3786\"], [0.5555555555555556, \"#d8576b\"], [0.6666666666666666, \"#ed7953\"], [0.7777777777777778, \"#fb9f3a\"], [0.8888888888888888, \"#fdca26\"], [1.0, \"#f0f921\"]], \"type\": \"heatmap\"}], \"heatmapgl\": [{\"colorbar\": {\"outlinewidth\": 0, \"ticks\": \"\"}, \"colorscale\": [[0.0, \"#0d0887\"], [0.1111111111111111, \"#46039f\"], [0.2222222222222222, \"#7201a8\"], [0.3333333333333333, \"#9c179e\"], [0.4444444444444444, \"#bd3786\"], [0.5555555555555556, \"#d8576b\"], [0.6666666666666666, \"#ed7953\"], [0.7777777777777778, \"#fb9f3a\"], [0.8888888888888888, \"#fdca26\"], [1.0, \"#f0f921\"]], \"type\": \"heatmapgl\"}], \"histogram\": [{\"marker\": {\"colorbar\": {\"outlinewidth\": 0, \"ticks\": \"\"}}, \"type\": \"histogram\"}], \"histogram2d\": [{\"colorbar\": {\"outlinewidth\": 0, \"ticks\": \"\"}, \"colorscale\": [[0.0, \"#0d0887\"], [0.1111111111111111, \"#46039f\"], [0.2222222222222222, \"#7201a8\"], [0.3333333333333333, \"#9c179e\"], [0.4444444444444444, \"#bd3786\"], [0.5555555555555556, \"#d8576b\"], [0.6666666666666666, \"#ed7953\"], [0.7777777777777778, \"#fb9f3a\"], [0.8888888888888888, \"#fdca26\"], [1.0, \"#f0f921\"]], \"type\": \"histogram2d\"}], \"histogram2dcontour\": [{\"colorbar\": {\"outlinewidth\": 0, \"ticks\": \"\"}, \"colorscale\": [[0.0, \"#0d0887\"], [0.1111111111111111, \"#46039f\"], [0.2222222222222222, \"#7201a8\"], [0.3333333333333333, \"#9c179e\"], [0.4444444444444444, \"#bd3786\"], [0.5555555555555556, \"#d8576b\"], [0.6666666666666666, \"#ed7953\"], [0.7777777777777778, \"#fb9f3a\"], [0.8888888888888888, \"#fdca26\"], [1.0, \"#f0f921\"]], \"type\": \"histogram2dcontour\"}], \"mesh3d\": [{\"colorbar\": {\"outlinewidth\": 0, \"ticks\": \"\"}, \"type\": \"mesh3d\"}], \"parcoords\": [{\"line\": {\"colorbar\": {\"outlinewidth\": 0, \"ticks\": \"\"}}, \"type\": \"parcoords\"}], \"pie\": [{\"automargin\": true, \"type\": \"pie\"}], \"scatter\": [{\"marker\": {\"colorbar\": {\"outlinewidth\": 0, \"ticks\": \"\"}}, \"type\": \"scatter\"}], \"scatter3d\": [{\"line\": {\"colorbar\": {\"outlinewidth\": 0, \"ticks\": \"\"}}, \"marker\": {\"colorbar\": {\"outlinewidth\": 0, \"ticks\": \"\"}}, \"type\": \"scatter3d\"}], \"scattercarpet\": [{\"marker\": {\"colorbar\": {\"outlinewidth\": 0, \"ticks\": \"\"}}, \"type\": \"scattercarpet\"}], \"scattergeo\": [{\"marker\": {\"colorbar\": {\"outlinewidth\": 0, \"ticks\": \"\"}}, \"type\": \"scattergeo\"}], \"scattergl\": [{\"marker\": {\"colorbar\": {\"outlinewidth\": 0, \"ticks\": \"\"}}, \"type\": \"scattergl\"}], \"scattermapbox\": [{\"marker\": {\"colorbar\": {\"outlinewidth\": 0, \"ticks\": \"\"}}, \"type\": \"scattermapbox\"}], \"scatterpolar\": [{\"marker\": {\"colorbar\": {\"outlinewidth\": 0, \"ticks\": \"\"}}, \"type\": \"scatterpolar\"}], \"scatterpolargl\": [{\"marker\": {\"colorbar\": {\"outlinewidth\": 0, \"ticks\": \"\"}}, \"type\": \"scatterpolargl\"}], \"scatterternary\": [{\"marker\": {\"colorbar\": {\"outlinewidth\": 0, \"ticks\": \"\"}}, \"type\": \"scatterternary\"}], \"surface\": [{\"colorbar\": {\"outlinewidth\": 0, \"ticks\": \"\"}, \"colorscale\": [[0.0, \"#0d0887\"], [0.1111111111111111, \"#46039f\"], [0.2222222222222222, \"#7201a8\"], [0.3333333333333333, \"#9c179e\"], [0.4444444444444444, \"#bd3786\"], [0.5555555555555556, \"#d8576b\"], [0.6666666666666666, \"#ed7953\"], [0.7777777777777778, \"#fb9f3a\"], [0.8888888888888888, \"#fdca26\"], [1.0, \"#f0f921\"]], \"type\": \"surface\"}], \"table\": [{\"cells\": {\"fill\": {\"color\": \"#EBF0F8\"}, \"line\": {\"color\": \"white\"}}, \"header\": {\"fill\": {\"color\": \"#C8D4E3\"}, \"line\": {\"color\": \"white\"}}, \"type\": \"table\"}]}, \"layout\": {\"annotationdefaults\": {\"arrowcolor\": \"#2a3f5f\", \"arrowhead\": 0, \"arrowwidth\": 1}, \"autotypenumbers\": \"strict\", \"coloraxis\": {\"colorbar\": {\"outlinewidth\": 0, \"ticks\": \"\"}}, \"colorscale\": {\"diverging\": [[0, \"#8e0152\"], [0.1, \"#c51b7d\"], [0.2, \"#de77ae\"], [0.3, \"#f1b6da\"], [0.4, \"#fde0ef\"], [0.5, \"#f7f7f7\"], [0.6, \"#e6f5d0\"], [0.7, \"#b8e186\"], [0.8, \"#7fbc41\"], [0.9, \"#4d9221\"], [1, \"#276419\"]], \"sequential\": [[0.0, \"#0d0887\"], [0.1111111111111111, \"#46039f\"], [0.2222222222222222, \"#7201a8\"], [0.3333333333333333, \"#9c179e\"], [0.4444444444444444, \"#bd3786\"], [0.5555555555555556, \"#d8576b\"], [0.6666666666666666, \"#ed7953\"], [0.7777777777777778, \"#fb9f3a\"], [0.8888888888888888, \"#fdca26\"], [1.0, \"#f0f921\"]], \"sequentialminus\": [[0.0, \"#0d0887\"], [0.1111111111111111, \"#46039f\"], [0.2222222222222222, \"#7201a8\"], [0.3333333333333333, \"#9c179e\"], [0.4444444444444444, \"#bd3786\"], [0.5555555555555556, \"#d8576b\"], [0.6666666666666666, \"#ed7953\"], [0.7777777777777778, \"#fb9f3a\"], [0.8888888888888888, \"#fdca26\"], [1.0, \"#f0f921\"]]}, \"colorway\": [\"#636efa\", \"#EF553B\", \"#00cc96\", \"#ab63fa\", \"#FFA15A\", \"#19d3f3\", \"#FF6692\", \"#B6E880\", \"#FF97FF\", \"#FECB52\"], \"font\": {\"color\": \"#2a3f5f\"}, \"geo\": {\"bgcolor\": \"white\", \"lakecolor\": \"white\", \"landcolor\": \"#E5ECF6\", \"showlakes\": true, \"showland\": true, \"subunitcolor\": \"white\"}, \"hoverlabel\": {\"align\": \"left\"}, \"hovermode\": \"closest\", \"mapbox\": {\"style\": \"light\"}, \"paper_bgcolor\": \"white\", \"plot_bgcolor\": \"#E5ECF6\", \"polar\": {\"angularaxis\": {\"gridcolor\": \"white\", \"linecolor\": \"white\", \"ticks\": \"\"}, \"bgcolor\": \"#E5ECF6\", \"radialaxis\": {\"gridcolor\": \"white\", \"linecolor\": \"white\", \"ticks\": \"\"}}, \"scene\": {\"xaxis\": {\"backgroundcolor\": \"#E5ECF6\", \"gridcolor\": \"white\", \"gridwidth\": 2, \"linecolor\": \"white\", \"showbackground\": true, \"ticks\": \"\", \"zerolinecolor\": \"white\"}, \"yaxis\": {\"backgroundcolor\": \"#E5ECF6\", \"gridcolor\": \"white\", \"gridwidth\": 2, \"linecolor\": \"white\", \"showbackground\": true, \"ticks\": \"\", \"zerolinecolor\": \"white\"}, \"zaxis\": {\"backgroundcolor\": \"#E5ECF6\", \"gridcolor\": \"white\", \"gridwidth\": 2, \"linecolor\": \"white\", \"showbackground\": true, \"ticks\": \"\", \"zerolinecolor\": \"white\"}}, \"shapedefaults\": {\"line\": {\"color\": \"#2a3f5f\"}}, \"ternary\": {\"aaxis\": {\"gridcolor\": \"white\", \"linecolor\": \"white\", \"ticks\": \"\"}, \"baxis\": {\"gridcolor\": \"white\", \"linecolor\": \"white\", \"ticks\": \"\"}, \"bgcolor\": \"#E5ECF6\", \"caxis\": {\"gridcolor\": \"white\", \"linecolor\": \"white\", \"ticks\": \"\"}}, \"title\": {\"x\": 0.05}, \"xaxis\": {\"automargin\": true, \"gridcolor\": \"white\", \"linecolor\": \"white\", \"ticks\": \"\", \"title\": {\"standoff\": 15}, \"zerolinecolor\": \"white\", \"zerolinewidth\": 2}, \"yaxis\": {\"automargin\": true, \"gridcolor\": \"white\", \"linecolor\": \"white\", \"ticks\": \"\", \"title\": {\"standoff\": 15}, \"zerolinecolor\": \"white\", \"zerolinewidth\": 2}}}, \"title\": {\"text\": \"Autocorrelation Plot for Germany's Labour Productivity<br>with an Increasing Lag\", \"x\": 0.5}, \"xaxis\": {\"anchor\": \"y\", \"domain\": [0.0, 1.0], \"title\": {\"text\": \"Autocorrelation Lag\"}}, \"yaxis\": {\"anchor\": \"x\", \"domain\": [0.0, 1.0], \"range\": [-1, 1], \"title\": {\"text\": \"Autocorrelation\"}}},                        {\"responsive\": true}                    ).then(function(){\n",
       "                            \n",
       "var gd = document.getElementById('b71b1346-c779-483b-bc1a-ef8250c47c08');\n",
       "var x = new MutationObserver(function (mutations, observer) {{\n",
       "        var display = window.getComputedStyle(gd).display;\n",
       "        if (!display || display === 'none') {{\n",
       "            console.log([gd, 'removed!']);\n",
       "            Plotly.purge(gd);\n",
       "            observer.disconnect();\n",
       "        }}\n",
       "}});\n",
       "\n",
       "// Listen for the removal of the full notebook cells\n",
       "var notebookContainer = gd.closest('#notebook-container');\n",
       "if (notebookContainer) {{\n",
       "    x.observe(notebookContainer, {childList: true});\n",
       "}}\n",
       "\n",
       "// Listen for the clearing of the current output cell\n",
       "var outputEl = gd.closest('.output');\n",
       "if (outputEl) {{\n",
       "    x.observe(outputEl, {childList: true});\n",
       "}}\n",
       "\n",
       "                        })                };                });            </script>        </div>"
      ]
     },
     "metadata": {},
     "output_type": "display_data"
    }
   ],
   "source": [
    "# autocorrelation plot\n",
    "fig = px.line(lagged_data.iloc[6],\n",
    "              labels={\n",
    "                     \"value\": \"Autocorrelation\",\n",
    "                     \"index\": \"Autocorrelation Lag\"\n",
    "                    })\n",
    "fig.update_layout(title_text=f'Autocorrelation Plot for {autocorr_plot_country_name}\\'s {autocorr_plot_dataset}<br>with an Increasing Lag',\n",
    "                  title_x=0.5,\n",
    "                  showlegend=False)\n",
    "fig.update_yaxes(range=[-1, 1])\n",
    "\n",
    "fig.show()"
   ]
  },
  {
   "cell_type": "code",
   "execution_count": 83,
   "id": "nutritional-defendant",
   "metadata": {},
   "outputs": [
    {
     "name": "stderr",
     "output_type": "stream",
     "text": [
      "/home/adam/.local/lib/python3.8/site-packages/numpy/lib/function_base.py:2551: RuntimeWarning:\n",
      "\n",
      "Degrees of freedom <= 0 for slice\n",
      "\n",
      "/home/adam/.local/lib/python3.8/site-packages/numpy/lib/function_base.py:2480: RuntimeWarning:\n",
      "\n",
      "divide by zero encountered in true_divide\n",
      "\n"
     ]
    },
    {
     "data": {
      "text/html": [
       "<div>\n",
       "<style scoped>\n",
       "    .dataframe tbody tr th:only-of-type {\n",
       "        vertical-align: middle;\n",
       "    }\n",
       "\n",
       "    .dataframe tbody tr th {\n",
       "        vertical-align: top;\n",
       "    }\n",
       "\n",
       "    .dataframe thead tr th {\n",
       "        text-align: left;\n",
       "    }\n",
       "</style>\n",
       "<table border=\"1\" class=\"dataframe\">\n",
       "  <thead>\n",
       "    <tr>\n",
       "      <th></th>\n",
       "      <th></th>\n",
       "      <th colspan=\"4\" halign=\"left\">Labour Productivity Autocorrelation</th>\n",
       "      <th colspan=\"4\" halign=\"left\">GDP Autocorrelation</th>\n",
       "      <th colspan=\"4\" halign=\"left\">Income Inequality Autocorrelation</th>\n",
       "    </tr>\n",
       "    <tr>\n",
       "      <th></th>\n",
       "      <th>Country Code</th>\n",
       "      <th>Lag Argmax</th>\n",
       "      <th>Lag Max</th>\n",
       "      <th>Lag Argmin</th>\n",
       "      <th>Lag Min</th>\n",
       "      <th>Lag Argmax</th>\n",
       "      <th>Lag Max</th>\n",
       "      <th>Lag Argmin</th>\n",
       "      <th>Lag Min</th>\n",
       "      <th>Lag Argmax</th>\n",
       "      <th>Lag Max</th>\n",
       "      <th>Lag Argmin</th>\n",
       "      <th>Lag Min</th>\n",
       "    </tr>\n",
       "  </thead>\n",
       "  <tbody>\n",
       "    <tr>\n",
       "      <th>0</th>\n",
       "      <td>AUT</td>\n",
       "      <td>NaN</td>\n",
       "      <td>NaN</td>\n",
       "      <td>NaN</td>\n",
       "      <td>NaN</td>\n",
       "      <td>1.000000</td>\n",
       "      <td>0.992916</td>\n",
       "      <td>24.000000</td>\n",
       "      <td>-1.0</td>\n",
       "      <td>NaN</td>\n",
       "      <td>NaN</td>\n",
       "      <td>NaN</td>\n",
       "      <td>NaN</td>\n",
       "    </tr>\n",
       "    <tr>\n",
       "      <th>1</th>\n",
       "      <td>BEL</td>\n",
       "      <td>10.000000</td>\n",
       "      <td>0.902929</td>\n",
       "      <td>6.000000</td>\n",
       "      <td>-0.629595</td>\n",
       "      <td>24.000000</td>\n",
       "      <td>1.0</td>\n",
       "      <td>23.000000</td>\n",
       "      <td>-0.854801</td>\n",
       "      <td>8.000000</td>\n",
       "      <td>0.934358</td>\n",
       "      <td>7.000000</td>\n",
       "      <td>-0.535478</td>\n",
       "    </tr>\n",
       "    <tr>\n",
       "      <th>2</th>\n",
       "      <td>BGR</td>\n",
       "      <td>11.000000</td>\n",
       "      <td>0.980535</td>\n",
       "      <td>12.000000</td>\n",
       "      <td>0.797831</td>\n",
       "      <td>24.000000</td>\n",
       "      <td>1.0</td>\n",
       "      <td>23.000000</td>\n",
       "      <td>-0.998072</td>\n",
       "      <td>1.000000</td>\n",
       "      <td>0.889667</td>\n",
       "      <td>7.000000</td>\n",
       "      <td>-0.256475</td>\n",
       "    </tr>\n",
       "    <tr>\n",
       "      <th>3</th>\n",
       "      <td>CHE</td>\n",
       "      <td>1.000000</td>\n",
       "      <td>0.692498</td>\n",
       "      <td>10.000000</td>\n",
       "      <td>-0.955803</td>\n",
       "      <td>1.000000</td>\n",
       "      <td>0.994718</td>\n",
       "      <td>35.000000</td>\n",
       "      <td>0.619977</td>\n",
       "      <td>2.000000</td>\n",
       "      <td>0.267679</td>\n",
       "      <td>7.000000</td>\n",
       "      <td>-0.894682</td>\n",
       "    </tr>\n",
       "    <tr>\n",
       "      <th>4</th>\n",
       "      <td>CYP</td>\n",
       "      <td>1.000000</td>\n",
       "      <td>0.910665</td>\n",
       "      <td>12.000000</td>\n",
       "      <td>-0.998868</td>\n",
       "      <td>23.000000</td>\n",
       "      <td>1.0</td>\n",
       "      <td>15.000000</td>\n",
       "      <td>0.558958</td>\n",
       "      <td>1.000000</td>\n",
       "      <td>0.645813</td>\n",
       "      <td>8.000000</td>\n",
       "      <td>-0.996979</td>\n",
       "    </tr>\n",
       "    <tr>\n",
       "      <th>5</th>\n",
       "      <td>CZE</td>\n",
       "      <td>10.000000</td>\n",
       "      <td>0.993952</td>\n",
       "      <td>6.000000</td>\n",
       "      <td>0.357829</td>\n",
       "      <td>1.000000</td>\n",
       "      <td>0.987535</td>\n",
       "      <td>24.000000</td>\n",
       "      <td>-1.0</td>\n",
       "      <td>1.000000</td>\n",
       "      <td>0.564593</td>\n",
       "      <td>7.000000</td>\n",
       "      <td>-0.736408</td>\n",
       "    </tr>\n",
       "    <tr>\n",
       "      <th>6</th>\n",
       "      <td>DEU</td>\n",
       "      <td>11.000000</td>\n",
       "      <td>0.973859</td>\n",
       "      <td>5.000000</td>\n",
       "      <td>-0.266066</td>\n",
       "      <td>1.000000</td>\n",
       "      <td>0.998257</td>\n",
       "      <td>14.000000</td>\n",
       "      <td>0.951133</td>\n",
       "      <td>4.000000</td>\n",
       "      <td>0.507977</td>\n",
       "      <td>7.000000</td>\n",
       "      <td>-0.441029</td>\n",
       "    </tr>\n",
       "    <tr>\n",
       "      <th>7</th>\n",
       "      <td>DNK</td>\n",
       "      <td>1.000000</td>\n",
       "      <td>0.856207</td>\n",
       "      <td>12.000000</td>\n",
       "      <td>-0.755929</td>\n",
       "      <td>1.000000</td>\n",
       "      <td>0.998984</td>\n",
       "      <td>35.000000</td>\n",
       "      <td>0.975449</td>\n",
       "      <td>1.000000</td>\n",
       "      <td>0.663341</td>\n",
       "      <td>3.000000</td>\n",
       "      <td>-0.916309</td>\n",
       "    </tr>\n",
       "    <tr>\n",
       "      <th>8</th>\n",
       "      <td>ESP</td>\n",
       "      <td>1.000000</td>\n",
       "      <td>0.314582</td>\n",
       "      <td>12.000000</td>\n",
       "      <td>-0.83224</td>\n",
       "      <td>23.000000</td>\n",
       "      <td>1.0</td>\n",
       "      <td>11.000000</td>\n",
       "      <td>0.725501</td>\n",
       "      <td>1.000000</td>\n",
       "      <td>0.554757</td>\n",
       "      <td>8.000000</td>\n",
       "      <td>-0.987146</td>\n",
       "    </tr>\n",
       "    <tr>\n",
       "      <th>9</th>\n",
       "      <td>EST</td>\n",
       "      <td>12.000000</td>\n",
       "      <td>0.95495</td>\n",
       "      <td>8.000000</td>\n",
       "      <td>0.560853</td>\n",
       "      <td>1.000000</td>\n",
       "      <td>0.990091</td>\n",
       "      <td>24.000000</td>\n",
       "      <td>-1.0</td>\n",
       "      <td>1.000000</td>\n",
       "      <td>0.612771</td>\n",
       "      <td>7.000000</td>\n",
       "      <td>-0.964355</td>\n",
       "    </tr>\n",
       "    <tr>\n",
       "      <th>10</th>\n",
       "      <td>FIN</td>\n",
       "      <td>1.000000</td>\n",
       "      <td>0.883792</td>\n",
       "      <td>11.000000</td>\n",
       "      <td>-0.780083</td>\n",
       "      <td>1.000000</td>\n",
       "      <td>0.993016</td>\n",
       "      <td>26.000000</td>\n",
       "      <td>0.699346</td>\n",
       "      <td>1.000000</td>\n",
       "      <td>0.34133</td>\n",
       "      <td>5.000000</td>\n",
       "      <td>-0.643115</td>\n",
       "    </tr>\n",
       "    <tr>\n",
       "      <th>11</th>\n",
       "      <td>FRA</td>\n",
       "      <td>1.000000</td>\n",
       "      <td>0.79816</td>\n",
       "      <td>12.000000</td>\n",
       "      <td>-0.872369</td>\n",
       "      <td>1.000000</td>\n",
       "      <td>0.999326</td>\n",
       "      <td>28.000000</td>\n",
       "      <td>0.983413</td>\n",
       "      <td>1.000000</td>\n",
       "      <td>0.689732</td>\n",
       "      <td>7.000000</td>\n",
       "      <td>-0.994329</td>\n",
       "    </tr>\n",
       "    <tr>\n",
       "      <th>12</th>\n",
       "      <td>GBR</td>\n",
       "      <td>9.000000</td>\n",
       "      <td>0.976912</td>\n",
       "      <td>6.000000</td>\n",
       "      <td>0.779655</td>\n",
       "      <td>1.000000</td>\n",
       "      <td>0.988589</td>\n",
       "      <td>29.000000</td>\n",
       "      <td>0.616841</td>\n",
       "      <td>8.000000</td>\n",
       "      <td>1.0</td>\n",
       "      <td>5.000000</td>\n",
       "      <td>-0.92814</td>\n",
       "    </tr>\n",
       "    <tr>\n",
       "      <th>13</th>\n",
       "      <td>GRC</td>\n",
       "      <td>1.000000</td>\n",
       "      <td>0.954632</td>\n",
       "      <td>10.000000</td>\n",
       "      <td>-0.08449</td>\n",
       "      <td>23.000000</td>\n",
       "      <td>1.0</td>\n",
       "      <td>11.000000</td>\n",
       "      <td>-0.86854</td>\n",
       "      <td>1.000000</td>\n",
       "      <td>0.717922</td>\n",
       "      <td>6.000000</td>\n",
       "      <td>-0.964715</td>\n",
       "    </tr>\n",
       "    <tr>\n",
       "      <th>14</th>\n",
       "      <td>HRV</td>\n",
       "      <td>10.000000</td>\n",
       "      <td>0.828833</td>\n",
       "      <td>12.000000</td>\n",
       "      <td>-0.919588</td>\n",
       "      <td>23.000000</td>\n",
       "      <td>1.0</td>\n",
       "      <td>8.000000</td>\n",
       "      <td>0.733037</td>\n",
       "      <td>7.000000</td>\n",
       "      <td>0.962956</td>\n",
       "      <td>8.000000</td>\n",
       "      <td>-1.0</td>\n",
       "    </tr>\n",
       "    <tr>\n",
       "      <th>15</th>\n",
       "      <td>HUN</td>\n",
       "      <td>11.000000</td>\n",
       "      <td>0.837808</td>\n",
       "      <td>12.000000</td>\n",
       "      <td>-0.993399</td>\n",
       "      <td>1.000000</td>\n",
       "      <td>0.982024</td>\n",
       "      <td>24.000000</td>\n",
       "      <td>-1.0</td>\n",
       "      <td>2.000000</td>\n",
       "      <td>0.846245</td>\n",
       "      <td>8.000000</td>\n",
       "      <td>-0.860155</td>\n",
       "    </tr>\n",
       "    <tr>\n",
       "      <th>16</th>\n",
       "      <td>IRL</td>\n",
       "      <td>1.000000</td>\n",
       "      <td>0.875385</td>\n",
       "      <td>10.000000</td>\n",
       "      <td>-0.795195</td>\n",
       "      <td>24.000000</td>\n",
       "      <td>1.0</td>\n",
       "      <td>7.000000</td>\n",
       "      <td>0.608667</td>\n",
       "      <td>1.000000</td>\n",
       "      <td>0.392818</td>\n",
       "      <td>8.000000</td>\n",
       "      <td>-0.889221</td>\n",
       "    </tr>\n",
       "    <tr>\n",
       "      <th>17</th>\n",
       "      <td>ISL</td>\n",
       "      <td>10.000000</td>\n",
       "      <td>1.0</td>\n",
       "      <td>8.000000</td>\n",
       "      <td>-0.839438</td>\n",
       "      <td>17.000000</td>\n",
       "      <td>0.944431</td>\n",
       "      <td>24.000000</td>\n",
       "      <td>-1.0</td>\n",
       "      <td>8.000000</td>\n",
       "      <td>1.0</td>\n",
       "      <td>5.000000</td>\n",
       "      <td>-0.579694</td>\n",
       "    </tr>\n",
       "    <tr>\n",
       "      <th>18</th>\n",
       "      <td>ITA</td>\n",
       "      <td>1.000000</td>\n",
       "      <td>0.971029</td>\n",
       "      <td>10.000000</td>\n",
       "      <td>-0.023313</td>\n",
       "      <td>23.000000</td>\n",
       "      <td>1.0</td>\n",
       "      <td>12.000000</td>\n",
       "      <td>0.817424</td>\n",
       "      <td>5.000000</td>\n",
       "      <td>0.791053</td>\n",
       "      <td>7.000000</td>\n",
       "      <td>-0.265839</td>\n",
       "    </tr>\n",
       "    <tr>\n",
       "      <th>19</th>\n",
       "      <td>LTU</td>\n",
       "      <td>12.000000</td>\n",
       "      <td>0.999518</td>\n",
       "      <td>8.000000</td>\n",
       "      <td>0.493759</td>\n",
       "      <td>21.000000</td>\n",
       "      <td>0.993252</td>\n",
       "      <td>24.000000</td>\n",
       "      <td>-1.0</td>\n",
       "      <td>7.000000</td>\n",
       "      <td>0.838836</td>\n",
       "      <td>4.000000</td>\n",
       "      <td>-0.716398</td>\n",
       "    </tr>\n",
       "    <tr>\n",
       "      <th>20</th>\n",
       "      <td>LUX</td>\n",
       "      <td>9.000000</td>\n",
       "      <td>0.868351</td>\n",
       "      <td>12.000000</td>\n",
       "      <td>-0.866025</td>\n",
       "      <td>24.000000</td>\n",
       "      <td>1.0</td>\n",
       "      <td>21.000000</td>\n",
       "      <td>0.81301</td>\n",
       "      <td>1.000000</td>\n",
       "      <td>0.7546</td>\n",
       "      <td>8.000000</td>\n",
       "      <td>-0.981403</td>\n",
       "    </tr>\n",
       "    <tr>\n",
       "      <th>21</th>\n",
       "      <td>LVA</td>\n",
       "      <td>10.000000</td>\n",
       "      <td>0.983345</td>\n",
       "      <td>12.000000</td>\n",
       "      <td>0.470317</td>\n",
       "      <td>17.000000</td>\n",
       "      <td>0.983794</td>\n",
       "      <td>24.000000</td>\n",
       "      <td>-1.0</td>\n",
       "      <td>1.000000</td>\n",
       "      <td>0.52706</td>\n",
       "      <td>7.000000</td>\n",
       "      <td>-0.846481</td>\n",
       "    </tr>\n",
       "    <tr>\n",
       "      <th>22</th>\n",
       "      <td>MKD</td>\n",
       "      <td>8.000000</td>\n",
       "      <td>0.487014</td>\n",
       "      <td>12.000000</td>\n",
       "      <td>-1.0</td>\n",
       "      <td>18.000000</td>\n",
       "      <td>1.0</td>\n",
       "      <td>14.000000</td>\n",
       "      <td>0.93557</td>\n",
       "      <td>6.000000</td>\n",
       "      <td>1.0</td>\n",
       "      <td>3.000000</td>\n",
       "      <td>0.725426</td>\n",
       "    </tr>\n",
       "    <tr>\n",
       "      <th>23</th>\n",
       "      <td>MLT</td>\n",
       "      <td>12.000000</td>\n",
       "      <td>0.881715</td>\n",
       "      <td>9.000000</td>\n",
       "      <td>-0.894133</td>\n",
       "      <td>1.000000</td>\n",
       "      <td>0.992072</td>\n",
       "      <td>24.000000</td>\n",
       "      <td>-1.0</td>\n",
       "      <td>8.000000</td>\n",
       "      <td>0.939689</td>\n",
       "      <td>4.000000</td>\n",
       "      <td>-0.5804</td>\n",
       "    </tr>\n",
       "    <tr>\n",
       "      <th>24</th>\n",
       "      <td>NLD</td>\n",
       "      <td>12.000000</td>\n",
       "      <td>0.999355</td>\n",
       "      <td>11.000000</td>\n",
       "      <td>0.086963</td>\n",
       "      <td>23.000000</td>\n",
       "      <td>1.0</td>\n",
       "      <td>13.000000</td>\n",
       "      <td>0.915108</td>\n",
       "      <td>1.000000</td>\n",
       "      <td>0.574627</td>\n",
       "      <td>8.000000</td>\n",
       "      <td>-0.518549</td>\n",
       "    </tr>\n",
       "    <tr>\n",
       "      <th>25</th>\n",
       "      <td>NOR</td>\n",
       "      <td>12.000000</td>\n",
       "      <td>0.991136</td>\n",
       "      <td>11.000000</td>\n",
       "      <td>-0.276961</td>\n",
       "      <td>1.000000</td>\n",
       "      <td>0.989229</td>\n",
       "      <td>35.000000</td>\n",
       "      <td>-0.322742</td>\n",
       "      <td>1.000000</td>\n",
       "      <td>0.816802</td>\n",
       "      <td>5.000000</td>\n",
       "      <td>-0.763935</td>\n",
       "    </tr>\n",
       "    <tr>\n",
       "      <th>26</th>\n",
       "      <td>POL</td>\n",
       "      <td>9.000000</td>\n",
       "      <td>0.973158</td>\n",
       "      <td>12.000000</td>\n",
       "      <td>0.124534</td>\n",
       "      <td>1.000000</td>\n",
       "      <td>0.984486</td>\n",
       "      <td>24.000000</td>\n",
       "      <td>-1.0</td>\n",
       "      <td>5.000000</td>\n",
       "      <td>0.986673</td>\n",
       "      <td>8.000000</td>\n",
       "      <td>-0.202426</td>\n",
       "    </tr>\n",
       "    <tr>\n",
       "      <th>27</th>\n",
       "      <td>PRT</td>\n",
       "      <td>6.000000</td>\n",
       "      <td>0.452013</td>\n",
       "      <td>11.000000</td>\n",
       "      <td>-0.964297</td>\n",
       "      <td>23.000000</td>\n",
       "      <td>1.0</td>\n",
       "      <td>12.000000</td>\n",
       "      <td>0.707525</td>\n",
       "      <td>8.000000</td>\n",
       "      <td>0.93836</td>\n",
       "      <td>4.000000</td>\n",
       "      <td>-0.782422</td>\n",
       "    </tr>\n",
       "    <tr>\n",
       "      <th>28</th>\n",
       "      <td>ROU</td>\n",
       "      <td>11.000000</td>\n",
       "      <td>0.995903</td>\n",
       "      <td>4.000000</td>\n",
       "      <td>0.775884</td>\n",
       "      <td>23.000000</td>\n",
       "      <td>1.0</td>\n",
       "      <td>20.000000</td>\n",
       "      <td>0.818201</td>\n",
       "      <td>7.000000</td>\n",
       "      <td>0.657018</td>\n",
       "      <td>8.000000</td>\n",
       "      <td>-0.989287</td>\n",
       "    </tr>\n",
       "    <tr>\n",
       "      <th>29</th>\n",
       "      <td>SVK</td>\n",
       "      <td>1.000000</td>\n",
       "      <td>0.80336</td>\n",
       "      <td>12.000000</td>\n",
       "      <td>-0.963403</td>\n",
       "      <td>1.000000</td>\n",
       "      <td>0.99367</td>\n",
       "      <td>24.000000</td>\n",
       "      <td>-1.0</td>\n",
       "      <td>1.000000</td>\n",
       "      <td>0.409577</td>\n",
       "      <td>8.000000</td>\n",
       "      <td>-0.726822</td>\n",
       "    </tr>\n",
       "    <tr>\n",
       "      <th>30</th>\n",
       "      <td>SVN</td>\n",
       "      <td>1.000000</td>\n",
       "      <td>0.653418</td>\n",
       "      <td>12.000000</td>\n",
       "      <td>-0.923889</td>\n",
       "      <td>1.000000</td>\n",
       "      <td>0.989591</td>\n",
       "      <td>24.000000</td>\n",
       "      <td>-1.0</td>\n",
       "      <td>1.000000</td>\n",
       "      <td>0.637199</td>\n",
       "      <td>7.000000</td>\n",
       "      <td>-0.997773</td>\n",
       "    </tr>\n",
       "    <tr>\n",
       "      <th>31</th>\n",
       "      <td>SWE</td>\n",
       "      <td>1.000000</td>\n",
       "      <td>0.878684</td>\n",
       "      <td>11.000000</td>\n",
       "      <td>-0.958285</td>\n",
       "      <td>1.000000</td>\n",
       "      <td>0.98223</td>\n",
       "      <td>26.000000</td>\n",
       "      <td>-1.0</td>\n",
       "      <td>8.000000</td>\n",
       "      <td>0.929061</td>\n",
       "      <td>6.000000</td>\n",
       "      <td>-0.240759</td>\n",
       "    </tr>\n",
       "    <tr>\n",
       "      <th>32</th>\n",
       "      <td>Mean</td>\n",
       "      <td>6.677419</td>\n",
       "      <td>-</td>\n",
       "      <td>10.032258</td>\n",
       "      <td>-</td>\n",
       "      <td>10.681818</td>\n",
       "      <td>-</td>\n",
       "      <td>19.590909</td>\n",
       "      <td>-</td>\n",
       "      <td>3.238095</td>\n",
       "      <td>-</td>\n",
       "      <td>6.119048</td>\n",
       "      <td>-</td>\n",
       "    </tr>\n",
       "    <tr>\n",
       "      <th>33</th>\n",
       "      <td>Mode</td>\n",
       "      <td>1.000000</td>\n",
       "      <td>-</td>\n",
       "      <td>12.000000</td>\n",
       "      <td>-</td>\n",
       "      <td>1.000000</td>\n",
       "      <td>-</td>\n",
       "      <td>24.000000</td>\n",
       "      <td>-</td>\n",
       "      <td>1.000000</td>\n",
       "      <td>-</td>\n",
       "      <td>8.000000</td>\n",
       "      <td>-</td>\n",
       "    </tr>\n",
       "  </tbody>\n",
       "</table>\n",
       "</div>"
      ],
      "text/plain": [
       "                Labour Productivity Autocorrelation                       \\\n",
       "   Country Code                          Lag Argmax   Lag Max Lag Argmin   \n",
       "0           AUT                                 NaN       NaN        NaN   \n",
       "1           BEL                           10.000000  0.902929   6.000000   \n",
       "2           BGR                           11.000000  0.980535  12.000000   \n",
       "3           CHE                            1.000000  0.692498  10.000000   \n",
       "4           CYP                            1.000000  0.910665  12.000000   \n",
       "5           CZE                           10.000000  0.993952   6.000000   \n",
       "6           DEU                           11.000000  0.973859   5.000000   \n",
       "7           DNK                            1.000000  0.856207  12.000000   \n",
       "8           ESP                            1.000000  0.314582  12.000000   \n",
       "9           EST                           12.000000   0.95495   8.000000   \n",
       "10          FIN                            1.000000  0.883792  11.000000   \n",
       "11          FRA                            1.000000   0.79816  12.000000   \n",
       "12          GBR                            9.000000  0.976912   6.000000   \n",
       "13          GRC                            1.000000  0.954632  10.000000   \n",
       "14          HRV                           10.000000  0.828833  12.000000   \n",
       "15          HUN                           11.000000  0.837808  12.000000   \n",
       "16          IRL                            1.000000  0.875385  10.000000   \n",
       "17          ISL                           10.000000       1.0   8.000000   \n",
       "18          ITA                            1.000000  0.971029  10.000000   \n",
       "19          LTU                           12.000000  0.999518   8.000000   \n",
       "20          LUX                            9.000000  0.868351  12.000000   \n",
       "21          LVA                           10.000000  0.983345  12.000000   \n",
       "22          MKD                            8.000000  0.487014  12.000000   \n",
       "23          MLT                           12.000000  0.881715   9.000000   \n",
       "24          NLD                           12.000000  0.999355  11.000000   \n",
       "25          NOR                           12.000000  0.991136  11.000000   \n",
       "26          POL                            9.000000  0.973158  12.000000   \n",
       "27          PRT                            6.000000  0.452013  11.000000   \n",
       "28          ROU                           11.000000  0.995903   4.000000   \n",
       "29          SVK                            1.000000   0.80336  12.000000   \n",
       "30          SVN                            1.000000  0.653418  12.000000   \n",
       "31          SWE                            1.000000  0.878684  11.000000   \n",
       "32         Mean                            6.677419         -  10.032258   \n",
       "33         Mode                            1.000000         -  12.000000   \n",
       "\n",
       "             GDP Autocorrelation                                 \\\n",
       "     Lag Min          Lag Argmax   Lag Max Lag Argmin   Lag Min   \n",
       "0        NaN            1.000000  0.992916  24.000000      -1.0   \n",
       "1  -0.629595           24.000000       1.0  23.000000 -0.854801   \n",
       "2   0.797831           24.000000       1.0  23.000000 -0.998072   \n",
       "3  -0.955803            1.000000  0.994718  35.000000  0.619977   \n",
       "4  -0.998868           23.000000       1.0  15.000000  0.558958   \n",
       "5   0.357829            1.000000  0.987535  24.000000      -1.0   \n",
       "6  -0.266066            1.000000  0.998257  14.000000  0.951133   \n",
       "7  -0.755929            1.000000  0.998984  35.000000  0.975449   \n",
       "8   -0.83224           23.000000       1.0  11.000000  0.725501   \n",
       "9   0.560853            1.000000  0.990091  24.000000      -1.0   \n",
       "10 -0.780083            1.000000  0.993016  26.000000  0.699346   \n",
       "11 -0.872369            1.000000  0.999326  28.000000  0.983413   \n",
       "12  0.779655            1.000000  0.988589  29.000000  0.616841   \n",
       "13  -0.08449           23.000000       1.0  11.000000  -0.86854   \n",
       "14 -0.919588           23.000000       1.0   8.000000  0.733037   \n",
       "15 -0.993399            1.000000  0.982024  24.000000      -1.0   \n",
       "16 -0.795195           24.000000       1.0   7.000000  0.608667   \n",
       "17 -0.839438           17.000000  0.944431  24.000000      -1.0   \n",
       "18 -0.023313           23.000000       1.0  12.000000  0.817424   \n",
       "19  0.493759           21.000000  0.993252  24.000000      -1.0   \n",
       "20 -0.866025           24.000000       1.0  21.000000   0.81301   \n",
       "21  0.470317           17.000000  0.983794  24.000000      -1.0   \n",
       "22      -1.0           18.000000       1.0  14.000000   0.93557   \n",
       "23 -0.894133            1.000000  0.992072  24.000000      -1.0   \n",
       "24  0.086963           23.000000       1.0  13.000000  0.915108   \n",
       "25 -0.276961            1.000000  0.989229  35.000000 -0.322742   \n",
       "26  0.124534            1.000000  0.984486  24.000000      -1.0   \n",
       "27 -0.964297           23.000000       1.0  12.000000  0.707525   \n",
       "28  0.775884           23.000000       1.0  20.000000  0.818201   \n",
       "29 -0.963403            1.000000   0.99367  24.000000      -1.0   \n",
       "30 -0.923889            1.000000  0.989591  24.000000      -1.0   \n",
       "31 -0.958285            1.000000   0.98223  26.000000      -1.0   \n",
       "32         -           10.681818         -  19.590909         -   \n",
       "33         -            1.000000         -  24.000000         -   \n",
       "\n",
       "   Income Inequality Autocorrelation                                 \n",
       "                          Lag Argmax   Lag Max Lag Argmin   Lag Min  \n",
       "0                                NaN       NaN        NaN       NaN  \n",
       "1                           8.000000  0.934358   7.000000 -0.535478  \n",
       "2                           1.000000  0.889667   7.000000 -0.256475  \n",
       "3                           2.000000  0.267679   7.000000 -0.894682  \n",
       "4                           1.000000  0.645813   8.000000 -0.996979  \n",
       "5                           1.000000  0.564593   7.000000 -0.736408  \n",
       "6                           4.000000  0.507977   7.000000 -0.441029  \n",
       "7                           1.000000  0.663341   3.000000 -0.916309  \n",
       "8                           1.000000  0.554757   8.000000 -0.987146  \n",
       "9                           1.000000  0.612771   7.000000 -0.964355  \n",
       "10                          1.000000   0.34133   5.000000 -0.643115  \n",
       "11                          1.000000  0.689732   7.000000 -0.994329  \n",
       "12                          8.000000       1.0   5.000000  -0.92814  \n",
       "13                          1.000000  0.717922   6.000000 -0.964715  \n",
       "14                          7.000000  0.962956   8.000000      -1.0  \n",
       "15                          2.000000  0.846245   8.000000 -0.860155  \n",
       "16                          1.000000  0.392818   8.000000 -0.889221  \n",
       "17                          8.000000       1.0   5.000000 -0.579694  \n",
       "18                          5.000000  0.791053   7.000000 -0.265839  \n",
       "19                          7.000000  0.838836   4.000000 -0.716398  \n",
       "20                          1.000000    0.7546   8.000000 -0.981403  \n",
       "21                          1.000000   0.52706   7.000000 -0.846481  \n",
       "22                          6.000000       1.0   3.000000  0.725426  \n",
       "23                          8.000000  0.939689   4.000000   -0.5804  \n",
       "24                          1.000000  0.574627   8.000000 -0.518549  \n",
       "25                          1.000000  0.816802   5.000000 -0.763935  \n",
       "26                          5.000000  0.986673   8.000000 -0.202426  \n",
       "27                          8.000000   0.93836   4.000000 -0.782422  \n",
       "28                          7.000000  0.657018   8.000000 -0.989287  \n",
       "29                          1.000000  0.409577   8.000000 -0.726822  \n",
       "30                          1.000000  0.637199   7.000000 -0.997773  \n",
       "31                          8.000000  0.929061   6.000000 -0.240759  \n",
       "32                          3.238095         -   6.119048         -  \n",
       "33                          1.000000         -   8.000000         -  "
      ]
     },
     "execution_count": 83,
     "metadata": {},
     "output_type": "execute_result"
    }
   ],
   "source": [
    "labour_lagged_data      = pd.DataFrame()\n",
    "gdp_lagged_data         = pd.DataFrame()\n",
    "incomeineq_lagged_data  = pd.DataFrame()\n",
    "\n",
    "labour_lagged_stats     = pd.DataFrame()\n",
    "gdp_lagged_stats        = pd.DataFrame()\n",
    "incomeineq_lagged_stats = pd.DataFrame()\n",
    "\n",
    "grouped_data = [(labour_lagged_data,     labour_lagged_stats,     labour_csv,     'Labour Productivity Autocorrelation', 13),\n",
    "                (gdp_lagged_data,        gdp_lagged_stats,        gdp_csv,        'GDP Autocorrelation',                 36),\n",
    "                (incomeineq_lagged_data, incomeineq_lagged_stats, incomeineq_csv, 'Income Inequality Autocorrelation',   9)]\n",
    "\n",
    "\n",
    "for data, stats, csv, title, max_lag in grouped_data:\n",
    "#     data = pd.DataFrame()\n",
    "    # so we miss the start & end autocorrelations\n",
    "#     for lag in range(1, len(csv.columns) - 4):\n",
    "#     for lag in range(1, len(csv.columns) - 2):\n",
    "    for lag in range(1, max_lag):\n",
    "        autocorr = calc_autocorr_all(csv, lag=lag)\n",
    "        data[f'Lag {lag}'] = autocorr\n",
    "#     print(data)\n",
    "    stats[f'Country Code'] = csv['Country Code']\n",
    "    stats['Lag Argmax']    = data[1:].apply(np.argmax, axis=1, result_type='reduce') + 1\n",
    "    stats['Lag Max']       = data[1:].max(axis=1)\n",
    "    stats['Lag Argmin']    = data[1:].apply(np.argmin, axis=1, result_type='reduce') + 1\n",
    "    stats['Lag Min']       = data[1:].min(axis=1)\n",
    "    \n",
    "    # data cleanup (for future use)\n",
    "    data.insert(0, 'Country Code', csv['Country Code'])\n",
    "    \n",
    "    stats.loc['Stats']  = ['Mean', stats['Lag Argmax'].mean(axis=0), '-', stats['Lag Argmin'].mean(axis=0), '-']\n",
    "    stats.loc['Stats2'] = ['Mode', stats['Lag Argmax'].mode()[0],    '-', stats['Lag Argmin'].mode()[0],    '-']\n",
    "    \n",
    "\n",
    "# create merged\n",
    "\n",
    "merged_lagged = pd.merge(labour_lagged_stats, gdp_lagged_stats,        left_on='Country Code', right_on='Country Code')\n",
    "merged_lagged = pd.merge(merged_lagged,       incomeineq_lagged_stats, left_on='Country Code', right_on='Country Code')\n",
    "\n",
    "labels = [('', 'Country Code')] + reduce(lambda x,y: x + y, [ [(title, 'Lag Argmax'), (title, 'Lag Max'), (title, 'Lag Argmin'), (title, 'Lag Min')] for _, _, _, title, _ in grouped_data])\n",
    "merged_lagged.columns = pd.MultiIndex.from_tuples(tuple(labels))\n",
    "\n",
    "merged_lagged"
   ]
  },
  {
   "cell_type": "code",
   "execution_count": 48,
   "id": "flying-accent",
   "metadata": {},
   "outputs": [
    {
     "data": {
      "application/vnd.plotly.v1+json": {
       "config": {
        "plotlyServerURL": "https://plot.ly"
       },
       "data": [
        {
         "mode": "lines",
         "name": "AUT",
         "opacity": 0.5,
         "type": "scatter",
         "y": [
          "AUT",
          0.7564142760317699,
          0.5139812868236856,
          0.3739197873222303,
          0.08220102355138743,
          -0.4139234283766781,
          0.07417595282861916,
          0.6473806811884697,
          0.6104965379943085,
          0.7408649673272752,
          0.8060314450134901,
          0.683810821696229,
          0.5827930480804464
         ]
        },
        {
         "mode": "lines",
         "name": "BEL",
         "opacity": 0.5,
         "type": "scatter",
         "y": [
          "BEL",
          0.4827162599480111,
          -0.028157667297367028,
          -0.40986628158155003,
          -0.4987531971754503,
          -0.45459273098032554,
          -0.6295945132609418,
          -0.2118850617588688,
          0.38732659924101753,
          0.7685545032066291,
          0.9029293795540994,
          0.8603232130759664,
          0.8209453057619934
         ]
        },
        {
         "mode": "lines",
         "name": "BGR",
         "opacity": 0.5,
         "type": "scatter",
         "y": [
          "BGR",
          0.9763294733965735,
          0.971853672152066,
          0.9620310869320589,
          0.9619576484390795,
          0.9255077474188994,
          0.9270277643262076,
          0.9717019545335133,
          0.9790657373835897,
          0.9428575685829945,
          0.9122194300676343,
          0.9805353287751741,
          0.7978312271996735
         ]
        },
        {
         "mode": "lines",
         "name": "CHE",
         "opacity": 0.5,
         "type": "scatter",
         "y": [
          "CHE",
          0.692497917646872,
          0.10278229001210525,
          -0.2721417134395719,
          -0.3647571620909008,
          -0.16785051780718424,
          -0.10394078136340854,
          -0.26906113290177763,
          -0.4027037414744928,
          -0.7714634605137456,
          -0.9558031841493189,
          -0.8633383016918229,
          -0.8503831944840802
         ]
        },
        {
         "mode": "lines",
         "name": "CYP",
         "opacity": 0.5,
         "type": "scatter",
         "y": [
          "CYP",
          0.9106652623250543,
          0.7336318679624556,
          0.5614543539614503,
          0.44643754518748846,
          0.33300832365386124,
          0.20169482608481426,
          0.28128381027841176,
          0.7635325130538548,
          0.7113211809437956,
          -0.5202417014007877,
          -0.9449442554452953,
          -0.9988678490160223
         ]
        },
        {
         "mode": "lines",
         "name": "CZE",
         "opacity": 0.5,
         "type": "scatter",
         "y": [
          "CZE",
          0.8900262450129283,
          0.6913915403483009,
          0.44693737862544186,
          0.3968680330054955,
          0.4271880417422346,
          0.35782900630034764,
          0.4261619563499958,
          0.5861514973433526,
          0.7098152935800617,
          0.9939515530135365,
          0.9113332608530442,
          0.8714036522276586
         ]
        },
        {
         "mode": "lines",
         "name": "DEU",
         "opacity": 0.5,
         "type": "scatter",
         "y": [
          "DEU",
          0.6702934069944856,
          0.3077430830695456,
          0.10139164185365653,
          -0.1903481018020612,
          -0.2660662961733167,
          0.21329109988717485,
          -0.006747648024022204,
          -0.014482791574674659,
          0.6194770360428903,
          0.8911289180647393,
          0.9738587370473889,
          0.9379030381417569
         ]
        },
        {
         "mode": "lines",
         "name": "DNK",
         "opacity": 0.5,
         "type": "scatter",
         "y": [
          "DNK",
          0.8562070227691037,
          0.7211300633751325,
          0.5760213712692875,
          0.5635643982587394,
          0.5445021007591926,
          0.5828289183385245,
          0.850919207588488,
          0.7366935366000193,
          0.6190703465435445,
          -0.28691151610778065,
          -0.12063985708020698,
          -0.7559289460184548
         ]
        },
        {
         "mode": "lines",
         "name": "ESP",
         "opacity": 0.5,
         "type": "scatter",
         "y": [
          "ESP",
          0.3145820276590971,
          -0.11871243652303164,
          0.10877146666166349,
          -0.2066995889007909,
          -0.16050216572245501,
          -0.2398778253158594,
          -0.17891334938098877,
          0.003253763287795302,
          -0.6246855086181524,
          -0.7978428289356075,
          -0.29089347976598195,
          -0.8322397195638277
         ]
        },
        {
         "mode": "lines",
         "name": "EST",
         "opacity": 0.5,
         "type": "scatter",
         "y": [
          "EST",
          0.9115666805446735,
          0.8326197441095742,
          0.8259452243956883,
          0.7633867148231686,
          0.7039549708260993,
          0.6750987540015502,
          0.6936795456341428,
          0.5608525692271348,
          0.5906468757469409,
          0.7597479015613424,
          0.8900387022290511,
          0.9549502905685928
         ]
        },
        {
         "mode": "lines",
         "name": "FIN",
         "opacity": 0.5,
         "type": "scatter",
         "y": [
          "FIN",
          0.8837924283208126,
          0.7322280581630967,
          0.6553772430947004,
          0.520508047219386,
          0.307897109622405,
          0.2023297254524891,
          0.09192101057891822,
          0.09950565615150955,
          0.779863385057028,
          0.6749691661318795,
          -0.7800833698459826,
          -0.6954167961483136
         ]
        },
        {
         "mode": "lines",
         "name": "FRA",
         "opacity": 0.5,
         "type": "scatter",
         "y": [
          "FRA",
          0.7981600865799925,
          0.6515239919209705,
          0.5849333325312339,
          0.6750134677196691,
          0.5507505304612806,
          0.43820738229003414,
          -0.06304879096852384,
          0.280209440808495,
          0.19389368312438018,
          -0.027099311254291828,
          -0.7103942143496625,
          -0.8723686098443381
         ]
        },
        {
         "mode": "lines",
         "name": "GBR",
         "opacity": 0.5,
         "type": "scatter",
         "y": [
          "GBR",
          0.9589980182377172,
          0.9480420574718532,
          0.8733698317159745,
          0.805388142689218,
          0.8082600060951909,
          0.7796546487993626,
          0.9309080883263499,
          0.9570903235466542,
          0.9769118426539342,
          0.922542948374464,
          0.9757944988441067,
          0.9676274556945706
         ]
        },
        {
         "mode": "lines",
         "name": "GRC",
         "opacity": 0.5,
         "type": "scatter",
         "y": [
          "GRC",
          0.9546323547546568,
          0.8950214754027023,
          0.8315727533564182,
          0.7764131259374992,
          0.8312508088391531,
          0.9132632788608085,
          0.7844991116972946,
          0.623133577810804,
          0.6130497232470071,
          -0.08448983046187819,
          0.8625313884373166,
          -0.07556913019645627
         ]
        },
        {
         "mode": "lines",
         "name": "HRV",
         "opacity": 0.5,
         "type": "scatter",
         "y": [
          "HRV",
          0.6624646718987345,
          0.11681009933729229,
          0.07183064954943269,
          0.5626976282052678,
          0.7480004797856669,
          0.20331599004253992,
          -0.6227903461163571,
          -0.6303004975508845,
          0.8128413638168461,
          0.8288330649910891,
          -0.6233040889739452,
          -0.9195880187633035
         ]
        },
        {
         "mode": "lines",
         "name": "HUN",
         "opacity": 0.5,
         "type": "scatter",
         "y": [
          "HUN",
          0.7615708331256992,
          0.39508865168434987,
          -0.15113586300253865,
          -0.5783435768149798,
          -0.7950841598343791,
          -0.9020913573348838,
          -0.854402216147868,
          -0.6866794284582969,
          -0.20371759230055003,
          0.4132849373071917,
          0.8378081213046842,
          -0.9933992677987832
         ]
        },
        {
         "mode": "lines",
         "name": "IRL",
         "opacity": 0.5,
         "type": "scatter",
         "y": [
          "IRL",
          0.8753848925370877,
          0.7808802840319244,
          0.700472174331727,
          0.5767958172394815,
          0.7257305093237458,
          0.43409150498435195,
          0.011972387766020616,
          -0.1030429483302778,
          -0.28588225683879526,
          -0.795195480215725,
          -0.5511146659300706,
          0.35379848829383315
         ]
        },
        {
         "mode": "lines",
         "name": "ISL",
         "opacity": 0.5,
         "type": "scatter",
         "y": [
          "ISL",
          0.4668834635959775,
          -0.18126500639640009,
          -0.4438993726468584,
          -0.5953813087148502,
          -0.7636145146626174,
          -0.31884197181145735,
          -0.21210113194935432,
          -0.8394382110245265,
          -0.6302179823856636,
          1,
          null,
          null
         ]
        },
        {
         "mode": "lines",
         "name": "ITA",
         "opacity": 0.5,
         "type": "scatter",
         "y": [
          "ITA",
          0.971028509749334,
          0.9277387546873281,
          0.8810275953953333,
          0.8385179911282838,
          0.805423374367558,
          0.7467276995028349,
          0.7803175927245893,
          0.8973607039399751,
          0.7534558298479174,
          -0.023312933049390968,
          0.622727509890511,
          0.9276475737694753
         ]
        },
        {
         "mode": "lines",
         "name": "LTU",
         "opacity": 0.5,
         "type": "scatter",
         "y": [
          "LTU",
          0.9235578336730096,
          0.8342053275698874,
          0.7842866627066892,
          0.7799651251144608,
          0.7762199145533184,
          0.8205058274804075,
          0.7687151785697147,
          0.4937588490025142,
          0.5011180731837943,
          0.6869665004997522,
          0.9693990997028464,
          0.9995178041655212
         ]
        },
        {
         "mode": "lines",
         "name": "LUX",
         "opacity": 0.5,
         "type": "scatter",
         "y": [
          "LUX",
          0.6176917652482103,
          0.0634321085835887,
          -0.4346391226041728,
          -0.5507806949345451,
          -0.5158854291486065,
          -0.3482552859311712,
          0.17112926314370272,
          0.7376081940128036,
          0.8683513055548245,
          0.600147756341899,
          -0.37794390696201396,
          -0.8660254037844385
         ]
        },
        {
         "mode": "lines",
         "name": "LVA",
         "opacity": 0.5,
         "type": "scatter",
         "y": [
          "LVA",
          0.9783719573117837,
          0.9655430518770783,
          0.9618137850384704,
          0.9477071285824721,
          0.941575735762423,
          0.966997290327088,
          0.9761523798723004,
          0.9089431782862526,
          0.9271297559553887,
          0.9833448953112851,
          0.7997022873779349,
          0.4703170810017719
         ]
        },
        {
         "mode": "lines",
         "name": "MKD",
         "opacity": 0.5,
         "type": "scatter",
         "y": [
          "MKD",
          0.385585696160985,
          0.37165899589984175,
          -0.14796215066580792,
          -0.010580486591534854,
          -0.16714079846532764,
          0.23866680309345983,
          -0.23662993650559666,
          0.4870135148233586,
          0.2999375195244677,
          -0.33499749976366827,
          0.4389477864571957,
          -0.9999999999999998
         ]
        },
        {
         "mode": "lines",
         "name": "MLT",
         "opacity": 0.5,
         "type": "scatter",
         "y": [
          "MLT",
          0.27727659053512244,
          -0.20080453959899985,
          -0.45862710070641133,
          -0.5244318961050929,
          0.2291062148863297,
          0.13551530009893722,
          0.11352565452490211,
          -0.1276467374740484,
          -0.8941331922725756,
          0.2707540224819104,
          0.7817408684413166,
          0.8817152586849453
         ]
        },
        {
         "mode": "lines",
         "name": "NLD",
         "opacity": 0.5,
         "type": "scatter",
         "y": [
          "NLD",
          0.9389244596361843,
          0.853751652275267,
          0.7638531521596915,
          0.753904735766933,
          0.8498068793233725,
          0.8212002084524928,
          0.8979204895669111,
          0.8118332139392581,
          0.8152753494719325,
          0.8193127920161306,
          0.08696310791264109,
          0.9993549745833897
         ]
        },
        {
         "mode": "lines",
         "name": "NOR",
         "opacity": 0.5,
         "type": "scatter",
         "y": [
          "NOR",
          0.7908449813864004,
          0.6077678738487917,
          0.394121991271756,
          0.34044563888586704,
          0.4267363186321061,
          0.669381731115859,
          0.5064207399398585,
          0.2586846177200496,
          0.030645573258967985,
          0.1951697583800259,
          -0.2769609534085195,
          0.9911358482810997
         ]
        },
        {
         "mode": "lines",
         "name": "POL",
         "opacity": 0.5,
         "type": "scatter",
         "y": [
          "POL",
          0.9644595297105014,
          0.8875334480269543,
          0.7917474520481141,
          0.7319179346001291,
          0.7395610467054876,
          0.7783135216983711,
          0.876881319217807,
          0.9573910715637953,
          0.9731578404460203,
          0.962891775202214,
          0.6932556373860933,
          0.1245338703466775
         ]
        },
        {
         "mode": "lines",
         "name": "PRT",
         "opacity": 0.5,
         "type": "scatter",
         "y": [
          "PRT",
          0.3545425650632407,
          -0.28934510067031255,
          -0.0562808665810401,
          -0.07290308635077422,
          -0.07730280646598588,
          0.45201257515321913,
          0.31383430848160504,
          -0.3763530323004199,
          -0.4982996681409544,
          -0.10764876920880521,
          -0.9642974208808256,
          0.24854790640048144
         ]
        },
        {
         "mode": "lines",
         "name": "ROU",
         "opacity": 0.5,
         "type": "scatter",
         "y": [
          "ROU",
          0.9733347357160748,
          0.9135608262085464,
          0.8228650510514273,
          0.7758835508133802,
          0.7776324792804472,
          0.7906064419985355,
          0.8398155216676358,
          0.9148272262973095,
          0.9471541018690656,
          0.9575395789628279,
          0.9959029578082395,
          0.9915964196932064
         ]
        },
        {
         "mode": "lines",
         "name": "SVK",
         "opacity": 0.5,
         "type": "scatter",
         "y": [
          "SVK",
          0.8033597750120434,
          0.44376286290786165,
          -0.05238980391830489,
          -0.41699739958286275,
          -0.6348858205063874,
          -0.7098107219954279,
          -0.8206370348651301,
          -0.8974025813840206,
          -0.9465918905296418,
          -0.9227675162239076,
          -0.876954301208512,
          -0.9634027134338337
         ]
        },
        {
         "mode": "lines",
         "name": "SVN",
         "opacity": 0.5,
         "type": "scatter",
         "y": [
          "SVN",
          0.6534183375007304,
          0.3138619066631043,
          0.08067712876960872,
          -0.6352209398471669,
          -0.4634496029812545,
          -0.27307647947128905,
          -0.641386355320177,
          -0.7562144753009502,
          -0.7339524406841975,
          -0.7550544323483691,
          -0.0805195585632172,
          -0.9238885148644069
         ]
        },
        {
         "mode": "lines",
         "name": "SWE",
         "opacity": 0.5,
         "type": "scatter",
         "y": [
          "SWE",
          0.8786842122486934,
          0.7388317540874897,
          0.7439706791571308,
          0.7370780323364309,
          0.6012724944300426,
          0.25939108025276764,
          0.04601231011557012,
          0.22764340856583226,
          -0.24483646077713947,
          -0.725700774532072,
          -0.9582854417107761,
          -0.8519570503904346
         ]
        }
       ],
       "layout": {
        "template": {
         "data": {
          "bar": [
           {
            "error_x": {
             "color": "#2a3f5f"
            },
            "error_y": {
             "color": "#2a3f5f"
            },
            "marker": {
             "line": {
              "color": "#E5ECF6",
              "width": 0.5
             }
            },
            "type": "bar"
           }
          ],
          "barpolar": [
           {
            "marker": {
             "line": {
              "color": "#E5ECF6",
              "width": 0.5
             }
            },
            "type": "barpolar"
           }
          ],
          "carpet": [
           {
            "aaxis": {
             "endlinecolor": "#2a3f5f",
             "gridcolor": "white",
             "linecolor": "white",
             "minorgridcolor": "white",
             "startlinecolor": "#2a3f5f"
            },
            "baxis": {
             "endlinecolor": "#2a3f5f",
             "gridcolor": "white",
             "linecolor": "white",
             "minorgridcolor": "white",
             "startlinecolor": "#2a3f5f"
            },
            "type": "carpet"
           }
          ],
          "choropleth": [
           {
            "colorbar": {
             "outlinewidth": 0,
             "ticks": ""
            },
            "type": "choropleth"
           }
          ],
          "contour": [
           {
            "colorbar": {
             "outlinewidth": 0,
             "ticks": ""
            },
            "colorscale": [
             [
              0,
              "#0d0887"
             ],
             [
              0.1111111111111111,
              "#46039f"
             ],
             [
              0.2222222222222222,
              "#7201a8"
             ],
             [
              0.3333333333333333,
              "#9c179e"
             ],
             [
              0.4444444444444444,
              "#bd3786"
             ],
             [
              0.5555555555555556,
              "#d8576b"
             ],
             [
              0.6666666666666666,
              "#ed7953"
             ],
             [
              0.7777777777777778,
              "#fb9f3a"
             ],
             [
              0.8888888888888888,
              "#fdca26"
             ],
             [
              1,
              "#f0f921"
             ]
            ],
            "type": "contour"
           }
          ],
          "contourcarpet": [
           {
            "colorbar": {
             "outlinewidth": 0,
             "ticks": ""
            },
            "type": "contourcarpet"
           }
          ],
          "heatmap": [
           {
            "colorbar": {
             "outlinewidth": 0,
             "ticks": ""
            },
            "colorscale": [
             [
              0,
              "#0d0887"
             ],
             [
              0.1111111111111111,
              "#46039f"
             ],
             [
              0.2222222222222222,
              "#7201a8"
             ],
             [
              0.3333333333333333,
              "#9c179e"
             ],
             [
              0.4444444444444444,
              "#bd3786"
             ],
             [
              0.5555555555555556,
              "#d8576b"
             ],
             [
              0.6666666666666666,
              "#ed7953"
             ],
             [
              0.7777777777777778,
              "#fb9f3a"
             ],
             [
              0.8888888888888888,
              "#fdca26"
             ],
             [
              1,
              "#f0f921"
             ]
            ],
            "type": "heatmap"
           }
          ],
          "heatmapgl": [
           {
            "colorbar": {
             "outlinewidth": 0,
             "ticks": ""
            },
            "colorscale": [
             [
              0,
              "#0d0887"
             ],
             [
              0.1111111111111111,
              "#46039f"
             ],
             [
              0.2222222222222222,
              "#7201a8"
             ],
             [
              0.3333333333333333,
              "#9c179e"
             ],
             [
              0.4444444444444444,
              "#bd3786"
             ],
             [
              0.5555555555555556,
              "#d8576b"
             ],
             [
              0.6666666666666666,
              "#ed7953"
             ],
             [
              0.7777777777777778,
              "#fb9f3a"
             ],
             [
              0.8888888888888888,
              "#fdca26"
             ],
             [
              1,
              "#f0f921"
             ]
            ],
            "type": "heatmapgl"
           }
          ],
          "histogram": [
           {
            "marker": {
             "colorbar": {
              "outlinewidth": 0,
              "ticks": ""
             }
            },
            "type": "histogram"
           }
          ],
          "histogram2d": [
           {
            "colorbar": {
             "outlinewidth": 0,
             "ticks": ""
            },
            "colorscale": [
             [
              0,
              "#0d0887"
             ],
             [
              0.1111111111111111,
              "#46039f"
             ],
             [
              0.2222222222222222,
              "#7201a8"
             ],
             [
              0.3333333333333333,
              "#9c179e"
             ],
             [
              0.4444444444444444,
              "#bd3786"
             ],
             [
              0.5555555555555556,
              "#d8576b"
             ],
             [
              0.6666666666666666,
              "#ed7953"
             ],
             [
              0.7777777777777778,
              "#fb9f3a"
             ],
             [
              0.8888888888888888,
              "#fdca26"
             ],
             [
              1,
              "#f0f921"
             ]
            ],
            "type": "histogram2d"
           }
          ],
          "histogram2dcontour": [
           {
            "colorbar": {
             "outlinewidth": 0,
             "ticks": ""
            },
            "colorscale": [
             [
              0,
              "#0d0887"
             ],
             [
              0.1111111111111111,
              "#46039f"
             ],
             [
              0.2222222222222222,
              "#7201a8"
             ],
             [
              0.3333333333333333,
              "#9c179e"
             ],
             [
              0.4444444444444444,
              "#bd3786"
             ],
             [
              0.5555555555555556,
              "#d8576b"
             ],
             [
              0.6666666666666666,
              "#ed7953"
             ],
             [
              0.7777777777777778,
              "#fb9f3a"
             ],
             [
              0.8888888888888888,
              "#fdca26"
             ],
             [
              1,
              "#f0f921"
             ]
            ],
            "type": "histogram2dcontour"
           }
          ],
          "mesh3d": [
           {
            "colorbar": {
             "outlinewidth": 0,
             "ticks": ""
            },
            "type": "mesh3d"
           }
          ],
          "parcoords": [
           {
            "line": {
             "colorbar": {
              "outlinewidth": 0,
              "ticks": ""
             }
            },
            "type": "parcoords"
           }
          ],
          "pie": [
           {
            "automargin": true,
            "type": "pie"
           }
          ],
          "scatter": [
           {
            "marker": {
             "colorbar": {
              "outlinewidth": 0,
              "ticks": ""
             }
            },
            "type": "scatter"
           }
          ],
          "scatter3d": [
           {
            "line": {
             "colorbar": {
              "outlinewidth": 0,
              "ticks": ""
             }
            },
            "marker": {
             "colorbar": {
              "outlinewidth": 0,
              "ticks": ""
             }
            },
            "type": "scatter3d"
           }
          ],
          "scattercarpet": [
           {
            "marker": {
             "colorbar": {
              "outlinewidth": 0,
              "ticks": ""
             }
            },
            "type": "scattercarpet"
           }
          ],
          "scattergeo": [
           {
            "marker": {
             "colorbar": {
              "outlinewidth": 0,
              "ticks": ""
             }
            },
            "type": "scattergeo"
           }
          ],
          "scattergl": [
           {
            "marker": {
             "colorbar": {
              "outlinewidth": 0,
              "ticks": ""
             }
            },
            "type": "scattergl"
           }
          ],
          "scattermapbox": [
           {
            "marker": {
             "colorbar": {
              "outlinewidth": 0,
              "ticks": ""
             }
            },
            "type": "scattermapbox"
           }
          ],
          "scatterpolar": [
           {
            "marker": {
             "colorbar": {
              "outlinewidth": 0,
              "ticks": ""
             }
            },
            "type": "scatterpolar"
           }
          ],
          "scatterpolargl": [
           {
            "marker": {
             "colorbar": {
              "outlinewidth": 0,
              "ticks": ""
             }
            },
            "type": "scatterpolargl"
           }
          ],
          "scatterternary": [
           {
            "marker": {
             "colorbar": {
              "outlinewidth": 0,
              "ticks": ""
             }
            },
            "type": "scatterternary"
           }
          ],
          "surface": [
           {
            "colorbar": {
             "outlinewidth": 0,
             "ticks": ""
            },
            "colorscale": [
             [
              0,
              "#0d0887"
             ],
             [
              0.1111111111111111,
              "#46039f"
             ],
             [
              0.2222222222222222,
              "#7201a8"
             ],
             [
              0.3333333333333333,
              "#9c179e"
             ],
             [
              0.4444444444444444,
              "#bd3786"
             ],
             [
              0.5555555555555556,
              "#d8576b"
             ],
             [
              0.6666666666666666,
              "#ed7953"
             ],
             [
              0.7777777777777778,
              "#fb9f3a"
             ],
             [
              0.8888888888888888,
              "#fdca26"
             ],
             [
              1,
              "#f0f921"
             ]
            ],
            "type": "surface"
           }
          ],
          "table": [
           {
            "cells": {
             "fill": {
              "color": "#EBF0F8"
             },
             "line": {
              "color": "white"
             }
            },
            "header": {
             "fill": {
              "color": "#C8D4E3"
             },
             "line": {
              "color": "white"
             }
            },
            "type": "table"
           }
          ]
         },
         "layout": {
          "annotationdefaults": {
           "arrowcolor": "#2a3f5f",
           "arrowhead": 0,
           "arrowwidth": 1
          },
          "autotypenumbers": "strict",
          "coloraxis": {
           "colorbar": {
            "outlinewidth": 0,
            "ticks": ""
           }
          },
          "colorscale": {
           "diverging": [
            [
             0,
             "#8e0152"
            ],
            [
             0.1,
             "#c51b7d"
            ],
            [
             0.2,
             "#de77ae"
            ],
            [
             0.3,
             "#f1b6da"
            ],
            [
             0.4,
             "#fde0ef"
            ],
            [
             0.5,
             "#f7f7f7"
            ],
            [
             0.6,
             "#e6f5d0"
            ],
            [
             0.7,
             "#b8e186"
            ],
            [
             0.8,
             "#7fbc41"
            ],
            [
             0.9,
             "#4d9221"
            ],
            [
             1,
             "#276419"
            ]
           ],
           "sequential": [
            [
             0,
             "#0d0887"
            ],
            [
             0.1111111111111111,
             "#46039f"
            ],
            [
             0.2222222222222222,
             "#7201a8"
            ],
            [
             0.3333333333333333,
             "#9c179e"
            ],
            [
             0.4444444444444444,
             "#bd3786"
            ],
            [
             0.5555555555555556,
             "#d8576b"
            ],
            [
             0.6666666666666666,
             "#ed7953"
            ],
            [
             0.7777777777777778,
             "#fb9f3a"
            ],
            [
             0.8888888888888888,
             "#fdca26"
            ],
            [
             1,
             "#f0f921"
            ]
           ],
           "sequentialminus": [
            [
             0,
             "#0d0887"
            ],
            [
             0.1111111111111111,
             "#46039f"
            ],
            [
             0.2222222222222222,
             "#7201a8"
            ],
            [
             0.3333333333333333,
             "#9c179e"
            ],
            [
             0.4444444444444444,
             "#bd3786"
            ],
            [
             0.5555555555555556,
             "#d8576b"
            ],
            [
             0.6666666666666666,
             "#ed7953"
            ],
            [
             0.7777777777777778,
             "#fb9f3a"
            ],
            [
             0.8888888888888888,
             "#fdca26"
            ],
            [
             1,
             "#f0f921"
            ]
           ]
          },
          "colorway": [
           "#636efa",
           "#EF553B",
           "#00cc96",
           "#ab63fa",
           "#FFA15A",
           "#19d3f3",
           "#FF6692",
           "#B6E880",
           "#FF97FF",
           "#FECB52"
          ],
          "font": {
           "color": "#2a3f5f"
          },
          "geo": {
           "bgcolor": "white",
           "lakecolor": "white",
           "landcolor": "#E5ECF6",
           "showlakes": true,
           "showland": true,
           "subunitcolor": "white"
          },
          "hoverlabel": {
           "align": "left"
          },
          "hovermode": "closest",
          "mapbox": {
           "style": "light"
          },
          "paper_bgcolor": "white",
          "plot_bgcolor": "#E5ECF6",
          "polar": {
           "angularaxis": {
            "gridcolor": "white",
            "linecolor": "white",
            "ticks": ""
           },
           "bgcolor": "#E5ECF6",
           "radialaxis": {
            "gridcolor": "white",
            "linecolor": "white",
            "ticks": ""
           }
          },
          "scene": {
           "xaxis": {
            "backgroundcolor": "#E5ECF6",
            "gridcolor": "white",
            "gridwidth": 2,
            "linecolor": "white",
            "showbackground": true,
            "ticks": "",
            "zerolinecolor": "white"
           },
           "yaxis": {
            "backgroundcolor": "#E5ECF6",
            "gridcolor": "white",
            "gridwidth": 2,
            "linecolor": "white",
            "showbackground": true,
            "ticks": "",
            "zerolinecolor": "white"
           },
           "zaxis": {
            "backgroundcolor": "#E5ECF6",
            "gridcolor": "white",
            "gridwidth": 2,
            "linecolor": "white",
            "showbackground": true,
            "ticks": "",
            "zerolinecolor": "white"
           }
          },
          "shapedefaults": {
           "line": {
            "color": "#2a3f5f"
           }
          },
          "ternary": {
           "aaxis": {
            "gridcolor": "white",
            "linecolor": "white",
            "ticks": ""
           },
           "baxis": {
            "gridcolor": "white",
            "linecolor": "white",
            "ticks": ""
           },
           "bgcolor": "#E5ECF6",
           "caxis": {
            "gridcolor": "white",
            "linecolor": "white",
            "ticks": ""
           }
          },
          "title": {
           "x": 0.05
          },
          "xaxis": {
           "automargin": true,
           "gridcolor": "white",
           "linecolor": "white",
           "ticks": "",
           "title": {
            "standoff": 15
           },
           "zerolinecolor": "white",
           "zerolinewidth": 2
          },
          "yaxis": {
           "automargin": true,
           "gridcolor": "white",
           "linecolor": "white",
           "ticks": "",
           "title": {
            "standoff": 15
           },
           "zerolinecolor": "white",
           "zerolinewidth": 2
          }
         }
        },
        "title": {
         "text": "Autocorrelation Plot for Every Country's Labour Productivity<br>with an Increasing Lag",
         "x": 0.5
        },
        "xaxis": {
         "range": [
          1,
          12
         ],
         "title": {
          "text": "Lag"
         }
        },
        "yaxis": {
         "range": [
          -1,
          1
         ],
         "title": {
          "text": "Autocorrelation"
         }
        }
       }
      },
      "text/html": [
       "<div>                            <div id=\"034c19fc-7e47-4da6-90ec-c05910293589\" class=\"plotly-graph-div\" style=\"height:525px; width:100%;\"></div>            <script type=\"text/javascript\">                require([\"plotly\"], function(Plotly) {                    window.PLOTLYENV=window.PLOTLYENV || {};                                    if (document.getElementById(\"034c19fc-7e47-4da6-90ec-c05910293589\")) {                    Plotly.newPlot(                        \"034c19fc-7e47-4da6-90ec-c05910293589\",                        [{\"mode\": \"lines\", \"name\": \"AUT\", \"opacity\": 0.5, \"type\": \"scatter\", \"y\": [\"AUT\", 0.7564142760317699, 0.5139812868236856, 0.3739197873222303, 0.08220102355138743, -0.4139234283766781, 0.07417595282861916, 0.6473806811884697, 0.6104965379943085, 0.7408649673272752, 0.8060314450134901, 0.683810821696229, 0.5827930480804464]}, {\"mode\": \"lines\", \"name\": \"BEL\", \"opacity\": 0.5, \"type\": \"scatter\", \"y\": [\"BEL\", 0.4827162599480111, -0.028157667297367028, -0.40986628158155003, -0.4987531971754503, -0.45459273098032554, -0.6295945132609418, -0.2118850617588688, 0.38732659924101753, 0.7685545032066291, 0.9029293795540994, 0.8603232130759664, 0.8209453057619934]}, {\"mode\": \"lines\", \"name\": \"BGR\", \"opacity\": 0.5, \"type\": \"scatter\", \"y\": [\"BGR\", 0.9763294733965735, 0.971853672152066, 0.9620310869320589, 0.9619576484390795, 0.9255077474188994, 0.9270277643262076, 0.9717019545335133, 0.9790657373835897, 0.9428575685829945, 0.9122194300676343, 0.9805353287751741, 0.7978312271996735]}, {\"mode\": \"lines\", \"name\": \"CHE\", \"opacity\": 0.5, \"type\": \"scatter\", \"y\": [\"CHE\", 0.692497917646872, 0.10278229001210525, -0.2721417134395719, -0.3647571620909008, -0.16785051780718424, -0.10394078136340854, -0.26906113290177763, -0.4027037414744928, -0.7714634605137456, -0.9558031841493189, -0.8633383016918229, -0.8503831944840802]}, {\"mode\": \"lines\", \"name\": \"CYP\", \"opacity\": 0.5, \"type\": \"scatter\", \"y\": [\"CYP\", 0.9106652623250543, 0.7336318679624556, 0.5614543539614503, 0.44643754518748846, 0.33300832365386124, 0.20169482608481426, 0.28128381027841176, 0.7635325130538548, 0.7113211809437956, -0.5202417014007877, -0.9449442554452953, -0.9988678490160223]}, {\"mode\": \"lines\", \"name\": \"CZE\", \"opacity\": 0.5, \"type\": \"scatter\", \"y\": [\"CZE\", 0.8900262450129283, 0.6913915403483009, 0.44693737862544186, 0.3968680330054955, 0.4271880417422346, 0.35782900630034764, 0.4261619563499958, 0.5861514973433526, 0.7098152935800617, 0.9939515530135365, 0.9113332608530442, 0.8714036522276586]}, {\"mode\": \"lines\", \"name\": \"DEU\", \"opacity\": 0.5, \"type\": \"scatter\", \"y\": [\"DEU\", 0.6702934069944856, 0.3077430830695456, 0.10139164185365653, -0.1903481018020612, -0.2660662961733167, 0.21329109988717485, -0.006747648024022204, -0.014482791574674659, 0.6194770360428903, 0.8911289180647393, 0.9738587370473889, 0.9379030381417569]}, {\"mode\": \"lines\", \"name\": \"DNK\", \"opacity\": 0.5, \"type\": \"scatter\", \"y\": [\"DNK\", 0.8562070227691037, 0.7211300633751325, 0.5760213712692875, 0.5635643982587394, 0.5445021007591926, 0.5828289183385245, 0.850919207588488, 0.7366935366000193, 0.6190703465435445, -0.28691151610778065, -0.12063985708020698, -0.7559289460184548]}, {\"mode\": \"lines\", \"name\": \"ESP\", \"opacity\": 0.5, \"type\": \"scatter\", \"y\": [\"ESP\", 0.3145820276590971, -0.11871243652303164, 0.10877146666166349, -0.2066995889007909, -0.16050216572245501, -0.2398778253158594, -0.17891334938098877, 0.003253763287795302, -0.6246855086181524, -0.7978428289356075, -0.29089347976598195, -0.8322397195638277]}, {\"mode\": \"lines\", \"name\": \"EST\", \"opacity\": 0.5, \"type\": \"scatter\", \"y\": [\"EST\", 0.9115666805446735, 0.8326197441095742, 0.8259452243956883, 0.7633867148231686, 0.7039549708260993, 0.6750987540015502, 0.6936795456341428, 0.5608525692271348, 0.5906468757469409, 0.7597479015613424, 0.8900387022290511, 0.9549502905685928]}, {\"mode\": \"lines\", \"name\": \"FIN\", \"opacity\": 0.5, \"type\": \"scatter\", \"y\": [\"FIN\", 0.8837924283208126, 0.7322280581630967, 0.6553772430947004, 0.520508047219386, 0.307897109622405, 0.2023297254524891, 0.09192101057891822, 0.09950565615150955, 0.779863385057028, 0.6749691661318795, -0.7800833698459826, -0.6954167961483136]}, {\"mode\": \"lines\", \"name\": \"FRA\", \"opacity\": 0.5, \"type\": \"scatter\", \"y\": [\"FRA\", 0.7981600865799925, 0.6515239919209705, 0.5849333325312339, 0.6750134677196691, 0.5507505304612806, 0.43820738229003414, -0.06304879096852384, 0.280209440808495, 0.19389368312438018, -0.027099311254291828, -0.7103942143496625, -0.8723686098443381]}, {\"mode\": \"lines\", \"name\": \"GBR\", \"opacity\": 0.5, \"type\": \"scatter\", \"y\": [\"GBR\", 0.9589980182377172, 0.9480420574718532, 0.8733698317159745, 0.805388142689218, 0.8082600060951909, 0.7796546487993626, 0.9309080883263499, 0.9570903235466542, 0.9769118426539342, 0.922542948374464, 0.9757944988441067, 0.9676274556945706]}, {\"mode\": \"lines\", \"name\": \"GRC\", \"opacity\": 0.5, \"type\": \"scatter\", \"y\": [\"GRC\", 0.9546323547546568, 0.8950214754027023, 0.8315727533564182, 0.7764131259374992, 0.8312508088391531, 0.9132632788608085, 0.7844991116972946, 0.623133577810804, 0.6130497232470071, -0.08448983046187819, 0.8625313884373166, -0.07556913019645627]}, {\"mode\": \"lines\", \"name\": \"HRV\", \"opacity\": 0.5, \"type\": \"scatter\", \"y\": [\"HRV\", 0.6624646718987345, 0.11681009933729229, 0.07183064954943269, 0.5626976282052678, 0.7480004797856669, 0.20331599004253992, -0.6227903461163571, -0.6303004975508845, 0.8128413638168461, 0.8288330649910891, -0.6233040889739452, -0.9195880187633035]}, {\"mode\": \"lines\", \"name\": \"HUN\", \"opacity\": 0.5, \"type\": \"scatter\", \"y\": [\"HUN\", 0.7615708331256992, 0.39508865168434987, -0.15113586300253865, -0.5783435768149798, -0.7950841598343791, -0.9020913573348838, -0.854402216147868, -0.6866794284582969, -0.20371759230055003, 0.4132849373071917, 0.8378081213046842, -0.9933992677987832]}, {\"mode\": \"lines\", \"name\": \"IRL\", \"opacity\": 0.5, \"type\": \"scatter\", \"y\": [\"IRL\", 0.8753848925370877, 0.7808802840319244, 0.700472174331727, 0.5767958172394815, 0.7257305093237458, 0.43409150498435195, 0.011972387766020616, -0.1030429483302778, -0.28588225683879526, -0.795195480215725, -0.5511146659300706, 0.35379848829383315]}, {\"mode\": \"lines\", \"name\": \"ISL\", \"opacity\": 0.5, \"type\": \"scatter\", \"y\": [\"ISL\", 0.4668834635959775, -0.18126500639640009, -0.4438993726468584, -0.5953813087148502, -0.7636145146626174, -0.31884197181145735, -0.21210113194935432, -0.8394382110245265, -0.6302179823856636, 1.0, null, null]}, {\"mode\": \"lines\", \"name\": \"ITA\", \"opacity\": 0.5, \"type\": \"scatter\", \"y\": [\"ITA\", 0.971028509749334, 0.9277387546873281, 0.8810275953953333, 0.8385179911282838, 0.805423374367558, 0.7467276995028349, 0.7803175927245893, 0.8973607039399751, 0.7534558298479174, -0.023312933049390968, 0.622727509890511, 0.9276475737694753]}, {\"mode\": \"lines\", \"name\": \"LTU\", \"opacity\": 0.5, \"type\": \"scatter\", \"y\": [\"LTU\", 0.9235578336730096, 0.8342053275698874, 0.7842866627066892, 0.7799651251144608, 0.7762199145533184, 0.8205058274804075, 0.7687151785697147, 0.4937588490025142, 0.5011180731837943, 0.6869665004997522, 0.9693990997028464, 0.9995178041655212]}, {\"mode\": \"lines\", \"name\": \"LUX\", \"opacity\": 0.5, \"type\": \"scatter\", \"y\": [\"LUX\", 0.6176917652482103, 0.0634321085835887, -0.4346391226041728, -0.5507806949345451, -0.5158854291486065, -0.3482552859311712, 0.17112926314370272, 0.7376081940128036, 0.8683513055548245, 0.600147756341899, -0.37794390696201396, -0.8660254037844385]}, {\"mode\": \"lines\", \"name\": \"LVA\", \"opacity\": 0.5, \"type\": \"scatter\", \"y\": [\"LVA\", 0.9783719573117837, 0.9655430518770783, 0.9618137850384704, 0.9477071285824721, 0.941575735762423, 0.966997290327088, 0.9761523798723004, 0.9089431782862526, 0.9271297559553887, 0.9833448953112851, 0.7997022873779349, 0.4703170810017719]}, {\"mode\": \"lines\", \"name\": \"MKD\", \"opacity\": 0.5, \"type\": \"scatter\", \"y\": [\"MKD\", 0.385585696160985, 0.37165899589984175, -0.14796215066580792, -0.010580486591534854, -0.16714079846532764, 0.23866680309345983, -0.23662993650559666, 0.4870135148233586, 0.2999375195244677, -0.33499749976366827, 0.4389477864571957, -0.9999999999999998]}, {\"mode\": \"lines\", \"name\": \"MLT\", \"opacity\": 0.5, \"type\": \"scatter\", \"y\": [\"MLT\", 0.27727659053512244, -0.20080453959899985, -0.45862710070641133, -0.5244318961050929, 0.2291062148863297, 0.13551530009893722, 0.11352565452490211, -0.1276467374740484, -0.8941331922725756, 0.2707540224819104, 0.7817408684413166, 0.8817152586849453]}, {\"mode\": \"lines\", \"name\": \"NLD\", \"opacity\": 0.5, \"type\": \"scatter\", \"y\": [\"NLD\", 0.9389244596361843, 0.853751652275267, 0.7638531521596915, 0.753904735766933, 0.8498068793233725, 0.8212002084524928, 0.8979204895669111, 0.8118332139392581, 0.8152753494719325, 0.8193127920161306, 0.08696310791264109, 0.9993549745833897]}, {\"mode\": \"lines\", \"name\": \"NOR\", \"opacity\": 0.5, \"type\": \"scatter\", \"y\": [\"NOR\", 0.7908449813864004, 0.6077678738487917, 0.394121991271756, 0.34044563888586704, 0.4267363186321061, 0.669381731115859, 0.5064207399398585, 0.2586846177200496, 0.030645573258967985, 0.1951697583800259, -0.2769609534085195, 0.9911358482810997]}, {\"mode\": \"lines\", \"name\": \"POL\", \"opacity\": 0.5, \"type\": \"scatter\", \"y\": [\"POL\", 0.9644595297105014, 0.8875334480269543, 0.7917474520481141, 0.7319179346001291, 0.7395610467054876, 0.7783135216983711, 0.876881319217807, 0.9573910715637953, 0.9731578404460203, 0.962891775202214, 0.6932556373860933, 0.1245338703466775]}, {\"mode\": \"lines\", \"name\": \"PRT\", \"opacity\": 0.5, \"type\": \"scatter\", \"y\": [\"PRT\", 0.3545425650632407, -0.28934510067031255, -0.0562808665810401, -0.07290308635077422, -0.07730280646598588, 0.45201257515321913, 0.31383430848160504, -0.3763530323004199, -0.4982996681409544, -0.10764876920880521, -0.9642974208808256, 0.24854790640048144]}, {\"mode\": \"lines\", \"name\": \"ROU\", \"opacity\": 0.5, \"type\": \"scatter\", \"y\": [\"ROU\", 0.9733347357160748, 0.9135608262085464, 0.8228650510514273, 0.7758835508133802, 0.7776324792804472, 0.7906064419985355, 0.8398155216676358, 0.9148272262973095, 0.9471541018690656, 0.9575395789628279, 0.9959029578082395, 0.9915964196932064]}, {\"mode\": \"lines\", \"name\": \"SVK\", \"opacity\": 0.5, \"type\": \"scatter\", \"y\": [\"SVK\", 0.8033597750120434, 0.44376286290786165, -0.05238980391830489, -0.41699739958286275, -0.6348858205063874, -0.7098107219954279, -0.8206370348651301, -0.8974025813840206, -0.9465918905296418, -0.9227675162239076, -0.876954301208512, -0.9634027134338337]}, {\"mode\": \"lines\", \"name\": \"SVN\", \"opacity\": 0.5, \"type\": \"scatter\", \"y\": [\"SVN\", 0.6534183375007304, 0.3138619066631043, 0.08067712876960872, -0.6352209398471669, -0.4634496029812545, -0.27307647947128905, -0.641386355320177, -0.7562144753009502, -0.7339524406841975, -0.7550544323483691, -0.0805195585632172, -0.9238885148644069]}, {\"mode\": \"lines\", \"name\": \"SWE\", \"opacity\": 0.5, \"type\": \"scatter\", \"y\": [\"SWE\", 0.8786842122486934, 0.7388317540874897, 0.7439706791571308, 0.7370780323364309, 0.6012724944300426, 0.25939108025276764, 0.04601231011557012, 0.22764340856583226, -0.24483646077713947, -0.725700774532072, -0.9582854417107761, -0.8519570503904346]}],                        {\"template\": {\"data\": {\"bar\": [{\"error_x\": {\"color\": \"#2a3f5f\"}, \"error_y\": {\"color\": \"#2a3f5f\"}, \"marker\": {\"line\": {\"color\": \"#E5ECF6\", \"width\": 0.5}}, \"type\": \"bar\"}], \"barpolar\": [{\"marker\": {\"line\": {\"color\": \"#E5ECF6\", \"width\": 0.5}}, \"type\": \"barpolar\"}], \"carpet\": [{\"aaxis\": {\"endlinecolor\": \"#2a3f5f\", \"gridcolor\": \"white\", \"linecolor\": \"white\", \"minorgridcolor\": \"white\", \"startlinecolor\": \"#2a3f5f\"}, \"baxis\": {\"endlinecolor\": \"#2a3f5f\", \"gridcolor\": \"white\", \"linecolor\": \"white\", \"minorgridcolor\": \"white\", \"startlinecolor\": \"#2a3f5f\"}, \"type\": \"carpet\"}], \"choropleth\": [{\"colorbar\": {\"outlinewidth\": 0, \"ticks\": \"\"}, \"type\": \"choropleth\"}], \"contour\": [{\"colorbar\": {\"outlinewidth\": 0, \"ticks\": \"\"}, \"colorscale\": [[0.0, \"#0d0887\"], [0.1111111111111111, \"#46039f\"], [0.2222222222222222, \"#7201a8\"], [0.3333333333333333, \"#9c179e\"], [0.4444444444444444, \"#bd3786\"], [0.5555555555555556, \"#d8576b\"], [0.6666666666666666, \"#ed7953\"], [0.7777777777777778, \"#fb9f3a\"], [0.8888888888888888, \"#fdca26\"], [1.0, \"#f0f921\"]], \"type\": \"contour\"}], \"contourcarpet\": [{\"colorbar\": {\"outlinewidth\": 0, \"ticks\": \"\"}, \"type\": \"contourcarpet\"}], \"heatmap\": [{\"colorbar\": {\"outlinewidth\": 0, \"ticks\": \"\"}, \"colorscale\": [[0.0, \"#0d0887\"], [0.1111111111111111, \"#46039f\"], [0.2222222222222222, \"#7201a8\"], [0.3333333333333333, \"#9c179e\"], [0.4444444444444444, \"#bd3786\"], [0.5555555555555556, \"#d8576b\"], [0.6666666666666666, \"#ed7953\"], [0.7777777777777778, \"#fb9f3a\"], [0.8888888888888888, \"#fdca26\"], [1.0, \"#f0f921\"]], \"type\": \"heatmap\"}], \"heatmapgl\": [{\"colorbar\": {\"outlinewidth\": 0, \"ticks\": \"\"}, \"colorscale\": [[0.0, \"#0d0887\"], [0.1111111111111111, \"#46039f\"], [0.2222222222222222, \"#7201a8\"], [0.3333333333333333, \"#9c179e\"], [0.4444444444444444, \"#bd3786\"], [0.5555555555555556, \"#d8576b\"], [0.6666666666666666, \"#ed7953\"], [0.7777777777777778, \"#fb9f3a\"], [0.8888888888888888, \"#fdca26\"], [1.0, \"#f0f921\"]], \"type\": \"heatmapgl\"}], \"histogram\": [{\"marker\": {\"colorbar\": {\"outlinewidth\": 0, \"ticks\": \"\"}}, \"type\": \"histogram\"}], \"histogram2d\": [{\"colorbar\": {\"outlinewidth\": 0, \"ticks\": \"\"}, \"colorscale\": [[0.0, \"#0d0887\"], [0.1111111111111111, \"#46039f\"], [0.2222222222222222, \"#7201a8\"], [0.3333333333333333, \"#9c179e\"], [0.4444444444444444, \"#bd3786\"], [0.5555555555555556, \"#d8576b\"], [0.6666666666666666, \"#ed7953\"], [0.7777777777777778, \"#fb9f3a\"], [0.8888888888888888, \"#fdca26\"], [1.0, \"#f0f921\"]], \"type\": \"histogram2d\"}], \"histogram2dcontour\": [{\"colorbar\": {\"outlinewidth\": 0, \"ticks\": \"\"}, \"colorscale\": [[0.0, \"#0d0887\"], [0.1111111111111111, \"#46039f\"], [0.2222222222222222, \"#7201a8\"], [0.3333333333333333, \"#9c179e\"], [0.4444444444444444, \"#bd3786\"], [0.5555555555555556, \"#d8576b\"], [0.6666666666666666, \"#ed7953\"], [0.7777777777777778, \"#fb9f3a\"], [0.8888888888888888, \"#fdca26\"], [1.0, \"#f0f921\"]], \"type\": \"histogram2dcontour\"}], \"mesh3d\": [{\"colorbar\": {\"outlinewidth\": 0, \"ticks\": \"\"}, \"type\": \"mesh3d\"}], \"parcoords\": [{\"line\": {\"colorbar\": {\"outlinewidth\": 0, \"ticks\": \"\"}}, \"type\": \"parcoords\"}], \"pie\": [{\"automargin\": true, \"type\": \"pie\"}], \"scatter\": [{\"marker\": {\"colorbar\": {\"outlinewidth\": 0, \"ticks\": \"\"}}, \"type\": \"scatter\"}], \"scatter3d\": [{\"line\": {\"colorbar\": {\"outlinewidth\": 0, \"ticks\": \"\"}}, \"marker\": {\"colorbar\": {\"outlinewidth\": 0, \"ticks\": \"\"}}, \"type\": \"scatter3d\"}], \"scattercarpet\": [{\"marker\": {\"colorbar\": {\"outlinewidth\": 0, \"ticks\": \"\"}}, \"type\": \"scattercarpet\"}], \"scattergeo\": [{\"marker\": {\"colorbar\": {\"outlinewidth\": 0, \"ticks\": \"\"}}, \"type\": \"scattergeo\"}], \"scattergl\": [{\"marker\": {\"colorbar\": {\"outlinewidth\": 0, \"ticks\": \"\"}}, \"type\": \"scattergl\"}], \"scattermapbox\": [{\"marker\": {\"colorbar\": {\"outlinewidth\": 0, \"ticks\": \"\"}}, \"type\": \"scattermapbox\"}], \"scatterpolar\": [{\"marker\": {\"colorbar\": {\"outlinewidth\": 0, \"ticks\": \"\"}}, \"type\": \"scatterpolar\"}], \"scatterpolargl\": [{\"marker\": {\"colorbar\": {\"outlinewidth\": 0, \"ticks\": \"\"}}, \"type\": \"scatterpolargl\"}], \"scatterternary\": [{\"marker\": {\"colorbar\": {\"outlinewidth\": 0, \"ticks\": \"\"}}, \"type\": \"scatterternary\"}], \"surface\": [{\"colorbar\": {\"outlinewidth\": 0, \"ticks\": \"\"}, \"colorscale\": [[0.0, \"#0d0887\"], [0.1111111111111111, \"#46039f\"], [0.2222222222222222, \"#7201a8\"], [0.3333333333333333, \"#9c179e\"], [0.4444444444444444, \"#bd3786\"], [0.5555555555555556, \"#d8576b\"], [0.6666666666666666, \"#ed7953\"], [0.7777777777777778, \"#fb9f3a\"], [0.8888888888888888, \"#fdca26\"], [1.0, \"#f0f921\"]], \"type\": \"surface\"}], \"table\": [{\"cells\": {\"fill\": {\"color\": \"#EBF0F8\"}, \"line\": {\"color\": \"white\"}}, \"header\": {\"fill\": {\"color\": \"#C8D4E3\"}, \"line\": {\"color\": \"white\"}}, \"type\": \"table\"}]}, \"layout\": {\"annotationdefaults\": {\"arrowcolor\": \"#2a3f5f\", \"arrowhead\": 0, \"arrowwidth\": 1}, \"autotypenumbers\": \"strict\", \"coloraxis\": {\"colorbar\": {\"outlinewidth\": 0, \"ticks\": \"\"}}, \"colorscale\": {\"diverging\": [[0, \"#8e0152\"], [0.1, \"#c51b7d\"], [0.2, \"#de77ae\"], [0.3, \"#f1b6da\"], [0.4, \"#fde0ef\"], [0.5, \"#f7f7f7\"], [0.6, \"#e6f5d0\"], [0.7, \"#b8e186\"], [0.8, \"#7fbc41\"], [0.9, \"#4d9221\"], [1, \"#276419\"]], \"sequential\": [[0.0, \"#0d0887\"], [0.1111111111111111, \"#46039f\"], [0.2222222222222222, \"#7201a8\"], [0.3333333333333333, \"#9c179e\"], [0.4444444444444444, \"#bd3786\"], [0.5555555555555556, \"#d8576b\"], [0.6666666666666666, \"#ed7953\"], [0.7777777777777778, \"#fb9f3a\"], [0.8888888888888888, \"#fdca26\"], [1.0, \"#f0f921\"]], \"sequentialminus\": [[0.0, \"#0d0887\"], [0.1111111111111111, \"#46039f\"], [0.2222222222222222, \"#7201a8\"], [0.3333333333333333, \"#9c179e\"], [0.4444444444444444, \"#bd3786\"], [0.5555555555555556, \"#d8576b\"], [0.6666666666666666, \"#ed7953\"], [0.7777777777777778, \"#fb9f3a\"], [0.8888888888888888, \"#fdca26\"], [1.0, \"#f0f921\"]]}, \"colorway\": [\"#636efa\", \"#EF553B\", \"#00cc96\", \"#ab63fa\", \"#FFA15A\", \"#19d3f3\", \"#FF6692\", \"#B6E880\", \"#FF97FF\", \"#FECB52\"], \"font\": {\"color\": \"#2a3f5f\"}, \"geo\": {\"bgcolor\": \"white\", \"lakecolor\": \"white\", \"landcolor\": \"#E5ECF6\", \"showlakes\": true, \"showland\": true, \"subunitcolor\": \"white\"}, \"hoverlabel\": {\"align\": \"left\"}, \"hovermode\": \"closest\", \"mapbox\": {\"style\": \"light\"}, \"paper_bgcolor\": \"white\", \"plot_bgcolor\": \"#E5ECF6\", \"polar\": {\"angularaxis\": {\"gridcolor\": \"white\", \"linecolor\": \"white\", \"ticks\": \"\"}, \"bgcolor\": \"#E5ECF6\", \"radialaxis\": {\"gridcolor\": \"white\", \"linecolor\": \"white\", \"ticks\": \"\"}}, \"scene\": {\"xaxis\": {\"backgroundcolor\": \"#E5ECF6\", \"gridcolor\": \"white\", \"gridwidth\": 2, \"linecolor\": \"white\", \"showbackground\": true, \"ticks\": \"\", \"zerolinecolor\": \"white\"}, \"yaxis\": {\"backgroundcolor\": \"#E5ECF6\", \"gridcolor\": \"white\", \"gridwidth\": 2, \"linecolor\": \"white\", \"showbackground\": true, \"ticks\": \"\", \"zerolinecolor\": \"white\"}, \"zaxis\": {\"backgroundcolor\": \"#E5ECF6\", \"gridcolor\": \"white\", \"gridwidth\": 2, \"linecolor\": \"white\", \"showbackground\": true, \"ticks\": \"\", \"zerolinecolor\": \"white\"}}, \"shapedefaults\": {\"line\": {\"color\": \"#2a3f5f\"}}, \"ternary\": {\"aaxis\": {\"gridcolor\": \"white\", \"linecolor\": \"white\", \"ticks\": \"\"}, \"baxis\": {\"gridcolor\": \"white\", \"linecolor\": \"white\", \"ticks\": \"\"}, \"bgcolor\": \"#E5ECF6\", \"caxis\": {\"gridcolor\": \"white\", \"linecolor\": \"white\", \"ticks\": \"\"}}, \"title\": {\"x\": 0.05}, \"xaxis\": {\"automargin\": true, \"gridcolor\": \"white\", \"linecolor\": \"white\", \"ticks\": \"\", \"title\": {\"standoff\": 15}, \"zerolinecolor\": \"white\", \"zerolinewidth\": 2}, \"yaxis\": {\"automargin\": true, \"gridcolor\": \"white\", \"linecolor\": \"white\", \"ticks\": \"\", \"title\": {\"standoff\": 15}, \"zerolinecolor\": \"white\", \"zerolinewidth\": 2}}}, \"title\": {\"text\": \"Autocorrelation Plot for Every Country's Labour Productivity<br>with an Increasing Lag\", \"x\": 0.5}, \"xaxis\": {\"range\": [1, 12], \"title\": {\"text\": \"Lag\"}}, \"yaxis\": {\"range\": [-1, 1], \"title\": {\"text\": \"Autocorrelation\"}}},                        {\"responsive\": true}                    ).then(function(){\n",
       "                            \n",
       "var gd = document.getElementById('034c19fc-7e47-4da6-90ec-c05910293589');\n",
       "var x = new MutationObserver(function (mutations, observer) {{\n",
       "        var display = window.getComputedStyle(gd).display;\n",
       "        if (!display || display === 'none') {{\n",
       "            console.log([gd, 'removed!']);\n",
       "            Plotly.purge(gd);\n",
       "            observer.disconnect();\n",
       "        }}\n",
       "}});\n",
       "\n",
       "// Listen for the removal of the full notebook cells\n",
       "var notebookContainer = gd.closest('#notebook-container');\n",
       "if (notebookContainer) {{\n",
       "    x.observe(notebookContainer, {childList: true});\n",
       "}}\n",
       "\n",
       "// Listen for the clearing of the current output cell\n",
       "var outputEl = gd.closest('.output');\n",
       "if (outputEl) {{\n",
       "    x.observe(outputEl, {childList: true});\n",
       "}}\n",
       "\n",
       "                        })                };                });            </script>        </div>"
      ]
     },
     "metadata": {},
     "output_type": "display_data"
    },
    {
     "data": {
      "application/vnd.plotly.v1+json": {
       "config": {
        "plotlyServerURL": "https://plot.ly"
       },
       "data": [
        {
         "mode": "lines",
         "name": "EU27_2007",
         "opacity": 0.5,
         "type": "scatter",
         "y": [
          "EU27_2007",
          0.9919173493824854,
          0.9855808184263529,
          0.98030390034167,
          0.9754645211877735,
          0.968223707584216,
          0.9639885067827154,
          0.961486075122129,
          0.9582029202022485,
          0.9568316592873591,
          0.9645157338674212,
          0.981773504602219,
          0.9638206738364393,
          0.9487229382228607,
          0.9596817239442307,
          0.9621372817847265,
          0.9578884799283827,
          0.9609576796039178,
          0.926904734400357,
          0.8687960922925427,
          0.775279393755359,
          0.6761548746373317,
          0.35181653946183317,
          -0.19079997403548823,
          -0.9999999999999999,
          null,
          null,
          null,
          null,
          null,
          null,
          null,
          null,
          null,
          null,
          null
         ]
        },
        {
         "mode": "lines",
         "name": "EU28",
         "opacity": 0.5,
         "type": "scatter",
         "y": [
          "EU28",
          0.9927116179801376,
          0.9820945529134528,
          0.9748418149409757,
          0.9691514415931033,
          0.9574130219490675,
          0.9495162078867149,
          0.9491996884492464,
          0.9423649394629289,
          0.9321674877699047,
          0.9344263005987984,
          0.9542897504697677,
          0.9488610704934084,
          0.9654707041115219,
          0.9898010146809483,
          0.9873541574779123,
          0.9801889936482737,
          0.9885458589660047,
          0.9906995100401493,
          0.9877939267998543,
          0.9828703986596146,
          0.9987094378430212,
          0.9998940555497647,
          1,
          null,
          null,
          null,
          null,
          null,
          null,
          null,
          null,
          null,
          null,
          null,
          null
         ]
        },
        {
         "mode": "lines",
         "name": "EU15",
         "opacity": 0.5,
         "type": "scatter",
         "y": [
          "EU15",
          0.9923771464717881,
          0.9806584783386948,
          0.9724743935841003,
          0.965587006737391,
          0.9515203473655159,
          0.941007845319329,
          0.9396160197975081,
          0.9324224844087784,
          0.9200023253720703,
          0.9209945933021971,
          0.9421808465984751,
          0.9417268884896863,
          0.965598098814601,
          0.9906390655004746,
          0.990530649461814,
          0.9822964703544425,
          0.9852526363638013,
          0.9851418329591872,
          0.9834489303221373,
          0.9816242936125986,
          0.9975474960464701,
          0.9999556293205392,
          0.9999999999999999,
          null,
          null,
          null,
          null,
          null,
          null,
          null,
          null,
          null,
          null,
          null,
          null
         ]
        },
        {
         "mode": "lines",
         "name": "EU",
         "opacity": 0.5,
         "type": "scatter",
         "y": [
          "EU",
          0.9924126284193424,
          0.9864643896086835,
          0.9815389757958684,
          0.9763576953812904,
          0.9690498118492089,
          0.9652774870160682,
          0.9633760923231369,
          0.9604945135007921,
          0.9590461757475622,
          0.964912832431691,
          0.9771999547738919,
          0.9622361766965027,
          0.9497398071163461,
          0.959828993542223,
          0.9639745368894208,
          0.9546970312268765,
          0.9441109455036394,
          0.8929256987801012,
          0.7963854834444463,
          0.7276574259825626,
          0.5723501747338675,
          0.20115190924755194,
          -0.2780491636265831,
          -1,
          null,
          null,
          null,
          null,
          null,
          null,
          null,
          null,
          null,
          null,
          null
         ]
        },
        {
         "mode": "lines",
         "name": "EU19",
         "opacity": 0.5,
         "type": "scatter",
         "y": [
          "EU19",
          0.9916644669344434,
          0.9849217520051681,
          0.9790140771823694,
          0.972880352592641,
          0.9641005792790067,
          0.9586420986136882,
          0.9562018581329049,
          0.9536892342961187,
          0.95196755688506,
          0.9593612839384158,
          0.9757585281928912,
          0.9585623024833798,
          0.9440285811690541,
          0.9552481213760522,
          0.958706320009568,
          0.9501395457241525,
          0.9476438487090847,
          0.9097744465884648,
          0.8390990052166737,
          0.7341010400363576,
          0.5809236618172863,
          0.21570642385700103,
          -0.2985353002979035,
          -0.9999999999999998,
          null,
          null,
          null,
          null,
          null,
          null,
          null,
          null,
          null,
          null,
          null
         ]
        },
        {
         "mode": "lines",
         "name": "EU12",
         "opacity": 0.5,
         "type": "scatter",
         "y": [
          "EU12",
          0.9915354467080595,
          0.9847763325282909,
          0.9787711971580055,
          0.9725248773615972,
          0.9635671193566517,
          0.9579751211903103,
          0.9554400487661309,
          0.952886584172794,
          0.9508760475978086,
          0.9578840583401084,
          0.9742230488880379,
          0.957404297226914,
          0.9431896130850378,
          0.9540935676852125,
          0.9577085273155794,
          0.9487533352589739,
          0.9457041602193751,
          0.9058673319571049,
          0.8320656283633537,
          0.7227545501882245,
          0.5590311520346982,
          0.18533457035378115,
          -0.30765814299359995,
          -1,
          null,
          null,
          null,
          null,
          null,
          null,
          null,
          null,
          null,
          null,
          null
         ]
        },
        {
         "mode": "lines",
         "name": "BEL",
         "opacity": 0.5,
         "type": "scatter",
         "y": [
          "BEL",
          0.9933426772284569,
          0.9904952206929523,
          0.9889650976785301,
          0.9883586821720687,
          0.9872532107772328,
          0.9859134620801371,
          0.9831894186744214,
          0.97786982590957,
          0.9753883177250555,
          0.9776072314469471,
          0.9899841684132797,
          0.977159996020648,
          0.9567692058320774,
          0.9460388633357123,
          0.9430135043130802,
          0.9318533424587844,
          0.9337019627228923,
          0.8840905802093046,
          0.800968539095674,
          0.6007126937763787,
          0.34074733155360437,
          -0.17755814365891545,
          -0.8548005788633878,
          1,
          null,
          null,
          null,
          null,
          null,
          null,
          null,
          null,
          null,
          null,
          null
         ]
        },
        {
         "mode": "lines",
         "name": "BGR",
         "opacity": 0.5,
         "type": "scatter",
         "y": [
          "BGR",
          0.991607287903296,
          0.9828302213611921,
          0.9746409614322493,
          0.9590208812381933,
          0.9440076029693951,
          0.9330741152329995,
          0.9280437232062843,
          0.9240660464257221,
          0.9244408289372426,
          0.934440992018466,
          0.9426762829563302,
          0.9474650389960503,
          0.9619284206627955,
          0.9432595449817217,
          0.9062387270810962,
          0.9045665600468497,
          0.8720412225951168,
          0.7453215215523168,
          0.5415554080360743,
          0.2796616090181394,
          0.014616835308231085,
          -0.4268404452161524,
          -0.9980719710797645,
          1,
          null,
          null,
          null,
          null,
          null,
          null,
          null,
          null,
          null,
          null,
          null
         ]
        },
        {
         "mode": "lines",
         "name": "CZE",
         "opacity": 0.5,
         "type": "scatter",
         "y": [
          "CZE",
          0.9875353550960803,
          0.9729131977434824,
          0.953600299145968,
          0.9305237059442791,
          0.9091344385587194,
          0.8972091857364451,
          0.8942652204152812,
          0.8932305450324,
          0.9039518055549938,
          0.9288462794863201,
          0.9515414062462464,
          0.9342302606402111,
          0.9263879733235121,
          0.9361253041316472,
          0.9317533396830113,
          0.9419568119794544,
          0.9540313067720353,
          0.8839545385100663,
          0.889899891347623,
          0.8899808383973634,
          0.933939248803252,
          0.7574490989085207,
          0.5088868407032517,
          -1,
          null,
          null,
          null,
          null,
          null,
          null,
          null,
          null,
          null,
          null,
          null
         ]
        },
        {
         "mode": "lines",
         "name": "DNK",
         "opacity": 0.5,
         "type": "scatter",
         "y": [
          "DNK",
          0.9989836175235671,
          0.9981634501919496,
          0.9969984740721132,
          0.9964521223145301,
          0.9959455217051948,
          0.9955416662549963,
          0.9948575551503803,
          0.9943417741269436,
          0.9942182480156461,
          0.9942424814798423,
          0.9944640946945231,
          0.9928915726425619,
          0.9917927666796718,
          0.9907586380337852,
          0.9909146659479161,
          0.9912574411668582,
          0.9912984868142569,
          0.9911533237492485,
          0.9913577347544291,
          0.9920982018020224,
          0.9930844606598628,
          0.9924543962162744,
          0.9900339718056496,
          0.9867444951172515,
          0.9828093565856187,
          0.9796230652125887,
          0.9793873433270797,
          0.9812566368614359,
          0.9871389481709564,
          0.9881839545259097,
          0.9901447833723965,
          0.9893430440397609,
          0.9826005232209475,
          0.9857944195892838,
          0.9754485564531776
         ]
        },
        {
         "mode": "lines",
         "name": "DEU",
         "opacity": 0.5,
         "type": "scatter",
         "y": [
          "DEU",
          0.9982567871806954,
          0.9962317160551436,
          0.9940388910098145,
          0.9910458659735973,
          0.9862860650341916,
          0.980616718242191,
          0.9754588871391283,
          0.9699312551153472,
          0.9645435672261142,
          0.9605735608249745,
          0.9596648153313494,
          0.9560494054485705,
          0.9520286724002122,
          0.951132610013706,
          0.9540636580875359,
          0.9592410342652192,
          0.9633074298797817,
          0.9722218572444995,
          0.9710509294487462,
          0.9750077123581055,
          0.9823171561505252,
          0.989001001688002,
          0.9927930106629597,
          0.994551136456901,
          0.9947314024660592,
          0.9924871665874314,
          0.9883201948235428,
          0.9846372734707306,
          0.9854988127372427,
          0.9911972496296171,
          0.9878625046458978,
          0.9847367812324275,
          0.9817453797582203,
          0.9855803638674953,
          0.9974794042434869
         ]
        },
        {
         "mode": "lines",
         "name": "EST",
         "opacity": 0.5,
         "type": "scatter",
         "y": [
          "EST",
          0.9900906098581351,
          0.975155273261154,
          0.9651213868843226,
          0.9612677566305221,
          0.9591943122369905,
          0.9546574904104724,
          0.9451901386435843,
          0.932524140000681,
          0.9273667259015862,
          0.9423628114651662,
          0.9723648288712946,
          0.9709922286713305,
          0.9513581132751313,
          0.9680297887309425,
          0.9776870445762375,
          0.9827835327415383,
          0.9753609233002655,
          0.9607435934839307,
          0.942560569991911,
          0.943002363233913,
          0.9662598622973364,
          0.8958001868698381,
          0.5631311431846986,
          -1,
          null,
          null,
          null,
          null,
          null,
          null,
          null,
          null,
          null,
          null,
          null
         ]
        },
        {
         "mode": "lines",
         "name": "IRL",
         "opacity": 0.5,
         "type": "scatter",
         "y": [
          "IRL",
          0.9839292604950326,
          0.9547175056651446,
          0.9069089462052711,
          0.8379978588706173,
          0.7447448358374421,
          0.636064787511718,
          0.6086665137510395,
          0.62901422792904,
          0.6664929490252438,
          0.7255952864875496,
          0.8032954254961053,
          0.8838337413443988,
          0.9392092176636316,
          0.9682300445438189,
          0.9819925200381108,
          0.984991150133603,
          0.9809125696038073,
          0.9746168118114317,
          0.9535360082651049,
          0.9813271553650434,
          0.9779090434550773,
          0.9847924643332344,
          0.8998376563580711,
          1,
          null,
          null,
          null,
          null,
          null,
          null,
          null,
          null,
          null,
          null,
          null
         ]
        },
        {
         "mode": "lines",
         "name": "GRC",
         "opacity": 0.5,
         "type": "scatter",
         "y": [
          "GRC",
          0.9710153026381708,
          0.898002063131599,
          0.7621120609489099,
          0.5512692539405063,
          0.30347915704436756,
          0.018979315954834184,
          -0.2914377631587584,
          -0.5567360703257966,
          -0.7412495524394461,
          -0.8172714553888264,
          -0.8685400558961252,
          -0.8675245975518705,
          -0.8484069589822351,
          -0.8211438957392623,
          -0.7495689047631329,
          -0.6469130535722304,
          -0.7420635276190594,
          -0.6447092956664026,
          -0.13504984976422213,
          0.3562943381963344,
          0.6801890805608499,
          0.997715234079154,
          1,
          null,
          null,
          null,
          null,
          null,
          null,
          null,
          null,
          null,
          null,
          null,
          null
         ]
        },
        {
         "mode": "lines",
         "name": "ESP",
         "opacity": 0.5,
         "type": "scatter",
         "y": [
          "ESP",
          0.9909624797952111,
          0.9694256856686078,
          0.9356300738687005,
          0.8915721876773925,
          0.84545364128009,
          0.7974659844982721,
          0.7604616026668637,
          0.7335526208867714,
          0.7267533175192076,
          0.7321138609164312,
          0.7255011285958238,
          0.73696800452714,
          0.7751762446668778,
          0.8704202146257288,
          0.9108317650600668,
          0.9530070198852404,
          0.9803162485878357,
          0.967807242713934,
          0.9468907564546143,
          0.9381648000056367,
          0.9493738891995933,
          0.9961796060866246,
          1,
          null,
          null,
          null,
          null,
          null,
          null,
          null,
          null,
          null,
          null,
          null,
          null
         ]
        },
        {
         "mode": "lines",
         "name": "FRA",
         "opacity": 0.5,
         "type": "scatter",
         "y": [
          "FRA",
          0.999325983674869,
          0.998502719046965,
          0.9979995096016586,
          0.9975394531355044,
          0.9968455483934219,
          0.9961055865042895,
          0.9950819208853642,
          0.9939225340787506,
          0.9930173228389761,
          0.9928398827727403,
          0.993374501643449,
          0.9927236327945091,
          0.9927698376483094,
          0.9936929073797152,
          0.9942281025082884,
          0.9940423120108455,
          0.9941142468520967,
          0.9934604371578111,
          0.991769351053813,
          0.9901255918386717,
          0.9892155942268682,
          0.987877890601004,
          0.9862639807435111,
          0.9852714217668356,
          0.9865244299375137,
          0.9867257869032112,
          0.9850373276183093,
          0.9834127597887501,
          0.983619618154828,
          0.9835547560757218,
          0.9880323810001269,
          0.9893818260023384,
          0.9852995055658946,
          0.9902721776101246,
          0.9933671987550701
         ]
        },
        {
         "mode": "lines",
         "name": "HRV",
         "opacity": 0.5,
         "type": "scatter",
         "y": [
          "HRV",
          0.9877848892564057,
          0.960764335930289,
          0.9215245572990317,
          0.8755776410777077,
          0.8288268739033243,
          0.7864828143954475,
          0.750783101355904,
          0.7330371749490309,
          0.7390849636174931,
          0.7744919494192073,
          0.8067823158822489,
          0.7748212781360897,
          0.7601199628921598,
          0.8769737853524665,
          0.8930406663098627,
          0.9000455975076109,
          0.9027530475783175,
          0.8920683914810832,
          0.9046661552671649,
          0.9266779419973457,
          0.9989635024998329,
          0.9923465295908058,
          1,
          null,
          null,
          null,
          null,
          null,
          null,
          null,
          null,
          null,
          null,
          null,
          null
         ]
        },
        {
         "mode": "lines",
         "name": "ITA",
         "opacity": 0.5,
         "type": "scatter",
         "y": [
          "ITA",
          0.9922015437742264,
          0.9802271080247149,
          0.970642653338129,
          0.9576936814718983,
          0.939111856106934,
          0.9223141437164158,
          0.9088564887593229,
          0.8943800766781578,
          0.8802047871822449,
          0.8811447420620483,
          0.8718859895178201,
          0.8174237706337502,
          0.8193169493093961,
          0.9125807296727947,
          0.8815313414762516,
          0.8462469880225035,
          0.9186066293013764,
          0.9534863135430501,
          0.9622269060261281,
          0.9761507637163569,
          0.9879391774808167,
          0.9989742028183402,
          1,
          null,
          null,
          null,
          null,
          null,
          null,
          null,
          null,
          null,
          null,
          null,
          null
         ]
        },
        {
         "mode": "lines",
         "name": "CYP",
         "opacity": 0.5,
         "type": "scatter",
         "y": [
          "CYP",
          0.9880083192989408,
          0.9578387483941212,
          0.9169276498927327,
          0.8742492267482084,
          0.8373673075625212,
          0.8134856525190997,
          0.7947640948220255,
          0.7696540509249152,
          0.7467642265196004,
          0.7312816693575263,
          0.7111766052020996,
          0.6379799094269073,
          0.5604235830078459,
          0.5630236956267732,
          0.5589575266592927,
          0.6526921679055839,
          0.833576266076685,
          0.9801838761527488,
          0.9927034235022939,
          0.9863847230536598,
          0.9665988533760904,
          0.9603930007865871,
          1,
          null,
          null,
          null,
          null,
          null,
          null,
          null,
          null,
          null,
          null,
          null,
          null
         ]
        },
        {
         "mode": "lines",
         "name": "LVA",
         "opacity": 0.5,
         "type": "scatter",
         "y": [
          "LVA",
          0.9740941516381765,
          0.926751122100362,
          0.8969160972320281,
          0.888039775232667,
          0.8852696014191513,
          0.8776048704407916,
          0.8578022398549909,
          0.8260256375156744,
          0.8071303587261832,
          0.8353131898743148,
          0.8829734315110183,
          0.8515493283167535,
          0.8344495525660475,
          0.9320647207194029,
          0.9525137835714743,
          0.9686848096855987,
          0.9837942618206772,
          0.9730510577713727,
          0.9386266251832084,
          0.8719867581242974,
          0.9046690128020387,
          0.7415045821080739,
          -0.03211316391046641,
          -1,
          null,
          null,
          null,
          null,
          null,
          null,
          null,
          null,
          null,
          null,
          null
         ]
        },
        {
         "mode": "lines",
         "name": "LTU",
         "opacity": 0.5,
         "type": "scatter",
         "y": [
          "LTU",
          0.9888224371562093,
          0.9744497741354611,
          0.9671053407965603,
          0.9634911620273972,
          0.9629195819789262,
          0.9597675048090892,
          0.9493139893209278,
          0.9355135758350295,
          0.9297518060297602,
          0.9448768794701855,
          0.9670798485456027,
          0.9580975476008629,
          0.9492544267250772,
          0.9869037103545745,
          0.9850990070255662,
          0.9833017260659184,
          0.9759604677803282,
          0.9589852224042881,
          0.9522825954658632,
          0.9523620980536184,
          0.9932521485861479,
          0.9678804464746009,
          0.7951908286400248,
          -1,
          null,
          null,
          null,
          null,
          null,
          null,
          null,
          null,
          null,
          null,
          null
         ]
        },
        {
         "mode": "lines",
         "name": "LUX",
         "opacity": 0.5,
         "type": "scatter",
         "y": [
          "LUX",
          0.9968097385906922,
          0.9931290449111702,
          0.9924259244052148,
          0.9925923992090161,
          0.9917948776589192,
          0.9909014394588572,
          0.991178072157773,
          0.9894236086425768,
          0.9827789507190492,
          0.981245434096549,
          0.9900331797389792,
          0.989745922062324,
          0.9778491155453499,
          0.9785417220347801,
          0.9892215843166171,
          0.9841402277817196,
          0.9728554132859017,
          0.9639763067655636,
          0.9654649786801265,
          0.9084567939176286,
          0.8130100492083306,
          0.9384739479248227,
          0.9905536898218243,
          1,
          null,
          null,
          null,
          null,
          null,
          null,
          null,
          null,
          null,
          null,
          null
         ]
        },
        {
         "mode": "lines",
         "name": "HUN",
         "opacity": 0.5,
         "type": "scatter",
         "y": [
          "HUN",
          0.9820239421023768,
          0.9647929578679557,
          0.9430004758045477,
          0.9059872491147772,
          0.8656286697721394,
          0.8314623312398209,
          0.80415025760914,
          0.7935725346415403,
          0.8020945979031741,
          0.8282333792590507,
          0.8799602835447524,
          0.8945073557420612,
          0.9214661123664948,
          0.9758788022614387,
          0.9659724156007835,
          0.9574588052484408,
          0.9441572212566737,
          0.8526561043314967,
          0.8242500638977261,
          0.8414383165376685,
          0.826839296511432,
          0.6584951765232728,
          -0.32330035663791,
          -1,
          null,
          null,
          null,
          null,
          null,
          null,
          null,
          null,
          null,
          null,
          null
         ]
        },
        {
         "mode": "lines",
         "name": "MLT",
         "opacity": 0.5,
         "type": "scatter",
         "y": [
          "MLT",
          0.99207237145589,
          0.9881762421803457,
          0.9808662413610892,
          0.9754267030859763,
          0.9648347118931022,
          0.9664268208199915,
          0.9683591228468196,
          0.967969427847647,
          0.9663039455564785,
          0.9562925014725885,
          0.9529122913951726,
          0.9411506340651346,
          0.9417744512362128,
          0.9531237705827885,
          0.9670480418170028,
          0.9821418399148117,
          0.9893421624294454,
          0.9751635226978035,
          0.9445006336470704,
          0.8600760456703034,
          0.8554342633700931,
          0.7146352055599395,
          0.030728612202500626,
          -1,
          null,
          null,
          null,
          null,
          null,
          null,
          null,
          null,
          null,
          null,
          null
         ]
        },
        {
         "mode": "lines",
         "name": "NLD",
         "opacity": 0.5,
         "type": "scatter",
         "y": [
          "NLD",
          0.9945532693058405,
          0.9834745315959641,
          0.9710163826041295,
          0.9605817222863451,
          0.952282994347879,
          0.9476393496006354,
          0.943504002348203,
          0.936991612243237,
          0.9295320211603839,
          0.9297020277718089,
          0.9422981700579709,
          0.9273151371595169,
          0.9151084789338377,
          0.9295280502728797,
          0.9381652377939048,
          0.9622685970390028,
          0.9892385807151635,
          0.9987703036342882,
          0.997659281433794,
          0.9933368743685063,
          0.9831072115385426,
          0.9948019608351995,
          1,
          null,
          null,
          null,
          null,
          null,
          null,
          null,
          null,
          null,
          null,
          null,
          null
         ]
        },
        {
         "mode": "lines",
         "name": "AUT",
         "opacity": 0.5,
         "type": "scatter",
         "y": [
          "AUT",
          0.9929162388126868,
          0.9884061473820106,
          0.9871157678405708,
          0.9856779399592247,
          0.9849100954716702,
          0.9837547144206225,
          0.981367156260073,
          0.9755426002172706,
          0.9723210750868718,
          0.9801147568974085,
          0.9888514813302619,
          0.9707433922568294,
          0.9525139926380857,
          0.9457450872997987,
          0.9432680119043438,
          0.946571654366095,
          0.9479989105530661,
          0.9028784881771726,
          0.8218731988904489,
          0.6620639132744136,
          0.40937793338444134,
          -0.02738051288041557,
          -0.1813848499722946,
          -1,
          null,
          null,
          null,
          null,
          null,
          null,
          null,
          null,
          null,
          null,
          null
         ]
        },
        {
         "mode": "lines",
         "name": "POL",
         "opacity": 0.5,
         "type": "scatter",
         "y": [
          "POL",
          0.9844857774633186,
          0.97436125499972,
          0.9658397990621495,
          0.9585512177392211,
          0.9532729838029561,
          0.9523331778502593,
          0.9526440050106648,
          0.9357256315018299,
          0.9379749880382928,
          0.9524802313097097,
          0.9636805784886242,
          0.9443986100119836,
          0.9316624928220836,
          0.9263903288898089,
          0.8599290015920696,
          0.8582077380276703,
          0.9456821596142679,
          0.9812335112780907,
          0.9257400595073653,
          0.8954914938532588,
          0.9842627016486477,
          0.8960555957536879,
          0.7093066488355817,
          -1,
          null,
          null,
          null,
          null,
          null,
          null,
          null,
          null,
          null,
          null,
          null
         ]
        },
        {
         "mode": "lines",
         "name": "PRT",
         "opacity": 0.5,
         "type": "scatter",
         "y": [
          "PRT",
          0.9903638573798226,
          0.9657874261092751,
          0.928685296041837,
          0.8826728831500172,
          0.8393201384720252,
          0.813313422193056,
          0.8024465905279131,
          0.811124572696433,
          0.7973322202340254,
          0.7660275075709109,
          0.7446640312645922,
          0.7075245068411153,
          0.7144734590541322,
          0.7739798325513408,
          0.8222715934883248,
          0.9174990826562079,
          0.9861717069962527,
          0.9969441825581129,
          0.9993313961170923,
          0.9978168435273981,
          0.9970370981513687,
          0.9978693160008774,
          0.9999999999999999,
          null,
          null,
          null,
          null,
          null,
          null,
          null,
          null,
          null,
          null,
          null,
          null
         ]
        },
        {
         "mode": "lines",
         "name": "ROU",
         "opacity": 0.5,
         "type": "scatter",
         "y": [
          "ROU",
          0.9862842393137433,
          0.9597221286577297,
          0.929986738753123,
          0.8988127450211234,
          0.8759386675014568,
          0.8602041720198265,
          0.8465966327017111,
          0.8451392093159954,
          0.8624843308054357,
          0.911469722727775,
          0.9530625804626319,
          0.9647793339414618,
          0.9652661434673555,
          0.9726344983200761,
          0.9838446206546588,
          0.9774194036854736,
          0.9754505775566493,
          0.9436231131418867,
          0.9093173851703541,
          0.8182011714231198,
          0.9271685678924478,
          0.9396368465553065,
          1,
          null,
          null,
          null,
          null,
          null,
          null,
          null,
          null,
          null,
          null,
          null,
          null
         ]
        },
        {
         "mode": "lines",
         "name": "SVN",
         "opacity": 0.5,
         "type": "scatter",
         "y": [
          "SVN",
          0.9895908289651891,
          0.9737510368519618,
          0.954547118337034,
          0.9314924411432062,
          0.9089235633139202,
          0.8939011484016729,
          0.8902260840592057,
          0.8989833582378493,
          0.913493295689774,
          0.9293541993093429,
          0.9434241884113233,
          0.9184833729196391,
          0.89539933341025,
          0.9256853889364706,
          0.9387933834810652,
          0.9486467304373474,
          0.9603974560225862,
          0.9479718644333172,
          0.952303001293532,
          0.9509490500754388,
          0.8292880696868032,
          0.6216709874057197,
          -0.05916191763885666,
          -1,
          null,
          null,
          null,
          null,
          null,
          null,
          null,
          null,
          null,
          null,
          null
         ]
        },
        {
         "mode": "lines",
         "name": "SVK",
         "opacity": 0.5,
         "type": "scatter",
         "y": [
          "SVK",
          0.9936697950893846,
          0.9837235096054233,
          0.9711426905471675,
          0.9538061036096062,
          0.9325094007181755,
          0.9110378655493033,
          0.8930849641974246,
          0.8765998118648919,
          0.8670121719850584,
          0.8740163263826987,
          0.8962969095581386,
          0.9131554874281664,
          0.9312966057796599,
          0.9484215769666814,
          0.9546187198378773,
          0.9332180655368159,
          0.9287576592836291,
          0.929181575575743,
          0.8872360911597589,
          0.8178310335190858,
          0.9900252762040941,
          0.8609268316232888,
          0.28817066501713967,
          -1,
          null,
          null,
          null,
          null,
          null,
          null,
          null,
          null,
          null,
          null,
          null
         ]
        },
        {
         "mode": "lines",
         "name": "FIN",
         "opacity": 0.5,
         "type": "scatter",
         "y": [
          "FIN",
          0.9930164696868825,
          0.9798693709525659,
          0.9689655896107354,
          0.9613413716330291,
          0.9566979589480341,
          0.9520052736864766,
          0.9432084486175772,
          0.933420322833905,
          0.9299181738764021,
          0.9355433311023542,
          0.9412046268647478,
          0.9396222756159284,
          0.9357723660866248,
          0.9294468094205749,
          0.9293061972721508,
          0.942012218368576,
          0.9511955646329848,
          0.9462282197035752,
          0.9287361283657136,
          0.9052765575658343,
          0.8883530352173636,
          0.8753554981202676,
          0.8408625530065894,
          0.7777540061036098,
          0.720493991253794,
          0.6993461114328621,
          0.7581910373637344,
          0.901384967585469,
          0.9907596578775922,
          0.9772524688204787,
          0.9421928463476363,
          0.9500189273714296,
          0.9760886354890006,
          0.9845740875632267,
          0.9454116626943823
         ]
        },
        {
         "mode": "lines",
         "name": "SWE",
         "opacity": 0.5,
         "type": "scatter",
         "y": [
          "SWE",
          0.982230434381454,
          0.9647298155519526,
          0.9581078684273441,
          0.9591220765287939,
          0.9522038618748522,
          0.9420835073082655,
          0.9298843968878011,
          0.9246974768449101,
          0.9174940006661971,
          0.9361304953484572,
          0.9438718152735568,
          0.9208996846717105,
          0.8962190197666445,
          0.9041160808824691,
          0.9168876871397001,
          0.8924553339469226,
          0.9354484257405481,
          0.9129792619950442,
          0.8998075059956321,
          0.841842341644147,
          0.8345828693852306,
          0.6006855219034625,
          0.19473064215114194,
          -0.5510325237920577,
          0.3996841709509057,
          -1,
          null,
          null,
          null,
          null,
          null,
          null,
          null,
          null,
          null
         ]
        },
        {
         "mode": "lines",
         "name": "ISL",
         "opacity": 0.5,
         "type": "scatter",
         "y": [
          "ISL",
          0.9357642903803811,
          0.8315758050953125,
          0.6904818760467493,
          0.5561800188646401,
          0.4352630602422235,
          0.3281030890242529,
          0.26121485072739264,
          0.24307756539972888,
          0.31818308265083384,
          0.4859300068161697,
          0.6799807620570718,
          0.8292752268538321,
          0.8566734132952932,
          0.8506961672501984,
          0.8112903551759881,
          0.8935120181036735,
          0.9444311042229345,
          0.8926404863139553,
          0.8038807457008231,
          0.4237947506403262,
          -0.04176124136788985,
          -0.8050913155049355,
          -0.9524140635359464,
          -1,
          null,
          null,
          null,
          null,
          null,
          null,
          null,
          null,
          null,
          null,
          null
         ]
        },
        {
         "mode": "lines",
         "name": "LCS",
         "opacity": 0.5,
         "type": "scatter",
         "y": [
          "LCS",
          0.8014092513510299,
          0.8244885141686583,
          0.8781936884864798,
          0.9998184326120884,
          1,
          null,
          null,
          null,
          null,
          null,
          null,
          null,
          null,
          null,
          null,
          null,
          null,
          null,
          null,
          null,
          null,
          null,
          null,
          null,
          null,
          null,
          null,
          null,
          null,
          null,
          null,
          null,
          null,
          null,
          null
         ]
        },
        {
         "mode": "lines",
         "name": "NOR",
         "opacity": 0.5,
         "type": "scatter",
         "y": [
          "NOR",
          0.9892287547809059,
          0.9752271632762726,
          0.9633719285035731,
          0.9566782890920772,
          0.9489062839585442,
          0.934339704505863,
          0.9136732930835156,
          0.8959978635013192,
          0.891607633925558,
          0.8933435719966312,
          0.8929642712481002,
          0.8663616864923998,
          0.8585643638365976,
          0.8495026082010222,
          0.8534340336199119,
          0.8608891580391359,
          0.8509435701587755,
          0.8305007403989438,
          0.8264782006917988,
          0.8319202392814276,
          0.8730079241614224,
          0.8831276978049515,
          0.8719501359494983,
          0.874441321959357,
          0.8747362047613649,
          0.8713648537707406,
          0.8552958125733395,
          0.8242751290201826,
          0.7772541057219627,
          0.6927117172296652,
          0.536804289816155,
          0.37013931825013535,
          0.20535558231332057,
          0.08588007217153813,
          -0.3227420957638496
         ]
        },
        {
         "mode": "lines",
         "name": "CHE",
         "opacity": 0.5,
         "type": "scatter",
         "y": [
          "CHE",
          0.9947179136890746,
          0.9873705863212376,
          0.9818574367169217,
          0.9777967504436548,
          0.9696884207822201,
          0.9637058013335106,
          0.9548222490313868,
          0.9475218401159179,
          0.9467948452604403,
          0.9512407607366316,
          0.950813731943302,
          0.9464850829307174,
          0.9448988598701151,
          0.9464654559308049,
          0.9514904538211439,
          0.957065981839049,
          0.9604089332270274,
          0.9567079985957354,
          0.9584183501347068,
          0.9671589974047423,
          0.9738911968702397,
          0.9707981605604982,
          0.9669246907834719,
          0.9686076123131544,
          0.9684922527028429,
          0.9638015798723368,
          0.9609010958259854,
          0.9590023021192422,
          0.9500985947088761,
          0.931850180187666,
          0.9212307579711536,
          0.9063408865411462,
          0.8925513621879505,
          0.7829711114508681,
          0.6199766312224687
         ]
        },
        {
         "mode": "lines",
         "name": "GBR",
         "opacity": 0.5,
         "type": "scatter",
         "y": [
          "GBR",
          0.9885886784304001,
          0.9729829804747616,
          0.9606726913814759,
          0.9489040123016699,
          0.9415369721253041,
          0.9314398591606795,
          0.928379165297221,
          0.9241181626242483,
          0.9126605856718598,
          0.9001274357787109,
          0.8894423352388168,
          0.8831542524490098,
          0.888155260088676,
          0.8935973895934292,
          0.8993645709902054,
          0.8946931871202558,
          0.8862454961874477,
          0.875231319871014,
          0.8557245177370266,
          0.8434236825391986,
          0.8396251899163503,
          0.8486562923052112,
          0.8488037548282191,
          0.834332927644475,
          0.8043916908062826,
          0.7764417143899282,
          0.7262968964768309,
          0.6543512749552635,
          0.6168411139142197,
          0.6632353891912908,
          0.7095764316537158,
          0.7853236038245673,
          0.9073769151758135,
          0.9056988180796296,
          0.8315549395979321
         ]
        },
        {
         "mode": "lines",
         "name": "MNE",
         "opacity": 0.5,
         "type": "scatter",
         "y": [
          "MNE",
          0.9104742471370506,
          0.8417641711706407,
          0.8235204823645258,
          0.759987334274,
          0.7349310679920625,
          0.7629214731945818,
          0.732777923513951,
          0.8184486022676409,
          0.7245792076277533,
          0.6481569780301903,
          0.4415954463285377,
          -0.561866063106665,
          -1,
          null,
          null,
          null,
          null,
          null,
          null,
          null,
          null,
          null,
          null,
          null,
          null,
          null,
          null,
          null,
          null,
          null,
          null,
          null,
          null,
          null,
          null
         ]
        },
        {
         "mode": "lines",
         "name": "MKD",
         "opacity": 0.5,
         "type": "scatter",
         "y": [
          "MKD",
          0.9960438226053145,
          0.9912950563726177,
          0.9851110867945139,
          0.9757275494762073,
          0.9741097137855095,
          0.9735411377715958,
          0.9792765829191273,
          0.9901662222723745,
          0.9826569579059159,
          0.9796011716183677,
          0.96437863956067,
          0.9459363641323044,
          0.9509324115029673,
          0.9355699411918525,
          0.973910093490515,
          0.9776980299195791,
          0.9534909151481998,
          1,
          null,
          null,
          null,
          null,
          null,
          null,
          null,
          null,
          null,
          null,
          null,
          null,
          null,
          null,
          null,
          null,
          null
         ]
        },
        {
         "mode": "lines",
         "name": "ALB",
         "opacity": 0.5,
         "type": "scatter",
         "y": [
          "ALB",
          0.9920956172696682,
          0.9846699397947349,
          0.9768566650030656,
          0.9679640644788873,
          0.9580764872278195,
          0.9510608284721483,
          0.9419085440987033,
          0.944110815966316,
          0.944592350237368,
          0.953495398368208,
          0.9562615715172306,
          0.9730306079495915,
          0.9651893028142746,
          0.9552548113131497,
          0.9436424545904414,
          0.961020837944414,
          0.9662760237422008,
          0.9581533679222177,
          0.8563847924572544,
          0.6556982917981253,
          0.36444670362834164,
          -1,
          null,
          null,
          null,
          null,
          null,
          null,
          null,
          null,
          null,
          null,
          null,
          null,
          null
         ]
        },
        {
         "mode": "lines",
         "name": "SRB",
         "opacity": 0.5,
         "type": "scatter",
         "y": [
          "SRB",
          0.8674295838772086,
          0.8458464779115628,
          0.8103558786210777,
          0.7137468766749446,
          0.7240989751333659,
          0.6161215176751299,
          0.6112487335808783,
          0.6163332738915938,
          0.5631034453950013,
          0.5221951064385203,
          0.6806862327620853,
          0.606692498073455,
          0.5538113411956683,
          0.19305724752033823,
          -0.19890221715374945,
          -0.20718816891395622,
          -0.41965062303153894,
          -0.2959276171131556,
          -0.165045314829425,
          0.032793543800966996,
          -0.6275441110566614,
          -0.6061275728537945,
          -0.7113445077791143,
          -1,
          null,
          null,
          null,
          null,
          null,
          null,
          null,
          null,
          null,
          null,
          null
         ]
        },
        {
         "mode": "lines",
         "name": "TUR",
         "opacity": 0.5,
         "type": "scatter",
         "y": [
          "TUR",
          0.9610521229337696,
          0.930416528268947,
          0.8721903486551139,
          0.8249936116461989,
          0.7956264618554784,
          0.7530755106877357,
          0.7069293865168166,
          0.658583522348827,
          0.5867188640743219,
          0.4576672488198943,
          0.29009138345526275,
          -0.05647140489453267,
          -0.36943570681052945,
          -0.7539737180666174,
          -0.6894973922603895,
          -0.44806011877217566,
          0.008359387280847388,
          -0.3487669795034327,
          0.2074727185923198,
          -0.9454607599381294,
          1,
          null,
          null,
          null,
          null,
          null,
          null,
          null,
          null,
          null,
          null,
          null,
          null,
          null,
          null
         ]
        },
        {
         "mode": "lines",
         "name": "BIH",
         "opacity": 0.5,
         "type": "scatter",
         "y": [
          "BIH",
          0.9689378002305451,
          0.895368043278037,
          0.8092800735237955,
          0.8002177341980985,
          0.7612034111892159,
          0.7560119043606485,
          0.8088872470044871,
          0.8568908106122761,
          0.8818553831844815,
          0.934189724215962,
          0.9982190429852928,
          0.9991298014782354,
          0.9999999999999999,
          null,
          null,
          null,
          null,
          null,
          null,
          null,
          null,
          null,
          null,
          null,
          null,
          null,
          null,
          null,
          null,
          null,
          null,
          null,
          null,
          null,
          null
         ]
        },
        {
         "mode": "lines",
         "name": "XKX",
         "opacity": 0.5,
         "type": "scatter",
         "y": [
          "XKX",
          0.9976494321768031,
          0.9940200204372539,
          0.9900007405873064,
          0.988241997201332,
          0.9894157667382292,
          0.9943166099340764,
          0.994287367597272,
          0.9893457628652694,
          0.994438735694776,
          1,
          null,
          null,
          null,
          null,
          null,
          null,
          null,
          null,
          null,
          null,
          null,
          null,
          null,
          null,
          null,
          null,
          null,
          null,
          null,
          null,
          null,
          null,
          null,
          null,
          null
         ]
        }
       ],
       "layout": {
        "template": {
         "data": {
          "bar": [
           {
            "error_x": {
             "color": "#2a3f5f"
            },
            "error_y": {
             "color": "#2a3f5f"
            },
            "marker": {
             "line": {
              "color": "#E5ECF6",
              "width": 0.5
             }
            },
            "type": "bar"
           }
          ],
          "barpolar": [
           {
            "marker": {
             "line": {
              "color": "#E5ECF6",
              "width": 0.5
             }
            },
            "type": "barpolar"
           }
          ],
          "carpet": [
           {
            "aaxis": {
             "endlinecolor": "#2a3f5f",
             "gridcolor": "white",
             "linecolor": "white",
             "minorgridcolor": "white",
             "startlinecolor": "#2a3f5f"
            },
            "baxis": {
             "endlinecolor": "#2a3f5f",
             "gridcolor": "white",
             "linecolor": "white",
             "minorgridcolor": "white",
             "startlinecolor": "#2a3f5f"
            },
            "type": "carpet"
           }
          ],
          "choropleth": [
           {
            "colorbar": {
             "outlinewidth": 0,
             "ticks": ""
            },
            "type": "choropleth"
           }
          ],
          "contour": [
           {
            "colorbar": {
             "outlinewidth": 0,
             "ticks": ""
            },
            "colorscale": [
             [
              0,
              "#0d0887"
             ],
             [
              0.1111111111111111,
              "#46039f"
             ],
             [
              0.2222222222222222,
              "#7201a8"
             ],
             [
              0.3333333333333333,
              "#9c179e"
             ],
             [
              0.4444444444444444,
              "#bd3786"
             ],
             [
              0.5555555555555556,
              "#d8576b"
             ],
             [
              0.6666666666666666,
              "#ed7953"
             ],
             [
              0.7777777777777778,
              "#fb9f3a"
             ],
             [
              0.8888888888888888,
              "#fdca26"
             ],
             [
              1,
              "#f0f921"
             ]
            ],
            "type": "contour"
           }
          ],
          "contourcarpet": [
           {
            "colorbar": {
             "outlinewidth": 0,
             "ticks": ""
            },
            "type": "contourcarpet"
           }
          ],
          "heatmap": [
           {
            "colorbar": {
             "outlinewidth": 0,
             "ticks": ""
            },
            "colorscale": [
             [
              0,
              "#0d0887"
             ],
             [
              0.1111111111111111,
              "#46039f"
             ],
             [
              0.2222222222222222,
              "#7201a8"
             ],
             [
              0.3333333333333333,
              "#9c179e"
             ],
             [
              0.4444444444444444,
              "#bd3786"
             ],
             [
              0.5555555555555556,
              "#d8576b"
             ],
             [
              0.6666666666666666,
              "#ed7953"
             ],
             [
              0.7777777777777778,
              "#fb9f3a"
             ],
             [
              0.8888888888888888,
              "#fdca26"
             ],
             [
              1,
              "#f0f921"
             ]
            ],
            "type": "heatmap"
           }
          ],
          "heatmapgl": [
           {
            "colorbar": {
             "outlinewidth": 0,
             "ticks": ""
            },
            "colorscale": [
             [
              0,
              "#0d0887"
             ],
             [
              0.1111111111111111,
              "#46039f"
             ],
             [
              0.2222222222222222,
              "#7201a8"
             ],
             [
              0.3333333333333333,
              "#9c179e"
             ],
             [
              0.4444444444444444,
              "#bd3786"
             ],
             [
              0.5555555555555556,
              "#d8576b"
             ],
             [
              0.6666666666666666,
              "#ed7953"
             ],
             [
              0.7777777777777778,
              "#fb9f3a"
             ],
             [
              0.8888888888888888,
              "#fdca26"
             ],
             [
              1,
              "#f0f921"
             ]
            ],
            "type": "heatmapgl"
           }
          ],
          "histogram": [
           {
            "marker": {
             "colorbar": {
              "outlinewidth": 0,
              "ticks": ""
             }
            },
            "type": "histogram"
           }
          ],
          "histogram2d": [
           {
            "colorbar": {
             "outlinewidth": 0,
             "ticks": ""
            },
            "colorscale": [
             [
              0,
              "#0d0887"
             ],
             [
              0.1111111111111111,
              "#46039f"
             ],
             [
              0.2222222222222222,
              "#7201a8"
             ],
             [
              0.3333333333333333,
              "#9c179e"
             ],
             [
              0.4444444444444444,
              "#bd3786"
             ],
             [
              0.5555555555555556,
              "#d8576b"
             ],
             [
              0.6666666666666666,
              "#ed7953"
             ],
             [
              0.7777777777777778,
              "#fb9f3a"
             ],
             [
              0.8888888888888888,
              "#fdca26"
             ],
             [
              1,
              "#f0f921"
             ]
            ],
            "type": "histogram2d"
           }
          ],
          "histogram2dcontour": [
           {
            "colorbar": {
             "outlinewidth": 0,
             "ticks": ""
            },
            "colorscale": [
             [
              0,
              "#0d0887"
             ],
             [
              0.1111111111111111,
              "#46039f"
             ],
             [
              0.2222222222222222,
              "#7201a8"
             ],
             [
              0.3333333333333333,
              "#9c179e"
             ],
             [
              0.4444444444444444,
              "#bd3786"
             ],
             [
              0.5555555555555556,
              "#d8576b"
             ],
             [
              0.6666666666666666,
              "#ed7953"
             ],
             [
              0.7777777777777778,
              "#fb9f3a"
             ],
             [
              0.8888888888888888,
              "#fdca26"
             ],
             [
              1,
              "#f0f921"
             ]
            ],
            "type": "histogram2dcontour"
           }
          ],
          "mesh3d": [
           {
            "colorbar": {
             "outlinewidth": 0,
             "ticks": ""
            },
            "type": "mesh3d"
           }
          ],
          "parcoords": [
           {
            "line": {
             "colorbar": {
              "outlinewidth": 0,
              "ticks": ""
             }
            },
            "type": "parcoords"
           }
          ],
          "pie": [
           {
            "automargin": true,
            "type": "pie"
           }
          ],
          "scatter": [
           {
            "marker": {
             "colorbar": {
              "outlinewidth": 0,
              "ticks": ""
             }
            },
            "type": "scatter"
           }
          ],
          "scatter3d": [
           {
            "line": {
             "colorbar": {
              "outlinewidth": 0,
              "ticks": ""
             }
            },
            "marker": {
             "colorbar": {
              "outlinewidth": 0,
              "ticks": ""
             }
            },
            "type": "scatter3d"
           }
          ],
          "scattercarpet": [
           {
            "marker": {
             "colorbar": {
              "outlinewidth": 0,
              "ticks": ""
             }
            },
            "type": "scattercarpet"
           }
          ],
          "scattergeo": [
           {
            "marker": {
             "colorbar": {
              "outlinewidth": 0,
              "ticks": ""
             }
            },
            "type": "scattergeo"
           }
          ],
          "scattergl": [
           {
            "marker": {
             "colorbar": {
              "outlinewidth": 0,
              "ticks": ""
             }
            },
            "type": "scattergl"
           }
          ],
          "scattermapbox": [
           {
            "marker": {
             "colorbar": {
              "outlinewidth": 0,
              "ticks": ""
             }
            },
            "type": "scattermapbox"
           }
          ],
          "scatterpolar": [
           {
            "marker": {
             "colorbar": {
              "outlinewidth": 0,
              "ticks": ""
             }
            },
            "type": "scatterpolar"
           }
          ],
          "scatterpolargl": [
           {
            "marker": {
             "colorbar": {
              "outlinewidth": 0,
              "ticks": ""
             }
            },
            "type": "scatterpolargl"
           }
          ],
          "scatterternary": [
           {
            "marker": {
             "colorbar": {
              "outlinewidth": 0,
              "ticks": ""
             }
            },
            "type": "scatterternary"
           }
          ],
          "surface": [
           {
            "colorbar": {
             "outlinewidth": 0,
             "ticks": ""
            },
            "colorscale": [
             [
              0,
              "#0d0887"
             ],
             [
              0.1111111111111111,
              "#46039f"
             ],
             [
              0.2222222222222222,
              "#7201a8"
             ],
             [
              0.3333333333333333,
              "#9c179e"
             ],
             [
              0.4444444444444444,
              "#bd3786"
             ],
             [
              0.5555555555555556,
              "#d8576b"
             ],
             [
              0.6666666666666666,
              "#ed7953"
             ],
             [
              0.7777777777777778,
              "#fb9f3a"
             ],
             [
              0.8888888888888888,
              "#fdca26"
             ],
             [
              1,
              "#f0f921"
             ]
            ],
            "type": "surface"
           }
          ],
          "table": [
           {
            "cells": {
             "fill": {
              "color": "#EBF0F8"
             },
             "line": {
              "color": "white"
             }
            },
            "header": {
             "fill": {
              "color": "#C8D4E3"
             },
             "line": {
              "color": "white"
             }
            },
            "type": "table"
           }
          ]
         },
         "layout": {
          "annotationdefaults": {
           "arrowcolor": "#2a3f5f",
           "arrowhead": 0,
           "arrowwidth": 1
          },
          "autotypenumbers": "strict",
          "coloraxis": {
           "colorbar": {
            "outlinewidth": 0,
            "ticks": ""
           }
          },
          "colorscale": {
           "diverging": [
            [
             0,
             "#8e0152"
            ],
            [
             0.1,
             "#c51b7d"
            ],
            [
             0.2,
             "#de77ae"
            ],
            [
             0.3,
             "#f1b6da"
            ],
            [
             0.4,
             "#fde0ef"
            ],
            [
             0.5,
             "#f7f7f7"
            ],
            [
             0.6,
             "#e6f5d0"
            ],
            [
             0.7,
             "#b8e186"
            ],
            [
             0.8,
             "#7fbc41"
            ],
            [
             0.9,
             "#4d9221"
            ],
            [
             1,
             "#276419"
            ]
           ],
           "sequential": [
            [
             0,
             "#0d0887"
            ],
            [
             0.1111111111111111,
             "#46039f"
            ],
            [
             0.2222222222222222,
             "#7201a8"
            ],
            [
             0.3333333333333333,
             "#9c179e"
            ],
            [
             0.4444444444444444,
             "#bd3786"
            ],
            [
             0.5555555555555556,
             "#d8576b"
            ],
            [
             0.6666666666666666,
             "#ed7953"
            ],
            [
             0.7777777777777778,
             "#fb9f3a"
            ],
            [
             0.8888888888888888,
             "#fdca26"
            ],
            [
             1,
             "#f0f921"
            ]
           ],
           "sequentialminus": [
            [
             0,
             "#0d0887"
            ],
            [
             0.1111111111111111,
             "#46039f"
            ],
            [
             0.2222222222222222,
             "#7201a8"
            ],
            [
             0.3333333333333333,
             "#9c179e"
            ],
            [
             0.4444444444444444,
             "#bd3786"
            ],
            [
             0.5555555555555556,
             "#d8576b"
            ],
            [
             0.6666666666666666,
             "#ed7953"
            ],
            [
             0.7777777777777778,
             "#fb9f3a"
            ],
            [
             0.8888888888888888,
             "#fdca26"
            ],
            [
             1,
             "#f0f921"
            ]
           ]
          },
          "colorway": [
           "#636efa",
           "#EF553B",
           "#00cc96",
           "#ab63fa",
           "#FFA15A",
           "#19d3f3",
           "#FF6692",
           "#B6E880",
           "#FF97FF",
           "#FECB52"
          ],
          "font": {
           "color": "#2a3f5f"
          },
          "geo": {
           "bgcolor": "white",
           "lakecolor": "white",
           "landcolor": "#E5ECF6",
           "showlakes": true,
           "showland": true,
           "subunitcolor": "white"
          },
          "hoverlabel": {
           "align": "left"
          },
          "hovermode": "closest",
          "mapbox": {
           "style": "light"
          },
          "paper_bgcolor": "white",
          "plot_bgcolor": "#E5ECF6",
          "polar": {
           "angularaxis": {
            "gridcolor": "white",
            "linecolor": "white",
            "ticks": ""
           },
           "bgcolor": "#E5ECF6",
           "radialaxis": {
            "gridcolor": "white",
            "linecolor": "white",
            "ticks": ""
           }
          },
          "scene": {
           "xaxis": {
            "backgroundcolor": "#E5ECF6",
            "gridcolor": "white",
            "gridwidth": 2,
            "linecolor": "white",
            "showbackground": true,
            "ticks": "",
            "zerolinecolor": "white"
           },
           "yaxis": {
            "backgroundcolor": "#E5ECF6",
            "gridcolor": "white",
            "gridwidth": 2,
            "linecolor": "white",
            "showbackground": true,
            "ticks": "",
            "zerolinecolor": "white"
           },
           "zaxis": {
            "backgroundcolor": "#E5ECF6",
            "gridcolor": "white",
            "gridwidth": 2,
            "linecolor": "white",
            "showbackground": true,
            "ticks": "",
            "zerolinecolor": "white"
           }
          },
          "shapedefaults": {
           "line": {
            "color": "#2a3f5f"
           }
          },
          "ternary": {
           "aaxis": {
            "gridcolor": "white",
            "linecolor": "white",
            "ticks": ""
           },
           "baxis": {
            "gridcolor": "white",
            "linecolor": "white",
            "ticks": ""
           },
           "bgcolor": "#E5ECF6",
           "caxis": {
            "gridcolor": "white",
            "linecolor": "white",
            "ticks": ""
           }
          },
          "title": {
           "x": 0.05
          },
          "xaxis": {
           "automargin": true,
           "gridcolor": "white",
           "linecolor": "white",
           "ticks": "",
           "title": {
            "standoff": 15
           },
           "zerolinecolor": "white",
           "zerolinewidth": 2
          },
          "yaxis": {
           "automargin": true,
           "gridcolor": "white",
           "linecolor": "white",
           "ticks": "",
           "title": {
            "standoff": 15
           },
           "zerolinecolor": "white",
           "zerolinewidth": 2
          }
         }
        },
        "title": {
         "text": "Autocorrelation Plot for Every Country's GDP<br>with an Increasing Lag",
         "x": 0.5
        },
        "xaxis": {
         "range": [
          1,
          35
         ],
         "title": {
          "text": "Lag"
         }
        },
        "yaxis": {
         "range": [
          -1,
          1
         ],
         "title": {
          "text": "Autocorrelation"
         }
        }
       }
      },
      "text/html": [
       "<div>                            <div id=\"1cead61b-a5c6-416a-874a-81cd39594785\" class=\"plotly-graph-div\" style=\"height:525px; width:100%;\"></div>            <script type=\"text/javascript\">                require([\"plotly\"], function(Plotly) {                    window.PLOTLYENV=window.PLOTLYENV || {};                                    if (document.getElementById(\"1cead61b-a5c6-416a-874a-81cd39594785\")) {                    Plotly.newPlot(                        \"1cead61b-a5c6-416a-874a-81cd39594785\",                        [{\"mode\": \"lines\", \"name\": \"EU27_2007\", \"opacity\": 0.5, \"type\": \"scatter\", \"y\": [\"EU27_2007\", 0.9919173493824854, 0.9855808184263529, 0.98030390034167, 0.9754645211877735, 0.968223707584216, 0.9639885067827154, 0.961486075122129, 0.9582029202022485, 0.9568316592873591, 0.9645157338674212, 0.981773504602219, 0.9638206738364393, 0.9487229382228607, 0.9596817239442307, 0.9621372817847265, 0.9578884799283827, 0.9609576796039178, 0.926904734400357, 0.8687960922925427, 0.775279393755359, 0.6761548746373317, 0.35181653946183317, -0.19079997403548823, -0.9999999999999999, null, null, null, null, null, null, null, null, null, null, null]}, {\"mode\": \"lines\", \"name\": \"EU28\", \"opacity\": 0.5, \"type\": \"scatter\", \"y\": [\"EU28\", 0.9927116179801376, 0.9820945529134528, 0.9748418149409757, 0.9691514415931033, 0.9574130219490675, 0.9495162078867149, 0.9491996884492464, 0.9423649394629289, 0.9321674877699047, 0.9344263005987984, 0.9542897504697677, 0.9488610704934084, 0.9654707041115219, 0.9898010146809483, 0.9873541574779123, 0.9801889936482737, 0.9885458589660047, 0.9906995100401493, 0.9877939267998543, 0.9828703986596146, 0.9987094378430212, 0.9998940555497647, 1.0, null, null, null, null, null, null, null, null, null, null, null, null]}, {\"mode\": \"lines\", \"name\": \"EU15\", \"opacity\": 0.5, \"type\": \"scatter\", \"y\": [\"EU15\", 0.9923771464717881, 0.9806584783386948, 0.9724743935841003, 0.965587006737391, 0.9515203473655159, 0.941007845319329, 0.9396160197975081, 0.9324224844087784, 0.9200023253720703, 0.9209945933021971, 0.9421808465984751, 0.9417268884896863, 0.965598098814601, 0.9906390655004746, 0.990530649461814, 0.9822964703544425, 0.9852526363638013, 0.9851418329591872, 0.9834489303221373, 0.9816242936125986, 0.9975474960464701, 0.9999556293205392, 0.9999999999999999, null, null, null, null, null, null, null, null, null, null, null, null]}, {\"mode\": \"lines\", \"name\": \"EU\", \"opacity\": 0.5, \"type\": \"scatter\", \"y\": [\"EU\", 0.9924126284193424, 0.9864643896086835, 0.9815389757958684, 0.9763576953812904, 0.9690498118492089, 0.9652774870160682, 0.9633760923231369, 0.9604945135007921, 0.9590461757475622, 0.964912832431691, 0.9771999547738919, 0.9622361766965027, 0.9497398071163461, 0.959828993542223, 0.9639745368894208, 0.9546970312268765, 0.9441109455036394, 0.8929256987801012, 0.7963854834444463, 0.7276574259825626, 0.5723501747338675, 0.20115190924755194, -0.2780491636265831, -1.0, null, null, null, null, null, null, null, null, null, null, null]}, {\"mode\": \"lines\", \"name\": \"EU19\", \"opacity\": 0.5, \"type\": \"scatter\", \"y\": [\"EU19\", 0.9916644669344434, 0.9849217520051681, 0.9790140771823694, 0.972880352592641, 0.9641005792790067, 0.9586420986136882, 0.9562018581329049, 0.9536892342961187, 0.95196755688506, 0.9593612839384158, 0.9757585281928912, 0.9585623024833798, 0.9440285811690541, 0.9552481213760522, 0.958706320009568, 0.9501395457241525, 0.9476438487090847, 0.9097744465884648, 0.8390990052166737, 0.7341010400363576, 0.5809236618172863, 0.21570642385700103, -0.2985353002979035, -0.9999999999999998, null, null, null, null, null, null, null, null, null, null, null]}, {\"mode\": \"lines\", \"name\": \"EU12\", \"opacity\": 0.5, \"type\": \"scatter\", \"y\": [\"EU12\", 0.9915354467080595, 0.9847763325282909, 0.9787711971580055, 0.9725248773615972, 0.9635671193566517, 0.9579751211903103, 0.9554400487661309, 0.952886584172794, 0.9508760475978086, 0.9578840583401084, 0.9742230488880379, 0.957404297226914, 0.9431896130850378, 0.9540935676852125, 0.9577085273155794, 0.9487533352589739, 0.9457041602193751, 0.9058673319571049, 0.8320656283633537, 0.7227545501882245, 0.5590311520346982, 0.18533457035378115, -0.30765814299359995, -1.0, null, null, null, null, null, null, null, null, null, null, null]}, {\"mode\": \"lines\", \"name\": \"BEL\", \"opacity\": 0.5, \"type\": \"scatter\", \"y\": [\"BEL\", 0.9933426772284569, 0.9904952206929523, 0.9889650976785301, 0.9883586821720687, 0.9872532107772328, 0.9859134620801371, 0.9831894186744214, 0.97786982590957, 0.9753883177250555, 0.9776072314469471, 0.9899841684132797, 0.977159996020648, 0.9567692058320774, 0.9460388633357123, 0.9430135043130802, 0.9318533424587844, 0.9337019627228923, 0.8840905802093046, 0.800968539095674, 0.6007126937763787, 0.34074733155360437, -0.17755814365891545, -0.8548005788633878, 1.0, null, null, null, null, null, null, null, null, null, null, null]}, {\"mode\": \"lines\", \"name\": \"BGR\", \"opacity\": 0.5, \"type\": \"scatter\", \"y\": [\"BGR\", 0.991607287903296, 0.9828302213611921, 0.9746409614322493, 0.9590208812381933, 0.9440076029693951, 0.9330741152329995, 0.9280437232062843, 0.9240660464257221, 0.9244408289372426, 0.934440992018466, 0.9426762829563302, 0.9474650389960503, 0.9619284206627955, 0.9432595449817217, 0.9062387270810962, 0.9045665600468497, 0.8720412225951168, 0.7453215215523168, 0.5415554080360743, 0.2796616090181394, 0.014616835308231085, -0.4268404452161524, -0.9980719710797645, 1.0, null, null, null, null, null, null, null, null, null, null, null]}, {\"mode\": \"lines\", \"name\": \"CZE\", \"opacity\": 0.5, \"type\": \"scatter\", \"y\": [\"CZE\", 0.9875353550960803, 0.9729131977434824, 0.953600299145968, 0.9305237059442791, 0.9091344385587194, 0.8972091857364451, 0.8942652204152812, 0.8932305450324, 0.9039518055549938, 0.9288462794863201, 0.9515414062462464, 0.9342302606402111, 0.9263879733235121, 0.9361253041316472, 0.9317533396830113, 0.9419568119794544, 0.9540313067720353, 0.8839545385100663, 0.889899891347623, 0.8899808383973634, 0.933939248803252, 0.7574490989085207, 0.5088868407032517, -1.0, null, null, null, null, null, null, null, null, null, null, null]}, {\"mode\": \"lines\", \"name\": \"DNK\", \"opacity\": 0.5, \"type\": \"scatter\", \"y\": [\"DNK\", 0.9989836175235671, 0.9981634501919496, 0.9969984740721132, 0.9964521223145301, 0.9959455217051948, 0.9955416662549963, 0.9948575551503803, 0.9943417741269436, 0.9942182480156461, 0.9942424814798423, 0.9944640946945231, 0.9928915726425619, 0.9917927666796718, 0.9907586380337852, 0.9909146659479161, 0.9912574411668582, 0.9912984868142569, 0.9911533237492485, 0.9913577347544291, 0.9920982018020224, 0.9930844606598628, 0.9924543962162744, 0.9900339718056496, 0.9867444951172515, 0.9828093565856187, 0.9796230652125887, 0.9793873433270797, 0.9812566368614359, 0.9871389481709564, 0.9881839545259097, 0.9901447833723965, 0.9893430440397609, 0.9826005232209475, 0.9857944195892838, 0.9754485564531776]}, {\"mode\": \"lines\", \"name\": \"DEU\", \"opacity\": 0.5, \"type\": \"scatter\", \"y\": [\"DEU\", 0.9982567871806954, 0.9962317160551436, 0.9940388910098145, 0.9910458659735973, 0.9862860650341916, 0.980616718242191, 0.9754588871391283, 0.9699312551153472, 0.9645435672261142, 0.9605735608249745, 0.9596648153313494, 0.9560494054485705, 0.9520286724002122, 0.951132610013706, 0.9540636580875359, 0.9592410342652192, 0.9633074298797817, 0.9722218572444995, 0.9710509294487462, 0.9750077123581055, 0.9823171561505252, 0.989001001688002, 0.9927930106629597, 0.994551136456901, 0.9947314024660592, 0.9924871665874314, 0.9883201948235428, 0.9846372734707306, 0.9854988127372427, 0.9911972496296171, 0.9878625046458978, 0.9847367812324275, 0.9817453797582203, 0.9855803638674953, 0.9974794042434869]}, {\"mode\": \"lines\", \"name\": \"EST\", \"opacity\": 0.5, \"type\": \"scatter\", \"y\": [\"EST\", 0.9900906098581351, 0.975155273261154, 0.9651213868843226, 0.9612677566305221, 0.9591943122369905, 0.9546574904104724, 0.9451901386435843, 0.932524140000681, 0.9273667259015862, 0.9423628114651662, 0.9723648288712946, 0.9709922286713305, 0.9513581132751313, 0.9680297887309425, 0.9776870445762375, 0.9827835327415383, 0.9753609233002655, 0.9607435934839307, 0.942560569991911, 0.943002363233913, 0.9662598622973364, 0.8958001868698381, 0.5631311431846986, -1.0, null, null, null, null, null, null, null, null, null, null, null]}, {\"mode\": \"lines\", \"name\": \"IRL\", \"opacity\": 0.5, \"type\": \"scatter\", \"y\": [\"IRL\", 0.9839292604950326, 0.9547175056651446, 0.9069089462052711, 0.8379978588706173, 0.7447448358374421, 0.636064787511718, 0.6086665137510395, 0.62901422792904, 0.6664929490252438, 0.7255952864875496, 0.8032954254961053, 0.8838337413443988, 0.9392092176636316, 0.9682300445438189, 0.9819925200381108, 0.984991150133603, 0.9809125696038073, 0.9746168118114317, 0.9535360082651049, 0.9813271553650434, 0.9779090434550773, 0.9847924643332344, 0.8998376563580711, 1.0, null, null, null, null, null, null, null, null, null, null, null]}, {\"mode\": \"lines\", \"name\": \"GRC\", \"opacity\": 0.5, \"type\": \"scatter\", \"y\": [\"GRC\", 0.9710153026381708, 0.898002063131599, 0.7621120609489099, 0.5512692539405063, 0.30347915704436756, 0.018979315954834184, -0.2914377631587584, -0.5567360703257966, -0.7412495524394461, -0.8172714553888264, -0.8685400558961252, -0.8675245975518705, -0.8484069589822351, -0.8211438957392623, -0.7495689047631329, -0.6469130535722304, -0.7420635276190594, -0.6447092956664026, -0.13504984976422213, 0.3562943381963344, 0.6801890805608499, 0.997715234079154, 1.0, null, null, null, null, null, null, null, null, null, null, null, null]}, {\"mode\": \"lines\", \"name\": \"ESP\", \"opacity\": 0.5, \"type\": \"scatter\", \"y\": [\"ESP\", 0.9909624797952111, 0.9694256856686078, 0.9356300738687005, 0.8915721876773925, 0.84545364128009, 0.7974659844982721, 0.7604616026668637, 0.7335526208867714, 0.7267533175192076, 0.7321138609164312, 0.7255011285958238, 0.73696800452714, 0.7751762446668778, 0.8704202146257288, 0.9108317650600668, 0.9530070198852404, 0.9803162485878357, 0.967807242713934, 0.9468907564546143, 0.9381648000056367, 0.9493738891995933, 0.9961796060866246, 1.0, null, null, null, null, null, null, null, null, null, null, null, null]}, {\"mode\": \"lines\", \"name\": \"FRA\", \"opacity\": 0.5, \"type\": \"scatter\", \"y\": [\"FRA\", 0.999325983674869, 0.998502719046965, 0.9979995096016586, 0.9975394531355044, 0.9968455483934219, 0.9961055865042895, 0.9950819208853642, 0.9939225340787506, 0.9930173228389761, 0.9928398827727403, 0.993374501643449, 0.9927236327945091, 0.9927698376483094, 0.9936929073797152, 0.9942281025082884, 0.9940423120108455, 0.9941142468520967, 0.9934604371578111, 0.991769351053813, 0.9901255918386717, 0.9892155942268682, 0.987877890601004, 0.9862639807435111, 0.9852714217668356, 0.9865244299375137, 0.9867257869032112, 0.9850373276183093, 0.9834127597887501, 0.983619618154828, 0.9835547560757218, 0.9880323810001269, 0.9893818260023384, 0.9852995055658946, 0.9902721776101246, 0.9933671987550701]}, {\"mode\": \"lines\", \"name\": \"HRV\", \"opacity\": 0.5, \"type\": \"scatter\", \"y\": [\"HRV\", 0.9877848892564057, 0.960764335930289, 0.9215245572990317, 0.8755776410777077, 0.8288268739033243, 0.7864828143954475, 0.750783101355904, 0.7330371749490309, 0.7390849636174931, 0.7744919494192073, 0.8067823158822489, 0.7748212781360897, 0.7601199628921598, 0.8769737853524665, 0.8930406663098627, 0.9000455975076109, 0.9027530475783175, 0.8920683914810832, 0.9046661552671649, 0.9266779419973457, 0.9989635024998329, 0.9923465295908058, 1.0, null, null, null, null, null, null, null, null, null, null, null, null]}, {\"mode\": \"lines\", \"name\": \"ITA\", \"opacity\": 0.5, \"type\": \"scatter\", \"y\": [\"ITA\", 0.9922015437742264, 0.9802271080247149, 0.970642653338129, 0.9576936814718983, 0.939111856106934, 0.9223141437164158, 0.9088564887593229, 0.8943800766781578, 0.8802047871822449, 0.8811447420620483, 0.8718859895178201, 0.8174237706337502, 0.8193169493093961, 0.9125807296727947, 0.8815313414762516, 0.8462469880225035, 0.9186066293013764, 0.9534863135430501, 0.9622269060261281, 0.9761507637163569, 0.9879391774808167, 0.9989742028183402, 1.0, null, null, null, null, null, null, null, null, null, null, null, null]}, {\"mode\": \"lines\", \"name\": \"CYP\", \"opacity\": 0.5, \"type\": \"scatter\", \"y\": [\"CYP\", 0.9880083192989408, 0.9578387483941212, 0.9169276498927327, 0.8742492267482084, 0.8373673075625212, 0.8134856525190997, 0.7947640948220255, 0.7696540509249152, 0.7467642265196004, 0.7312816693575263, 0.7111766052020996, 0.6379799094269073, 0.5604235830078459, 0.5630236956267732, 0.5589575266592927, 0.6526921679055839, 0.833576266076685, 0.9801838761527488, 0.9927034235022939, 0.9863847230536598, 0.9665988533760904, 0.9603930007865871, 1.0, null, null, null, null, null, null, null, null, null, null, null, null]}, {\"mode\": \"lines\", \"name\": \"LVA\", \"opacity\": 0.5, \"type\": \"scatter\", \"y\": [\"LVA\", 0.9740941516381765, 0.926751122100362, 0.8969160972320281, 0.888039775232667, 0.8852696014191513, 0.8776048704407916, 0.8578022398549909, 0.8260256375156744, 0.8071303587261832, 0.8353131898743148, 0.8829734315110183, 0.8515493283167535, 0.8344495525660475, 0.9320647207194029, 0.9525137835714743, 0.9686848096855987, 0.9837942618206772, 0.9730510577713727, 0.9386266251832084, 0.8719867581242974, 0.9046690128020387, 0.7415045821080739, -0.03211316391046641, -1.0, null, null, null, null, null, null, null, null, null, null, null]}, {\"mode\": \"lines\", \"name\": \"LTU\", \"opacity\": 0.5, \"type\": \"scatter\", \"y\": [\"LTU\", 0.9888224371562093, 0.9744497741354611, 0.9671053407965603, 0.9634911620273972, 0.9629195819789262, 0.9597675048090892, 0.9493139893209278, 0.9355135758350295, 0.9297518060297602, 0.9448768794701855, 0.9670798485456027, 0.9580975476008629, 0.9492544267250772, 0.9869037103545745, 0.9850990070255662, 0.9833017260659184, 0.9759604677803282, 0.9589852224042881, 0.9522825954658632, 0.9523620980536184, 0.9932521485861479, 0.9678804464746009, 0.7951908286400248, -1.0, null, null, null, null, null, null, null, null, null, null, null]}, {\"mode\": \"lines\", \"name\": \"LUX\", \"opacity\": 0.5, \"type\": \"scatter\", \"y\": [\"LUX\", 0.9968097385906922, 0.9931290449111702, 0.9924259244052148, 0.9925923992090161, 0.9917948776589192, 0.9909014394588572, 0.991178072157773, 0.9894236086425768, 0.9827789507190492, 0.981245434096549, 0.9900331797389792, 0.989745922062324, 0.9778491155453499, 0.9785417220347801, 0.9892215843166171, 0.9841402277817196, 0.9728554132859017, 0.9639763067655636, 0.9654649786801265, 0.9084567939176286, 0.8130100492083306, 0.9384739479248227, 0.9905536898218243, 1.0, null, null, null, null, null, null, null, null, null, null, null]}, {\"mode\": \"lines\", \"name\": \"HUN\", \"opacity\": 0.5, \"type\": \"scatter\", \"y\": [\"HUN\", 0.9820239421023768, 0.9647929578679557, 0.9430004758045477, 0.9059872491147772, 0.8656286697721394, 0.8314623312398209, 0.80415025760914, 0.7935725346415403, 0.8020945979031741, 0.8282333792590507, 0.8799602835447524, 0.8945073557420612, 0.9214661123664948, 0.9758788022614387, 0.9659724156007835, 0.9574588052484408, 0.9441572212566737, 0.8526561043314967, 0.8242500638977261, 0.8414383165376685, 0.826839296511432, 0.6584951765232728, -0.32330035663791, -1.0, null, null, null, null, null, null, null, null, null, null, null]}, {\"mode\": \"lines\", \"name\": \"MLT\", \"opacity\": 0.5, \"type\": \"scatter\", \"y\": [\"MLT\", 0.99207237145589, 0.9881762421803457, 0.9808662413610892, 0.9754267030859763, 0.9648347118931022, 0.9664268208199915, 0.9683591228468196, 0.967969427847647, 0.9663039455564785, 0.9562925014725885, 0.9529122913951726, 0.9411506340651346, 0.9417744512362128, 0.9531237705827885, 0.9670480418170028, 0.9821418399148117, 0.9893421624294454, 0.9751635226978035, 0.9445006336470704, 0.8600760456703034, 0.8554342633700931, 0.7146352055599395, 0.030728612202500626, -1.0, null, null, null, null, null, null, null, null, null, null, null]}, {\"mode\": \"lines\", \"name\": \"NLD\", \"opacity\": 0.5, \"type\": \"scatter\", \"y\": [\"NLD\", 0.9945532693058405, 0.9834745315959641, 0.9710163826041295, 0.9605817222863451, 0.952282994347879, 0.9476393496006354, 0.943504002348203, 0.936991612243237, 0.9295320211603839, 0.9297020277718089, 0.9422981700579709, 0.9273151371595169, 0.9151084789338377, 0.9295280502728797, 0.9381652377939048, 0.9622685970390028, 0.9892385807151635, 0.9987703036342882, 0.997659281433794, 0.9933368743685063, 0.9831072115385426, 0.9948019608351995, 1.0, null, null, null, null, null, null, null, null, null, null, null, null]}, {\"mode\": \"lines\", \"name\": \"AUT\", \"opacity\": 0.5, \"type\": \"scatter\", \"y\": [\"AUT\", 0.9929162388126868, 0.9884061473820106, 0.9871157678405708, 0.9856779399592247, 0.9849100954716702, 0.9837547144206225, 0.981367156260073, 0.9755426002172706, 0.9723210750868718, 0.9801147568974085, 0.9888514813302619, 0.9707433922568294, 0.9525139926380857, 0.9457450872997987, 0.9432680119043438, 0.946571654366095, 0.9479989105530661, 0.9028784881771726, 0.8218731988904489, 0.6620639132744136, 0.40937793338444134, -0.02738051288041557, -0.1813848499722946, -1.0, null, null, null, null, null, null, null, null, null, null, null]}, {\"mode\": \"lines\", \"name\": \"POL\", \"opacity\": 0.5, \"type\": \"scatter\", \"y\": [\"POL\", 0.9844857774633186, 0.97436125499972, 0.9658397990621495, 0.9585512177392211, 0.9532729838029561, 0.9523331778502593, 0.9526440050106648, 0.9357256315018299, 0.9379749880382928, 0.9524802313097097, 0.9636805784886242, 0.9443986100119836, 0.9316624928220836, 0.9263903288898089, 0.8599290015920696, 0.8582077380276703, 0.9456821596142679, 0.9812335112780907, 0.9257400595073653, 0.8954914938532588, 0.9842627016486477, 0.8960555957536879, 0.7093066488355817, -1.0, null, null, null, null, null, null, null, null, null, null, null]}, {\"mode\": \"lines\", \"name\": \"PRT\", \"opacity\": 0.5, \"type\": \"scatter\", \"y\": [\"PRT\", 0.9903638573798226, 0.9657874261092751, 0.928685296041837, 0.8826728831500172, 0.8393201384720252, 0.813313422193056, 0.8024465905279131, 0.811124572696433, 0.7973322202340254, 0.7660275075709109, 0.7446640312645922, 0.7075245068411153, 0.7144734590541322, 0.7739798325513408, 0.8222715934883248, 0.9174990826562079, 0.9861717069962527, 0.9969441825581129, 0.9993313961170923, 0.9978168435273981, 0.9970370981513687, 0.9978693160008774, 0.9999999999999999, null, null, null, null, null, null, null, null, null, null, null, null]}, {\"mode\": \"lines\", \"name\": \"ROU\", \"opacity\": 0.5, \"type\": \"scatter\", \"y\": [\"ROU\", 0.9862842393137433, 0.9597221286577297, 0.929986738753123, 0.8988127450211234, 0.8759386675014568, 0.8602041720198265, 0.8465966327017111, 0.8451392093159954, 0.8624843308054357, 0.911469722727775, 0.9530625804626319, 0.9647793339414618, 0.9652661434673555, 0.9726344983200761, 0.9838446206546588, 0.9774194036854736, 0.9754505775566493, 0.9436231131418867, 0.9093173851703541, 0.8182011714231198, 0.9271685678924478, 0.9396368465553065, 1.0, null, null, null, null, null, null, null, null, null, null, null, null]}, {\"mode\": \"lines\", \"name\": \"SVN\", \"opacity\": 0.5, \"type\": \"scatter\", \"y\": [\"SVN\", 0.9895908289651891, 0.9737510368519618, 0.954547118337034, 0.9314924411432062, 0.9089235633139202, 0.8939011484016729, 0.8902260840592057, 0.8989833582378493, 0.913493295689774, 0.9293541993093429, 0.9434241884113233, 0.9184833729196391, 0.89539933341025, 0.9256853889364706, 0.9387933834810652, 0.9486467304373474, 0.9603974560225862, 0.9479718644333172, 0.952303001293532, 0.9509490500754388, 0.8292880696868032, 0.6216709874057197, -0.05916191763885666, -1.0, null, null, null, null, null, null, null, null, null, null, null]}, {\"mode\": \"lines\", \"name\": \"SVK\", \"opacity\": 0.5, \"type\": \"scatter\", \"y\": [\"SVK\", 0.9936697950893846, 0.9837235096054233, 0.9711426905471675, 0.9538061036096062, 0.9325094007181755, 0.9110378655493033, 0.8930849641974246, 0.8765998118648919, 0.8670121719850584, 0.8740163263826987, 0.8962969095581386, 0.9131554874281664, 0.9312966057796599, 0.9484215769666814, 0.9546187198378773, 0.9332180655368159, 0.9287576592836291, 0.929181575575743, 0.8872360911597589, 0.8178310335190858, 0.9900252762040941, 0.8609268316232888, 0.28817066501713967, -1.0, null, null, null, null, null, null, null, null, null, null, null]}, {\"mode\": \"lines\", \"name\": \"FIN\", \"opacity\": 0.5, \"type\": \"scatter\", \"y\": [\"FIN\", 0.9930164696868825, 0.9798693709525659, 0.9689655896107354, 0.9613413716330291, 0.9566979589480341, 0.9520052736864766, 0.9432084486175772, 0.933420322833905, 0.9299181738764021, 0.9355433311023542, 0.9412046268647478, 0.9396222756159284, 0.9357723660866248, 0.9294468094205749, 0.9293061972721508, 0.942012218368576, 0.9511955646329848, 0.9462282197035752, 0.9287361283657136, 0.9052765575658343, 0.8883530352173636, 0.8753554981202676, 0.8408625530065894, 0.7777540061036098, 0.720493991253794, 0.6993461114328621, 0.7581910373637344, 0.901384967585469, 0.9907596578775922, 0.9772524688204787, 0.9421928463476363, 0.9500189273714296, 0.9760886354890006, 0.9845740875632267, 0.9454116626943823]}, {\"mode\": \"lines\", \"name\": \"SWE\", \"opacity\": 0.5, \"type\": \"scatter\", \"y\": [\"SWE\", 0.982230434381454, 0.9647298155519526, 0.9581078684273441, 0.9591220765287939, 0.9522038618748522, 0.9420835073082655, 0.9298843968878011, 0.9246974768449101, 0.9174940006661971, 0.9361304953484572, 0.9438718152735568, 0.9208996846717105, 0.8962190197666445, 0.9041160808824691, 0.9168876871397001, 0.8924553339469226, 0.9354484257405481, 0.9129792619950442, 0.8998075059956321, 0.841842341644147, 0.8345828693852306, 0.6006855219034625, 0.19473064215114194, -0.5510325237920577, 0.3996841709509057, -1.0, null, null, null, null, null, null, null, null, null]}, {\"mode\": \"lines\", \"name\": \"ISL\", \"opacity\": 0.5, \"type\": \"scatter\", \"y\": [\"ISL\", 0.9357642903803811, 0.8315758050953125, 0.6904818760467493, 0.5561800188646401, 0.4352630602422235, 0.3281030890242529, 0.26121485072739264, 0.24307756539972888, 0.31818308265083384, 0.4859300068161697, 0.6799807620570718, 0.8292752268538321, 0.8566734132952932, 0.8506961672501984, 0.8112903551759881, 0.8935120181036735, 0.9444311042229345, 0.8926404863139553, 0.8038807457008231, 0.4237947506403262, -0.04176124136788985, -0.8050913155049355, -0.9524140635359464, -1.0, null, null, null, null, null, null, null, null, null, null, null]}, {\"mode\": \"lines\", \"name\": \"LCS\", \"opacity\": 0.5, \"type\": \"scatter\", \"y\": [\"LCS\", 0.8014092513510299, 0.8244885141686583, 0.8781936884864798, 0.9998184326120884, 1.0, null, null, null, null, null, null, null, null, null, null, null, null, null, null, null, null, null, null, null, null, null, null, null, null, null, null, null, null, null, null]}, {\"mode\": \"lines\", \"name\": \"NOR\", \"opacity\": 0.5, \"type\": \"scatter\", \"y\": [\"NOR\", 0.9892287547809059, 0.9752271632762726, 0.9633719285035731, 0.9566782890920772, 0.9489062839585442, 0.934339704505863, 0.9136732930835156, 0.8959978635013192, 0.891607633925558, 0.8933435719966312, 0.8929642712481002, 0.8663616864923998, 0.8585643638365976, 0.8495026082010222, 0.8534340336199119, 0.8608891580391359, 0.8509435701587755, 0.8305007403989438, 0.8264782006917988, 0.8319202392814276, 0.8730079241614224, 0.8831276978049515, 0.8719501359494983, 0.874441321959357, 0.8747362047613649, 0.8713648537707406, 0.8552958125733395, 0.8242751290201826, 0.7772541057219627, 0.6927117172296652, 0.536804289816155, 0.37013931825013535, 0.20535558231332057, 0.08588007217153813, -0.3227420957638496]}, {\"mode\": \"lines\", \"name\": \"CHE\", \"opacity\": 0.5, \"type\": \"scatter\", \"y\": [\"CHE\", 0.9947179136890746, 0.9873705863212376, 0.9818574367169217, 0.9777967504436548, 0.9696884207822201, 0.9637058013335106, 0.9548222490313868, 0.9475218401159179, 0.9467948452604403, 0.9512407607366316, 0.950813731943302, 0.9464850829307174, 0.9448988598701151, 0.9464654559308049, 0.9514904538211439, 0.957065981839049, 0.9604089332270274, 0.9567079985957354, 0.9584183501347068, 0.9671589974047423, 0.9738911968702397, 0.9707981605604982, 0.9669246907834719, 0.9686076123131544, 0.9684922527028429, 0.9638015798723368, 0.9609010958259854, 0.9590023021192422, 0.9500985947088761, 0.931850180187666, 0.9212307579711536, 0.9063408865411462, 0.8925513621879505, 0.7829711114508681, 0.6199766312224687]}, {\"mode\": \"lines\", \"name\": \"GBR\", \"opacity\": 0.5, \"type\": \"scatter\", \"y\": [\"GBR\", 0.9885886784304001, 0.9729829804747616, 0.9606726913814759, 0.9489040123016699, 0.9415369721253041, 0.9314398591606795, 0.928379165297221, 0.9241181626242483, 0.9126605856718598, 0.9001274357787109, 0.8894423352388168, 0.8831542524490098, 0.888155260088676, 0.8935973895934292, 0.8993645709902054, 0.8946931871202558, 0.8862454961874477, 0.875231319871014, 0.8557245177370266, 0.8434236825391986, 0.8396251899163503, 0.8486562923052112, 0.8488037548282191, 0.834332927644475, 0.8043916908062826, 0.7764417143899282, 0.7262968964768309, 0.6543512749552635, 0.6168411139142197, 0.6632353891912908, 0.7095764316537158, 0.7853236038245673, 0.9073769151758135, 0.9056988180796296, 0.8315549395979321]}, {\"mode\": \"lines\", \"name\": \"MNE\", \"opacity\": 0.5, \"type\": \"scatter\", \"y\": [\"MNE\", 0.9104742471370506, 0.8417641711706407, 0.8235204823645258, 0.759987334274, 0.7349310679920625, 0.7629214731945818, 0.732777923513951, 0.8184486022676409, 0.7245792076277533, 0.6481569780301903, 0.4415954463285377, -0.561866063106665, -1.0, null, null, null, null, null, null, null, null, null, null, null, null, null, null, null, null, null, null, null, null, null, null]}, {\"mode\": \"lines\", \"name\": \"MKD\", \"opacity\": 0.5, \"type\": \"scatter\", \"y\": [\"MKD\", 0.9960438226053145, 0.9912950563726177, 0.9851110867945139, 0.9757275494762073, 0.9741097137855095, 0.9735411377715958, 0.9792765829191273, 0.9901662222723745, 0.9826569579059159, 0.9796011716183677, 0.96437863956067, 0.9459363641323044, 0.9509324115029673, 0.9355699411918525, 0.973910093490515, 0.9776980299195791, 0.9534909151481998, 1.0, null, null, null, null, null, null, null, null, null, null, null, null, null, null, null, null, null]}, {\"mode\": \"lines\", \"name\": \"ALB\", \"opacity\": 0.5, \"type\": \"scatter\", \"y\": [\"ALB\", 0.9920956172696682, 0.9846699397947349, 0.9768566650030656, 0.9679640644788873, 0.9580764872278195, 0.9510608284721483, 0.9419085440987033, 0.944110815966316, 0.944592350237368, 0.953495398368208, 0.9562615715172306, 0.9730306079495915, 0.9651893028142746, 0.9552548113131497, 0.9436424545904414, 0.961020837944414, 0.9662760237422008, 0.9581533679222177, 0.8563847924572544, 0.6556982917981253, 0.36444670362834164, -1.0, null, null, null, null, null, null, null, null, null, null, null, null, null]}, {\"mode\": \"lines\", \"name\": \"SRB\", \"opacity\": 0.5, \"type\": \"scatter\", \"y\": [\"SRB\", 0.8674295838772086, 0.8458464779115628, 0.8103558786210777, 0.7137468766749446, 0.7240989751333659, 0.6161215176751299, 0.6112487335808783, 0.6163332738915938, 0.5631034453950013, 0.5221951064385203, 0.6806862327620853, 0.606692498073455, 0.5538113411956683, 0.19305724752033823, -0.19890221715374945, -0.20718816891395622, -0.41965062303153894, -0.2959276171131556, -0.165045314829425, 0.032793543800966996, -0.6275441110566614, -0.6061275728537945, -0.7113445077791143, -1.0, null, null, null, null, null, null, null, null, null, null, null]}, {\"mode\": \"lines\", \"name\": \"TUR\", \"opacity\": 0.5, \"type\": \"scatter\", \"y\": [\"TUR\", 0.9610521229337696, 0.930416528268947, 0.8721903486551139, 0.8249936116461989, 0.7956264618554784, 0.7530755106877357, 0.7069293865168166, 0.658583522348827, 0.5867188640743219, 0.4576672488198943, 0.29009138345526275, -0.05647140489453267, -0.36943570681052945, -0.7539737180666174, -0.6894973922603895, -0.44806011877217566, 0.008359387280847388, -0.3487669795034327, 0.2074727185923198, -0.9454607599381294, 1.0, null, null, null, null, null, null, null, null, null, null, null, null, null, null]}, {\"mode\": \"lines\", \"name\": \"BIH\", \"opacity\": 0.5, \"type\": \"scatter\", \"y\": [\"BIH\", 0.9689378002305451, 0.895368043278037, 0.8092800735237955, 0.8002177341980985, 0.7612034111892159, 0.7560119043606485, 0.8088872470044871, 0.8568908106122761, 0.8818553831844815, 0.934189724215962, 0.9982190429852928, 0.9991298014782354, 0.9999999999999999, null, null, null, null, null, null, null, null, null, null, null, null, null, null, null, null, null, null, null, null, null, null]}, {\"mode\": \"lines\", \"name\": \"XKX\", \"opacity\": 0.5, \"type\": \"scatter\", \"y\": [\"XKX\", 0.9976494321768031, 0.9940200204372539, 0.9900007405873064, 0.988241997201332, 0.9894157667382292, 0.9943166099340764, 0.994287367597272, 0.9893457628652694, 0.994438735694776, 1.0, null, null, null, null, null, null, null, null, null, null, null, null, null, null, null, null, null, null, null, null, null, null, null, null, null]}],                        {\"template\": {\"data\": {\"bar\": [{\"error_x\": {\"color\": \"#2a3f5f\"}, \"error_y\": {\"color\": \"#2a3f5f\"}, \"marker\": {\"line\": {\"color\": \"#E5ECF6\", \"width\": 0.5}}, \"type\": \"bar\"}], \"barpolar\": [{\"marker\": {\"line\": {\"color\": \"#E5ECF6\", \"width\": 0.5}}, \"type\": \"barpolar\"}], \"carpet\": [{\"aaxis\": {\"endlinecolor\": \"#2a3f5f\", \"gridcolor\": \"white\", \"linecolor\": \"white\", \"minorgridcolor\": \"white\", \"startlinecolor\": \"#2a3f5f\"}, \"baxis\": {\"endlinecolor\": \"#2a3f5f\", \"gridcolor\": \"white\", \"linecolor\": \"white\", \"minorgridcolor\": \"white\", \"startlinecolor\": \"#2a3f5f\"}, \"type\": \"carpet\"}], \"choropleth\": [{\"colorbar\": {\"outlinewidth\": 0, \"ticks\": \"\"}, \"type\": \"choropleth\"}], \"contour\": [{\"colorbar\": {\"outlinewidth\": 0, \"ticks\": \"\"}, \"colorscale\": [[0.0, \"#0d0887\"], [0.1111111111111111, \"#46039f\"], [0.2222222222222222, \"#7201a8\"], [0.3333333333333333, \"#9c179e\"], [0.4444444444444444, \"#bd3786\"], [0.5555555555555556, \"#d8576b\"], [0.6666666666666666, \"#ed7953\"], [0.7777777777777778, \"#fb9f3a\"], [0.8888888888888888, \"#fdca26\"], [1.0, \"#f0f921\"]], \"type\": \"contour\"}], \"contourcarpet\": [{\"colorbar\": {\"outlinewidth\": 0, \"ticks\": \"\"}, \"type\": \"contourcarpet\"}], \"heatmap\": [{\"colorbar\": {\"outlinewidth\": 0, \"ticks\": \"\"}, \"colorscale\": [[0.0, \"#0d0887\"], [0.1111111111111111, \"#46039f\"], [0.2222222222222222, \"#7201a8\"], [0.3333333333333333, \"#9c179e\"], [0.4444444444444444, \"#bd3786\"], [0.5555555555555556, \"#d8576b\"], [0.6666666666666666, \"#ed7953\"], [0.7777777777777778, \"#fb9f3a\"], [0.8888888888888888, \"#fdca26\"], [1.0, \"#f0f921\"]], \"type\": \"heatmap\"}], \"heatmapgl\": [{\"colorbar\": {\"outlinewidth\": 0, \"ticks\": \"\"}, \"colorscale\": [[0.0, \"#0d0887\"], [0.1111111111111111, \"#46039f\"], [0.2222222222222222, \"#7201a8\"], [0.3333333333333333, \"#9c179e\"], [0.4444444444444444, \"#bd3786\"], [0.5555555555555556, \"#d8576b\"], [0.6666666666666666, \"#ed7953\"], [0.7777777777777778, \"#fb9f3a\"], [0.8888888888888888, \"#fdca26\"], [1.0, \"#f0f921\"]], \"type\": \"heatmapgl\"}], \"histogram\": [{\"marker\": {\"colorbar\": {\"outlinewidth\": 0, \"ticks\": \"\"}}, \"type\": \"histogram\"}], \"histogram2d\": [{\"colorbar\": {\"outlinewidth\": 0, \"ticks\": \"\"}, \"colorscale\": [[0.0, \"#0d0887\"], [0.1111111111111111, \"#46039f\"], [0.2222222222222222, \"#7201a8\"], [0.3333333333333333, \"#9c179e\"], [0.4444444444444444, \"#bd3786\"], [0.5555555555555556, \"#d8576b\"], [0.6666666666666666, \"#ed7953\"], [0.7777777777777778, \"#fb9f3a\"], [0.8888888888888888, \"#fdca26\"], [1.0, \"#f0f921\"]], \"type\": \"histogram2d\"}], \"histogram2dcontour\": [{\"colorbar\": {\"outlinewidth\": 0, \"ticks\": \"\"}, \"colorscale\": [[0.0, \"#0d0887\"], [0.1111111111111111, \"#46039f\"], [0.2222222222222222, \"#7201a8\"], [0.3333333333333333, \"#9c179e\"], [0.4444444444444444, \"#bd3786\"], [0.5555555555555556, \"#d8576b\"], [0.6666666666666666, \"#ed7953\"], [0.7777777777777778, \"#fb9f3a\"], [0.8888888888888888, \"#fdca26\"], [1.0, \"#f0f921\"]], \"type\": \"histogram2dcontour\"}], \"mesh3d\": [{\"colorbar\": {\"outlinewidth\": 0, \"ticks\": \"\"}, \"type\": \"mesh3d\"}], \"parcoords\": [{\"line\": {\"colorbar\": {\"outlinewidth\": 0, \"ticks\": \"\"}}, \"type\": \"parcoords\"}], \"pie\": [{\"automargin\": true, \"type\": \"pie\"}], \"scatter\": [{\"marker\": {\"colorbar\": {\"outlinewidth\": 0, \"ticks\": \"\"}}, \"type\": \"scatter\"}], \"scatter3d\": [{\"line\": {\"colorbar\": {\"outlinewidth\": 0, \"ticks\": \"\"}}, \"marker\": {\"colorbar\": {\"outlinewidth\": 0, \"ticks\": \"\"}}, \"type\": \"scatter3d\"}], \"scattercarpet\": [{\"marker\": {\"colorbar\": {\"outlinewidth\": 0, \"ticks\": \"\"}}, \"type\": \"scattercarpet\"}], \"scattergeo\": [{\"marker\": {\"colorbar\": {\"outlinewidth\": 0, \"ticks\": \"\"}}, \"type\": \"scattergeo\"}], \"scattergl\": [{\"marker\": {\"colorbar\": {\"outlinewidth\": 0, \"ticks\": \"\"}}, \"type\": \"scattergl\"}], \"scattermapbox\": [{\"marker\": {\"colorbar\": {\"outlinewidth\": 0, \"ticks\": \"\"}}, \"type\": \"scattermapbox\"}], \"scatterpolar\": [{\"marker\": {\"colorbar\": {\"outlinewidth\": 0, \"ticks\": \"\"}}, \"type\": \"scatterpolar\"}], \"scatterpolargl\": [{\"marker\": {\"colorbar\": {\"outlinewidth\": 0, \"ticks\": \"\"}}, \"type\": \"scatterpolargl\"}], \"scatterternary\": [{\"marker\": {\"colorbar\": {\"outlinewidth\": 0, \"ticks\": \"\"}}, \"type\": \"scatterternary\"}], \"surface\": [{\"colorbar\": {\"outlinewidth\": 0, \"ticks\": \"\"}, \"colorscale\": [[0.0, \"#0d0887\"], [0.1111111111111111, \"#46039f\"], [0.2222222222222222, \"#7201a8\"], [0.3333333333333333, \"#9c179e\"], [0.4444444444444444, \"#bd3786\"], [0.5555555555555556, \"#d8576b\"], [0.6666666666666666, \"#ed7953\"], [0.7777777777777778, \"#fb9f3a\"], [0.8888888888888888, \"#fdca26\"], [1.0, \"#f0f921\"]], \"type\": \"surface\"}], \"table\": [{\"cells\": {\"fill\": {\"color\": \"#EBF0F8\"}, \"line\": {\"color\": \"white\"}}, \"header\": {\"fill\": {\"color\": \"#C8D4E3\"}, \"line\": {\"color\": \"white\"}}, \"type\": \"table\"}]}, \"layout\": {\"annotationdefaults\": {\"arrowcolor\": \"#2a3f5f\", \"arrowhead\": 0, \"arrowwidth\": 1}, \"autotypenumbers\": \"strict\", \"coloraxis\": {\"colorbar\": {\"outlinewidth\": 0, \"ticks\": \"\"}}, \"colorscale\": {\"diverging\": [[0, \"#8e0152\"], [0.1, \"#c51b7d\"], [0.2, \"#de77ae\"], [0.3, \"#f1b6da\"], [0.4, \"#fde0ef\"], [0.5, \"#f7f7f7\"], [0.6, \"#e6f5d0\"], [0.7, \"#b8e186\"], [0.8, \"#7fbc41\"], [0.9, \"#4d9221\"], [1, \"#276419\"]], \"sequential\": [[0.0, \"#0d0887\"], [0.1111111111111111, \"#46039f\"], [0.2222222222222222, \"#7201a8\"], [0.3333333333333333, \"#9c179e\"], [0.4444444444444444, \"#bd3786\"], [0.5555555555555556, \"#d8576b\"], [0.6666666666666666, \"#ed7953\"], [0.7777777777777778, \"#fb9f3a\"], [0.8888888888888888, \"#fdca26\"], [1.0, \"#f0f921\"]], \"sequentialminus\": [[0.0, \"#0d0887\"], [0.1111111111111111, \"#46039f\"], [0.2222222222222222, \"#7201a8\"], [0.3333333333333333, \"#9c179e\"], [0.4444444444444444, \"#bd3786\"], [0.5555555555555556, \"#d8576b\"], [0.6666666666666666, \"#ed7953\"], [0.7777777777777778, \"#fb9f3a\"], [0.8888888888888888, \"#fdca26\"], [1.0, \"#f0f921\"]]}, \"colorway\": [\"#636efa\", \"#EF553B\", \"#00cc96\", \"#ab63fa\", \"#FFA15A\", \"#19d3f3\", \"#FF6692\", \"#B6E880\", \"#FF97FF\", \"#FECB52\"], \"font\": {\"color\": \"#2a3f5f\"}, \"geo\": {\"bgcolor\": \"white\", \"lakecolor\": \"white\", \"landcolor\": \"#E5ECF6\", \"showlakes\": true, \"showland\": true, \"subunitcolor\": \"white\"}, \"hoverlabel\": {\"align\": \"left\"}, \"hovermode\": \"closest\", \"mapbox\": {\"style\": \"light\"}, \"paper_bgcolor\": \"white\", \"plot_bgcolor\": \"#E5ECF6\", \"polar\": {\"angularaxis\": {\"gridcolor\": \"white\", \"linecolor\": \"white\", \"ticks\": \"\"}, \"bgcolor\": \"#E5ECF6\", \"radialaxis\": {\"gridcolor\": \"white\", \"linecolor\": \"white\", \"ticks\": \"\"}}, \"scene\": {\"xaxis\": {\"backgroundcolor\": \"#E5ECF6\", \"gridcolor\": \"white\", \"gridwidth\": 2, \"linecolor\": \"white\", \"showbackground\": true, \"ticks\": \"\", \"zerolinecolor\": \"white\"}, \"yaxis\": {\"backgroundcolor\": \"#E5ECF6\", \"gridcolor\": \"white\", \"gridwidth\": 2, \"linecolor\": \"white\", \"showbackground\": true, \"ticks\": \"\", \"zerolinecolor\": \"white\"}, \"zaxis\": {\"backgroundcolor\": \"#E5ECF6\", \"gridcolor\": \"white\", \"gridwidth\": 2, \"linecolor\": \"white\", \"showbackground\": true, \"ticks\": \"\", \"zerolinecolor\": \"white\"}}, \"shapedefaults\": {\"line\": {\"color\": \"#2a3f5f\"}}, \"ternary\": {\"aaxis\": {\"gridcolor\": \"white\", \"linecolor\": \"white\", \"ticks\": \"\"}, \"baxis\": {\"gridcolor\": \"white\", \"linecolor\": \"white\", \"ticks\": \"\"}, \"bgcolor\": \"#E5ECF6\", \"caxis\": {\"gridcolor\": \"white\", \"linecolor\": \"white\", \"ticks\": \"\"}}, \"title\": {\"x\": 0.05}, \"xaxis\": {\"automargin\": true, \"gridcolor\": \"white\", \"linecolor\": \"white\", \"ticks\": \"\", \"title\": {\"standoff\": 15}, \"zerolinecolor\": \"white\", \"zerolinewidth\": 2}, \"yaxis\": {\"automargin\": true, \"gridcolor\": \"white\", \"linecolor\": \"white\", \"ticks\": \"\", \"title\": {\"standoff\": 15}, \"zerolinecolor\": \"white\", \"zerolinewidth\": 2}}}, \"title\": {\"text\": \"Autocorrelation Plot for Every Country's GDP<br>with an Increasing Lag\", \"x\": 0.5}, \"xaxis\": {\"range\": [1, 35], \"title\": {\"text\": \"Lag\"}}, \"yaxis\": {\"range\": [-1, 1], \"title\": {\"text\": \"Autocorrelation\"}}},                        {\"responsive\": true}                    ).then(function(){\n",
       "                            \n",
       "var gd = document.getElementById('1cead61b-a5c6-416a-874a-81cd39594785');\n",
       "var x = new MutationObserver(function (mutations, observer) {{\n",
       "        var display = window.getComputedStyle(gd).display;\n",
       "        if (!display || display === 'none') {{\n",
       "            console.log([gd, 'removed!']);\n",
       "            Plotly.purge(gd);\n",
       "            observer.disconnect();\n",
       "        }}\n",
       "}});\n",
       "\n",
       "// Listen for the removal of the full notebook cells\n",
       "var notebookContainer = gd.closest('#notebook-container');\n",
       "if (notebookContainer) {{\n",
       "    x.observe(notebookContainer, {childList: true});\n",
       "}}\n",
       "\n",
       "// Listen for the clearing of the current output cell\n",
       "var outputEl = gd.closest('.output');\n",
       "if (outputEl) {{\n",
       "    x.observe(outputEl, {childList: true});\n",
       "}}\n",
       "\n",
       "                        })                };                });            </script>        </div>"
      ]
     },
     "metadata": {},
     "output_type": "display_data"
    },
    {
     "data": {
      "application/vnd.plotly.v1+json": {
       "config": {
        "plotlyServerURL": "https://plot.ly"
       },
       "data": [
        {
         "mode": "lines",
         "name": "AUT",
         "opacity": 0.5,
         "type": "scatter",
         "y": [
          "AUT",
          -0.30471846218791176,
          0.20955607189266795,
          -0.05325783174056437,
          -0.16916884138433994,
          -0.07297988730128607,
          -0.46447449443134164,
          0.9859648423394523,
          -0.8100422140660509
         ]
        },
        {
         "mode": "lines",
         "name": "BEL",
         "opacity": 0.5,
         "type": "scatter",
         "y": [
          "BEL",
          0.48023430514198734,
          0.30008508600599354,
          0.22203356448681683,
          0.3692722559773899,
          0.6405873074417328,
          0.7023547380966005,
          -0.5354776286274119,
          0.9343581775257178
         ]
        },
        {
         "mode": "lines",
         "name": "BGR",
         "opacity": 0.5,
         "type": "scatter",
         "y": [
          "BGR",
          0.8896672026353005,
          0.8745308988977243,
          0.7935000961901477,
          0.7361847993246902,
          0.6634580816961406,
          0.7703443040051409,
          -0.25647538988263424,
          0.37123766284465576
         ]
        },
        {
         "mode": "lines",
         "name": "CHE",
         "opacity": 0.5,
         "type": "scatter",
         "y": [
          "CHE",
          0.17951665501042502,
          0.26767916957378013,
          -0.207335017848814,
          -0.6585936726728303,
          -0.4167374227841116,
          -0.6169815666121625,
          -0.8946822791087159,
          0.154918053539092
         ]
        },
        {
         "mode": "lines",
         "name": "CYP",
         "opacity": 0.5,
         "type": "scatter",
         "y": [
          "CYP",
          0.6458125636801998,
          0.09159224665329324,
          -0.6812255095013102,
          -0.8612940529326019,
          -0.6556051693827311,
          -0.4753818127240085,
          0.05734086823556037,
          -0.9969794695380885
         ]
        },
        {
         "mode": "lines",
         "name": "CZE",
         "opacity": 0.5,
         "type": "scatter",
         "y": [
          "CZE",
          0.5645931666536281,
          -0.1014071766081878,
          -0.30185999404234864,
          0.12964937641881505,
          0.47016076899998394,
          0.13073080471123238,
          -0.7364077049000181,
          -0.2773500981126146
         ]
        },
        {
         "mode": "lines",
         "name": "DEU",
         "opacity": 0.5,
         "type": "scatter",
         "y": [
          "DEU",
          0.33555813753678176,
          -0.25166309306849255,
          -0.12643977058654052,
          0.5079773393956623,
          0.3742263773247954,
          -0.36044998300018133,
          -0.4410290996846899,
          0.11760891332924797
         ]
        },
        {
         "mode": "lines",
         "name": "DNK",
         "opacity": 0.5,
         "type": "scatter",
         "y": [
          "DNK",
          0.6633405925453868,
          -0.7634906313621733,
          -0.916308889137368,
          -0.3499003424303723,
          0.5250055820971609,
          -0.6251759377202818,
          -0.8828848131442883,
          -0.1254042766280569
         ]
        },
        {
         "mode": "lines",
         "name": "EA",
         "opacity": 0.5,
         "type": "scatter",
         "y": [
          "EA",
          0.7219978776810269,
          0.41168797441471283,
          -0.002216777279222433,
          -0.495190196369566,
          -0.9097380197904982,
          -0.9806893594313234,
          -0.6978073843973749,
          -0.8979182455324962
         ]
        },
        {
         "mode": "lines",
         "name": "EA18",
         "opacity": 0.5,
         "type": "scatter",
         "y": [
          "EA18",
          0.6618678374467946,
          0.3469458034533666,
          -0.07757496750300795,
          -0.5488860754534512,
          -0.8689940618518266,
          -0.9869311115419144,
          -0.6571648571596032,
          -0.9078412990032054
         ]
        },
        {
         "mode": "lines",
         "name": "EA19",
         "opacity": 0.5,
         "type": "scatter",
         "y": [
          "EA19",
          0.6721545634354661,
          0.3414188592495607,
          -0.05790864869912481,
          -0.5056789016184204,
          -0.8971376849483016,
          -0.975842577372266,
          -0.696763202725726,
          -0.8542506285982736
         ]
        },
        {
         "mode": "lines",
         "name": "EST",
         "opacity": 0.5,
         "type": "scatter",
         "y": [
          "EST",
          0.6127711110144035,
          0.014720416496229327,
          -0.34943849180449355,
          -0.7623097460910961,
          -0.774578822780671,
          -0.8447810029885299,
          -0.9643553481362508,
          -0.4781102599347898
         ]
        },
        {
         "mode": "lines",
         "name": "GRC",
         "opacity": 0.5,
         "type": "scatter",
         "y": [
          "GRC",
          0.7179224795208049,
          -0.043116034913806355,
          -0.49662957842706335,
          -0.5257847013023106,
          -0.7471759934381246,
          -0.9647148658305118,
          -0.8408085083039154,
          -0.471446429002947
         ]
        },
        {
         "mode": "lines",
         "name": "ESP",
         "opacity": 0.5,
         "type": "scatter",
         "y": [
          "ESP",
          0.5547565274885683,
          0.04380435096284847,
          -0.3043653163873222,
          -0.5982036518459766,
          -0.726016998594156,
          -0.8124489338143075,
          -0.8594662409647505,
          -0.9871463868106652
         ]
        },
        {
         "mode": "lines",
         "name": "EU",
         "opacity": 0.5,
         "type": "scatter",
         "y": [
          "EU",
          0.672375896837898,
          0.2482508421054943,
          0.16743839756358656,
          -0.015264348844668582,
          -0.6241589641427681,
          -0.9594212790465735,
          -0.22440823557781064,
          -0.10931246878884153
         ]
        },
        {
         "mode": "lines",
         "name": "EU27_2007",
         "opacity": 0.5,
         "type": "scatter",
         "y": [
          "EU27_2007",
          0.6783939185665849,
          0.25144208555201664,
          0.2076577032778623,
          0.15342400116209692,
          -0.56113391780638,
          -0.9596908730303138,
          -0.17066403719657597,
          1
         ]
        },
        {
         "mode": "lines",
         "name": "EU27_2020",
         "opacity": 0.5,
         "type": "scatter",
         "y": [
          "EU27_2020",
          0.6292925816486938,
          0.12712944993877373,
          -0.5492282746813013,
          -0.8540401388842895,
          -0.8014592614264126,
          -0.9873577952837665,
          -0.09905360646879892,
          -1
         ]
        },
        {
         "mode": "lines",
         "name": "EU28",
         "opacity": 0.5,
         "type": "scatter",
         "y": [
          "EU28",
          0.5645126622896631,
          0.1298126926269141,
          -0.14276048707789207,
          -0.5369647139222733,
          -0.5255666150391962,
          -0.9766371045356891,
          0.9765536333140966,
          -1
         ]
        },
        {
         "mode": "lines",
         "name": "FIN",
         "opacity": 0.5,
         "type": "scatter",
         "y": [
          "FIN",
          0.3413297172092869,
          0.17138072919706496,
          -0.2867080775347495,
          -0.6021189952178435,
          -0.643115286385537,
          -0.598615868960465,
          -0.11345201364661735,
          -0.21001011023420466
         ]
        },
        {
         "mode": "lines",
         "name": "FRA",
         "opacity": 0.5,
         "type": "scatter",
         "y": [
          "FRA",
          0.6897324815162176,
          0.35025047064798154,
          0.07127746292144227,
          0.23684154284309358,
          0.4972349095028309,
          -0.17741263174767216,
          -0.9943287460253848,
          -0.04676097647914652
         ]
        },
        {
         "mode": "lines",
         "name": "HRV",
         "opacity": 0.5,
         "type": "scatter",
         "y": [
          "HRV",
          0.8698088530607464,
          0.9213294074779512,
          0.8249365942816512,
          0.7950810504734859,
          0.82683261347445,
          0.6775116813549745,
          0.962955976837072,
          -1
         ]
        },
        {
         "mode": "lines",
         "name": "HUN",
         "opacity": 0.5,
         "type": "scatter",
         "y": [
          "HUN",
          0.8237893064296705,
          0.8462450045187232,
          0.45645314908082807,
          -0.2997214000175327,
          -0.30047118305443943,
          -0.1537709255264708,
          0.18867594737614415,
          -0.8601550387496184
         ]
        },
        {
         "mode": "lines",
         "name": "IRL",
         "opacity": 0.5,
         "type": "scatter",
         "y": [
          "IRL",
          0.3928181744738459,
          0.15342663932447562,
          0.097417556447724,
          -0.17766744256006453,
          -0.783357430027839,
          -0.49377368726300513,
          -0.41820203883980667,
          -0.8892209501284986
         ]
        },
        {
         "mode": "lines",
         "name": "ISL",
         "opacity": 0.5,
         "type": "scatter",
         "y": [
          "ISL",
          0.3356350213580277,
          0.03317423902540133,
          -0.12695969993313494,
          -0.03196560501335628,
          -0.5796939789888511,
          0.05688913155964557,
          0.11131582103393917,
          1
         ]
        },
        {
         "mode": "lines",
         "name": "ITA",
         "opacity": 0.5,
         "type": "scatter",
         "y": [
          "ITA",
          0.6428526840400363,
          0.6926022363167903,
          0.6304331051541614,
          0.4081153820558309,
          0.7910533369242724,
          -0.09811687598402596,
          -0.26583888870335587,
          0.1889822365046133
         ]
        },
        {
         "mode": "lines",
         "name": "LTU",
         "opacity": 0.5,
         "type": "scatter",
         "y": [
          "LTU",
          0.350132511266997,
          0.0458990079738317,
          -0.2773232491586277,
          -0.7163977268699715,
          0.066713380748235,
          0.054703695631770084,
          0.8388357587925902,
          0.6243689330374387
         ]
        },
        {
         "mode": "lines",
         "name": "LUX",
         "opacity": 0.5,
         "type": "scatter",
         "y": [
          "LUX",
          0.7546000626198924,
          0.48774916951668384,
          0.47845498218996996,
          0.41656264909687063,
          0.7260399783561703,
          0.4580679334520996,
          -0.5130378153422422,
          -0.9814033383156423
         ]
        },
        {
         "mode": "lines",
         "name": "LVA",
         "opacity": 0.5,
         "type": "scatter",
         "y": [
          "LVA",
          0.5270596498928773,
          -0.15590672369056843,
          -0.007882096856649737,
          -0.17645016337769762,
          -0.06924041498854487,
          -0.18837594837053037,
          -0.8464814600200313,
          -0.6161166624665199
         ]
        },
        {
         "mode": "lines",
         "name": "MNE",
         "opacity": 0.5,
         "type": "scatter",
         "y": [
          "MNE",
          -0.035635275691779676,
          0.16200884054787967,
          0.17714222276859284,
          0.561090090915463,
          1,
          null,
          null,
          null
         ]
        },
        {
         "mode": "lines",
         "name": "MKD",
         "opacity": 0.5,
         "type": "scatter",
         "y": [
          "MKD",
          0.9636085249284845,
          0.8561787240142505,
          0.7254257467769731,
          0.8948627238986426,
          0.9239865723952452,
          1,
          null,
          null
         ]
        },
        {
         "mode": "lines",
         "name": "MLT",
         "opacity": 0.5,
         "type": "scatter",
         "y": [
          "MLT",
          -0.03794930138276475,
          0.04501286171921135,
          0.4060525992778924,
          -0.5804002044891031,
          0.058893093429334305,
          -0.12031757762151751,
          -0.04367520311887148,
          0.9396891605519117
         ]
        },
        {
         "mode": "lines",
         "name": "NLD",
         "opacity": 0.5,
         "type": "scatter",
         "y": [
          "NLD",
          0.5746267302327063,
          0.5477570619853263,
          0.21376488139465452,
          -0.2710424622187181,
          -0.39634038043130393,
          -0.4786774470853602,
          -0.4215347717850906,
          -0.5185487951726504
         ]
        },
        {
         "mode": "lines",
         "name": "NOR",
         "opacity": 0.5,
         "type": "scatter",
         "y": [
          "NOR",
          0.8168020741983147,
          0.5648205967918319,
          0.1949913085400477,
          -0.402863118071536,
          -0.7639352087765096,
          -0.757684273584884,
          -0.13325141342767366,
          0.36008894870981634
         ]
        },
        {
         "mode": "lines",
         "name": "POL",
         "opacity": 0.5,
         "type": "scatter",
         "y": [
          "POL",
          0.8765411047594043,
          0.7835856480979086,
          0.6088947421633344,
          0.7121111800667648,
          0.9866725338916735,
          0.8165606776881109,
          0.631680506860635,
          -0.2024263269742342
         ]
        },
        {
         "mode": "lines",
         "name": "PRT",
         "opacity": 0.5,
         "type": "scatter",
         "y": [
          "PRT",
          0.666363604259566,
          0.07454286812406281,
          -0.42241352115410485,
          -0.7824224232050846,
          -0.6043281112000799,
          -0.31972226823140604,
          0.22118631993586554,
          0.9383599540644159
         ]
        },
        {
         "mode": "lines",
         "name": "ROU",
         "opacity": 0.5,
         "type": "scatter",
         "y": [
          "ROU",
          0.4548501041235741,
          -0.03943444864581141,
          -0.04805576285908754,
          -0.29102061220585823,
          -0.5056250804931152,
          0.2571784852531715,
          0.6570182136486724,
          -0.9892869535554032
         ]
        },
        {
         "mode": "lines",
         "name": "SRB",
         "opacity": 0.5,
         "type": "scatter",
         "y": [
          "SRB",
          0.5502524407988038,
          -0.2654793835859604,
          -0.9313929686201585,
          -0.9918959964194365,
          -1,
          null,
          null,
          null
         ]
        },
        {
         "mode": "lines",
         "name": "SWE",
         "opacity": 0.5,
         "type": "scatter",
         "y": [
          "SWE",
          0.6394388871329674,
          0.7569684970987713,
          0.8017369799973177,
          0.2123525749258118,
          0.823086032122774,
          -0.24075926740591652,
          0.006850118516639471,
          0.9290609740668476
         ]
        },
        {
         "mode": "lines",
         "name": "SVN",
         "opacity": 0.5,
         "type": "scatter",
         "y": [
          "SVN",
          0.637198656201745,
          0.12318748012284482,
          -0.2961784852824359,
          -0.8057529971521065,
          -0.868557654187502,
          -0.7896482337012042,
          -0.997773397939425,
          -0.9154919261065271
         ]
        },
        {
         "mode": "lines",
         "name": "SVK",
         "opacity": 0.5,
         "type": "scatter",
         "y": [
          "SVK",
          0.4095771139042091,
          0.34320850682919257,
          0.3527953466851599,
          -0.16708520026080897,
          -0.09871666835337463,
          0.08489595251791499,
          -0.7056196115905634,
          -0.7268215467546674
         ]
        },
        {
         "mode": "lines",
         "name": "TUR",
         "opacity": 0.5,
         "type": "scatter",
         "y": [
          "TUR",
          0.9214432729891237,
          0.7661891042254203,
          0.562963285914617,
          0.013887526840911598,
          -0.03988132426653286,
          0.6568966344401008,
          0.6367994673230548,
          0.8917833297964382
         ]
        },
        {
         "mode": "lines",
         "name": "GBR",
         "opacity": 0.5,
         "type": "scatter",
         "y": [
          "GBR",
          0.4738458367205582,
          -0.25140470723873787,
          -0.24579216795393738,
          -0.4600342540900206,
          -0.9281402204008341,
          -0.8212691698054249,
          0.8483340867468677,
          1
         ]
        },
        {
         "mode": "lines",
         "name": "XKX",
         "opacity": 0.5,
         "type": "scatter",
         "y": [
          "XKX",
          null,
          null,
          null,
          null,
          null,
          null,
          null,
          null
         ]
        }
       ],
       "layout": {
        "template": {
         "data": {
          "bar": [
           {
            "error_x": {
             "color": "#2a3f5f"
            },
            "error_y": {
             "color": "#2a3f5f"
            },
            "marker": {
             "line": {
              "color": "#E5ECF6",
              "width": 0.5
             }
            },
            "type": "bar"
           }
          ],
          "barpolar": [
           {
            "marker": {
             "line": {
              "color": "#E5ECF6",
              "width": 0.5
             }
            },
            "type": "barpolar"
           }
          ],
          "carpet": [
           {
            "aaxis": {
             "endlinecolor": "#2a3f5f",
             "gridcolor": "white",
             "linecolor": "white",
             "minorgridcolor": "white",
             "startlinecolor": "#2a3f5f"
            },
            "baxis": {
             "endlinecolor": "#2a3f5f",
             "gridcolor": "white",
             "linecolor": "white",
             "minorgridcolor": "white",
             "startlinecolor": "#2a3f5f"
            },
            "type": "carpet"
           }
          ],
          "choropleth": [
           {
            "colorbar": {
             "outlinewidth": 0,
             "ticks": ""
            },
            "type": "choropleth"
           }
          ],
          "contour": [
           {
            "colorbar": {
             "outlinewidth": 0,
             "ticks": ""
            },
            "colorscale": [
             [
              0,
              "#0d0887"
             ],
             [
              0.1111111111111111,
              "#46039f"
             ],
             [
              0.2222222222222222,
              "#7201a8"
             ],
             [
              0.3333333333333333,
              "#9c179e"
             ],
             [
              0.4444444444444444,
              "#bd3786"
             ],
             [
              0.5555555555555556,
              "#d8576b"
             ],
             [
              0.6666666666666666,
              "#ed7953"
             ],
             [
              0.7777777777777778,
              "#fb9f3a"
             ],
             [
              0.8888888888888888,
              "#fdca26"
             ],
             [
              1,
              "#f0f921"
             ]
            ],
            "type": "contour"
           }
          ],
          "contourcarpet": [
           {
            "colorbar": {
             "outlinewidth": 0,
             "ticks": ""
            },
            "type": "contourcarpet"
           }
          ],
          "heatmap": [
           {
            "colorbar": {
             "outlinewidth": 0,
             "ticks": ""
            },
            "colorscale": [
             [
              0,
              "#0d0887"
             ],
             [
              0.1111111111111111,
              "#46039f"
             ],
             [
              0.2222222222222222,
              "#7201a8"
             ],
             [
              0.3333333333333333,
              "#9c179e"
             ],
             [
              0.4444444444444444,
              "#bd3786"
             ],
             [
              0.5555555555555556,
              "#d8576b"
             ],
             [
              0.6666666666666666,
              "#ed7953"
             ],
             [
              0.7777777777777778,
              "#fb9f3a"
             ],
             [
              0.8888888888888888,
              "#fdca26"
             ],
             [
              1,
              "#f0f921"
             ]
            ],
            "type": "heatmap"
           }
          ],
          "heatmapgl": [
           {
            "colorbar": {
             "outlinewidth": 0,
             "ticks": ""
            },
            "colorscale": [
             [
              0,
              "#0d0887"
             ],
             [
              0.1111111111111111,
              "#46039f"
             ],
             [
              0.2222222222222222,
              "#7201a8"
             ],
             [
              0.3333333333333333,
              "#9c179e"
             ],
             [
              0.4444444444444444,
              "#bd3786"
             ],
             [
              0.5555555555555556,
              "#d8576b"
             ],
             [
              0.6666666666666666,
              "#ed7953"
             ],
             [
              0.7777777777777778,
              "#fb9f3a"
             ],
             [
              0.8888888888888888,
              "#fdca26"
             ],
             [
              1,
              "#f0f921"
             ]
            ],
            "type": "heatmapgl"
           }
          ],
          "histogram": [
           {
            "marker": {
             "colorbar": {
              "outlinewidth": 0,
              "ticks": ""
             }
            },
            "type": "histogram"
           }
          ],
          "histogram2d": [
           {
            "colorbar": {
             "outlinewidth": 0,
             "ticks": ""
            },
            "colorscale": [
             [
              0,
              "#0d0887"
             ],
             [
              0.1111111111111111,
              "#46039f"
             ],
             [
              0.2222222222222222,
              "#7201a8"
             ],
             [
              0.3333333333333333,
              "#9c179e"
             ],
             [
              0.4444444444444444,
              "#bd3786"
             ],
             [
              0.5555555555555556,
              "#d8576b"
             ],
             [
              0.6666666666666666,
              "#ed7953"
             ],
             [
              0.7777777777777778,
              "#fb9f3a"
             ],
             [
              0.8888888888888888,
              "#fdca26"
             ],
             [
              1,
              "#f0f921"
             ]
            ],
            "type": "histogram2d"
           }
          ],
          "histogram2dcontour": [
           {
            "colorbar": {
             "outlinewidth": 0,
             "ticks": ""
            },
            "colorscale": [
             [
              0,
              "#0d0887"
             ],
             [
              0.1111111111111111,
              "#46039f"
             ],
             [
              0.2222222222222222,
              "#7201a8"
             ],
             [
              0.3333333333333333,
              "#9c179e"
             ],
             [
              0.4444444444444444,
              "#bd3786"
             ],
             [
              0.5555555555555556,
              "#d8576b"
             ],
             [
              0.6666666666666666,
              "#ed7953"
             ],
             [
              0.7777777777777778,
              "#fb9f3a"
             ],
             [
              0.8888888888888888,
              "#fdca26"
             ],
             [
              1,
              "#f0f921"
             ]
            ],
            "type": "histogram2dcontour"
           }
          ],
          "mesh3d": [
           {
            "colorbar": {
             "outlinewidth": 0,
             "ticks": ""
            },
            "type": "mesh3d"
           }
          ],
          "parcoords": [
           {
            "line": {
             "colorbar": {
              "outlinewidth": 0,
              "ticks": ""
             }
            },
            "type": "parcoords"
           }
          ],
          "pie": [
           {
            "automargin": true,
            "type": "pie"
           }
          ],
          "scatter": [
           {
            "marker": {
             "colorbar": {
              "outlinewidth": 0,
              "ticks": ""
             }
            },
            "type": "scatter"
           }
          ],
          "scatter3d": [
           {
            "line": {
             "colorbar": {
              "outlinewidth": 0,
              "ticks": ""
             }
            },
            "marker": {
             "colorbar": {
              "outlinewidth": 0,
              "ticks": ""
             }
            },
            "type": "scatter3d"
           }
          ],
          "scattercarpet": [
           {
            "marker": {
             "colorbar": {
              "outlinewidth": 0,
              "ticks": ""
             }
            },
            "type": "scattercarpet"
           }
          ],
          "scattergeo": [
           {
            "marker": {
             "colorbar": {
              "outlinewidth": 0,
              "ticks": ""
             }
            },
            "type": "scattergeo"
           }
          ],
          "scattergl": [
           {
            "marker": {
             "colorbar": {
              "outlinewidth": 0,
              "ticks": ""
             }
            },
            "type": "scattergl"
           }
          ],
          "scattermapbox": [
           {
            "marker": {
             "colorbar": {
              "outlinewidth": 0,
              "ticks": ""
             }
            },
            "type": "scattermapbox"
           }
          ],
          "scatterpolar": [
           {
            "marker": {
             "colorbar": {
              "outlinewidth": 0,
              "ticks": ""
             }
            },
            "type": "scatterpolar"
           }
          ],
          "scatterpolargl": [
           {
            "marker": {
             "colorbar": {
              "outlinewidth": 0,
              "ticks": ""
             }
            },
            "type": "scatterpolargl"
           }
          ],
          "scatterternary": [
           {
            "marker": {
             "colorbar": {
              "outlinewidth": 0,
              "ticks": ""
             }
            },
            "type": "scatterternary"
           }
          ],
          "surface": [
           {
            "colorbar": {
             "outlinewidth": 0,
             "ticks": ""
            },
            "colorscale": [
             [
              0,
              "#0d0887"
             ],
             [
              0.1111111111111111,
              "#46039f"
             ],
             [
              0.2222222222222222,
              "#7201a8"
             ],
             [
              0.3333333333333333,
              "#9c179e"
             ],
             [
              0.4444444444444444,
              "#bd3786"
             ],
             [
              0.5555555555555556,
              "#d8576b"
             ],
             [
              0.6666666666666666,
              "#ed7953"
             ],
             [
              0.7777777777777778,
              "#fb9f3a"
             ],
             [
              0.8888888888888888,
              "#fdca26"
             ],
             [
              1,
              "#f0f921"
             ]
            ],
            "type": "surface"
           }
          ],
          "table": [
           {
            "cells": {
             "fill": {
              "color": "#EBF0F8"
             },
             "line": {
              "color": "white"
             }
            },
            "header": {
             "fill": {
              "color": "#C8D4E3"
             },
             "line": {
              "color": "white"
             }
            },
            "type": "table"
           }
          ]
         },
         "layout": {
          "annotationdefaults": {
           "arrowcolor": "#2a3f5f",
           "arrowhead": 0,
           "arrowwidth": 1
          },
          "autotypenumbers": "strict",
          "coloraxis": {
           "colorbar": {
            "outlinewidth": 0,
            "ticks": ""
           }
          },
          "colorscale": {
           "diverging": [
            [
             0,
             "#8e0152"
            ],
            [
             0.1,
             "#c51b7d"
            ],
            [
             0.2,
             "#de77ae"
            ],
            [
             0.3,
             "#f1b6da"
            ],
            [
             0.4,
             "#fde0ef"
            ],
            [
             0.5,
             "#f7f7f7"
            ],
            [
             0.6,
             "#e6f5d0"
            ],
            [
             0.7,
             "#b8e186"
            ],
            [
             0.8,
             "#7fbc41"
            ],
            [
             0.9,
             "#4d9221"
            ],
            [
             1,
             "#276419"
            ]
           ],
           "sequential": [
            [
             0,
             "#0d0887"
            ],
            [
             0.1111111111111111,
             "#46039f"
            ],
            [
             0.2222222222222222,
             "#7201a8"
            ],
            [
             0.3333333333333333,
             "#9c179e"
            ],
            [
             0.4444444444444444,
             "#bd3786"
            ],
            [
             0.5555555555555556,
             "#d8576b"
            ],
            [
             0.6666666666666666,
             "#ed7953"
            ],
            [
             0.7777777777777778,
             "#fb9f3a"
            ],
            [
             0.8888888888888888,
             "#fdca26"
            ],
            [
             1,
             "#f0f921"
            ]
           ],
           "sequentialminus": [
            [
             0,
             "#0d0887"
            ],
            [
             0.1111111111111111,
             "#46039f"
            ],
            [
             0.2222222222222222,
             "#7201a8"
            ],
            [
             0.3333333333333333,
             "#9c179e"
            ],
            [
             0.4444444444444444,
             "#bd3786"
            ],
            [
             0.5555555555555556,
             "#d8576b"
            ],
            [
             0.6666666666666666,
             "#ed7953"
            ],
            [
             0.7777777777777778,
             "#fb9f3a"
            ],
            [
             0.8888888888888888,
             "#fdca26"
            ],
            [
             1,
             "#f0f921"
            ]
           ]
          },
          "colorway": [
           "#636efa",
           "#EF553B",
           "#00cc96",
           "#ab63fa",
           "#FFA15A",
           "#19d3f3",
           "#FF6692",
           "#B6E880",
           "#FF97FF",
           "#FECB52"
          ],
          "font": {
           "color": "#2a3f5f"
          },
          "geo": {
           "bgcolor": "white",
           "lakecolor": "white",
           "landcolor": "#E5ECF6",
           "showlakes": true,
           "showland": true,
           "subunitcolor": "white"
          },
          "hoverlabel": {
           "align": "left"
          },
          "hovermode": "closest",
          "mapbox": {
           "style": "light"
          },
          "paper_bgcolor": "white",
          "plot_bgcolor": "#E5ECF6",
          "polar": {
           "angularaxis": {
            "gridcolor": "white",
            "linecolor": "white",
            "ticks": ""
           },
           "bgcolor": "#E5ECF6",
           "radialaxis": {
            "gridcolor": "white",
            "linecolor": "white",
            "ticks": ""
           }
          },
          "scene": {
           "xaxis": {
            "backgroundcolor": "#E5ECF6",
            "gridcolor": "white",
            "gridwidth": 2,
            "linecolor": "white",
            "showbackground": true,
            "ticks": "",
            "zerolinecolor": "white"
           },
           "yaxis": {
            "backgroundcolor": "#E5ECF6",
            "gridcolor": "white",
            "gridwidth": 2,
            "linecolor": "white",
            "showbackground": true,
            "ticks": "",
            "zerolinecolor": "white"
           },
           "zaxis": {
            "backgroundcolor": "#E5ECF6",
            "gridcolor": "white",
            "gridwidth": 2,
            "linecolor": "white",
            "showbackground": true,
            "ticks": "",
            "zerolinecolor": "white"
           }
          },
          "shapedefaults": {
           "line": {
            "color": "#2a3f5f"
           }
          },
          "ternary": {
           "aaxis": {
            "gridcolor": "white",
            "linecolor": "white",
            "ticks": ""
           },
           "baxis": {
            "gridcolor": "white",
            "linecolor": "white",
            "ticks": ""
           },
           "bgcolor": "#E5ECF6",
           "caxis": {
            "gridcolor": "white",
            "linecolor": "white",
            "ticks": ""
           }
          },
          "title": {
           "x": 0.05
          },
          "xaxis": {
           "automargin": true,
           "gridcolor": "white",
           "linecolor": "white",
           "ticks": "",
           "title": {
            "standoff": 15
           },
           "zerolinecolor": "white",
           "zerolinewidth": 2
          },
          "yaxis": {
           "automargin": true,
           "gridcolor": "white",
           "linecolor": "white",
           "ticks": "",
           "title": {
            "standoff": 15
           },
           "zerolinecolor": "white",
           "zerolinewidth": 2
          }
         }
        },
        "title": {
         "text": "Autocorrelation Plot for Every Country's Income Inequality<br>with an Increasing Lag",
         "x": 0.5
        },
        "xaxis": {
         "range": [
          1,
          8
         ],
         "title": {
          "text": "Lag"
         }
        },
        "yaxis": {
         "range": [
          -1,
          1
         ],
         "title": {
          "text": "Autocorrelation"
         }
        }
       }
      },
      "text/html": [
       "<div>                            <div id=\"d20c7b1f-f14b-4b3d-b26e-8040819bdd17\" class=\"plotly-graph-div\" style=\"height:525px; width:100%;\"></div>            <script type=\"text/javascript\">                require([\"plotly\"], function(Plotly) {                    window.PLOTLYENV=window.PLOTLYENV || {};                                    if (document.getElementById(\"d20c7b1f-f14b-4b3d-b26e-8040819bdd17\")) {                    Plotly.newPlot(                        \"d20c7b1f-f14b-4b3d-b26e-8040819bdd17\",                        [{\"mode\": \"lines\", \"name\": \"AUT\", \"opacity\": 0.5, \"type\": \"scatter\", \"y\": [\"AUT\", -0.30471846218791176, 0.20955607189266795, -0.05325783174056437, -0.16916884138433994, -0.07297988730128607, -0.46447449443134164, 0.9859648423394523, -0.8100422140660509]}, {\"mode\": \"lines\", \"name\": \"BEL\", \"opacity\": 0.5, \"type\": \"scatter\", \"y\": [\"BEL\", 0.48023430514198734, 0.30008508600599354, 0.22203356448681683, 0.3692722559773899, 0.6405873074417328, 0.7023547380966005, -0.5354776286274119, 0.9343581775257178]}, {\"mode\": \"lines\", \"name\": \"BGR\", \"opacity\": 0.5, \"type\": \"scatter\", \"y\": [\"BGR\", 0.8896672026353005, 0.8745308988977243, 0.7935000961901477, 0.7361847993246902, 0.6634580816961406, 0.7703443040051409, -0.25647538988263424, 0.37123766284465576]}, {\"mode\": \"lines\", \"name\": \"CHE\", \"opacity\": 0.5, \"type\": \"scatter\", \"y\": [\"CHE\", 0.17951665501042502, 0.26767916957378013, -0.207335017848814, -0.6585936726728303, -0.4167374227841116, -0.6169815666121625, -0.8946822791087159, 0.154918053539092]}, {\"mode\": \"lines\", \"name\": \"CYP\", \"opacity\": 0.5, \"type\": \"scatter\", \"y\": [\"CYP\", 0.6458125636801998, 0.09159224665329324, -0.6812255095013102, -0.8612940529326019, -0.6556051693827311, -0.4753818127240085, 0.05734086823556037, -0.9969794695380885]}, {\"mode\": \"lines\", \"name\": \"CZE\", \"opacity\": 0.5, \"type\": \"scatter\", \"y\": [\"CZE\", 0.5645931666536281, -0.1014071766081878, -0.30185999404234864, 0.12964937641881505, 0.47016076899998394, 0.13073080471123238, -0.7364077049000181, -0.2773500981126146]}, {\"mode\": \"lines\", \"name\": \"DEU\", \"opacity\": 0.5, \"type\": \"scatter\", \"y\": [\"DEU\", 0.33555813753678176, -0.25166309306849255, -0.12643977058654052, 0.5079773393956623, 0.3742263773247954, -0.36044998300018133, -0.4410290996846899, 0.11760891332924797]}, {\"mode\": \"lines\", \"name\": \"DNK\", \"opacity\": 0.5, \"type\": \"scatter\", \"y\": [\"DNK\", 0.6633405925453868, -0.7634906313621733, -0.916308889137368, -0.3499003424303723, 0.5250055820971609, -0.6251759377202818, -0.8828848131442883, -0.1254042766280569]}, {\"mode\": \"lines\", \"name\": \"EA\", \"opacity\": 0.5, \"type\": \"scatter\", \"y\": [\"EA\", 0.7219978776810269, 0.41168797441471283, -0.002216777279222433, -0.495190196369566, -0.9097380197904982, -0.9806893594313234, -0.6978073843973749, -0.8979182455324962]}, {\"mode\": \"lines\", \"name\": \"EA18\", \"opacity\": 0.5, \"type\": \"scatter\", \"y\": [\"EA18\", 0.6618678374467946, 0.3469458034533666, -0.07757496750300795, -0.5488860754534512, -0.8689940618518266, -0.9869311115419144, -0.6571648571596032, -0.9078412990032054]}, {\"mode\": \"lines\", \"name\": \"EA19\", \"opacity\": 0.5, \"type\": \"scatter\", \"y\": [\"EA19\", 0.6721545634354661, 0.3414188592495607, -0.05790864869912481, -0.5056789016184204, -0.8971376849483016, -0.975842577372266, -0.696763202725726, -0.8542506285982736]}, {\"mode\": \"lines\", \"name\": \"EST\", \"opacity\": 0.5, \"type\": \"scatter\", \"y\": [\"EST\", 0.6127711110144035, 0.014720416496229327, -0.34943849180449355, -0.7623097460910961, -0.774578822780671, -0.8447810029885299, -0.9643553481362508, -0.4781102599347898]}, {\"mode\": \"lines\", \"name\": \"GRC\", \"opacity\": 0.5, \"type\": \"scatter\", \"y\": [\"GRC\", 0.7179224795208049, -0.043116034913806355, -0.49662957842706335, -0.5257847013023106, -0.7471759934381246, -0.9647148658305118, -0.8408085083039154, -0.471446429002947]}, {\"mode\": \"lines\", \"name\": \"ESP\", \"opacity\": 0.5, \"type\": \"scatter\", \"y\": [\"ESP\", 0.5547565274885683, 0.04380435096284847, -0.3043653163873222, -0.5982036518459766, -0.726016998594156, -0.8124489338143075, -0.8594662409647505, -0.9871463868106652]}, {\"mode\": \"lines\", \"name\": \"EU\", \"opacity\": 0.5, \"type\": \"scatter\", \"y\": [\"EU\", 0.672375896837898, 0.2482508421054943, 0.16743839756358656, -0.015264348844668582, -0.6241589641427681, -0.9594212790465735, -0.22440823557781064, -0.10931246878884153]}, {\"mode\": \"lines\", \"name\": \"EU27_2007\", \"opacity\": 0.5, \"type\": \"scatter\", \"y\": [\"EU27_2007\", 0.6783939185665849, 0.25144208555201664, 0.2076577032778623, 0.15342400116209692, -0.56113391780638, -0.9596908730303138, -0.17066403719657597, 1.0]}, {\"mode\": \"lines\", \"name\": \"EU27_2020\", \"opacity\": 0.5, \"type\": \"scatter\", \"y\": [\"EU27_2020\", 0.6292925816486938, 0.12712944993877373, -0.5492282746813013, -0.8540401388842895, -0.8014592614264126, -0.9873577952837665, -0.09905360646879892, -1.0]}, {\"mode\": \"lines\", \"name\": \"EU28\", \"opacity\": 0.5, \"type\": \"scatter\", \"y\": [\"EU28\", 0.5645126622896631, 0.1298126926269141, -0.14276048707789207, -0.5369647139222733, -0.5255666150391962, -0.9766371045356891, 0.9765536333140966, -1.0]}, {\"mode\": \"lines\", \"name\": \"FIN\", \"opacity\": 0.5, \"type\": \"scatter\", \"y\": [\"FIN\", 0.3413297172092869, 0.17138072919706496, -0.2867080775347495, -0.6021189952178435, -0.643115286385537, -0.598615868960465, -0.11345201364661735, -0.21001011023420466]}, {\"mode\": \"lines\", \"name\": \"FRA\", \"opacity\": 0.5, \"type\": \"scatter\", \"y\": [\"FRA\", 0.6897324815162176, 0.35025047064798154, 0.07127746292144227, 0.23684154284309358, 0.4972349095028309, -0.17741263174767216, -0.9943287460253848, -0.04676097647914652]}, {\"mode\": \"lines\", \"name\": \"HRV\", \"opacity\": 0.5, \"type\": \"scatter\", \"y\": [\"HRV\", 0.8698088530607464, 0.9213294074779512, 0.8249365942816512, 0.7950810504734859, 0.82683261347445, 0.6775116813549745, 0.962955976837072, -1.0]}, {\"mode\": \"lines\", \"name\": \"HUN\", \"opacity\": 0.5, \"type\": \"scatter\", \"y\": [\"HUN\", 0.8237893064296705, 0.8462450045187232, 0.45645314908082807, -0.2997214000175327, -0.30047118305443943, -0.1537709255264708, 0.18867594737614415, -0.8601550387496184]}, {\"mode\": \"lines\", \"name\": \"IRL\", \"opacity\": 0.5, \"type\": \"scatter\", \"y\": [\"IRL\", 0.3928181744738459, 0.15342663932447562, 0.097417556447724, -0.17766744256006453, -0.783357430027839, -0.49377368726300513, -0.41820203883980667, -0.8892209501284986]}, {\"mode\": \"lines\", \"name\": \"ISL\", \"opacity\": 0.5, \"type\": \"scatter\", \"y\": [\"ISL\", 0.3356350213580277, 0.03317423902540133, -0.12695969993313494, -0.03196560501335628, -0.5796939789888511, 0.05688913155964557, 0.11131582103393917, 1.0]}, {\"mode\": \"lines\", \"name\": \"ITA\", \"opacity\": 0.5, \"type\": \"scatter\", \"y\": [\"ITA\", 0.6428526840400363, 0.6926022363167903, 0.6304331051541614, 0.4081153820558309, 0.7910533369242724, -0.09811687598402596, -0.26583888870335587, 0.1889822365046133]}, {\"mode\": \"lines\", \"name\": \"LTU\", \"opacity\": 0.5, \"type\": \"scatter\", \"y\": [\"LTU\", 0.350132511266997, 0.0458990079738317, -0.2773232491586277, -0.7163977268699715, 0.066713380748235, 0.054703695631770084, 0.8388357587925902, 0.6243689330374387]}, {\"mode\": \"lines\", \"name\": \"LUX\", \"opacity\": 0.5, \"type\": \"scatter\", \"y\": [\"LUX\", 0.7546000626198924, 0.48774916951668384, 0.47845498218996996, 0.41656264909687063, 0.7260399783561703, 0.4580679334520996, -0.5130378153422422, -0.9814033383156423]}, {\"mode\": \"lines\", \"name\": \"LVA\", \"opacity\": 0.5, \"type\": \"scatter\", \"y\": [\"LVA\", 0.5270596498928773, -0.15590672369056843, -0.007882096856649737, -0.17645016337769762, -0.06924041498854487, -0.18837594837053037, -0.8464814600200313, -0.6161166624665199]}, {\"mode\": \"lines\", \"name\": \"MNE\", \"opacity\": 0.5, \"type\": \"scatter\", \"y\": [\"MNE\", -0.035635275691779676, 0.16200884054787967, 0.17714222276859284, 0.561090090915463, 1.0, null, null, null]}, {\"mode\": \"lines\", \"name\": \"MKD\", \"opacity\": 0.5, \"type\": \"scatter\", \"y\": [\"MKD\", 0.9636085249284845, 0.8561787240142505, 0.7254257467769731, 0.8948627238986426, 0.9239865723952452, 1.0, null, null]}, {\"mode\": \"lines\", \"name\": \"MLT\", \"opacity\": 0.5, \"type\": \"scatter\", \"y\": [\"MLT\", -0.03794930138276475, 0.04501286171921135, 0.4060525992778924, -0.5804002044891031, 0.058893093429334305, -0.12031757762151751, -0.04367520311887148, 0.9396891605519117]}, {\"mode\": \"lines\", \"name\": \"NLD\", \"opacity\": 0.5, \"type\": \"scatter\", \"y\": [\"NLD\", 0.5746267302327063, 0.5477570619853263, 0.21376488139465452, -0.2710424622187181, -0.39634038043130393, -0.4786774470853602, -0.4215347717850906, -0.5185487951726504]}, {\"mode\": \"lines\", \"name\": \"NOR\", \"opacity\": 0.5, \"type\": \"scatter\", \"y\": [\"NOR\", 0.8168020741983147, 0.5648205967918319, 0.1949913085400477, -0.402863118071536, -0.7639352087765096, -0.757684273584884, -0.13325141342767366, 0.36008894870981634]}, {\"mode\": \"lines\", \"name\": \"POL\", \"opacity\": 0.5, \"type\": \"scatter\", \"y\": [\"POL\", 0.8765411047594043, 0.7835856480979086, 0.6088947421633344, 0.7121111800667648, 0.9866725338916735, 0.8165606776881109, 0.631680506860635, -0.2024263269742342]}, {\"mode\": \"lines\", \"name\": \"PRT\", \"opacity\": 0.5, \"type\": \"scatter\", \"y\": [\"PRT\", 0.666363604259566, 0.07454286812406281, -0.42241352115410485, -0.7824224232050846, -0.6043281112000799, -0.31972226823140604, 0.22118631993586554, 0.9383599540644159]}, {\"mode\": \"lines\", \"name\": \"ROU\", \"opacity\": 0.5, \"type\": \"scatter\", \"y\": [\"ROU\", 0.4548501041235741, -0.03943444864581141, -0.04805576285908754, -0.29102061220585823, -0.5056250804931152, 0.2571784852531715, 0.6570182136486724, -0.9892869535554032]}, {\"mode\": \"lines\", \"name\": \"SRB\", \"opacity\": 0.5, \"type\": \"scatter\", \"y\": [\"SRB\", 0.5502524407988038, -0.2654793835859604, -0.9313929686201585, -0.9918959964194365, -1.0, null, null, null]}, {\"mode\": \"lines\", \"name\": \"SWE\", \"opacity\": 0.5, \"type\": \"scatter\", \"y\": [\"SWE\", 0.6394388871329674, 0.7569684970987713, 0.8017369799973177, 0.2123525749258118, 0.823086032122774, -0.24075926740591652, 0.006850118516639471, 0.9290609740668476]}, {\"mode\": \"lines\", \"name\": \"SVN\", \"opacity\": 0.5, \"type\": \"scatter\", \"y\": [\"SVN\", 0.637198656201745, 0.12318748012284482, -0.2961784852824359, -0.8057529971521065, -0.868557654187502, -0.7896482337012042, -0.997773397939425, -0.9154919261065271]}, {\"mode\": \"lines\", \"name\": \"SVK\", \"opacity\": 0.5, \"type\": \"scatter\", \"y\": [\"SVK\", 0.4095771139042091, 0.34320850682919257, 0.3527953466851599, -0.16708520026080897, -0.09871666835337463, 0.08489595251791499, -0.7056196115905634, -0.7268215467546674]}, {\"mode\": \"lines\", \"name\": \"TUR\", \"opacity\": 0.5, \"type\": \"scatter\", \"y\": [\"TUR\", 0.9214432729891237, 0.7661891042254203, 0.562963285914617, 0.013887526840911598, -0.03988132426653286, 0.6568966344401008, 0.6367994673230548, 0.8917833297964382]}, {\"mode\": \"lines\", \"name\": \"GBR\", \"opacity\": 0.5, \"type\": \"scatter\", \"y\": [\"GBR\", 0.4738458367205582, -0.25140470723873787, -0.24579216795393738, -0.4600342540900206, -0.9281402204008341, -0.8212691698054249, 0.8483340867468677, 1.0]}, {\"mode\": \"lines\", \"name\": \"XKX\", \"opacity\": 0.5, \"type\": \"scatter\", \"y\": [\"XKX\", null, null, null, null, null, null, null, null]}],                        {\"template\": {\"data\": {\"bar\": [{\"error_x\": {\"color\": \"#2a3f5f\"}, \"error_y\": {\"color\": \"#2a3f5f\"}, \"marker\": {\"line\": {\"color\": \"#E5ECF6\", \"width\": 0.5}}, \"type\": \"bar\"}], \"barpolar\": [{\"marker\": {\"line\": {\"color\": \"#E5ECF6\", \"width\": 0.5}}, \"type\": \"barpolar\"}], \"carpet\": [{\"aaxis\": {\"endlinecolor\": \"#2a3f5f\", \"gridcolor\": \"white\", \"linecolor\": \"white\", \"minorgridcolor\": \"white\", \"startlinecolor\": \"#2a3f5f\"}, \"baxis\": {\"endlinecolor\": \"#2a3f5f\", \"gridcolor\": \"white\", \"linecolor\": \"white\", \"minorgridcolor\": \"white\", \"startlinecolor\": \"#2a3f5f\"}, \"type\": \"carpet\"}], \"choropleth\": [{\"colorbar\": {\"outlinewidth\": 0, \"ticks\": \"\"}, \"type\": \"choropleth\"}], \"contour\": [{\"colorbar\": {\"outlinewidth\": 0, \"ticks\": \"\"}, \"colorscale\": [[0.0, \"#0d0887\"], [0.1111111111111111, \"#46039f\"], [0.2222222222222222, \"#7201a8\"], [0.3333333333333333, \"#9c179e\"], [0.4444444444444444, \"#bd3786\"], [0.5555555555555556, \"#d8576b\"], [0.6666666666666666, \"#ed7953\"], [0.7777777777777778, \"#fb9f3a\"], [0.8888888888888888, \"#fdca26\"], [1.0, \"#f0f921\"]], \"type\": \"contour\"}], \"contourcarpet\": [{\"colorbar\": {\"outlinewidth\": 0, \"ticks\": \"\"}, \"type\": \"contourcarpet\"}], \"heatmap\": [{\"colorbar\": {\"outlinewidth\": 0, \"ticks\": \"\"}, \"colorscale\": [[0.0, \"#0d0887\"], [0.1111111111111111, \"#46039f\"], [0.2222222222222222, \"#7201a8\"], [0.3333333333333333, \"#9c179e\"], [0.4444444444444444, \"#bd3786\"], [0.5555555555555556, \"#d8576b\"], [0.6666666666666666, \"#ed7953\"], [0.7777777777777778, \"#fb9f3a\"], [0.8888888888888888, \"#fdca26\"], [1.0, \"#f0f921\"]], \"type\": \"heatmap\"}], \"heatmapgl\": [{\"colorbar\": {\"outlinewidth\": 0, \"ticks\": \"\"}, \"colorscale\": [[0.0, \"#0d0887\"], [0.1111111111111111, \"#46039f\"], [0.2222222222222222, \"#7201a8\"], [0.3333333333333333, \"#9c179e\"], [0.4444444444444444, \"#bd3786\"], [0.5555555555555556, \"#d8576b\"], [0.6666666666666666, \"#ed7953\"], [0.7777777777777778, \"#fb9f3a\"], [0.8888888888888888, \"#fdca26\"], [1.0, \"#f0f921\"]], \"type\": \"heatmapgl\"}], \"histogram\": [{\"marker\": {\"colorbar\": {\"outlinewidth\": 0, \"ticks\": \"\"}}, \"type\": \"histogram\"}], \"histogram2d\": [{\"colorbar\": {\"outlinewidth\": 0, \"ticks\": \"\"}, \"colorscale\": [[0.0, \"#0d0887\"], [0.1111111111111111, \"#46039f\"], [0.2222222222222222, \"#7201a8\"], [0.3333333333333333, \"#9c179e\"], [0.4444444444444444, \"#bd3786\"], [0.5555555555555556, \"#d8576b\"], [0.6666666666666666, \"#ed7953\"], [0.7777777777777778, \"#fb9f3a\"], [0.8888888888888888, \"#fdca26\"], [1.0, \"#f0f921\"]], \"type\": \"histogram2d\"}], \"histogram2dcontour\": [{\"colorbar\": {\"outlinewidth\": 0, \"ticks\": \"\"}, \"colorscale\": [[0.0, \"#0d0887\"], [0.1111111111111111, \"#46039f\"], [0.2222222222222222, \"#7201a8\"], [0.3333333333333333, \"#9c179e\"], [0.4444444444444444, \"#bd3786\"], [0.5555555555555556, \"#d8576b\"], [0.6666666666666666, \"#ed7953\"], [0.7777777777777778, \"#fb9f3a\"], [0.8888888888888888, \"#fdca26\"], [1.0, \"#f0f921\"]], \"type\": \"histogram2dcontour\"}], \"mesh3d\": [{\"colorbar\": {\"outlinewidth\": 0, \"ticks\": \"\"}, \"type\": \"mesh3d\"}], \"parcoords\": [{\"line\": {\"colorbar\": {\"outlinewidth\": 0, \"ticks\": \"\"}}, \"type\": \"parcoords\"}], \"pie\": [{\"automargin\": true, \"type\": \"pie\"}], \"scatter\": [{\"marker\": {\"colorbar\": {\"outlinewidth\": 0, \"ticks\": \"\"}}, \"type\": \"scatter\"}], \"scatter3d\": [{\"line\": {\"colorbar\": {\"outlinewidth\": 0, \"ticks\": \"\"}}, \"marker\": {\"colorbar\": {\"outlinewidth\": 0, \"ticks\": \"\"}}, \"type\": \"scatter3d\"}], \"scattercarpet\": [{\"marker\": {\"colorbar\": {\"outlinewidth\": 0, \"ticks\": \"\"}}, \"type\": \"scattercarpet\"}], \"scattergeo\": [{\"marker\": {\"colorbar\": {\"outlinewidth\": 0, \"ticks\": \"\"}}, \"type\": \"scattergeo\"}], \"scattergl\": [{\"marker\": {\"colorbar\": {\"outlinewidth\": 0, \"ticks\": \"\"}}, \"type\": \"scattergl\"}], \"scattermapbox\": [{\"marker\": {\"colorbar\": {\"outlinewidth\": 0, \"ticks\": \"\"}}, \"type\": \"scattermapbox\"}], \"scatterpolar\": [{\"marker\": {\"colorbar\": {\"outlinewidth\": 0, \"ticks\": \"\"}}, \"type\": \"scatterpolar\"}], \"scatterpolargl\": [{\"marker\": {\"colorbar\": {\"outlinewidth\": 0, \"ticks\": \"\"}}, \"type\": \"scatterpolargl\"}], \"scatterternary\": [{\"marker\": {\"colorbar\": {\"outlinewidth\": 0, \"ticks\": \"\"}}, \"type\": \"scatterternary\"}], \"surface\": [{\"colorbar\": {\"outlinewidth\": 0, \"ticks\": \"\"}, \"colorscale\": [[0.0, \"#0d0887\"], [0.1111111111111111, \"#46039f\"], [0.2222222222222222, \"#7201a8\"], [0.3333333333333333, \"#9c179e\"], [0.4444444444444444, \"#bd3786\"], [0.5555555555555556, \"#d8576b\"], [0.6666666666666666, \"#ed7953\"], [0.7777777777777778, \"#fb9f3a\"], [0.8888888888888888, \"#fdca26\"], [1.0, \"#f0f921\"]], \"type\": \"surface\"}], \"table\": [{\"cells\": {\"fill\": {\"color\": \"#EBF0F8\"}, \"line\": {\"color\": \"white\"}}, \"header\": {\"fill\": {\"color\": \"#C8D4E3\"}, \"line\": {\"color\": \"white\"}}, \"type\": \"table\"}]}, \"layout\": {\"annotationdefaults\": {\"arrowcolor\": \"#2a3f5f\", \"arrowhead\": 0, \"arrowwidth\": 1}, \"autotypenumbers\": \"strict\", \"coloraxis\": {\"colorbar\": {\"outlinewidth\": 0, \"ticks\": \"\"}}, \"colorscale\": {\"diverging\": [[0, \"#8e0152\"], [0.1, \"#c51b7d\"], [0.2, \"#de77ae\"], [0.3, \"#f1b6da\"], [0.4, \"#fde0ef\"], [0.5, \"#f7f7f7\"], [0.6, \"#e6f5d0\"], [0.7, \"#b8e186\"], [0.8, \"#7fbc41\"], [0.9, \"#4d9221\"], [1, \"#276419\"]], \"sequential\": [[0.0, \"#0d0887\"], [0.1111111111111111, \"#46039f\"], [0.2222222222222222, \"#7201a8\"], [0.3333333333333333, \"#9c179e\"], [0.4444444444444444, \"#bd3786\"], [0.5555555555555556, \"#d8576b\"], [0.6666666666666666, \"#ed7953\"], [0.7777777777777778, \"#fb9f3a\"], [0.8888888888888888, \"#fdca26\"], [1.0, \"#f0f921\"]], \"sequentialminus\": [[0.0, \"#0d0887\"], [0.1111111111111111, \"#46039f\"], [0.2222222222222222, \"#7201a8\"], [0.3333333333333333, \"#9c179e\"], [0.4444444444444444, \"#bd3786\"], [0.5555555555555556, \"#d8576b\"], [0.6666666666666666, \"#ed7953\"], [0.7777777777777778, \"#fb9f3a\"], [0.8888888888888888, \"#fdca26\"], [1.0, \"#f0f921\"]]}, \"colorway\": [\"#636efa\", \"#EF553B\", \"#00cc96\", \"#ab63fa\", \"#FFA15A\", \"#19d3f3\", \"#FF6692\", \"#B6E880\", \"#FF97FF\", \"#FECB52\"], \"font\": {\"color\": \"#2a3f5f\"}, \"geo\": {\"bgcolor\": \"white\", \"lakecolor\": \"white\", \"landcolor\": \"#E5ECF6\", \"showlakes\": true, \"showland\": true, \"subunitcolor\": \"white\"}, \"hoverlabel\": {\"align\": \"left\"}, \"hovermode\": \"closest\", \"mapbox\": {\"style\": \"light\"}, \"paper_bgcolor\": \"white\", \"plot_bgcolor\": \"#E5ECF6\", \"polar\": {\"angularaxis\": {\"gridcolor\": \"white\", \"linecolor\": \"white\", \"ticks\": \"\"}, \"bgcolor\": \"#E5ECF6\", \"radialaxis\": {\"gridcolor\": \"white\", \"linecolor\": \"white\", \"ticks\": \"\"}}, \"scene\": {\"xaxis\": {\"backgroundcolor\": \"#E5ECF6\", \"gridcolor\": \"white\", \"gridwidth\": 2, \"linecolor\": \"white\", \"showbackground\": true, \"ticks\": \"\", \"zerolinecolor\": \"white\"}, \"yaxis\": {\"backgroundcolor\": \"#E5ECF6\", \"gridcolor\": \"white\", \"gridwidth\": 2, \"linecolor\": \"white\", \"showbackground\": true, \"ticks\": \"\", \"zerolinecolor\": \"white\"}, \"zaxis\": {\"backgroundcolor\": \"#E5ECF6\", \"gridcolor\": \"white\", \"gridwidth\": 2, \"linecolor\": \"white\", \"showbackground\": true, \"ticks\": \"\", \"zerolinecolor\": \"white\"}}, \"shapedefaults\": {\"line\": {\"color\": \"#2a3f5f\"}}, \"ternary\": {\"aaxis\": {\"gridcolor\": \"white\", \"linecolor\": \"white\", \"ticks\": \"\"}, \"baxis\": {\"gridcolor\": \"white\", \"linecolor\": \"white\", \"ticks\": \"\"}, \"bgcolor\": \"#E5ECF6\", \"caxis\": {\"gridcolor\": \"white\", \"linecolor\": \"white\", \"ticks\": \"\"}}, \"title\": {\"x\": 0.05}, \"xaxis\": {\"automargin\": true, \"gridcolor\": \"white\", \"linecolor\": \"white\", \"ticks\": \"\", \"title\": {\"standoff\": 15}, \"zerolinecolor\": \"white\", \"zerolinewidth\": 2}, \"yaxis\": {\"automargin\": true, \"gridcolor\": \"white\", \"linecolor\": \"white\", \"ticks\": \"\", \"title\": {\"standoff\": 15}, \"zerolinecolor\": \"white\", \"zerolinewidth\": 2}}}, \"title\": {\"text\": \"Autocorrelation Plot for Every Country's Income Inequality<br>with an Increasing Lag\", \"x\": 0.5}, \"xaxis\": {\"range\": [1, 8], \"title\": {\"text\": \"Lag\"}}, \"yaxis\": {\"range\": [-1, 1], \"title\": {\"text\": \"Autocorrelation\"}}},                        {\"responsive\": true}                    ).then(function(){\n",
       "                            \n",
       "var gd = document.getElementById('d20c7b1f-f14b-4b3d-b26e-8040819bdd17');\n",
       "var x = new MutationObserver(function (mutations, observer) {{\n",
       "        var display = window.getComputedStyle(gd).display;\n",
       "        if (!display || display === 'none') {{\n",
       "            console.log([gd, 'removed!']);\n",
       "            Plotly.purge(gd);\n",
       "            observer.disconnect();\n",
       "        }}\n",
       "}});\n",
       "\n",
       "// Listen for the removal of the full notebook cells\n",
       "var notebookContainer = gd.closest('#notebook-container');\n",
       "if (notebookContainer) {{\n",
       "    x.observe(notebookContainer, {childList: true});\n",
       "}}\n",
       "\n",
       "// Listen for the clearing of the current output cell\n",
       "var outputEl = gd.closest('.output');\n",
       "if (outputEl) {{\n",
       "    x.observe(outputEl, {childList: true});\n",
       "}}\n",
       "\n",
       "                        })                };                });            </script>        </div>"
      ]
     },
     "metadata": {},
     "output_type": "display_data"
    }
   ],
   "source": [
    "def autocorr_plot(lagged_data, lagged_data_title, country_code):\n",
    "    row = lagged_data[lagged_data['Country Code'] == country_code].iloc[:,1:].iloc[0]\n",
    "    fig = px.line(row,\n",
    "                  labels={\n",
    "                         \"value\": \"Autocorrelation\",\n",
    "                         \"index\": \"Autocorrelation Lag\"\n",
    "                        }\n",
    "                 )\n",
    "    fig.update_layout(title_text=f'Autocorrelation Plot for {country_code}\\'s {lagged_data_title}<br>with an Increasing Lag',\n",
    "                      title_x=0.5,\n",
    "                      showlegend=False)\n",
    "    fig.update_yaxes(range=[-1, 1])\n",
    "    fig.show()\n",
    "\n",
    "def autocorr_plot_manycountry(lagged_data, lagged_data_title):\n",
    "#     row = lagged_data[lagged_data['Country Code'] == country_code].iloc[:,1:].iloc[0]\n",
    "    row = lagged_data\n",
    "#     fig = px.line(row,\n",
    "#                   labels={\n",
    "#                          \"value\": \"Autocorrelation\",\n",
    "#                          \"index\": \"Autocorrelation Lag\"\n",
    "#                         }\n",
    "#                  )\n",
    "#     fig = plt.Figure()\n",
    "    fig = go.Figure()\n",
    "#     fig = px.line(row, x=\"Country Code\", y=\"Lag 1\")\n",
    "    for i in range(len(lagged_data)):\n",
    "        fig.add_trace(go.Scatter(y=lagged_data.iloc[i],\n",
    "                                 mode='lines',\n",
    "                                 name=lagged_data['Country Code'].iloc[i],\n",
    "                                 opacity=0.5))\n",
    "    fig.update_layout(title_text=f\"Autocorrelation Plot for Every Country's {lagged_data_title}<br>with an Increasing Lag\",\n",
    "                      title_x=0.5,\n",
    "                      yaxis_title=\"Autocorrelation\",\n",
    "                      xaxis_title=\"Lag\",)\n",
    "    fig.update_yaxes(range=[-1, 1])\n",
    "    fig.update_xaxes(range=[1, len(lagged_data.columns) - 1])\n",
    "    fig.show()\n",
    "    \n",
    "autocorr_plot_manycountry(labour_lagged_data,     'Labour Productivity')\n",
    "autocorr_plot_manycountry(gdp_lagged_data,        'GDP')\n",
    "autocorr_plot_manycountry(incomeineq_lagged_data, 'Income Inequality')\n",
    "    \n",
    "# autocorr_plot(labour_lagged_data,     'Labour Productivity', 'AUT')\n",
    "# autocorr_plot(gdp_lagged_data,        'GDP',                 'BEL')\n",
    "# autocorr_plot(incomeineq_lagged_data, 'Income Inequality',                 'BEL')"
   ]
  },
  {
   "cell_type": "code",
   "execution_count": 85,
   "id": "classified-sydney",
   "metadata": {},
   "outputs": [
    {
     "ename": "AttributeError",
     "evalue": "'Series' object has no attribute 'insert'",
     "output_type": "error",
     "traceback": [
      "\u001b[0;31m---------------------------------------------------------------------------\u001b[0m",
      "\u001b[0;31mAttributeError\u001b[0m                            Traceback (most recent call last)",
      "\u001b[0;32m<ipython-input-85-59bd447a3f31>\u001b[0m in \u001b[0;36m<module>\u001b[0;34m\u001b[0m\n\u001b[1;32m     31\u001b[0m \u001b[0;34m\u001b[0m\u001b[0m\n\u001b[1;32m     32\u001b[0m \u001b[0mwithin_conf_int\u001b[0m \u001b[0;34m=\u001b[0m \u001b[0mz\u001b[0m\u001b[0;34m.\u001b[0m\u001b[0miloc\u001b[0m\u001b[0;34m[\u001b[0m\u001b[0;34m:\u001b[0m\u001b[0;34m,\u001b[0m\u001b[0;36m1\u001b[0m\u001b[0;34m:\u001b[0m\u001b[0;34m]\u001b[0m\u001b[0;34m.\u001b[0m\u001b[0mapply\u001b[0m\u001b[0;34m(\u001b[0m\u001b[0;32mlambda\u001b[0m \u001b[0mcol\u001b[0m\u001b[0;34m:\u001b[0m \u001b[0mnp\u001b[0m\u001b[0;34m.\u001b[0m\u001b[0msum\u001b[0m\u001b[0;34m(\u001b[0m\u001b[0mcol\u001b[0m\u001b[0;34m[\u001b[0m\u001b[0mcol\u001b[0m \u001b[0;34m<=\u001b[0m \u001b[0;36m0.05\u001b[0m\u001b[0;34m]\u001b[0m\u001b[0;34m)\u001b[0m\u001b[0;34m,\u001b[0m \u001b[0maxis\u001b[0m\u001b[0;34m=\u001b[0m\u001b[0;34m'rows'\u001b[0m\u001b[0;34m)\u001b[0m\u001b[0;34m\u001b[0m\u001b[0;34m\u001b[0m\u001b[0m\n\u001b[0;32m---> 33\u001b[0;31m \u001b[0mwithin_conf_int\u001b[0m\u001b[0;34m.\u001b[0m\u001b[0minsert\u001b[0m\u001b[0;34m(\u001b[0m\u001b[0;36m0\u001b[0m\u001b[0;34m,\u001b[0m \u001b[0;34m'Country Code'\u001b[0m\u001b[0;34m,\u001b[0m \u001b[0;36m0\u001b[0m\u001b[0;34m)\u001b[0m\u001b[0;34m\u001b[0m\u001b[0;34m\u001b[0m\u001b[0m\n\u001b[0m\u001b[1;32m     34\u001b[0m \u001b[0mwithin_conf_int\u001b[0m\u001b[0;34m\u001b[0m\u001b[0;34m\u001b[0m\u001b[0m\n\u001b[1;32m     35\u001b[0m \u001b[0mz\u001b[0m \u001b[0;34m=\u001b[0m \u001b[0mz\u001b[0m\u001b[0;34m.\u001b[0m\u001b[0mappend\u001b[0m\u001b[0;34m(\u001b[0m\u001b[0mwithin_conf_int\u001b[0m\u001b[0;34m,\u001b[0m \u001b[0mignore_index\u001b[0m\u001b[0;34m=\u001b[0m\u001b[0;32mTrue\u001b[0m\u001b[0;34m)\u001b[0m\u001b[0;34m\u001b[0m\u001b[0;34m\u001b[0m\u001b[0m\n",
      "\u001b[0;32m~/.local/lib/python3.8/site-packages/pandas/core/generic.py\u001b[0m in \u001b[0;36m__getattr__\u001b[0;34m(self, name)\u001b[0m\n\u001b[1;32m   5463\u001b[0m             \u001b[0;32mif\u001b[0m \u001b[0mself\u001b[0m\u001b[0;34m.\u001b[0m\u001b[0m_info_axis\u001b[0m\u001b[0;34m.\u001b[0m\u001b[0m_can_hold_identifiers_and_holds_name\u001b[0m\u001b[0;34m(\u001b[0m\u001b[0mname\u001b[0m\u001b[0;34m)\u001b[0m\u001b[0;34m:\u001b[0m\u001b[0;34m\u001b[0m\u001b[0;34m\u001b[0m\u001b[0m\n\u001b[1;32m   5464\u001b[0m                 \u001b[0;32mreturn\u001b[0m \u001b[0mself\u001b[0m\u001b[0;34m[\u001b[0m\u001b[0mname\u001b[0m\u001b[0;34m]\u001b[0m\u001b[0;34m\u001b[0m\u001b[0;34m\u001b[0m\u001b[0m\n\u001b[0;32m-> 5465\u001b[0;31m             \u001b[0;32mreturn\u001b[0m \u001b[0mobject\u001b[0m\u001b[0;34m.\u001b[0m\u001b[0m__getattribute__\u001b[0m\u001b[0;34m(\u001b[0m\u001b[0mself\u001b[0m\u001b[0;34m,\u001b[0m \u001b[0mname\u001b[0m\u001b[0;34m)\u001b[0m\u001b[0;34m\u001b[0m\u001b[0;34m\u001b[0m\u001b[0m\n\u001b[0m\u001b[1;32m   5466\u001b[0m \u001b[0;34m\u001b[0m\u001b[0m\n\u001b[1;32m   5467\u001b[0m     \u001b[0;32mdef\u001b[0m \u001b[0m__setattr__\u001b[0m\u001b[0;34m(\u001b[0m\u001b[0mself\u001b[0m\u001b[0;34m,\u001b[0m \u001b[0mname\u001b[0m\u001b[0;34m:\u001b[0m \u001b[0mstr\u001b[0m\u001b[0;34m,\u001b[0m \u001b[0mvalue\u001b[0m\u001b[0;34m)\u001b[0m \u001b[0;34m->\u001b[0m \u001b[0;32mNone\u001b[0m\u001b[0;34m:\u001b[0m\u001b[0;34m\u001b[0m\u001b[0;34m\u001b[0m\u001b[0m\n",
      "\u001b[0;31mAttributeError\u001b[0m: 'Series' object has no attribute 'insert'"
     ]
    },
    {
     "data": {
      "image/png": "[encoded data removed]",
      "text/plain": [
       "<Figure size 432x288 with 1 Axes>"
      ]
     },
     "metadata": {
      "needs_background": "light"
     },
     "output_type": "display_data"
    }
   ],
   "source": [
    "autocorr_plot_country      = 28\n",
    "autocorr_plot_country_name = labour_csv.iloc[autocorr_plot_country]['Country Name']\n",
    "\n",
    "x = acorr_ljungbox(labour_csv.iloc[0][2:], lags=[1,2,3,4,5], return_df=False, auto_lag=True)\n",
    "# print(stats)\n",
    "# print(x)\n",
    "\n",
    "# lbvalue: The Ljung-Box test statistic.\n",
    "# pvalue: The p-value based on chi-square distribution.\n",
    "# bpvalue: The test statistic for Box-Pierce test.\n",
    "# bppvalue: The p-value based for Box-Pierce test on chi-square distribution.\n",
    "\n",
    "fig, ax = plt.subplots()\n",
    "ax.set_xlabel('Lag')\n",
    "ax.set_ylabel('Autocorrelation')\n",
    "plot_acf(labour_csv.iloc[autocorr_plot_country][2:],\n",
    "         title=f'Autocorrelation Plot for {autocorr_plot_country_name}\\'s {autocorr_plot_dataset}',\n",
    "         ax=ax,\n",
    "         alpha=0.05)\n",
    "# fig.show()\n",
    "\n",
    "# labour_csv.apply(lambda row: stats.stats.diagnostic.acorr_ljungbox(row[2:].astype(float), auto_lag=True)[1][:5], axis='columns')\n",
    "# z = labour_csv.apply(lambda row: acorr_ljungbox(row[2:].astype(float), lags=range(13), return_df=True)['lb_pvalue'], axis='columns')\n",
    "# z.insert(0, 'Country Code', labour_csv['Country Code'])\n",
    "# z\n",
    "\n",
    "\n",
    "f = lambda s: '{:.4f}'.format(s) if (float(s) <= 0.05) else '{\\\\textcolor{lightgray}{' + '{:.4f}'.format(s) + '}}'\n",
    "g = lambda s: s\n",
    "# print(z.to_latex(index=False, column_format='c|' + 'c' * (len(z.columns)-1), float_format=\"%.2f\", formatters=[g] + [f] * (len(z.columns)-1), escape=False))\n",
    "\n",
    "within_conf_int = z.iloc[:,1:].apply(lambda col: np.sum(col[col <= 0.05]), axis='rows')\n",
    "within_conf_int.insert(0, 'Country Code', 0)\n",
    "within_conf_int\n",
    "z = z.append(within_conf_int, ignore_index=True)\n",
    "\n",
    "z"
   ]
  }
 ],
 "metadata": {
  "kernelspec": {
   "display_name": "Python 3",
   "language": "python",
   "name": "python3"
  },
  "language_info": {
   "codemirror_mode": {
    "name": "ipython",
    "version": 3
   },
   "file_extension": ".py",
   "mimetype": "text/x-python",
   "name": "python",
   "nbconvert_exporter": "python",
   "pygments_lexer": "ipython3",
   "version": "3.8.5"
  }
 },
 "nbformat": 4,
 "nbformat_minor": 5
}
