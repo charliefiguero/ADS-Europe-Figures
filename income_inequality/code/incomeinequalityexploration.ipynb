{
 "cells": [
  {
   "cell_type": "code",
   "execution_count": 4,
   "metadata": {},
   "outputs": [],
   "source": [
    "import pandas as pd\n",
    "import matplotlib. pyplot as plt\n",
    "import numpy as np\n",
    "import plotly.express as px\n",
    "import plotly.graph_objects as go\n",
    "from plotly.subplots import make_subplots\n",
    "from plotly import tools"
   ]
  },
  {
   "cell_type": "code",
   "execution_count": 33,
   "metadata": {
    "scrolled": false
   },
   "outputs": [
    {
     "data": {
      "text/html": [
       "<div>\n",
       "<style scoped>\n",
       "    .dataframe tbody tr th:only-of-type {\n",
       "        vertical-align: middle;\n",
       "    }\n",
       "\n",
       "    .dataframe tbody tr th {\n",
       "        vertical-align: top;\n",
       "    }\n",
       "\n",
       "    .dataframe thead th {\n",
       "        text-align: right;\n",
       "    }\n",
       "</style>\n",
       "<table border=\"1\" class=\"dataframe\">\n",
       "  <thead>\n",
       "    <tr style=\"text-align: right;\">\n",
       "      <th></th>\n",
       "      <th>Country Name</th>\n",
       "      <th>Country Code</th>\n",
       "      <th>2009</th>\n",
       "      <th>2010</th>\n",
       "      <th>2011</th>\n",
       "      <th>2012</th>\n",
       "      <th>2013</th>\n",
       "      <th>2014</th>\n",
       "      <th>2015</th>\n",
       "      <th>2016</th>\n",
       "      <th>2017</th>\n",
       "      <th>2018</th>\n",
       "      <th>2019</th>\n",
       "      <th>2020</th>\n",
       "    </tr>\n",
       "  </thead>\n",
       "  <tbody>\n",
       "    <tr>\n",
       "      <th>0</th>\n",
       "      <td>Austria</td>\n",
       "      <td>AUT</td>\n",
       "      <td>4.15</td>\n",
       "      <td>4.34</td>\n",
       "      <td>4.12</td>\n",
       "      <td>4.20</td>\n",
       "      <td>4.11</td>\n",
       "      <td>4.13</td>\n",
       "      <td>4.05</td>\n",
       "      <td>4.09</td>\n",
       "      <td>4.29</td>\n",
       "      <td>4.04</td>\n",
       "      <td>4.17</td>\n",
       "      <td>NaN</td>\n",
       "    </tr>\n",
       "    <tr>\n",
       "      <th>1</th>\n",
       "      <td>Belgium</td>\n",
       "      <td>BEL</td>\n",
       "      <td>3.91</td>\n",
       "      <td>3.92</td>\n",
       "      <td>3.86</td>\n",
       "      <td>3.95</td>\n",
       "      <td>3.81</td>\n",
       "      <td>3.81</td>\n",
       "      <td>3.83</td>\n",
       "      <td>3.85</td>\n",
       "      <td>3.84</td>\n",
       "      <td>3.79</td>\n",
       "      <td>3.61</td>\n",
       "      <td>NaN</td>\n",
       "    </tr>\n",
       "    <tr>\n",
       "      <th>2</th>\n",
       "      <td>Bulgaria</td>\n",
       "      <td>BGR</td>\n",
       "      <td>5.91</td>\n",
       "      <td>5.86</td>\n",
       "      <td>6.46</td>\n",
       "      <td>6.12</td>\n",
       "      <td>6.59</td>\n",
       "      <td>6.81</td>\n",
       "      <td>7.11</td>\n",
       "      <td>7.69</td>\n",
       "      <td>8.23</td>\n",
       "      <td>7.66</td>\n",
       "      <td>8.10</td>\n",
       "      <td>8.01</td>\n",
       "    </tr>\n",
       "    <tr>\n",
       "      <th>3</th>\n",
       "      <td>Switzerland</td>\n",
       "      <td>CHE</td>\n",
       "      <td>4.76</td>\n",
       "      <td>4.48</td>\n",
       "      <td>4.52</td>\n",
       "      <td>4.40</td>\n",
       "      <td>4.22</td>\n",
       "      <td>4.42</td>\n",
       "      <td>4.48</td>\n",
       "      <td>4.42</td>\n",
       "      <td>4.63</td>\n",
       "      <td>4.50</td>\n",
       "      <td>4.75</td>\n",
       "      <td>NaN</td>\n",
       "    </tr>\n",
       "    <tr>\n",
       "      <th>4</th>\n",
       "      <td>Cyprus</td>\n",
       "      <td>CYP</td>\n",
       "      <td>4.37</td>\n",
       "      <td>4.54</td>\n",
       "      <td>4.34</td>\n",
       "      <td>4.67</td>\n",
       "      <td>4.91</td>\n",
       "      <td>5.37</td>\n",
       "      <td>5.20</td>\n",
       "      <td>4.88</td>\n",
       "      <td>4.56</td>\n",
       "      <td>4.29</td>\n",
       "      <td>4.58</td>\n",
       "      <td>NaN</td>\n",
       "    </tr>\n",
       "    <tr>\n",
       "      <th>5</th>\n",
       "      <td>Czechia</td>\n",
       "      <td>CZE</td>\n",
       "      <td>3.47</td>\n",
       "      <td>3.47</td>\n",
       "      <td>3.54</td>\n",
       "      <td>3.49</td>\n",
       "      <td>3.40</td>\n",
       "      <td>3.50</td>\n",
       "      <td>3.51</td>\n",
       "      <td>3.50</td>\n",
       "      <td>3.40</td>\n",
       "      <td>3.32</td>\n",
       "      <td>3.34</td>\n",
       "      <td>NaN</td>\n",
       "    </tr>\n",
       "    <tr>\n",
       "      <th>6</th>\n",
       "      <td>Germany</td>\n",
       "      <td>DEU</td>\n",
       "      <td>4.48</td>\n",
       "      <td>4.49</td>\n",
       "      <td>4.46</td>\n",
       "      <td>4.30</td>\n",
       "      <td>4.60</td>\n",
       "      <td>5.12</td>\n",
       "      <td>4.80</td>\n",
       "      <td>4.62</td>\n",
       "      <td>4.49</td>\n",
       "      <td>5.07</td>\n",
       "      <td>4.89</td>\n",
       "      <td>NaN</td>\n",
       "    </tr>\n",
       "    <tr>\n",
       "      <th>7</th>\n",
       "      <td>Denmark</td>\n",
       "      <td>DNK</td>\n",
       "      <td>4.61</td>\n",
       "      <td>4.41</td>\n",
       "      <td>3.98</td>\n",
       "      <td>3.94</td>\n",
       "      <td>4.01</td>\n",
       "      <td>4.12</td>\n",
       "      <td>4.08</td>\n",
       "      <td>4.06</td>\n",
       "      <td>4.08</td>\n",
       "      <td>4.11</td>\n",
       "      <td>4.09</td>\n",
       "      <td>NaN</td>\n",
       "    </tr>\n",
       "    <tr>\n",
       "      <th>8</th>\n",
       "      <td>Euro Area</td>\n",
       "      <td>EA</td>\n",
       "      <td>4.82</td>\n",
       "      <td>4.86</td>\n",
       "      <td>4.98</td>\n",
       "      <td>4.97</td>\n",
       "      <td>5.04</td>\n",
       "      <td>5.22</td>\n",
       "      <td>5.16</td>\n",
       "      <td>5.15</td>\n",
       "      <td>5.05</td>\n",
       "      <td>5.07</td>\n",
       "      <td>4.98</td>\n",
       "      <td>NaN</td>\n",
       "    </tr>\n",
       "    <tr>\n",
       "      <th>9</th>\n",
       "      <td>Euro Area - 18 countries (2014)</td>\n",
       "      <td>EA18</td>\n",
       "      <td>4.84</td>\n",
       "      <td>4.87</td>\n",
       "      <td>4.99</td>\n",
       "      <td>4.97</td>\n",
       "      <td>5.04</td>\n",
       "      <td>5.22</td>\n",
       "      <td>5.14</td>\n",
       "      <td>5.14</td>\n",
       "      <td>5.03</td>\n",
       "      <td>5.05</td>\n",
       "      <td>4.97</td>\n",
       "      <td>NaN</td>\n",
       "    </tr>\n",
       "    <tr>\n",
       "      <th>10</th>\n",
       "      <td>Euro Area - 19 countries (from 2015)</td>\n",
       "      <td>EA19</td>\n",
       "      <td>4.85</td>\n",
       "      <td>4.90</td>\n",
       "      <td>5.00</td>\n",
       "      <td>4.98</td>\n",
       "      <td>5.05</td>\n",
       "      <td>5.23</td>\n",
       "      <td>5.16</td>\n",
       "      <td>5.15</td>\n",
       "      <td>5.05</td>\n",
       "      <td>5.07</td>\n",
       "      <td>4.98</td>\n",
       "      <td>NaN</td>\n",
       "    </tr>\n",
       "    <tr>\n",
       "      <th>11</th>\n",
       "      <td>Estonia</td>\n",
       "      <td>EST</td>\n",
       "      <td>5.01</td>\n",
       "      <td>5.01</td>\n",
       "      <td>5.35</td>\n",
       "      <td>5.41</td>\n",
       "      <td>5.54</td>\n",
       "      <td>6.48</td>\n",
       "      <td>6.21</td>\n",
       "      <td>5.56</td>\n",
       "      <td>5.42</td>\n",
       "      <td>5.07</td>\n",
       "      <td>5.08</td>\n",
       "      <td>NaN</td>\n",
       "    </tr>\n",
       "    <tr>\n",
       "      <th>12</th>\n",
       "      <td>Greece</td>\n",
       "      <td>GRC</td>\n",
       "      <td>5.76</td>\n",
       "      <td>5.61</td>\n",
       "      <td>5.96</td>\n",
       "      <td>6.63</td>\n",
       "      <td>6.60</td>\n",
       "      <td>6.46</td>\n",
       "      <td>6.51</td>\n",
       "      <td>6.55</td>\n",
       "      <td>6.11</td>\n",
       "      <td>5.51</td>\n",
       "      <td>5.11</td>\n",
       "      <td>NaN</td>\n",
       "    </tr>\n",
       "    <tr>\n",
       "      <th>13</th>\n",
       "      <td>Spain</td>\n",
       "      <td>ESP</td>\n",
       "      <td>5.87</td>\n",
       "      <td>6.16</td>\n",
       "      <td>6.28</td>\n",
       "      <td>6.47</td>\n",
       "      <td>6.29</td>\n",
       "      <td>6.81</td>\n",
       "      <td>6.87</td>\n",
       "      <td>6.60</td>\n",
       "      <td>6.59</td>\n",
       "      <td>6.03</td>\n",
       "      <td>5.94</td>\n",
       "      <td>NaN</td>\n",
       "    </tr>\n",
       "    <tr>\n",
       "      <th>14</th>\n",
       "      <td>European Union</td>\n",
       "      <td>EU</td>\n",
       "      <td>4.92</td>\n",
       "      <td>4.94</td>\n",
       "      <td>5.03</td>\n",
       "      <td>4.98</td>\n",
       "      <td>5.00</td>\n",
       "      <td>5.20</td>\n",
       "      <td>5.22</td>\n",
       "      <td>5.16</td>\n",
       "      <td>5.08</td>\n",
       "      <td>5.12</td>\n",
       "      <td>5.09</td>\n",
       "      <td>NaN</td>\n",
       "    </tr>\n",
       "    <tr>\n",
       "      <th>15</th>\n",
       "      <td>European Union - 27 countries (from 2007)</td>\n",
       "      <td>EU27_2007</td>\n",
       "      <td>4.92</td>\n",
       "      <td>4.94</td>\n",
       "      <td>5.03</td>\n",
       "      <td>4.98</td>\n",
       "      <td>5.00</td>\n",
       "      <td>5.20</td>\n",
       "      <td>5.22</td>\n",
       "      <td>5.16</td>\n",
       "      <td>5.08</td>\n",
       "      <td>5.12</td>\n",
       "      <td>NaN</td>\n",
       "      <td>NaN</td>\n",
       "    </tr>\n",
       "    <tr>\n",
       "      <th>16</th>\n",
       "      <td>European Union - 27 countries (from 2020)</td>\n",
       "      <td>EU27_2020</td>\n",
       "      <td>NaN</td>\n",
       "      <td>4.89</td>\n",
       "      <td>4.99</td>\n",
       "      <td>4.98</td>\n",
       "      <td>5.05</td>\n",
       "      <td>5.22</td>\n",
       "      <td>5.22</td>\n",
       "      <td>5.16</td>\n",
       "      <td>5.03</td>\n",
       "      <td>5.05</td>\n",
       "      <td>4.99</td>\n",
       "      <td>NaN</td>\n",
       "    </tr>\n",
       "    <tr>\n",
       "      <th>17</th>\n",
       "      <td>European Union - 28 countries (2013-2020)</td>\n",
       "      <td>EU28</td>\n",
       "      <td>NaN</td>\n",
       "      <td>4.94</td>\n",
       "      <td>5.03</td>\n",
       "      <td>4.98</td>\n",
       "      <td>5.00</td>\n",
       "      <td>5.20</td>\n",
       "      <td>5.22</td>\n",
       "      <td>5.16</td>\n",
       "      <td>5.08</td>\n",
       "      <td>5.12</td>\n",
       "      <td>5.09</td>\n",
       "      <td>NaN</td>\n",
       "    </tr>\n",
       "    <tr>\n",
       "      <th>18</th>\n",
       "      <td>Finland</td>\n",
       "      <td>FIN</td>\n",
       "      <td>3.71</td>\n",
       "      <td>3.61</td>\n",
       "      <td>3.69</td>\n",
       "      <td>3.69</td>\n",
       "      <td>3.59</td>\n",
       "      <td>3.62</td>\n",
       "      <td>3.56</td>\n",
       "      <td>3.58</td>\n",
       "      <td>3.54</td>\n",
       "      <td>3.65</td>\n",
       "      <td>3.69</td>\n",
       "      <td>3.72</td>\n",
       "    </tr>\n",
       "    <tr>\n",
       "      <th>19</th>\n",
       "      <td>France</td>\n",
       "      <td>FRA</td>\n",
       "      <td>4.42</td>\n",
       "      <td>4.43</td>\n",
       "      <td>4.61</td>\n",
       "      <td>4.54</td>\n",
       "      <td>4.48</td>\n",
       "      <td>4.27</td>\n",
       "      <td>4.29</td>\n",
       "      <td>4.32</td>\n",
       "      <td>4.31</td>\n",
       "      <td>4.23</td>\n",
       "      <td>4.27</td>\n",
       "      <td>NaN</td>\n",
       "    </tr>\n",
       "    <tr>\n",
       "      <th>20</th>\n",
       "      <td>Croatia</td>\n",
       "      <td>HRV</td>\n",
       "      <td>NaN</td>\n",
       "      <td>5.54</td>\n",
       "      <td>5.58</td>\n",
       "      <td>5.36</td>\n",
       "      <td>5.34</td>\n",
       "      <td>5.12</td>\n",
       "      <td>5.16</td>\n",
       "      <td>5.00</td>\n",
       "      <td>5.03</td>\n",
       "      <td>5.00</td>\n",
       "      <td>4.76</td>\n",
       "      <td>NaN</td>\n",
       "    </tr>\n",
       "    <tr>\n",
       "      <th>21</th>\n",
       "      <td>Hungary</td>\n",
       "      <td>HUN</td>\n",
       "      <td>3.51</td>\n",
       "      <td>3.41</td>\n",
       "      <td>3.94</td>\n",
       "      <td>4.00</td>\n",
       "      <td>4.29</td>\n",
       "      <td>4.33</td>\n",
       "      <td>4.30</td>\n",
       "      <td>4.26</td>\n",
       "      <td>4.27</td>\n",
       "      <td>4.35</td>\n",
       "      <td>4.23</td>\n",
       "      <td>NaN</td>\n",
       "    </tr>\n",
       "    <tr>\n",
       "      <th>22</th>\n",
       "      <td>Ireland</td>\n",
       "      <td>IRL</td>\n",
       "      <td>4.24</td>\n",
       "      <td>4.70</td>\n",
       "      <td>4.63</td>\n",
       "      <td>4.82</td>\n",
       "      <td>4.73</td>\n",
       "      <td>4.90</td>\n",
       "      <td>4.50</td>\n",
       "      <td>4.45</td>\n",
       "      <td>4.63</td>\n",
       "      <td>4.23</td>\n",
       "      <td>4.03</td>\n",
       "      <td>NaN</td>\n",
       "    </tr>\n",
       "    <tr>\n",
       "      <th>23</th>\n",
       "      <td>Iceland</td>\n",
       "      <td>ISL</td>\n",
       "      <td>4.22</td>\n",
       "      <td>3.61</td>\n",
       "      <td>3.32</td>\n",
       "      <td>3.36</td>\n",
       "      <td>3.36</td>\n",
       "      <td>3.12</td>\n",
       "      <td>3.43</td>\n",
       "      <td>3.33</td>\n",
       "      <td>3.59</td>\n",
       "      <td>3.21</td>\n",
       "      <td>NaN</td>\n",
       "      <td>NaN</td>\n",
       "    </tr>\n",
       "    <tr>\n",
       "      <th>24</th>\n",
       "      <td>Italy</td>\n",
       "      <td>ITA</td>\n",
       "      <td>5.31</td>\n",
       "      <td>5.38</td>\n",
       "      <td>5.73</td>\n",
       "      <td>5.64</td>\n",
       "      <td>5.85</td>\n",
       "      <td>5.78</td>\n",
       "      <td>5.84</td>\n",
       "      <td>6.27</td>\n",
       "      <td>5.92</td>\n",
       "      <td>6.09</td>\n",
       "      <td>6.01</td>\n",
       "      <td>NaN</td>\n",
       "    </tr>\n",
       "    <tr>\n",
       "      <th>25</th>\n",
       "      <td>Lithuania</td>\n",
       "      <td>LTU</td>\n",
       "      <td>6.39</td>\n",
       "      <td>7.35</td>\n",
       "      <td>5.84</td>\n",
       "      <td>5.32</td>\n",
       "      <td>6.05</td>\n",
       "      <td>6.10</td>\n",
       "      <td>7.46</td>\n",
       "      <td>7.06</td>\n",
       "      <td>7.28</td>\n",
       "      <td>7.09</td>\n",
       "      <td>6.44</td>\n",
       "      <td>NaN</td>\n",
       "    </tr>\n",
       "    <tr>\n",
       "      <th>26</th>\n",
       "      <td>Luxembourg</td>\n",
       "      <td>LUX</td>\n",
       "      <td>4.31</td>\n",
       "      <td>4.10</td>\n",
       "      <td>3.97</td>\n",
       "      <td>4.13</td>\n",
       "      <td>4.59</td>\n",
       "      <td>4.42</td>\n",
       "      <td>4.26</td>\n",
       "      <td>4.62</td>\n",
       "      <td>4.56</td>\n",
       "      <td>5.18</td>\n",
       "      <td>5.34</td>\n",
       "      <td>NaN</td>\n",
       "    </tr>\n",
       "    <tr>\n",
       "      <th>27</th>\n",
       "      <td>Latvia</td>\n",
       "      <td>LVA</td>\n",
       "      <td>7.40</td>\n",
       "      <td>6.84</td>\n",
       "      <td>6.50</td>\n",
       "      <td>6.47</td>\n",
       "      <td>6.32</td>\n",
       "      <td>6.48</td>\n",
       "      <td>6.51</td>\n",
       "      <td>6.20</td>\n",
       "      <td>6.30</td>\n",
       "      <td>6.78</td>\n",
       "      <td>6.54</td>\n",
       "      <td>NaN</td>\n",
       "    </tr>\n",
       "    <tr>\n",
       "      <th>28</th>\n",
       "      <td>Montenegro</td>\n",
       "      <td>MNE</td>\n",
       "      <td>NaN</td>\n",
       "      <td>NaN</td>\n",
       "      <td>NaN</td>\n",
       "      <td>NaN</td>\n",
       "      <td>8.54</td>\n",
       "      <td>7.27</td>\n",
       "      <td>7.48</td>\n",
       "      <td>7.38</td>\n",
       "      <td>7.57</td>\n",
       "      <td>7.37</td>\n",
       "      <td>6.72</td>\n",
       "      <td>NaN</td>\n",
       "    </tr>\n",
       "    <tr>\n",
       "      <th>29</th>\n",
       "      <td>North Macedonia</td>\n",
       "      <td>MKD</td>\n",
       "      <td>NaN</td>\n",
       "      <td>NaN</td>\n",
       "      <td>NaN</td>\n",
       "      <td>10.20</td>\n",
       "      <td>8.37</td>\n",
       "      <td>7.22</td>\n",
       "      <td>6.62</td>\n",
       "      <td>6.63</td>\n",
       "      <td>6.38</td>\n",
       "      <td>6.16</td>\n",
       "      <td>5.56</td>\n",
       "      <td>NaN</td>\n",
       "    </tr>\n",
       "    <tr>\n",
       "      <th>30</th>\n",
       "      <td>Malta</td>\n",
       "      <td>MLT</td>\n",
       "      <td>3.99</td>\n",
       "      <td>4.33</td>\n",
       "      <td>4.01</td>\n",
       "      <td>3.94</td>\n",
       "      <td>4.14</td>\n",
       "      <td>4.05</td>\n",
       "      <td>4.15</td>\n",
       "      <td>4.22</td>\n",
       "      <td>4.21</td>\n",
       "      <td>4.28</td>\n",
       "      <td>4.18</td>\n",
       "      <td>NaN</td>\n",
       "    </tr>\n",
       "    <tr>\n",
       "      <th>31</th>\n",
       "      <td>Netherlands</td>\n",
       "      <td>NLD</td>\n",
       "      <td>3.97</td>\n",
       "      <td>3.65</td>\n",
       "      <td>3.75</td>\n",
       "      <td>3.61</td>\n",
       "      <td>3.58</td>\n",
       "      <td>3.83</td>\n",
       "      <td>3.82</td>\n",
       "      <td>3.93</td>\n",
       "      <td>3.99</td>\n",
       "      <td>4.05</td>\n",
       "      <td>3.94</td>\n",
       "      <td>4.04</td>\n",
       "    </tr>\n",
       "    <tr>\n",
       "      <th>32</th>\n",
       "      <td>Norway</td>\n",
       "      <td>NOR</td>\n",
       "      <td>3.51</td>\n",
       "      <td>3.42</td>\n",
       "      <td>3.28</td>\n",
       "      <td>3.21</td>\n",
       "      <td>3.25</td>\n",
       "      <td>3.41</td>\n",
       "      <td>3.50</td>\n",
       "      <td>3.69</td>\n",
       "      <td>3.90</td>\n",
       "      <td>3.71</td>\n",
       "      <td>3.81</td>\n",
       "      <td>NaN</td>\n",
       "    </tr>\n",
       "    <tr>\n",
       "      <th>33</th>\n",
       "      <td>Poland</td>\n",
       "      <td>POL</td>\n",
       "      <td>4.97</td>\n",
       "      <td>4.98</td>\n",
       "      <td>4.95</td>\n",
       "      <td>4.92</td>\n",
       "      <td>4.88</td>\n",
       "      <td>4.91</td>\n",
       "      <td>4.92</td>\n",
       "      <td>4.76</td>\n",
       "      <td>4.56</td>\n",
       "      <td>4.25</td>\n",
       "      <td>4.37</td>\n",
       "      <td>NaN</td>\n",
       "    </tr>\n",
       "    <tr>\n",
       "      <th>34</th>\n",
       "      <td>Portugal</td>\n",
       "      <td>PRT</td>\n",
       "      <td>6.01</td>\n",
       "      <td>5.56</td>\n",
       "      <td>5.68</td>\n",
       "      <td>5.82</td>\n",
       "      <td>6.01</td>\n",
       "      <td>6.23</td>\n",
       "      <td>6.01</td>\n",
       "      <td>5.88</td>\n",
       "      <td>5.75</td>\n",
       "      <td>5.22</td>\n",
       "      <td>5.16</td>\n",
       "      <td>NaN</td>\n",
       "    </tr>\n",
       "    <tr>\n",
       "      <th>35</th>\n",
       "      <td>Romania</td>\n",
       "      <td>ROU</td>\n",
       "      <td>6.53</td>\n",
       "      <td>6.11</td>\n",
       "      <td>6.24</td>\n",
       "      <td>6.60</td>\n",
       "      <td>6.83</td>\n",
       "      <td>7.24</td>\n",
       "      <td>8.32</td>\n",
       "      <td>7.20</td>\n",
       "      <td>6.45</td>\n",
       "      <td>7.21</td>\n",
       "      <td>7.08</td>\n",
       "      <td>NaN</td>\n",
       "    </tr>\n",
       "    <tr>\n",
       "      <th>36</th>\n",
       "      <td>Serbia</td>\n",
       "      <td>SRB</td>\n",
       "      <td>NaN</td>\n",
       "      <td>NaN</td>\n",
       "      <td>NaN</td>\n",
       "      <td>NaN</td>\n",
       "      <td>8.59</td>\n",
       "      <td>9.41</td>\n",
       "      <td>10.70</td>\n",
       "      <td>11.02</td>\n",
       "      <td>9.38</td>\n",
       "      <td>8.58</td>\n",
       "      <td>6.46</td>\n",
       "      <td>NaN</td>\n",
       "    </tr>\n",
       "    <tr>\n",
       "      <th>37</th>\n",
       "      <td>Sweden</td>\n",
       "      <td>SWE</td>\n",
       "      <td>3.96</td>\n",
       "      <td>3.85</td>\n",
       "      <td>3.95</td>\n",
       "      <td>3.98</td>\n",
       "      <td>3.97</td>\n",
       "      <td>4.15</td>\n",
       "      <td>4.06</td>\n",
       "      <td>4.25</td>\n",
       "      <td>4.27</td>\n",
       "      <td>4.13</td>\n",
       "      <td>4.33</td>\n",
       "      <td>NaN</td>\n",
       "    </tr>\n",
       "    <tr>\n",
       "      <th>38</th>\n",
       "      <td>Slovenia</td>\n",
       "      <td>SVN</td>\n",
       "      <td>3.24</td>\n",
       "      <td>3.42</td>\n",
       "      <td>3.46</td>\n",
       "      <td>3.44</td>\n",
       "      <td>3.60</td>\n",
       "      <td>3.70</td>\n",
       "      <td>3.60</td>\n",
       "      <td>3.56</td>\n",
       "      <td>3.42</td>\n",
       "      <td>3.38</td>\n",
       "      <td>3.39</td>\n",
       "      <td>NaN</td>\n",
       "    </tr>\n",
       "    <tr>\n",
       "      <th>39</th>\n",
       "      <td>Slovakia</td>\n",
       "      <td>SVK</td>\n",
       "      <td>3.56</td>\n",
       "      <td>3.80</td>\n",
       "      <td>3.81</td>\n",
       "      <td>3.73</td>\n",
       "      <td>3.58</td>\n",
       "      <td>3.93</td>\n",
       "      <td>3.54</td>\n",
       "      <td>3.63</td>\n",
       "      <td>3.49</td>\n",
       "      <td>3.03</td>\n",
       "      <td>3.34</td>\n",
       "      <td>NaN</td>\n",
       "    </tr>\n",
       "    <tr>\n",
       "      <th>40</th>\n",
       "      <td>Turkey</td>\n",
       "      <td>TUR</td>\n",
       "      <td>10.35</td>\n",
       "      <td>9.93</td>\n",
       "      <td>9.51</td>\n",
       "      <td>9.33</td>\n",
       "      <td>8.70</td>\n",
       "      <td>8.35</td>\n",
       "      <td>8.61</td>\n",
       "      <td>8.65</td>\n",
       "      <td>8.68</td>\n",
       "      <td>8.66</td>\n",
       "      <td>8.35</td>\n",
       "      <td>NaN</td>\n",
       "    </tr>\n",
       "    <tr>\n",
       "      <th>41</th>\n",
       "      <td>United Kingdom</td>\n",
       "      <td>GBR</td>\n",
       "      <td>5.25</td>\n",
       "      <td>5.35</td>\n",
       "      <td>5.34</td>\n",
       "      <td>4.98</td>\n",
       "      <td>4.63</td>\n",
       "      <td>5.06</td>\n",
       "      <td>5.23</td>\n",
       "      <td>5.12</td>\n",
       "      <td>5.40</td>\n",
       "      <td>5.63</td>\n",
       "      <td>NaN</td>\n",
       "      <td>NaN</td>\n",
       "    </tr>\n",
       "    <tr>\n",
       "      <th>42</th>\n",
       "      <td>Kosovo</td>\n",
       "      <td>XKX</td>\n",
       "      <td>NaN</td>\n",
       "      <td>NaN</td>\n",
       "      <td>NaN</td>\n",
       "      <td>NaN</td>\n",
       "      <td>NaN</td>\n",
       "      <td>NaN</td>\n",
       "      <td>NaN</td>\n",
       "      <td>NaN</td>\n",
       "      <td>NaN</td>\n",
       "      <td>15.58</td>\n",
       "      <td>NaN</td>\n",
       "      <td>NaN</td>\n",
       "    </tr>\n",
       "  </tbody>\n",
       "</table>\n",
       "</div>"
      ],
      "text/plain": [
       "                                 Country Name Country Code   2009  2010  2011  \\\n",
       "0                                     Austria          AUT   4.15  4.34  4.12   \n",
       "1                                     Belgium          BEL   3.91  3.92  3.86   \n",
       "2                                    Bulgaria          BGR   5.91  5.86  6.46   \n",
       "3                                 Switzerland          CHE   4.76  4.48  4.52   \n",
       "4                                      Cyprus          CYP   4.37  4.54  4.34   \n",
       "5                                     Czechia          CZE   3.47  3.47  3.54   \n",
       "6                                    Germany           DEU   4.48  4.49  4.46   \n",
       "7                                     Denmark          DNK   4.61  4.41  3.98   \n",
       "8                                   Euro Area           EA   4.82  4.86  4.98   \n",
       "9             Euro Area - 18 countries (2014)         EA18   4.84  4.87  4.99   \n",
       "10       Euro Area - 19 countries (from 2015)         EA19   4.85  4.90  5.00   \n",
       "11                                    Estonia          EST   5.01  5.01  5.35   \n",
       "12                                     Greece          GRC   5.76  5.61  5.96   \n",
       "13                                      Spain          ESP   5.87  6.16  6.28   \n",
       "14                             European Union           EU   4.92  4.94  5.03   \n",
       "15  European Union - 27 countries (from 2007)    EU27_2007   4.92  4.94  5.03   \n",
       "16  European Union - 27 countries (from 2020)    EU27_2020    NaN  4.89  4.99   \n",
       "17  European Union - 28 countries (2013-2020)         EU28    NaN  4.94  5.03   \n",
       "18                                    Finland          FIN   3.71  3.61  3.69   \n",
       "19                                     France          FRA   4.42  4.43  4.61   \n",
       "20                                    Croatia          HRV    NaN  5.54  5.58   \n",
       "21                                    Hungary          HUN   3.51  3.41  3.94   \n",
       "22                                    Ireland          IRL   4.24  4.70  4.63   \n",
       "23                                    Iceland          ISL   4.22  3.61  3.32   \n",
       "24                                      Italy          ITA   5.31  5.38  5.73   \n",
       "25                                  Lithuania          LTU   6.39  7.35  5.84   \n",
       "26                                 Luxembourg          LUX   4.31  4.10  3.97   \n",
       "27                                     Latvia          LVA   7.40  6.84  6.50   \n",
       "28                                 Montenegro          MNE    NaN   NaN   NaN   \n",
       "29                            North Macedonia          MKD    NaN   NaN   NaN   \n",
       "30                                      Malta          MLT   3.99  4.33  4.01   \n",
       "31                                Netherlands          NLD   3.97  3.65  3.75   \n",
       "32                                     Norway          NOR   3.51  3.42  3.28   \n",
       "33                                     Poland          POL   4.97  4.98  4.95   \n",
       "34                                   Portugal          PRT   6.01  5.56  5.68   \n",
       "35                                    Romania          ROU   6.53  6.11  6.24   \n",
       "36                                     Serbia          SRB    NaN   NaN   NaN   \n",
       "37                                     Sweden          SWE   3.96  3.85  3.95   \n",
       "38                                   Slovenia          SVN   3.24  3.42  3.46   \n",
       "39                                   Slovakia          SVK   3.56  3.80  3.81   \n",
       "40                                     Turkey          TUR  10.35  9.93  9.51   \n",
       "41                             United Kingdom          GBR   5.25  5.35  5.34   \n",
       "42                                     Kosovo          XKX    NaN   NaN   NaN   \n",
       "\n",
       "     2012  2013  2014   2015   2016  2017   2018  2019  2020  \n",
       "0    4.20  4.11  4.13   4.05   4.09  4.29   4.04  4.17   NaN  \n",
       "1    3.95  3.81  3.81   3.83   3.85  3.84   3.79  3.61   NaN  \n",
       "2    6.12  6.59  6.81   7.11   7.69  8.23   7.66  8.10  8.01  \n",
       "3    4.40  4.22  4.42   4.48   4.42  4.63   4.50  4.75   NaN  \n",
       "4    4.67  4.91  5.37   5.20   4.88  4.56   4.29  4.58   NaN  \n",
       "5    3.49  3.40  3.50   3.51   3.50  3.40   3.32  3.34   NaN  \n",
       "6    4.30  4.60  5.12   4.80   4.62  4.49   5.07  4.89   NaN  \n",
       "7    3.94  4.01  4.12   4.08   4.06  4.08   4.11  4.09   NaN  \n",
       "8    4.97  5.04  5.22   5.16   5.15  5.05   5.07  4.98   NaN  \n",
       "9    4.97  5.04  5.22   5.14   5.14  5.03   5.05  4.97   NaN  \n",
       "10   4.98  5.05  5.23   5.16   5.15  5.05   5.07  4.98   NaN  \n",
       "11   5.41  5.54  6.48   6.21   5.56  5.42   5.07  5.08   NaN  \n",
       "12   6.63  6.60  6.46   6.51   6.55  6.11   5.51  5.11   NaN  \n",
       "13   6.47  6.29  6.81   6.87   6.60  6.59   6.03  5.94   NaN  \n",
       "14   4.98  5.00  5.20   5.22   5.16  5.08   5.12  5.09   NaN  \n",
       "15   4.98  5.00  5.20   5.22   5.16  5.08   5.12   NaN   NaN  \n",
       "16   4.98  5.05  5.22   5.22   5.16  5.03   5.05  4.99   NaN  \n",
       "17   4.98  5.00  5.20   5.22   5.16  5.08   5.12  5.09   NaN  \n",
       "18   3.69  3.59  3.62   3.56   3.58  3.54   3.65  3.69  3.72  \n",
       "19   4.54  4.48  4.27   4.29   4.32  4.31   4.23  4.27   NaN  \n",
       "20   5.36  5.34  5.12   5.16   5.00  5.03   5.00  4.76   NaN  \n",
       "21   4.00  4.29  4.33   4.30   4.26  4.27   4.35  4.23   NaN  \n",
       "22   4.82  4.73  4.90   4.50   4.45  4.63   4.23  4.03   NaN  \n",
       "23   3.36  3.36  3.12   3.43   3.33  3.59   3.21   NaN   NaN  \n",
       "24   5.64  5.85  5.78   5.84   6.27  5.92   6.09  6.01   NaN  \n",
       "25   5.32  6.05  6.10   7.46   7.06  7.28   7.09  6.44   NaN  \n",
       "26   4.13  4.59  4.42   4.26   4.62  4.56   5.18  5.34   NaN  \n",
       "27   6.47  6.32  6.48   6.51   6.20  6.30   6.78  6.54   NaN  \n",
       "28    NaN  8.54  7.27   7.48   7.38  7.57   7.37  6.72   NaN  \n",
       "29  10.20  8.37  7.22   6.62   6.63  6.38   6.16  5.56   NaN  \n",
       "30   3.94  4.14  4.05   4.15   4.22  4.21   4.28  4.18   NaN  \n",
       "31   3.61  3.58  3.83   3.82   3.93  3.99   4.05  3.94  4.04  \n",
       "32   3.21  3.25  3.41   3.50   3.69  3.90   3.71  3.81   NaN  \n",
       "33   4.92  4.88  4.91   4.92   4.76  4.56   4.25  4.37   NaN  \n",
       "34   5.82  6.01  6.23   6.01   5.88  5.75   5.22  5.16   NaN  \n",
       "35   6.60  6.83  7.24   8.32   7.20  6.45   7.21  7.08   NaN  \n",
       "36    NaN  8.59  9.41  10.70  11.02  9.38   8.58  6.46   NaN  \n",
       "37   3.98  3.97  4.15   4.06   4.25  4.27   4.13  4.33   NaN  \n",
       "38   3.44  3.60  3.70   3.60   3.56  3.42   3.38  3.39   NaN  \n",
       "39   3.73  3.58  3.93   3.54   3.63  3.49   3.03  3.34   NaN  \n",
       "40   9.33  8.70  8.35   8.61   8.65  8.68   8.66  8.35   NaN  \n",
       "41   4.98  4.63  5.06   5.23   5.12  5.40   5.63   NaN   NaN  \n",
       "42    NaN   NaN   NaN    NaN    NaN   NaN  15.58   NaN   NaN  "
      ]
     },
     "execution_count": 33,
     "metadata": {},
     "output_type": "execute_result"
    }
   ],
   "source": [
    "# read csv file with European countries income inequality data\n",
    "\n",
    "A = 'incomeinequality_reformatted.csv'\n",
    "\n",
    "Inequality_csv = pd.read_csv(A)\n",
    "\n",
    "# show income inequality csv file\n",
    "\n",
    "Inequality_csv"
   ]
  },
  {
   "cell_type": "code",
   "execution_count": 35,
   "metadata": {},
   "outputs": [
    {
     "data": {
      "application/vnd.plotly.v1+json": {
       "config": {
        "plotlyServerURL": "https://plot.ly"
       },
       "data": [
        {
         "hovertemplate": "Country Code=AUT<br>Country Name=%{x}<br>2013=%{y}<extra></extra>",
         "legendgroup": "AUT",
         "marker": {
          "color": "#636efa",
          "symbol": "circle"
         },
         "mode": "markers",
         "name": "AUT",
         "orientation": "v",
         "showlegend": true,
         "type": "scatter",
         "x": [
          "Austria"
         ],
         "xaxis": "x",
         "y": [
          4.11
         ],
         "yaxis": "y"
        },
        {
         "hovertemplate": "Country Code=BEL<br>Country Name=%{x}<br>2013=%{y}<extra></extra>",
         "legendgroup": "BEL",
         "marker": {
          "color": "#EF553B",
          "symbol": "circle"
         },
         "mode": "markers",
         "name": "BEL",
         "orientation": "v",
         "showlegend": true,
         "type": "scatter",
         "x": [
          "Belgium"
         ],
         "xaxis": "x",
         "y": [
          3.81
         ],
         "yaxis": "y"
        },
        {
         "hovertemplate": "Country Code=BGR<br>Country Name=%{x}<br>2013=%{y}<extra></extra>",
         "legendgroup": "BGR",
         "marker": {
          "color": "#00cc96",
          "symbol": "circle"
         },
         "mode": "markers",
         "name": "BGR",
         "orientation": "v",
         "showlegend": true,
         "type": "scatter",
         "x": [
          "Bulgaria"
         ],
         "xaxis": "x",
         "y": [
          6.59
         ],
         "yaxis": "y"
        },
        {
         "hovertemplate": "Country Code=CHE<br>Country Name=%{x}<br>2013=%{y}<extra></extra>",
         "legendgroup": "CHE",
         "marker": {
          "color": "#ab63fa",
          "symbol": "circle"
         },
         "mode": "markers",
         "name": "CHE",
         "orientation": "v",
         "showlegend": true,
         "type": "scatter",
         "x": [
          "Switzerland"
         ],
         "xaxis": "x",
         "y": [
          4.22
         ],
         "yaxis": "y"
        },
        {
         "hovertemplate": "Country Code=CYP<br>Country Name=%{x}<br>2013=%{y}<extra></extra>",
         "legendgroup": "CYP",
         "marker": {
          "color": "#FFA15A",
          "symbol": "circle"
         },
         "mode": "markers",
         "name": "CYP",
         "orientation": "v",
         "showlegend": true,
         "type": "scatter",
         "x": [
          "Cyprus"
         ],
         "xaxis": "x",
         "y": [
          4.91
         ],
         "yaxis": "y"
        },
        {
         "hovertemplate": "Country Code=CZE<br>Country Name=%{x}<br>2013=%{y}<extra></extra>",
         "legendgroup": "CZE",
         "marker": {
          "color": "#19d3f3",
          "symbol": "circle"
         },
         "mode": "markers",
         "name": "CZE",
         "orientation": "v",
         "showlegend": true,
         "type": "scatter",
         "x": [
          "Czechia"
         ],
         "xaxis": "x",
         "y": [
          3.4
         ],
         "yaxis": "y"
        },
        {
         "hovertemplate": "Country Code=DEU<br>Country Name=%{x}<br>2013=%{y}<extra></extra>",
         "legendgroup": "DEU",
         "marker": {
          "color": "#FF6692",
          "symbol": "circle"
         },
         "mode": "markers",
         "name": "DEU",
         "orientation": "v",
         "showlegend": true,
         "type": "scatter",
         "x": [
          "Germany "
         ],
         "xaxis": "x",
         "y": [
          4.6
         ],
         "yaxis": "y"
        },
        {
         "hovertemplate": "Country Code=DNK<br>Country Name=%{x}<br>2013=%{y}<extra></extra>",
         "legendgroup": "DNK",
         "marker": {
          "color": "#B6E880",
          "symbol": "circle"
         },
         "mode": "markers",
         "name": "DNK",
         "orientation": "v",
         "showlegend": true,
         "type": "scatter",
         "x": [
          "Denmark"
         ],
         "xaxis": "x",
         "y": [
          4.01
         ],
         "yaxis": "y"
        },
        {
         "hovertemplate": "Country Code=EA<br>Country Name=%{x}<br>2013=%{y}<extra></extra>",
         "legendgroup": "EA",
         "marker": {
          "color": "#FF97FF",
          "symbol": "circle"
         },
         "mode": "markers",
         "name": "EA",
         "orientation": "v",
         "showlegend": true,
         "type": "scatter",
         "x": [
          "Euro Area"
         ],
         "xaxis": "x",
         "y": [
          5.04
         ],
         "yaxis": "y"
        },
        {
         "hovertemplate": "Country Code=EA18<br>Country Name=%{x}<br>2013=%{y}<extra></extra>",
         "legendgroup": "EA18",
         "marker": {
          "color": "#FECB52",
          "symbol": "circle"
         },
         "mode": "markers",
         "name": "EA18",
         "orientation": "v",
         "showlegend": true,
         "type": "scatter",
         "x": [
          "Euro Area - 18 countries (2014)"
         ],
         "xaxis": "x",
         "y": [
          5.04
         ],
         "yaxis": "y"
        },
        {
         "hovertemplate": "Country Code=EA19<br>Country Name=%{x}<br>2013=%{y}<extra></extra>",
         "legendgroup": "EA19",
         "marker": {
          "color": "#636efa",
          "symbol": "circle"
         },
         "mode": "markers",
         "name": "EA19",
         "orientation": "v",
         "showlegend": true,
         "type": "scatter",
         "x": [
          "Euro Area - 19 countries (from 2015)"
         ],
         "xaxis": "x",
         "y": [
          5.05
         ],
         "yaxis": "y"
        },
        {
         "hovertemplate": "Country Code=EST<br>Country Name=%{x}<br>2013=%{y}<extra></extra>",
         "legendgroup": "EST",
         "marker": {
          "color": "#EF553B",
          "symbol": "circle"
         },
         "mode": "markers",
         "name": "EST",
         "orientation": "v",
         "showlegend": true,
         "type": "scatter",
         "x": [
          "Estonia"
         ],
         "xaxis": "x",
         "y": [
          5.54
         ],
         "yaxis": "y"
        },
        {
         "hovertemplate": "Country Code=GRC<br>Country Name=%{x}<br>2013=%{y}<extra></extra>",
         "legendgroup": "GRC",
         "marker": {
          "color": "#00cc96",
          "symbol": "circle"
         },
         "mode": "markers",
         "name": "GRC",
         "orientation": "v",
         "showlegend": true,
         "type": "scatter",
         "x": [
          "Greece"
         ],
         "xaxis": "x",
         "y": [
          6.6
         ],
         "yaxis": "y"
        },
        {
         "hovertemplate": "Country Code=ESP<br>Country Name=%{x}<br>2013=%{y}<extra></extra>",
         "legendgroup": "ESP",
         "marker": {
          "color": "#ab63fa",
          "symbol": "circle"
         },
         "mode": "markers",
         "name": "ESP",
         "orientation": "v",
         "showlegend": true,
         "type": "scatter",
         "x": [
          "Spain"
         ],
         "xaxis": "x",
         "y": [
          6.29
         ],
         "yaxis": "y"
        },
        {
         "hovertemplate": "Country Code=EU<br>Country Name=%{x}<br>2013=%{y}<extra></extra>",
         "legendgroup": "EU",
         "marker": {
          "color": "#FFA15A",
          "symbol": "circle"
         },
         "mode": "markers",
         "name": "EU",
         "orientation": "v",
         "showlegend": true,
         "type": "scatter",
         "x": [
          "European Union"
         ],
         "xaxis": "x",
         "y": [
          5
         ],
         "yaxis": "y"
        },
        {
         "hovertemplate": "Country Code=EU27_2007<br>Country Name=%{x}<br>2013=%{y}<extra></extra>",
         "legendgroup": "EU27_2007",
         "marker": {
          "color": "#19d3f3",
          "symbol": "circle"
         },
         "mode": "markers",
         "name": "EU27_2007",
         "orientation": "v",
         "showlegend": true,
         "type": "scatter",
         "x": [
          "European Union - 27 countries (from 2007)"
         ],
         "xaxis": "x",
         "y": [
          5
         ],
         "yaxis": "y"
        },
        {
         "hovertemplate": "Country Code=EU27_2020<br>Country Name=%{x}<br>2013=%{y}<extra></extra>",
         "legendgroup": "EU27_2020",
         "marker": {
          "color": "#FF6692",
          "symbol": "circle"
         },
         "mode": "markers",
         "name": "EU27_2020",
         "orientation": "v",
         "showlegend": true,
         "type": "scatter",
         "x": [
          "European Union - 27 countries (from 2020)"
         ],
         "xaxis": "x",
         "y": [
          5.05
         ],
         "yaxis": "y"
        },
        {
         "hovertemplate": "Country Code=EU28<br>Country Name=%{x}<br>2013=%{y}<extra></extra>",
         "legendgroup": "EU28",
         "marker": {
          "color": "#B6E880",
          "symbol": "circle"
         },
         "mode": "markers",
         "name": "EU28",
         "orientation": "v",
         "showlegend": true,
         "type": "scatter",
         "x": [
          "European Union - 28 countries (2013-2020)"
         ],
         "xaxis": "x",
         "y": [
          5
         ],
         "yaxis": "y"
        },
        {
         "hovertemplate": "Country Code=FIN<br>Country Name=%{x}<br>2013=%{y}<extra></extra>",
         "legendgroup": "FIN",
         "marker": {
          "color": "#FF97FF",
          "symbol": "circle"
         },
         "mode": "markers",
         "name": "FIN",
         "orientation": "v",
         "showlegend": true,
         "type": "scatter",
         "x": [
          "Finland"
         ],
         "xaxis": "x",
         "y": [
          3.59
         ],
         "yaxis": "y"
        },
        {
         "hovertemplate": "Country Code=FRA<br>Country Name=%{x}<br>2013=%{y}<extra></extra>",
         "legendgroup": "FRA",
         "marker": {
          "color": "#FECB52",
          "symbol": "circle"
         },
         "mode": "markers",
         "name": "FRA",
         "orientation": "v",
         "showlegend": true,
         "type": "scatter",
         "x": [
          "France"
         ],
         "xaxis": "x",
         "y": [
          4.48
         ],
         "yaxis": "y"
        },
        {
         "hovertemplate": "Country Code=HRV<br>Country Name=%{x}<br>2013=%{y}<extra></extra>",
         "legendgroup": "HRV",
         "marker": {
          "color": "#636efa",
          "symbol": "circle"
         },
         "mode": "markers",
         "name": "HRV",
         "orientation": "v",
         "showlegend": true,
         "type": "scatter",
         "x": [
          "Croatia"
         ],
         "xaxis": "x",
         "y": [
          5.34
         ],
         "yaxis": "y"
        },
        {
         "hovertemplate": "Country Code=HUN<br>Country Name=%{x}<br>2013=%{y}<extra></extra>",
         "legendgroup": "HUN",
         "marker": {
          "color": "#EF553B",
          "symbol": "circle"
         },
         "mode": "markers",
         "name": "HUN",
         "orientation": "v",
         "showlegend": true,
         "type": "scatter",
         "x": [
          "Hungary"
         ],
         "xaxis": "x",
         "y": [
          4.29
         ],
         "yaxis": "y"
        },
        {
         "hovertemplate": "Country Code=IRL<br>Country Name=%{x}<br>2013=%{y}<extra></extra>",
         "legendgroup": "IRL",
         "marker": {
          "color": "#00cc96",
          "symbol": "circle"
         },
         "mode": "markers",
         "name": "IRL",
         "orientation": "v",
         "showlegend": true,
         "type": "scatter",
         "x": [
          "Ireland"
         ],
         "xaxis": "x",
         "y": [
          4.73
         ],
         "yaxis": "y"
        },
        {
         "hovertemplate": "Country Code=ISL<br>Country Name=%{x}<br>2013=%{y}<extra></extra>",
         "legendgroup": "ISL",
         "marker": {
          "color": "#ab63fa",
          "symbol": "circle"
         },
         "mode": "markers",
         "name": "ISL",
         "orientation": "v",
         "showlegend": true,
         "type": "scatter",
         "x": [
          "Iceland"
         ],
         "xaxis": "x",
         "y": [
          3.36
         ],
         "yaxis": "y"
        },
        {
         "hovertemplate": "Country Code=ITA<br>Country Name=%{x}<br>2013=%{y}<extra></extra>",
         "legendgroup": "ITA",
         "marker": {
          "color": "#FFA15A",
          "symbol": "circle"
         },
         "mode": "markers",
         "name": "ITA",
         "orientation": "v",
         "showlegend": true,
         "type": "scatter",
         "x": [
          "Italy"
         ],
         "xaxis": "x",
         "y": [
          5.85
         ],
         "yaxis": "y"
        },
        {
         "hovertemplate": "Country Code=LTU<br>Country Name=%{x}<br>2013=%{y}<extra></extra>",
         "legendgroup": "LTU",
         "marker": {
          "color": "#19d3f3",
          "symbol": "circle"
         },
         "mode": "markers",
         "name": "LTU",
         "orientation": "v",
         "showlegend": true,
         "type": "scatter",
         "x": [
          "Lithuania"
         ],
         "xaxis": "x",
         "y": [
          6.05
         ],
         "yaxis": "y"
        },
        {
         "hovertemplate": "Country Code=LUX<br>Country Name=%{x}<br>2013=%{y}<extra></extra>",
         "legendgroup": "LUX",
         "marker": {
          "color": "#FF6692",
          "symbol": "circle"
         },
         "mode": "markers",
         "name": "LUX",
         "orientation": "v",
         "showlegend": true,
         "type": "scatter",
         "x": [
          "Luxembourg"
         ],
         "xaxis": "x",
         "y": [
          4.59
         ],
         "yaxis": "y"
        },
        {
         "hovertemplate": "Country Code=LVA<br>Country Name=%{x}<br>2013=%{y}<extra></extra>",
         "legendgroup": "LVA",
         "marker": {
          "color": "#B6E880",
          "symbol": "circle"
         },
         "mode": "markers",
         "name": "LVA",
         "orientation": "v",
         "showlegend": true,
         "type": "scatter",
         "x": [
          "Latvia"
         ],
         "xaxis": "x",
         "y": [
          6.32
         ],
         "yaxis": "y"
        },
        {
         "hovertemplate": "Country Code=MNE<br>Country Name=%{x}<br>2013=%{y}<extra></extra>",
         "legendgroup": "MNE",
         "marker": {
          "color": "#FF97FF",
          "symbol": "circle"
         },
         "mode": "markers",
         "name": "MNE",
         "orientation": "v",
         "showlegend": true,
         "type": "scatter",
         "x": [
          "Montenegro"
         ],
         "xaxis": "x",
         "y": [
          8.54
         ],
         "yaxis": "y"
        },
        {
         "hovertemplate": "Country Code=MKD<br>Country Name=%{x}<br>2013=%{y}<extra></extra>",
         "legendgroup": "MKD",
         "marker": {
          "color": "#FECB52",
          "symbol": "circle"
         },
         "mode": "markers",
         "name": "MKD",
         "orientation": "v",
         "showlegend": true,
         "type": "scatter",
         "x": [
          "North Macedonia"
         ],
         "xaxis": "x",
         "y": [
          8.37
         ],
         "yaxis": "y"
        },
        {
         "hovertemplate": "Country Code=MLT<br>Country Name=%{x}<br>2013=%{y}<extra></extra>",
         "legendgroup": "MLT",
         "marker": {
          "color": "#636efa",
          "symbol": "circle"
         },
         "mode": "markers",
         "name": "MLT",
         "orientation": "v",
         "showlegend": true,
         "type": "scatter",
         "x": [
          "Malta"
         ],
         "xaxis": "x",
         "y": [
          4.14
         ],
         "yaxis": "y"
        },
        {
         "hovertemplate": "Country Code=NLD<br>Country Name=%{x}<br>2013=%{y}<extra></extra>",
         "legendgroup": "NLD",
         "marker": {
          "color": "#EF553B",
          "symbol": "circle"
         },
         "mode": "markers",
         "name": "NLD",
         "orientation": "v",
         "showlegend": true,
         "type": "scatter",
         "x": [
          "Netherlands"
         ],
         "xaxis": "x",
         "y": [
          3.58
         ],
         "yaxis": "y"
        },
        {
         "hovertemplate": "Country Code=NOR<br>Country Name=%{x}<br>2013=%{y}<extra></extra>",
         "legendgroup": "NOR",
         "marker": {
          "color": "#00cc96",
          "symbol": "circle"
         },
         "mode": "markers",
         "name": "NOR",
         "orientation": "v",
         "showlegend": true,
         "type": "scatter",
         "x": [
          "Norway"
         ],
         "xaxis": "x",
         "y": [
          3.25
         ],
         "yaxis": "y"
        },
        {
         "hovertemplate": "Country Code=POL<br>Country Name=%{x}<br>2013=%{y}<extra></extra>",
         "legendgroup": "POL",
         "marker": {
          "color": "#ab63fa",
          "symbol": "circle"
         },
         "mode": "markers",
         "name": "POL",
         "orientation": "v",
         "showlegend": true,
         "type": "scatter",
         "x": [
          "Poland"
         ],
         "xaxis": "x",
         "y": [
          4.88
         ],
         "yaxis": "y"
        },
        {
         "hovertemplate": "Country Code=PRT<br>Country Name=%{x}<br>2013=%{y}<extra></extra>",
         "legendgroup": "PRT",
         "marker": {
          "color": "#FFA15A",
          "symbol": "circle"
         },
         "mode": "markers",
         "name": "PRT",
         "orientation": "v",
         "showlegend": true,
         "type": "scatter",
         "x": [
          "Portugal"
         ],
         "xaxis": "x",
         "y": [
          6.01
         ],
         "yaxis": "y"
        },
        {
         "hovertemplate": "Country Code=ROU<br>Country Name=%{x}<br>2013=%{y}<extra></extra>",
         "legendgroup": "ROU",
         "marker": {
          "color": "#19d3f3",
          "symbol": "circle"
         },
         "mode": "markers",
         "name": "ROU",
         "orientation": "v",
         "showlegend": true,
         "type": "scatter",
         "x": [
          "Romania"
         ],
         "xaxis": "x",
         "y": [
          6.83
         ],
         "yaxis": "y"
        },
        {
         "hovertemplate": "Country Code=SRB<br>Country Name=%{x}<br>2013=%{y}<extra></extra>",
         "legendgroup": "SRB",
         "marker": {
          "color": "#FF6692",
          "symbol": "circle"
         },
         "mode": "markers",
         "name": "SRB",
         "orientation": "v",
         "showlegend": true,
         "type": "scatter",
         "x": [
          "Serbia"
         ],
         "xaxis": "x",
         "y": [
          8.59
         ],
         "yaxis": "y"
        },
        {
         "hovertemplate": "Country Code=SWE<br>Country Name=%{x}<br>2013=%{y}<extra></extra>",
         "legendgroup": "SWE",
         "marker": {
          "color": "#B6E880",
          "symbol": "circle"
         },
         "mode": "markers",
         "name": "SWE",
         "orientation": "v",
         "showlegend": true,
         "type": "scatter",
         "x": [
          "Sweden"
         ],
         "xaxis": "x",
         "y": [
          3.97
         ],
         "yaxis": "y"
        },
        {
         "hovertemplate": "Country Code=SVN<br>Country Name=%{x}<br>2013=%{y}<extra></extra>",
         "legendgroup": "SVN",
         "marker": {
          "color": "#FF97FF",
          "symbol": "circle"
         },
         "mode": "markers",
         "name": "SVN",
         "orientation": "v",
         "showlegend": true,
         "type": "scatter",
         "x": [
          "Slovenia"
         ],
         "xaxis": "x",
         "y": [
          3.6
         ],
         "yaxis": "y"
        },
        {
         "hovertemplate": "Country Code=SVK<br>Country Name=%{x}<br>2013=%{y}<extra></extra>",
         "legendgroup": "SVK",
         "marker": {
          "color": "#FECB52",
          "symbol": "circle"
         },
         "mode": "markers",
         "name": "SVK",
         "orientation": "v",
         "showlegend": true,
         "type": "scatter",
         "x": [
          "Slovakia"
         ],
         "xaxis": "x",
         "y": [
          3.58
         ],
         "yaxis": "y"
        },
        {
         "hovertemplate": "Country Code=TUR<br>Country Name=%{x}<br>2013=%{y}<extra></extra>",
         "legendgroup": "TUR",
         "marker": {
          "color": "#636efa",
          "symbol": "circle"
         },
         "mode": "markers",
         "name": "TUR",
         "orientation": "v",
         "showlegend": true,
         "type": "scatter",
         "x": [
          "Turkey"
         ],
         "xaxis": "x",
         "y": [
          8.7
         ],
         "yaxis": "y"
        },
        {
         "hovertemplate": "Country Code=GBR<br>Country Name=%{x}<br>2013=%{y}<extra></extra>",
         "legendgroup": "GBR",
         "marker": {
          "color": "#EF553B",
          "symbol": "circle"
         },
         "mode": "markers",
         "name": "GBR",
         "orientation": "v",
         "showlegend": true,
         "type": "scatter",
         "x": [
          "United Kingdom"
         ],
         "xaxis": "x",
         "y": [
          4.63
         ],
         "yaxis": "y"
        },
        {
         "hovertemplate": "Country Code=XKX<br>Country Name=%{x}<br>2013=%{y}<extra></extra>",
         "legendgroup": "XKX",
         "marker": {
          "color": "#00cc96",
          "symbol": "circle"
         },
         "mode": "markers",
         "name": "XKX",
         "orientation": "v",
         "showlegend": true,
         "type": "scatter",
         "x": [
          "Kosovo"
         ],
         "xaxis": "x",
         "y": [
          null
         ],
         "yaxis": "y"
        }
       ],
       "layout": {
        "legend": {
         "title": {
          "text": "Country Code"
         },
         "tracegroupgap": 0
        },
        "template": {
         "data": {
          "bar": [
           {
            "error_x": {
             "color": "#2a3f5f"
            },
            "error_y": {
             "color": "#2a3f5f"
            },
            "marker": {
             "line": {
              "color": "#E5ECF6",
              "width": 0.5
             }
            },
            "type": "bar"
           }
          ],
          "barpolar": [
           {
            "marker": {
             "line": {
              "color": "#E5ECF6",
              "width": 0.5
             }
            },
            "type": "barpolar"
           }
          ],
          "carpet": [
           {
            "aaxis": {
             "endlinecolor": "#2a3f5f",
             "gridcolor": "white",
             "linecolor": "white",
             "minorgridcolor": "white",
             "startlinecolor": "#2a3f5f"
            },
            "baxis": {
             "endlinecolor": "#2a3f5f",
             "gridcolor": "white",
             "linecolor": "white",
             "minorgridcolor": "white",
             "startlinecolor": "#2a3f5f"
            },
            "type": "carpet"
           }
          ],
          "choropleth": [
           {
            "colorbar": {
             "outlinewidth": 0,
             "ticks": ""
            },
            "type": "choropleth"
           }
          ],
          "contour": [
           {
            "colorbar": {
             "outlinewidth": 0,
             "ticks": ""
            },
            "colorscale": [
             [
              0,
              "#0d0887"
             ],
             [
              0.1111111111111111,
              "#46039f"
             ],
             [
              0.2222222222222222,
              "#7201a8"
             ],
             [
              0.3333333333333333,
              "#9c179e"
             ],
             [
              0.4444444444444444,
              "#bd3786"
             ],
             [
              0.5555555555555556,
              "#d8576b"
             ],
             [
              0.6666666666666666,
              "#ed7953"
             ],
             [
              0.7777777777777778,
              "#fb9f3a"
             ],
             [
              0.8888888888888888,
              "#fdca26"
             ],
             [
              1,
              "#f0f921"
             ]
            ],
            "type": "contour"
           }
          ],
          "contourcarpet": [
           {
            "colorbar": {
             "outlinewidth": 0,
             "ticks": ""
            },
            "type": "contourcarpet"
           }
          ],
          "heatmap": [
           {
            "colorbar": {
             "outlinewidth": 0,
             "ticks": ""
            },
            "colorscale": [
             [
              0,
              "#0d0887"
             ],
             [
              0.1111111111111111,
              "#46039f"
             ],
             [
              0.2222222222222222,
              "#7201a8"
             ],
             [
              0.3333333333333333,
              "#9c179e"
             ],
             [
              0.4444444444444444,
              "#bd3786"
             ],
             [
              0.5555555555555556,
              "#d8576b"
             ],
             [
              0.6666666666666666,
              "#ed7953"
             ],
             [
              0.7777777777777778,
              "#fb9f3a"
             ],
             [
              0.8888888888888888,
              "#fdca26"
             ],
             [
              1,
              "#f0f921"
             ]
            ],
            "type": "heatmap"
           }
          ],
          "heatmapgl": [
           {
            "colorbar": {
             "outlinewidth": 0,
             "ticks": ""
            },
            "colorscale": [
             [
              0,
              "#0d0887"
             ],
             [
              0.1111111111111111,
              "#46039f"
             ],
             [
              0.2222222222222222,
              "#7201a8"
             ],
             [
              0.3333333333333333,
              "#9c179e"
             ],
             [
              0.4444444444444444,
              "#bd3786"
             ],
             [
              0.5555555555555556,
              "#d8576b"
             ],
             [
              0.6666666666666666,
              "#ed7953"
             ],
             [
              0.7777777777777778,
              "#fb9f3a"
             ],
             [
              0.8888888888888888,
              "#fdca26"
             ],
             [
              1,
              "#f0f921"
             ]
            ],
            "type": "heatmapgl"
           }
          ],
          "histogram": [
           {
            "marker": {
             "colorbar": {
              "outlinewidth": 0,
              "ticks": ""
             }
            },
            "type": "histogram"
           }
          ],
          "histogram2d": [
           {
            "colorbar": {
             "outlinewidth": 0,
             "ticks": ""
            },
            "colorscale": [
             [
              0,
              "#0d0887"
             ],
             [
              0.1111111111111111,
              "#46039f"
             ],
             [
              0.2222222222222222,
              "#7201a8"
             ],
             [
              0.3333333333333333,
              "#9c179e"
             ],
             [
              0.4444444444444444,
              "#bd3786"
             ],
             [
              0.5555555555555556,
              "#d8576b"
             ],
             [
              0.6666666666666666,
              "#ed7953"
             ],
             [
              0.7777777777777778,
              "#fb9f3a"
             ],
             [
              0.8888888888888888,
              "#fdca26"
             ],
             [
              1,
              "#f0f921"
             ]
            ],
            "type": "histogram2d"
           }
          ],
          "histogram2dcontour": [
           {
            "colorbar": {
             "outlinewidth": 0,
             "ticks": ""
            },
            "colorscale": [
             [
              0,
              "#0d0887"
             ],
             [
              0.1111111111111111,
              "#46039f"
             ],
             [
              0.2222222222222222,
              "#7201a8"
             ],
             [
              0.3333333333333333,
              "#9c179e"
             ],
             [
              0.4444444444444444,
              "#bd3786"
             ],
             [
              0.5555555555555556,
              "#d8576b"
             ],
             [
              0.6666666666666666,
              "#ed7953"
             ],
             [
              0.7777777777777778,
              "#fb9f3a"
             ],
             [
              0.8888888888888888,
              "#fdca26"
             ],
             [
              1,
              "#f0f921"
             ]
            ],
            "type": "histogram2dcontour"
           }
          ],
          "mesh3d": [
           {
            "colorbar": {
             "outlinewidth": 0,
             "ticks": ""
            },
            "type": "mesh3d"
           }
          ],
          "parcoords": [
           {
            "line": {
             "colorbar": {
              "outlinewidth": 0,
              "ticks": ""
             }
            },
            "type": "parcoords"
           }
          ],
          "pie": [
           {
            "automargin": true,
            "type": "pie"
           }
          ],
          "scatter": [
           {
            "marker": {
             "colorbar": {
              "outlinewidth": 0,
              "ticks": ""
             }
            },
            "type": "scatter"
           }
          ],
          "scatter3d": [
           {
            "line": {
             "colorbar": {
              "outlinewidth": 0,
              "ticks": ""
             }
            },
            "marker": {
             "colorbar": {
              "outlinewidth": 0,
              "ticks": ""
             }
            },
            "type": "scatter3d"
           }
          ],
          "scattercarpet": [
           {
            "marker": {
             "colorbar": {
              "outlinewidth": 0,
              "ticks": ""
             }
            },
            "type": "scattercarpet"
           }
          ],
          "scattergeo": [
           {
            "marker": {
             "colorbar": {
              "outlinewidth": 0,
              "ticks": ""
             }
            },
            "type": "scattergeo"
           }
          ],
          "scattergl": [
           {
            "marker": {
             "colorbar": {
              "outlinewidth": 0,
              "ticks": ""
             }
            },
            "type": "scattergl"
           }
          ],
          "scattermapbox": [
           {
            "marker": {
             "colorbar": {
              "outlinewidth": 0,
              "ticks": ""
             }
            },
            "type": "scattermapbox"
           }
          ],
          "scatterpolar": [
           {
            "marker": {
             "colorbar": {
              "outlinewidth": 0,
              "ticks": ""
             }
            },
            "type": "scatterpolar"
           }
          ],
          "scatterpolargl": [
           {
            "marker": {
             "colorbar": {
              "outlinewidth": 0,
              "ticks": ""
             }
            },
            "type": "scatterpolargl"
           }
          ],
          "scatterternary": [
           {
            "marker": {
             "colorbar": {
              "outlinewidth": 0,
              "ticks": ""
             }
            },
            "type": "scatterternary"
           }
          ],
          "surface": [
           {
            "colorbar": {
             "outlinewidth": 0,
             "ticks": ""
            },
            "colorscale": [
             [
              0,
              "#0d0887"
             ],
             [
              0.1111111111111111,
              "#46039f"
             ],
             [
              0.2222222222222222,
              "#7201a8"
             ],
             [
              0.3333333333333333,
              "#9c179e"
             ],
             [
              0.4444444444444444,
              "#bd3786"
             ],
             [
              0.5555555555555556,
              "#d8576b"
             ],
             [
              0.6666666666666666,
              "#ed7953"
             ],
             [
              0.7777777777777778,
              "#fb9f3a"
             ],
             [
              0.8888888888888888,
              "#fdca26"
             ],
             [
              1,
              "#f0f921"
             ]
            ],
            "type": "surface"
           }
          ],
          "table": [
           {
            "cells": {
             "fill": {
              "color": "#EBF0F8"
             },
             "line": {
              "color": "white"
             }
            },
            "header": {
             "fill": {
              "color": "#C8D4E3"
             },
             "line": {
              "color": "white"
             }
            },
            "type": "table"
           }
          ]
         },
         "layout": {
          "annotationdefaults": {
           "arrowcolor": "#2a3f5f",
           "arrowhead": 0,
           "arrowwidth": 1
          },
          "autotypenumbers": "strict",
          "coloraxis": {
           "colorbar": {
            "outlinewidth": 0,
            "ticks": ""
           }
          },
          "colorscale": {
           "diverging": [
            [
             0,
             "#8e0152"
            ],
            [
             0.1,
             "#c51b7d"
            ],
            [
             0.2,
             "#de77ae"
            ],
            [
             0.3,
             "#f1b6da"
            ],
            [
             0.4,
             "#fde0ef"
            ],
            [
             0.5,
             "#f7f7f7"
            ],
            [
             0.6,
             "#e6f5d0"
            ],
            [
             0.7,
             "#b8e186"
            ],
            [
             0.8,
             "#7fbc41"
            ],
            [
             0.9,
             "#4d9221"
            ],
            [
             1,
             "#276419"
            ]
           ],
           "sequential": [
            [
             0,
             "#0d0887"
            ],
            [
             0.1111111111111111,
             "#46039f"
            ],
            [
             0.2222222222222222,
             "#7201a8"
            ],
            [
             0.3333333333333333,
             "#9c179e"
            ],
            [
             0.4444444444444444,
             "#bd3786"
            ],
            [
             0.5555555555555556,
             "#d8576b"
            ],
            [
             0.6666666666666666,
             "#ed7953"
            ],
            [
             0.7777777777777778,
             "#fb9f3a"
            ],
            [
             0.8888888888888888,
             "#fdca26"
            ],
            [
             1,
             "#f0f921"
            ]
           ],
           "sequentialminus": [
            [
             0,
             "#0d0887"
            ],
            [
             0.1111111111111111,
             "#46039f"
            ],
            [
             0.2222222222222222,
             "#7201a8"
            ],
            [
             0.3333333333333333,
             "#9c179e"
            ],
            [
             0.4444444444444444,
             "#bd3786"
            ],
            [
             0.5555555555555556,
             "#d8576b"
            ],
            [
             0.6666666666666666,
             "#ed7953"
            ],
            [
             0.7777777777777778,
             "#fb9f3a"
            ],
            [
             0.8888888888888888,
             "#fdca26"
            ],
            [
             1,
             "#f0f921"
            ]
           ]
          },
          "colorway": [
           "#636efa",
           "#EF553B",
           "#00cc96",
           "#ab63fa",
           "#FFA15A",
           "#19d3f3",
           "#FF6692",
           "#B6E880",
           "#FF97FF",
           "#FECB52"
          ],
          "font": {
           "color": "#2a3f5f"
          },
          "geo": {
           "bgcolor": "white",
           "lakecolor": "white",
           "landcolor": "#E5ECF6",
           "showlakes": true,
           "showland": true,
           "subunitcolor": "white"
          },
          "hoverlabel": {
           "align": "left"
          },
          "hovermode": "closest",
          "mapbox": {
           "style": "light"
          },
          "paper_bgcolor": "white",
          "plot_bgcolor": "#E5ECF6",
          "polar": {
           "angularaxis": {
            "gridcolor": "white",
            "linecolor": "white",
            "ticks": ""
           },
           "bgcolor": "#E5ECF6",
           "radialaxis": {
            "gridcolor": "white",
            "linecolor": "white",
            "ticks": ""
           }
          },
          "scene": {
           "xaxis": {
            "backgroundcolor": "#E5ECF6",
            "gridcolor": "white",
            "gridwidth": 2,
            "linecolor": "white",
            "showbackground": true,
            "ticks": "",
            "zerolinecolor": "white"
           },
           "yaxis": {
            "backgroundcolor": "#E5ECF6",
            "gridcolor": "white",
            "gridwidth": 2,
            "linecolor": "white",
            "showbackground": true,
            "ticks": "",
            "zerolinecolor": "white"
           },
           "zaxis": {
            "backgroundcolor": "#E5ECF6",
            "gridcolor": "white",
            "gridwidth": 2,
            "linecolor": "white",
            "showbackground": true,
            "ticks": "",
            "zerolinecolor": "white"
           }
          },
          "shapedefaults": {
           "line": {
            "color": "#2a3f5f"
           }
          },
          "ternary": {
           "aaxis": {
            "gridcolor": "white",
            "linecolor": "white",
            "ticks": ""
           },
           "baxis": {
            "gridcolor": "white",
            "linecolor": "white",
            "ticks": ""
           },
           "bgcolor": "#E5ECF6",
           "caxis": {
            "gridcolor": "white",
            "linecolor": "white",
            "ticks": ""
           }
          },
          "title": {
           "x": 0.05
          },
          "xaxis": {
           "automargin": true,
           "gridcolor": "white",
           "linecolor": "white",
           "ticks": "",
           "title": {
            "standoff": 15
           },
           "zerolinecolor": "white",
           "zerolinewidth": 2
          },
          "yaxis": {
           "automargin": true,
           "gridcolor": "white",
           "linecolor": "white",
           "ticks": "",
           "title": {
            "standoff": 15
           },
           "zerolinecolor": "white",
           "zerolinewidth": 2
          }
         }
        },
        "title": {
         "text": "Income Inequality in 2013"
        },
        "xaxis": {
         "anchor": "y",
         "domain": [
          0,
          1
         ],
         "title": {
          "text": "Country Name"
         }
        },
        "yaxis": {
         "anchor": "x",
         "domain": [
          0,
          1
         ],
         "title": {
          "text": "2013"
         }
        }
       }
      },
      "text/html": [
       "<div>                            <div id=\"ff4a2e84-7ace-465d-b81d-e0618fe54a27\" class=\"plotly-graph-div\" style=\"height:525px; width:100%;\"></div>            <script type=\"text/javascript\">                require([\"plotly\"], function(Plotly) {                    window.PLOTLYENV=window.PLOTLYENV || {};                                    if (document.getElementById(\"ff4a2e84-7ace-465d-b81d-e0618fe54a27\")) {                    Plotly.newPlot(                        \"ff4a2e84-7ace-465d-b81d-e0618fe54a27\",                        [{\"hovertemplate\": \"Country Code=AUT<br>Country Name=%{x}<br>2013=%{y}<extra></extra>\", \"legendgroup\": \"AUT\", \"marker\": {\"color\": \"#636efa\", \"symbol\": \"circle\"}, \"mode\": \"markers\", \"name\": \"AUT\", \"orientation\": \"v\", \"showlegend\": true, \"type\": \"scatter\", \"x\": [\"Austria\"], \"xaxis\": \"x\", \"y\": [4.11], \"yaxis\": \"y\"}, {\"hovertemplate\": \"Country Code=BEL<br>Country Name=%{x}<br>2013=%{y}<extra></extra>\", \"legendgroup\": \"BEL\", \"marker\": {\"color\": \"#EF553B\", \"symbol\": \"circle\"}, \"mode\": \"markers\", \"name\": \"BEL\", \"orientation\": \"v\", \"showlegend\": true, \"type\": \"scatter\", \"x\": [\"Belgium\"], \"xaxis\": \"x\", \"y\": [3.81], \"yaxis\": \"y\"}, {\"hovertemplate\": \"Country Code=BGR<br>Country Name=%{x}<br>2013=%{y}<extra></extra>\", \"legendgroup\": \"BGR\", \"marker\": {\"color\": \"#00cc96\", \"symbol\": \"circle\"}, \"mode\": \"markers\", \"name\": \"BGR\", \"orientation\": \"v\", \"showlegend\": true, \"type\": \"scatter\", \"x\": [\"Bulgaria\"], \"xaxis\": \"x\", \"y\": [6.59], \"yaxis\": \"y\"}, {\"hovertemplate\": \"Country Code=CHE<br>Country Name=%{x}<br>2013=%{y}<extra></extra>\", \"legendgroup\": \"CHE\", \"marker\": {\"color\": \"#ab63fa\", \"symbol\": \"circle\"}, \"mode\": \"markers\", \"name\": \"CHE\", \"orientation\": \"v\", \"showlegend\": true, \"type\": \"scatter\", \"x\": [\"Switzerland\"], \"xaxis\": \"x\", \"y\": [4.22], \"yaxis\": \"y\"}, {\"hovertemplate\": \"Country Code=CYP<br>Country Name=%{x}<br>2013=%{y}<extra></extra>\", \"legendgroup\": \"CYP\", \"marker\": {\"color\": \"#FFA15A\", \"symbol\": \"circle\"}, \"mode\": \"markers\", \"name\": \"CYP\", \"orientation\": \"v\", \"showlegend\": true, \"type\": \"scatter\", \"x\": [\"Cyprus\"], \"xaxis\": \"x\", \"y\": [4.91], \"yaxis\": \"y\"}, {\"hovertemplate\": \"Country Code=CZE<br>Country Name=%{x}<br>2013=%{y}<extra></extra>\", \"legendgroup\": \"CZE\", \"marker\": {\"color\": \"#19d3f3\", \"symbol\": \"circle\"}, \"mode\": \"markers\", \"name\": \"CZE\", \"orientation\": \"v\", \"showlegend\": true, \"type\": \"scatter\", \"x\": [\"Czechia\"], \"xaxis\": \"x\", \"y\": [3.4], \"yaxis\": \"y\"}, {\"hovertemplate\": \"Country Code=DEU<br>Country Name=%{x}<br>2013=%{y}<extra></extra>\", \"legendgroup\": \"DEU\", \"marker\": {\"color\": \"#FF6692\", \"symbol\": \"circle\"}, \"mode\": \"markers\", \"name\": \"DEU\", \"orientation\": \"v\", \"showlegend\": true, \"type\": \"scatter\", \"x\": [\"Germany \"], \"xaxis\": \"x\", \"y\": [4.6], \"yaxis\": \"y\"}, {\"hovertemplate\": \"Country Code=DNK<br>Country Name=%{x}<br>2013=%{y}<extra></extra>\", \"legendgroup\": \"DNK\", \"marker\": {\"color\": \"#B6E880\", \"symbol\": \"circle\"}, \"mode\": \"markers\", \"name\": \"DNK\", \"orientation\": \"v\", \"showlegend\": true, \"type\": \"scatter\", \"x\": [\"Denmark\"], \"xaxis\": \"x\", \"y\": [4.01], \"yaxis\": \"y\"}, {\"hovertemplate\": \"Country Code=EA<br>Country Name=%{x}<br>2013=%{y}<extra></extra>\", \"legendgroup\": \"EA\", \"marker\": {\"color\": \"#FF97FF\", \"symbol\": \"circle\"}, \"mode\": \"markers\", \"name\": \"EA\", \"orientation\": \"v\", \"showlegend\": true, \"type\": \"scatter\", \"x\": [\"Euro Area\"], \"xaxis\": \"x\", \"y\": [5.04], \"yaxis\": \"y\"}, {\"hovertemplate\": \"Country Code=EA18<br>Country Name=%{x}<br>2013=%{y}<extra></extra>\", \"legendgroup\": \"EA18\", \"marker\": {\"color\": \"#FECB52\", \"symbol\": \"circle\"}, \"mode\": \"markers\", \"name\": \"EA18\", \"orientation\": \"v\", \"showlegend\": true, \"type\": \"scatter\", \"x\": [\"Euro Area - 18 countries (2014)\"], \"xaxis\": \"x\", \"y\": [5.04], \"yaxis\": \"y\"}, {\"hovertemplate\": \"Country Code=EA19<br>Country Name=%{x}<br>2013=%{y}<extra></extra>\", \"legendgroup\": \"EA19\", \"marker\": {\"color\": \"#636efa\", \"symbol\": \"circle\"}, \"mode\": \"markers\", \"name\": \"EA19\", \"orientation\": \"v\", \"showlegend\": true, \"type\": \"scatter\", \"x\": [\"Euro Area - 19 countries (from 2015)\"], \"xaxis\": \"x\", \"y\": [5.05], \"yaxis\": \"y\"}, {\"hovertemplate\": \"Country Code=EST<br>Country Name=%{x}<br>2013=%{y}<extra></extra>\", \"legendgroup\": \"EST\", \"marker\": {\"color\": \"#EF553B\", \"symbol\": \"circle\"}, \"mode\": \"markers\", \"name\": \"EST\", \"orientation\": \"v\", \"showlegend\": true, \"type\": \"scatter\", \"x\": [\"Estonia\"], \"xaxis\": \"x\", \"y\": [5.54], \"yaxis\": \"y\"}, {\"hovertemplate\": \"Country Code=GRC<br>Country Name=%{x}<br>2013=%{y}<extra></extra>\", \"legendgroup\": \"GRC\", \"marker\": {\"color\": \"#00cc96\", \"symbol\": \"circle\"}, \"mode\": \"markers\", \"name\": \"GRC\", \"orientation\": \"v\", \"showlegend\": true, \"type\": \"scatter\", \"x\": [\"Greece\"], \"xaxis\": \"x\", \"y\": [6.6], \"yaxis\": \"y\"}, {\"hovertemplate\": \"Country Code=ESP<br>Country Name=%{x}<br>2013=%{y}<extra></extra>\", \"legendgroup\": \"ESP\", \"marker\": {\"color\": \"#ab63fa\", \"symbol\": \"circle\"}, \"mode\": \"markers\", \"name\": \"ESP\", \"orientation\": \"v\", \"showlegend\": true, \"type\": \"scatter\", \"x\": [\"Spain\"], \"xaxis\": \"x\", \"y\": [6.29], \"yaxis\": \"y\"}, {\"hovertemplate\": \"Country Code=EU<br>Country Name=%{x}<br>2013=%{y}<extra></extra>\", \"legendgroup\": \"EU\", \"marker\": {\"color\": \"#FFA15A\", \"symbol\": \"circle\"}, \"mode\": \"markers\", \"name\": \"EU\", \"orientation\": \"v\", \"showlegend\": true, \"type\": \"scatter\", \"x\": [\"European Union\"], \"xaxis\": \"x\", \"y\": [5.0], \"yaxis\": \"y\"}, {\"hovertemplate\": \"Country Code=EU27_2007<br>Country Name=%{x}<br>2013=%{y}<extra></extra>\", \"legendgroup\": \"EU27_2007\", \"marker\": {\"color\": \"#19d3f3\", \"symbol\": \"circle\"}, \"mode\": \"markers\", \"name\": \"EU27_2007\", \"orientation\": \"v\", \"showlegend\": true, \"type\": \"scatter\", \"x\": [\"European Union - 27 countries (from 2007)\"], \"xaxis\": \"x\", \"y\": [5.0], \"yaxis\": \"y\"}, {\"hovertemplate\": \"Country Code=EU27_2020<br>Country Name=%{x}<br>2013=%{y}<extra></extra>\", \"legendgroup\": \"EU27_2020\", \"marker\": {\"color\": \"#FF6692\", \"symbol\": \"circle\"}, \"mode\": \"markers\", \"name\": \"EU27_2020\", \"orientation\": \"v\", \"showlegend\": true, \"type\": \"scatter\", \"x\": [\"European Union - 27 countries (from 2020)\"], \"xaxis\": \"x\", \"y\": [5.05], \"yaxis\": \"y\"}, {\"hovertemplate\": \"Country Code=EU28<br>Country Name=%{x}<br>2013=%{y}<extra></extra>\", \"legendgroup\": \"EU28\", \"marker\": {\"color\": \"#B6E880\", \"symbol\": \"circle\"}, \"mode\": \"markers\", \"name\": \"EU28\", \"orientation\": \"v\", \"showlegend\": true, \"type\": \"scatter\", \"x\": [\"European Union - 28 countries (2013-2020)\"], \"xaxis\": \"x\", \"y\": [5.0], \"yaxis\": \"y\"}, {\"hovertemplate\": \"Country Code=FIN<br>Country Name=%{x}<br>2013=%{y}<extra></extra>\", \"legendgroup\": \"FIN\", \"marker\": {\"color\": \"#FF97FF\", \"symbol\": \"circle\"}, \"mode\": \"markers\", \"name\": \"FIN\", \"orientation\": \"v\", \"showlegend\": true, \"type\": \"scatter\", \"x\": [\"Finland\"], \"xaxis\": \"x\", \"y\": [3.59], \"yaxis\": \"y\"}, {\"hovertemplate\": \"Country Code=FRA<br>Country Name=%{x}<br>2013=%{y}<extra></extra>\", \"legendgroup\": \"FRA\", \"marker\": {\"color\": \"#FECB52\", \"symbol\": \"circle\"}, \"mode\": \"markers\", \"name\": \"FRA\", \"orientation\": \"v\", \"showlegend\": true, \"type\": \"scatter\", \"x\": [\"France\"], \"xaxis\": \"x\", \"y\": [4.48], \"yaxis\": \"y\"}, {\"hovertemplate\": \"Country Code=HRV<br>Country Name=%{x}<br>2013=%{y}<extra></extra>\", \"legendgroup\": \"HRV\", \"marker\": {\"color\": \"#636efa\", \"symbol\": \"circle\"}, \"mode\": \"markers\", \"name\": \"HRV\", \"orientation\": \"v\", \"showlegend\": true, \"type\": \"scatter\", \"x\": [\"Croatia\"], \"xaxis\": \"x\", \"y\": [5.34], \"yaxis\": \"y\"}, {\"hovertemplate\": \"Country Code=HUN<br>Country Name=%{x}<br>2013=%{y}<extra></extra>\", \"legendgroup\": \"HUN\", \"marker\": {\"color\": \"#EF553B\", \"symbol\": \"circle\"}, \"mode\": \"markers\", \"name\": \"HUN\", \"orientation\": \"v\", \"showlegend\": true, \"type\": \"scatter\", \"x\": [\"Hungary\"], \"xaxis\": \"x\", \"y\": [4.29], \"yaxis\": \"y\"}, {\"hovertemplate\": \"Country Code=IRL<br>Country Name=%{x}<br>2013=%{y}<extra></extra>\", \"legendgroup\": \"IRL\", \"marker\": {\"color\": \"#00cc96\", \"symbol\": \"circle\"}, \"mode\": \"markers\", \"name\": \"IRL\", \"orientation\": \"v\", \"showlegend\": true, \"type\": \"scatter\", \"x\": [\"Ireland\"], \"xaxis\": \"x\", \"y\": [4.73], \"yaxis\": \"y\"}, {\"hovertemplate\": \"Country Code=ISL<br>Country Name=%{x}<br>2013=%{y}<extra></extra>\", \"legendgroup\": \"ISL\", \"marker\": {\"color\": \"#ab63fa\", \"symbol\": \"circle\"}, \"mode\": \"markers\", \"name\": \"ISL\", \"orientation\": \"v\", \"showlegend\": true, \"type\": \"scatter\", \"x\": [\"Iceland\"], \"xaxis\": \"x\", \"y\": [3.36], \"yaxis\": \"y\"}, {\"hovertemplate\": \"Country Code=ITA<br>Country Name=%{x}<br>2013=%{y}<extra></extra>\", \"legendgroup\": \"ITA\", \"marker\": {\"color\": \"#FFA15A\", \"symbol\": \"circle\"}, \"mode\": \"markers\", \"name\": \"ITA\", \"orientation\": \"v\", \"showlegend\": true, \"type\": \"scatter\", \"x\": [\"Italy\"], \"xaxis\": \"x\", \"y\": [5.85], \"yaxis\": \"y\"}, {\"hovertemplate\": \"Country Code=LTU<br>Country Name=%{x}<br>2013=%{y}<extra></extra>\", \"legendgroup\": \"LTU\", \"marker\": {\"color\": \"#19d3f3\", \"symbol\": \"circle\"}, \"mode\": \"markers\", \"name\": \"LTU\", \"orientation\": \"v\", \"showlegend\": true, \"type\": \"scatter\", \"x\": [\"Lithuania\"], \"xaxis\": \"x\", \"y\": [6.05], \"yaxis\": \"y\"}, {\"hovertemplate\": \"Country Code=LUX<br>Country Name=%{x}<br>2013=%{y}<extra></extra>\", \"legendgroup\": \"LUX\", \"marker\": {\"color\": \"#FF6692\", \"symbol\": \"circle\"}, \"mode\": \"markers\", \"name\": \"LUX\", \"orientation\": \"v\", \"showlegend\": true, \"type\": \"scatter\", \"x\": [\"Luxembourg\"], \"xaxis\": \"x\", \"y\": [4.59], \"yaxis\": \"y\"}, {\"hovertemplate\": \"Country Code=LVA<br>Country Name=%{x}<br>2013=%{y}<extra></extra>\", \"legendgroup\": \"LVA\", \"marker\": {\"color\": \"#B6E880\", \"symbol\": \"circle\"}, \"mode\": \"markers\", \"name\": \"LVA\", \"orientation\": \"v\", \"showlegend\": true, \"type\": \"scatter\", \"x\": [\"Latvia\"], \"xaxis\": \"x\", \"y\": [6.32], \"yaxis\": \"y\"}, {\"hovertemplate\": \"Country Code=MNE<br>Country Name=%{x}<br>2013=%{y}<extra></extra>\", \"legendgroup\": \"MNE\", \"marker\": {\"color\": \"#FF97FF\", \"symbol\": \"circle\"}, \"mode\": \"markers\", \"name\": \"MNE\", \"orientation\": \"v\", \"showlegend\": true, \"type\": \"scatter\", \"x\": [\"Montenegro\"], \"xaxis\": \"x\", \"y\": [8.54], \"yaxis\": \"y\"}, {\"hovertemplate\": \"Country Code=MKD<br>Country Name=%{x}<br>2013=%{y}<extra></extra>\", \"legendgroup\": \"MKD\", \"marker\": {\"color\": \"#FECB52\", \"symbol\": \"circle\"}, \"mode\": \"markers\", \"name\": \"MKD\", \"orientation\": \"v\", \"showlegend\": true, \"type\": \"scatter\", \"x\": [\"North Macedonia\"], \"xaxis\": \"x\", \"y\": [8.37], \"yaxis\": \"y\"}, {\"hovertemplate\": \"Country Code=MLT<br>Country Name=%{x}<br>2013=%{y}<extra></extra>\", \"legendgroup\": \"MLT\", \"marker\": {\"color\": \"#636efa\", \"symbol\": \"circle\"}, \"mode\": \"markers\", \"name\": \"MLT\", \"orientation\": \"v\", \"showlegend\": true, \"type\": \"scatter\", \"x\": [\"Malta\"], \"xaxis\": \"x\", \"y\": [4.14], \"yaxis\": \"y\"}, {\"hovertemplate\": \"Country Code=NLD<br>Country Name=%{x}<br>2013=%{y}<extra></extra>\", \"legendgroup\": \"NLD\", \"marker\": {\"color\": \"#EF553B\", \"symbol\": \"circle\"}, \"mode\": \"markers\", \"name\": \"NLD\", \"orientation\": \"v\", \"showlegend\": true, \"type\": \"scatter\", \"x\": [\"Netherlands\"], \"xaxis\": \"x\", \"y\": [3.58], \"yaxis\": \"y\"}, {\"hovertemplate\": \"Country Code=NOR<br>Country Name=%{x}<br>2013=%{y}<extra></extra>\", \"legendgroup\": \"NOR\", \"marker\": {\"color\": \"#00cc96\", \"symbol\": \"circle\"}, \"mode\": \"markers\", \"name\": \"NOR\", \"orientation\": \"v\", \"showlegend\": true, \"type\": \"scatter\", \"x\": [\"Norway\"], \"xaxis\": \"x\", \"y\": [3.25], \"yaxis\": \"y\"}, {\"hovertemplate\": \"Country Code=POL<br>Country Name=%{x}<br>2013=%{y}<extra></extra>\", \"legendgroup\": \"POL\", \"marker\": {\"color\": \"#ab63fa\", \"symbol\": \"circle\"}, \"mode\": \"markers\", \"name\": \"POL\", \"orientation\": \"v\", \"showlegend\": true, \"type\": \"scatter\", \"x\": [\"Poland\"], \"xaxis\": \"x\", \"y\": [4.88], \"yaxis\": \"y\"}, {\"hovertemplate\": \"Country Code=PRT<br>Country Name=%{x}<br>2013=%{y}<extra></extra>\", \"legendgroup\": \"PRT\", \"marker\": {\"color\": \"#FFA15A\", \"symbol\": \"circle\"}, \"mode\": \"markers\", \"name\": \"PRT\", \"orientation\": \"v\", \"showlegend\": true, \"type\": \"scatter\", \"x\": [\"Portugal\"], \"xaxis\": \"x\", \"y\": [6.01], \"yaxis\": \"y\"}, {\"hovertemplate\": \"Country Code=ROU<br>Country Name=%{x}<br>2013=%{y}<extra></extra>\", \"legendgroup\": \"ROU\", \"marker\": {\"color\": \"#19d3f3\", \"symbol\": \"circle\"}, \"mode\": \"markers\", \"name\": \"ROU\", \"orientation\": \"v\", \"showlegend\": true, \"type\": \"scatter\", \"x\": [\"Romania\"], \"xaxis\": \"x\", \"y\": [6.83], \"yaxis\": \"y\"}, {\"hovertemplate\": \"Country Code=SRB<br>Country Name=%{x}<br>2013=%{y}<extra></extra>\", \"legendgroup\": \"SRB\", \"marker\": {\"color\": \"#FF6692\", \"symbol\": \"circle\"}, \"mode\": \"markers\", \"name\": \"SRB\", \"orientation\": \"v\", \"showlegend\": true, \"type\": \"scatter\", \"x\": [\"Serbia\"], \"xaxis\": \"x\", \"y\": [8.59], \"yaxis\": \"y\"}, {\"hovertemplate\": \"Country Code=SWE<br>Country Name=%{x}<br>2013=%{y}<extra></extra>\", \"legendgroup\": \"SWE\", \"marker\": {\"color\": \"#B6E880\", \"symbol\": \"circle\"}, \"mode\": \"markers\", \"name\": \"SWE\", \"orientation\": \"v\", \"showlegend\": true, \"type\": \"scatter\", \"x\": [\"Sweden\"], \"xaxis\": \"x\", \"y\": [3.97], \"yaxis\": \"y\"}, {\"hovertemplate\": \"Country Code=SVN<br>Country Name=%{x}<br>2013=%{y}<extra></extra>\", \"legendgroup\": \"SVN\", \"marker\": {\"color\": \"#FF97FF\", \"symbol\": \"circle\"}, \"mode\": \"markers\", \"name\": \"SVN\", \"orientation\": \"v\", \"showlegend\": true, \"type\": \"scatter\", \"x\": [\"Slovenia\"], \"xaxis\": \"x\", \"y\": [3.6], \"yaxis\": \"y\"}, {\"hovertemplate\": \"Country Code=SVK<br>Country Name=%{x}<br>2013=%{y}<extra></extra>\", \"legendgroup\": \"SVK\", \"marker\": {\"color\": \"#FECB52\", \"symbol\": \"circle\"}, \"mode\": \"markers\", \"name\": \"SVK\", \"orientation\": \"v\", \"showlegend\": true, \"type\": \"scatter\", \"x\": [\"Slovakia\"], \"xaxis\": \"x\", \"y\": [3.58], \"yaxis\": \"y\"}, {\"hovertemplate\": \"Country Code=TUR<br>Country Name=%{x}<br>2013=%{y}<extra></extra>\", \"legendgroup\": \"TUR\", \"marker\": {\"color\": \"#636efa\", \"symbol\": \"circle\"}, \"mode\": \"markers\", \"name\": \"TUR\", \"orientation\": \"v\", \"showlegend\": true, \"type\": \"scatter\", \"x\": [\"Turkey\"], \"xaxis\": \"x\", \"y\": [8.7], \"yaxis\": \"y\"}, {\"hovertemplate\": \"Country Code=GBR<br>Country Name=%{x}<br>2013=%{y}<extra></extra>\", \"legendgroup\": \"GBR\", \"marker\": {\"color\": \"#EF553B\", \"symbol\": \"circle\"}, \"mode\": \"markers\", \"name\": \"GBR\", \"orientation\": \"v\", \"showlegend\": true, \"type\": \"scatter\", \"x\": [\"United Kingdom\"], \"xaxis\": \"x\", \"y\": [4.63], \"yaxis\": \"y\"}, {\"hovertemplate\": \"Country Code=XKX<br>Country Name=%{x}<br>2013=%{y}<extra></extra>\", \"legendgroup\": \"XKX\", \"marker\": {\"color\": \"#00cc96\", \"symbol\": \"circle\"}, \"mode\": \"markers\", \"name\": \"XKX\", \"orientation\": \"v\", \"showlegend\": true, \"type\": \"scatter\", \"x\": [\"Kosovo\"], \"xaxis\": \"x\", \"y\": [null], \"yaxis\": \"y\"}],                        {\"legend\": {\"title\": {\"text\": \"Country Code\"}, \"tracegroupgap\": 0}, \"template\": {\"data\": {\"bar\": [{\"error_x\": {\"color\": \"#2a3f5f\"}, \"error_y\": {\"color\": \"#2a3f5f\"}, \"marker\": {\"line\": {\"color\": \"#E5ECF6\", \"width\": 0.5}}, \"type\": \"bar\"}], \"barpolar\": [{\"marker\": {\"line\": {\"color\": \"#E5ECF6\", \"width\": 0.5}}, \"type\": \"barpolar\"}], \"carpet\": [{\"aaxis\": {\"endlinecolor\": \"#2a3f5f\", \"gridcolor\": \"white\", \"linecolor\": \"white\", \"minorgridcolor\": \"white\", \"startlinecolor\": \"#2a3f5f\"}, \"baxis\": {\"endlinecolor\": \"#2a3f5f\", \"gridcolor\": \"white\", \"linecolor\": \"white\", \"minorgridcolor\": \"white\", \"startlinecolor\": \"#2a3f5f\"}, \"type\": \"carpet\"}], \"choropleth\": [{\"colorbar\": {\"outlinewidth\": 0, \"ticks\": \"\"}, \"type\": \"choropleth\"}], \"contour\": [{\"colorbar\": {\"outlinewidth\": 0, \"ticks\": \"\"}, \"colorscale\": [[0.0, \"#0d0887\"], [0.1111111111111111, \"#46039f\"], [0.2222222222222222, \"#7201a8\"], [0.3333333333333333, \"#9c179e\"], [0.4444444444444444, \"#bd3786\"], [0.5555555555555556, \"#d8576b\"], [0.6666666666666666, \"#ed7953\"], [0.7777777777777778, \"#fb9f3a\"], [0.8888888888888888, \"#fdca26\"], [1.0, \"#f0f921\"]], \"type\": \"contour\"}], \"contourcarpet\": [{\"colorbar\": {\"outlinewidth\": 0, \"ticks\": \"\"}, \"type\": \"contourcarpet\"}], \"heatmap\": [{\"colorbar\": {\"outlinewidth\": 0, \"ticks\": \"\"}, \"colorscale\": [[0.0, \"#0d0887\"], [0.1111111111111111, \"#46039f\"], [0.2222222222222222, \"#7201a8\"], [0.3333333333333333, \"#9c179e\"], [0.4444444444444444, \"#bd3786\"], [0.5555555555555556, \"#d8576b\"], [0.6666666666666666, \"#ed7953\"], [0.7777777777777778, \"#fb9f3a\"], [0.8888888888888888, \"#fdca26\"], [1.0, \"#f0f921\"]], \"type\": \"heatmap\"}], \"heatmapgl\": [{\"colorbar\": {\"outlinewidth\": 0, \"ticks\": \"\"}, \"colorscale\": [[0.0, \"#0d0887\"], [0.1111111111111111, \"#46039f\"], [0.2222222222222222, \"#7201a8\"], [0.3333333333333333, \"#9c179e\"], [0.4444444444444444, \"#bd3786\"], [0.5555555555555556, \"#d8576b\"], [0.6666666666666666, \"#ed7953\"], [0.7777777777777778, \"#fb9f3a\"], [0.8888888888888888, \"#fdca26\"], [1.0, \"#f0f921\"]], \"type\": \"heatmapgl\"}], \"histogram\": [{\"marker\": {\"colorbar\": {\"outlinewidth\": 0, \"ticks\": \"\"}}, \"type\": \"histogram\"}], \"histogram2d\": [{\"colorbar\": {\"outlinewidth\": 0, \"ticks\": \"\"}, \"colorscale\": [[0.0, \"#0d0887\"], [0.1111111111111111, \"#46039f\"], [0.2222222222222222, \"#7201a8\"], [0.3333333333333333, \"#9c179e\"], [0.4444444444444444, \"#bd3786\"], [0.5555555555555556, \"#d8576b\"], [0.6666666666666666, \"#ed7953\"], [0.7777777777777778, \"#fb9f3a\"], [0.8888888888888888, \"#fdca26\"], [1.0, \"#f0f921\"]], \"type\": \"histogram2d\"}], \"histogram2dcontour\": [{\"colorbar\": {\"outlinewidth\": 0, \"ticks\": \"\"}, \"colorscale\": [[0.0, \"#0d0887\"], [0.1111111111111111, \"#46039f\"], [0.2222222222222222, \"#7201a8\"], [0.3333333333333333, \"#9c179e\"], [0.4444444444444444, \"#bd3786\"], [0.5555555555555556, \"#d8576b\"], [0.6666666666666666, \"#ed7953\"], [0.7777777777777778, \"#fb9f3a\"], [0.8888888888888888, \"#fdca26\"], [1.0, \"#f0f921\"]], \"type\": \"histogram2dcontour\"}], \"mesh3d\": [{\"colorbar\": {\"outlinewidth\": 0, \"ticks\": \"\"}, \"type\": \"mesh3d\"}], \"parcoords\": [{\"line\": {\"colorbar\": {\"outlinewidth\": 0, \"ticks\": \"\"}}, \"type\": \"parcoords\"}], \"pie\": [{\"automargin\": true, \"type\": \"pie\"}], \"scatter\": [{\"marker\": {\"colorbar\": {\"outlinewidth\": 0, \"ticks\": \"\"}}, \"type\": \"scatter\"}], \"scatter3d\": [{\"line\": {\"colorbar\": {\"outlinewidth\": 0, \"ticks\": \"\"}}, \"marker\": {\"colorbar\": {\"outlinewidth\": 0, \"ticks\": \"\"}}, \"type\": \"scatter3d\"}], \"scattercarpet\": [{\"marker\": {\"colorbar\": {\"outlinewidth\": 0, \"ticks\": \"\"}}, \"type\": \"scattercarpet\"}], \"scattergeo\": [{\"marker\": {\"colorbar\": {\"outlinewidth\": 0, \"ticks\": \"\"}}, \"type\": \"scattergeo\"}], \"scattergl\": [{\"marker\": {\"colorbar\": {\"outlinewidth\": 0, \"ticks\": \"\"}}, \"type\": \"scattergl\"}], \"scattermapbox\": [{\"marker\": {\"colorbar\": {\"outlinewidth\": 0, \"ticks\": \"\"}}, \"type\": \"scattermapbox\"}], \"scatterpolar\": [{\"marker\": {\"colorbar\": {\"outlinewidth\": 0, \"ticks\": \"\"}}, \"type\": \"scatterpolar\"}], \"scatterpolargl\": [{\"marker\": {\"colorbar\": {\"outlinewidth\": 0, \"ticks\": \"\"}}, \"type\": \"scatterpolargl\"}], \"scatterternary\": [{\"marker\": {\"colorbar\": {\"outlinewidth\": 0, \"ticks\": \"\"}}, \"type\": \"scatterternary\"}], \"surface\": [{\"colorbar\": {\"outlinewidth\": 0, \"ticks\": \"\"}, \"colorscale\": [[0.0, \"#0d0887\"], [0.1111111111111111, \"#46039f\"], [0.2222222222222222, \"#7201a8\"], [0.3333333333333333, \"#9c179e\"], [0.4444444444444444, \"#bd3786\"], [0.5555555555555556, \"#d8576b\"], [0.6666666666666666, \"#ed7953\"], [0.7777777777777778, \"#fb9f3a\"], [0.8888888888888888, \"#fdca26\"], [1.0, \"#f0f921\"]], \"type\": \"surface\"}], \"table\": [{\"cells\": {\"fill\": {\"color\": \"#EBF0F8\"}, \"line\": {\"color\": \"white\"}}, \"header\": {\"fill\": {\"color\": \"#C8D4E3\"}, \"line\": {\"color\": \"white\"}}, \"type\": \"table\"}]}, \"layout\": {\"annotationdefaults\": {\"arrowcolor\": \"#2a3f5f\", \"arrowhead\": 0, \"arrowwidth\": 1}, \"autotypenumbers\": \"strict\", \"coloraxis\": {\"colorbar\": {\"outlinewidth\": 0, \"ticks\": \"\"}}, \"colorscale\": {\"diverging\": [[0, \"#8e0152\"], [0.1, \"#c51b7d\"], [0.2, \"#de77ae\"], [0.3, \"#f1b6da\"], [0.4, \"#fde0ef\"], [0.5, \"#f7f7f7\"], [0.6, \"#e6f5d0\"], [0.7, \"#b8e186\"], [0.8, \"#7fbc41\"], [0.9, \"#4d9221\"], [1, \"#276419\"]], \"sequential\": [[0.0, \"#0d0887\"], [0.1111111111111111, \"#46039f\"], [0.2222222222222222, \"#7201a8\"], [0.3333333333333333, \"#9c179e\"], [0.4444444444444444, \"#bd3786\"], [0.5555555555555556, \"#d8576b\"], [0.6666666666666666, \"#ed7953\"], [0.7777777777777778, \"#fb9f3a\"], [0.8888888888888888, \"#fdca26\"], [1.0, \"#f0f921\"]], \"sequentialminus\": [[0.0, \"#0d0887\"], [0.1111111111111111, \"#46039f\"], [0.2222222222222222, \"#7201a8\"], [0.3333333333333333, \"#9c179e\"], [0.4444444444444444, \"#bd3786\"], [0.5555555555555556, \"#d8576b\"], [0.6666666666666666, \"#ed7953\"], [0.7777777777777778, \"#fb9f3a\"], [0.8888888888888888, \"#fdca26\"], [1.0, \"#f0f921\"]]}, \"colorway\": [\"#636efa\", \"#EF553B\", \"#00cc96\", \"#ab63fa\", \"#FFA15A\", \"#19d3f3\", \"#FF6692\", \"#B6E880\", \"#FF97FF\", \"#FECB52\"], \"font\": {\"color\": \"#2a3f5f\"}, \"geo\": {\"bgcolor\": \"white\", \"lakecolor\": \"white\", \"landcolor\": \"#E5ECF6\", \"showlakes\": true, \"showland\": true, \"subunitcolor\": \"white\"}, \"hoverlabel\": {\"align\": \"left\"}, \"hovermode\": \"closest\", \"mapbox\": {\"style\": \"light\"}, \"paper_bgcolor\": \"white\", \"plot_bgcolor\": \"#E5ECF6\", \"polar\": {\"angularaxis\": {\"gridcolor\": \"white\", \"linecolor\": \"white\", \"ticks\": \"\"}, \"bgcolor\": \"#E5ECF6\", \"radialaxis\": {\"gridcolor\": \"white\", \"linecolor\": \"white\", \"ticks\": \"\"}}, \"scene\": {\"xaxis\": {\"backgroundcolor\": \"#E5ECF6\", \"gridcolor\": \"white\", \"gridwidth\": 2, \"linecolor\": \"white\", \"showbackground\": true, \"ticks\": \"\", \"zerolinecolor\": \"white\"}, \"yaxis\": {\"backgroundcolor\": \"#E5ECF6\", \"gridcolor\": \"white\", \"gridwidth\": 2, \"linecolor\": \"white\", \"showbackground\": true, \"ticks\": \"\", \"zerolinecolor\": \"white\"}, \"zaxis\": {\"backgroundcolor\": \"#E5ECF6\", \"gridcolor\": \"white\", \"gridwidth\": 2, \"linecolor\": \"white\", \"showbackground\": true, \"ticks\": \"\", \"zerolinecolor\": \"white\"}}, \"shapedefaults\": {\"line\": {\"color\": \"#2a3f5f\"}}, \"ternary\": {\"aaxis\": {\"gridcolor\": \"white\", \"linecolor\": \"white\", \"ticks\": \"\"}, \"baxis\": {\"gridcolor\": \"white\", \"linecolor\": \"white\", \"ticks\": \"\"}, \"bgcolor\": \"#E5ECF6\", \"caxis\": {\"gridcolor\": \"white\", \"linecolor\": \"white\", \"ticks\": \"\"}}, \"title\": {\"x\": 0.05}, \"xaxis\": {\"automargin\": true, \"gridcolor\": \"white\", \"linecolor\": \"white\", \"ticks\": \"\", \"title\": {\"standoff\": 15}, \"zerolinecolor\": \"white\", \"zerolinewidth\": 2}, \"yaxis\": {\"automargin\": true, \"gridcolor\": \"white\", \"linecolor\": \"white\", \"ticks\": \"\", \"title\": {\"standoff\": 15}, \"zerolinecolor\": \"white\", \"zerolinewidth\": 2}}}, \"title\": {\"text\": \"Income Inequality in 2013\"}, \"xaxis\": {\"anchor\": \"y\", \"domain\": [0.0, 1.0], \"title\": {\"text\": \"Country Name\"}}, \"yaxis\": {\"anchor\": \"x\", \"domain\": [0.0, 1.0], \"title\": {\"text\": \"2013\"}}},                        {\"responsive\": true}                    ).then(function(){\n",
       "                            \n",
       "var gd = document.getElementById('ff4a2e84-7ace-465d-b81d-e0618fe54a27');\n",
       "var x = new MutationObserver(function (mutations, observer) {{\n",
       "        var display = window.getComputedStyle(gd).display;\n",
       "        if (!display || display === 'none') {{\n",
       "            console.log([gd, 'removed!']);\n",
       "            Plotly.purge(gd);\n",
       "            observer.disconnect();\n",
       "        }}\n",
       "}});\n",
       "\n",
       "// Listen for the removal of the full notebook cells\n",
       "var notebookContainer = gd.closest('#notebook-container');\n",
       "if (notebookContainer) {{\n",
       "    x.observe(notebookContainer, {childList: true});\n",
       "}}\n",
       "\n",
       "// Listen for the clearing of the current output cell\n",
       "var outputEl = gd.closest('.output');\n",
       "if (outputEl) {{\n",
       "    x.observe(outputEl, {childList: true});\n",
       "}}\n",
       "\n",
       "                        })                };                });            </script>        </div>"
      ]
     },
     "metadata": {},
     "output_type": "display_data"
    }
   ],
   "source": [
    "# scatter plot for income inequality among EU countries for 2013 (change year to get scatter plot for different years)\n",
    "\n",
    "fig = px.scatter(Inequality_csv, y=\"2013\", x=\"Country Name\", title='Income Inequality in 2013', color = 'Country Code')\n",
    "fig.show()"
   ]
  },
  {
   "cell_type": "code",
   "execution_count": 36,
   "metadata": {},
   "outputs": [],
   "source": [
    "# find max income inequality value for year and use this for to set upper limit for chloropleth colour range\n",
    "\n",
    "year = \"2013\"\n",
    "column = Inequality_csv[year]\n",
    "max_value = column.max()"
   ]
  },
  {
   "cell_type": "code",
   "execution_count": 37,
   "metadata": {},
   "outputs": [
    {
     "data": {
      "application/vnd.plotly.v1+json": {
       "config": {
        "plotlyServerURL": "https://plot.ly"
       },
       "data": [
        {
         "coloraxis": "coloraxis",
         "geo": "geo",
         "hovertemplate": "<b>%{hovertext}</b><br><br>Country Code=%{location}<br>2013=%{z}<extra></extra>",
         "hovertext": [
          "Austria",
          "Belgium",
          "Bulgaria",
          "Switzerland",
          "Cyprus",
          "Czechia",
          "Germany ",
          "Denmark",
          "Euro Area",
          "Euro Area - 18 countries (2014)",
          "Euro Area - 19 countries (from 2015)",
          "Estonia",
          "Greece",
          "Spain",
          "European Union",
          "European Union - 27 countries (from 2007)",
          "European Union - 27 countries (from 2020)",
          "European Union - 28 countries (2013-2020)",
          "Finland",
          "France",
          "Croatia",
          "Hungary",
          "Ireland",
          "Iceland",
          "Italy",
          "Lithuania",
          "Luxembourg",
          "Latvia",
          "Montenegro",
          "North Macedonia",
          "Malta",
          "Netherlands",
          "Norway",
          "Poland",
          "Portugal",
          "Romania",
          "Serbia",
          "Sweden",
          "Slovenia",
          "Slovakia",
          "Turkey",
          "United Kingdom",
          "Kosovo"
         ],
         "locations": [
          "AUT",
          "BEL",
          "BGR",
          "CHE",
          "CYP",
          "CZE",
          "DEU",
          "DNK",
          "EA",
          "EA18",
          "EA19",
          "EST",
          "GRC",
          "ESP",
          "EU",
          "EU27_2007",
          "EU27_2020",
          "EU28",
          "FIN",
          "FRA",
          "HRV",
          "HUN",
          "IRL",
          "ISL",
          "ITA",
          "LTU",
          "LUX",
          "LVA",
          "MNE",
          "MKD",
          "MLT",
          "NLD",
          "NOR",
          "POL",
          "PRT",
          "ROU",
          "SRB",
          "SWE",
          "SVN",
          "SVK",
          "TUR",
          "GBR",
          "XKX"
         ],
         "name": "",
         "type": "choropleth",
         "z": [
          4.11,
          3.81,
          6.59,
          4.22,
          4.91,
          3.4,
          4.6,
          4.01,
          5.04,
          5.04,
          5.05,
          5.54,
          6.6,
          6.29,
          5,
          5,
          5.05,
          5,
          3.59,
          4.48,
          5.34,
          4.29,
          4.73,
          3.36,
          5.85,
          6.05,
          4.59,
          6.32,
          8.54,
          8.37,
          4.14,
          3.58,
          3.25,
          4.88,
          6.01,
          6.83,
          8.59,
          3.97,
          3.6,
          3.58,
          8.7,
          4.63,
          null
         ]
        }
       ],
       "layout": {
        "coloraxis": {
         "cmax": 8.7,
         "cmin": 0,
         "colorbar": {
          "title": {
           "text": "2013"
          }
         },
         "colorscale": [
          [
           0,
           "rgb(36, 86, 104)"
          ],
          [
           0.16666666666666666,
           "rgb(15, 114, 121)"
          ],
          [
           0.3333333333333333,
           "rgb(13, 143, 129)"
          ],
          [
           0.5,
           "rgb(57, 171, 126)"
          ],
          [
           0.6666666666666666,
           "rgb(110, 197, 116)"
          ],
          [
           0.8333333333333334,
           "rgb(169, 220, 103)"
          ],
          [
           1,
           "rgb(237, 239, 93)"
          ]
         ]
        },
        "geo": {
         "center": {},
         "domain": {
          "x": [
           0,
           1
          ],
          "y": [
           0,
           1
          ]
         }
        },
        "legend": {
         "tracegroupgap": 0
        },
        "margin": {
         "t": 60
        },
        "template": {
         "data": {
          "bar": [
           {
            "error_x": {
             "color": "#2a3f5f"
            },
            "error_y": {
             "color": "#2a3f5f"
            },
            "marker": {
             "line": {
              "color": "#E5ECF6",
              "width": 0.5
             }
            },
            "type": "bar"
           }
          ],
          "barpolar": [
           {
            "marker": {
             "line": {
              "color": "#E5ECF6",
              "width": 0.5
             }
            },
            "type": "barpolar"
           }
          ],
          "carpet": [
           {
            "aaxis": {
             "endlinecolor": "#2a3f5f",
             "gridcolor": "white",
             "linecolor": "white",
             "minorgridcolor": "white",
             "startlinecolor": "#2a3f5f"
            },
            "baxis": {
             "endlinecolor": "#2a3f5f",
             "gridcolor": "white",
             "linecolor": "white",
             "minorgridcolor": "white",
             "startlinecolor": "#2a3f5f"
            },
            "type": "carpet"
           }
          ],
          "choropleth": [
           {
            "colorbar": {
             "outlinewidth": 0,
             "ticks": ""
            },
            "type": "choropleth"
           }
          ],
          "contour": [
           {
            "colorbar": {
             "outlinewidth": 0,
             "ticks": ""
            },
            "colorscale": [
             [
              0,
              "#0d0887"
             ],
             [
              0.1111111111111111,
              "#46039f"
             ],
             [
              0.2222222222222222,
              "#7201a8"
             ],
             [
              0.3333333333333333,
              "#9c179e"
             ],
             [
              0.4444444444444444,
              "#bd3786"
             ],
             [
              0.5555555555555556,
              "#d8576b"
             ],
             [
              0.6666666666666666,
              "#ed7953"
             ],
             [
              0.7777777777777778,
              "#fb9f3a"
             ],
             [
              0.8888888888888888,
              "#fdca26"
             ],
             [
              1,
              "#f0f921"
             ]
            ],
            "type": "contour"
           }
          ],
          "contourcarpet": [
           {
            "colorbar": {
             "outlinewidth": 0,
             "ticks": ""
            },
            "type": "contourcarpet"
           }
          ],
          "heatmap": [
           {
            "colorbar": {
             "outlinewidth": 0,
             "ticks": ""
            },
            "colorscale": [
             [
              0,
              "#0d0887"
             ],
             [
              0.1111111111111111,
              "#46039f"
             ],
             [
              0.2222222222222222,
              "#7201a8"
             ],
             [
              0.3333333333333333,
              "#9c179e"
             ],
             [
              0.4444444444444444,
              "#bd3786"
             ],
             [
              0.5555555555555556,
              "#d8576b"
             ],
             [
              0.6666666666666666,
              "#ed7953"
             ],
             [
              0.7777777777777778,
              "#fb9f3a"
             ],
             [
              0.8888888888888888,
              "#fdca26"
             ],
             [
              1,
              "#f0f921"
             ]
            ],
            "type": "heatmap"
           }
          ],
          "heatmapgl": [
           {
            "colorbar": {
             "outlinewidth": 0,
             "ticks": ""
            },
            "colorscale": [
             [
              0,
              "#0d0887"
             ],
             [
              0.1111111111111111,
              "#46039f"
             ],
             [
              0.2222222222222222,
              "#7201a8"
             ],
             [
              0.3333333333333333,
              "#9c179e"
             ],
             [
              0.4444444444444444,
              "#bd3786"
             ],
             [
              0.5555555555555556,
              "#d8576b"
             ],
             [
              0.6666666666666666,
              "#ed7953"
             ],
             [
              0.7777777777777778,
              "#fb9f3a"
             ],
             [
              0.8888888888888888,
              "#fdca26"
             ],
             [
              1,
              "#f0f921"
             ]
            ],
            "type": "heatmapgl"
           }
          ],
          "histogram": [
           {
            "marker": {
             "colorbar": {
              "outlinewidth": 0,
              "ticks": ""
             }
            },
            "type": "histogram"
           }
          ],
          "histogram2d": [
           {
            "colorbar": {
             "outlinewidth": 0,
             "ticks": ""
            },
            "colorscale": [
             [
              0,
              "#0d0887"
             ],
             [
              0.1111111111111111,
              "#46039f"
             ],
             [
              0.2222222222222222,
              "#7201a8"
             ],
             [
              0.3333333333333333,
              "#9c179e"
             ],
             [
              0.4444444444444444,
              "#bd3786"
             ],
             [
              0.5555555555555556,
              "#d8576b"
             ],
             [
              0.6666666666666666,
              "#ed7953"
             ],
             [
              0.7777777777777778,
              "#fb9f3a"
             ],
             [
              0.8888888888888888,
              "#fdca26"
             ],
             [
              1,
              "#f0f921"
             ]
            ],
            "type": "histogram2d"
           }
          ],
          "histogram2dcontour": [
           {
            "colorbar": {
             "outlinewidth": 0,
             "ticks": ""
            },
            "colorscale": [
             [
              0,
              "#0d0887"
             ],
             [
              0.1111111111111111,
              "#46039f"
             ],
             [
              0.2222222222222222,
              "#7201a8"
             ],
             [
              0.3333333333333333,
              "#9c179e"
             ],
             [
              0.4444444444444444,
              "#bd3786"
             ],
             [
              0.5555555555555556,
              "#d8576b"
             ],
             [
              0.6666666666666666,
              "#ed7953"
             ],
             [
              0.7777777777777778,
              "#fb9f3a"
             ],
             [
              0.8888888888888888,
              "#fdca26"
             ],
             [
              1,
              "#f0f921"
             ]
            ],
            "type": "histogram2dcontour"
           }
          ],
          "mesh3d": [
           {
            "colorbar": {
             "outlinewidth": 0,
             "ticks": ""
            },
            "type": "mesh3d"
           }
          ],
          "parcoords": [
           {
            "line": {
             "colorbar": {
              "outlinewidth": 0,
              "ticks": ""
             }
            },
            "type": "parcoords"
           }
          ],
          "pie": [
           {
            "automargin": true,
            "type": "pie"
           }
          ],
          "scatter": [
           {
            "marker": {
             "colorbar": {
              "outlinewidth": 0,
              "ticks": ""
             }
            },
            "type": "scatter"
           }
          ],
          "scatter3d": [
           {
            "line": {
             "colorbar": {
              "outlinewidth": 0,
              "ticks": ""
             }
            },
            "marker": {
             "colorbar": {
              "outlinewidth": 0,
              "ticks": ""
             }
            },
            "type": "scatter3d"
           }
          ],
          "scattercarpet": [
           {
            "marker": {
             "colorbar": {
              "outlinewidth": 0,
              "ticks": ""
             }
            },
            "type": "scattercarpet"
           }
          ],
          "scattergeo": [
           {
            "marker": {
             "colorbar": {
              "outlinewidth": 0,
              "ticks": ""
             }
            },
            "type": "scattergeo"
           }
          ],
          "scattergl": [
           {
            "marker": {
             "colorbar": {
              "outlinewidth": 0,
              "ticks": ""
             }
            },
            "type": "scattergl"
           }
          ],
          "scattermapbox": [
           {
            "marker": {
             "colorbar": {
              "outlinewidth": 0,
              "ticks": ""
             }
            },
            "type": "scattermapbox"
           }
          ],
          "scatterpolar": [
           {
            "marker": {
             "colorbar": {
              "outlinewidth": 0,
              "ticks": ""
             }
            },
            "type": "scatterpolar"
           }
          ],
          "scatterpolargl": [
           {
            "marker": {
             "colorbar": {
              "outlinewidth": 0,
              "ticks": ""
             }
            },
            "type": "scatterpolargl"
           }
          ],
          "scatterternary": [
           {
            "marker": {
             "colorbar": {
              "outlinewidth": 0,
              "ticks": ""
             }
            },
            "type": "scatterternary"
           }
          ],
          "surface": [
           {
            "colorbar": {
             "outlinewidth": 0,
             "ticks": ""
            },
            "colorscale": [
             [
              0,
              "#0d0887"
             ],
             [
              0.1111111111111111,
              "#46039f"
             ],
             [
              0.2222222222222222,
              "#7201a8"
             ],
             [
              0.3333333333333333,
              "#9c179e"
             ],
             [
              0.4444444444444444,
              "#bd3786"
             ],
             [
              0.5555555555555556,
              "#d8576b"
             ],
             [
              0.6666666666666666,
              "#ed7953"
             ],
             [
              0.7777777777777778,
              "#fb9f3a"
             ],
             [
              0.8888888888888888,
              "#fdca26"
             ],
             [
              1,
              "#f0f921"
             ]
            ],
            "type": "surface"
           }
          ],
          "table": [
           {
            "cells": {
             "fill": {
              "color": "#EBF0F8"
             },
             "line": {
              "color": "white"
             }
            },
            "header": {
             "fill": {
              "color": "#C8D4E3"
             },
             "line": {
              "color": "white"
             }
            },
            "type": "table"
           }
          ]
         },
         "layout": {
          "annotationdefaults": {
           "arrowcolor": "#2a3f5f",
           "arrowhead": 0,
           "arrowwidth": 1
          },
          "autotypenumbers": "strict",
          "coloraxis": {
           "colorbar": {
            "outlinewidth": 0,
            "ticks": ""
           }
          },
          "colorscale": {
           "diverging": [
            [
             0,
             "#8e0152"
            ],
            [
             0.1,
             "#c51b7d"
            ],
            [
             0.2,
             "#de77ae"
            ],
            [
             0.3,
             "#f1b6da"
            ],
            [
             0.4,
             "#fde0ef"
            ],
            [
             0.5,
             "#f7f7f7"
            ],
            [
             0.6,
             "#e6f5d0"
            ],
            [
             0.7,
             "#b8e186"
            ],
            [
             0.8,
             "#7fbc41"
            ],
            [
             0.9,
             "#4d9221"
            ],
            [
             1,
             "#276419"
            ]
           ],
           "sequential": [
            [
             0,
             "#0d0887"
            ],
            [
             0.1111111111111111,
             "#46039f"
            ],
            [
             0.2222222222222222,
             "#7201a8"
            ],
            [
             0.3333333333333333,
             "#9c179e"
            ],
            [
             0.4444444444444444,
             "#bd3786"
            ],
            [
             0.5555555555555556,
             "#d8576b"
            ],
            [
             0.6666666666666666,
             "#ed7953"
            ],
            [
             0.7777777777777778,
             "#fb9f3a"
            ],
            [
             0.8888888888888888,
             "#fdca26"
            ],
            [
             1,
             "#f0f921"
            ]
           ],
           "sequentialminus": [
            [
             0,
             "#0d0887"
            ],
            [
             0.1111111111111111,
             "#46039f"
            ],
            [
             0.2222222222222222,
             "#7201a8"
            ],
            [
             0.3333333333333333,
             "#9c179e"
            ],
            [
             0.4444444444444444,
             "#bd3786"
            ],
            [
             0.5555555555555556,
             "#d8576b"
            ],
            [
             0.6666666666666666,
             "#ed7953"
            ],
            [
             0.7777777777777778,
             "#fb9f3a"
            ],
            [
             0.8888888888888888,
             "#fdca26"
            ],
            [
             1,
             "#f0f921"
            ]
           ]
          },
          "colorway": [
           "#636efa",
           "#EF553B",
           "#00cc96",
           "#ab63fa",
           "#FFA15A",
           "#19d3f3",
           "#FF6692",
           "#B6E880",
           "#FF97FF",
           "#FECB52"
          ],
          "font": {
           "color": "#2a3f5f"
          },
          "geo": {
           "bgcolor": "white",
           "lakecolor": "white",
           "landcolor": "#E5ECF6",
           "showlakes": true,
           "showland": true,
           "subunitcolor": "white"
          },
          "hoverlabel": {
           "align": "left"
          },
          "hovermode": "closest",
          "mapbox": {
           "style": "light"
          },
          "paper_bgcolor": "white",
          "plot_bgcolor": "#E5ECF6",
          "polar": {
           "angularaxis": {
            "gridcolor": "white",
            "linecolor": "white",
            "ticks": ""
           },
           "bgcolor": "#E5ECF6",
           "radialaxis": {
            "gridcolor": "white",
            "linecolor": "white",
            "ticks": ""
           }
          },
          "scene": {
           "xaxis": {
            "backgroundcolor": "#E5ECF6",
            "gridcolor": "white",
            "gridwidth": 2,
            "linecolor": "white",
            "showbackground": true,
            "ticks": "",
            "zerolinecolor": "white"
           },
           "yaxis": {
            "backgroundcolor": "#E5ECF6",
            "gridcolor": "white",
            "gridwidth": 2,
            "linecolor": "white",
            "showbackground": true,
            "ticks": "",
            "zerolinecolor": "white"
           },
           "zaxis": {
            "backgroundcolor": "#E5ECF6",
            "gridcolor": "white",
            "gridwidth": 2,
            "linecolor": "white",
            "showbackground": true,
            "ticks": "",
            "zerolinecolor": "white"
           }
          },
          "shapedefaults": {
           "line": {
            "color": "#2a3f5f"
           }
          },
          "ternary": {
           "aaxis": {
            "gridcolor": "white",
            "linecolor": "white",
            "ticks": ""
           },
           "baxis": {
            "gridcolor": "white",
            "linecolor": "white",
            "ticks": ""
           },
           "bgcolor": "#E5ECF6",
           "caxis": {
            "gridcolor": "white",
            "linecolor": "white",
            "ticks": ""
           }
          },
          "title": {
           "x": 0.05
          },
          "xaxis": {
           "automargin": true,
           "gridcolor": "white",
           "linecolor": "white",
           "ticks": "",
           "title": {
            "standoff": 15
           },
           "zerolinecolor": "white",
           "zerolinewidth": 2
          },
          "yaxis": {
           "automargin": true,
           "gridcolor": "white",
           "linecolor": "white",
           "ticks": "",
           "title": {
            "standoff": 15
           },
           "zerolinecolor": "white",
           "zerolinewidth": 2
          }
         }
        },
        "title": {
         "text": "Income Inequality in 2013"
        }
       }
      },
      "text/html": [
       "<div>                            <div id=\"41e93576-b8c8-4271-aaf4-13090fa31fcb\" class=\"plotly-graph-div\" style=\"height:525px; width:100%;\"></div>            <script type=\"text/javascript\">                require([\"plotly\"], function(Plotly) {                    window.PLOTLYENV=window.PLOTLYENV || {};                                    if (document.getElementById(\"41e93576-b8c8-4271-aaf4-13090fa31fcb\")) {                    Plotly.newPlot(                        \"41e93576-b8c8-4271-aaf4-13090fa31fcb\",                        [{\"coloraxis\": \"coloraxis\", \"geo\": \"geo\", \"hovertemplate\": \"<b>%{hovertext}</b><br><br>Country Code=%{location}<br>2013=%{z}<extra></extra>\", \"hovertext\": [\"Austria\", \"Belgium\", \"Bulgaria\", \"Switzerland\", \"Cyprus\", \"Czechia\", \"Germany \", \"Denmark\", \"Euro Area\", \"Euro Area - 18 countries (2014)\", \"Euro Area - 19 countries (from 2015)\", \"Estonia\", \"Greece\", \"Spain\", \"European Union\", \"European Union - 27 countries (from 2007)\", \"European Union - 27 countries (from 2020)\", \"European Union - 28 countries (2013-2020)\", \"Finland\", \"France\", \"Croatia\", \"Hungary\", \"Ireland\", \"Iceland\", \"Italy\", \"Lithuania\", \"Luxembourg\", \"Latvia\", \"Montenegro\", \"North Macedonia\", \"Malta\", \"Netherlands\", \"Norway\", \"Poland\", \"Portugal\", \"Romania\", \"Serbia\", \"Sweden\", \"Slovenia\", \"Slovakia\", \"Turkey\", \"United Kingdom\", \"Kosovo\"], \"locations\": [\"AUT\", \"BEL\", \"BGR\", \"CHE\", \"CYP\", \"CZE\", \"DEU\", \"DNK\", \"EA\", \"EA18\", \"EA19\", \"EST\", \"GRC\", \"ESP\", \"EU\", \"EU27_2007\", \"EU27_2020\", \"EU28\", \"FIN\", \"FRA\", \"HRV\", \"HUN\", \"IRL\", \"ISL\", \"ITA\", \"LTU\", \"LUX\", \"LVA\", \"MNE\", \"MKD\", \"MLT\", \"NLD\", \"NOR\", \"POL\", \"PRT\", \"ROU\", \"SRB\", \"SWE\", \"SVN\", \"SVK\", \"TUR\", \"GBR\", \"XKX\"], \"name\": \"\", \"type\": \"choropleth\", \"z\": [4.11, 3.81, 6.59, 4.22, 4.91, 3.4, 4.6, 4.01, 5.04, 5.04, 5.05, 5.54, 6.6, 6.29, 5.0, 5.0, 5.05, 5.0, 3.59, 4.48, 5.34, 4.29, 4.73, 3.36, 5.85, 6.05, 4.59, 6.32, 8.54, 8.37, 4.14, 3.58, 3.25, 4.88, 6.01, 6.83, 8.59, 3.97, 3.6, 3.58, 8.7, 4.63, null]}],                        {\"coloraxis\": {\"cmax\": 8.7, \"cmin\": 0, \"colorbar\": {\"title\": {\"text\": \"2013\"}}, \"colorscale\": [[0.0, \"rgb(36, 86, 104)\"], [0.16666666666666666, \"rgb(15, 114, 121)\"], [0.3333333333333333, \"rgb(13, 143, 129)\"], [0.5, \"rgb(57, 171, 126)\"], [0.6666666666666666, \"rgb(110, 197, 116)\"], [0.8333333333333334, \"rgb(169, 220, 103)\"], [1.0, \"rgb(237, 239, 93)\"]]}, \"geo\": {\"center\": {}, \"domain\": {\"x\": [0.0, 1.0], \"y\": [0.0, 1.0]}}, \"legend\": {\"tracegroupgap\": 0}, \"margin\": {\"t\": 60}, \"template\": {\"data\": {\"bar\": [{\"error_x\": {\"color\": \"#2a3f5f\"}, \"error_y\": {\"color\": \"#2a3f5f\"}, \"marker\": {\"line\": {\"color\": \"#E5ECF6\", \"width\": 0.5}}, \"type\": \"bar\"}], \"barpolar\": [{\"marker\": {\"line\": {\"color\": \"#E5ECF6\", \"width\": 0.5}}, \"type\": \"barpolar\"}], \"carpet\": [{\"aaxis\": {\"endlinecolor\": \"#2a3f5f\", \"gridcolor\": \"white\", \"linecolor\": \"white\", \"minorgridcolor\": \"white\", \"startlinecolor\": \"#2a3f5f\"}, \"baxis\": {\"endlinecolor\": \"#2a3f5f\", \"gridcolor\": \"white\", \"linecolor\": \"white\", \"minorgridcolor\": \"white\", \"startlinecolor\": \"#2a3f5f\"}, \"type\": \"carpet\"}], \"choropleth\": [{\"colorbar\": {\"outlinewidth\": 0, \"ticks\": \"\"}, \"type\": \"choropleth\"}], \"contour\": [{\"colorbar\": {\"outlinewidth\": 0, \"ticks\": \"\"}, \"colorscale\": [[0.0, \"#0d0887\"], [0.1111111111111111, \"#46039f\"], [0.2222222222222222, \"#7201a8\"], [0.3333333333333333, \"#9c179e\"], [0.4444444444444444, \"#bd3786\"], [0.5555555555555556, \"#d8576b\"], [0.6666666666666666, \"#ed7953\"], [0.7777777777777778, \"#fb9f3a\"], [0.8888888888888888, \"#fdca26\"], [1.0, \"#f0f921\"]], \"type\": \"contour\"}], \"contourcarpet\": [{\"colorbar\": {\"outlinewidth\": 0, \"ticks\": \"\"}, \"type\": \"contourcarpet\"}], \"heatmap\": [{\"colorbar\": {\"outlinewidth\": 0, \"ticks\": \"\"}, \"colorscale\": [[0.0, \"#0d0887\"], [0.1111111111111111, \"#46039f\"], [0.2222222222222222, \"#7201a8\"], [0.3333333333333333, \"#9c179e\"], [0.4444444444444444, \"#bd3786\"], [0.5555555555555556, \"#d8576b\"], [0.6666666666666666, \"#ed7953\"], [0.7777777777777778, \"#fb9f3a\"], [0.8888888888888888, \"#fdca26\"], [1.0, \"#f0f921\"]], \"type\": \"heatmap\"}], \"heatmapgl\": [{\"colorbar\": {\"outlinewidth\": 0, \"ticks\": \"\"}, \"colorscale\": [[0.0, \"#0d0887\"], [0.1111111111111111, \"#46039f\"], [0.2222222222222222, \"#7201a8\"], [0.3333333333333333, \"#9c179e\"], [0.4444444444444444, \"#bd3786\"], [0.5555555555555556, \"#d8576b\"], [0.6666666666666666, \"#ed7953\"], [0.7777777777777778, \"#fb9f3a\"], [0.8888888888888888, \"#fdca26\"], [1.0, \"#f0f921\"]], \"type\": \"heatmapgl\"}], \"histogram\": [{\"marker\": {\"colorbar\": {\"outlinewidth\": 0, \"ticks\": \"\"}}, \"type\": \"histogram\"}], \"histogram2d\": [{\"colorbar\": {\"outlinewidth\": 0, \"ticks\": \"\"}, \"colorscale\": [[0.0, \"#0d0887\"], [0.1111111111111111, \"#46039f\"], [0.2222222222222222, \"#7201a8\"], [0.3333333333333333, \"#9c179e\"], [0.4444444444444444, \"#bd3786\"], [0.5555555555555556, \"#d8576b\"], [0.6666666666666666, \"#ed7953\"], [0.7777777777777778, \"#fb9f3a\"], [0.8888888888888888, \"#fdca26\"], [1.0, \"#f0f921\"]], \"type\": \"histogram2d\"}], \"histogram2dcontour\": [{\"colorbar\": {\"outlinewidth\": 0, \"ticks\": \"\"}, \"colorscale\": [[0.0, \"#0d0887\"], [0.1111111111111111, \"#46039f\"], [0.2222222222222222, \"#7201a8\"], [0.3333333333333333, \"#9c179e\"], [0.4444444444444444, \"#bd3786\"], [0.5555555555555556, \"#d8576b\"], [0.6666666666666666, \"#ed7953\"], [0.7777777777777778, \"#fb9f3a\"], [0.8888888888888888, \"#fdca26\"], [1.0, \"#f0f921\"]], \"type\": \"histogram2dcontour\"}], \"mesh3d\": [{\"colorbar\": {\"outlinewidth\": 0, \"ticks\": \"\"}, \"type\": \"mesh3d\"}], \"parcoords\": [{\"line\": {\"colorbar\": {\"outlinewidth\": 0, \"ticks\": \"\"}}, \"type\": \"parcoords\"}], \"pie\": [{\"automargin\": true, \"type\": \"pie\"}], \"scatter\": [{\"marker\": {\"colorbar\": {\"outlinewidth\": 0, \"ticks\": \"\"}}, \"type\": \"scatter\"}], \"scatter3d\": [{\"line\": {\"colorbar\": {\"outlinewidth\": 0, \"ticks\": \"\"}}, \"marker\": {\"colorbar\": {\"outlinewidth\": 0, \"ticks\": \"\"}}, \"type\": \"scatter3d\"}], \"scattercarpet\": [{\"marker\": {\"colorbar\": {\"outlinewidth\": 0, \"ticks\": \"\"}}, \"type\": \"scattercarpet\"}], \"scattergeo\": [{\"marker\": {\"colorbar\": {\"outlinewidth\": 0, \"ticks\": \"\"}}, \"type\": \"scattergeo\"}], \"scattergl\": [{\"marker\": {\"colorbar\": {\"outlinewidth\": 0, \"ticks\": \"\"}}, \"type\": \"scattergl\"}], \"scattermapbox\": [{\"marker\": {\"colorbar\": {\"outlinewidth\": 0, \"ticks\": \"\"}}, \"type\": \"scattermapbox\"}], \"scatterpolar\": [{\"marker\": {\"colorbar\": {\"outlinewidth\": 0, \"ticks\": \"\"}}, \"type\": \"scatterpolar\"}], \"scatterpolargl\": [{\"marker\": {\"colorbar\": {\"outlinewidth\": 0, \"ticks\": \"\"}}, \"type\": \"scatterpolargl\"}], \"scatterternary\": [{\"marker\": {\"colorbar\": {\"outlinewidth\": 0, \"ticks\": \"\"}}, \"type\": \"scatterternary\"}], \"surface\": [{\"colorbar\": {\"outlinewidth\": 0, \"ticks\": \"\"}, \"colorscale\": [[0.0, \"#0d0887\"], [0.1111111111111111, \"#46039f\"], [0.2222222222222222, \"#7201a8\"], [0.3333333333333333, \"#9c179e\"], [0.4444444444444444, \"#bd3786\"], [0.5555555555555556, \"#d8576b\"], [0.6666666666666666, \"#ed7953\"], [0.7777777777777778, \"#fb9f3a\"], [0.8888888888888888, \"#fdca26\"], [1.0, \"#f0f921\"]], \"type\": \"surface\"}], \"table\": [{\"cells\": {\"fill\": {\"color\": \"#EBF0F8\"}, \"line\": {\"color\": \"white\"}}, \"header\": {\"fill\": {\"color\": \"#C8D4E3\"}, \"line\": {\"color\": \"white\"}}, \"type\": \"table\"}]}, \"layout\": {\"annotationdefaults\": {\"arrowcolor\": \"#2a3f5f\", \"arrowhead\": 0, \"arrowwidth\": 1}, \"autotypenumbers\": \"strict\", \"coloraxis\": {\"colorbar\": {\"outlinewidth\": 0, \"ticks\": \"\"}}, \"colorscale\": {\"diverging\": [[0, \"#8e0152\"], [0.1, \"#c51b7d\"], [0.2, \"#de77ae\"], [0.3, \"#f1b6da\"], [0.4, \"#fde0ef\"], [0.5, \"#f7f7f7\"], [0.6, \"#e6f5d0\"], [0.7, \"#b8e186\"], [0.8, \"#7fbc41\"], [0.9, \"#4d9221\"], [1, \"#276419\"]], \"sequential\": [[0.0, \"#0d0887\"], [0.1111111111111111, \"#46039f\"], [0.2222222222222222, \"#7201a8\"], [0.3333333333333333, \"#9c179e\"], [0.4444444444444444, \"#bd3786\"], [0.5555555555555556, \"#d8576b\"], [0.6666666666666666, \"#ed7953\"], [0.7777777777777778, \"#fb9f3a\"], [0.8888888888888888, \"#fdca26\"], [1.0, \"#f0f921\"]], \"sequentialminus\": [[0.0, \"#0d0887\"], [0.1111111111111111, \"#46039f\"], [0.2222222222222222, \"#7201a8\"], [0.3333333333333333, \"#9c179e\"], [0.4444444444444444, \"#bd3786\"], [0.5555555555555556, \"#d8576b\"], [0.6666666666666666, \"#ed7953\"], [0.7777777777777778, \"#fb9f3a\"], [0.8888888888888888, \"#fdca26\"], [1.0, \"#f0f921\"]]}, \"colorway\": [\"#636efa\", \"#EF553B\", \"#00cc96\", \"#ab63fa\", \"#FFA15A\", \"#19d3f3\", \"#FF6692\", \"#B6E880\", \"#FF97FF\", \"#FECB52\"], \"font\": {\"color\": \"#2a3f5f\"}, \"geo\": {\"bgcolor\": \"white\", \"lakecolor\": \"white\", \"landcolor\": \"#E5ECF6\", \"showlakes\": true, \"showland\": true, \"subunitcolor\": \"white\"}, \"hoverlabel\": {\"align\": \"left\"}, \"hovermode\": \"closest\", \"mapbox\": {\"style\": \"light\"}, \"paper_bgcolor\": \"white\", \"plot_bgcolor\": \"#E5ECF6\", \"polar\": {\"angularaxis\": {\"gridcolor\": \"white\", \"linecolor\": \"white\", \"ticks\": \"\"}, \"bgcolor\": \"#E5ECF6\", \"radialaxis\": {\"gridcolor\": \"white\", \"linecolor\": \"white\", \"ticks\": \"\"}}, \"scene\": {\"xaxis\": {\"backgroundcolor\": \"#E5ECF6\", \"gridcolor\": \"white\", \"gridwidth\": 2, \"linecolor\": \"white\", \"showbackground\": true, \"ticks\": \"\", \"zerolinecolor\": \"white\"}, \"yaxis\": {\"backgroundcolor\": \"#E5ECF6\", \"gridcolor\": \"white\", \"gridwidth\": 2, \"linecolor\": \"white\", \"showbackground\": true, \"ticks\": \"\", \"zerolinecolor\": \"white\"}, \"zaxis\": {\"backgroundcolor\": \"#E5ECF6\", \"gridcolor\": \"white\", \"gridwidth\": 2, \"linecolor\": \"white\", \"showbackground\": true, \"ticks\": \"\", \"zerolinecolor\": \"white\"}}, \"shapedefaults\": {\"line\": {\"color\": \"#2a3f5f\"}}, \"ternary\": {\"aaxis\": {\"gridcolor\": \"white\", \"linecolor\": \"white\", \"ticks\": \"\"}, \"baxis\": {\"gridcolor\": \"white\", \"linecolor\": \"white\", \"ticks\": \"\"}, \"bgcolor\": \"#E5ECF6\", \"caxis\": {\"gridcolor\": \"white\", \"linecolor\": \"white\", \"ticks\": \"\"}}, \"title\": {\"x\": 0.05}, \"xaxis\": {\"automargin\": true, \"gridcolor\": \"white\", \"linecolor\": \"white\", \"ticks\": \"\", \"title\": {\"standoff\": 15}, \"zerolinecolor\": \"white\", \"zerolinewidth\": 2}, \"yaxis\": {\"automargin\": true, \"gridcolor\": \"white\", \"linecolor\": \"white\", \"ticks\": \"\", \"title\": {\"standoff\": 15}, \"zerolinecolor\": \"white\", \"zerolinewidth\": 2}}}, \"title\": {\"text\": \"Income Inequality in 2013\"}},                        {\"responsive\": true}                    ).then(function(){\n",
       "                            \n",
       "var gd = document.getElementById('41e93576-b8c8-4271-aaf4-13090fa31fcb');\n",
       "var x = new MutationObserver(function (mutations, observer) {{\n",
       "        var display = window.getComputedStyle(gd).display;\n",
       "        if (!display || display === 'none') {{\n",
       "            console.log([gd, 'removed!']);\n",
       "            Plotly.purge(gd);\n",
       "            observer.disconnect();\n",
       "        }}\n",
       "}});\n",
       "\n",
       "// Listen for the removal of the full notebook cells\n",
       "var notebookContainer = gd.closest('#notebook-container');\n",
       "if (notebookContainer) {{\n",
       "    x.observe(notebookContainer, {childList: true});\n",
       "}}\n",
       "\n",
       "// Listen for the clearing of the current output cell\n",
       "var outputEl = gd.closest('.output');\n",
       "if (outputEl) {{\n",
       "    x.observe(outputEl, {childList: true});\n",
       "}}\n",
       "\n",
       "                        })                };                });            </script>        </div>"
      ]
     },
     "metadata": {},
     "output_type": "display_data"
    }
   ],
   "source": [
    "# create choloropleth figure for income inequality in 2013 (change year value for different years)\n",
    "\n",
    "fig = px.choropleth(Inequality_csv, # dataset to use\n",
    "                    locations = Inequality_csv[\"Country Code\"], # column which includes 3 letter country code\n",
    "                    color = Inequality_csv[year], # column which dictates the colour of the map\n",
    "                    hover_name = Inequality_csv[\"Country Name\"], # column to add to hover information\n",
    "                    range_color=(0, max_value), # range of the colour scale\n",
    "                    color_continuous_scale = \"aggrnyl\") # colour scale (these can be predefined or you can create your own)\n",
    "    \n",
    "fig.update_layout(\n",
    "    title_text = 'Income Inequality in 2013',\n",
    "#    geo_scope='europe', # limite map scope to USA\n",
    ")\n",
    "    \n",
    "fig.show()"
   ]
  },
  {
   "cell_type": "code",
   "execution_count": 38,
   "metadata": {
    "scrolled": true
   },
   "outputs": [],
   "source": [
    "df = Inequality_csv.melt(id_vars=[\"Country Name\",\t\"Country Code\"], \n",
    "        var_name=\"Year\", \n",
    "        value_name=\"Income Inequality\")"
   ]
  },
  {
   "cell_type": "code",
   "execution_count": 39,
   "metadata": {},
   "outputs": [
    {
     "data": {
      "text/html": [
       "<div>\n",
       "<style scoped>\n",
       "    .dataframe tbody tr th:only-of-type {\n",
       "        vertical-align: middle;\n",
       "    }\n",
       "\n",
       "    .dataframe tbody tr th {\n",
       "        vertical-align: top;\n",
       "    }\n",
       "\n",
       "    .dataframe thead th {\n",
       "        text-align: right;\n",
       "    }\n",
       "</style>\n",
       "<table border=\"1\" class=\"dataframe\">\n",
       "  <thead>\n",
       "    <tr style=\"text-align: right;\">\n",
       "      <th></th>\n",
       "      <th>Country Name</th>\n",
       "      <th>Country Code</th>\n",
       "      <th>Year</th>\n",
       "      <th>Income Inequality</th>\n",
       "    </tr>\n",
       "  </thead>\n",
       "  <tbody>\n",
       "    <tr>\n",
       "      <th>0</th>\n",
       "      <td>Austria</td>\n",
       "      <td>AUT</td>\n",
       "      <td>2009</td>\n",
       "      <td>4.15</td>\n",
       "    </tr>\n",
       "    <tr>\n",
       "      <th>1</th>\n",
       "      <td>Belgium</td>\n",
       "      <td>BEL</td>\n",
       "      <td>2009</td>\n",
       "      <td>3.91</td>\n",
       "    </tr>\n",
       "    <tr>\n",
       "      <th>2</th>\n",
       "      <td>Bulgaria</td>\n",
       "      <td>BGR</td>\n",
       "      <td>2009</td>\n",
       "      <td>5.91</td>\n",
       "    </tr>\n",
       "    <tr>\n",
       "      <th>3</th>\n",
       "      <td>Switzerland</td>\n",
       "      <td>CHE</td>\n",
       "      <td>2009</td>\n",
       "      <td>4.76</td>\n",
       "    </tr>\n",
       "    <tr>\n",
       "      <th>4</th>\n",
       "      <td>Cyprus</td>\n",
       "      <td>CYP</td>\n",
       "      <td>2009</td>\n",
       "      <td>4.37</td>\n",
       "    </tr>\n",
       "  </tbody>\n",
       "</table>\n",
       "</div>"
      ],
      "text/plain": [
       "  Country Name Country Code  Year  Income Inequality\n",
       "0      Austria          AUT  2009               4.15\n",
       "1      Belgium          BEL  2009               3.91\n",
       "2     Bulgaria          BGR  2009               5.91\n",
       "3  Switzerland          CHE  2009               4.76\n",
       "4       Cyprus          CYP  2009               4.37"
      ]
     },
     "execution_count": 39,
     "metadata": {},
     "output_type": "execute_result"
    }
   ],
   "source": [
    "df['Year'] = pd.to_numeric(df['Year'])\n",
    "\n",
    "df.head()"
   ]
  },
  {
   "cell_type": "code",
   "execution_count": 40,
   "metadata": {},
   "outputs": [],
   "source": [
    "df_one = df.loc[df['Country Code'] == 'GBR']\n",
    "df_two = df.loc[(df['Country Code'] == 'BEL')]\n",
    "df_three = df.loc[(df['Country Code'] == 'TUR')]\n",
    "df_four = df.loc[(df['Country Code'] == 'BGR')]\n",
    "df_five = df.loc[(df['Country Code'] == 'CYP')]"
   ]
  },
  {
   "cell_type": "code",
   "execution_count": 41,
   "metadata": {},
   "outputs": [
    {
     "data": {
      "application/vnd.plotly.v1+json": {
       "config": {
        "plotlyServerURL": "https://plot.ly"
       },
       "data": [
        {
         "hovertemplate": "<b>%{hovertext}</b><br><br>Country Code=GBR<br>Year=%{x}<br>Income Inequality=%{y}<extra></extra>",
         "hovertext": [
          "GBR",
          "GBR",
          "GBR",
          "GBR",
          "GBR",
          "GBR",
          "GBR",
          "GBR",
          "GBR",
          "GBR",
          "GBR",
          "GBR"
         ],
         "legendgroup": "GBR",
         "line": {
          "color": "#636efa",
          "dash": "solid"
         },
         "mode": "lines",
         "name": "GBR",
         "orientation": "v",
         "showlegend": true,
         "type": "scatter",
         "x": [
          2009,
          2010,
          2011,
          2012,
          2013,
          2014,
          2015,
          2016,
          2017,
          2018,
          2019,
          2020
         ],
         "xaxis": "x",
         "y": [
          5.25,
          5.35,
          5.34,
          4.98,
          4.63,
          5.06,
          5.23,
          5.12,
          5.4,
          5.63,
          null,
          null
         ],
         "yaxis": "y"
        },
        {
         "hovertemplate": "<b>%{hovertext}</b><br><br>Country Code=BEL<br>Year=%{x}<br>Income Inequality=%{y}<extra></extra>",
         "hovertext": [
          "BEL",
          "BEL",
          "BEL",
          "BEL",
          "BEL",
          "BEL",
          "BEL",
          "BEL",
          "BEL",
          "BEL",
          "BEL",
          "BEL"
         ],
         "legendgroup": "BEL",
         "line": {
          "color": "green",
          "dash": "solid"
         },
         "mode": "lines",
         "name": "BEL",
         "orientation": "v",
         "showlegend": true,
         "type": "scatter",
         "x": [
          2009,
          2010,
          2011,
          2012,
          2013,
          2014,
          2015,
          2016,
          2017,
          2018,
          2019,
          2020
         ],
         "xaxis": "x",
         "y": [
          3.91,
          3.92,
          3.86,
          3.95,
          3.81,
          3.81,
          3.83,
          3.85,
          3.84,
          3.79,
          3.61,
          null
         ],
         "yaxis": "y"
        },
        {
         "hovertemplate": "<b>%{hovertext}</b><br><br>Country Code=TUR<br>Year=%{x}<br>Income Inequality=%{y}<extra></extra>",
         "hovertext": [
          "TUR",
          "TUR",
          "TUR",
          "TUR",
          "TUR",
          "TUR",
          "TUR",
          "TUR",
          "TUR",
          "TUR",
          "TUR",
          "TUR"
         ],
         "legendgroup": "TUR",
         "line": {
          "color": "magenta",
          "dash": "solid"
         },
         "mode": "lines",
         "name": "TUR",
         "orientation": "v",
         "showlegend": true,
         "type": "scatter",
         "x": [
          2009,
          2010,
          2011,
          2012,
          2013,
          2014,
          2015,
          2016,
          2017,
          2018,
          2019,
          2020
         ],
         "xaxis": "x",
         "y": [
          10.35,
          9.93,
          9.51,
          9.33,
          8.7,
          8.35,
          8.61,
          8.65,
          8.68,
          8.66,
          8.35,
          null
         ],
         "yaxis": "y"
        },
        {
         "hovertemplate": "<b>%{hovertext}</b><br><br>Country Code=BGR<br>Year=%{x}<br>Income Inequality=%{y}<extra></extra>",
         "hovertext": [
          "BGR",
          "BGR",
          "BGR",
          "BGR",
          "BGR",
          "BGR",
          "BGR",
          "BGR",
          "BGR",
          "BGR",
          "BGR",
          "BGR"
         ],
         "legendgroup": "BGR",
         "line": {
          "color": "goldenrod",
          "dash": "solid"
         },
         "mode": "lines",
         "name": "BGR",
         "orientation": "v",
         "showlegend": true,
         "type": "scatter",
         "x": [
          2009,
          2010,
          2011,
          2012,
          2013,
          2014,
          2015,
          2016,
          2017,
          2018,
          2019,
          2020
         ],
         "xaxis": "x",
         "y": [
          5.91,
          5.86,
          6.46,
          6.12,
          6.59,
          6.81,
          7.11,
          7.69,
          8.23,
          7.66,
          8.1,
          8.01
         ],
         "yaxis": "y"
        },
        {
         "hovertemplate": "<b>%{hovertext}</b><br><br>Country Code=CYP<br>Year=%{x}<br>Income Inequality=%{y}<extra></extra>",
         "hovertext": [
          "CYP",
          "CYP",
          "CYP",
          "CYP",
          "CYP",
          "CYP",
          "CYP",
          "CYP",
          "CYP",
          "CYP",
          "CYP",
          "CYP"
         ],
         "legendgroup": "CYP",
         "line": {
          "color": "red",
          "dash": "solid"
         },
         "mode": "lines",
         "name": "CYP",
         "orientation": "v",
         "showlegend": true,
         "type": "scatter",
         "x": [
          2009,
          2010,
          2011,
          2012,
          2013,
          2014,
          2015,
          2016,
          2017,
          2018,
          2019,
          2020
         ],
         "xaxis": "x",
         "y": [
          4.37,
          4.54,
          4.34,
          4.67,
          4.91,
          5.37,
          5.2,
          4.88,
          4.56,
          4.29,
          4.58,
          null
         ],
         "yaxis": "y"
        }
       ],
       "layout": {
        "legend": {
         "title": {
          "text": "Country Code"
         },
         "tracegroupgap": 0
        },
        "margin": {
         "t": 60
        },
        "showlegend": true,
        "template": {
         "data": {
          "bar": [
           {
            "error_x": {
             "color": "#2a3f5f"
            },
            "error_y": {
             "color": "#2a3f5f"
            },
            "marker": {
             "line": {
              "color": "#E5ECF6",
              "width": 0.5
             }
            },
            "type": "bar"
           }
          ],
          "barpolar": [
           {
            "marker": {
             "line": {
              "color": "#E5ECF6",
              "width": 0.5
             }
            },
            "type": "barpolar"
           }
          ],
          "carpet": [
           {
            "aaxis": {
             "endlinecolor": "#2a3f5f",
             "gridcolor": "white",
             "linecolor": "white",
             "minorgridcolor": "white",
             "startlinecolor": "#2a3f5f"
            },
            "baxis": {
             "endlinecolor": "#2a3f5f",
             "gridcolor": "white",
             "linecolor": "white",
             "minorgridcolor": "white",
             "startlinecolor": "#2a3f5f"
            },
            "type": "carpet"
           }
          ],
          "choropleth": [
           {
            "colorbar": {
             "outlinewidth": 0,
             "ticks": ""
            },
            "type": "choropleth"
           }
          ],
          "contour": [
           {
            "colorbar": {
             "outlinewidth": 0,
             "ticks": ""
            },
            "colorscale": [
             [
              0,
              "#0d0887"
             ],
             [
              0.1111111111111111,
              "#46039f"
             ],
             [
              0.2222222222222222,
              "#7201a8"
             ],
             [
              0.3333333333333333,
              "#9c179e"
             ],
             [
              0.4444444444444444,
              "#bd3786"
             ],
             [
              0.5555555555555556,
              "#d8576b"
             ],
             [
              0.6666666666666666,
              "#ed7953"
             ],
             [
              0.7777777777777778,
              "#fb9f3a"
             ],
             [
              0.8888888888888888,
              "#fdca26"
             ],
             [
              1,
              "#f0f921"
             ]
            ],
            "type": "contour"
           }
          ],
          "contourcarpet": [
           {
            "colorbar": {
             "outlinewidth": 0,
             "ticks": ""
            },
            "type": "contourcarpet"
           }
          ],
          "heatmap": [
           {
            "colorbar": {
             "outlinewidth": 0,
             "ticks": ""
            },
            "colorscale": [
             [
              0,
              "#0d0887"
             ],
             [
              0.1111111111111111,
              "#46039f"
             ],
             [
              0.2222222222222222,
              "#7201a8"
             ],
             [
              0.3333333333333333,
              "#9c179e"
             ],
             [
              0.4444444444444444,
              "#bd3786"
             ],
             [
              0.5555555555555556,
              "#d8576b"
             ],
             [
              0.6666666666666666,
              "#ed7953"
             ],
             [
              0.7777777777777778,
              "#fb9f3a"
             ],
             [
              0.8888888888888888,
              "#fdca26"
             ],
             [
              1,
              "#f0f921"
             ]
            ],
            "type": "heatmap"
           }
          ],
          "heatmapgl": [
           {
            "colorbar": {
             "outlinewidth": 0,
             "ticks": ""
            },
            "colorscale": [
             [
              0,
              "#0d0887"
             ],
             [
              0.1111111111111111,
              "#46039f"
             ],
             [
              0.2222222222222222,
              "#7201a8"
             ],
             [
              0.3333333333333333,
              "#9c179e"
             ],
             [
              0.4444444444444444,
              "#bd3786"
             ],
             [
              0.5555555555555556,
              "#d8576b"
             ],
             [
              0.6666666666666666,
              "#ed7953"
             ],
             [
              0.7777777777777778,
              "#fb9f3a"
             ],
             [
              0.8888888888888888,
              "#fdca26"
             ],
             [
              1,
              "#f0f921"
             ]
            ],
            "type": "heatmapgl"
           }
          ],
          "histogram": [
           {
            "marker": {
             "colorbar": {
              "outlinewidth": 0,
              "ticks": ""
             }
            },
            "type": "histogram"
           }
          ],
          "histogram2d": [
           {
            "colorbar": {
             "outlinewidth": 0,
             "ticks": ""
            },
            "colorscale": [
             [
              0,
              "#0d0887"
             ],
             [
              0.1111111111111111,
              "#46039f"
             ],
             [
              0.2222222222222222,
              "#7201a8"
             ],
             [
              0.3333333333333333,
              "#9c179e"
             ],
             [
              0.4444444444444444,
              "#bd3786"
             ],
             [
              0.5555555555555556,
              "#d8576b"
             ],
             [
              0.6666666666666666,
              "#ed7953"
             ],
             [
              0.7777777777777778,
              "#fb9f3a"
             ],
             [
              0.8888888888888888,
              "#fdca26"
             ],
             [
              1,
              "#f0f921"
             ]
            ],
            "type": "histogram2d"
           }
          ],
          "histogram2dcontour": [
           {
            "colorbar": {
             "outlinewidth": 0,
             "ticks": ""
            },
            "colorscale": [
             [
              0,
              "#0d0887"
             ],
             [
              0.1111111111111111,
              "#46039f"
             ],
             [
              0.2222222222222222,
              "#7201a8"
             ],
             [
              0.3333333333333333,
              "#9c179e"
             ],
             [
              0.4444444444444444,
              "#bd3786"
             ],
             [
              0.5555555555555556,
              "#d8576b"
             ],
             [
              0.6666666666666666,
              "#ed7953"
             ],
             [
              0.7777777777777778,
              "#fb9f3a"
             ],
             [
              0.8888888888888888,
              "#fdca26"
             ],
             [
              1,
              "#f0f921"
             ]
            ],
            "type": "histogram2dcontour"
           }
          ],
          "mesh3d": [
           {
            "colorbar": {
             "outlinewidth": 0,
             "ticks": ""
            },
            "type": "mesh3d"
           }
          ],
          "parcoords": [
           {
            "line": {
             "colorbar": {
              "outlinewidth": 0,
              "ticks": ""
             }
            },
            "type": "parcoords"
           }
          ],
          "pie": [
           {
            "automargin": true,
            "type": "pie"
           }
          ],
          "scatter": [
           {
            "marker": {
             "colorbar": {
              "outlinewidth": 0,
              "ticks": ""
             }
            },
            "type": "scatter"
           }
          ],
          "scatter3d": [
           {
            "line": {
             "colorbar": {
              "outlinewidth": 0,
              "ticks": ""
             }
            },
            "marker": {
             "colorbar": {
              "outlinewidth": 0,
              "ticks": ""
             }
            },
            "type": "scatter3d"
           }
          ],
          "scattercarpet": [
           {
            "marker": {
             "colorbar": {
              "outlinewidth": 0,
              "ticks": ""
             }
            },
            "type": "scattercarpet"
           }
          ],
          "scattergeo": [
           {
            "marker": {
             "colorbar": {
              "outlinewidth": 0,
              "ticks": ""
             }
            },
            "type": "scattergeo"
           }
          ],
          "scattergl": [
           {
            "marker": {
             "colorbar": {
              "outlinewidth": 0,
              "ticks": ""
             }
            },
            "type": "scattergl"
           }
          ],
          "scattermapbox": [
           {
            "marker": {
             "colorbar": {
              "outlinewidth": 0,
              "ticks": ""
             }
            },
            "type": "scattermapbox"
           }
          ],
          "scatterpolar": [
           {
            "marker": {
             "colorbar": {
              "outlinewidth": 0,
              "ticks": ""
             }
            },
            "type": "scatterpolar"
           }
          ],
          "scatterpolargl": [
           {
            "marker": {
             "colorbar": {
              "outlinewidth": 0,
              "ticks": ""
             }
            },
            "type": "scatterpolargl"
           }
          ],
          "scatterternary": [
           {
            "marker": {
             "colorbar": {
              "outlinewidth": 0,
              "ticks": ""
             }
            },
            "type": "scatterternary"
           }
          ],
          "surface": [
           {
            "colorbar": {
             "outlinewidth": 0,
             "ticks": ""
            },
            "colorscale": [
             [
              0,
              "#0d0887"
             ],
             [
              0.1111111111111111,
              "#46039f"
             ],
             [
              0.2222222222222222,
              "#7201a8"
             ],
             [
              0.3333333333333333,
              "#9c179e"
             ],
             [
              0.4444444444444444,
              "#bd3786"
             ],
             [
              0.5555555555555556,
              "#d8576b"
             ],
             [
              0.6666666666666666,
              "#ed7953"
             ],
             [
              0.7777777777777778,
              "#fb9f3a"
             ],
             [
              0.8888888888888888,
              "#fdca26"
             ],
             [
              1,
              "#f0f921"
             ]
            ],
            "type": "surface"
           }
          ],
          "table": [
           {
            "cells": {
             "fill": {
              "color": "#EBF0F8"
             },
             "line": {
              "color": "white"
             }
            },
            "header": {
             "fill": {
              "color": "#C8D4E3"
             },
             "line": {
              "color": "white"
             }
            },
            "type": "table"
           }
          ]
         },
         "layout": {
          "annotationdefaults": {
           "arrowcolor": "#2a3f5f",
           "arrowhead": 0,
           "arrowwidth": 1
          },
          "autotypenumbers": "strict",
          "coloraxis": {
           "colorbar": {
            "outlinewidth": 0,
            "ticks": ""
           }
          },
          "colorscale": {
           "diverging": [
            [
             0,
             "#8e0152"
            ],
            [
             0.1,
             "#c51b7d"
            ],
            [
             0.2,
             "#de77ae"
            ],
            [
             0.3,
             "#f1b6da"
            ],
            [
             0.4,
             "#fde0ef"
            ],
            [
             0.5,
             "#f7f7f7"
            ],
            [
             0.6,
             "#e6f5d0"
            ],
            [
             0.7,
             "#b8e186"
            ],
            [
             0.8,
             "#7fbc41"
            ],
            [
             0.9,
             "#4d9221"
            ],
            [
             1,
             "#276419"
            ]
           ],
           "sequential": [
            [
             0,
             "#0d0887"
            ],
            [
             0.1111111111111111,
             "#46039f"
            ],
            [
             0.2222222222222222,
             "#7201a8"
            ],
            [
             0.3333333333333333,
             "#9c179e"
            ],
            [
             0.4444444444444444,
             "#bd3786"
            ],
            [
             0.5555555555555556,
             "#d8576b"
            ],
            [
             0.6666666666666666,
             "#ed7953"
            ],
            [
             0.7777777777777778,
             "#fb9f3a"
            ],
            [
             0.8888888888888888,
             "#fdca26"
            ],
            [
             1,
             "#f0f921"
            ]
           ],
           "sequentialminus": [
            [
             0,
             "#0d0887"
            ],
            [
             0.1111111111111111,
             "#46039f"
            ],
            [
             0.2222222222222222,
             "#7201a8"
            ],
            [
             0.3333333333333333,
             "#9c179e"
            ],
            [
             0.4444444444444444,
             "#bd3786"
            ],
            [
             0.5555555555555556,
             "#d8576b"
            ],
            [
             0.6666666666666666,
             "#ed7953"
            ],
            [
             0.7777777777777778,
             "#fb9f3a"
            ],
            [
             0.8888888888888888,
             "#fdca26"
            ],
            [
             1,
             "#f0f921"
            ]
           ]
          },
          "colorway": [
           "#636efa",
           "#EF553B",
           "#00cc96",
           "#ab63fa",
           "#FFA15A",
           "#19d3f3",
           "#FF6692",
           "#B6E880",
           "#FF97FF",
           "#FECB52"
          ],
          "font": {
           "color": "#2a3f5f"
          },
          "geo": {
           "bgcolor": "white",
           "lakecolor": "white",
           "landcolor": "#E5ECF6",
           "showlakes": true,
           "showland": true,
           "subunitcolor": "white"
          },
          "hoverlabel": {
           "align": "left"
          },
          "hovermode": "closest",
          "mapbox": {
           "style": "light"
          },
          "paper_bgcolor": "white",
          "plot_bgcolor": "#E5ECF6",
          "polar": {
           "angularaxis": {
            "gridcolor": "white",
            "linecolor": "white",
            "ticks": ""
           },
           "bgcolor": "#E5ECF6",
           "radialaxis": {
            "gridcolor": "white",
            "linecolor": "white",
            "ticks": ""
           }
          },
          "scene": {
           "xaxis": {
            "backgroundcolor": "#E5ECF6",
            "gridcolor": "white",
            "gridwidth": 2,
            "linecolor": "white",
            "showbackground": true,
            "ticks": "",
            "zerolinecolor": "white"
           },
           "yaxis": {
            "backgroundcolor": "#E5ECF6",
            "gridcolor": "white",
            "gridwidth": 2,
            "linecolor": "white",
            "showbackground": true,
            "ticks": "",
            "zerolinecolor": "white"
           },
           "zaxis": {
            "backgroundcolor": "#E5ECF6",
            "gridcolor": "white",
            "gridwidth": 2,
            "linecolor": "white",
            "showbackground": true,
            "ticks": "",
            "zerolinecolor": "white"
           }
          },
          "shapedefaults": {
           "line": {
            "color": "#2a3f5f"
           }
          },
          "ternary": {
           "aaxis": {
            "gridcolor": "white",
            "linecolor": "white",
            "ticks": ""
           },
           "baxis": {
            "gridcolor": "white",
            "linecolor": "white",
            "ticks": ""
           },
           "bgcolor": "#E5ECF6",
           "caxis": {
            "gridcolor": "white",
            "linecolor": "white",
            "ticks": ""
           }
          },
          "title": {
           "x": 0.05
          },
          "xaxis": {
           "automargin": true,
           "gridcolor": "white",
           "linecolor": "white",
           "ticks": "",
           "title": {
            "standoff": 15
           },
           "zerolinecolor": "white",
           "zerolinewidth": 2
          },
          "yaxis": {
           "automargin": true,
           "gridcolor": "white",
           "linecolor": "white",
           "ticks": "",
           "title": {
            "standoff": 15
           },
           "zerolinecolor": "white",
           "zerolinewidth": 2
          }
         }
        },
        "title": {
         "text": "Income Inequality for United Kingdom, Belgium, Turkey, Bulgaria and Cyprus"
        },
        "xaxis": {
         "anchor": "y",
         "domain": [
          0,
          1
         ],
         "title": {
          "text": "Year"
         }
        },
        "yaxis": {
         "anchor": "x",
         "domain": [
          0,
          1
         ],
         "title": {
          "text": "Income Inequality"
         }
        }
       }
      },
      "text/html": [
       "<div>                            <div id=\"6ede71b4-81e6-416b-aa5d-4a4eafbbd206\" class=\"plotly-graph-div\" style=\"height:525px; width:100%;\"></div>            <script type=\"text/javascript\">                require([\"plotly\"], function(Plotly) {                    window.PLOTLYENV=window.PLOTLYENV || {};                                    if (document.getElementById(\"6ede71b4-81e6-416b-aa5d-4a4eafbbd206\")) {                    Plotly.newPlot(                        \"6ede71b4-81e6-416b-aa5d-4a4eafbbd206\",                        [{\"hovertemplate\": \"<b>%{hovertext}</b><br><br>Country Code=GBR<br>Year=%{x}<br>Income Inequality=%{y}<extra></extra>\", \"hovertext\": [\"GBR\", \"GBR\", \"GBR\", \"GBR\", \"GBR\", \"GBR\", \"GBR\", \"GBR\", \"GBR\", \"GBR\", \"GBR\", \"GBR\"], \"legendgroup\": \"GBR\", \"line\": {\"color\": \"#636efa\", \"dash\": \"solid\"}, \"mode\": \"lines\", \"name\": \"GBR\", \"orientation\": \"v\", \"showlegend\": true, \"type\": \"scatter\", \"x\": [2009, 2010, 2011, 2012, 2013, 2014, 2015, 2016, 2017, 2018, 2019, 2020], \"xaxis\": \"x\", \"y\": [5.25, 5.35, 5.34, 4.98, 4.63, 5.06, 5.23, 5.12, 5.4, 5.63, null, null], \"yaxis\": \"y\"}, {\"hovertemplate\": \"<b>%{hovertext}</b><br><br>Country Code=BEL<br>Year=%{x}<br>Income Inequality=%{y}<extra></extra>\", \"hovertext\": [\"BEL\", \"BEL\", \"BEL\", \"BEL\", \"BEL\", \"BEL\", \"BEL\", \"BEL\", \"BEL\", \"BEL\", \"BEL\", \"BEL\"], \"legendgroup\": \"BEL\", \"line\": {\"color\": \"green\", \"dash\": \"solid\"}, \"mode\": \"lines\", \"name\": \"BEL\", \"orientation\": \"v\", \"showlegend\": true, \"type\": \"scatter\", \"x\": [2009, 2010, 2011, 2012, 2013, 2014, 2015, 2016, 2017, 2018, 2019, 2020], \"xaxis\": \"x\", \"y\": [3.91, 3.92, 3.86, 3.95, 3.81, 3.81, 3.83, 3.85, 3.84, 3.79, 3.61, null], \"yaxis\": \"y\"}, {\"hovertemplate\": \"<b>%{hovertext}</b><br><br>Country Code=TUR<br>Year=%{x}<br>Income Inequality=%{y}<extra></extra>\", \"hovertext\": [\"TUR\", \"TUR\", \"TUR\", \"TUR\", \"TUR\", \"TUR\", \"TUR\", \"TUR\", \"TUR\", \"TUR\", \"TUR\", \"TUR\"], \"legendgroup\": \"TUR\", \"line\": {\"color\": \"magenta\", \"dash\": \"solid\"}, \"mode\": \"lines\", \"name\": \"TUR\", \"orientation\": \"v\", \"showlegend\": true, \"type\": \"scatter\", \"x\": [2009, 2010, 2011, 2012, 2013, 2014, 2015, 2016, 2017, 2018, 2019, 2020], \"xaxis\": \"x\", \"y\": [10.35, 9.93, 9.51, 9.33, 8.7, 8.35, 8.61, 8.65, 8.68, 8.66, 8.35, null], \"yaxis\": \"y\"}, {\"hovertemplate\": \"<b>%{hovertext}</b><br><br>Country Code=BGR<br>Year=%{x}<br>Income Inequality=%{y}<extra></extra>\", \"hovertext\": [\"BGR\", \"BGR\", \"BGR\", \"BGR\", \"BGR\", \"BGR\", \"BGR\", \"BGR\", \"BGR\", \"BGR\", \"BGR\", \"BGR\"], \"legendgroup\": \"BGR\", \"line\": {\"color\": \"goldenrod\", \"dash\": \"solid\"}, \"mode\": \"lines\", \"name\": \"BGR\", \"orientation\": \"v\", \"showlegend\": true, \"type\": \"scatter\", \"x\": [2009, 2010, 2011, 2012, 2013, 2014, 2015, 2016, 2017, 2018, 2019, 2020], \"xaxis\": \"x\", \"y\": [5.91, 5.86, 6.46, 6.12, 6.59, 6.81, 7.11, 7.69, 8.23, 7.66, 8.1, 8.01], \"yaxis\": \"y\"}, {\"hovertemplate\": \"<b>%{hovertext}</b><br><br>Country Code=CYP<br>Year=%{x}<br>Income Inequality=%{y}<extra></extra>\", \"hovertext\": [\"CYP\", \"CYP\", \"CYP\", \"CYP\", \"CYP\", \"CYP\", \"CYP\", \"CYP\", \"CYP\", \"CYP\", \"CYP\", \"CYP\"], \"legendgroup\": \"CYP\", \"line\": {\"color\": \"red\", \"dash\": \"solid\"}, \"mode\": \"lines\", \"name\": \"CYP\", \"orientation\": \"v\", \"showlegend\": true, \"type\": \"scatter\", \"x\": [2009, 2010, 2011, 2012, 2013, 2014, 2015, 2016, 2017, 2018, 2019, 2020], \"xaxis\": \"x\", \"y\": [4.37, 4.54, 4.34, 4.67, 4.91, 5.37, 5.2, 4.88, 4.56, 4.29, 4.58, null], \"yaxis\": \"y\"}],                        {\"legend\": {\"title\": {\"text\": \"Country Code\"}, \"tracegroupgap\": 0}, \"margin\": {\"t\": 60}, \"showlegend\": true, \"template\": {\"data\": {\"bar\": [{\"error_x\": {\"color\": \"#2a3f5f\"}, \"error_y\": {\"color\": \"#2a3f5f\"}, \"marker\": {\"line\": {\"color\": \"#E5ECF6\", \"width\": 0.5}}, \"type\": \"bar\"}], \"barpolar\": [{\"marker\": {\"line\": {\"color\": \"#E5ECF6\", \"width\": 0.5}}, \"type\": \"barpolar\"}], \"carpet\": [{\"aaxis\": {\"endlinecolor\": \"#2a3f5f\", \"gridcolor\": \"white\", \"linecolor\": \"white\", \"minorgridcolor\": \"white\", \"startlinecolor\": \"#2a3f5f\"}, \"baxis\": {\"endlinecolor\": \"#2a3f5f\", \"gridcolor\": \"white\", \"linecolor\": \"white\", \"minorgridcolor\": \"white\", \"startlinecolor\": \"#2a3f5f\"}, \"type\": \"carpet\"}], \"choropleth\": [{\"colorbar\": {\"outlinewidth\": 0, \"ticks\": \"\"}, \"type\": \"choropleth\"}], \"contour\": [{\"colorbar\": {\"outlinewidth\": 0, \"ticks\": \"\"}, \"colorscale\": [[0.0, \"#0d0887\"], [0.1111111111111111, \"#46039f\"], [0.2222222222222222, \"#7201a8\"], [0.3333333333333333, \"#9c179e\"], [0.4444444444444444, \"#bd3786\"], [0.5555555555555556, \"#d8576b\"], [0.6666666666666666, \"#ed7953\"], [0.7777777777777778, \"#fb9f3a\"], [0.8888888888888888, \"#fdca26\"], [1.0, \"#f0f921\"]], \"type\": \"contour\"}], \"contourcarpet\": [{\"colorbar\": {\"outlinewidth\": 0, \"ticks\": \"\"}, \"type\": \"contourcarpet\"}], \"heatmap\": [{\"colorbar\": {\"outlinewidth\": 0, \"ticks\": \"\"}, \"colorscale\": [[0.0, \"#0d0887\"], [0.1111111111111111, \"#46039f\"], [0.2222222222222222, \"#7201a8\"], [0.3333333333333333, \"#9c179e\"], [0.4444444444444444, \"#bd3786\"], [0.5555555555555556, \"#d8576b\"], [0.6666666666666666, \"#ed7953\"], [0.7777777777777778, \"#fb9f3a\"], [0.8888888888888888, \"#fdca26\"], [1.0, \"#f0f921\"]], \"type\": \"heatmap\"}], \"heatmapgl\": [{\"colorbar\": {\"outlinewidth\": 0, \"ticks\": \"\"}, \"colorscale\": [[0.0, \"#0d0887\"], [0.1111111111111111, \"#46039f\"], [0.2222222222222222, \"#7201a8\"], [0.3333333333333333, \"#9c179e\"], [0.4444444444444444, \"#bd3786\"], [0.5555555555555556, \"#d8576b\"], [0.6666666666666666, \"#ed7953\"], [0.7777777777777778, \"#fb9f3a\"], [0.8888888888888888, \"#fdca26\"], [1.0, \"#f0f921\"]], \"type\": \"heatmapgl\"}], \"histogram\": [{\"marker\": {\"colorbar\": {\"outlinewidth\": 0, \"ticks\": \"\"}}, \"type\": \"histogram\"}], \"histogram2d\": [{\"colorbar\": {\"outlinewidth\": 0, \"ticks\": \"\"}, \"colorscale\": [[0.0, \"#0d0887\"], [0.1111111111111111, \"#46039f\"], [0.2222222222222222, \"#7201a8\"], [0.3333333333333333, \"#9c179e\"], [0.4444444444444444, \"#bd3786\"], [0.5555555555555556, \"#d8576b\"], [0.6666666666666666, \"#ed7953\"], [0.7777777777777778, \"#fb9f3a\"], [0.8888888888888888, \"#fdca26\"], [1.0, \"#f0f921\"]], \"type\": \"histogram2d\"}], \"histogram2dcontour\": [{\"colorbar\": {\"outlinewidth\": 0, \"ticks\": \"\"}, \"colorscale\": [[0.0, \"#0d0887\"], [0.1111111111111111, \"#46039f\"], [0.2222222222222222, \"#7201a8\"], [0.3333333333333333, \"#9c179e\"], [0.4444444444444444, \"#bd3786\"], [0.5555555555555556, \"#d8576b\"], [0.6666666666666666, \"#ed7953\"], [0.7777777777777778, \"#fb9f3a\"], [0.8888888888888888, \"#fdca26\"], [1.0, \"#f0f921\"]], \"type\": \"histogram2dcontour\"}], \"mesh3d\": [{\"colorbar\": {\"outlinewidth\": 0, \"ticks\": \"\"}, \"type\": \"mesh3d\"}], \"parcoords\": [{\"line\": {\"colorbar\": {\"outlinewidth\": 0, \"ticks\": \"\"}}, \"type\": \"parcoords\"}], \"pie\": [{\"automargin\": true, \"type\": \"pie\"}], \"scatter\": [{\"marker\": {\"colorbar\": {\"outlinewidth\": 0, \"ticks\": \"\"}}, \"type\": \"scatter\"}], \"scatter3d\": [{\"line\": {\"colorbar\": {\"outlinewidth\": 0, \"ticks\": \"\"}}, \"marker\": {\"colorbar\": {\"outlinewidth\": 0, \"ticks\": \"\"}}, \"type\": \"scatter3d\"}], \"scattercarpet\": [{\"marker\": {\"colorbar\": {\"outlinewidth\": 0, \"ticks\": \"\"}}, \"type\": \"scattercarpet\"}], \"scattergeo\": [{\"marker\": {\"colorbar\": {\"outlinewidth\": 0, \"ticks\": \"\"}}, \"type\": \"scattergeo\"}], \"scattergl\": [{\"marker\": {\"colorbar\": {\"outlinewidth\": 0, \"ticks\": \"\"}}, \"type\": \"scattergl\"}], \"scattermapbox\": [{\"marker\": {\"colorbar\": {\"outlinewidth\": 0, \"ticks\": \"\"}}, \"type\": \"scattermapbox\"}], \"scatterpolar\": [{\"marker\": {\"colorbar\": {\"outlinewidth\": 0, \"ticks\": \"\"}}, \"type\": \"scatterpolar\"}], \"scatterpolargl\": [{\"marker\": {\"colorbar\": {\"outlinewidth\": 0, \"ticks\": \"\"}}, \"type\": \"scatterpolargl\"}], \"scatterternary\": [{\"marker\": {\"colorbar\": {\"outlinewidth\": 0, \"ticks\": \"\"}}, \"type\": \"scatterternary\"}], \"surface\": [{\"colorbar\": {\"outlinewidth\": 0, \"ticks\": \"\"}, \"colorscale\": [[0.0, \"#0d0887\"], [0.1111111111111111, \"#46039f\"], [0.2222222222222222, \"#7201a8\"], [0.3333333333333333, \"#9c179e\"], [0.4444444444444444, \"#bd3786\"], [0.5555555555555556, \"#d8576b\"], [0.6666666666666666, \"#ed7953\"], [0.7777777777777778, \"#fb9f3a\"], [0.8888888888888888, \"#fdca26\"], [1.0, \"#f0f921\"]], \"type\": \"surface\"}], \"table\": [{\"cells\": {\"fill\": {\"color\": \"#EBF0F8\"}, \"line\": {\"color\": \"white\"}}, \"header\": {\"fill\": {\"color\": \"#C8D4E3\"}, \"line\": {\"color\": \"white\"}}, \"type\": \"table\"}]}, \"layout\": {\"annotationdefaults\": {\"arrowcolor\": \"#2a3f5f\", \"arrowhead\": 0, \"arrowwidth\": 1}, \"autotypenumbers\": \"strict\", \"coloraxis\": {\"colorbar\": {\"outlinewidth\": 0, \"ticks\": \"\"}}, \"colorscale\": {\"diverging\": [[0, \"#8e0152\"], [0.1, \"#c51b7d\"], [0.2, \"#de77ae\"], [0.3, \"#f1b6da\"], [0.4, \"#fde0ef\"], [0.5, \"#f7f7f7\"], [0.6, \"#e6f5d0\"], [0.7, \"#b8e186\"], [0.8, \"#7fbc41\"], [0.9, \"#4d9221\"], [1, \"#276419\"]], \"sequential\": [[0.0, \"#0d0887\"], [0.1111111111111111, \"#46039f\"], [0.2222222222222222, \"#7201a8\"], [0.3333333333333333, \"#9c179e\"], [0.4444444444444444, \"#bd3786\"], [0.5555555555555556, \"#d8576b\"], [0.6666666666666666, \"#ed7953\"], [0.7777777777777778, \"#fb9f3a\"], [0.8888888888888888, \"#fdca26\"], [1.0, \"#f0f921\"]], \"sequentialminus\": [[0.0, \"#0d0887\"], [0.1111111111111111, \"#46039f\"], [0.2222222222222222, \"#7201a8\"], [0.3333333333333333, \"#9c179e\"], [0.4444444444444444, \"#bd3786\"], [0.5555555555555556, \"#d8576b\"], [0.6666666666666666, \"#ed7953\"], [0.7777777777777778, \"#fb9f3a\"], [0.8888888888888888, \"#fdca26\"], [1.0, \"#f0f921\"]]}, \"colorway\": [\"#636efa\", \"#EF553B\", \"#00cc96\", \"#ab63fa\", \"#FFA15A\", \"#19d3f3\", \"#FF6692\", \"#B6E880\", \"#FF97FF\", \"#FECB52\"], \"font\": {\"color\": \"#2a3f5f\"}, \"geo\": {\"bgcolor\": \"white\", \"lakecolor\": \"white\", \"landcolor\": \"#E5ECF6\", \"showlakes\": true, \"showland\": true, \"subunitcolor\": \"white\"}, \"hoverlabel\": {\"align\": \"left\"}, \"hovermode\": \"closest\", \"mapbox\": {\"style\": \"light\"}, \"paper_bgcolor\": \"white\", \"plot_bgcolor\": \"#E5ECF6\", \"polar\": {\"angularaxis\": {\"gridcolor\": \"white\", \"linecolor\": \"white\", \"ticks\": \"\"}, \"bgcolor\": \"#E5ECF6\", \"radialaxis\": {\"gridcolor\": \"white\", \"linecolor\": \"white\", \"ticks\": \"\"}}, \"scene\": {\"xaxis\": {\"backgroundcolor\": \"#E5ECF6\", \"gridcolor\": \"white\", \"gridwidth\": 2, \"linecolor\": \"white\", \"showbackground\": true, \"ticks\": \"\", \"zerolinecolor\": \"white\"}, \"yaxis\": {\"backgroundcolor\": \"#E5ECF6\", \"gridcolor\": \"white\", \"gridwidth\": 2, \"linecolor\": \"white\", \"showbackground\": true, \"ticks\": \"\", \"zerolinecolor\": \"white\"}, \"zaxis\": {\"backgroundcolor\": \"#E5ECF6\", \"gridcolor\": \"white\", \"gridwidth\": 2, \"linecolor\": \"white\", \"showbackground\": true, \"ticks\": \"\", \"zerolinecolor\": \"white\"}}, \"shapedefaults\": {\"line\": {\"color\": \"#2a3f5f\"}}, \"ternary\": {\"aaxis\": {\"gridcolor\": \"white\", \"linecolor\": \"white\", \"ticks\": \"\"}, \"baxis\": {\"gridcolor\": \"white\", \"linecolor\": \"white\", \"ticks\": \"\"}, \"bgcolor\": \"#E5ECF6\", \"caxis\": {\"gridcolor\": \"white\", \"linecolor\": \"white\", \"ticks\": \"\"}}, \"title\": {\"x\": 0.05}, \"xaxis\": {\"automargin\": true, \"gridcolor\": \"white\", \"linecolor\": \"white\", \"ticks\": \"\", \"title\": {\"standoff\": 15}, \"zerolinecolor\": \"white\", \"zerolinewidth\": 2}, \"yaxis\": {\"automargin\": true, \"gridcolor\": \"white\", \"linecolor\": \"white\", \"ticks\": \"\", \"title\": {\"standoff\": 15}, \"zerolinecolor\": \"white\", \"zerolinewidth\": 2}}}, \"title\": {\"text\": \"Income Inequality for United Kingdom, Belgium, Turkey, Bulgaria and Cyprus\"}, \"xaxis\": {\"anchor\": \"y\", \"domain\": [0.0, 1.0], \"title\": {\"text\": \"Year\"}}, \"yaxis\": {\"anchor\": \"x\", \"domain\": [0.0, 1.0], \"title\": {\"text\": \"Income Inequality\"}}},                        {\"responsive\": true}                    ).then(function(){\n",
       "                            \n",
       "var gd = document.getElementById('6ede71b4-81e6-416b-aa5d-4a4eafbbd206');\n",
       "var x = new MutationObserver(function (mutations, observer) {{\n",
       "        var display = window.getComputedStyle(gd).display;\n",
       "        if (!display || display === 'none') {{\n",
       "            console.log([gd, 'removed!']);\n",
       "            Plotly.purge(gd);\n",
       "            observer.disconnect();\n",
       "        }}\n",
       "}});\n",
       "\n",
       "// Listen for the removal of the full notebook cells\n",
       "var notebookContainer = gd.closest('#notebook-container');\n",
       "if (notebookContainer) {{\n",
       "    x.observe(notebookContainer, {childList: true});\n",
       "}}\n",
       "\n",
       "// Listen for the clearing of the current output cell\n",
       "var outputEl = gd.closest('.output');\n",
       "if (outputEl) {{\n",
       "    x.observe(outputEl, {childList: true});\n",
       "}}\n",
       "\n",
       "                        })                };                });            </script>        </div>"
      ]
     },
     "metadata": {},
     "output_type": "display_data"
    }
   ],
   "source": [
    "# line graph for incomne inequality of 5 specific countries\n",
    "\n",
    "\n",
    "# fig 1\n",
    "fig = px.line(df_one, x=\"Year\", y=\"Income Inequality\", color=\"Country Code\",line_group=\"Country Code\", hover_name=\"Country Code\")\n",
    "fig.update_layout(title='Income inequality' , showlegend=False)\n",
    "\n",
    "# fig 2\n",
    "fig2 = go.Figure(fig.add_traces(\n",
    "                 data=px.line(df_two, x=\"Year\", y=\"Income Inequality\", color=\"Country Code\",line_group=\"Country Code\", hover_name=\"Country Code\",color_discrete_sequence=[\"green\"])._data))\n",
    "fig2.update_layout(title='Income Inequality' , showlegend=False)\n",
    "\n",
    "# fig 3\n",
    "fig3 = go.Figure(fig.add_traces(\n",
    "                 data=px.line(df_three, x=\"Year\", y=\"Income Inequality\", color=\"Country Code\",line_group=\"Country Code\", hover_name=\"Country Code\",color_discrete_sequence=[\"magenta\"])._data))\n",
    "fig3.update_layout(title='Income Inequality' , showlegend=False)\n",
    "\n",
    "\n",
    "# fig 4\n",
    "fig4 = go.Figure(fig.add_traces(\n",
    "                 data=px.line(df_four, x=\"Year\", y=\"Income Inequality\", color=\"Country Code\",line_group=\"Country Code\", hover_name=\"Country Code\",color_discrete_sequence=[\"goldenrod\"])._data))\n",
    "fig4.update_layout(title='Income Inequality' , showlegend=False)\n",
    "\n",
    "\n",
    "# fig 5\n",
    "fig5 = go.Figure(fig.add_traces(\n",
    "                 data=px.line(df_five, x=\"Year\", y=\"Income Inequality\", color=\"Country Code\",line_group=\"Country Code\", hover_name=\"Country Code\",color_discrete_sequence=[\"red\"])._data))\n",
    "fig5.update_layout(title='Income Inequality for United Kingdom, Belgium, Turkey, Bulgaria and Cyprus' , showlegend=True)\n",
    "\n",
    "\n",
    "fig5.show()"
   ]
  },
  {
   "cell_type": "code",
   "execution_count": 42,
   "metadata": {},
   "outputs": [
    {
     "data": {
      "application/vnd.plotly.v1+json": {
       "config": {
        "plotlyServerURL": "https://plot.ly"
       },
       "data": [
        {
         "hovertemplate": "Country Code=AUT<br>Year=%{x}<br>Income Inequality=%{y}<extra></extra>",
         "legendgroup": "AUT",
         "line": {
          "color": "#636efa",
          "dash": "solid"
         },
         "mode": "lines",
         "name": "AUT",
         "orientation": "v",
         "showlegend": true,
         "type": "scatter",
         "x": [
          2009,
          2010,
          2011,
          2012,
          2013,
          2014,
          2015,
          2016,
          2017,
          2018,
          2019,
          2020
         ],
         "xaxis": "x",
         "y": [
          4.15,
          4.34,
          4.12,
          4.2,
          4.11,
          4.13,
          4.05,
          4.09,
          4.29,
          4.04,
          4.17,
          null
         ],
         "yaxis": "y"
        },
        {
         "hovertemplate": "Country Code=BEL<br>Year=%{x}<br>Income Inequality=%{y}<extra></extra>",
         "legendgroup": "BEL",
         "line": {
          "color": "#EF553B",
          "dash": "solid"
         },
         "mode": "lines",
         "name": "BEL",
         "orientation": "v",
         "showlegend": true,
         "type": "scatter",
         "x": [
          2009,
          2010,
          2011,
          2012,
          2013,
          2014,
          2015,
          2016,
          2017,
          2018,
          2019,
          2020
         ],
         "xaxis": "x",
         "y": [
          3.91,
          3.92,
          3.86,
          3.95,
          3.81,
          3.81,
          3.83,
          3.85,
          3.84,
          3.79,
          3.61,
          null
         ],
         "yaxis": "y"
        },
        {
         "hovertemplate": "Country Code=BGR<br>Year=%{x}<br>Income Inequality=%{y}<extra></extra>",
         "legendgroup": "BGR",
         "line": {
          "color": "#00cc96",
          "dash": "solid"
         },
         "mode": "lines",
         "name": "BGR",
         "orientation": "v",
         "showlegend": true,
         "type": "scatter",
         "x": [
          2009,
          2010,
          2011,
          2012,
          2013,
          2014,
          2015,
          2016,
          2017,
          2018,
          2019,
          2020
         ],
         "xaxis": "x",
         "y": [
          5.91,
          5.86,
          6.46,
          6.12,
          6.59,
          6.81,
          7.11,
          7.69,
          8.23,
          7.66,
          8.1,
          8.01
         ],
         "yaxis": "y"
        },
        {
         "hovertemplate": "Country Code=CHE<br>Year=%{x}<br>Income Inequality=%{y}<extra></extra>",
         "legendgroup": "CHE",
         "line": {
          "color": "#ab63fa",
          "dash": "solid"
         },
         "mode": "lines",
         "name": "CHE",
         "orientation": "v",
         "showlegend": true,
         "type": "scatter",
         "x": [
          2009,
          2010,
          2011,
          2012,
          2013,
          2014,
          2015,
          2016,
          2017,
          2018,
          2019,
          2020
         ],
         "xaxis": "x",
         "y": [
          4.76,
          4.48,
          4.52,
          4.4,
          4.22,
          4.42,
          4.48,
          4.42,
          4.63,
          4.5,
          4.75,
          null
         ],
         "yaxis": "y"
        },
        {
         "hovertemplate": "Country Code=CYP<br>Year=%{x}<br>Income Inequality=%{y}<extra></extra>",
         "legendgroup": "CYP",
         "line": {
          "color": "#FFA15A",
          "dash": "solid"
         },
         "mode": "lines",
         "name": "CYP",
         "orientation": "v",
         "showlegend": true,
         "type": "scatter",
         "x": [
          2009,
          2010,
          2011,
          2012,
          2013,
          2014,
          2015,
          2016,
          2017,
          2018,
          2019,
          2020
         ],
         "xaxis": "x",
         "y": [
          4.37,
          4.54,
          4.34,
          4.67,
          4.91,
          5.37,
          5.2,
          4.88,
          4.56,
          4.29,
          4.58,
          null
         ],
         "yaxis": "y"
        },
        {
         "hovertemplate": "Country Code=CZE<br>Year=%{x}<br>Income Inequality=%{y}<extra></extra>",
         "legendgroup": "CZE",
         "line": {
          "color": "#19d3f3",
          "dash": "solid"
         },
         "mode": "lines",
         "name": "CZE",
         "orientation": "v",
         "showlegend": true,
         "type": "scatter",
         "x": [
          2009,
          2010,
          2011,
          2012,
          2013,
          2014,
          2015,
          2016,
          2017,
          2018,
          2019,
          2020
         ],
         "xaxis": "x",
         "y": [
          3.47,
          3.47,
          3.54,
          3.49,
          3.4,
          3.5,
          3.51,
          3.5,
          3.4,
          3.32,
          3.34,
          null
         ],
         "yaxis": "y"
        },
        {
         "hovertemplate": "Country Code=DEU<br>Year=%{x}<br>Income Inequality=%{y}<extra></extra>",
         "legendgroup": "DEU",
         "line": {
          "color": "#FF6692",
          "dash": "solid"
         },
         "mode": "lines",
         "name": "DEU",
         "orientation": "v",
         "showlegend": true,
         "type": "scatter",
         "x": [
          2009,
          2010,
          2011,
          2012,
          2013,
          2014,
          2015,
          2016,
          2017,
          2018,
          2019,
          2020
         ],
         "xaxis": "x",
         "y": [
          4.48,
          4.49,
          4.46,
          4.3,
          4.6,
          5.12,
          4.8,
          4.62,
          4.49,
          5.07,
          4.89,
          null
         ],
         "yaxis": "y"
        },
        {
         "hovertemplate": "Country Code=DNK<br>Year=%{x}<br>Income Inequality=%{y}<extra></extra>",
         "legendgroup": "DNK",
         "line": {
          "color": "#B6E880",
          "dash": "solid"
         },
         "mode": "lines",
         "name": "DNK",
         "orientation": "v",
         "showlegend": true,
         "type": "scatter",
         "x": [
          2009,
          2010,
          2011,
          2012,
          2013,
          2014,
          2015,
          2016,
          2017,
          2018,
          2019,
          2020
         ],
         "xaxis": "x",
         "y": [
          4.61,
          4.41,
          3.98,
          3.94,
          4.01,
          4.12,
          4.08,
          4.06,
          4.08,
          4.11,
          4.09,
          null
         ],
         "yaxis": "y"
        },
        {
         "hovertemplate": "Country Code=EA<br>Year=%{x}<br>Income Inequality=%{y}<extra></extra>",
         "legendgroup": "EA",
         "line": {
          "color": "#FF97FF",
          "dash": "solid"
         },
         "mode": "lines",
         "name": "EA",
         "orientation": "v",
         "showlegend": true,
         "type": "scatter",
         "x": [
          2009,
          2010,
          2011,
          2012,
          2013,
          2014,
          2015,
          2016,
          2017,
          2018,
          2019,
          2020
         ],
         "xaxis": "x",
         "y": [
          4.82,
          4.86,
          4.98,
          4.97,
          5.04,
          5.22,
          5.16,
          5.15,
          5.05,
          5.07,
          4.98,
          null
         ],
         "yaxis": "y"
        },
        {
         "hovertemplate": "Country Code=EA18<br>Year=%{x}<br>Income Inequality=%{y}<extra></extra>",
         "legendgroup": "EA18",
         "line": {
          "color": "#FECB52",
          "dash": "solid"
         },
         "mode": "lines",
         "name": "EA18",
         "orientation": "v",
         "showlegend": true,
         "type": "scatter",
         "x": [
          2009,
          2010,
          2011,
          2012,
          2013,
          2014,
          2015,
          2016,
          2017,
          2018,
          2019,
          2020
         ],
         "xaxis": "x",
         "y": [
          4.84,
          4.87,
          4.99,
          4.97,
          5.04,
          5.22,
          5.14,
          5.14,
          5.03,
          5.05,
          4.97,
          null
         ],
         "yaxis": "y"
        },
        {
         "hovertemplate": "Country Code=EA19<br>Year=%{x}<br>Income Inequality=%{y}<extra></extra>",
         "legendgroup": "EA19",
         "line": {
          "color": "#636efa",
          "dash": "solid"
         },
         "mode": "lines",
         "name": "EA19",
         "orientation": "v",
         "showlegend": true,
         "type": "scatter",
         "x": [
          2009,
          2010,
          2011,
          2012,
          2013,
          2014,
          2015,
          2016,
          2017,
          2018,
          2019,
          2020
         ],
         "xaxis": "x",
         "y": [
          4.85,
          4.9,
          5,
          4.98,
          5.05,
          5.23,
          5.16,
          5.15,
          5.05,
          5.07,
          4.98,
          null
         ],
         "yaxis": "y"
        },
        {
         "hovertemplate": "Country Code=EST<br>Year=%{x}<br>Income Inequality=%{y}<extra></extra>",
         "legendgroup": "EST",
         "line": {
          "color": "#EF553B",
          "dash": "solid"
         },
         "mode": "lines",
         "name": "EST",
         "orientation": "v",
         "showlegend": true,
         "type": "scatter",
         "x": [
          2009,
          2010,
          2011,
          2012,
          2013,
          2014,
          2015,
          2016,
          2017,
          2018,
          2019,
          2020
         ],
         "xaxis": "x",
         "y": [
          5.01,
          5.01,
          5.35,
          5.41,
          5.54,
          6.48,
          6.21,
          5.56,
          5.42,
          5.07,
          5.08,
          null
         ],
         "yaxis": "y"
        },
        {
         "hovertemplate": "Country Code=GRC<br>Year=%{x}<br>Income Inequality=%{y}<extra></extra>",
         "legendgroup": "GRC",
         "line": {
          "color": "#00cc96",
          "dash": "solid"
         },
         "mode": "lines",
         "name": "GRC",
         "orientation": "v",
         "showlegend": true,
         "type": "scatter",
         "x": [
          2009,
          2010,
          2011,
          2012,
          2013,
          2014,
          2015,
          2016,
          2017,
          2018,
          2019,
          2020
         ],
         "xaxis": "x",
         "y": [
          5.76,
          5.61,
          5.96,
          6.63,
          6.6,
          6.46,
          6.51,
          6.55,
          6.11,
          5.51,
          5.11,
          null
         ],
         "yaxis": "y"
        },
        {
         "hovertemplate": "Country Code=ESP<br>Year=%{x}<br>Income Inequality=%{y}<extra></extra>",
         "legendgroup": "ESP",
         "line": {
          "color": "#ab63fa",
          "dash": "solid"
         },
         "mode": "lines",
         "name": "ESP",
         "orientation": "v",
         "showlegend": true,
         "type": "scatter",
         "x": [
          2009,
          2010,
          2011,
          2012,
          2013,
          2014,
          2015,
          2016,
          2017,
          2018,
          2019,
          2020
         ],
         "xaxis": "x",
         "y": [
          5.87,
          6.16,
          6.28,
          6.47,
          6.29,
          6.81,
          6.87,
          6.6,
          6.59,
          6.03,
          5.94,
          null
         ],
         "yaxis": "y"
        },
        {
         "hovertemplate": "Country Code=EU<br>Year=%{x}<br>Income Inequality=%{y}<extra></extra>",
         "legendgroup": "EU",
         "line": {
          "color": "#FFA15A",
          "dash": "solid"
         },
         "mode": "lines",
         "name": "EU",
         "orientation": "v",
         "showlegend": true,
         "type": "scatter",
         "x": [
          2009,
          2010,
          2011,
          2012,
          2013,
          2014,
          2015,
          2016,
          2017,
          2018,
          2019,
          2020
         ],
         "xaxis": "x",
         "y": [
          4.92,
          4.94,
          5.03,
          4.98,
          5,
          5.2,
          5.22,
          5.16,
          5.08,
          5.12,
          5.09,
          null
         ],
         "yaxis": "y"
        },
        {
         "hovertemplate": "Country Code=EU27_2007<br>Year=%{x}<br>Income Inequality=%{y}<extra></extra>",
         "legendgroup": "EU27_2007",
         "line": {
          "color": "#19d3f3",
          "dash": "solid"
         },
         "mode": "lines",
         "name": "EU27_2007",
         "orientation": "v",
         "showlegend": true,
         "type": "scatter",
         "x": [
          2009,
          2010,
          2011,
          2012,
          2013,
          2014,
          2015,
          2016,
          2017,
          2018,
          2019,
          2020
         ],
         "xaxis": "x",
         "y": [
          4.92,
          4.94,
          5.03,
          4.98,
          5,
          5.2,
          5.22,
          5.16,
          5.08,
          5.12,
          null,
          null
         ],
         "yaxis": "y"
        },
        {
         "hovertemplate": "Country Code=EU27_2020<br>Year=%{x}<br>Income Inequality=%{y}<extra></extra>",
         "legendgroup": "EU27_2020",
         "line": {
          "color": "#FF6692",
          "dash": "solid"
         },
         "mode": "lines",
         "name": "EU27_2020",
         "orientation": "v",
         "showlegend": true,
         "type": "scatter",
         "x": [
          2009,
          2010,
          2011,
          2012,
          2013,
          2014,
          2015,
          2016,
          2017,
          2018,
          2019,
          2020
         ],
         "xaxis": "x",
         "y": [
          null,
          4.89,
          4.99,
          4.98,
          5.05,
          5.22,
          5.22,
          5.16,
          5.03,
          5.05,
          4.99,
          null
         ],
         "yaxis": "y"
        },
        {
         "hovertemplate": "Country Code=EU28<br>Year=%{x}<br>Income Inequality=%{y}<extra></extra>",
         "legendgroup": "EU28",
         "line": {
          "color": "#B6E880",
          "dash": "solid"
         },
         "mode": "lines",
         "name": "EU28",
         "orientation": "v",
         "showlegend": true,
         "type": "scatter",
         "x": [
          2009,
          2010,
          2011,
          2012,
          2013,
          2014,
          2015,
          2016,
          2017,
          2018,
          2019,
          2020
         ],
         "xaxis": "x",
         "y": [
          null,
          4.94,
          5.03,
          4.98,
          5,
          5.2,
          5.22,
          5.16,
          5.08,
          5.12,
          5.09,
          null
         ],
         "yaxis": "y"
        },
        {
         "hovertemplate": "Country Code=FIN<br>Year=%{x}<br>Income Inequality=%{y}<extra></extra>",
         "legendgroup": "FIN",
         "line": {
          "color": "#FF97FF",
          "dash": "solid"
         },
         "mode": "lines",
         "name": "FIN",
         "orientation": "v",
         "showlegend": true,
         "type": "scatter",
         "x": [
          2009,
          2010,
          2011,
          2012,
          2013,
          2014,
          2015,
          2016,
          2017,
          2018,
          2019,
          2020
         ],
         "xaxis": "x",
         "y": [
          3.71,
          3.61,
          3.69,
          3.69,
          3.59,
          3.62,
          3.56,
          3.58,
          3.54,
          3.65,
          3.69,
          3.72
         ],
         "yaxis": "y"
        },
        {
         "hovertemplate": "Country Code=FRA<br>Year=%{x}<br>Income Inequality=%{y}<extra></extra>",
         "legendgroup": "FRA",
         "line": {
          "color": "#FECB52",
          "dash": "solid"
         },
         "mode": "lines",
         "name": "FRA",
         "orientation": "v",
         "showlegend": true,
         "type": "scatter",
         "x": [
          2009,
          2010,
          2011,
          2012,
          2013,
          2014,
          2015,
          2016,
          2017,
          2018,
          2019,
          2020
         ],
         "xaxis": "x",
         "y": [
          4.42,
          4.43,
          4.61,
          4.54,
          4.48,
          4.27,
          4.29,
          4.32,
          4.31,
          4.23,
          4.27,
          null
         ],
         "yaxis": "y"
        },
        {
         "hovertemplate": "Country Code=HRV<br>Year=%{x}<br>Income Inequality=%{y}<extra></extra>",
         "legendgroup": "HRV",
         "line": {
          "color": "#636efa",
          "dash": "solid"
         },
         "mode": "lines",
         "name": "HRV",
         "orientation": "v",
         "showlegend": true,
         "type": "scatter",
         "x": [
          2009,
          2010,
          2011,
          2012,
          2013,
          2014,
          2015,
          2016,
          2017,
          2018,
          2019,
          2020
         ],
         "xaxis": "x",
         "y": [
          null,
          5.54,
          5.58,
          5.36,
          5.34,
          5.12,
          5.16,
          5,
          5.03,
          5,
          4.76,
          null
         ],
         "yaxis": "y"
        },
        {
         "hovertemplate": "Country Code=HUN<br>Year=%{x}<br>Income Inequality=%{y}<extra></extra>",
         "legendgroup": "HUN",
         "line": {
          "color": "#EF553B",
          "dash": "solid"
         },
         "mode": "lines",
         "name": "HUN",
         "orientation": "v",
         "showlegend": true,
         "type": "scatter",
         "x": [
          2009,
          2010,
          2011,
          2012,
          2013,
          2014,
          2015,
          2016,
          2017,
          2018,
          2019,
          2020
         ],
         "xaxis": "x",
         "y": [
          3.51,
          3.41,
          3.94,
          4,
          4.29,
          4.33,
          4.3,
          4.26,
          4.27,
          4.35,
          4.23,
          null
         ],
         "yaxis": "y"
        },
        {
         "hovertemplate": "Country Code=IRL<br>Year=%{x}<br>Income Inequality=%{y}<extra></extra>",
         "legendgroup": "IRL",
         "line": {
          "color": "#00cc96",
          "dash": "solid"
         },
         "mode": "lines",
         "name": "IRL",
         "orientation": "v",
         "showlegend": true,
         "type": "scatter",
         "x": [
          2009,
          2010,
          2011,
          2012,
          2013,
          2014,
          2015,
          2016,
          2017,
          2018,
          2019,
          2020
         ],
         "xaxis": "x",
         "y": [
          4.24,
          4.7,
          4.63,
          4.82,
          4.73,
          4.9,
          4.5,
          4.45,
          4.63,
          4.23,
          4.03,
          null
         ],
         "yaxis": "y"
        },
        {
         "hovertemplate": "Country Code=ISL<br>Year=%{x}<br>Income Inequality=%{y}<extra></extra>",
         "legendgroup": "ISL",
         "line": {
          "color": "#ab63fa",
          "dash": "solid"
         },
         "mode": "lines",
         "name": "ISL",
         "orientation": "v",
         "showlegend": true,
         "type": "scatter",
         "x": [
          2009,
          2010,
          2011,
          2012,
          2013,
          2014,
          2015,
          2016,
          2017,
          2018,
          2019,
          2020
         ],
         "xaxis": "x",
         "y": [
          4.22,
          3.61,
          3.32,
          3.36,
          3.36,
          3.12,
          3.43,
          3.33,
          3.59,
          3.21,
          null,
          null
         ],
         "yaxis": "y"
        },
        {
         "hovertemplate": "Country Code=ITA<br>Year=%{x}<br>Income Inequality=%{y}<extra></extra>",
         "legendgroup": "ITA",
         "line": {
          "color": "#FFA15A",
          "dash": "solid"
         },
         "mode": "lines",
         "name": "ITA",
         "orientation": "v",
         "showlegend": true,
         "type": "scatter",
         "x": [
          2009,
          2010,
          2011,
          2012,
          2013,
          2014,
          2015,
          2016,
          2017,
          2018,
          2019,
          2020
         ],
         "xaxis": "x",
         "y": [
          5.31,
          5.38,
          5.73,
          5.64,
          5.85,
          5.78,
          5.84,
          6.27,
          5.92,
          6.09,
          6.01,
          null
         ],
         "yaxis": "y"
        },
        {
         "hovertemplate": "Country Code=LTU<br>Year=%{x}<br>Income Inequality=%{y}<extra></extra>",
         "legendgroup": "LTU",
         "line": {
          "color": "#19d3f3",
          "dash": "solid"
         },
         "mode": "lines",
         "name": "LTU",
         "orientation": "v",
         "showlegend": true,
         "type": "scatter",
         "x": [
          2009,
          2010,
          2011,
          2012,
          2013,
          2014,
          2015,
          2016,
          2017,
          2018,
          2019,
          2020
         ],
         "xaxis": "x",
         "y": [
          6.39,
          7.35,
          5.84,
          5.32,
          6.05,
          6.1,
          7.46,
          7.06,
          7.28,
          7.09,
          6.44,
          null
         ],
         "yaxis": "y"
        },
        {
         "hovertemplate": "Country Code=LUX<br>Year=%{x}<br>Income Inequality=%{y}<extra></extra>",
         "legendgroup": "LUX",
         "line": {
          "color": "#FF6692",
          "dash": "solid"
         },
         "mode": "lines",
         "name": "LUX",
         "orientation": "v",
         "showlegend": true,
         "type": "scatter",
         "x": [
          2009,
          2010,
          2011,
          2012,
          2013,
          2014,
          2015,
          2016,
          2017,
          2018,
          2019,
          2020
         ],
         "xaxis": "x",
         "y": [
          4.31,
          4.1,
          3.97,
          4.13,
          4.59,
          4.42,
          4.26,
          4.62,
          4.56,
          5.18,
          5.34,
          null
         ],
         "yaxis": "y"
        },
        {
         "hovertemplate": "Country Code=LVA<br>Year=%{x}<br>Income Inequality=%{y}<extra></extra>",
         "legendgroup": "LVA",
         "line": {
          "color": "#B6E880",
          "dash": "solid"
         },
         "mode": "lines",
         "name": "LVA",
         "orientation": "v",
         "showlegend": true,
         "type": "scatter",
         "x": [
          2009,
          2010,
          2011,
          2012,
          2013,
          2014,
          2015,
          2016,
          2017,
          2018,
          2019,
          2020
         ],
         "xaxis": "x",
         "y": [
          7.4,
          6.84,
          6.5,
          6.47,
          6.32,
          6.48,
          6.51,
          6.2,
          6.3,
          6.78,
          6.54,
          null
         ],
         "yaxis": "y"
        },
        {
         "hovertemplate": "Country Code=MNE<br>Year=%{x}<br>Income Inequality=%{y}<extra></extra>",
         "legendgroup": "MNE",
         "line": {
          "color": "#FF97FF",
          "dash": "solid"
         },
         "mode": "lines",
         "name": "MNE",
         "orientation": "v",
         "showlegend": true,
         "type": "scatter",
         "x": [
          2009,
          2010,
          2011,
          2012,
          2013,
          2014,
          2015,
          2016,
          2017,
          2018,
          2019,
          2020
         ],
         "xaxis": "x",
         "y": [
          null,
          null,
          null,
          null,
          8.54,
          7.27,
          7.48,
          7.38,
          7.57,
          7.37,
          6.72,
          null
         ],
         "yaxis": "y"
        },
        {
         "hovertemplate": "Country Code=MKD<br>Year=%{x}<br>Income Inequality=%{y}<extra></extra>",
         "legendgroup": "MKD",
         "line": {
          "color": "#FECB52",
          "dash": "solid"
         },
         "mode": "lines",
         "name": "MKD",
         "orientation": "v",
         "showlegend": true,
         "type": "scatter",
         "x": [
          2009,
          2010,
          2011,
          2012,
          2013,
          2014,
          2015,
          2016,
          2017,
          2018,
          2019,
          2020
         ],
         "xaxis": "x",
         "y": [
          null,
          null,
          null,
          10.2,
          8.37,
          7.22,
          6.62,
          6.63,
          6.38,
          6.16,
          5.56,
          null
         ],
         "yaxis": "y"
        },
        {
         "hovertemplate": "Country Code=MLT<br>Year=%{x}<br>Income Inequality=%{y}<extra></extra>",
         "legendgroup": "MLT",
         "line": {
          "color": "#636efa",
          "dash": "solid"
         },
         "mode": "lines",
         "name": "MLT",
         "orientation": "v",
         "showlegend": true,
         "type": "scatter",
         "x": [
          2009,
          2010,
          2011,
          2012,
          2013,
          2014,
          2015,
          2016,
          2017,
          2018,
          2019,
          2020
         ],
         "xaxis": "x",
         "y": [
          3.99,
          4.33,
          4.01,
          3.94,
          4.14,
          4.05,
          4.15,
          4.22,
          4.21,
          4.28,
          4.18,
          null
         ],
         "yaxis": "y"
        },
        {
         "hovertemplate": "Country Code=NLD<br>Year=%{x}<br>Income Inequality=%{y}<extra></extra>",
         "legendgroup": "NLD",
         "line": {
          "color": "#EF553B",
          "dash": "solid"
         },
         "mode": "lines",
         "name": "NLD",
         "orientation": "v",
         "showlegend": true,
         "type": "scatter",
         "x": [
          2009,
          2010,
          2011,
          2012,
          2013,
          2014,
          2015,
          2016,
          2017,
          2018,
          2019,
          2020
         ],
         "xaxis": "x",
         "y": [
          3.97,
          3.65,
          3.75,
          3.61,
          3.58,
          3.83,
          3.82,
          3.93,
          3.99,
          4.05,
          3.94,
          4.04
         ],
         "yaxis": "y"
        },
        {
         "hovertemplate": "Country Code=NOR<br>Year=%{x}<br>Income Inequality=%{y}<extra></extra>",
         "legendgroup": "NOR",
         "line": {
          "color": "#00cc96",
          "dash": "solid"
         },
         "mode": "lines",
         "name": "NOR",
         "orientation": "v",
         "showlegend": true,
         "type": "scatter",
         "x": [
          2009,
          2010,
          2011,
          2012,
          2013,
          2014,
          2015,
          2016,
          2017,
          2018,
          2019,
          2020
         ],
         "xaxis": "x",
         "y": [
          3.51,
          3.42,
          3.28,
          3.21,
          3.25,
          3.41,
          3.5,
          3.69,
          3.9,
          3.71,
          3.81,
          null
         ],
         "yaxis": "y"
        },
        {
         "hovertemplate": "Country Code=POL<br>Year=%{x}<br>Income Inequality=%{y}<extra></extra>",
         "legendgroup": "POL",
         "line": {
          "color": "#ab63fa",
          "dash": "solid"
         },
         "mode": "lines",
         "name": "POL",
         "orientation": "v",
         "showlegend": true,
         "type": "scatter",
         "x": [
          2009,
          2010,
          2011,
          2012,
          2013,
          2014,
          2015,
          2016,
          2017,
          2018,
          2019,
          2020
         ],
         "xaxis": "x",
         "y": [
          4.97,
          4.98,
          4.95,
          4.92,
          4.88,
          4.91,
          4.92,
          4.76,
          4.56,
          4.25,
          4.37,
          null
         ],
         "yaxis": "y"
        },
        {
         "hovertemplate": "Country Code=PRT<br>Year=%{x}<br>Income Inequality=%{y}<extra></extra>",
         "legendgroup": "PRT",
         "line": {
          "color": "#FFA15A",
          "dash": "solid"
         },
         "mode": "lines",
         "name": "PRT",
         "orientation": "v",
         "showlegend": true,
         "type": "scatter",
         "x": [
          2009,
          2010,
          2011,
          2012,
          2013,
          2014,
          2015,
          2016,
          2017,
          2018,
          2019,
          2020
         ],
         "xaxis": "x",
         "y": [
          6.01,
          5.56,
          5.68,
          5.82,
          6.01,
          6.23,
          6.01,
          5.88,
          5.75,
          5.22,
          5.16,
          null
         ],
         "yaxis": "y"
        },
        {
         "hovertemplate": "Country Code=ROU<br>Year=%{x}<br>Income Inequality=%{y}<extra></extra>",
         "legendgroup": "ROU",
         "line": {
          "color": "#19d3f3",
          "dash": "solid"
         },
         "mode": "lines",
         "name": "ROU",
         "orientation": "v",
         "showlegend": true,
         "type": "scatter",
         "x": [
          2009,
          2010,
          2011,
          2012,
          2013,
          2014,
          2015,
          2016,
          2017,
          2018,
          2019,
          2020
         ],
         "xaxis": "x",
         "y": [
          6.53,
          6.11,
          6.24,
          6.6,
          6.83,
          7.24,
          8.32,
          7.2,
          6.45,
          7.21,
          7.08,
          null
         ],
         "yaxis": "y"
        },
        {
         "hovertemplate": "Country Code=SRB<br>Year=%{x}<br>Income Inequality=%{y}<extra></extra>",
         "legendgroup": "SRB",
         "line": {
          "color": "#FF6692",
          "dash": "solid"
         },
         "mode": "lines",
         "name": "SRB",
         "orientation": "v",
         "showlegend": true,
         "type": "scatter",
         "x": [
          2009,
          2010,
          2011,
          2012,
          2013,
          2014,
          2015,
          2016,
          2017,
          2018,
          2019,
          2020
         ],
         "xaxis": "x",
         "y": [
          null,
          null,
          null,
          null,
          8.59,
          9.41,
          10.7,
          11.02,
          9.38,
          8.58,
          6.46,
          null
         ],
         "yaxis": "y"
        },
        {
         "hovertemplate": "Country Code=SWE<br>Year=%{x}<br>Income Inequality=%{y}<extra></extra>",
         "legendgroup": "SWE",
         "line": {
          "color": "#B6E880",
          "dash": "solid"
         },
         "mode": "lines",
         "name": "SWE",
         "orientation": "v",
         "showlegend": true,
         "type": "scatter",
         "x": [
          2009,
          2010,
          2011,
          2012,
          2013,
          2014,
          2015,
          2016,
          2017,
          2018,
          2019,
          2020
         ],
         "xaxis": "x",
         "y": [
          3.96,
          3.85,
          3.95,
          3.98,
          3.97,
          4.15,
          4.06,
          4.25,
          4.27,
          4.13,
          4.33,
          null
         ],
         "yaxis": "y"
        },
        {
         "hovertemplate": "Country Code=SVN<br>Year=%{x}<br>Income Inequality=%{y}<extra></extra>",
         "legendgroup": "SVN",
         "line": {
          "color": "#FF97FF",
          "dash": "solid"
         },
         "mode": "lines",
         "name": "SVN",
         "orientation": "v",
         "showlegend": true,
         "type": "scatter",
         "x": [
          2009,
          2010,
          2011,
          2012,
          2013,
          2014,
          2015,
          2016,
          2017,
          2018,
          2019,
          2020
         ],
         "xaxis": "x",
         "y": [
          3.24,
          3.42,
          3.46,
          3.44,
          3.6,
          3.7,
          3.6,
          3.56,
          3.42,
          3.38,
          3.39,
          null
         ],
         "yaxis": "y"
        },
        {
         "hovertemplate": "Country Code=SVK<br>Year=%{x}<br>Income Inequality=%{y}<extra></extra>",
         "legendgroup": "SVK",
         "line": {
          "color": "#FECB52",
          "dash": "solid"
         },
         "mode": "lines",
         "name": "SVK",
         "orientation": "v",
         "showlegend": true,
         "type": "scatter",
         "x": [
          2009,
          2010,
          2011,
          2012,
          2013,
          2014,
          2015,
          2016,
          2017,
          2018,
          2019,
          2020
         ],
         "xaxis": "x",
         "y": [
          3.56,
          3.8,
          3.81,
          3.73,
          3.58,
          3.93,
          3.54,
          3.63,
          3.49,
          3.03,
          3.34,
          null
         ],
         "yaxis": "y"
        },
        {
         "hovertemplate": "Country Code=TUR<br>Year=%{x}<br>Income Inequality=%{y}<extra></extra>",
         "legendgroup": "TUR",
         "line": {
          "color": "#636efa",
          "dash": "solid"
         },
         "mode": "lines",
         "name": "TUR",
         "orientation": "v",
         "showlegend": true,
         "type": "scatter",
         "x": [
          2009,
          2010,
          2011,
          2012,
          2013,
          2014,
          2015,
          2016,
          2017,
          2018,
          2019,
          2020
         ],
         "xaxis": "x",
         "y": [
          10.35,
          9.93,
          9.51,
          9.33,
          8.7,
          8.35,
          8.61,
          8.65,
          8.68,
          8.66,
          8.35,
          null
         ],
         "yaxis": "y"
        },
        {
         "hovertemplate": "Country Code=GBR<br>Year=%{x}<br>Income Inequality=%{y}<extra></extra>",
         "legendgroup": "GBR",
         "line": {
          "color": "#EF553B",
          "dash": "solid"
         },
         "mode": "lines",
         "name": "GBR",
         "orientation": "v",
         "showlegend": true,
         "type": "scatter",
         "x": [
          2009,
          2010,
          2011,
          2012,
          2013,
          2014,
          2015,
          2016,
          2017,
          2018,
          2019,
          2020
         ],
         "xaxis": "x",
         "y": [
          5.25,
          5.35,
          5.34,
          4.98,
          4.63,
          5.06,
          5.23,
          5.12,
          5.4,
          5.63,
          null,
          null
         ],
         "yaxis": "y"
        },
        {
         "hovertemplate": "Country Code=XKX<br>Year=%{x}<br>Income Inequality=%{y}<extra></extra>",
         "legendgroup": "XKX",
         "line": {
          "color": "#00cc96",
          "dash": "solid"
         },
         "mode": "lines",
         "name": "XKX",
         "orientation": "v",
         "showlegend": true,
         "type": "scatter",
         "x": [
          2009,
          2010,
          2011,
          2012,
          2013,
          2014,
          2015,
          2016,
          2017,
          2018,
          2019,
          2020
         ],
         "xaxis": "x",
         "y": [
          null,
          null,
          null,
          null,
          null,
          null,
          null,
          null,
          null,
          15.58,
          null,
          null
         ],
         "yaxis": "y"
        }
       ],
       "layout": {
        "legend": {
         "title": {
          "text": "Country Code"
         },
         "tracegroupgap": 0
        },
        "template": {
         "data": {
          "bar": [
           {
            "error_x": {
             "color": "#2a3f5f"
            },
            "error_y": {
             "color": "#2a3f5f"
            },
            "marker": {
             "line": {
              "color": "#E5ECF6",
              "width": 0.5
             }
            },
            "type": "bar"
           }
          ],
          "barpolar": [
           {
            "marker": {
             "line": {
              "color": "#E5ECF6",
              "width": 0.5
             }
            },
            "type": "barpolar"
           }
          ],
          "carpet": [
           {
            "aaxis": {
             "endlinecolor": "#2a3f5f",
             "gridcolor": "white",
             "linecolor": "white",
             "minorgridcolor": "white",
             "startlinecolor": "#2a3f5f"
            },
            "baxis": {
             "endlinecolor": "#2a3f5f",
             "gridcolor": "white",
             "linecolor": "white",
             "minorgridcolor": "white",
             "startlinecolor": "#2a3f5f"
            },
            "type": "carpet"
           }
          ],
          "choropleth": [
           {
            "colorbar": {
             "outlinewidth": 0,
             "ticks": ""
            },
            "type": "choropleth"
           }
          ],
          "contour": [
           {
            "colorbar": {
             "outlinewidth": 0,
             "ticks": ""
            },
            "colorscale": [
             [
              0,
              "#0d0887"
             ],
             [
              0.1111111111111111,
              "#46039f"
             ],
             [
              0.2222222222222222,
              "#7201a8"
             ],
             [
              0.3333333333333333,
              "#9c179e"
             ],
             [
              0.4444444444444444,
              "#bd3786"
             ],
             [
              0.5555555555555556,
              "#d8576b"
             ],
             [
              0.6666666666666666,
              "#ed7953"
             ],
             [
              0.7777777777777778,
              "#fb9f3a"
             ],
             [
              0.8888888888888888,
              "#fdca26"
             ],
             [
              1,
              "#f0f921"
             ]
            ],
            "type": "contour"
           }
          ],
          "contourcarpet": [
           {
            "colorbar": {
             "outlinewidth": 0,
             "ticks": ""
            },
            "type": "contourcarpet"
           }
          ],
          "heatmap": [
           {
            "colorbar": {
             "outlinewidth": 0,
             "ticks": ""
            },
            "colorscale": [
             [
              0,
              "#0d0887"
             ],
             [
              0.1111111111111111,
              "#46039f"
             ],
             [
              0.2222222222222222,
              "#7201a8"
             ],
             [
              0.3333333333333333,
              "#9c179e"
             ],
             [
              0.4444444444444444,
              "#bd3786"
             ],
             [
              0.5555555555555556,
              "#d8576b"
             ],
             [
              0.6666666666666666,
              "#ed7953"
             ],
             [
              0.7777777777777778,
              "#fb9f3a"
             ],
             [
              0.8888888888888888,
              "#fdca26"
             ],
             [
              1,
              "#f0f921"
             ]
            ],
            "type": "heatmap"
           }
          ],
          "heatmapgl": [
           {
            "colorbar": {
             "outlinewidth": 0,
             "ticks": ""
            },
            "colorscale": [
             [
              0,
              "#0d0887"
             ],
             [
              0.1111111111111111,
              "#46039f"
             ],
             [
              0.2222222222222222,
              "#7201a8"
             ],
             [
              0.3333333333333333,
              "#9c179e"
             ],
             [
              0.4444444444444444,
              "#bd3786"
             ],
             [
              0.5555555555555556,
              "#d8576b"
             ],
             [
              0.6666666666666666,
              "#ed7953"
             ],
             [
              0.7777777777777778,
              "#fb9f3a"
             ],
             [
              0.8888888888888888,
              "#fdca26"
             ],
             [
              1,
              "#f0f921"
             ]
            ],
            "type": "heatmapgl"
           }
          ],
          "histogram": [
           {
            "marker": {
             "colorbar": {
              "outlinewidth": 0,
              "ticks": ""
             }
            },
            "type": "histogram"
           }
          ],
          "histogram2d": [
           {
            "colorbar": {
             "outlinewidth": 0,
             "ticks": ""
            },
            "colorscale": [
             [
              0,
              "#0d0887"
             ],
             [
              0.1111111111111111,
              "#46039f"
             ],
             [
              0.2222222222222222,
              "#7201a8"
             ],
             [
              0.3333333333333333,
              "#9c179e"
             ],
             [
              0.4444444444444444,
              "#bd3786"
             ],
             [
              0.5555555555555556,
              "#d8576b"
             ],
             [
              0.6666666666666666,
              "#ed7953"
             ],
             [
              0.7777777777777778,
              "#fb9f3a"
             ],
             [
              0.8888888888888888,
              "#fdca26"
             ],
             [
              1,
              "#f0f921"
             ]
            ],
            "type": "histogram2d"
           }
          ],
          "histogram2dcontour": [
           {
            "colorbar": {
             "outlinewidth": 0,
             "ticks": ""
            },
            "colorscale": [
             [
              0,
              "#0d0887"
             ],
             [
              0.1111111111111111,
              "#46039f"
             ],
             [
              0.2222222222222222,
              "#7201a8"
             ],
             [
              0.3333333333333333,
              "#9c179e"
             ],
             [
              0.4444444444444444,
              "#bd3786"
             ],
             [
              0.5555555555555556,
              "#d8576b"
             ],
             [
              0.6666666666666666,
              "#ed7953"
             ],
             [
              0.7777777777777778,
              "#fb9f3a"
             ],
             [
              0.8888888888888888,
              "#fdca26"
             ],
             [
              1,
              "#f0f921"
             ]
            ],
            "type": "histogram2dcontour"
           }
          ],
          "mesh3d": [
           {
            "colorbar": {
             "outlinewidth": 0,
             "ticks": ""
            },
            "type": "mesh3d"
           }
          ],
          "parcoords": [
           {
            "line": {
             "colorbar": {
              "outlinewidth": 0,
              "ticks": ""
             }
            },
            "type": "parcoords"
           }
          ],
          "pie": [
           {
            "automargin": true,
            "type": "pie"
           }
          ],
          "scatter": [
           {
            "marker": {
             "colorbar": {
              "outlinewidth": 0,
              "ticks": ""
             }
            },
            "type": "scatter"
           }
          ],
          "scatter3d": [
           {
            "line": {
             "colorbar": {
              "outlinewidth": 0,
              "ticks": ""
             }
            },
            "marker": {
             "colorbar": {
              "outlinewidth": 0,
              "ticks": ""
             }
            },
            "type": "scatter3d"
           }
          ],
          "scattercarpet": [
           {
            "marker": {
             "colorbar": {
              "outlinewidth": 0,
              "ticks": ""
             }
            },
            "type": "scattercarpet"
           }
          ],
          "scattergeo": [
           {
            "marker": {
             "colorbar": {
              "outlinewidth": 0,
              "ticks": ""
             }
            },
            "type": "scattergeo"
           }
          ],
          "scattergl": [
           {
            "marker": {
             "colorbar": {
              "outlinewidth": 0,
              "ticks": ""
             }
            },
            "type": "scattergl"
           }
          ],
          "scattermapbox": [
           {
            "marker": {
             "colorbar": {
              "outlinewidth": 0,
              "ticks": ""
             }
            },
            "type": "scattermapbox"
           }
          ],
          "scatterpolar": [
           {
            "marker": {
             "colorbar": {
              "outlinewidth": 0,
              "ticks": ""
             }
            },
            "type": "scatterpolar"
           }
          ],
          "scatterpolargl": [
           {
            "marker": {
             "colorbar": {
              "outlinewidth": 0,
              "ticks": ""
             }
            },
            "type": "scatterpolargl"
           }
          ],
          "scatterternary": [
           {
            "marker": {
             "colorbar": {
              "outlinewidth": 0,
              "ticks": ""
             }
            },
            "type": "scatterternary"
           }
          ],
          "surface": [
           {
            "colorbar": {
             "outlinewidth": 0,
             "ticks": ""
            },
            "colorscale": [
             [
              0,
              "#0d0887"
             ],
             [
              0.1111111111111111,
              "#46039f"
             ],
             [
              0.2222222222222222,
              "#7201a8"
             ],
             [
              0.3333333333333333,
              "#9c179e"
             ],
             [
              0.4444444444444444,
              "#bd3786"
             ],
             [
              0.5555555555555556,
              "#d8576b"
             ],
             [
              0.6666666666666666,
              "#ed7953"
             ],
             [
              0.7777777777777778,
              "#fb9f3a"
             ],
             [
              0.8888888888888888,
              "#fdca26"
             ],
             [
              1,
              "#f0f921"
             ]
            ],
            "type": "surface"
           }
          ],
          "table": [
           {
            "cells": {
             "fill": {
              "color": "#EBF0F8"
             },
             "line": {
              "color": "white"
             }
            },
            "header": {
             "fill": {
              "color": "#C8D4E3"
             },
             "line": {
              "color": "white"
             }
            },
            "type": "table"
           }
          ]
         },
         "layout": {
          "annotationdefaults": {
           "arrowcolor": "#2a3f5f",
           "arrowhead": 0,
           "arrowwidth": 1
          },
          "autotypenumbers": "strict",
          "coloraxis": {
           "colorbar": {
            "outlinewidth": 0,
            "ticks": ""
           }
          },
          "colorscale": {
           "diverging": [
            [
             0,
             "#8e0152"
            ],
            [
             0.1,
             "#c51b7d"
            ],
            [
             0.2,
             "#de77ae"
            ],
            [
             0.3,
             "#f1b6da"
            ],
            [
             0.4,
             "#fde0ef"
            ],
            [
             0.5,
             "#f7f7f7"
            ],
            [
             0.6,
             "#e6f5d0"
            ],
            [
             0.7,
             "#b8e186"
            ],
            [
             0.8,
             "#7fbc41"
            ],
            [
             0.9,
             "#4d9221"
            ],
            [
             1,
             "#276419"
            ]
           ],
           "sequential": [
            [
             0,
             "#0d0887"
            ],
            [
             0.1111111111111111,
             "#46039f"
            ],
            [
             0.2222222222222222,
             "#7201a8"
            ],
            [
             0.3333333333333333,
             "#9c179e"
            ],
            [
             0.4444444444444444,
             "#bd3786"
            ],
            [
             0.5555555555555556,
             "#d8576b"
            ],
            [
             0.6666666666666666,
             "#ed7953"
            ],
            [
             0.7777777777777778,
             "#fb9f3a"
            ],
            [
             0.8888888888888888,
             "#fdca26"
            ],
            [
             1,
             "#f0f921"
            ]
           ],
           "sequentialminus": [
            [
             0,
             "#0d0887"
            ],
            [
             0.1111111111111111,
             "#46039f"
            ],
            [
             0.2222222222222222,
             "#7201a8"
            ],
            [
             0.3333333333333333,
             "#9c179e"
            ],
            [
             0.4444444444444444,
             "#bd3786"
            ],
            [
             0.5555555555555556,
             "#d8576b"
            ],
            [
             0.6666666666666666,
             "#ed7953"
            ],
            [
             0.7777777777777778,
             "#fb9f3a"
            ],
            [
             0.8888888888888888,
             "#fdca26"
            ],
            [
             1,
             "#f0f921"
            ]
           ]
          },
          "colorway": [
           "#636efa",
           "#EF553B",
           "#00cc96",
           "#ab63fa",
           "#FFA15A",
           "#19d3f3",
           "#FF6692",
           "#B6E880",
           "#FF97FF",
           "#FECB52"
          ],
          "font": {
           "color": "#2a3f5f"
          },
          "geo": {
           "bgcolor": "white",
           "lakecolor": "white",
           "landcolor": "#E5ECF6",
           "showlakes": true,
           "showland": true,
           "subunitcolor": "white"
          },
          "hoverlabel": {
           "align": "left"
          },
          "hovermode": "closest",
          "mapbox": {
           "style": "light"
          },
          "paper_bgcolor": "white",
          "plot_bgcolor": "#E5ECF6",
          "polar": {
           "angularaxis": {
            "gridcolor": "white",
            "linecolor": "white",
            "ticks": ""
           },
           "bgcolor": "#E5ECF6",
           "radialaxis": {
            "gridcolor": "white",
            "linecolor": "white",
            "ticks": ""
           }
          },
          "scene": {
           "xaxis": {
            "backgroundcolor": "#E5ECF6",
            "gridcolor": "white",
            "gridwidth": 2,
            "linecolor": "white",
            "showbackground": true,
            "ticks": "",
            "zerolinecolor": "white"
           },
           "yaxis": {
            "backgroundcolor": "#E5ECF6",
            "gridcolor": "white",
            "gridwidth": 2,
            "linecolor": "white",
            "showbackground": true,
            "ticks": "",
            "zerolinecolor": "white"
           },
           "zaxis": {
            "backgroundcolor": "#E5ECF6",
            "gridcolor": "white",
            "gridwidth": 2,
            "linecolor": "white",
            "showbackground": true,
            "ticks": "",
            "zerolinecolor": "white"
           }
          },
          "shapedefaults": {
           "line": {
            "color": "#2a3f5f"
           }
          },
          "ternary": {
           "aaxis": {
            "gridcolor": "white",
            "linecolor": "white",
            "ticks": ""
           },
           "baxis": {
            "gridcolor": "white",
            "linecolor": "white",
            "ticks": ""
           },
           "bgcolor": "#E5ECF6",
           "caxis": {
            "gridcolor": "white",
            "linecolor": "white",
            "ticks": ""
           }
          },
          "title": {
           "x": 0.05
          },
          "xaxis": {
           "automargin": true,
           "gridcolor": "white",
           "linecolor": "white",
           "ticks": "",
           "title": {
            "standoff": 15
           },
           "zerolinecolor": "white",
           "zerolinewidth": 2
          },
          "yaxis": {
           "automargin": true,
           "gridcolor": "white",
           "linecolor": "white",
           "ticks": "",
           "title": {
            "standoff": 15
           },
           "zerolinecolor": "white",
           "zerolinewidth": 2
          }
         }
        },
        "title": {
         "text": "Income Inequality"
        },
        "xaxis": {
         "anchor": "y",
         "domain": [
          0,
          1
         ],
         "title": {
          "text": "Year"
         }
        },
        "yaxis": {
         "anchor": "x",
         "domain": [
          0,
          1
         ],
         "title": {
          "text": "Income Inequality"
         }
        }
       }
      },
      "text/html": [
       "<div>                            <div id=\"eeb1c428-73bd-4fc7-b697-d4909686ed86\" class=\"plotly-graph-div\" style=\"height:525px; width:100%;\"></div>            <script type=\"text/javascript\">                require([\"plotly\"], function(Plotly) {                    window.PLOTLYENV=window.PLOTLYENV || {};                                    if (document.getElementById(\"eeb1c428-73bd-4fc7-b697-d4909686ed86\")) {                    Plotly.newPlot(                        \"eeb1c428-73bd-4fc7-b697-d4909686ed86\",                        [{\"hovertemplate\": \"Country Code=AUT<br>Year=%{x}<br>Income Inequality=%{y}<extra></extra>\", \"legendgroup\": \"AUT\", \"line\": {\"color\": \"#636efa\", \"dash\": \"solid\"}, \"mode\": \"lines\", \"name\": \"AUT\", \"orientation\": \"v\", \"showlegend\": true, \"type\": \"scatter\", \"x\": [2009, 2010, 2011, 2012, 2013, 2014, 2015, 2016, 2017, 2018, 2019, 2020], \"xaxis\": \"x\", \"y\": [4.15, 4.34, 4.12, 4.2, 4.11, 4.13, 4.05, 4.09, 4.29, 4.04, 4.17, null], \"yaxis\": \"y\"}, {\"hovertemplate\": \"Country Code=BEL<br>Year=%{x}<br>Income Inequality=%{y}<extra></extra>\", \"legendgroup\": \"BEL\", \"line\": {\"color\": \"#EF553B\", \"dash\": \"solid\"}, \"mode\": \"lines\", \"name\": \"BEL\", \"orientation\": \"v\", \"showlegend\": true, \"type\": \"scatter\", \"x\": [2009, 2010, 2011, 2012, 2013, 2014, 2015, 2016, 2017, 2018, 2019, 2020], \"xaxis\": \"x\", \"y\": [3.91, 3.92, 3.86, 3.95, 3.81, 3.81, 3.83, 3.85, 3.84, 3.79, 3.61, null], \"yaxis\": \"y\"}, {\"hovertemplate\": \"Country Code=BGR<br>Year=%{x}<br>Income Inequality=%{y}<extra></extra>\", \"legendgroup\": \"BGR\", \"line\": {\"color\": \"#00cc96\", \"dash\": \"solid\"}, \"mode\": \"lines\", \"name\": \"BGR\", \"orientation\": \"v\", \"showlegend\": true, \"type\": \"scatter\", \"x\": [2009, 2010, 2011, 2012, 2013, 2014, 2015, 2016, 2017, 2018, 2019, 2020], \"xaxis\": \"x\", \"y\": [5.91, 5.86, 6.46, 6.12, 6.59, 6.81, 7.11, 7.69, 8.23, 7.66, 8.1, 8.01], \"yaxis\": \"y\"}, {\"hovertemplate\": \"Country Code=CHE<br>Year=%{x}<br>Income Inequality=%{y}<extra></extra>\", \"legendgroup\": \"CHE\", \"line\": {\"color\": \"#ab63fa\", \"dash\": \"solid\"}, \"mode\": \"lines\", \"name\": \"CHE\", \"orientation\": \"v\", \"showlegend\": true, \"type\": \"scatter\", \"x\": [2009, 2010, 2011, 2012, 2013, 2014, 2015, 2016, 2017, 2018, 2019, 2020], \"xaxis\": \"x\", \"y\": [4.76, 4.48, 4.52, 4.4, 4.22, 4.42, 4.48, 4.42, 4.63, 4.5, 4.75, null], \"yaxis\": \"y\"}, {\"hovertemplate\": \"Country Code=CYP<br>Year=%{x}<br>Income Inequality=%{y}<extra></extra>\", \"legendgroup\": \"CYP\", \"line\": {\"color\": \"#FFA15A\", \"dash\": \"solid\"}, \"mode\": \"lines\", \"name\": \"CYP\", \"orientation\": \"v\", \"showlegend\": true, \"type\": \"scatter\", \"x\": [2009, 2010, 2011, 2012, 2013, 2014, 2015, 2016, 2017, 2018, 2019, 2020], \"xaxis\": \"x\", \"y\": [4.37, 4.54, 4.34, 4.67, 4.91, 5.37, 5.2, 4.88, 4.56, 4.29, 4.58, null], \"yaxis\": \"y\"}, {\"hovertemplate\": \"Country Code=CZE<br>Year=%{x}<br>Income Inequality=%{y}<extra></extra>\", \"legendgroup\": \"CZE\", \"line\": {\"color\": \"#19d3f3\", \"dash\": \"solid\"}, \"mode\": \"lines\", \"name\": \"CZE\", \"orientation\": \"v\", \"showlegend\": true, \"type\": \"scatter\", \"x\": [2009, 2010, 2011, 2012, 2013, 2014, 2015, 2016, 2017, 2018, 2019, 2020], \"xaxis\": \"x\", \"y\": [3.47, 3.47, 3.54, 3.49, 3.4, 3.5, 3.51, 3.5, 3.4, 3.32, 3.34, null], \"yaxis\": \"y\"}, {\"hovertemplate\": \"Country Code=DEU<br>Year=%{x}<br>Income Inequality=%{y}<extra></extra>\", \"legendgroup\": \"DEU\", \"line\": {\"color\": \"#FF6692\", \"dash\": \"solid\"}, \"mode\": \"lines\", \"name\": \"DEU\", \"orientation\": \"v\", \"showlegend\": true, \"type\": \"scatter\", \"x\": [2009, 2010, 2011, 2012, 2013, 2014, 2015, 2016, 2017, 2018, 2019, 2020], \"xaxis\": \"x\", \"y\": [4.48, 4.49, 4.46, 4.3, 4.6, 5.12, 4.8, 4.62, 4.49, 5.07, 4.89, null], \"yaxis\": \"y\"}, {\"hovertemplate\": \"Country Code=DNK<br>Year=%{x}<br>Income Inequality=%{y}<extra></extra>\", \"legendgroup\": \"DNK\", \"line\": {\"color\": \"#B6E880\", \"dash\": \"solid\"}, \"mode\": \"lines\", \"name\": \"DNK\", \"orientation\": \"v\", \"showlegend\": true, \"type\": \"scatter\", \"x\": [2009, 2010, 2011, 2012, 2013, 2014, 2015, 2016, 2017, 2018, 2019, 2020], \"xaxis\": \"x\", \"y\": [4.61, 4.41, 3.98, 3.94, 4.01, 4.12, 4.08, 4.06, 4.08, 4.11, 4.09, null], \"yaxis\": \"y\"}, {\"hovertemplate\": \"Country Code=EA<br>Year=%{x}<br>Income Inequality=%{y}<extra></extra>\", \"legendgroup\": \"EA\", \"line\": {\"color\": \"#FF97FF\", \"dash\": \"solid\"}, \"mode\": \"lines\", \"name\": \"EA\", \"orientation\": \"v\", \"showlegend\": true, \"type\": \"scatter\", \"x\": [2009, 2010, 2011, 2012, 2013, 2014, 2015, 2016, 2017, 2018, 2019, 2020], \"xaxis\": \"x\", \"y\": [4.82, 4.86, 4.98, 4.97, 5.04, 5.22, 5.16, 5.15, 5.05, 5.07, 4.98, null], \"yaxis\": \"y\"}, {\"hovertemplate\": \"Country Code=EA18<br>Year=%{x}<br>Income Inequality=%{y}<extra></extra>\", \"legendgroup\": \"EA18\", \"line\": {\"color\": \"#FECB52\", \"dash\": \"solid\"}, \"mode\": \"lines\", \"name\": \"EA18\", \"orientation\": \"v\", \"showlegend\": true, \"type\": \"scatter\", \"x\": [2009, 2010, 2011, 2012, 2013, 2014, 2015, 2016, 2017, 2018, 2019, 2020], \"xaxis\": \"x\", \"y\": [4.84, 4.87, 4.99, 4.97, 5.04, 5.22, 5.14, 5.14, 5.03, 5.05, 4.97, null], \"yaxis\": \"y\"}, {\"hovertemplate\": \"Country Code=EA19<br>Year=%{x}<br>Income Inequality=%{y}<extra></extra>\", \"legendgroup\": \"EA19\", \"line\": {\"color\": \"#636efa\", \"dash\": \"solid\"}, \"mode\": \"lines\", \"name\": \"EA19\", \"orientation\": \"v\", \"showlegend\": true, \"type\": \"scatter\", \"x\": [2009, 2010, 2011, 2012, 2013, 2014, 2015, 2016, 2017, 2018, 2019, 2020], \"xaxis\": \"x\", \"y\": [4.85, 4.9, 5.0, 4.98, 5.05, 5.23, 5.16, 5.15, 5.05, 5.07, 4.98, null], \"yaxis\": \"y\"}, {\"hovertemplate\": \"Country Code=EST<br>Year=%{x}<br>Income Inequality=%{y}<extra></extra>\", \"legendgroup\": \"EST\", \"line\": {\"color\": \"#EF553B\", \"dash\": \"solid\"}, \"mode\": \"lines\", \"name\": \"EST\", \"orientation\": \"v\", \"showlegend\": true, \"type\": \"scatter\", \"x\": [2009, 2010, 2011, 2012, 2013, 2014, 2015, 2016, 2017, 2018, 2019, 2020], \"xaxis\": \"x\", \"y\": [5.01, 5.01, 5.35, 5.41, 5.54, 6.48, 6.21, 5.56, 5.42, 5.07, 5.08, null], \"yaxis\": \"y\"}, {\"hovertemplate\": \"Country Code=GRC<br>Year=%{x}<br>Income Inequality=%{y}<extra></extra>\", \"legendgroup\": \"GRC\", \"line\": {\"color\": \"#00cc96\", \"dash\": \"solid\"}, \"mode\": \"lines\", \"name\": \"GRC\", \"orientation\": \"v\", \"showlegend\": true, \"type\": \"scatter\", \"x\": [2009, 2010, 2011, 2012, 2013, 2014, 2015, 2016, 2017, 2018, 2019, 2020], \"xaxis\": \"x\", \"y\": [5.76, 5.61, 5.96, 6.63, 6.6, 6.46, 6.51, 6.55, 6.11, 5.51, 5.11, null], \"yaxis\": \"y\"}, {\"hovertemplate\": \"Country Code=ESP<br>Year=%{x}<br>Income Inequality=%{y}<extra></extra>\", \"legendgroup\": \"ESP\", \"line\": {\"color\": \"#ab63fa\", \"dash\": \"solid\"}, \"mode\": \"lines\", \"name\": \"ESP\", \"orientation\": \"v\", \"showlegend\": true, \"type\": \"scatter\", \"x\": [2009, 2010, 2011, 2012, 2013, 2014, 2015, 2016, 2017, 2018, 2019, 2020], \"xaxis\": \"x\", \"y\": [5.87, 6.16, 6.28, 6.47, 6.29, 6.81, 6.87, 6.6, 6.59, 6.03, 5.94, null], \"yaxis\": \"y\"}, {\"hovertemplate\": \"Country Code=EU<br>Year=%{x}<br>Income Inequality=%{y}<extra></extra>\", \"legendgroup\": \"EU\", \"line\": {\"color\": \"#FFA15A\", \"dash\": \"solid\"}, \"mode\": \"lines\", \"name\": \"EU\", \"orientation\": \"v\", \"showlegend\": true, \"type\": \"scatter\", \"x\": [2009, 2010, 2011, 2012, 2013, 2014, 2015, 2016, 2017, 2018, 2019, 2020], \"xaxis\": \"x\", \"y\": [4.92, 4.94, 5.03, 4.98, 5.0, 5.2, 5.22, 5.16, 5.08, 5.12, 5.09, null], \"yaxis\": \"y\"}, {\"hovertemplate\": \"Country Code=EU27_2007<br>Year=%{x}<br>Income Inequality=%{y}<extra></extra>\", \"legendgroup\": \"EU27_2007\", \"line\": {\"color\": \"#19d3f3\", \"dash\": \"solid\"}, \"mode\": \"lines\", \"name\": \"EU27_2007\", \"orientation\": \"v\", \"showlegend\": true, \"type\": \"scatter\", \"x\": [2009, 2010, 2011, 2012, 2013, 2014, 2015, 2016, 2017, 2018, 2019, 2020], \"xaxis\": \"x\", \"y\": [4.92, 4.94, 5.03, 4.98, 5.0, 5.2, 5.22, 5.16, 5.08, 5.12, null, null], \"yaxis\": \"y\"}, {\"hovertemplate\": \"Country Code=EU27_2020<br>Year=%{x}<br>Income Inequality=%{y}<extra></extra>\", \"legendgroup\": \"EU27_2020\", \"line\": {\"color\": \"#FF6692\", \"dash\": \"solid\"}, \"mode\": \"lines\", \"name\": \"EU27_2020\", \"orientation\": \"v\", \"showlegend\": true, \"type\": \"scatter\", \"x\": [2009, 2010, 2011, 2012, 2013, 2014, 2015, 2016, 2017, 2018, 2019, 2020], \"xaxis\": \"x\", \"y\": [null, 4.89, 4.99, 4.98, 5.05, 5.22, 5.22, 5.16, 5.03, 5.05, 4.99, null], \"yaxis\": \"y\"}, {\"hovertemplate\": \"Country Code=EU28<br>Year=%{x}<br>Income Inequality=%{y}<extra></extra>\", \"legendgroup\": \"EU28\", \"line\": {\"color\": \"#B6E880\", \"dash\": \"solid\"}, \"mode\": \"lines\", \"name\": \"EU28\", \"orientation\": \"v\", \"showlegend\": true, \"type\": \"scatter\", \"x\": [2009, 2010, 2011, 2012, 2013, 2014, 2015, 2016, 2017, 2018, 2019, 2020], \"xaxis\": \"x\", \"y\": [null, 4.94, 5.03, 4.98, 5.0, 5.2, 5.22, 5.16, 5.08, 5.12, 5.09, null], \"yaxis\": \"y\"}, {\"hovertemplate\": \"Country Code=FIN<br>Year=%{x}<br>Income Inequality=%{y}<extra></extra>\", \"legendgroup\": \"FIN\", \"line\": {\"color\": \"#FF97FF\", \"dash\": \"solid\"}, \"mode\": \"lines\", \"name\": \"FIN\", \"orientation\": \"v\", \"showlegend\": true, \"type\": \"scatter\", \"x\": [2009, 2010, 2011, 2012, 2013, 2014, 2015, 2016, 2017, 2018, 2019, 2020], \"xaxis\": \"x\", \"y\": [3.71, 3.61, 3.69, 3.69, 3.59, 3.62, 3.56, 3.58, 3.54, 3.65, 3.69, 3.72], \"yaxis\": \"y\"}, {\"hovertemplate\": \"Country Code=FRA<br>Year=%{x}<br>Income Inequality=%{y}<extra></extra>\", \"legendgroup\": \"FRA\", \"line\": {\"color\": \"#FECB52\", \"dash\": \"solid\"}, \"mode\": \"lines\", \"name\": \"FRA\", \"orientation\": \"v\", \"showlegend\": true, \"type\": \"scatter\", \"x\": [2009, 2010, 2011, 2012, 2013, 2014, 2015, 2016, 2017, 2018, 2019, 2020], \"xaxis\": \"x\", \"y\": [4.42, 4.43, 4.61, 4.54, 4.48, 4.27, 4.29, 4.32, 4.31, 4.23, 4.27, null], \"yaxis\": \"y\"}, {\"hovertemplate\": \"Country Code=HRV<br>Year=%{x}<br>Income Inequality=%{y}<extra></extra>\", \"legendgroup\": \"HRV\", \"line\": {\"color\": \"#636efa\", \"dash\": \"solid\"}, \"mode\": \"lines\", \"name\": \"HRV\", \"orientation\": \"v\", \"showlegend\": true, \"type\": \"scatter\", \"x\": [2009, 2010, 2011, 2012, 2013, 2014, 2015, 2016, 2017, 2018, 2019, 2020], \"xaxis\": \"x\", \"y\": [null, 5.54, 5.58, 5.36, 5.34, 5.12, 5.16, 5.0, 5.03, 5.0, 4.76, null], \"yaxis\": \"y\"}, {\"hovertemplate\": \"Country Code=HUN<br>Year=%{x}<br>Income Inequality=%{y}<extra></extra>\", \"legendgroup\": \"HUN\", \"line\": {\"color\": \"#EF553B\", \"dash\": \"solid\"}, \"mode\": \"lines\", \"name\": \"HUN\", \"orientation\": \"v\", \"showlegend\": true, \"type\": \"scatter\", \"x\": [2009, 2010, 2011, 2012, 2013, 2014, 2015, 2016, 2017, 2018, 2019, 2020], \"xaxis\": \"x\", \"y\": [3.51, 3.41, 3.94, 4.0, 4.29, 4.33, 4.3, 4.26, 4.27, 4.35, 4.23, null], \"yaxis\": \"y\"}, {\"hovertemplate\": \"Country Code=IRL<br>Year=%{x}<br>Income Inequality=%{y}<extra></extra>\", \"legendgroup\": \"IRL\", \"line\": {\"color\": \"#00cc96\", \"dash\": \"solid\"}, \"mode\": \"lines\", \"name\": \"IRL\", \"orientation\": \"v\", \"showlegend\": true, \"type\": \"scatter\", \"x\": [2009, 2010, 2011, 2012, 2013, 2014, 2015, 2016, 2017, 2018, 2019, 2020], \"xaxis\": \"x\", \"y\": [4.24, 4.7, 4.63, 4.82, 4.73, 4.9, 4.5, 4.45, 4.63, 4.23, 4.03, null], \"yaxis\": \"y\"}, {\"hovertemplate\": \"Country Code=ISL<br>Year=%{x}<br>Income Inequality=%{y}<extra></extra>\", \"legendgroup\": \"ISL\", \"line\": {\"color\": \"#ab63fa\", \"dash\": \"solid\"}, \"mode\": \"lines\", \"name\": \"ISL\", \"orientation\": \"v\", \"showlegend\": true, \"type\": \"scatter\", \"x\": [2009, 2010, 2011, 2012, 2013, 2014, 2015, 2016, 2017, 2018, 2019, 2020], \"xaxis\": \"x\", \"y\": [4.22, 3.61, 3.32, 3.36, 3.36, 3.12, 3.43, 3.33, 3.59, 3.21, null, null], \"yaxis\": \"y\"}, {\"hovertemplate\": \"Country Code=ITA<br>Year=%{x}<br>Income Inequality=%{y}<extra></extra>\", \"legendgroup\": \"ITA\", \"line\": {\"color\": \"#FFA15A\", \"dash\": \"solid\"}, \"mode\": \"lines\", \"name\": \"ITA\", \"orientation\": \"v\", \"showlegend\": true, \"type\": \"scatter\", \"x\": [2009, 2010, 2011, 2012, 2013, 2014, 2015, 2016, 2017, 2018, 2019, 2020], \"xaxis\": \"x\", \"y\": [5.31, 5.38, 5.73, 5.64, 5.85, 5.78, 5.84, 6.27, 5.92, 6.09, 6.01, null], \"yaxis\": \"y\"}, {\"hovertemplate\": \"Country Code=LTU<br>Year=%{x}<br>Income Inequality=%{y}<extra></extra>\", \"legendgroup\": \"LTU\", \"line\": {\"color\": \"#19d3f3\", \"dash\": \"solid\"}, \"mode\": \"lines\", \"name\": \"LTU\", \"orientation\": \"v\", \"showlegend\": true, \"type\": \"scatter\", \"x\": [2009, 2010, 2011, 2012, 2013, 2014, 2015, 2016, 2017, 2018, 2019, 2020], \"xaxis\": \"x\", \"y\": [6.39, 7.35, 5.84, 5.32, 6.05, 6.1, 7.46, 7.06, 7.28, 7.09, 6.44, null], \"yaxis\": \"y\"}, {\"hovertemplate\": \"Country Code=LUX<br>Year=%{x}<br>Income Inequality=%{y}<extra></extra>\", \"legendgroup\": \"LUX\", \"line\": {\"color\": \"#FF6692\", \"dash\": \"solid\"}, \"mode\": \"lines\", \"name\": \"LUX\", \"orientation\": \"v\", \"showlegend\": true, \"type\": \"scatter\", \"x\": [2009, 2010, 2011, 2012, 2013, 2014, 2015, 2016, 2017, 2018, 2019, 2020], \"xaxis\": \"x\", \"y\": [4.31, 4.1, 3.97, 4.13, 4.59, 4.42, 4.26, 4.62, 4.56, 5.18, 5.34, null], \"yaxis\": \"y\"}, {\"hovertemplate\": \"Country Code=LVA<br>Year=%{x}<br>Income Inequality=%{y}<extra></extra>\", \"legendgroup\": \"LVA\", \"line\": {\"color\": \"#B6E880\", \"dash\": \"solid\"}, \"mode\": \"lines\", \"name\": \"LVA\", \"orientation\": \"v\", \"showlegend\": true, \"type\": \"scatter\", \"x\": [2009, 2010, 2011, 2012, 2013, 2014, 2015, 2016, 2017, 2018, 2019, 2020], \"xaxis\": \"x\", \"y\": [7.4, 6.84, 6.5, 6.47, 6.32, 6.48, 6.51, 6.2, 6.3, 6.78, 6.54, null], \"yaxis\": \"y\"}, {\"hovertemplate\": \"Country Code=MNE<br>Year=%{x}<br>Income Inequality=%{y}<extra></extra>\", \"legendgroup\": \"MNE\", \"line\": {\"color\": \"#FF97FF\", \"dash\": \"solid\"}, \"mode\": \"lines\", \"name\": \"MNE\", \"orientation\": \"v\", \"showlegend\": true, \"type\": \"scatter\", \"x\": [2009, 2010, 2011, 2012, 2013, 2014, 2015, 2016, 2017, 2018, 2019, 2020], \"xaxis\": \"x\", \"y\": [null, null, null, null, 8.54, 7.27, 7.48, 7.38, 7.57, 7.37, 6.72, null], \"yaxis\": \"y\"}, {\"hovertemplate\": \"Country Code=MKD<br>Year=%{x}<br>Income Inequality=%{y}<extra></extra>\", \"legendgroup\": \"MKD\", \"line\": {\"color\": \"#FECB52\", \"dash\": \"solid\"}, \"mode\": \"lines\", \"name\": \"MKD\", \"orientation\": \"v\", \"showlegend\": true, \"type\": \"scatter\", \"x\": [2009, 2010, 2011, 2012, 2013, 2014, 2015, 2016, 2017, 2018, 2019, 2020], \"xaxis\": \"x\", \"y\": [null, null, null, 10.2, 8.37, 7.22, 6.62, 6.63, 6.38, 6.16, 5.56, null], \"yaxis\": \"y\"}, {\"hovertemplate\": \"Country Code=MLT<br>Year=%{x}<br>Income Inequality=%{y}<extra></extra>\", \"legendgroup\": \"MLT\", \"line\": {\"color\": \"#636efa\", \"dash\": \"solid\"}, \"mode\": \"lines\", \"name\": \"MLT\", \"orientation\": \"v\", \"showlegend\": true, \"type\": \"scatter\", \"x\": [2009, 2010, 2011, 2012, 2013, 2014, 2015, 2016, 2017, 2018, 2019, 2020], \"xaxis\": \"x\", \"y\": [3.99, 4.33, 4.01, 3.94, 4.14, 4.05, 4.15, 4.22, 4.21, 4.28, 4.18, null], \"yaxis\": \"y\"}, {\"hovertemplate\": \"Country Code=NLD<br>Year=%{x}<br>Income Inequality=%{y}<extra></extra>\", \"legendgroup\": \"NLD\", \"line\": {\"color\": \"#EF553B\", \"dash\": \"solid\"}, \"mode\": \"lines\", \"name\": \"NLD\", \"orientation\": \"v\", \"showlegend\": true, \"type\": \"scatter\", \"x\": [2009, 2010, 2011, 2012, 2013, 2014, 2015, 2016, 2017, 2018, 2019, 2020], \"xaxis\": \"x\", \"y\": [3.97, 3.65, 3.75, 3.61, 3.58, 3.83, 3.82, 3.93, 3.99, 4.05, 3.94, 4.04], \"yaxis\": \"y\"}, {\"hovertemplate\": \"Country Code=NOR<br>Year=%{x}<br>Income Inequality=%{y}<extra></extra>\", \"legendgroup\": \"NOR\", \"line\": {\"color\": \"#00cc96\", \"dash\": \"solid\"}, \"mode\": \"lines\", \"name\": \"NOR\", \"orientation\": \"v\", \"showlegend\": true, \"type\": \"scatter\", \"x\": [2009, 2010, 2011, 2012, 2013, 2014, 2015, 2016, 2017, 2018, 2019, 2020], \"xaxis\": \"x\", \"y\": [3.51, 3.42, 3.28, 3.21, 3.25, 3.41, 3.5, 3.69, 3.9, 3.71, 3.81, null], \"yaxis\": \"y\"}, {\"hovertemplate\": \"Country Code=POL<br>Year=%{x}<br>Income Inequality=%{y}<extra></extra>\", \"legendgroup\": \"POL\", \"line\": {\"color\": \"#ab63fa\", \"dash\": \"solid\"}, \"mode\": \"lines\", \"name\": \"POL\", \"orientation\": \"v\", \"showlegend\": true, \"type\": \"scatter\", \"x\": [2009, 2010, 2011, 2012, 2013, 2014, 2015, 2016, 2017, 2018, 2019, 2020], \"xaxis\": \"x\", \"y\": [4.97, 4.98, 4.95, 4.92, 4.88, 4.91, 4.92, 4.76, 4.56, 4.25, 4.37, null], \"yaxis\": \"y\"}, {\"hovertemplate\": \"Country Code=PRT<br>Year=%{x}<br>Income Inequality=%{y}<extra></extra>\", \"legendgroup\": \"PRT\", \"line\": {\"color\": \"#FFA15A\", \"dash\": \"solid\"}, \"mode\": \"lines\", \"name\": \"PRT\", \"orientation\": \"v\", \"showlegend\": true, \"type\": \"scatter\", \"x\": [2009, 2010, 2011, 2012, 2013, 2014, 2015, 2016, 2017, 2018, 2019, 2020], \"xaxis\": \"x\", \"y\": [6.01, 5.56, 5.68, 5.82, 6.01, 6.23, 6.01, 5.88, 5.75, 5.22, 5.16, null], \"yaxis\": \"y\"}, {\"hovertemplate\": \"Country Code=ROU<br>Year=%{x}<br>Income Inequality=%{y}<extra></extra>\", \"legendgroup\": \"ROU\", \"line\": {\"color\": \"#19d3f3\", \"dash\": \"solid\"}, \"mode\": \"lines\", \"name\": \"ROU\", \"orientation\": \"v\", \"showlegend\": true, \"type\": \"scatter\", \"x\": [2009, 2010, 2011, 2012, 2013, 2014, 2015, 2016, 2017, 2018, 2019, 2020], \"xaxis\": \"x\", \"y\": [6.53, 6.11, 6.24, 6.6, 6.83, 7.24, 8.32, 7.2, 6.45, 7.21, 7.08, null], \"yaxis\": \"y\"}, {\"hovertemplate\": \"Country Code=SRB<br>Year=%{x}<br>Income Inequality=%{y}<extra></extra>\", \"legendgroup\": \"SRB\", \"line\": {\"color\": \"#FF6692\", \"dash\": \"solid\"}, \"mode\": \"lines\", \"name\": \"SRB\", \"orientation\": \"v\", \"showlegend\": true, \"type\": \"scatter\", \"x\": [2009, 2010, 2011, 2012, 2013, 2014, 2015, 2016, 2017, 2018, 2019, 2020], \"xaxis\": \"x\", \"y\": [null, null, null, null, 8.59, 9.41, 10.7, 11.02, 9.38, 8.58, 6.46, null], \"yaxis\": \"y\"}, {\"hovertemplate\": \"Country Code=SWE<br>Year=%{x}<br>Income Inequality=%{y}<extra></extra>\", \"legendgroup\": \"SWE\", \"line\": {\"color\": \"#B6E880\", \"dash\": \"solid\"}, \"mode\": \"lines\", \"name\": \"SWE\", \"orientation\": \"v\", \"showlegend\": true, \"type\": \"scatter\", \"x\": [2009, 2010, 2011, 2012, 2013, 2014, 2015, 2016, 2017, 2018, 2019, 2020], \"xaxis\": \"x\", \"y\": [3.96, 3.85, 3.95, 3.98, 3.97, 4.15, 4.06, 4.25, 4.27, 4.13, 4.33, null], \"yaxis\": \"y\"}, {\"hovertemplate\": \"Country Code=SVN<br>Year=%{x}<br>Income Inequality=%{y}<extra></extra>\", \"legendgroup\": \"SVN\", \"line\": {\"color\": \"#FF97FF\", \"dash\": \"solid\"}, \"mode\": \"lines\", \"name\": \"SVN\", \"orientation\": \"v\", \"showlegend\": true, \"type\": \"scatter\", \"x\": [2009, 2010, 2011, 2012, 2013, 2014, 2015, 2016, 2017, 2018, 2019, 2020], \"xaxis\": \"x\", \"y\": [3.24, 3.42, 3.46, 3.44, 3.6, 3.7, 3.6, 3.56, 3.42, 3.38, 3.39, null], \"yaxis\": \"y\"}, {\"hovertemplate\": \"Country Code=SVK<br>Year=%{x}<br>Income Inequality=%{y}<extra></extra>\", \"legendgroup\": \"SVK\", \"line\": {\"color\": \"#FECB52\", \"dash\": \"solid\"}, \"mode\": \"lines\", \"name\": \"SVK\", \"orientation\": \"v\", \"showlegend\": true, \"type\": \"scatter\", \"x\": [2009, 2010, 2011, 2012, 2013, 2014, 2015, 2016, 2017, 2018, 2019, 2020], \"xaxis\": \"x\", \"y\": [3.56, 3.8, 3.81, 3.73, 3.58, 3.93, 3.54, 3.63, 3.49, 3.03, 3.34, null], \"yaxis\": \"y\"}, {\"hovertemplate\": \"Country Code=TUR<br>Year=%{x}<br>Income Inequality=%{y}<extra></extra>\", \"legendgroup\": \"TUR\", \"line\": {\"color\": \"#636efa\", \"dash\": \"solid\"}, \"mode\": \"lines\", \"name\": \"TUR\", \"orientation\": \"v\", \"showlegend\": true, \"type\": \"scatter\", \"x\": [2009, 2010, 2011, 2012, 2013, 2014, 2015, 2016, 2017, 2018, 2019, 2020], \"xaxis\": \"x\", \"y\": [10.35, 9.93, 9.51, 9.33, 8.7, 8.35, 8.61, 8.65, 8.68, 8.66, 8.35, null], \"yaxis\": \"y\"}, {\"hovertemplate\": \"Country Code=GBR<br>Year=%{x}<br>Income Inequality=%{y}<extra></extra>\", \"legendgroup\": \"GBR\", \"line\": {\"color\": \"#EF553B\", \"dash\": \"solid\"}, \"mode\": \"lines\", \"name\": \"GBR\", \"orientation\": \"v\", \"showlegend\": true, \"type\": \"scatter\", \"x\": [2009, 2010, 2011, 2012, 2013, 2014, 2015, 2016, 2017, 2018, 2019, 2020], \"xaxis\": \"x\", \"y\": [5.25, 5.35, 5.34, 4.98, 4.63, 5.06, 5.23, 5.12, 5.4, 5.63, null, null], \"yaxis\": \"y\"}, {\"hovertemplate\": \"Country Code=XKX<br>Year=%{x}<br>Income Inequality=%{y}<extra></extra>\", \"legendgroup\": \"XKX\", \"line\": {\"color\": \"#00cc96\", \"dash\": \"solid\"}, \"mode\": \"lines\", \"name\": \"XKX\", \"orientation\": \"v\", \"showlegend\": true, \"type\": \"scatter\", \"x\": [2009, 2010, 2011, 2012, 2013, 2014, 2015, 2016, 2017, 2018, 2019, 2020], \"xaxis\": \"x\", \"y\": [null, null, null, null, null, null, null, null, null, 15.58, null, null], \"yaxis\": \"y\"}],                        {\"legend\": {\"title\": {\"text\": \"Country Code\"}, \"tracegroupgap\": 0}, \"template\": {\"data\": {\"bar\": [{\"error_x\": {\"color\": \"#2a3f5f\"}, \"error_y\": {\"color\": \"#2a3f5f\"}, \"marker\": {\"line\": {\"color\": \"#E5ECF6\", \"width\": 0.5}}, \"type\": \"bar\"}], \"barpolar\": [{\"marker\": {\"line\": {\"color\": \"#E5ECF6\", \"width\": 0.5}}, \"type\": \"barpolar\"}], \"carpet\": [{\"aaxis\": {\"endlinecolor\": \"#2a3f5f\", \"gridcolor\": \"white\", \"linecolor\": \"white\", \"minorgridcolor\": \"white\", \"startlinecolor\": \"#2a3f5f\"}, \"baxis\": {\"endlinecolor\": \"#2a3f5f\", \"gridcolor\": \"white\", \"linecolor\": \"white\", \"minorgridcolor\": \"white\", \"startlinecolor\": \"#2a3f5f\"}, \"type\": \"carpet\"}], \"choropleth\": [{\"colorbar\": {\"outlinewidth\": 0, \"ticks\": \"\"}, \"type\": \"choropleth\"}], \"contour\": [{\"colorbar\": {\"outlinewidth\": 0, \"ticks\": \"\"}, \"colorscale\": [[0.0, \"#0d0887\"], [0.1111111111111111, \"#46039f\"], [0.2222222222222222, \"#7201a8\"], [0.3333333333333333, \"#9c179e\"], [0.4444444444444444, \"#bd3786\"], [0.5555555555555556, \"#d8576b\"], [0.6666666666666666, \"#ed7953\"], [0.7777777777777778, \"#fb9f3a\"], [0.8888888888888888, \"#fdca26\"], [1.0, \"#f0f921\"]], \"type\": \"contour\"}], \"contourcarpet\": [{\"colorbar\": {\"outlinewidth\": 0, \"ticks\": \"\"}, \"type\": \"contourcarpet\"}], \"heatmap\": [{\"colorbar\": {\"outlinewidth\": 0, \"ticks\": \"\"}, \"colorscale\": [[0.0, \"#0d0887\"], [0.1111111111111111, \"#46039f\"], [0.2222222222222222, \"#7201a8\"], [0.3333333333333333, \"#9c179e\"], [0.4444444444444444, \"#bd3786\"], [0.5555555555555556, \"#d8576b\"], [0.6666666666666666, \"#ed7953\"], [0.7777777777777778, \"#fb9f3a\"], [0.8888888888888888, \"#fdca26\"], [1.0, \"#f0f921\"]], \"type\": \"heatmap\"}], \"heatmapgl\": [{\"colorbar\": {\"outlinewidth\": 0, \"ticks\": \"\"}, \"colorscale\": [[0.0, \"#0d0887\"], [0.1111111111111111, \"#46039f\"], [0.2222222222222222, \"#7201a8\"], [0.3333333333333333, \"#9c179e\"], [0.4444444444444444, \"#bd3786\"], [0.5555555555555556, \"#d8576b\"], [0.6666666666666666, \"#ed7953\"], [0.7777777777777778, \"#fb9f3a\"], [0.8888888888888888, \"#fdca26\"], [1.0, \"#f0f921\"]], \"type\": \"heatmapgl\"}], \"histogram\": [{\"marker\": {\"colorbar\": {\"outlinewidth\": 0, \"ticks\": \"\"}}, \"type\": \"histogram\"}], \"histogram2d\": [{\"colorbar\": {\"outlinewidth\": 0, \"ticks\": \"\"}, \"colorscale\": [[0.0, \"#0d0887\"], [0.1111111111111111, \"#46039f\"], [0.2222222222222222, \"#7201a8\"], [0.3333333333333333, \"#9c179e\"], [0.4444444444444444, \"#bd3786\"], [0.5555555555555556, \"#d8576b\"], [0.6666666666666666, \"#ed7953\"], [0.7777777777777778, \"#fb9f3a\"], [0.8888888888888888, \"#fdca26\"], [1.0, \"#f0f921\"]], \"type\": \"histogram2d\"}], \"histogram2dcontour\": [{\"colorbar\": {\"outlinewidth\": 0, \"ticks\": \"\"}, \"colorscale\": [[0.0, \"#0d0887\"], [0.1111111111111111, \"#46039f\"], [0.2222222222222222, \"#7201a8\"], [0.3333333333333333, \"#9c179e\"], [0.4444444444444444, \"#bd3786\"], [0.5555555555555556, \"#d8576b\"], [0.6666666666666666, \"#ed7953\"], [0.7777777777777778, \"#fb9f3a\"], [0.8888888888888888, \"#fdca26\"], [1.0, \"#f0f921\"]], \"type\": \"histogram2dcontour\"}], \"mesh3d\": [{\"colorbar\": {\"outlinewidth\": 0, \"ticks\": \"\"}, \"type\": \"mesh3d\"}], \"parcoords\": [{\"line\": {\"colorbar\": {\"outlinewidth\": 0, \"ticks\": \"\"}}, \"type\": \"parcoords\"}], \"pie\": [{\"automargin\": true, \"type\": \"pie\"}], \"scatter\": [{\"marker\": {\"colorbar\": {\"outlinewidth\": 0, \"ticks\": \"\"}}, \"type\": \"scatter\"}], \"scatter3d\": [{\"line\": {\"colorbar\": {\"outlinewidth\": 0, \"ticks\": \"\"}}, \"marker\": {\"colorbar\": {\"outlinewidth\": 0, \"ticks\": \"\"}}, \"type\": \"scatter3d\"}], \"scattercarpet\": [{\"marker\": {\"colorbar\": {\"outlinewidth\": 0, \"ticks\": \"\"}}, \"type\": \"scattercarpet\"}], \"scattergeo\": [{\"marker\": {\"colorbar\": {\"outlinewidth\": 0, \"ticks\": \"\"}}, \"type\": \"scattergeo\"}], \"scattergl\": [{\"marker\": {\"colorbar\": {\"outlinewidth\": 0, \"ticks\": \"\"}}, \"type\": \"scattergl\"}], \"scattermapbox\": [{\"marker\": {\"colorbar\": {\"outlinewidth\": 0, \"ticks\": \"\"}}, \"type\": \"scattermapbox\"}], \"scatterpolar\": [{\"marker\": {\"colorbar\": {\"outlinewidth\": 0, \"ticks\": \"\"}}, \"type\": \"scatterpolar\"}], \"scatterpolargl\": [{\"marker\": {\"colorbar\": {\"outlinewidth\": 0, \"ticks\": \"\"}}, \"type\": \"scatterpolargl\"}], \"scatterternary\": [{\"marker\": {\"colorbar\": {\"outlinewidth\": 0, \"ticks\": \"\"}}, \"type\": \"scatterternary\"}], \"surface\": [{\"colorbar\": {\"outlinewidth\": 0, \"ticks\": \"\"}, \"colorscale\": [[0.0, \"#0d0887\"], [0.1111111111111111, \"#46039f\"], [0.2222222222222222, \"#7201a8\"], [0.3333333333333333, \"#9c179e\"], [0.4444444444444444, \"#bd3786\"], [0.5555555555555556, \"#d8576b\"], [0.6666666666666666, \"#ed7953\"], [0.7777777777777778, \"#fb9f3a\"], [0.8888888888888888, \"#fdca26\"], [1.0, \"#f0f921\"]], \"type\": \"surface\"}], \"table\": [{\"cells\": {\"fill\": {\"color\": \"#EBF0F8\"}, \"line\": {\"color\": \"white\"}}, \"header\": {\"fill\": {\"color\": \"#C8D4E3\"}, \"line\": {\"color\": \"white\"}}, \"type\": \"table\"}]}, \"layout\": {\"annotationdefaults\": {\"arrowcolor\": \"#2a3f5f\", \"arrowhead\": 0, \"arrowwidth\": 1}, \"autotypenumbers\": \"strict\", \"coloraxis\": {\"colorbar\": {\"outlinewidth\": 0, \"ticks\": \"\"}}, \"colorscale\": {\"diverging\": [[0, \"#8e0152\"], [0.1, \"#c51b7d\"], [0.2, \"#de77ae\"], [0.3, \"#f1b6da\"], [0.4, \"#fde0ef\"], [0.5, \"#f7f7f7\"], [0.6, \"#e6f5d0\"], [0.7, \"#b8e186\"], [0.8, \"#7fbc41\"], [0.9, \"#4d9221\"], [1, \"#276419\"]], \"sequential\": [[0.0, \"#0d0887\"], [0.1111111111111111, \"#46039f\"], [0.2222222222222222, \"#7201a8\"], [0.3333333333333333, \"#9c179e\"], [0.4444444444444444, \"#bd3786\"], [0.5555555555555556, \"#d8576b\"], [0.6666666666666666, \"#ed7953\"], [0.7777777777777778, \"#fb9f3a\"], [0.8888888888888888, \"#fdca26\"], [1.0, \"#f0f921\"]], \"sequentialminus\": [[0.0, \"#0d0887\"], [0.1111111111111111, \"#46039f\"], [0.2222222222222222, \"#7201a8\"], [0.3333333333333333, \"#9c179e\"], [0.4444444444444444, \"#bd3786\"], [0.5555555555555556, \"#d8576b\"], [0.6666666666666666, \"#ed7953\"], [0.7777777777777778, \"#fb9f3a\"], [0.8888888888888888, \"#fdca26\"], [1.0, \"#f0f921\"]]}, \"colorway\": [\"#636efa\", \"#EF553B\", \"#00cc96\", \"#ab63fa\", \"#FFA15A\", \"#19d3f3\", \"#FF6692\", \"#B6E880\", \"#FF97FF\", \"#FECB52\"], \"font\": {\"color\": \"#2a3f5f\"}, \"geo\": {\"bgcolor\": \"white\", \"lakecolor\": \"white\", \"landcolor\": \"#E5ECF6\", \"showlakes\": true, \"showland\": true, \"subunitcolor\": \"white\"}, \"hoverlabel\": {\"align\": \"left\"}, \"hovermode\": \"closest\", \"mapbox\": {\"style\": \"light\"}, \"paper_bgcolor\": \"white\", \"plot_bgcolor\": \"#E5ECF6\", \"polar\": {\"angularaxis\": {\"gridcolor\": \"white\", \"linecolor\": \"white\", \"ticks\": \"\"}, \"bgcolor\": \"#E5ECF6\", \"radialaxis\": {\"gridcolor\": \"white\", \"linecolor\": \"white\", \"ticks\": \"\"}}, \"scene\": {\"xaxis\": {\"backgroundcolor\": \"#E5ECF6\", \"gridcolor\": \"white\", \"gridwidth\": 2, \"linecolor\": \"white\", \"showbackground\": true, \"ticks\": \"\", \"zerolinecolor\": \"white\"}, \"yaxis\": {\"backgroundcolor\": \"#E5ECF6\", \"gridcolor\": \"white\", \"gridwidth\": 2, \"linecolor\": \"white\", \"showbackground\": true, \"ticks\": \"\", \"zerolinecolor\": \"white\"}, \"zaxis\": {\"backgroundcolor\": \"#E5ECF6\", \"gridcolor\": \"white\", \"gridwidth\": 2, \"linecolor\": \"white\", \"showbackground\": true, \"ticks\": \"\", \"zerolinecolor\": \"white\"}}, \"shapedefaults\": {\"line\": {\"color\": \"#2a3f5f\"}}, \"ternary\": {\"aaxis\": {\"gridcolor\": \"white\", \"linecolor\": \"white\", \"ticks\": \"\"}, \"baxis\": {\"gridcolor\": \"white\", \"linecolor\": \"white\", \"ticks\": \"\"}, \"bgcolor\": \"#E5ECF6\", \"caxis\": {\"gridcolor\": \"white\", \"linecolor\": \"white\", \"ticks\": \"\"}}, \"title\": {\"x\": 0.05}, \"xaxis\": {\"automargin\": true, \"gridcolor\": \"white\", \"linecolor\": \"white\", \"ticks\": \"\", \"title\": {\"standoff\": 15}, \"zerolinecolor\": \"white\", \"zerolinewidth\": 2}, \"yaxis\": {\"automargin\": true, \"gridcolor\": \"white\", \"linecolor\": \"white\", \"ticks\": \"\", \"title\": {\"standoff\": 15}, \"zerolinecolor\": \"white\", \"zerolinewidth\": 2}}}, \"title\": {\"text\": \"Income Inequality\"}, \"xaxis\": {\"anchor\": \"y\", \"domain\": [0.0, 1.0], \"title\": {\"text\": \"Year\"}}, \"yaxis\": {\"anchor\": \"x\", \"domain\": [0.0, 1.0], \"title\": {\"text\": \"Income Inequality\"}}},                        {\"responsive\": true}                    ).then(function(){\n",
       "                            \n",
       "var gd = document.getElementById('eeb1c428-73bd-4fc7-b697-d4909686ed86');\n",
       "var x = new MutationObserver(function (mutations, observer) {{\n",
       "        var display = window.getComputedStyle(gd).display;\n",
       "        if (!display || display === 'none') {{\n",
       "            console.log([gd, 'removed!']);\n",
       "            Plotly.purge(gd);\n",
       "            observer.disconnect();\n",
       "        }}\n",
       "}});\n",
       "\n",
       "// Listen for the removal of the full notebook cells\n",
       "var notebookContainer = gd.closest('#notebook-container');\n",
       "if (notebookContainer) {{\n",
       "    x.observe(notebookContainer, {childList: true});\n",
       "}}\n",
       "\n",
       "// Listen for the clearing of the current output cell\n",
       "var outputEl = gd.closest('.output');\n",
       "if (outputEl) {{\n",
       "    x.observe(outputEl, {childList: true});\n",
       "}}\n",
       "\n",
       "                        })                };                });            </script>        </div>"
      ]
     },
     "metadata": {},
     "output_type": "display_data"
    }
   ],
   "source": [
    "# line graph for incomne inequality of all countries\n",
    "\n",
    "fig = px.line(df, x=\"Year\", y=\"Income Inequality\", title='Income Inequality', color=\"Country Code\")\n",
    "fig.show()"
   ]
  },
  {
   "cell_type": "code",
   "execution_count": 43,
   "metadata": {},
   "outputs": [],
   "source": [
    "a = []\n",
    "\n",
    "for i in range(12):\n",
    "    \n",
    "    a.append(i)"
   ]
  },
  {
   "cell_type": "code",
   "execution_count": 44,
   "metadata": {},
   "outputs": [],
   "source": [
    "Year = ['2009', '2010', '2011', '2012', '2013', '2014', '2015', '2016', '2017', '2018', '2019','2020']"
   ]
  },
  {
   "cell_type": "code",
   "execution_count": 46,
   "metadata": {},
   "outputs": [
    {
     "data": {
      "image/png": "[encoded data removed]",
      "text/plain": [
       "<Figure size 864x576 with 1 Axes>"
      ]
     },
     "metadata": {
      "needs_background": "light"
     },
     "output_type": "display_data"
    }
   ],
   "source": [
    "# interquartile range plot for all countries between 2009 and 2020\n",
    "\n",
    "def formatting(ax):\n",
    "    ax.set_xlabel('Year',fontsize = 20 )\n",
    "    ax.set_ylabel('Income Inequality (%)',fontsize = 20)\n",
    "    ax.tick_params(labelsize=14)\n",
    "    ax.set_title('Interquartile Ranges (IQRs)', fontsize = 30)\n",
    "    return ax\n",
    "\n",
    "\n",
    "\n",
    "fig = plt.figure(figsize = [12, 8])\n",
    "ax = fig.add_subplot(111)\n",
    "\n",
    "\n",
    "plt.errorbar(Year,  mean, yerr=[abs(mean - np.array(Q1)), abs(mean - np.array(Q3))], fmt='o', color = 'orange', capsize = 5, label = 'IQR')\n",
    "\n",
    "\n",
    "ax.legend(prop={'size': 20})\n",
    "ax = formatting(ax)\n",
    "plt.show()"
   ]
  }
 ],
 "metadata": {
  "kernelspec": {
   "display_name": "Python 3",
   "language": "python",
   "name": "python3"
  },
  "language_info": {
   "codemirror_mode": {
    "name": "ipython",
    "version": 3
   },
   "file_extension": ".py",
   "mimetype": "text/x-python",
   "name": "python",
   "nbconvert_exporter": "python",
   "pygments_lexer": "ipython3",
   "version": "3.7.1"
  }
 },
 "nbformat": 4,
 "nbformat_minor": 2
}
